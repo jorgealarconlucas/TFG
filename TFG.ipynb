{
  "cells": [
    {
      "cell_type": "markdown",
      "metadata": {
        "id": "view-in-github",
        "colab_type": "text"
      },
      "source": [
        "<a href=\"https://colab.research.google.com/github/jorgealarconlucas/TFG/blob/master/TFG.ipynb\" target=\"_parent\"><img src=\"https://colab.research.google.com/assets/colab-badge.svg\" alt=\"Open In Colab\"/></a>"
      ]
    },
    {
      "cell_type": "markdown",
      "metadata": {
        "id": "yDyA2RstGhpr"
      },
      "source": [
        "# <center> Trabajo Fin de Grado </center> \n",
        "## <center> Análisis de la evolución de los Parámetros del Hemograma utilizando Random Forest en Pacientes Infectados con SARS-CoV-2  </center> \n",
        "#### <center> *Jorge Alarcón Lucas* </center>"
      ]
    },
    {
      "cell_type": "markdown",
      "metadata": {
        "id": "NCbwqC55eHR2"
      },
      "source": [
        "El objetivo de estudio se centra en estudiar de manera evolutiva qué variables obtenidas por medio de hemogramas y qué variables relacionadas con la coagulación son especialmente importantes para el diagnóstico preventivo de infección SARS-CoV2. Para ello el target será el estado de \"FALLECE\" y \"UCI\" del paciente. "
      ]
    },
    {
      "cell_type": "code",
      "execution_count": 1,
      "metadata": {
        "id": "ph71cMkkGbMy"
      },
      "outputs": [],
      "source": [
        "import pandas as pd\n",
        "import numpy as np\n",
        "import statistics as stats\n",
        "import seaborn as sns\n",
        "import matplotlib\n",
        "from matplotlib import pyplot as plt\n",
        "import scipy.stats as ss\n",
        "import statistics as stats\n",
        "import seaborn as sns \n",
        "from pandas.plotting import autocorrelation_plot\n",
        "from sklearn.model_selection import train_test_split\n",
        "from sklearn.tree import export_graphviz\n",
        "from six import StringIO\n",
        "from IPython.display import Image  \n",
        "import pydotplus\n",
        "from sklearn.model_selection import  GridSearchCV\n",
        "from sklearn.ensemble import RandomForestClassifier\n",
        "from sklearn.metrics import accuracy_score,recall_score, precision_score, confusion_matrix\n",
        "from sklearn.feature_selection import SelectFromModel\n",
        "from sklearn.model_selection import cross_val_score"
      ]
    },
    {
      "cell_type": "markdown",
      "metadata": {
        "id": "VO0q8CkOHab-"
      },
      "source": [
        "# 1. Visualización de datos "
      ]
    },
    {
      "cell_type": "code",
      "execution_count": 2,
      "metadata": {
        "id": "P6Qyq0itogEC"
      },
      "outputs": [],
      "source": [
        "#from google.colab import drive\n",
        "#drive.mount('/content/drive')"
      ]
    },
    {
      "cell_type": "markdown",
      "metadata": {
        "id": "6on9wYyFAtgR"
      },
      "source": [
        "Antes de entrenar un modelo predictivo, o antes de realizar cualquier cálculo con un nuevo conjunto de datos, es muy importante realizar un análisis descriptivo de los mismos. De esta forma, entender mejor la información que contiene cada variable y detectar posibles errores."
      ]
    },
    {
      "cell_type": "code",
      "execution_count": 3,
      "metadata": {
        "colab": {
          "base_uri": "https://localhost:8080/",
          "height": 446
        },
        "id": "lM8e7dLWoS-U",
        "outputId": "2ba31d89-f0a7-4e3d-85f9-a54d6ba145c4",
        "scrolled": true
      },
      "outputs": [
        {
          "output_type": "execute_result",
          "data": {
            "text/plain": [
              "     Número  Repetición NHC  Código Externo  FALLECE  UCI  Día del Año 19nCv  \\\n",
              "0     221.0               4          111561      NaN  NaN           90   NaN   \n",
              "1     319.0              13          102441      NaN  NaN          100   NaN   \n",
              "2     368.0              16          102441      NaN  NaN          104   NaN   \n",
              "3    1759.0               9          104851      NaN  NaN          238   NaN   \n",
              "4  265277.0               7           11258      NaN  NaN           91   NaN   \n",
              "5  325932.0              11          115555      NaN  NaN           98   NaN   \n",
              "6  366742.0               5          111520      NaN  NaN           83   NaN   \n",
              "7  374616.0               6          116651      NaN  NaN           97   NaN   \n",
              "\n",
              "   Día de POSITIVO  Días respecto a Positivo     Fecha  ... ESSYS ASLYP  \\\n",
              "0              NaN                       NaN  30/03/20  ...   NaN   NaN   \n",
              "1              NaN                       NaN   9/04/20  ...   NaN   NaN   \n",
              "2              NaN                       NaN  13/04/20  ...   NaN   NaN   \n",
              "3              NaN                       NaN  25/08/20  ...   NaN   NaN   \n",
              "4              NaN                       NaN  31/03/20  ...   NaN     0   \n",
              "5              NaN                       NaN   7/04/20  ...   NaN     0   \n",
              "6              NaN                       NaN  23/03/20  ...   NaN     0   \n",
              "7              NaN                       NaN   6/04/20  ...   NaN     0   \n",
              "\n",
              "   ASLYA RELPL  RELYP  RELYA  NEUGI NEURI ASLPL 19nCv.1  \n",
              "0    NaN   NaN    NaN    NaN    NaN   NaN   NaN     NaN  \n",
              "1    NaN   NaN    NaN    NaN    NaN   NaN   NaN     NaN  \n",
              "2    NaN   NaN    NaN    NaN    NaN   NaN   NaN     NaN  \n",
              "3    NaN   NaN    NaN    NaN    NaN   NaN   NaN     NaN  \n",
              "4      0   5,7    2,3   0,13  154,8  50,2     0     NaN  \n",
              "5      0   6,6    2,1   0,15  147,1  47,8     0     NaN  \n",
              "6      0   5,4    1,8   0,13  152,6  49,9     0     NaN  \n",
              "7      0  11,5      5   0,25    150  52,7     0     NaN  \n",
              "\n",
              "[8 rows x 137 columns]"
            ],
            "text/html": [
              "\n",
              "  <div id=\"df-458f8905-78b1-4de9-b324-cfa1e804199b\">\n",
              "    <div class=\"colab-df-container\">\n",
              "      <div>\n",
              "<style scoped>\n",
              "    .dataframe tbody tr th:only-of-type {\n",
              "        vertical-align: middle;\n",
              "    }\n",
              "\n",
              "    .dataframe tbody tr th {\n",
              "        vertical-align: top;\n",
              "    }\n",
              "\n",
              "    .dataframe thead th {\n",
              "        text-align: right;\n",
              "    }\n",
              "</style>\n",
              "<table border=\"1\" class=\"dataframe\">\n",
              "  <thead>\n",
              "    <tr style=\"text-align: right;\">\n",
              "      <th></th>\n",
              "      <th>Número</th>\n",
              "      <th>Repetición NHC</th>\n",
              "      <th>Código Externo</th>\n",
              "      <th>FALLECE</th>\n",
              "      <th>UCI</th>\n",
              "      <th>Día del Año</th>\n",
              "      <th>19nCv</th>\n",
              "      <th>Día de POSITIVO</th>\n",
              "      <th>Días respecto a Positivo</th>\n",
              "      <th>Fecha</th>\n",
              "      <th>...</th>\n",
              "      <th>ESSYS</th>\n",
              "      <th>ASLYP</th>\n",
              "      <th>ASLYA</th>\n",
              "      <th>RELPL</th>\n",
              "      <th>RELYP</th>\n",
              "      <th>RELYA</th>\n",
              "      <th>NEUGI</th>\n",
              "      <th>NEURI</th>\n",
              "      <th>ASLPL</th>\n",
              "      <th>19nCv.1</th>\n",
              "    </tr>\n",
              "  </thead>\n",
              "  <tbody>\n",
              "    <tr>\n",
              "      <th>0</th>\n",
              "      <td>221.0</td>\n",
              "      <td>4</td>\n",
              "      <td>111561</td>\n",
              "      <td>NaN</td>\n",
              "      <td>NaN</td>\n",
              "      <td>90</td>\n",
              "      <td>NaN</td>\n",
              "      <td>NaN</td>\n",
              "      <td>NaN</td>\n",
              "      <td>30/03/20</td>\n",
              "      <td>...</td>\n",
              "      <td>NaN</td>\n",
              "      <td>NaN</td>\n",
              "      <td>NaN</td>\n",
              "      <td>NaN</td>\n",
              "      <td>NaN</td>\n",
              "      <td>NaN</td>\n",
              "      <td>NaN</td>\n",
              "      <td>NaN</td>\n",
              "      <td>NaN</td>\n",
              "      <td>NaN</td>\n",
              "    </tr>\n",
              "    <tr>\n",
              "      <th>1</th>\n",
              "      <td>319.0</td>\n",
              "      <td>13</td>\n",
              "      <td>102441</td>\n",
              "      <td>NaN</td>\n",
              "      <td>NaN</td>\n",
              "      <td>100</td>\n",
              "      <td>NaN</td>\n",
              "      <td>NaN</td>\n",
              "      <td>NaN</td>\n",
              "      <td>9/04/20</td>\n",
              "      <td>...</td>\n",
              "      <td>NaN</td>\n",
              "      <td>NaN</td>\n",
              "      <td>NaN</td>\n",
              "      <td>NaN</td>\n",
              "      <td>NaN</td>\n",
              "      <td>NaN</td>\n",
              "      <td>NaN</td>\n",
              "      <td>NaN</td>\n",
              "      <td>NaN</td>\n",
              "      <td>NaN</td>\n",
              "    </tr>\n",
              "    <tr>\n",
              "      <th>2</th>\n",
              "      <td>368.0</td>\n",
              "      <td>16</td>\n",
              "      <td>102441</td>\n",
              "      <td>NaN</td>\n",
              "      <td>NaN</td>\n",
              "      <td>104</td>\n",
              "      <td>NaN</td>\n",
              "      <td>NaN</td>\n",
              "      <td>NaN</td>\n",
              "      <td>13/04/20</td>\n",
              "      <td>...</td>\n",
              "      <td>NaN</td>\n",
              "      <td>NaN</td>\n",
              "      <td>NaN</td>\n",
              "      <td>NaN</td>\n",
              "      <td>NaN</td>\n",
              "      <td>NaN</td>\n",
              "      <td>NaN</td>\n",
              "      <td>NaN</td>\n",
              "      <td>NaN</td>\n",
              "      <td>NaN</td>\n",
              "    </tr>\n",
              "    <tr>\n",
              "      <th>3</th>\n",
              "      <td>1759.0</td>\n",
              "      <td>9</td>\n",
              "      <td>104851</td>\n",
              "      <td>NaN</td>\n",
              "      <td>NaN</td>\n",
              "      <td>238</td>\n",
              "      <td>NaN</td>\n",
              "      <td>NaN</td>\n",
              "      <td>NaN</td>\n",
              "      <td>25/08/20</td>\n",
              "      <td>...</td>\n",
              "      <td>NaN</td>\n",
              "      <td>NaN</td>\n",
              "      <td>NaN</td>\n",
              "      <td>NaN</td>\n",
              "      <td>NaN</td>\n",
              "      <td>NaN</td>\n",
              "      <td>NaN</td>\n",
              "      <td>NaN</td>\n",
              "      <td>NaN</td>\n",
              "      <td>NaN</td>\n",
              "    </tr>\n",
              "    <tr>\n",
              "      <th>4</th>\n",
              "      <td>265277.0</td>\n",
              "      <td>7</td>\n",
              "      <td>11258</td>\n",
              "      <td>NaN</td>\n",
              "      <td>NaN</td>\n",
              "      <td>91</td>\n",
              "      <td>NaN</td>\n",
              "      <td>NaN</td>\n",
              "      <td>NaN</td>\n",
              "      <td>31/03/20</td>\n",
              "      <td>...</td>\n",
              "      <td>NaN</td>\n",
              "      <td>0</td>\n",
              "      <td>0</td>\n",
              "      <td>5,7</td>\n",
              "      <td>2,3</td>\n",
              "      <td>0,13</td>\n",
              "      <td>154,8</td>\n",
              "      <td>50,2</td>\n",
              "      <td>0</td>\n",
              "      <td>NaN</td>\n",
              "    </tr>\n",
              "    <tr>\n",
              "      <th>5</th>\n",
              "      <td>325932.0</td>\n",
              "      <td>11</td>\n",
              "      <td>115555</td>\n",
              "      <td>NaN</td>\n",
              "      <td>NaN</td>\n",
              "      <td>98</td>\n",
              "      <td>NaN</td>\n",
              "      <td>NaN</td>\n",
              "      <td>NaN</td>\n",
              "      <td>7/04/20</td>\n",
              "      <td>...</td>\n",
              "      <td>NaN</td>\n",
              "      <td>0</td>\n",
              "      <td>0</td>\n",
              "      <td>6,6</td>\n",
              "      <td>2,1</td>\n",
              "      <td>0,15</td>\n",
              "      <td>147,1</td>\n",
              "      <td>47,8</td>\n",
              "      <td>0</td>\n",
              "      <td>NaN</td>\n",
              "    </tr>\n",
              "    <tr>\n",
              "      <th>6</th>\n",
              "      <td>366742.0</td>\n",
              "      <td>5</td>\n",
              "      <td>111520</td>\n",
              "      <td>NaN</td>\n",
              "      <td>NaN</td>\n",
              "      <td>83</td>\n",
              "      <td>NaN</td>\n",
              "      <td>NaN</td>\n",
              "      <td>NaN</td>\n",
              "      <td>23/03/20</td>\n",
              "      <td>...</td>\n",
              "      <td>NaN</td>\n",
              "      <td>0</td>\n",
              "      <td>0</td>\n",
              "      <td>5,4</td>\n",
              "      <td>1,8</td>\n",
              "      <td>0,13</td>\n",
              "      <td>152,6</td>\n",
              "      <td>49,9</td>\n",
              "      <td>0</td>\n",
              "      <td>NaN</td>\n",
              "    </tr>\n",
              "    <tr>\n",
              "      <th>7</th>\n",
              "      <td>374616.0</td>\n",
              "      <td>6</td>\n",
              "      <td>116651</td>\n",
              "      <td>NaN</td>\n",
              "      <td>NaN</td>\n",
              "      <td>97</td>\n",
              "      <td>NaN</td>\n",
              "      <td>NaN</td>\n",
              "      <td>NaN</td>\n",
              "      <td>6/04/20</td>\n",
              "      <td>...</td>\n",
              "      <td>NaN</td>\n",
              "      <td>0</td>\n",
              "      <td>0</td>\n",
              "      <td>11,5</td>\n",
              "      <td>5</td>\n",
              "      <td>0,25</td>\n",
              "      <td>150</td>\n",
              "      <td>52,7</td>\n",
              "      <td>0</td>\n",
              "      <td>NaN</td>\n",
              "    </tr>\n",
              "  </tbody>\n",
              "</table>\n",
              "<p>8 rows × 137 columns</p>\n",
              "</div>\n",
              "      <button class=\"colab-df-convert\" onclick=\"convertToInteractive('df-458f8905-78b1-4de9-b324-cfa1e804199b')\"\n",
              "              title=\"Convert this dataframe to an interactive table.\"\n",
              "              style=\"display:none;\">\n",
              "        \n",
              "  <svg xmlns=\"http://www.w3.org/2000/svg\" height=\"24px\"viewBox=\"0 0 24 24\"\n",
              "       width=\"24px\">\n",
              "    <path d=\"M0 0h24v24H0V0z\" fill=\"none\"/>\n",
              "    <path d=\"M18.56 5.44l.94 2.06.94-2.06 2.06-.94-2.06-.94-.94-2.06-.94 2.06-2.06.94zm-11 1L8.5 8.5l.94-2.06 2.06-.94-2.06-.94L8.5 2.5l-.94 2.06-2.06.94zm10 10l.94 2.06.94-2.06 2.06-.94-2.06-.94-.94-2.06-.94 2.06-2.06.94z\"/><path d=\"M17.41 7.96l-1.37-1.37c-.4-.4-.92-.59-1.43-.59-.52 0-1.04.2-1.43.59L10.3 9.45l-7.72 7.72c-.78.78-.78 2.05 0 2.83L4 21.41c.39.39.9.59 1.41.59.51 0 1.02-.2 1.41-.59l7.78-7.78 2.81-2.81c.8-.78.8-2.07 0-2.86zM5.41 20L4 18.59l7.72-7.72 1.47 1.35L5.41 20z\"/>\n",
              "  </svg>\n",
              "      </button>\n",
              "      \n",
              "  <style>\n",
              "    .colab-df-container {\n",
              "      display:flex;\n",
              "      flex-wrap:wrap;\n",
              "      gap: 12px;\n",
              "    }\n",
              "\n",
              "    .colab-df-convert {\n",
              "      background-color: #E8F0FE;\n",
              "      border: none;\n",
              "      border-radius: 50%;\n",
              "      cursor: pointer;\n",
              "      display: none;\n",
              "      fill: #1967D2;\n",
              "      height: 32px;\n",
              "      padding: 0 0 0 0;\n",
              "      width: 32px;\n",
              "    }\n",
              "\n",
              "    .colab-df-convert:hover {\n",
              "      background-color: #E2EBFA;\n",
              "      box-shadow: 0px 1px 2px rgba(60, 64, 67, 0.3), 0px 1px 3px 1px rgba(60, 64, 67, 0.15);\n",
              "      fill: #174EA6;\n",
              "    }\n",
              "\n",
              "    [theme=dark] .colab-df-convert {\n",
              "      background-color: #3B4455;\n",
              "      fill: #D2E3FC;\n",
              "    }\n",
              "\n",
              "    [theme=dark] .colab-df-convert:hover {\n",
              "      background-color: #434B5C;\n",
              "      box-shadow: 0px 1px 3px 1px rgba(0, 0, 0, 0.15);\n",
              "      filter: drop-shadow(0px 1px 2px rgba(0, 0, 0, 0.3));\n",
              "      fill: #FFFFFF;\n",
              "    }\n",
              "  </style>\n",
              "\n",
              "      <script>\n",
              "        const buttonEl =\n",
              "          document.querySelector('#df-458f8905-78b1-4de9-b324-cfa1e804199b button.colab-df-convert');\n",
              "        buttonEl.style.display =\n",
              "          google.colab.kernel.accessAllowed ? 'block' : 'none';\n",
              "\n",
              "        async function convertToInteractive(key) {\n",
              "          const element = document.querySelector('#df-458f8905-78b1-4de9-b324-cfa1e804199b');\n",
              "          const dataTable =\n",
              "            await google.colab.kernel.invokeFunction('convertToInteractive',\n",
              "                                                     [key], {});\n",
              "          if (!dataTable) return;\n",
              "\n",
              "          const docLinkHtml = 'Like what you see? Visit the ' +\n",
              "            '<a target=\"_blank\" href=https://colab.research.google.com/notebooks/data_table.ipynb>data table notebook</a>'\n",
              "            + ' to learn more about interactive tables.';\n",
              "          element.innerHTML = '';\n",
              "          dataTable['output_type'] = 'display_data';\n",
              "          await google.colab.output.renderOutput(dataTable, element);\n",
              "          const docLink = document.createElement('div');\n",
              "          docLink.innerHTML = docLinkHtml;\n",
              "          element.appendChild(docLink);\n",
              "        }\n",
              "      </script>\n",
              "    </div>\n",
              "  </div>\n",
              "  "
            ]
          },
          "metadata": {},
          "execution_count": 3
        }
      ],
      "source": [
        "db = pd.read_csv('/content/Base datos COVID-Linfos Actualizazda.xlsx - Valores seleccionados.csv')\n",
        "#db = pd.read_excel('Base datos COVID-Linfos Actualizazda.xlsx') #no quites esta línea, coméntala cuando estés trabajando en tus datos\n",
        "\n",
        "#Cambio las comas por puntos y de esa manera las columnas ya me salen float64, pero no se cambian las comas de las ultimas 4 columnas\n",
        "#Sin embargo, si quito lo de las comas y puntos y lo añado mas adelante de otra manera, se cambian todas las comas por los puntos pero siguen\n",
        "# tipo object\n",
        "\n",
        "db.head(8)"
      ]
    },
    {
      "cell_type": "markdown",
      "source": [
        "Hay 13 columnas que no tienen que ver con los parámetros del hemograma. Por tanto hay 137-13=124 parámetros del hemograma."
      ],
      "metadata": {
        "id": "kKh4Qy67L6DG"
      }
    },
    {
      "cell_type": "code",
      "execution_count": 4,
      "metadata": {
        "colab": {
          "base_uri": "https://localhost:8080/"
        },
        "id": "CGtLFIK_cJU7",
        "outputId": "5550e4d1-97e1-4eb4-f52b-e1a509c85753"
      },
      "outputs": [
        {
          "output_type": "execute_result",
          "data": {
            "text/plain": [
              "<bound method NDFrame.head of        Número  Repetición NHC  Código Externo  FALLECE  UCI  Día del Año  \\\n",
              "0       221.0               4          111561      NaN  NaN           90   \n",
              "1       319.0              13          102441      NaN  NaN          100   \n",
              "2       368.0              16          102441      NaN  NaN          104   \n",
              "3      1759.0               9          104851      NaN  NaN          238   \n",
              "4    265277.0               7           11258      NaN  NaN           91   \n",
              "..        ...             ...             ...      ...  ...          ...   \n",
              "337  594293.0               5          128148      NaN  NaN          287   \n",
              "338  594400.0               4          101609      NaN  NaN          286   \n",
              "339  595190.0               6          138076      NaN  NaN          261   \n",
              "340  597900.0               5          101609      NaN  NaN          288   \n",
              "341  601867.0               7          101609      NaN  NaN          292   \n",
              "\n",
              "    19nCv  Día de POSITIVO  Días respecto a Positivo     Fecha  ... ESSYS  \\\n",
              "0     NaN              NaN                       NaN  30/03/20  ...   NaN   \n",
              "1     NaN              NaN                       NaN   9/04/20  ...   NaN   \n",
              "2     NaN              NaN                       NaN  13/04/20  ...   NaN   \n",
              "3     NaN              NaN                       NaN  25/08/20  ...   NaN   \n",
              "4     NaN              NaN                       NaN  31/03/20  ...   NaN   \n",
              "..    ...              ...                       ...       ...  ...   ...   \n",
              "337   NaN              NaN                       NaN  13/10/20  ...   NaN   \n",
              "338   NaN              NaN                       NaN  12/10/20  ...   NaN   \n",
              "339   NaN              NaN                       NaN  17/09/20  ...   NaN   \n",
              "340   NaN              NaN                       NaN  14/10/20  ...   NaN   \n",
              "341   NaN              NaN                       NaN  18/10/20  ...   NaN   \n",
              "\n",
              "    ASLYP  ASLYA RELPL  RELYP  RELYA  NEUGI NEURI ASLPL 19nCv.1  \n",
              "0     NaN    NaN   NaN    NaN    NaN    NaN   NaN   NaN     NaN  \n",
              "1     NaN    NaN   NaN    NaN    NaN    NaN   NaN   NaN     NaN  \n",
              "2     NaN    NaN   NaN    NaN    NaN    NaN   NaN   NaN     NaN  \n",
              "3     NaN    NaN   NaN    NaN    NaN    NaN   NaN   NaN     NaN  \n",
              "4       0      0   5,7    2,3   0,13  154,8  50,2     0     NaN  \n",
              "..    ...    ...   ...    ...    ...    ...   ...   ...     ...  \n",
              "337     0      0     7    1,2   0,13  151,5  47,6     0     NaN  \n",
              "338     0      0   7,5    1,6   0,15  153,2  47,2     0     NaN  \n",
              "339     0      0     7    1,2    0,1  154,7  54,7     0     NaN  \n",
              "340     0      0     6    1,6   0,15  154,5  46,8     0     NaN  \n",
              "341     0      0   7,2    2,9   0,19  156,5    47     0     NaN  \n",
              "\n",
              "[342 rows x 137 columns]>"
            ]
          },
          "metadata": {},
          "execution_count": 4
        }
      ],
      "source": [
        "db.head"
      ]
    },
    {
      "cell_type": "code",
      "execution_count": 5,
      "metadata": {
        "colab": {
          "base_uri": "https://localhost:8080/"
        },
        "id": "FeohpFfnA9NW",
        "outputId": "5aeab02e-badf-427d-828b-5ac867f1c310"
      },
      "outputs": [
        {
          "output_type": "stream",
          "name": "stdout",
          "text": [
            "         Número  Repetición NHC  Código Externo  UCI  Día del Año  19nCv  \\\n",
            "FALLECE                                                                    \n",
            "0.0          85              85              85   85           85     85   \n",
            "1.0          11              11              11   11           11     10   \n",
            "\n",
            "         Día de POSITIVO  Días respecto a Positivo  Fecha  Edad del Paciente  \\\n",
            "FALLECE                                                                        \n",
            "0.0                   81                         0     85                 85   \n",
            "1.0                   10                         0     11                 11   \n",
            "\n",
            "         ...  ESSYS  ASLYP  ASLYA  RELPL  RELYP  RELYA  NEUGI  NEURI  ASLPL  \\\n",
            "FALLECE  ...                                                                  \n",
            "0.0      ...      8     53     53     53     53     53     53     53     53   \n",
            "1.0      ...      2      7      7      7      7      7      7      7      7   \n",
            "\n",
            "         19nCv.1  \n",
            "FALLECE           \n",
            "0.0           45  \n",
            "1.0            4  \n",
            "\n",
            "[2 rows x 136 columns]\n"
          ]
        }
      ],
      "source": [
        "Fallece = db.groupby(['FALLECE']).count() #0.0 son los NO fallecidos y 1.0 los fallecidos\n",
        "print (Fallece)"
      ]
    },
    {
      "cell_type": "code",
      "execution_count": 6,
      "metadata": {
        "colab": {
          "base_uri": "https://localhost:8080/"
        },
        "id": "xyyuqLuFA_es",
        "outputId": "54eb42dd-6c1f-40a5-b0e0-190d02088ce2"
      },
      "outputs": [
        {
          "output_type": "stream",
          "name": "stdout",
          "text": [
            "     Número  Repetición NHC  Código Externo  FALLECE  Día del Año  19nCv  \\\n",
            "UCI                                                                        \n",
            "0.0      85              85              85       85           85     85   \n",
            "1.0      11              11              11       11           11     10   \n",
            "\n",
            "     Día de POSITIVO  Días respecto a Positivo  Fecha  Edad del Paciente  ...  \\\n",
            "UCI                                                                       ...   \n",
            "0.0               82                         0     85                 85  ...   \n",
            "1.0                9                         0     11                 11  ...   \n",
            "\n",
            "     ESSYS  ASLYP  ASLYA  RELPL  RELYP  RELYA  NEUGI  NEURI  ASLPL  19nCv.1  \n",
            "UCI                                                                          \n",
            "0.0      8     55     55     55     55     55     55     55     55       41  \n",
            "1.0      2      5      5      5      5      5      5      5      5        8  \n",
            "\n",
            "[2 rows x 136 columns]\n"
          ]
        }
      ],
      "source": [
        "UCI = db.groupby(['UCI']).count() #0.0 son los NO han entrado en UCI y 1.0 son los que han entrado en UCI\n",
        "print (UCI)"
      ]
    },
    {
      "cell_type": "markdown",
      "source": [
        "Para redacción de TFG (base de datos)\n"
      ],
      "metadata": {
        "id": "PI_2Q3xUvrzy"
      }
    },
    {
      "cell_type": "code",
      "source": [
        "#db['Fecha'] = pd.to_datetime(db['Fecha'])\n",
        "#hola = db.sort_values(by='Fecha') \n",
        "#print(hola)"
      ],
      "metadata": {
        "id": "eh4n2Q9ut2TG"
      },
      "execution_count": 7,
      "outputs": []
    },
    {
      "cell_type": "markdown",
      "metadata": {
        "id": "POmheSpUuUrs"
      },
      "source": [
        "### 1.1 ELIMINACION DE COLUMNAS Y FILAS (CONSULTADO CON JAVIER)"
      ]
    },
    {
      "cell_type": "markdown",
      "metadata": {
        "id": "LDdmQ54uBYuA"
      },
      "source": [
        "Tras una visualización general y una charla con los sanitarios que han transferido la base de datos, se llega a la conclusión de que hay que hacer una limpieza de la misma. Hay columnas que su significado y valores no tienen ninguna relevancia para el estudio que se va a llevar a cabo."
      ]
    },
    {
      "cell_type": "code",
      "execution_count": 8,
      "metadata": {
        "id": "CAKAP279CAQ4"
      },
      "outputs": [],
      "source": [
        "db1=db.drop([\"Repetición NHC\",\"Día del Año\",\"Día de POSITIVO\",\"Días respecto a Positivo\",\"GSRH\",\"GRHPC\",\"GRHRN\",\"GRHCE\"],axis=1) #axis=1 ya que lo que elimino son columnas.\n"
      ]
    },
    {
      "cell_type": "markdown",
      "metadata": {
        "id": "WcUUWqpejaUb"
      },
      "source": [
        "Teniendo en cuenta que la prueba PCR se hace como máximo una vez a la semana, si se cita a un mismo paciente dos veces en una misma semana, lo normal es que en esa segunda cita solo se haga una analítica. Sin embargo en ocasiones hay filas que no tienen información ni en 19nCv ni en los distintos parámetros del hemograma, por lo que esas filas deben ser eliminadas. (Código que viene a continuación)"
      ]
    },
    {
      "cell_type": "markdown",
      "metadata": {
        "id": "WrDLgRbU91fo"
      },
      "source": [
        "A continuación elimino las filas que no aportan información."
      ]
    },
    {
      "cell_type": "code",
      "execution_count": 9,
      "metadata": {
        "colab": {
          "base_uri": "https://localhost:8080/"
        },
        "id": "TsoE6SfdfioE",
        "outputId": "b0a4d4f4-f685-44ba-e503-df2993bf8464"
      },
      "outputs": [
        {
          "output_type": "execute_result",
          "data": {
            "text/plain": [
              "(320, 129)"
            ]
          },
          "metadata": {},
          "execution_count": 9
        }
      ],
      "source": [
        "db1= db1.dropna(thresh=9) #Mantiene solo las filas con al menos 9 valores que no sean NA. Esto me sirve ya que quiero eliminar aquellas filas\n",
        "#que tengan NaN, es decir 19nCv y todos los parámetros del hemograma.\n",
        "db1.shape"
      ]
    },
    {
      "cell_type": "markdown",
      "metadata": {
        "id": "Gxd8JfXc4kHg"
      },
      "source": [
        "Además teniendo en cuenta la informacion proporcionada por parte del hospital, elimino aquellas variables que son redundantes. Estas variables no aportan información adicional al futuro modelo de predicción."
      ]
    },
    {
      "cell_type": "code",
      "execution_count": 10,
      "metadata": {
        "id": "CcUI_IhI46Rt"
      },
      "outputs": [],
      "source": [
        "db1=db1.drop([\"NE_R\",\"NEU_a\",\"NEU_p\",\"LY_R\",\"LIN_a\",\"LIN_p\",\"MO_R\",\"EO_R\",\"BA_R\"],axis=1) #axis=1 ya que lo que elimino son columnas.\n"
      ]
    },
    {
      "cell_type": "markdown",
      "source": [
        "También se eliminan de columnas del hemograma que no aportan información"
      ],
      "metadata": {
        "id": "99Ul2NAYO7QR"
      }
    },
    {
      "cell_type": "code",
      "execution_count": 11,
      "metadata": {
        "id": "RT1WnP2_-F-l",
        "outputId": "4e79c48e-70a8-4d15-a5de-d4e5e8342b2a",
        "colab": {
          "base_uri": "https://localhost:8080/",
          "height": 411
        }
      },
      "outputs": [
        {
          "output_type": "execute_result",
          "data": {
            "text/plain": [
              "      Número  Código Externo  FALLECE  UCI     19nCv     Fecha  \\\n",
              "4   265277.0           11258      NaN  NaN       NaN  31/03/20   \n",
              "5   325932.0          115555      NaN  NaN       NaN   7/04/20   \n",
              "6   366742.0          111520      NaN  NaN       NaN  23/03/20   \n",
              "7   374616.0          116651      NaN  NaN       NaN   6/04/20   \n",
              "8   391714.0          130481      0.0  0.0  Positivo   8/03/20   \n",
              "9   394276.0          107747      1.0  0.0  Positivo  10/03/20   \n",
              "10  394606.0          132015      0.0  0.0  Positivo  11/03/20   \n",
              "11  395368.0          130481      NaN  NaN       NaN  11/03/20   \n",
              "\n",
              "   Edad del Paciente Sexo del Paciente    LEU   NEU  ... WBC-P ASLYP ASLYA  \\\n",
              "4            65 años                 M   5,57  2,55  ...   NaN     0     0   \n",
              "5            69 años                 M   7,03  3,84  ...   NaN     0     0   \n",
              "6            77 años                 F   7,04  3,69  ...   NaN     0     0   \n",
              "7            70 años                 F   4,97  2,24  ...   NaN     0     0   \n",
              "8            82 años                 M   7,28     5  ...   NaN     0     0   \n",
              "9            78 años                 M  10,84  8,92  ...   NaN   1,2  0,13   \n",
              "10           60 años                 F    NaN   NaN  ...   NaN   NaN   NaN   \n",
              "11           82 años                 M   6,87  4,09  ...   NaN     1  0,07   \n",
              "\n",
              "   RELPL RELYP RELYA  NEUGI NEURI ASLPL   19nCv.1  \n",
              "4    5,7   2,3  0,13  154,8  50,2     0       NaN  \n",
              "5    6,6   2,1  0,15  147,1  47,8     0       NaN  \n",
              "6    5,4   1,8  0,13  152,6  49,9     0       NaN  \n",
              "7   11,5     5  0,25    150  52,7     0       NaN  \n",
              "8    7,5   1,8  0,13  152,9  51,9     0       NaN  \n",
              "9   19,1   1,9  0,21  155,2  55,9  11,8       NaN  \n",
              "10   NaN   NaN   NaN    NaN   NaN   NaN  Positivo  \n",
              "11  14,8   3,1  0,21  150,5  57,3   4,9       NaN  \n",
              "\n",
              "[8 rows x 113 columns]"
            ],
            "text/html": [
              "\n",
              "  <div id=\"df-68146b8e-e24e-4ba7-b4a1-a59daec9aae3\">\n",
              "    <div class=\"colab-df-container\">\n",
              "      <div>\n",
              "<style scoped>\n",
              "    .dataframe tbody tr th:only-of-type {\n",
              "        vertical-align: middle;\n",
              "    }\n",
              "\n",
              "    .dataframe tbody tr th {\n",
              "        vertical-align: top;\n",
              "    }\n",
              "\n",
              "    .dataframe thead th {\n",
              "        text-align: right;\n",
              "    }\n",
              "</style>\n",
              "<table border=\"1\" class=\"dataframe\">\n",
              "  <thead>\n",
              "    <tr style=\"text-align: right;\">\n",
              "      <th></th>\n",
              "      <th>Número</th>\n",
              "      <th>Código Externo</th>\n",
              "      <th>FALLECE</th>\n",
              "      <th>UCI</th>\n",
              "      <th>19nCv</th>\n",
              "      <th>Fecha</th>\n",
              "      <th>Edad del Paciente</th>\n",
              "      <th>Sexo del Paciente</th>\n",
              "      <th>LEU</th>\n",
              "      <th>NEU</th>\n",
              "      <th>...</th>\n",
              "      <th>WBC-P</th>\n",
              "      <th>ASLYP</th>\n",
              "      <th>ASLYA</th>\n",
              "      <th>RELPL</th>\n",
              "      <th>RELYP</th>\n",
              "      <th>RELYA</th>\n",
              "      <th>NEUGI</th>\n",
              "      <th>NEURI</th>\n",
              "      <th>ASLPL</th>\n",
              "      <th>19nCv.1</th>\n",
              "    </tr>\n",
              "  </thead>\n",
              "  <tbody>\n",
              "    <tr>\n",
              "      <th>4</th>\n",
              "      <td>265277.0</td>\n",
              "      <td>11258</td>\n",
              "      <td>NaN</td>\n",
              "      <td>NaN</td>\n",
              "      <td>NaN</td>\n",
              "      <td>31/03/20</td>\n",
              "      <td>65 años</td>\n",
              "      <td>M</td>\n",
              "      <td>5,57</td>\n",
              "      <td>2,55</td>\n",
              "      <td>...</td>\n",
              "      <td>NaN</td>\n",
              "      <td>0</td>\n",
              "      <td>0</td>\n",
              "      <td>5,7</td>\n",
              "      <td>2,3</td>\n",
              "      <td>0,13</td>\n",
              "      <td>154,8</td>\n",
              "      <td>50,2</td>\n",
              "      <td>0</td>\n",
              "      <td>NaN</td>\n",
              "    </tr>\n",
              "    <tr>\n",
              "      <th>5</th>\n",
              "      <td>325932.0</td>\n",
              "      <td>115555</td>\n",
              "      <td>NaN</td>\n",
              "      <td>NaN</td>\n",
              "      <td>NaN</td>\n",
              "      <td>7/04/20</td>\n",
              "      <td>69 años</td>\n",
              "      <td>M</td>\n",
              "      <td>7,03</td>\n",
              "      <td>3,84</td>\n",
              "      <td>...</td>\n",
              "      <td>NaN</td>\n",
              "      <td>0</td>\n",
              "      <td>0</td>\n",
              "      <td>6,6</td>\n",
              "      <td>2,1</td>\n",
              "      <td>0,15</td>\n",
              "      <td>147,1</td>\n",
              "      <td>47,8</td>\n",
              "      <td>0</td>\n",
              "      <td>NaN</td>\n",
              "    </tr>\n",
              "    <tr>\n",
              "      <th>6</th>\n",
              "      <td>366742.0</td>\n",
              "      <td>111520</td>\n",
              "      <td>NaN</td>\n",
              "      <td>NaN</td>\n",
              "      <td>NaN</td>\n",
              "      <td>23/03/20</td>\n",
              "      <td>77 años</td>\n",
              "      <td>F</td>\n",
              "      <td>7,04</td>\n",
              "      <td>3,69</td>\n",
              "      <td>...</td>\n",
              "      <td>NaN</td>\n",
              "      <td>0</td>\n",
              "      <td>0</td>\n",
              "      <td>5,4</td>\n",
              "      <td>1,8</td>\n",
              "      <td>0,13</td>\n",
              "      <td>152,6</td>\n",
              "      <td>49,9</td>\n",
              "      <td>0</td>\n",
              "      <td>NaN</td>\n",
              "    </tr>\n",
              "    <tr>\n",
              "      <th>7</th>\n",
              "      <td>374616.0</td>\n",
              "      <td>116651</td>\n",
              "      <td>NaN</td>\n",
              "      <td>NaN</td>\n",
              "      <td>NaN</td>\n",
              "      <td>6/04/20</td>\n",
              "      <td>70 años</td>\n",
              "      <td>F</td>\n",
              "      <td>4,97</td>\n",
              "      <td>2,24</td>\n",
              "      <td>...</td>\n",
              "      <td>NaN</td>\n",
              "      <td>0</td>\n",
              "      <td>0</td>\n",
              "      <td>11,5</td>\n",
              "      <td>5</td>\n",
              "      <td>0,25</td>\n",
              "      <td>150</td>\n",
              "      <td>52,7</td>\n",
              "      <td>0</td>\n",
              "      <td>NaN</td>\n",
              "    </tr>\n",
              "    <tr>\n",
              "      <th>8</th>\n",
              "      <td>391714.0</td>\n",
              "      <td>130481</td>\n",
              "      <td>0.0</td>\n",
              "      <td>0.0</td>\n",
              "      <td>Positivo</td>\n",
              "      <td>8/03/20</td>\n",
              "      <td>82 años</td>\n",
              "      <td>M</td>\n",
              "      <td>7,28</td>\n",
              "      <td>5</td>\n",
              "      <td>...</td>\n",
              "      <td>NaN</td>\n",
              "      <td>0</td>\n",
              "      <td>0</td>\n",
              "      <td>7,5</td>\n",
              "      <td>1,8</td>\n",
              "      <td>0,13</td>\n",
              "      <td>152,9</td>\n",
              "      <td>51,9</td>\n",
              "      <td>0</td>\n",
              "      <td>NaN</td>\n",
              "    </tr>\n",
              "    <tr>\n",
              "      <th>9</th>\n",
              "      <td>394276.0</td>\n",
              "      <td>107747</td>\n",
              "      <td>1.0</td>\n",
              "      <td>0.0</td>\n",
              "      <td>Positivo</td>\n",
              "      <td>10/03/20</td>\n",
              "      <td>78 años</td>\n",
              "      <td>M</td>\n",
              "      <td>10,84</td>\n",
              "      <td>8,92</td>\n",
              "      <td>...</td>\n",
              "      <td>NaN</td>\n",
              "      <td>1,2</td>\n",
              "      <td>0,13</td>\n",
              "      <td>19,1</td>\n",
              "      <td>1,9</td>\n",
              "      <td>0,21</td>\n",
              "      <td>155,2</td>\n",
              "      <td>55,9</td>\n",
              "      <td>11,8</td>\n",
              "      <td>NaN</td>\n",
              "    </tr>\n",
              "    <tr>\n",
              "      <th>10</th>\n",
              "      <td>394606.0</td>\n",
              "      <td>132015</td>\n",
              "      <td>0.0</td>\n",
              "      <td>0.0</td>\n",
              "      <td>Positivo</td>\n",
              "      <td>11/03/20</td>\n",
              "      <td>60 años</td>\n",
              "      <td>F</td>\n",
              "      <td>NaN</td>\n",
              "      <td>NaN</td>\n",
              "      <td>...</td>\n",
              "      <td>NaN</td>\n",
              "      <td>NaN</td>\n",
              "      <td>NaN</td>\n",
              "      <td>NaN</td>\n",
              "      <td>NaN</td>\n",
              "      <td>NaN</td>\n",
              "      <td>NaN</td>\n",
              "      <td>NaN</td>\n",
              "      <td>NaN</td>\n",
              "      <td>Positivo</td>\n",
              "    </tr>\n",
              "    <tr>\n",
              "      <th>11</th>\n",
              "      <td>395368.0</td>\n",
              "      <td>130481</td>\n",
              "      <td>NaN</td>\n",
              "      <td>NaN</td>\n",
              "      <td>NaN</td>\n",
              "      <td>11/03/20</td>\n",
              "      <td>82 años</td>\n",
              "      <td>M</td>\n",
              "      <td>6,87</td>\n",
              "      <td>4,09</td>\n",
              "      <td>...</td>\n",
              "      <td>NaN</td>\n",
              "      <td>1</td>\n",
              "      <td>0,07</td>\n",
              "      <td>14,8</td>\n",
              "      <td>3,1</td>\n",
              "      <td>0,21</td>\n",
              "      <td>150,5</td>\n",
              "      <td>57,3</td>\n",
              "      <td>4,9</td>\n",
              "      <td>NaN</td>\n",
              "    </tr>\n",
              "  </tbody>\n",
              "</table>\n",
              "<p>8 rows × 113 columns</p>\n",
              "</div>\n",
              "      <button class=\"colab-df-convert\" onclick=\"convertToInteractive('df-68146b8e-e24e-4ba7-b4a1-a59daec9aae3')\"\n",
              "              title=\"Convert this dataframe to an interactive table.\"\n",
              "              style=\"display:none;\">\n",
              "        \n",
              "  <svg xmlns=\"http://www.w3.org/2000/svg\" height=\"24px\"viewBox=\"0 0 24 24\"\n",
              "       width=\"24px\">\n",
              "    <path d=\"M0 0h24v24H0V0z\" fill=\"none\"/>\n",
              "    <path d=\"M18.56 5.44l.94 2.06.94-2.06 2.06-.94-2.06-.94-.94-2.06-.94 2.06-2.06.94zm-11 1L8.5 8.5l.94-2.06 2.06-.94-2.06-.94L8.5 2.5l-.94 2.06-2.06.94zm10 10l.94 2.06.94-2.06 2.06-.94-2.06-.94-.94-2.06-.94 2.06-2.06.94z\"/><path d=\"M17.41 7.96l-1.37-1.37c-.4-.4-.92-.59-1.43-.59-.52 0-1.04.2-1.43.59L10.3 9.45l-7.72 7.72c-.78.78-.78 2.05 0 2.83L4 21.41c.39.39.9.59 1.41.59.51 0 1.02-.2 1.41-.59l7.78-7.78 2.81-2.81c.8-.78.8-2.07 0-2.86zM5.41 20L4 18.59l7.72-7.72 1.47 1.35L5.41 20z\"/>\n",
              "  </svg>\n",
              "      </button>\n",
              "      \n",
              "  <style>\n",
              "    .colab-df-container {\n",
              "      display:flex;\n",
              "      flex-wrap:wrap;\n",
              "      gap: 12px;\n",
              "    }\n",
              "\n",
              "    .colab-df-convert {\n",
              "      background-color: #E8F0FE;\n",
              "      border: none;\n",
              "      border-radius: 50%;\n",
              "      cursor: pointer;\n",
              "      display: none;\n",
              "      fill: #1967D2;\n",
              "      height: 32px;\n",
              "      padding: 0 0 0 0;\n",
              "      width: 32px;\n",
              "    }\n",
              "\n",
              "    .colab-df-convert:hover {\n",
              "      background-color: #E2EBFA;\n",
              "      box-shadow: 0px 1px 2px rgba(60, 64, 67, 0.3), 0px 1px 3px 1px rgba(60, 64, 67, 0.15);\n",
              "      fill: #174EA6;\n",
              "    }\n",
              "\n",
              "    [theme=dark] .colab-df-convert {\n",
              "      background-color: #3B4455;\n",
              "      fill: #D2E3FC;\n",
              "    }\n",
              "\n",
              "    [theme=dark] .colab-df-convert:hover {\n",
              "      background-color: #434B5C;\n",
              "      box-shadow: 0px 1px 3px 1px rgba(0, 0, 0, 0.15);\n",
              "      filter: drop-shadow(0px 1px 2px rgba(0, 0, 0, 0.3));\n",
              "      fill: #FFFFFF;\n",
              "    }\n",
              "  </style>\n",
              "\n",
              "      <script>\n",
              "        const buttonEl =\n",
              "          document.querySelector('#df-68146b8e-e24e-4ba7-b4a1-a59daec9aae3 button.colab-df-convert');\n",
              "        buttonEl.style.display =\n",
              "          google.colab.kernel.accessAllowed ? 'block' : 'none';\n",
              "\n",
              "        async function convertToInteractive(key) {\n",
              "          const element = document.querySelector('#df-68146b8e-e24e-4ba7-b4a1-a59daec9aae3');\n",
              "          const dataTable =\n",
              "            await google.colab.kernel.invokeFunction('convertToInteractive',\n",
              "                                                     [key], {});\n",
              "          if (!dataTable) return;\n",
              "\n",
              "          const docLinkHtml = 'Like what you see? Visit the ' +\n",
              "            '<a target=\"_blank\" href=https://colab.research.google.com/notebooks/data_table.ipynb>data table notebook</a>'\n",
              "            + ' to learn more about interactive tables.';\n",
              "          element.innerHTML = '';\n",
              "          dataTable['output_type'] = 'display_data';\n",
              "          await google.colab.output.renderOutput(dataTable, element);\n",
              "          const docLink = document.createElement('div');\n",
              "          docLink.innerHTML = docLinkHtml;\n",
              "          element.appendChild(docLink);\n",
              "        }\n",
              "      </script>\n",
              "    </div>\n",
              "  </div>\n",
              "  "
            ]
          },
          "metadata": {},
          "execution_count": 11
        }
      ],
      "source": [
        "db1=db1.drop([\"FRSP\",\"COMHE\",\"AVSBL\",\"AVSPL\",\"AVSRJ\",\"AVNRB\",\"ESSYS\"],axis=1) #axis=1 ya que lo que elimino son columnas.\n",
        "db1.head(8)"
      ]
    },
    {
      "cell_type": "markdown",
      "source": [
        "Tras la eliminación de columnas se trabaja con 113-9=104 parámetros del hemograma."
      ],
      "metadata": {
        "id": "skXGFVDoMoz2"
      }
    },
    {
      "cell_type": "markdown",
      "metadata": {
        "id": "cNwEYX4odk20"
      },
      "source": [
        "### 1.2 AGRUPACION DE PACIENTES POR GRAVEDAD\n",
        "\n",
        "\n",
        "- UCI=1 y FALLECE=1 --> Muy grave\n",
        "- UCI=0 y FALLLECE=1 --> Muy grave\n",
        "\n",
        "- UCI=1 y FALLECE=0 --> Grave\n",
        "- UCI=0 y FALLECE=0 --> Sano"
      ]
    },
    {
      "cell_type": "code",
      "execution_count": 12,
      "metadata": {
        "id": "lheRb_UtNnwH"
      },
      "outputs": [],
      "source": [
        "#counterFunc = db1.apply(\n",
        "  #  lambda x: True if x(db1['UCI'] == 1.0) & (db1['FALLECE'] == 1.0) else False , axis=1)\n",
        "#numOfRows = len(counterFunc[counterFunc == True].index)\n",
        "#print('Row count is:',numOfRows)"
      ]
    },
    {
      "cell_type": "code",
      "execution_count": 13,
      "metadata": {
        "id": "LzKlwbJOv1YC"
      },
      "outputs": [],
      "source": [
        "data_all = db1[(db1['UCI'] == 1.0) & (db1['FALLECE'] == 1.0)]\n",
        "data_death = db1[(db1['UCI'] == 0.0) & (db1['FALLECE'] == 1.0)]\n",
        "data_regular = db1[(db1['UCI'] == 1.0) & (db1['FALLECE'] == 0.0)]\n",
        "data_health = db1[(db1['UCI'] == 0.0) & (db1['FALLECE'] == 0.0)]"
      ]
    },
    {
      "cell_type": "code",
      "execution_count": 14,
      "metadata": {
        "colab": {
          "base_uri": "https://localhost:8080/",
          "height": 174
        },
        "id": "UhTca913PK8F",
        "outputId": "1d2f39bf-6067-4aed-e7d9-96097f0584e6"
      },
      "outputs": [
        {
          "output_type": "execute_result",
          "data": {
            "text/plain": [
              "                Rows\n",
              "1-1: MUY GRAVE     5\n",
              "0-1: MUY GRAVE     6\n",
              "1-0: REGULAR       6\n",
              "0-0: SANO         79"
            ],
            "text/html": [
              "\n",
              "  <div id=\"df-39f9b6e0-667a-459f-b9ef-c64a333a9828\">\n",
              "    <div class=\"colab-df-container\">\n",
              "      <div>\n",
              "<style scoped>\n",
              "    .dataframe tbody tr th:only-of-type {\n",
              "        vertical-align: middle;\n",
              "    }\n",
              "\n",
              "    .dataframe tbody tr th {\n",
              "        vertical-align: top;\n",
              "    }\n",
              "\n",
              "    .dataframe thead th {\n",
              "        text-align: right;\n",
              "    }\n",
              "</style>\n",
              "<table border=\"1\" class=\"dataframe\">\n",
              "  <thead>\n",
              "    <tr style=\"text-align: right;\">\n",
              "      <th></th>\n",
              "      <th>Rows</th>\n",
              "    </tr>\n",
              "  </thead>\n",
              "  <tbody>\n",
              "    <tr>\n",
              "      <th>1-1: MUY GRAVE</th>\n",
              "      <td>5</td>\n",
              "    </tr>\n",
              "    <tr>\n",
              "      <th>0-1: MUY GRAVE</th>\n",
              "      <td>6</td>\n",
              "    </tr>\n",
              "    <tr>\n",
              "      <th>1-0: REGULAR</th>\n",
              "      <td>6</td>\n",
              "    </tr>\n",
              "    <tr>\n",
              "      <th>0-0: SANO</th>\n",
              "      <td>79</td>\n",
              "    </tr>\n",
              "  </tbody>\n",
              "</table>\n",
              "</div>\n",
              "      <button class=\"colab-df-convert\" onclick=\"convertToInteractive('df-39f9b6e0-667a-459f-b9ef-c64a333a9828')\"\n",
              "              title=\"Convert this dataframe to an interactive table.\"\n",
              "              style=\"display:none;\">\n",
              "        \n",
              "  <svg xmlns=\"http://www.w3.org/2000/svg\" height=\"24px\"viewBox=\"0 0 24 24\"\n",
              "       width=\"24px\">\n",
              "    <path d=\"M0 0h24v24H0V0z\" fill=\"none\"/>\n",
              "    <path d=\"M18.56 5.44l.94 2.06.94-2.06 2.06-.94-2.06-.94-.94-2.06-.94 2.06-2.06.94zm-11 1L8.5 8.5l.94-2.06 2.06-.94-2.06-.94L8.5 2.5l-.94 2.06-2.06.94zm10 10l.94 2.06.94-2.06 2.06-.94-2.06-.94-.94-2.06-.94 2.06-2.06.94z\"/><path d=\"M17.41 7.96l-1.37-1.37c-.4-.4-.92-.59-1.43-.59-.52 0-1.04.2-1.43.59L10.3 9.45l-7.72 7.72c-.78.78-.78 2.05 0 2.83L4 21.41c.39.39.9.59 1.41.59.51 0 1.02-.2 1.41-.59l7.78-7.78 2.81-2.81c.8-.78.8-2.07 0-2.86zM5.41 20L4 18.59l7.72-7.72 1.47 1.35L5.41 20z\"/>\n",
              "  </svg>\n",
              "      </button>\n",
              "      \n",
              "  <style>\n",
              "    .colab-df-container {\n",
              "      display:flex;\n",
              "      flex-wrap:wrap;\n",
              "      gap: 12px;\n",
              "    }\n",
              "\n",
              "    .colab-df-convert {\n",
              "      background-color: #E8F0FE;\n",
              "      border: none;\n",
              "      border-radius: 50%;\n",
              "      cursor: pointer;\n",
              "      display: none;\n",
              "      fill: #1967D2;\n",
              "      height: 32px;\n",
              "      padding: 0 0 0 0;\n",
              "      width: 32px;\n",
              "    }\n",
              "\n",
              "    .colab-df-convert:hover {\n",
              "      background-color: #E2EBFA;\n",
              "      box-shadow: 0px 1px 2px rgba(60, 64, 67, 0.3), 0px 1px 3px 1px rgba(60, 64, 67, 0.15);\n",
              "      fill: #174EA6;\n",
              "    }\n",
              "\n",
              "    [theme=dark] .colab-df-convert {\n",
              "      background-color: #3B4455;\n",
              "      fill: #D2E3FC;\n",
              "    }\n",
              "\n",
              "    [theme=dark] .colab-df-convert:hover {\n",
              "      background-color: #434B5C;\n",
              "      box-shadow: 0px 1px 3px 1px rgba(0, 0, 0, 0.15);\n",
              "      filter: drop-shadow(0px 1px 2px rgba(0, 0, 0, 0.3));\n",
              "      fill: #FFFFFF;\n",
              "    }\n",
              "  </style>\n",
              "\n",
              "      <script>\n",
              "        const buttonEl =\n",
              "          document.querySelector('#df-39f9b6e0-667a-459f-b9ef-c64a333a9828 button.colab-df-convert');\n",
              "        buttonEl.style.display =\n",
              "          google.colab.kernel.accessAllowed ? 'block' : 'none';\n",
              "\n",
              "        async function convertToInteractive(key) {\n",
              "          const element = document.querySelector('#df-39f9b6e0-667a-459f-b9ef-c64a333a9828');\n",
              "          const dataTable =\n",
              "            await google.colab.kernel.invokeFunction('convertToInteractive',\n",
              "                                                     [key], {});\n",
              "          if (!dataTable) return;\n",
              "\n",
              "          const docLinkHtml = 'Like what you see? Visit the ' +\n",
              "            '<a target=\"_blank\" href=https://colab.research.google.com/notebooks/data_table.ipynb>data table notebook</a>'\n",
              "            + ' to learn more about interactive tables.';\n",
              "          element.innerHTML = '';\n",
              "          dataTable['output_type'] = 'display_data';\n",
              "          await google.colab.output.renderOutput(dataTable, element);\n",
              "          const docLink = document.createElement('div');\n",
              "          docLink.innerHTML = docLinkHtml;\n",
              "          element.appendChild(docLink);\n",
              "        }\n",
              "      </script>\n",
              "    </div>\n",
              "  </div>\n",
              "  "
            ]
          },
          "metadata": {},
          "execution_count": 14
        }
      ],
      "source": [
        "df_explicativo1 = pd.DataFrame({ #Creo un dataframe con el número de pacientes que cumple cada condición\n",
        "  'Rows': [len(data_all.axes[0]), len(data_death.axes[0]), len(data_regular.axes[0]), len(data_health.axes[0])],\n",
        "  }, index= ['1-1: MUY GRAVE', '0-1: MUY GRAVE', '1-0: REGULAR', '0-0: SANO'])\n",
        "\n",
        "df_explicativo1"
      ]
    },
    {
      "cell_type": "markdown",
      "metadata": {
        "id": "xsrED4gZ593E"
      },
      "source": [
        "Teniendo en cuenta cómo se reparte el número de pacientes en cada uno de los grupos, es decir se aprecia un desbalanceo, he decidido agrupar a los sano por una lado (sanos = 0) y por otro lado el resto de pacientes (grave = 1)"
      ]
    },
    {
      "cell_type": "markdown",
      "metadata": {
        "id": "Vzxja9QJs5xE"
      },
      "source": [
        "\n",
        "- UCI=1 y FALLECE=1 / UCI=0 y FALLLECE=1 / UCI=1 y FALLECE=0 --> NO SANO\n",
        "\n",
        "- UCI=0 y FALLECE=0 --> SANO"
      ]
    },
    {
      "cell_type": "code",
      "execution_count": 15,
      "metadata": {
        "colab": {
          "base_uri": "https://localhost:8080/",
          "height": 112
        },
        "id": "eX7EepvN612b",
        "outputId": "955b4096-f456-4a92-9da0-8f1abf3bcb48"
      },
      "outputs": [
        {
          "output_type": "execute_result",
          "data": {
            "text/plain": [
              "           Rows\n",
              "1:NO SANO    17\n",
              "0: SANO      79"
            ],
            "text/html": [
              "\n",
              "  <div id=\"df-b857e473-3f09-4e57-8c4b-d6c2cd084ba9\">\n",
              "    <div class=\"colab-df-container\">\n",
              "      <div>\n",
              "<style scoped>\n",
              "    .dataframe tbody tr th:only-of-type {\n",
              "        vertical-align: middle;\n",
              "    }\n",
              "\n",
              "    .dataframe tbody tr th {\n",
              "        vertical-align: top;\n",
              "    }\n",
              "\n",
              "    .dataframe thead th {\n",
              "        text-align: right;\n",
              "    }\n",
              "</style>\n",
              "<table border=\"1\" class=\"dataframe\">\n",
              "  <thead>\n",
              "    <tr style=\"text-align: right;\">\n",
              "      <th></th>\n",
              "      <th>Rows</th>\n",
              "    </tr>\n",
              "  </thead>\n",
              "  <tbody>\n",
              "    <tr>\n",
              "      <th>1:NO SANO</th>\n",
              "      <td>17</td>\n",
              "    </tr>\n",
              "    <tr>\n",
              "      <th>0: SANO</th>\n",
              "      <td>79</td>\n",
              "    </tr>\n",
              "  </tbody>\n",
              "</table>\n",
              "</div>\n",
              "      <button class=\"colab-df-convert\" onclick=\"convertToInteractive('df-b857e473-3f09-4e57-8c4b-d6c2cd084ba9')\"\n",
              "              title=\"Convert this dataframe to an interactive table.\"\n",
              "              style=\"display:none;\">\n",
              "        \n",
              "  <svg xmlns=\"http://www.w3.org/2000/svg\" height=\"24px\"viewBox=\"0 0 24 24\"\n",
              "       width=\"24px\">\n",
              "    <path d=\"M0 0h24v24H0V0z\" fill=\"none\"/>\n",
              "    <path d=\"M18.56 5.44l.94 2.06.94-2.06 2.06-.94-2.06-.94-.94-2.06-.94 2.06-2.06.94zm-11 1L8.5 8.5l.94-2.06 2.06-.94-2.06-.94L8.5 2.5l-.94 2.06-2.06.94zm10 10l.94 2.06.94-2.06 2.06-.94-2.06-.94-.94-2.06-.94 2.06-2.06.94z\"/><path d=\"M17.41 7.96l-1.37-1.37c-.4-.4-.92-.59-1.43-.59-.52 0-1.04.2-1.43.59L10.3 9.45l-7.72 7.72c-.78.78-.78 2.05 0 2.83L4 21.41c.39.39.9.59 1.41.59.51 0 1.02-.2 1.41-.59l7.78-7.78 2.81-2.81c.8-.78.8-2.07 0-2.86zM5.41 20L4 18.59l7.72-7.72 1.47 1.35L5.41 20z\"/>\n",
              "  </svg>\n",
              "      </button>\n",
              "      \n",
              "  <style>\n",
              "    .colab-df-container {\n",
              "      display:flex;\n",
              "      flex-wrap:wrap;\n",
              "      gap: 12px;\n",
              "    }\n",
              "\n",
              "    .colab-df-convert {\n",
              "      background-color: #E8F0FE;\n",
              "      border: none;\n",
              "      border-radius: 50%;\n",
              "      cursor: pointer;\n",
              "      display: none;\n",
              "      fill: #1967D2;\n",
              "      height: 32px;\n",
              "      padding: 0 0 0 0;\n",
              "      width: 32px;\n",
              "    }\n",
              "\n",
              "    .colab-df-convert:hover {\n",
              "      background-color: #E2EBFA;\n",
              "      box-shadow: 0px 1px 2px rgba(60, 64, 67, 0.3), 0px 1px 3px 1px rgba(60, 64, 67, 0.15);\n",
              "      fill: #174EA6;\n",
              "    }\n",
              "\n",
              "    [theme=dark] .colab-df-convert {\n",
              "      background-color: #3B4455;\n",
              "      fill: #D2E3FC;\n",
              "    }\n",
              "\n",
              "    [theme=dark] .colab-df-convert:hover {\n",
              "      background-color: #434B5C;\n",
              "      box-shadow: 0px 1px 3px 1px rgba(0, 0, 0, 0.15);\n",
              "      filter: drop-shadow(0px 1px 2px rgba(0, 0, 0, 0.3));\n",
              "      fill: #FFFFFF;\n",
              "    }\n",
              "  </style>\n",
              "\n",
              "      <script>\n",
              "        const buttonEl =\n",
              "          document.querySelector('#df-b857e473-3f09-4e57-8c4b-d6c2cd084ba9 button.colab-df-convert');\n",
              "        buttonEl.style.display =\n",
              "          google.colab.kernel.accessAllowed ? 'block' : 'none';\n",
              "\n",
              "        async function convertToInteractive(key) {\n",
              "          const element = document.querySelector('#df-b857e473-3f09-4e57-8c4b-d6c2cd084ba9');\n",
              "          const dataTable =\n",
              "            await google.colab.kernel.invokeFunction('convertToInteractive',\n",
              "                                                     [key], {});\n",
              "          if (!dataTable) return;\n",
              "\n",
              "          const docLinkHtml = 'Like what you see? Visit the ' +\n",
              "            '<a target=\"_blank\" href=https://colab.research.google.com/notebooks/data_table.ipynb>data table notebook</a>'\n",
              "            + ' to learn more about interactive tables.';\n",
              "          element.innerHTML = '';\n",
              "          dataTable['output_type'] = 'display_data';\n",
              "          await google.colab.output.renderOutput(dataTable, element);\n",
              "          const docLink = document.createElement('div');\n",
              "          docLink.innerHTML = docLinkHtml;\n",
              "          element.appendChild(docLink);\n",
              "        }\n",
              "      </script>\n",
              "    </div>\n",
              "  </div>\n",
              "  "
            ]
          },
          "metadata": {},
          "execution_count": 15
        }
      ],
      "source": [
        "df_explicativo2 = pd.DataFrame({ #Creo un dataframe con el número de pacientes que cumple cada condición\n",
        "  'Rows': [len(data_all.axes[0]) + len(data_death.axes[0]) + len(data_regular.axes[0]), len(data_health.axes[0])],\n",
        "  }, index= ['1:NO SANO', '0: SANO'])\n",
        "\n",
        "df_explicativo2"
      ]
    },
    {
      "cell_type": "markdown",
      "metadata": {
        "id": "Vtbt65BWJKGi"
      },
      "source": [
        "### 1.3 TIPO DE CADA COLUMNA"
      ]
    },
    {
      "cell_type": "code",
      "execution_count": 16,
      "metadata": {
        "colab": {
          "base_uri": "https://localhost:8080/"
        },
        "id": "MVxlf2CLJUow",
        "outputId": "25bfbec0-b921-4e3d-eef6-495941d881b6",
        "scrolled": false
      },
      "outputs": [
        {
          "output_type": "stream",
          "name": "stdout",
          "text": [
            "<class 'pandas.core.frame.DataFrame'>\n",
            "Int64Index: 320 entries, 4 to 341\n",
            "Data columns (total 113 columns):\n",
            " #    Column             Non-Null Count  Dtype  \n",
            "---   ------             --------------  -----  \n",
            " 0    Número             319 non-null    float64\n",
            " 1    Código Externo     320 non-null    int64  \n",
            " 2    FALLECE            96 non-null     float64\n",
            " 3    UCI                96 non-null     float64\n",
            " 4    19nCv              105 non-null    object \n",
            " 5    Fecha              320 non-null    object \n",
            " 6    Edad del Paciente  320 non-null    object \n",
            " 7    Sexo del Paciente  320 non-null    object \n",
            " 8    LEU                284 non-null    object \n",
            " 9    NEU                284 non-null    object \n",
            " 10   NEUp               284 non-null    object \n",
            " 11   LIN                284 non-null    object \n",
            " 12   LINp               284 non-null    object \n",
            " 13   MON                284 non-null    object \n",
            " 14   MONp               284 non-null    object \n",
            " 15   EOS                284 non-null    object \n",
            " 16   EOSp               284 non-null    object \n",
            " 17   BAS                284 non-null    object \n",
            " 18   BASp               284 non-null    object \n",
            " 19   IG                 284 non-null    object \n",
            " 20   IGp                284 non-null    object \n",
            " 21   ERIT               284 non-null    object \n",
            " 22   HGB                284 non-null    object \n",
            " 23   HCT                284 non-null    object \n",
            " 24   VCM                284 non-null    object \n",
            " 25   HCM                284 non-null    object \n",
            " 26   CHCM               284 non-null    object \n",
            " 27   RDW                284 non-null    object \n",
            " 28   ERBL               284 non-null    object \n",
            " 29   ERBLp              284 non-null    object \n",
            " 30   RET                9 non-null      object \n",
            " 31   RETp               9 non-null      object \n",
            " 32   FRI                9 non-null      object \n",
            " 33   RETHE              9 non-null      object \n",
            " 34   PLT                282 non-null    float64\n",
            " 35   PLTI               282 non-null    float64\n",
            " 36   PLTF               4 non-null      float64\n",
            " 37   PLTO               9 non-null      float64\n",
            " 38   VPM                283 non-null    object \n",
            " 39   IPF                4 non-null      object \n",
            " 40   MNEU               7 non-null      float64\n",
            " 41   MLIN               7 non-null      object \n",
            " 42   MMON               7 non-null      object \n",
            " 43   MBAS               7 non-null      float64\n",
            " 44   MEOS               7 non-null      float64\n",
            " 45   MCAS               7 non-null      object \n",
            " 46   MMET               3 non-null      float64\n",
            " 47   MMIE               2 non-null      float64\n",
            " 48   MPRO               2 non-null      float64\n",
            " 49   CPLAS              2 non-null      float64\n",
            " 50   MBLS               2 non-null      float64\n",
            " 51   MERI               3 non-null      object \n",
            " 52   rNe/L              160 non-null    object \n",
            " 53   rPL/L              160 non-null    object \n",
            " 54   HIPER              9 non-null      object \n",
            " 55   HYPO               9 non-null      object \n",
            " 56   MACR               0 non-null      float64\n",
            " 57   MICRO              0 non-null      float64\n",
            " 58   FRAGM              9 non-null      object \n",
            " 59   MacR               284 non-null    object \n",
            " 60   MicR               284 non-null    object \n",
            " 61   RBCO               0 non-null      float64\n",
            " 62   MCHCO              9 non-null      object \n",
            " 63   BA-D#              284 non-null    object \n",
            " 64   NEFSC              284 non-null    object \n",
            " 65   BA-D%              284 non-null    object \n",
            " 66   BA-N#              284 non-null    object \n",
            " 67   BA-N%              284 non-null    object \n",
            " 68   D-HE               9 non-null      object \n",
            " 69   FRCA               9 non-null      object \n",
            " 70   HFLCA              284 non-null    object \n",
            " 71   HFLCP              284 non-null    object \n",
            " 72   HIPF               4 non-null      object \n",
            " 73   IPFA               4 non-null      object \n",
            " 74   IRF-Y              9 non-null      object \n",
            " 75   LY-WX              284 non-null    float64\n",
            " 76   LY-WY              284 non-null    float64\n",
            " 77   LY-WZ              284 non-null    float64\n",
            " 78   LY-X               284 non-null    object \n",
            " 79   LY-Y               284 non-null    object \n",
            " 80   LY-Z               284 non-null    object \n",
            " 81   MO-WX              284 non-null    float64\n",
            " 82   MO-WY              284 non-null    float64\n",
            " 83   MO-WZ              284 non-null    float64\n",
            " 84   MO-X               284 non-null    object \n",
            " 85   MO-Y               284 non-null    object \n",
            " 86   MO-Z               284 non-null    object \n",
            " 87   NESFL              284 non-null    object \n",
            " 88   NESSC              284 non-null    object \n",
            " 89   NE-WX              284 non-null    float64\n",
            " 90   NE-WY              284 non-null    float64\n",
            " 91   NE-WZ              284 non-null    float64\n",
            " 92   RBCHE              9 non-null      object \n",
            " 93   RBC-Y              9 non-null      object \n",
            " 94   RTNC               9 non-null      float64\n",
            " 95   RUPP               9 non-null      float64\n",
            " 96   RET-Y              9 non-null      object \n",
            " 97   RPI                9 non-null      object \n",
            " 98   TNC-D              0 non-null      float64\n",
            " 99   TNC-N              284 non-null    object \n",
            " 100  TNC-P              0 non-null      float64\n",
            " 101  WBC-D              284 non-null    object \n",
            " 102  WBC-N              284 non-null    object \n",
            " 103  WBC-P              0 non-null      float64\n",
            " 104  ASLYP              284 non-null    object \n",
            " 105  ASLYA              284 non-null    object \n",
            " 106  RELPL              284 non-null    object \n",
            " 107  RELYP              284 non-null    object \n",
            " 108  RELYA              284 non-null    object \n",
            " 109  NEUGI              284 non-null    object \n",
            " 110  NEURI              284 non-null    object \n",
            " 111  ASLPL              284 non-null    object \n",
            " 112  19nCv.1            51 non-null     object \n",
            "dtypes: float64(32), int64(1), object(80)\n",
            "memory usage: 285.0+ KB\n"
          ]
        },
        {
          "output_type": "stream",
          "name": "stderr",
          "text": [
            "/usr/local/lib/python3.7/dist-packages/ipykernel_launcher.py:1: FutureWarning: null_counts is deprecated. Use show_counts instead\n",
            "  \"\"\"Entry point for launching an IPython kernel.\n"
          ]
        }
      ],
      "source": [
        "db1.info(verbose=True, null_counts=True) #Hay un total de 342 filas"
      ]
    },
    {
      "cell_type": "markdown",
      "metadata": {
        "id": "3Qr2sneVyIV-"
      },
      "source": [
        "- Una vez se analizan las columnas, se puede observar que aquellas columnas con valores númericos separados por comas son de tipo **object**, por lo que las comas deben ser reemplazadas por puntos.\n",
        "\n",
        "- Se observa como la variable **Edad** se encuentra como **object** debido a que la edad de cada paciente ha sido registrada seguida de la palabra **años**. Por ello, se crea una función que permita eliminar dicha palabra y a su vez convertir la variable a tipo numérico. \n",
        "\n",
        "- También, se precisa de otras variables como **object** cuando deberian de ser numéricas debido a la presencia de \"----\" que hacen referencia a valores perdidos. Por tanto, aquellas variables que presenten este conjunto de caracteres serán reemplazados por NaN. \n",
        "\n",
        "- Finalmente, tras los cambios realizados, se crea un código capaz de transformas las columnas tipo **object** en tipo **numérico**"
      ]
    },
    {
      "cell_type": "code",
      "execution_count": 17,
      "metadata": {
        "id": "Hww7kQIfw6rn"
      },
      "outputs": [],
      "source": [
        "#Cambio de comas por puntos\n",
        "db1 = db1.replace(',','.', regex=True)\n",
        "\n",
        "#Reemplazo esos caracteres por NaN\n",
        "db1=db1.replace(\"----\",np.nan)\n",
        "\n",
        "# Función que elimina la palabra años\n",
        "def only_digits (txt):\n",
        "  return \"\".join(c for c in txt if c.isdigit())\n",
        "\n",
        "db1[\"Edad del Paciente\"] = db1[\"Edad del Paciente\"].map(only_digits)\n",
        "\n",
        "## MUY IMPORTANTE. Conversión de variables excepto 19nCv, Fecha, Sexo del Paciente y 19nCv.1 \n",
        "# Una vez hecho el cambio de comas por puntos y haber introducido NaN por \"----\", este código me transforma los 'object' en 'numerics'\n",
        "for i in db1:\n",
        "  if not (i==\"19nCv\" or i==\"Fecha\" or i==\"Sexo del Paciente\" or i==\"19nCv.1\"):\n",
        "    if db1[i].dtypes == object:\n",
        "      db1[i] = pd.to_numeric(db1[i])\n",
        "\n",
        "#Paso la variable \"fecha\" de tipo object a tipo datatime, para poder tratar con ella como una fecha.\n",
        "db1[\"Fecha\"]=pd.to_datetime(db1[\"Fecha\"])"
      ]
    },
    {
      "cell_type": "code",
      "execution_count": 18,
      "metadata": {
        "colab": {
          "base_uri": "https://localhost:8080/"
        },
        "id": "WVyKliad_Gsm",
        "outputId": "cda7aace-7ef0-4169-a529-82bf8967a010",
        "scrolled": false
      },
      "outputs": [
        {
          "output_type": "stream",
          "name": "stdout",
          "text": [
            "<class 'pandas.core.frame.DataFrame'>\n",
            "Int64Index: 320 entries, 4 to 341\n",
            "Data columns (total 113 columns):\n",
            " #    Column             Non-Null Count  Dtype         \n",
            "---   ------             --------------  -----         \n",
            " 0    Número             319 non-null    float64       \n",
            " 1    Código Externo     320 non-null    int64         \n",
            " 2    FALLECE            96 non-null     float64       \n",
            " 3    UCI                96 non-null     float64       \n",
            " 4    19nCv              105 non-null    object        \n",
            " 5    Fecha              320 non-null    datetime64[ns]\n",
            " 6    Edad del Paciente  320 non-null    int64         \n",
            " 7    Sexo del Paciente  320 non-null    object        \n",
            " 8    LEU                284 non-null    float64       \n",
            " 9    NEU                284 non-null    float64       \n",
            " 10   NEUp               284 non-null    float64       \n",
            " 11   LIN                284 non-null    float64       \n",
            " 12   LINp               284 non-null    float64       \n",
            " 13   MON                284 non-null    float64       \n",
            " 14   MONp               284 non-null    float64       \n",
            " 15   EOS                284 non-null    float64       \n",
            " 16   EOSp               284 non-null    float64       \n",
            " 17   BAS                284 non-null    float64       \n",
            " 18   BASp               284 non-null    float64       \n",
            " 19   IG                 284 non-null    float64       \n",
            " 20   IGp                284 non-null    float64       \n",
            " 21   ERIT               284 non-null    float64       \n",
            " 22   HGB                284 non-null    float64       \n",
            " 23   HCT                284 non-null    float64       \n",
            " 24   VCM                284 non-null    float64       \n",
            " 25   HCM                284 non-null    float64       \n",
            " 26   CHCM               284 non-null    float64       \n",
            " 27   RDW                284 non-null    float64       \n",
            " 28   ERBL               284 non-null    float64       \n",
            " 29   ERBLp              284 non-null    float64       \n",
            " 30   RET                9 non-null      float64       \n",
            " 31   RETp               9 non-null      float64       \n",
            " 32   FRI                9 non-null      float64       \n",
            " 33   RETHE              9 non-null      float64       \n",
            " 34   PLT                282 non-null    float64       \n",
            " 35   PLTI               282 non-null    float64       \n",
            " 36   PLTF               4 non-null      float64       \n",
            " 37   PLTO               9 non-null      float64       \n",
            " 38   VPM                277 non-null    float64       \n",
            " 39   IPF                4 non-null      float64       \n",
            " 40   MNEU               7 non-null      float64       \n",
            " 41   MLIN               7 non-null      float64       \n",
            " 42   MMON               7 non-null      float64       \n",
            " 43   MBAS               7 non-null      float64       \n",
            " 44   MEOS               7 non-null      float64       \n",
            " 45   MCAS               7 non-null      float64       \n",
            " 46   MMET               3 non-null      float64       \n",
            " 47   MMIE               2 non-null      float64       \n",
            " 48   MPRO               2 non-null      float64       \n",
            " 49   CPLAS              2 non-null      float64       \n",
            " 50   MBLS               2 non-null      float64       \n",
            " 51   MERI               3 non-null      float64       \n",
            " 52   rNe/L              160 non-null    float64       \n",
            " 53   rPL/L              160 non-null    float64       \n",
            " 54   HIPER              9 non-null      float64       \n",
            " 55   HYPO               9 non-null      float64       \n",
            " 56   MACR               0 non-null      float64       \n",
            " 57   MICRO              0 non-null      float64       \n",
            " 58   FRAGM              9 non-null      float64       \n",
            " 59   MacR               284 non-null    float64       \n",
            " 60   MicR               284 non-null    float64       \n",
            " 61   RBCO               0 non-null      float64       \n",
            " 62   MCHCO              9 non-null      float64       \n",
            " 63   BA-D#              284 non-null    float64       \n",
            " 64   NEFSC              284 non-null    float64       \n",
            " 65   BA-D%              284 non-null    float64       \n",
            " 66   BA-N#              284 non-null    float64       \n",
            " 67   BA-N%              284 non-null    float64       \n",
            " 68   D-HE               9 non-null      float64       \n",
            " 69   FRCA               9 non-null      float64       \n",
            " 70   HFLCA              284 non-null    float64       \n",
            " 71   HFLCP              284 non-null    float64       \n",
            " 72   HIPF               4 non-null      float64       \n",
            " 73   IPFA               4 non-null      float64       \n",
            " 74   IRF-Y              9 non-null      float64       \n",
            " 75   LY-WX              284 non-null    float64       \n",
            " 76   LY-WY              284 non-null    float64       \n",
            " 77   LY-WZ              284 non-null    float64       \n",
            " 78   LY-X               284 non-null    float64       \n",
            " 79   LY-Y               284 non-null    float64       \n",
            " 80   LY-Z               284 non-null    float64       \n",
            " 81   MO-WX              284 non-null    float64       \n",
            " 82   MO-WY              284 non-null    float64       \n",
            " 83   MO-WZ              284 non-null    float64       \n",
            " 84   MO-X               284 non-null    float64       \n",
            " 85   MO-Y               284 non-null    float64       \n",
            " 86   MO-Z               284 non-null    float64       \n",
            " 87   NESFL              284 non-null    float64       \n",
            " 88   NESSC              284 non-null    float64       \n",
            " 89   NE-WX              284 non-null    float64       \n",
            " 90   NE-WY              284 non-null    float64       \n",
            " 91   NE-WZ              284 non-null    float64       \n",
            " 92   RBCHE              9 non-null      float64       \n",
            " 93   RBC-Y              9 non-null      float64       \n",
            " 94   RTNC               9 non-null      float64       \n",
            " 95   RUPP               9 non-null      float64       \n",
            " 96   RET-Y              9 non-null      float64       \n",
            " 97   RPI                9 non-null      float64       \n",
            " 98   TNC-D              0 non-null      float64       \n",
            " 99   TNC-N              284 non-null    float64       \n",
            " 100  TNC-P              0 non-null      float64       \n",
            " 101  WBC-D              284 non-null    float64       \n",
            " 102  WBC-N              284 non-null    float64       \n",
            " 103  WBC-P              0 non-null      float64       \n",
            " 104  ASLYP              278 non-null    float64       \n",
            " 105  ASLYA              278 non-null    float64       \n",
            " 106  RELPL              278 non-null    float64       \n",
            " 107  RELYP              278 non-null    float64       \n",
            " 108  RELYA              278 non-null    float64       \n",
            " 109  NEUGI              284 non-null    float64       \n",
            " 110  NEURI              284 non-null    float64       \n",
            " 111  ASLPL              278 non-null    float64       \n",
            " 112  19nCv.1            51 non-null     object        \n",
            "dtypes: datetime64[ns](1), float64(107), int64(2), object(3)\n",
            "memory usage: 285.0+ KB\n"
          ]
        },
        {
          "output_type": "stream",
          "name": "stderr",
          "text": [
            "/usr/local/lib/python3.7/dist-packages/ipykernel_launcher.py:1: FutureWarning: null_counts is deprecated. Use show_counts instead\n",
            "  \"\"\"Entry point for launching an IPython kernel.\n"
          ]
        }
      ],
      "source": [
        "db1.info(verbose=True, null_counts=True)"
      ]
    },
    {
      "cell_type": "code",
      "execution_count": 19,
      "metadata": {
        "colab": {
          "base_uri": "https://localhost:8080/"
        },
        "id": "AKH3N8d2vvSD",
        "outputId": "34792674-a6d7-4d3a-cede-ced47e21dd18"
      },
      "outputs": [
        {
          "output_type": "stream",
          "name": "stdout",
          "text": [
            "El paciente de mayor edad tiene: 85 años\n",
            "El paciente de menor edad tiene: 27 años\n",
            "La media de edad en los pacientes es: 64.928125 años\n"
          ]
        }
      ],
      "source": [
        "max_edad = db1['Edad del Paciente'].max() \n",
        "print(\"El paciente de mayor edad tiene:\", max_edad,\"años\")\n",
        "\n",
        "min_edad = db1['Edad del Paciente'].min() \n",
        "print(\"El paciente de menor edad tiene:\", min_edad,\"años\")\n",
        "\n",
        "mean_edad = db1['Edad del Paciente'].mean() \n",
        "print(\"La media de edad en los pacientes es:\", mean_edad,\"años\")"
      ]
    },
    {
      "cell_type": "markdown",
      "metadata": {
        "id": "FGbLGUNc-SA2"
      },
      "source": [
        "### 1.4 ¿CUANTOS PACIENTES HAY EN LA BASE DE DATOS? ¿CUANTAS REVISIONES TIENE CADA PACIENTE?\n",
        "\n",
        "-El número de pacientes lo puedo sacar de la columna \"Código externo\". \n",
        "\n",
        "  1) Convierto esa columna en lista\n",
        "\n",
        "  2) Saco valores únicos en esa lista de duplicados"
      ]
    },
    {
      "cell_type": "markdown",
      "metadata": {
        "id": "wwcWawGV8utB"
      },
      "source": [
        "Con esta función consigo convertir la columna \"Código Externo\" en lista, para que de esa manera sea más manejable"
      ]
    },
    {
      "cell_type": "code",
      "execution_count": 20,
      "metadata": {
        "id": "SSjwukt071HB"
      },
      "outputs": [],
      "source": [
        "Codigo_lista = db1['Código Externo'].tolist()\n",
        "#print(\"La lista de la columna Código Externo es:\\n\", Codigo_lista,\"\\n\",type(Codigo_lista))"
      ]
    },
    {
      "cell_type": "code",
      "execution_count": 21,
      "metadata": {
        "colab": {
          "base_uri": "https://localhost:8080/"
        },
        "id": "8hAeVru_6vY8",
        "outputId": "6e198a3a-cc87-4560-b8fd-f951b9e2889b"
      },
      "outputs": [
        {
          "output_type": "stream",
          "name": "stdout",
          "text": [
            "dict_keys([11258, 115555, 111520, 116651, 130481, 107747, 132015, 11372, 108894, 109115, 112823, 108897, 116806, 101480, 118401, 118023, 116005, 109036, 116159, 119737, 109887, 135217, 112135, 131267, 105140, 111786, 104798, 117212, 109339, 126455, 114183, 1214, 122958, 116033, 121289, 123676, 115847, 124738, 115784, 135062, 108527, 13299, 105639, 123456, 104849, 137304, 112511, 123156, 136922, 11197, 134855, 10074, 107746, 111561, 117398, 117462, 102441, 126638, 101660, 123724, 105582, 133617, 10092, 111310, 111339, 131394, 110435, 127383, 12016, 110607, 128124, 119766, 104851, 124850, 133978, 119606, 121358, 120418, 130937, 104431, 138076, 136647, 132432, 112894, 114495, 13397, 106066, 128864, 109129, 110011, 134492, 114819, 137069, 1164, 116453, 122654, 128148, 101609])\n",
            "El número de pacientes en la base de datos es: 98\n"
          ]
        }
      ],
      "source": [
        "from collections import Counter\n",
        "\n",
        "print(Counter(Codigo_lista).keys())\n",
        "#print(Counter(Codigo_lista).values()) #Esta función me da el número de veces que sale repetido un paciente,\n",
        "                  #es decir, el número de pruebas diferentes que se le hacen (igual que la siguiente función)\n",
        "\n",
        "print(\"El número de pacientes en la base de datos es:\", len(set(Codigo_lista))) \n",
        "#Me da el número de valores únicos en una lista de duplicados = número de pacientes"
      ]
    },
    {
      "cell_type": "code",
      "execution_count": 22,
      "metadata": {
        "colab": {
          "base_uri": "https://localhost:8080/",
          "height": 423
        },
        "id": "vRI3gxVgL2dn",
        "outputId": "c4999876-36e7-4be3-98c0-9ef7698742ac"
      },
      "outputs": [
        {
          "output_type": "execute_result",
          "data": {
            "text/plain": [
              "    Código externo  Número de citas\n",
              "0            11258                3\n",
              "1           115555                4\n",
              "2           111520                3\n",
              "3           116651                3\n",
              "4           130481                2\n",
              "..             ...              ...\n",
              "93            1164                3\n",
              "94          116453                4\n",
              "95          122654                2\n",
              "96          128148                4\n",
              "97          101609                4\n",
              "\n",
              "[98 rows x 2 columns]"
            ],
            "text/html": [
              "\n",
              "  <div id=\"df-10e6fa15-abde-437f-a9cf-d65b90f8f6d6\">\n",
              "    <div class=\"colab-df-container\">\n",
              "      <div>\n",
              "<style scoped>\n",
              "    .dataframe tbody tr th:only-of-type {\n",
              "        vertical-align: middle;\n",
              "    }\n",
              "\n",
              "    .dataframe tbody tr th {\n",
              "        vertical-align: top;\n",
              "    }\n",
              "\n",
              "    .dataframe thead th {\n",
              "        text-align: right;\n",
              "    }\n",
              "</style>\n",
              "<table border=\"1\" class=\"dataframe\">\n",
              "  <thead>\n",
              "    <tr style=\"text-align: right;\">\n",
              "      <th></th>\n",
              "      <th>Código externo</th>\n",
              "      <th>Número de citas</th>\n",
              "    </tr>\n",
              "  </thead>\n",
              "  <tbody>\n",
              "    <tr>\n",
              "      <th>0</th>\n",
              "      <td>11258</td>\n",
              "      <td>3</td>\n",
              "    </tr>\n",
              "    <tr>\n",
              "      <th>1</th>\n",
              "      <td>115555</td>\n",
              "      <td>4</td>\n",
              "    </tr>\n",
              "    <tr>\n",
              "      <th>2</th>\n",
              "      <td>111520</td>\n",
              "      <td>3</td>\n",
              "    </tr>\n",
              "    <tr>\n",
              "      <th>3</th>\n",
              "      <td>116651</td>\n",
              "      <td>3</td>\n",
              "    </tr>\n",
              "    <tr>\n",
              "      <th>4</th>\n",
              "      <td>130481</td>\n",
              "      <td>2</td>\n",
              "    </tr>\n",
              "    <tr>\n",
              "      <th>...</th>\n",
              "      <td>...</td>\n",
              "      <td>...</td>\n",
              "    </tr>\n",
              "    <tr>\n",
              "      <th>93</th>\n",
              "      <td>1164</td>\n",
              "      <td>3</td>\n",
              "    </tr>\n",
              "    <tr>\n",
              "      <th>94</th>\n",
              "      <td>116453</td>\n",
              "      <td>4</td>\n",
              "    </tr>\n",
              "    <tr>\n",
              "      <th>95</th>\n",
              "      <td>122654</td>\n",
              "      <td>2</td>\n",
              "    </tr>\n",
              "    <tr>\n",
              "      <th>96</th>\n",
              "      <td>128148</td>\n",
              "      <td>4</td>\n",
              "    </tr>\n",
              "    <tr>\n",
              "      <th>97</th>\n",
              "      <td>101609</td>\n",
              "      <td>4</td>\n",
              "    </tr>\n",
              "  </tbody>\n",
              "</table>\n",
              "<p>98 rows × 2 columns</p>\n",
              "</div>\n",
              "      <button class=\"colab-df-convert\" onclick=\"convertToInteractive('df-10e6fa15-abde-437f-a9cf-d65b90f8f6d6')\"\n",
              "              title=\"Convert this dataframe to an interactive table.\"\n",
              "              style=\"display:none;\">\n",
              "        \n",
              "  <svg xmlns=\"http://www.w3.org/2000/svg\" height=\"24px\"viewBox=\"0 0 24 24\"\n",
              "       width=\"24px\">\n",
              "    <path d=\"M0 0h24v24H0V0z\" fill=\"none\"/>\n",
              "    <path d=\"M18.56 5.44l.94 2.06.94-2.06 2.06-.94-2.06-.94-.94-2.06-.94 2.06-2.06.94zm-11 1L8.5 8.5l.94-2.06 2.06-.94-2.06-.94L8.5 2.5l-.94 2.06-2.06.94zm10 10l.94 2.06.94-2.06 2.06-.94-2.06-.94-.94-2.06-.94 2.06-2.06.94z\"/><path d=\"M17.41 7.96l-1.37-1.37c-.4-.4-.92-.59-1.43-.59-.52 0-1.04.2-1.43.59L10.3 9.45l-7.72 7.72c-.78.78-.78 2.05 0 2.83L4 21.41c.39.39.9.59 1.41.59.51 0 1.02-.2 1.41-.59l7.78-7.78 2.81-2.81c.8-.78.8-2.07 0-2.86zM5.41 20L4 18.59l7.72-7.72 1.47 1.35L5.41 20z\"/>\n",
              "  </svg>\n",
              "      </button>\n",
              "      \n",
              "  <style>\n",
              "    .colab-df-container {\n",
              "      display:flex;\n",
              "      flex-wrap:wrap;\n",
              "      gap: 12px;\n",
              "    }\n",
              "\n",
              "    .colab-df-convert {\n",
              "      background-color: #E8F0FE;\n",
              "      border: none;\n",
              "      border-radius: 50%;\n",
              "      cursor: pointer;\n",
              "      display: none;\n",
              "      fill: #1967D2;\n",
              "      height: 32px;\n",
              "      padding: 0 0 0 0;\n",
              "      width: 32px;\n",
              "    }\n",
              "\n",
              "    .colab-df-convert:hover {\n",
              "      background-color: #E2EBFA;\n",
              "      box-shadow: 0px 1px 2px rgba(60, 64, 67, 0.3), 0px 1px 3px 1px rgba(60, 64, 67, 0.15);\n",
              "      fill: #174EA6;\n",
              "    }\n",
              "\n",
              "    [theme=dark] .colab-df-convert {\n",
              "      background-color: #3B4455;\n",
              "      fill: #D2E3FC;\n",
              "    }\n",
              "\n",
              "    [theme=dark] .colab-df-convert:hover {\n",
              "      background-color: #434B5C;\n",
              "      box-shadow: 0px 1px 3px 1px rgba(0, 0, 0, 0.15);\n",
              "      filter: drop-shadow(0px 1px 2px rgba(0, 0, 0, 0.3));\n",
              "      fill: #FFFFFF;\n",
              "    }\n",
              "  </style>\n",
              "\n",
              "      <script>\n",
              "        const buttonEl =\n",
              "          document.querySelector('#df-10e6fa15-abde-437f-a9cf-d65b90f8f6d6 button.colab-df-convert');\n",
              "        buttonEl.style.display =\n",
              "          google.colab.kernel.accessAllowed ? 'block' : 'none';\n",
              "\n",
              "        async function convertToInteractive(key) {\n",
              "          const element = document.querySelector('#df-10e6fa15-abde-437f-a9cf-d65b90f8f6d6');\n",
              "          const dataTable =\n",
              "            await google.colab.kernel.invokeFunction('convertToInteractive',\n",
              "                                                     [key], {});\n",
              "          if (!dataTable) return;\n",
              "\n",
              "          const docLinkHtml = 'Like what you see? Visit the ' +\n",
              "            '<a target=\"_blank\" href=https://colab.research.google.com/notebooks/data_table.ipynb>data table notebook</a>'\n",
              "            + ' to learn more about interactive tables.';\n",
              "          element.innerHTML = '';\n",
              "          dataTable['output_type'] = 'display_data';\n",
              "          await google.colab.output.renderOutput(dataTable, element);\n",
              "          const docLink = document.createElement('div');\n",
              "          docLink.innerHTML = docLinkHtml;\n",
              "          element.appendChild(docLink);\n",
              "        }\n",
              "      </script>\n",
              "    </div>\n",
              "  </div>\n",
              "  "
            ]
          },
          "metadata": {},
          "execution_count": 22
        }
      ],
      "source": [
        "code = Counter(Codigo_lista) #diccionario con el recuento de citas por paciente\n",
        "lista = pd.DataFrame.from_dict(code, orient='index').reset_index() #convierto la variable \"code\" en dataframe\n",
        "lista = lista.rename(columns={'index':'Código externo', 0:'Número de citas'})\n",
        "lista"
      ]
    },
    {
      "cell_type": "code",
      "execution_count": 23,
      "metadata": {
        "colab": {
          "base_uri": "https://localhost:8080/"
        },
        "id": "EeIWZRRnsqXQ",
        "outputId": "f1e1663c-c4f5-48f4-fede-422c7b59041b"
      },
      "outputs": [
        {
          "output_type": "stream",
          "name": "stdout",
          "text": [
            "                 Código externo\n",
            "Número de citas                \n",
            "1                             3\n",
            "2                            12\n",
            "3                            39\n",
            "4                            44\n"
          ]
        }
      ],
      "source": [
        "### NUMERO DE PACIENTES CON 1,2,3 y 4 citas\n",
        "CITAS = lista.groupby(['Número de citas']).count() \n",
        "print (CITAS)"
      ]
    },
    {
      "cell_type": "code",
      "execution_count": 24,
      "metadata": {
        "colab": {
          "base_uri": "https://localhost:8080/",
          "height": 448
        },
        "id": "aL5mT_NBTc1K",
        "outputId": "0dca679f-31e0-4400-81fc-357fa531176e"
      },
      "outputs": [
        {
          "output_type": "execute_result",
          "data": {
            "text/plain": [
              "<matplotlib.axes._subplots.AxesSubplot at 0x7fdda956ee90>"
            ]
          },
          "metadata": {},
          "execution_count": 24
        },
        {
          "output_type": "display_data",
          "data": {
            "text/plain": [
              "<Figure size 720x1440 with 0 Axes>"
            ]
          },
          "metadata": {}
        },
        {
          "output_type": "display_data",
          "data": {
            "text/plain": [
              "<Figure size 1440x432 with 1 Axes>"
            ],
            "image/png": "[encoded data removed]"
          },
          "metadata": {
            "needs_background": "light"
          }
        }
      ],
      "source": [
        "lista = pd.DataFrame.from_dict(code, orient='index')\n",
        "plt.figure(figsize=(10,20))\n",
        "lista.plot(kind='bar',figsize=(20,6), title='Número de citas por paciente', xlabel='Pacientes', ylabel='Citas') \n",
        "#es \"bar\" y no \"hist\" porque Counter está haciendo un recuento de frecuencia."
      ]
    },
    {
      "cell_type": "markdown",
      "metadata": {
        "id": "2uEMoBCZsWF6"
      },
      "source": [
        "## 1.5 INTRODUCCION DE COLUMNAS \"NUMERO DE LA REVISION\" Y \"LABEL\" \n"
      ]
    },
    {
      "cell_type": "markdown",
      "metadata": {
        "id": "41Pb1iZP5WJx"
      },
      "source": [
        "Una vez conozco el numero de citas de cada paciente, a continuación debo conseguir agrupar dichas citas y ordenarlas según \"Fecha\". Una vez conseguido, debo añadir una columna nueva indicando el número que corresponde a esa cita (1,2,3 o 4)."
      ]
    },
    {
      "cell_type": "markdown",
      "metadata": {
        "id": "GVyyj0uX8Ega"
      },
      "source": [
        "A continuación tengo que agrupar y ordenar las citas de cada uno de los pacientes. Posteriormente con ese agrupamiento podré crear 98 dataframes."
      ]
    },
    {
      "cell_type": "code",
      "execution_count": null,
      "metadata": {
        "id": "_IfeAPYuZ_Hn"
      },
      "outputs": [],
      "source": [
        "hola = db1.loc[db1[\"Código Externo\"] == 137304]\n",
        "hola = hola.sort_values('Fecha')\n",
        "hola['Revision'] = range(1, 1+len(hola)) #en la nueva columna \"Revision\" se van a añadiendo valores de manera incremental desde 1 teniendo \n",
        "                                        # en cuenta el número de citas de cada paciente.\n",
        "hola"
      ]
    },
    {
      "cell_type": "markdown",
      "metadata": {
        "id": "wCIHit_Qre9U"
      },
      "source": [
        "(Código utilizado para ir sacando los pacientes de la base de datos db1 e ir añadiendo una columna nueva \"Revisión\" con un valor, haciendo referencia dicho valor al orden de citas de cada paciente.)"
      ]
    },
    {
      "cell_type": "code",
      "execution_count": null,
      "metadata": {
        "id": "0ggTrScxAbrn"
      },
      "outputs": [],
      "source": [
        "#empty_df = pd.DataFrame()\n",
        "\n",
        "#first = db1.loc[db1[\"Código Externo\"] == 11258]\n",
        "#first = first.sort_values('Fecha')\n",
        "#first['Revision'] = range(1, 1+len(first)) #en la nueva columna \"Revision\" se van a añadiendo valores de manera incremental desde 1 teniendo \n",
        "                                        # en cuenta el número de citas de cada paciente.\n",
        "\n",
        "#empty_df = empty_df.append(first)"
      ]
    },
    {
      "cell_type": "code",
      "execution_count": null,
      "metadata": {
        "id": "w0CYY3e5wRrD"
      },
      "outputs": [],
      "source": [
        "#lista_pacientes = Counter(Codigo_lista).keys()\n",
        "\n",
        "#for i in lista_pacientes:\n",
        "#    if i not in empty_df.values:\n",
        "#     new = db1.loc[db1[\"Código Externo\"] == i]\n",
        "#     new = new.sort_values('Fecha')\n",
        "#     new['Revision'] = range(1, 1+len(new)) #en la nueva columna \"Revision\" se van a añadiendo valores de manera incremental desde 1 teniendo \n",
        "                                          # en cuenta el número de citas de cada paciente.\n",
        "\n",
        "#     empty_df = empty_df.append(new)#cada vez que se itera se añade el df del paciente\n",
        "\n",
        "#    else:\n",
        "#      continue\n",
        "\n",
        "#empty_df"
      ]
    },
    {
      "cell_type": "markdown",
      "metadata": {
        "id": "1rhxQSIp4NHn"
      },
      "source": [
        "Código en el que añado una nueva columna \"Revisión\" y hago dos dataframes uno con sanos y otro con no sanos. A cada uno de esos dataframes añado un nueva columna \"label\". Los sanos tiene label=0 y los enfermos label=1. Esto me ayudará en mi siguiente paso que es plotear cada variable."
      ]
    },
    {
      "cell_type": "markdown",
      "metadata": {
        "id": "0PorH_JEJ9x1"
      },
      "source": [
        "Además con el código consigo que todas las revisiones del los pacientes sanos tengan una nueva columna donde ponga 0 y todas las revisiones de los pacientes no sanos tengan una columna donde ponga 1."
      ]
    },
    {
      "cell_type": "code",
      "execution_count": null,
      "metadata": {
        "id": "3hO9Z_WWPTpB"
      },
      "outputs": [],
      "source": [
        "lista_pacientes = Counter(Codigo_lista).keys()\n",
        "\n",
        "### INICIALIZO DATAFRAME DE SANOS\n",
        "sanos_df = pd.DataFrame()\n",
        "\n",
        "### INICIALIZO DATAFRAME DE NO SANOS\n",
        "no_sanos_df = pd.DataFrame()\n",
        "\n",
        "for i in lista_pacientes:  \n",
        "      if i not in data_health.values:\n",
        "        new_1 = db1.loc[db1[\"Código Externo\"] == i]\n",
        "        new_1 = new_1.sort_values('Fecha') #ordenar de la revision mas antigua a la mas reciente.\n",
        "        new_1['Revision'] = range(1, 1+len(new_1)) #en la nueva columna \"Revision\" se van a añadiendo valores de manera incremental desde 1 teniendo \n",
        "                                          # en cuenta el número de citas de cada paciente.\n",
        "\n",
        "        new_1 = new_1.assign(label=1) #Introduzco nueva columna con etiqueta 1 (NO SANO)\n",
        "\n",
        "        no_sanos_df = no_sanos_df.append(new_1)\n",
        "\n",
        "      else:\n",
        "        new_2 = db1.loc[db1[\"Código Externo\"] == i]\n",
        "        new_2 = new_2.sort_values('Fecha')\n",
        "        new_2['Revision'] = range(1, 1+len(new_2)) #en la nueva columna \"Revision\" se van a añadiendo valores de manera incremental desde 1 teniendo \n",
        "                                          # en cuenta el número de citas de cada paciente.\n",
        "\n",
        "        new_2 = new_2.assign(label=0)#Introduzco nueva columna con etiqueta 0 (SANO)\n",
        "      \n",
        "        sanos_df = sanos_df.append(new_2)\n"
      ]
    },
    {
      "cell_type": "code",
      "execution_count": null,
      "metadata": {
        "id": "m39l9tKYU1qN"
      },
      "outputs": [],
      "source": [
        "no_sanos_df"
      ]
    },
    {
      "cell_type": "code",
      "execution_count": null,
      "metadata": {
        "id": "1yEBFmdl1AHs"
      },
      "outputs": [],
      "source": [
        "#### SI NO PONGO ESTO A LO HORA DE REPRESENTAR ME DA ERROR\n",
        "#no_sanos_df.reset_index(drop=False, inplace = True)\n",
        "#sanos_df.reset_index(drop=False, inplace = True)"
      ]
    },
    {
      "cell_type": "markdown",
      "metadata": {
        "id": "8YQ5pq_g7B99"
      },
      "source": [
        "## 1.6 REPRESENTACIÓN DE LOS DATOS (DataFrame)"
      ]
    },
    {
      "cell_type": "code",
      "execution_count": null,
      "metadata": {
        "id": "FcmEESw37Ytp",
        "scrolled": false
      },
      "outputs": [],
      "source": [
        "### LAS GRAFICAS NO EMPIEZAN EN CERO, PORQUE EN EL CODIGO EN EL QUE INTRODUZO LAS NUEVAS COLUMNAS HAGO QUE\n",
        "# LA PRIMERA REVISION SEA \"1\".\n",
        "\n",
        "#con el parámetro \"ci\" quito los intervalos de confianza\n",
        "\n",
        "fig, axes = plt.subplots(22, 3, figsize=(24, 80)) #figsize = width x height\n",
        "\n",
        "sns.lineplot(ax=axes[0, 0],data=no_sanos_df, x=\"Revision\",y=\"LEU\", hue=\"label\", palette=['red'], linewidth=2.5, ci=None, marker=\"o\", markersize= 12)\n",
        "sns.lineplot(ax=axes[0, 0],data=sanos_df, x=\"Revision\", y=\"LEU\", hue=\"label\", palette=['black'], linewidth=2.5, ci=None, marker=\"o\", markersize= 12)\n",
        "\n",
        "sns.lineplot(ax=axes[0, 1],data=no_sanos_df, x=\"Revision\", y=\"NEU\", hue=\"label\", palette=['red'], linewidth=2.5, ci=None, marker=\"o\", markersize= 12)\n",
        "sns.lineplot(ax=axes[0, 1],data=sanos_df, x=\"Revision\", y=\"NEU\", hue=\"label\", palette=['black'], linewidth=2.5, ci=None, marker=\"o\", markersize= 12)\n",
        "\n",
        "sns.lineplot(ax=axes[0, 2],data=no_sanos_df, x=\"Revision\", y=\"NEUp\", hue=\"label\", palette=['red'], linewidth=2.5, ci=None, marker=\"o\", markersize= 12)\n",
        "sns.lineplot(ax=axes[0, 2],data=sanos_df, x=\"Revision\", y=\"NEUp\", hue=\"label\", palette=['black'], linewidth=2.5, ci=None, marker=\"o\", markersize= 12)\n",
        "\n",
        "sns.lineplot(ax=axes[1, 0],data=no_sanos_df, x=\"Revision\", y=\"LIN\", hue=\"label\", palette=['red'], linewidth=2.5, ci=None, marker=\"o\", markersize= 12)\n",
        "sns.lineplot(ax=axes[1, 0],data=sanos_df, x=\"Revision\", y=\"LIN\", hue=\"label\", palette=['black'], linewidth=2.5, ci=None, marker=\"o\", markersize= 12)\n",
        "\n",
        "sns.lineplot(ax=axes[1, 1],data=no_sanos_df, x=\"Revision\", y=\"LINp\", hue=\"label\", palette=['red'], linewidth=2.5, ci=None, marker=\"o\", markersize= 12)\n",
        "sns.lineplot(ax=axes[1, 1],data=sanos_df, x=\"Revision\", y=\"LINp\", hue=\"label\", palette=['black'], linewidth=2.5, ci=None, marker=\"o\", markersize= 12)\n",
        "\n",
        "sns.lineplot(ax=axes[1, 2], data=no_sanos_df, x=\"Revision\", y=\"MON\", hue=\"label\", palette=['red'], linewidth=2.5, ci=None, marker=\"o\", markersize= 12)\n",
        "sns.lineplot(ax=axes[1, 2], data=sanos_df, x=\"Revision\", y=\"MON\", hue=\"label\", palette=['black'], linewidth=2.5, ci=None, marker=\"o\", markersize= 12)\n",
        "\n",
        "sns.lineplot(ax=axes[2, 0],data=no_sanos_df, x=\"Revision\", y=\"MONp\", hue=\"label\", palette=['red'], linewidth=2.5, ci=None, marker=\"o\", markersize= 12)\n",
        "sns.lineplot(ax=axes[2, 0],data=sanos_df, x=\"Revision\", y=\"MONp\", hue=\"label\", palette=['black'], linewidth=2.5, ci=None, marker=\"o\", markersize= 12)\n",
        "\n",
        "sns.lineplot(ax=axes[2, 1],data=no_sanos_df, x=\"Revision\", y=\"EOS\", hue=\"label\", palette=['red'], linewidth=2.5, ci=None, marker=\"o\", markersize= 12)\n",
        "sns.lineplot(ax=axes[2, 1],data=sanos_df, x=\"Revision\", y=\"EOS\", hue=\"label\", palette=['black'], linewidth=2.5, ci=None, marker=\"o\", markersize= 12)\n",
        "\n",
        "sns.lineplot(ax=axes[2, 2],data=no_sanos_df, x=\"Revision\", y=\"EOSp\", hue=\"label\", palette=['red'], linewidth=2.5, ci=None, marker=\"o\", markersize= 12)\n",
        "sns.lineplot(ax=axes[2, 2],data=sanos_df, x=\"Revision\", y=\"EOSp\", hue=\"label\", palette=['black'], linewidth=2.5, ci=None, marker=\"o\", markersize= 12)\n",
        "\n",
        "sns.lineplot(ax=axes[3, 0],data=no_sanos_df, x=\"Revision\", y=\"BAS\", hue=\"label\", palette=['red'], linewidth=2.5, ci=None, marker=\"o\", markersize= 12)\n",
        "sns.lineplot(ax=axes[3, 0],data=sanos_df, x=\"Revision\", y=\"BAS\", hue=\"label\", palette=['black'], linewidth=2.5, ci=None, marker=\"o\", markersize= 12)\n",
        "\n",
        "sns.lineplot(ax=axes[3, 1],data=no_sanos_df, x=\"Revision\", y=\"BASp\", hue=\"label\", palette=['red'], linewidth=2.5, ci=None, marker=\"o\", markersize= 12)\n",
        "sns.lineplot(ax=axes[3, 1],data=sanos_df, x=\"Revision\", y=\"BASp\", hue=\"label\", palette=['black'], linewidth=2.5, ci=None, marker=\"o\", markersize= 12)\n",
        "\n",
        "sns.lineplot(ax=axes[3, 2],data=no_sanos_df, x=\"Revision\", y=\"IG\", hue=\"label\", palette=['red'], linewidth=2.5, ci=None, marker=\"o\", markersize= 12)\n",
        "sns.lineplot(ax=axes[3, 2],data=sanos_df, x=\"Revision\", y=\"IG\", hue=\"label\", palette=['black'], linewidth=2.5, ci=None, marker=\"o\", markersize= 12)\n",
        "\n",
        "sns.lineplot(ax=axes[4, 0],data=no_sanos_df, x=\"Revision\", y=\"IGp\", hue=\"label\", palette=['red'], linewidth=2.5, ci=None, marker=\"o\", markersize= 12)\n",
        "sns.lineplot(ax=axes[4, 0],data=sanos_df, x=\"Revision\", y=\"IGp\", hue=\"label\", palette=['black'], linewidth=2.5, ci=None, marker=\"o\", markersize= 12)\n",
        "\n",
        "sns.lineplot(ax=axes[4, 1],data=no_sanos_df, x=\"Revision\", y=\"ERIT\", hue=\"label\", palette=['red'], linewidth=2.5, ci=None, marker=\"o\", markersize= 12)\n",
        "sns.lineplot(ax=axes[4, 1],data=sanos_df, x=\"Revision\", y=\"ERIT\", hue=\"label\", palette=['black'], linewidth=2.5, ci=None, marker=\"o\", markersize= 12)\n",
        "\n",
        "sns.lineplot(ax=axes[4, 2],data=no_sanos_df, x=\"Revision\", y=\"HGB\", hue=\"label\", palette=['red'], linewidth=2.5, ci=None, marker=\"o\", markersize= 12)\n",
        "sns.lineplot(ax=axes[4, 2],data=sanos_df, x=\"Revision\", y=\"HGB\", hue=\"label\", palette=['black'], linewidth=2.5, ci=None, marker=\"o\", markersize= 12)\n",
        "\n",
        "sns.lineplot(ax=axes[5, 0],data=no_sanos_df, x=\"Revision\", y=\"HCT\", hue=\"label\", palette=['red'], linewidth=2.5, ci=None, marker=\"o\", markersize= 12)\n",
        "sns.lineplot(ax=axes[5, 0],data=sanos_df, x=\"Revision\", y=\"HCT\", hue=\"label\", palette=['black'], linewidth=2.5, ci=None, marker=\"o\", markersize= 12)\n",
        "\n",
        "sns.lineplot(ax=axes[5, 1],data=no_sanos_df, x=\"Revision\", y=\"VCM\", hue=\"label\", palette=['red'], linewidth=2.5, ci=None, marker=\"o\", markersize= 12)\n",
        "sns.lineplot(ax=axes[5, 1],data=sanos_df, x=\"Revision\", y=\"VCM\", hue=\"label\", palette=['black'], linewidth=2.5, ci=None, marker=\"o\", markersize= 12)\n",
        "\n",
        "sns.lineplot(ax=axes[5, 2],data=no_sanos_df, x=\"Revision\", y=\"HCM\", hue=\"label\", palette=['red'], linewidth=2.5, ci=None, marker=\"o\", markersize= 12)\n",
        "sns.lineplot(ax=axes[5, 2],data=sanos_df, x=\"Revision\", y=\"HCM\", hue=\"label\", palette=['black'], linewidth=2.5, ci=None, marker=\"o\", markersize= 12)\n",
        "\n",
        "sns.lineplot(ax=axes[6, 0],data=no_sanos_df, x=\"Revision\", y=\"CHCM\", hue=\"label\", palette=['red'], linewidth=2.5, ci=None, marker=\"o\", markersize= 12)\n",
        "sns.lineplot(ax=axes[6, 0],data=sanos_df, x=\"Revision\", y=\"CHCM\", hue=\"label\", palette=['black'], linewidth=2.5, ci=None, marker=\"o\", markersize= 12)\n",
        "\n",
        "sns.lineplot(ax=axes[6, 1],data=no_sanos_df, x=\"Revision\", y=\"RDW\", hue=\"label\", palette=['red'], linewidth=2.5, ci=None, marker=\"o\", markersize= 12)\n",
        "sns.lineplot(ax=axes[6, 1],data=sanos_df, x=\"Revision\", y=\"RDW\", hue=\"label\", palette=['black'], linewidth=2.5, ci=None, marker=\"o\", markersize= 12)\n",
        "\n",
        "sns.lineplot(ax=axes[6, 2],data=no_sanos_df, x=\"Revision\", y=\"ERBL\", hue=\"label\", palette=['red'], linewidth=2.5, ci=None, marker=\"o\", markersize= 12)\n",
        "sns.lineplot(ax=axes[6, 2],data=sanos_df, x=\"Revision\", y=\"ERBL\", hue=\"label\", palette=['black'], linewidth=2.5, ci=None, marker=\"o\", markersize= 12)\n",
        "\n",
        "sns.lineplot(ax=axes[7, 0],data=no_sanos_df, x=\"Revision\", y=\"ERBLp\", hue=\"label\", palette=['red'], linewidth=2.5, ci=None, marker=\"o\", markersize= 12)\n",
        "sns.lineplot(ax=axes[7, 0],data=sanos_df, x=\"Revision\", y=\"ERBLp\", hue=\"label\", palette=['black'], linewidth=2.5, ci=None, marker=\"o\", markersize= 12)\n",
        "\n",
        "sns.lineplot(ax=axes[7, 1],data=no_sanos_df, x=\"Revision\", y=\"PLT\", hue=\"label\", palette=['red'], linewidth=2.5, ci=None, marker=\"o\", markersize= 12)\n",
        "sns.lineplot(ax=axes[7, 1],data=sanos_df, x=\"Revision\", y=\"PLT\", hue=\"label\", palette=['black'], linewidth=2.5, ci=None, marker=\"o\", markersize= 12)\n",
        "\n",
        "sns.lineplot(ax=axes[7, 2],data=no_sanos_df, x=\"Revision\", y=\"PLTI\", hue=\"label\", palette=['red'], linewidth=2.5, ci=None, marker=\"o\", markersize= 12)\n",
        "sns.lineplot(ax=axes[7, 2],data=sanos_df, x=\"Revision\", y=\"PLTI\", hue=\"label\", palette=['black'], linewidth=2.5, ci=None, marker=\"o\", markersize= 12)\n",
        "\n",
        "sns.lineplot(ax=axes[8, 0],data=no_sanos_df, x=\"Revision\", y=\"VPM\", hue=\"label\", palette=['red'], linewidth=2.5, ci=None, marker=\"o\", markersize= 12)\n",
        "sns.lineplot(ax=axes[8, 0],data=sanos_df, x=\"Revision\", y=\"VPM\", hue=\"label\", palette=['black'], linewidth=2.5, ci=None, marker=\"o\", markersize= 12)\n",
        "\n",
        "sns.lineplot(ax=axes[8, 1],data=no_sanos_df, x=\"Revision\", y=\"rNe/L\", hue=\"label\", palette=['red'], linewidth=2.5, ci=None, marker=\"o\", markersize= 12)\n",
        "sns.lineplot(ax=axes[8, 1],data=sanos_df, x=\"Revision\", y=\"rNe/L\", hue=\"label\", palette=['black'], linewidth=2.5, ci=None, marker=\"o\", markersize= 12)\n",
        "\n",
        "sns.lineplot(ax=axes[8, 2],data=no_sanos_df, x=\"Revision\", y=\"rPL/L\", hue=\"label\", palette=['red'], linewidth=2.5, ci=None, marker=\"o\", markersize= 12)\n",
        "sns.lineplot(ax=axes[8, 2],data=sanos_df, x=\"Revision\", y=\"rPL/L\", hue=\"label\", palette=['black'], linewidth=2.5, ci=None, marker=\"o\", markersize= 12)\n",
        "\n",
        "sns.lineplot(ax=axes[9, 0],data=no_sanos_df, x=\"Revision\", y=\"MacR\", hue=\"label\", palette=['red'], linewidth=2.5, ci=None, marker=\"o\", markersize= 12)\n",
        "sns.lineplot(ax=axes[9, 0],data=sanos_df, x=\"Revision\", y=\"MacR\", hue=\"label\", palette=['black'], linewidth=2.5, ci=None, marker=\"o\", markersize= 12)\n",
        "\n",
        "sns.lineplot(ax=axes[9, 1],data=no_sanos_df, x=\"Revision\", y=\"MicR\", hue=\"label\", palette=['red'], linewidth=2.5, ci=None, marker=\"o\", markersize= 12)\n",
        "sns.lineplot(ax=axes[9, 1],data=sanos_df, x=\"Revision\", y=\"MicR\", hue=\"label\", palette=['black'], linewidth=2.5, ci=None, marker=\"o\", markersize= 12)\n",
        "\n",
        "sns.lineplot(ax=axes[9, 2],data=no_sanos_df, x=\"Revision\", y=\"BA-D#\", hue=\"label\", palette=['red'], linewidth=2.5, ci=None, marker=\"o\", markersize= 12)\n",
        "sns.lineplot(ax=axes[9, 2],data=sanos_df, x=\"Revision\", y=\"BA-D#\", hue=\"label\", palette=['black'], linewidth=2.5, ci=None, marker=\"o\", markersize= 12)\n",
        "\n",
        "sns.lineplot(ax=axes[10, 0],data=no_sanos_df, x=\"Revision\", y=\"NEFSC\", hue=\"label\", palette=['red'], linewidth=2.5, ci=None, marker=\"o\", markersize= 12)\n",
        "sns.lineplot(ax=axes[10, 0],data=sanos_df, x=\"Revision\", y=\"NEFSC\", hue=\"label\", palette=['black'], linewidth=2.5, ci=None, marker=\"o\", markersize= 12)\n",
        "\n",
        "sns.lineplot(ax=axes[10, 1],data=no_sanos_df, x=\"Revision\", y=\"BA-D%\", hue=\"label\", palette=['red'], linewidth=2.5, ci=None, marker=\"o\", markersize= 12)\n",
        "sns.lineplot(ax=axes[10, 1],data=sanos_df, x=\"Revision\", y=\"BA-D%\", hue=\"label\", palette=['black'], linewidth=2.5, ci=None, marker=\"o\", markersize= 12)\n",
        "\n",
        "sns.lineplot(ax=axes[10, 2],data=no_sanos_df, x=\"Revision\", y=\"BA-N#\", hue=\"label\", palette=['red'], linewidth=2.5, ci=None, marker=\"o\", markersize= 12)\n",
        "sns.lineplot(ax=axes[10, 2],data=sanos_df, x=\"Revision\", y=\"BA-N#\", hue=\"label\", palette=['black'], linewidth=2.5, ci=None, marker=\"o\", markersize= 12)\n",
        "\n",
        "sns.lineplot(ax=axes[11, 0],data=no_sanos_df, x=\"Revision\", y=\"BA-N%\", hue=\"label\", palette=['red'], linewidth=2.5, ci=None, marker=\"o\", markersize= 12)\n",
        "sns.lineplot(ax=axes[11, 0],data=sanos_df, x=\"Revision\", y=\"BA-N%\", hue=\"label\", palette=['black'], linewidth=2.5, ci=None, marker=\"o\", markersize= 12)\n",
        "\n",
        "sns.lineplot(ax=axes[11, 1],data=no_sanos_df, x=\"Revision\", y=\"HFLCA\", hue=\"label\", palette=['red'], linewidth=2.5, ci=None, marker=\"o\", markersize= 12)\n",
        "sns.lineplot(ax=axes[11, 1],data=sanos_df, x=\"Revision\", y=\"HFLCA\", hue=\"label\", palette=['black'], linewidth=2.5, ci=None, marker=\"o\", markersize= 12)\n",
        "\n",
        "sns.lineplot(ax=axes[11, 2],data=no_sanos_df, x=\"Revision\", y=\"HFLCP\", hue=\"label\", palette=['red'], linewidth=2.5, ci=None, marker=\"o\", markersize= 12)\n",
        "sns.lineplot(ax=axes[11, 2],data=sanos_df, x=\"Revision\", y=\"HFLCP\", hue=\"label\", palette=['black'], linewidth=2.5, ci=None, marker=\"o\", markersize= 12)\n",
        "\n",
        "sns.lineplot(ax=axes[12, 0],data=no_sanos_df, x=\"Revision\", y=\"LY-WX\", hue=\"label\", palette=['red'], linewidth=2.5, ci=None, marker=\"o\", markersize= 12)\n",
        "sns.lineplot(ax=axes[12, 0],data=sanos_df, x=\"Revision\", y=\"LY-WX\", hue=\"label\", palette=['black'], linewidth=2.5, ci=None, marker=\"o\", markersize= 12)\n",
        "\n",
        "sns.lineplot(ax=axes[12, 1],data=no_sanos_df, x=\"Revision\", y=\"LY-WY\", hue=\"label\", palette=['red'], linewidth=2.5, ci=None, marker=\"o\", markersize= 12)\n",
        "sns.lineplot(ax=axes[12, 1],data=sanos_df, x=\"Revision\", y=\"LY-WY\", hue=\"label\", palette=['black'], linewidth=2.5, ci=None, marker=\"o\", markersize= 12)\n",
        "\n",
        "sns.lineplot(ax=axes[12, 2],data=no_sanos_df, x=\"Revision\", y=\"LY-WZ\", hue=\"label\", palette=['red'], linewidth=2.5, ci=None, marker=\"o\", markersize= 12)\n",
        "sns.lineplot(ax=axes[12, 2],data=sanos_df, x=\"Revision\", y=\"LY-WZ\", hue=\"label\", palette=['black'], linewidth=2.5, ci=None, marker=\"o\", markersize= 12)\n",
        "\n",
        "sns.lineplot(ax=axes[13, 0],data=no_sanos_df, x=\"Revision\", y=\"LY-X\", hue=\"label\", palette=['red'], linewidth=2.5, ci=None, marker=\"o\", markersize= 12)\n",
        "sns.lineplot(ax=axes[13, 0],data=sanos_df, x=\"Revision\", y=\"LY-X\", hue=\"label\", palette=['black'], linewidth=2.5, ci=None, marker=\"o\", markersize= 12)\n",
        "\n",
        "sns.lineplot(ax=axes[13, 1],data=no_sanos_df, x=\"Revision\", y=\"LY-Y\", hue=\"label\", palette=['red'], linewidth=2.5, ci=None, marker=\"o\", markersize= 12)\n",
        "sns.lineplot(ax=axes[13, 1],data=sanos_df, x=\"Revision\", y=\"LY-Y\", hue=\"label\", palette=['black'], linewidth=2.5, ci=None, marker=\"o\", markersize= 12)\n",
        "\n",
        "sns.lineplot(ax=axes[13, 2],data=no_sanos_df, x=\"Revision\", y=\"LY-Z\", hue=\"label\", palette=['red'], linewidth=2.5, ci=None, marker=\"o\", markersize= 12)\n",
        "sns.lineplot(ax=axes[13, 2],data=sanos_df, x=\"Revision\", y=\"LY-Z\", hue=\"label\", palette=['black'], linewidth=2.5, ci=None, marker=\"o\", markersize= 12)\n",
        "\n",
        "sns.lineplot(ax=axes[14, 0],data=no_sanos_df, x=\"Revision\", y=\"MO-WX\", hue=\"label\", palette=['red'], linewidth=2.5, ci=None, marker=\"o\", markersize= 12)\n",
        "sns.lineplot(ax=axes[14, 0],data=sanos_df, x=\"Revision\", y=\"MO-WX\", hue=\"label\", palette=['black'], linewidth=2.5, ci=None, marker=\"o\", markersize= 12)\n",
        "\n",
        "sns.lineplot(ax=axes[14, 1],data=no_sanos_df, x=\"Revision\", y=\"MO-WY\", hue=\"label\", palette=['red'], linewidth=2.5, ci=None, marker=\"o\", markersize= 12)\n",
        "sns.lineplot(ax=axes[14, 1],data=sanos_df, x=\"Revision\", y=\"MO-WY\", hue=\"label\", palette=['black'], linewidth=2.5, ci=None, marker=\"o\", markersize= 12)\n",
        "\n",
        "sns.lineplot(ax=axes[14, 2],data=no_sanos_df, x=\"Revision\", y=\"MO-WZ\", hue=\"label\", palette=['red'], linewidth=2.5, ci=None, marker=\"o\", markersize= 12)\n",
        "sns.lineplot(ax=axes[14, 2],data=sanos_df, x=\"Revision\", y=\"MO-WZ\", hue=\"label\", palette=['black'], linewidth=2.5, ci=None, marker=\"o\", markersize= 12)\n",
        "\n",
        "sns.lineplot(ax=axes[15, 0],data=no_sanos_df, x=\"Revision\", y=\"MO-X\", hue=\"label\", palette=['red'], linewidth=2.5, ci=None, marker=\"o\", markersize= 12)\n",
        "sns.lineplot(ax=axes[15, 0],data=sanos_df, x=\"Revision\", y=\"MO-X\", hue=\"label\", palette=['black'], linewidth=2.5, ci=None, marker=\"o\", markersize= 12)\n",
        "\n",
        "sns.lineplot(ax=axes[15, 1],data=no_sanos_df, x=\"Revision\", y=\"MO-Y\", hue=\"label\", palette=['red'], linewidth=2.5, ci=None, marker=\"o\", markersize= 12)\n",
        "sns.lineplot(ax=axes[15, 1],data=sanos_df, x=\"Revision\", y=\"MO-Y\", hue=\"label\", palette=['black'], linewidth=2.5, ci=None, marker=\"o\", markersize= 12)\n",
        "\n",
        "sns.lineplot(ax=axes[15, 2],data=no_sanos_df, x=\"Revision\", y=\"MO-Z\", hue=\"label\", palette=['red'], linewidth=2.5, ci=None, marker=\"o\", markersize= 12)\n",
        "sns.lineplot(ax=axes[15, 2],data=sanos_df, x=\"Revision\", y=\"MO-Z\", hue=\"label\", palette=['black'], linewidth=2.5, ci=None, marker=\"o\", markersize= 12)\n",
        "\n",
        "sns.lineplot(ax=axes[16, 0],data=no_sanos_df, x=\"Revision\", y=\"NESFL\", hue=\"label\", palette=['red'], linewidth=2.5, ci=None, marker=\"o\", markersize= 12)\n",
        "sns.lineplot(ax=axes[16, 0],data=sanos_df, x=\"Revision\", y=\"NESFL\", hue=\"label\", palette=['black'], linewidth=2.5, ci=None, marker=\"o\", markersize= 12)\n",
        "\n",
        "sns.lineplot(ax=axes[16, 1],data=no_sanos_df, x=\"Revision\", y=\"NESSC\", hue=\"label\", palette=['red'], linewidth=2.5, ci=None, marker=\"o\", markersize= 12)\n",
        "sns.lineplot(ax=axes[16, 1],data=sanos_df, x=\"Revision\", y=\"NESSC\", hue=\"label\", palette=['black'], linewidth=2.5, ci=None, marker=\"o\", markersize= 12)\n",
        "\n",
        "sns.lineplot(ax=axes[16, 2],data=no_sanos_df, x=\"Revision\", y=\"NE-WX\", hue=\"label\", palette=['red'], linewidth=2.5, ci=None, marker=\"o\", markersize= 12)\n",
        "sns.lineplot(ax=axes[16, 2],data=sanos_df, x=\"Revision\", y=\"NE-WX\", hue=\"label\", palette=['black'], linewidth=2.5, ci=None, marker=\"o\", markersize= 12)\n",
        "\n",
        "sns.lineplot(ax=axes[17, 0],data=no_sanos_df, x=\"Revision\", y=\"NE-WY\", hue=\"label\", palette=['red'], linewidth=2.5, ci=None, marker=\"o\", markersize= 12)\n",
        "sns.lineplot(ax=axes[17, 0],data=sanos_df, x=\"Revision\", y=\"NE-WY\", hue=\"label\", palette=['black'], linewidth=2.5, ci=None, marker=\"o\", markersize= 12)\n",
        "\n",
        "sns.lineplot(ax=axes[17, 1],data=no_sanos_df, x=\"Revision\", y=\"NE-WZ\", hue=\"label\", palette=['red'], linewidth=2.5, ci=None, marker=\"o\", markersize= 12)\n",
        "sns.lineplot(ax=axes[17, 1],data=sanos_df, x=\"Revision\", y=\"NE-WZ\", hue=\"label\", palette=['black'], linewidth=2.5, ci=None, marker=\"o\", markersize= 12)\n",
        "\n",
        "sns.lineplot(ax=axes[17, 2],data=no_sanos_df, x=\"Revision\", y=\"TNC-N\", hue=\"label\", palette=['red'], linewidth=2.5, ci=None, marker=\"o\", markersize= 12)\n",
        "sns.lineplot(ax=axes[17, 2],data=sanos_df, x=\"Revision\", y=\"TNC-N\", hue=\"label\", palette=['black'], linewidth=2.5, ci=None, marker=\"o\", markersize= 12)\n",
        "\n",
        "sns.lineplot(ax=axes[18, 0],data=no_sanos_df, x=\"Revision\", y=\"WBC-D\", hue=\"label\", palette=['red'], linewidth=2.5, ci=None, marker=\"o\", markersize= 12)\n",
        "sns.lineplot(ax=axes[18, 0],data=sanos_df, x=\"Revision\", y=\"WBC-D\", hue=\"label\", palette=['black'], linewidth=2.5, ci=None, marker=\"o\", markersize= 12)\n",
        "\n",
        "sns.lineplot(ax=axes[18, 1],data=no_sanos_df, x=\"Revision\", y=\"WBC-N\", hue=\"label\", palette=['red'], linewidth=2.5, ci=None, marker=\"o\", markersize= 12)\n",
        "sns.lineplot(ax=axes[18, 1],data=sanos_df, x=\"Revision\", y=\"WBC-N\", hue=\"label\", palette=['black'], linewidth=2.5, ci=None, marker=\"o\", markersize= 12)\n",
        "\n",
        "sns.lineplot(ax=axes[18, 2],data=no_sanos_df, x=\"Revision\", y=\"ASLYP\", hue=\"label\", palette=['red'], linewidth=2.5, ci=None, marker=\"o\", markersize= 12)\n",
        "sns.lineplot(ax=axes[18, 2],data=sanos_df, x=\"Revision\", y=\"ASLYP\", hue=\"label\", palette=['black'], linewidth=2.5, ci=None, marker=\"o\", markersize= 12)\n",
        "\n",
        "sns.lineplot(ax=axes[19, 0],data=no_sanos_df, x=\"Revision\", y=\"ASLYA\", hue=\"label\", palette=['red'], linewidth=2.5, ci=None, marker=\"o\", markersize= 12)\n",
        "sns.lineplot(ax=axes[19, 0],data=sanos_df, x=\"Revision\", y=\"ASLYA\", hue=\"label\", palette=['black'], linewidth=2.5, ci=None, marker=\"o\", markersize= 12)\n",
        "\n",
        "sns.lineplot(ax=axes[19, 1],data=no_sanos_df, x=\"Revision\", y=\"RELPL\", hue=\"label\", palette=['red'], linewidth=2.5, ci=None, marker=\"o\", markersize= 12)\n",
        "sns.lineplot(ax=axes[19, 1],data=sanos_df, x=\"Revision\", y=\"RELPL\", hue=\"label\", palette=['black'], linewidth=2.5, ci=None, marker=\"o\", markersize= 12)\n",
        "\n",
        "sns.lineplot(ax=axes[19, 2],data=no_sanos_df, x=\"Revision\", y=\"RELYP\", hue=\"label\", palette=['red'], linewidth=2.5, ci=None, marker=\"o\", markersize= 12)\n",
        "sns.lineplot(ax=axes[19, 2],data=sanos_df, x=\"Revision\", y=\"RELYP\", hue=\"label\", palette=['black'], linewidth=2.5, ci=None, marker=\"o\", markersize= 12)\n",
        "\n",
        "sns.lineplot(ax=axes[20, 0],data=no_sanos_df, x=\"Revision\", y=\"RELYA\", hue=\"label\", palette=['red'], linewidth=2.5, ci=None, marker=\"o\", markersize= 12)\n",
        "sns.lineplot(ax=axes[20, 0],data=sanos_df, x=\"Revision\", y=\"RELYA\", hue=\"label\", palette=['black'], linewidth=2.5, ci=None, marker=\"o\", markersize= 12)\n",
        "\n",
        "sns.lineplot(ax=axes[20, 1],data=no_sanos_df, x=\"Revision\", y=\"NEUGI\", hue=\"label\", palette=['red'], linewidth=2.5, ci=None, marker=\"o\", markersize= 12)\n",
        "sns.lineplot(ax=axes[20, 1],data=sanos_df, x=\"Revision\", y=\"NEUGI\", hue=\"label\", palette=['black'], linewidth=2.5, ci=None, marker=\"o\", markersize= 12)\n",
        "\n",
        "sns.lineplot(ax=axes[20, 2],data=no_sanos_df, x=\"Revision\", y=\"NEURI\", hue=\"label\", palette=['red'], linewidth=2.5, ci=None, marker=\"o\", markersize= 12)\n",
        "sns.lineplot(ax=axes[20, 2],data=sanos_df, x=\"Revision\", y=\"NEURI\", hue=\"label\", palette=['black'], linewidth=2.5, ci=None, marker=\"o\", markersize= 12)\n",
        "\n",
        "sns.lineplot(ax=axes[21, 0],data=no_sanos_df, x=\"Revision\", y=\"ASLPL\", hue=\"label\", palette=['red'], linewidth=2.5, ci=None, marker=\"o\", markersize= 12)\n",
        "sns.lineplot(ax=axes[21, 0],data=sanos_df, x=\"Revision\", y=\"ASLPL\", hue=\"label\", palette=['black'], linewidth=2.5, ci=None, marker=\"o\", markersize= 12)\n",
        "\n",
        "#plt.savefig(\"Gráficas_variables.png\", bbox_inches='tight')"
      ]
    },
    {
      "cell_type": "markdown",
      "metadata": {
        "id": "md-I4k1mS1Sc"
      },
      "source": [
        "He graficado las 64 variables del hemograma con el que se está trabajando. En estas gráficas aparece en el eje X, los valores 1,2,3 y 4, que son las revisiones que puede tener cada uno de los pacientes, aunque no todos las tienen. Además, en la gráfica se pueden observar 2 curvas, una de ellas hace referencia a los NO SANOS --> 1 y la otra a los SANOS --> 0. \n",
        "\n",
        "Como ejemplo del significado de las gráficas diré que: cogiendo como ejemplo el valor que aparece en el punto 1 del eje X de la gráfica LEU; por una lado la curva roja con el número 1 es el valor medio de LEU de la primera revisión de todos los pacientes NO SANOS y por otro lado la curva negra con el valor 0 es el valor medio de LEU de la primera revisión de todos los pacientes SANOS."
      ]
    },
    {
      "cell_type": "markdown",
      "metadata": {
        "id": "Kbj0jF4Yr8Zk"
      },
      "source": [
        "# 2. Preprocesado de datos\n",
        "\n",
        "### ¿Hasta que revisión se cuenta con un número adecuado de pacientes?\n",
        "\n",
        "Se realiza el proyecto con un total de 4 revisiones. Se llega a esta conclusión de la siguiente forma; se dividen las variables de forma individual y se va representando cada uno de los valores de cada variable en cada revisión (teniendo así una visión de los valores de la variable para todos los pacientes en cada revisión a medida que pasa el tiempo). Esto se realiza con los pacientes sanos por un lado y los pacientes no sanos por el otro. Finalmente, se observa como con 4 revisiones se puede hacer un estudio amplio y completo de las variables. \n",
        "\n",
        "Además, de 98 pacientes, 44 pacientes presentan 4 revisiones, es decir el 44,89% de los pacientes presentes en la base de datos, porcentaje considerable que ayuda a tomar la decision de usar 4 revisiones.\n"
      ]
    },
    {
      "cell_type": "code",
      "execution_count": null,
      "metadata": {
        "id": "bMEut-bFD54n"
      },
      "outputs": [],
      "source": [
        "db1 = pd.concat([sanos_df, no_sanos_df])\n",
        "db1.shape\n",
        "\n",
        "print(db1.columns)"
      ]
    },
    {
      "cell_type": "markdown",
      "metadata": {
        "id": "3ydqg5-w9qNe"
      },
      "source": [
        "## 2.1 Identificacion de valores perdidos\n",
        "\n",
        "Junto con el estudio del tipo de variables, es básico conocer el número de observaciones disponibles y si todas ellas están completas. Los valores perdidos son muy importantes a la hora de crear modelos, la mayoría de algoritmos no aceptan observaciones incompletas o bien se ven muy influenciados por ellas."
      ]
    },
    {
      "cell_type": "code",
      "execution_count": null,
      "metadata": {
        "id": "sZzmUxrhNFuA"
      },
      "outputs": [],
      "source": [
        "db1.shape "
      ]
    },
    {
      "cell_type": "code",
      "execution_count": null,
      "metadata": {
        "id": "qg3wy6g8NWaJ",
        "scrolled": false
      },
      "outputs": [],
      "source": [
        "# Columnas con missing values\n",
        "\n",
        "for index,value in enumerate (db1.isnull().sum()):\n",
        "  if value !=0:\n",
        "    print(db1.columns[index],value)"
      ]
    },
    {
      "cell_type": "markdown",
      "metadata": {
        "id": "nB_e2sH9nHno"
      },
      "source": [
        "Teniendo en cuenta que la base de datos sobre la que se está trabajando tiene 320 filas y analizando los \"missing values\" de cada una de las columnas, se cree conveniente eliminar todas aquellas columnas que tengan más de 310 valores perdidos.\n",
        "\n",
        "Además se elimina la columna \"Número\", ya que simplemente es un número informático que se asigna aleatoriamente a cada una de las diferentes citas y no tiene importancia alguna. Se elimina \"19nCv\" y \"19nCv.1\", ya que se asume desde el primer momento que todos han sido Positivos en algún momento. Además también elimino \"FALLECE\", \"UCI\", \"Fecha\" y \"Código Externo\""
      ]
    },
    {
      "cell_type": "code",
      "execution_count": null,
      "metadata": {
        "id": "nsbN9tNVNfVa"
      },
      "outputs": [],
      "source": [
        "#Quitar todas las columnas con mas de 310 NaN\n",
        "\n",
        "#320-310 = 10. Las columnas con 311 NaN tienen 9 valores no NaN. Por lo que si me quedo con aquellas columnas que tengan como mínimo 10 valores\n",
        "# no NaN, elimino todas las columnas con 333 NaN o más.\n",
        "db1=db1.dropna(thresh=10,axis=1) \n",
        "\n",
        "db1=db1.drop([\"Número\",\"19nCv\",\"19nCv.1\", \"FALLECE\", \"UCI\", \"Código Externo\", \"Fecha\"],axis=1)\n",
        "\n",
        "\n",
        "print(db1.columns)"
      ]
    },
    {
      "cell_type": "code",
      "execution_count": null,
      "metadata": {
        "id": "vGHT2TZdoaSU"
      },
      "outputs": [],
      "source": [
        "#Tras la eliminación de las variables con más de 310 NaN, estas son las columnas con las que voy a trabajar.\n",
        "\n",
        "for index,value in enumerate (db1.isnull().sum()):\n",
        "  if value !=0:\n",
        "    print(db1.columns[index],value)"
      ]
    },
    {
      "cell_type": "code",
      "execution_count": null,
      "metadata": {
        "id": "jExSb1fa98pZ"
      },
      "outputs": [],
      "source": [
        "db1.shape \n",
        "\n",
        "print(db1.columns)"
      ]
    },
    {
      "cell_type": "markdown",
      "metadata": {
        "id": "aguhSzK--GjZ"
      },
      "source": [
        "Se han eliminado 43 variables. Tras la eliminación de las filas y columnas que no me interesan, finalmente me quedo con 320 filas y 80 columnas."
      ]
    },
    {
      "cell_type": "code",
      "execution_count": null,
      "metadata": {
        "id": "5XYO8AvONieT"
      },
      "outputs": [],
      "source": [
        "#Paso la variable \"fecha\" de tipo datatime a número para poder operar con ella en los boxplots.\n",
        "#db1[\"Fecha\"]=pd.to_numeric(db1[\"Fecha\"]) #Aunque salgan numeros raros, los ceros que se añaden a la variable fecha son de manera proporcional en\n",
        "#todas las fechas."
      ]
    },
    {
      "cell_type": "markdown",
      "metadata": {
        "id": "kxrr9TzGh3s-"
      },
      "source": [
        "## Tratamiento de la variable categorica"
      ]
    },
    {
      "cell_type": "code",
      "execution_count": null,
      "metadata": {
        "id": "nOZhYOeGiM_x"
      },
      "outputs": [],
      "source": [
        "# Se convierte la variable Sexo del paciente a variable categórica\n",
        "\n",
        "db1['Sexo del Paciente'] = db1['Sexo del Paciente'].astype('category').cat.codes # 0 --> Femenino, 1--> Masculino"
      ]
    },
    {
      "cell_type": "markdown",
      "metadata": {
        "id": "3_yp9M4o8jnd"
      },
      "source": [
        "## Separación en Train y Test\n",
        "\n",
        "Para poder crear de forma correcta el modelo, se necesita disponer de un conjunto de observaciones, de las que se conozca la variable de salida. Con esta finalidad, se dividen los datos disponibles en un conjunto de entrenamiento y un conjunto de test, siendo 80%-20% respectivamente. La partición se va a realizar de forma aleatoria y estratificada, para que la proporción de observaciones de cada clase en el conjunto de test y en el conjunto de diseño es la misma. "
      ]
    },
    {
      "cell_type": "code",
      "execution_count": null,
      "metadata": {
        "id": "lGAiDTC08vtd"
      },
      "outputs": [],
      "source": [
        "#X son todas las columnas menos la de label que es la 73\n",
        "x = db1.iloc[:, 0:67]\n",
        "y = db1['label']\n",
        "\n",
        "X_train, X_test, y_train, y_test = train_test_split(x, y, test_size = 0.2, random_state = 2) #en X_train quito la \n",
        "                            #columna label porque es el target, es decir la Y"
      ]
    },
    {
      "cell_type": "code",
      "execution_count": null,
      "metadata": {
        "id": "CECubmkrA0gr",
        "scrolled": false
      },
      "outputs": [],
      "source": [
        "print(X_train.shape)\n",
        "print(X_test.shape)\n",
        "print(y_train.shape)\n",
        "print(y_test.shape)\n",
        "\n",
        "X_train.info(verbose=True, null_counts=True) #Hay un total de 320 filas\n",
        "\n",
        "#X_train.to_pickle(\"X_train\")\n",
        "#np.save(\"y_train\",y_train)\n",
        "#np.save(\"X_test\",X_test)\n",
        "#np.save(\"y_test\",y_test)"
      ]
    },
    {
      "cell_type": "code",
      "execution_count": null,
      "metadata": {
        "id": "tC4ZiXQLoi7D"
      },
      "outputs": [],
      "source": [
        "print(X_train.columns)"
      ]
    },
    {
      "cell_type": "code",
      "execution_count": null,
      "metadata": {
        "id": "zpozUMExh2vI"
      },
      "outputs": [],
      "source": [
        "X_train.head(8)"
      ]
    },
    {
      "cell_type": "markdown",
      "metadata": {
        "id": "eaoko_u3ltFM"
      },
      "source": [
        "## Identificación outliers\n",
        "\n",
        "Para detectar los outliers el primer paso es realizar una inspección visual a través de los boxplots y localizar aquellos que sobresalen del rango normal de valores."
      ]
    },
    {
      "cell_type": "code",
      "execution_count": null,
      "metadata": {
        "id": "hXQAnTyvG4ro"
      },
      "outputs": [],
      "source": [
        "X_train.plot(kind='box',subplots=True, layout=(21,6), sharex=False, sharey=False, figsize=(30,70));"
      ]
    },
    {
      "cell_type": "markdown",
      "metadata": {
        "id": "d9ReUIV3nj3e"
      },
      "source": [
        "A continuación calculo el z-score. Cada puntuación z nos dice a cuántas desviaciones estándar se encuentra un valor individual de la media de los valores del conjunto que estoy estudiando."
      ]
    },
    {
      "cell_type": "markdown",
      "metadata": {
        "id": "MQ0pwzNMGsV7"
      },
      "source": [
        "El segundo paso, es calcular el z-score sin normalizar y comprobar si cada valor se encuentra dentro de 3 veces la desviación típica. En el caso de que se encuentren fuera de ese intervalo se le considera outlier y será reemplazado a NaN."
      ]
    },
    {
      "cell_type": "code",
      "execution_count": null,
      "metadata": {
        "id": "-QaRyvLmGspw"
      },
      "outputs": [],
      "source": [
        "def outliers (datos,dtype): #Función z-score\n",
        "    count=0\n",
        "    lista=[]\n",
        "    for i in dtype[datos]:\n",
        "        if not (dtype[datos].mean()-3*dtype[datos].std())<=i<=(dtype[datos].mean()+3*dtype[datos].std()): # 3 veces la desviacion estandar\n",
        "            if not np.isnan(i):\n",
        "                count=count+1\n",
        "                lista.append(i)\n",
        "   \n",
        "    return lista "
      ]
    },
    {
      "cell_type": "markdown",
      "metadata": {
        "id": "BlgdVwrWY5J_"
      },
      "source": [
        "## Lectura de outliers e imputacion de los mismos en X_train"
      ]
    },
    {
      "cell_type": "code",
      "execution_count": null,
      "metadata": {
        "id": "eIKlm9CcY8QB"
      },
      "outputs": [],
      "source": [
        "numeric_variables_train = X_train.select_dtypes(exclude=['object'])\n",
        "\n",
        "for i in numeric_variables_train:\n",
        "   X_train[[i]]=X_train[[i]].replace(outliers(i,X_train),np.nan) "
      ]
    },
    {
      "cell_type": "code",
      "execution_count": null,
      "metadata": {
        "id": "SqNl6NO6QlU1"
      },
      "outputs": [],
      "source": [
        "for index,value in enumerate (X_train.isnull().sum()):\n",
        "  if value !=0:\n",
        "    print(X_train.columns[index],value)"
      ]
    },
    {
      "cell_type": "markdown",
      "metadata": {
        "id": "1JX4J0I0B3p1"
      },
      "source": [
        "## 2.1 ANALISIS DESCRIPTIVO (REGRESION LINEAL)\n",
        "\n",
        "Vamos a realizar un análisis de tendendias para cada variable de forma poblacional. También usaremos este análisis de tendencias de forma individual para cada paciente, de forma que se pueda incorporar la información dinámica que genera dentro del modelo de predicción basado en machine learning.\n",
        "\n",
        "Vamos a generar la función que obtiene el modelo de regresión lineal. El modelo que planteamos es un polinomio de segundo orden:\n",
        "\n",
        "$y = a + bx + cx^2$ ;\n",
        "\n",
        "donde la x corresponde al número de revisión."
      ]
    },
    {
      "cell_type": "code",
      "execution_count": null,
      "metadata": {
        "id": "xmMmDwG2Bt_H"
      },
      "outputs": [],
      "source": [
        "from sklearn.linear_model import LinearRegression\n",
        "\n",
        "def lin_reg_model(revi,x_val):\n",
        "    \"\"\"\n",
        "    Función que ajusta un modelo de regresión lineal para el conjunto de datos que viene dado por rev y x_val. Vamos a usar\n",
        "    sklearn, pero podríamos utilizar cualquier otro módulo de algebra lineal\n",
        "    \"\"\"\n",
        "    \n",
        "    #generamos la matrix X, que tiene que contener en una columna rev y en otra rev**2\n",
        "    \n",
        "    \n",
        "    rev_2 = revi**2\n",
        "    \n",
        "    X = np.vstack((np.ones(revi.shape),revi,rev_2)).T #JA Como quiero un polinomio de segundo orden... meto\n",
        "                      #unos que me sirven como \"a\", rev que me sirve como \"b\" y rev_2 que me sirve como \"c\"\n",
        "    \n",
        "    #ajustamos el modelo de regresion lineal\n",
        "    \n",
        "    #le digo false, para que me devuelva todo los coeficientes en coef_\n",
        "    clf = LinearRegression(fit_intercept=False) #yo creo que lo que haría, para que fuesen todos comparables sería \n",
        "    # normalizar los datos pero no lo tengo claro, lo tendría que pensar\n",
        "    \n",
        "    clf.fit(X,x_val)\n",
        "    \n",
        "    #devolvemos los coeficientes\n",
        "    return clf.coef_"
      ]
    },
    {
      "cell_type": "code",
      "execution_count": null,
      "metadata": {
        "id": "8IOI6knOzLUi"
      },
      "outputs": [],
      "source": [
        "#Calculo de medias según el dataframe y la variable\n",
        "\n",
        "def mean_review(dataframe,variable):\n",
        "    mean_array = []\n",
        "    for i in dataframe['Revision'].unique(): ## JA, quiero que i coja los valores únicos. Es decir si aparece 1 que coja todos los 1 a la vez.\n",
        "        df_mask=dataframe['Revision']==i\n",
        "        filtered_df = dataframe[df_mask]\n",
        "\n",
        "        mean_df = filtered_df[variable].mean()  \n",
        "        #si tenemos valores que son NaN nos va a dar ese error\n",
        "        mean_array.append(mean_df)\n",
        " \n",
        "    return mean_array,filtered_df #Tengo que poner return en lugar de print, pues si pongo print cuando ejecuto la funcion me sale None junto a los valores. Y si me \n",
        "              #None, no puedo meter la función en lin_reg_model."
      ]
    },
    {
      "cell_type": "code",
      "execution_count": null,
      "metadata": {
        "id": "J8rRMdVDoi7O"
      },
      "outputs": [],
      "source": [
        "print(X_train.columns)"
      ]
    },
    {
      "cell_type": "code",
      "execution_count": null,
      "metadata": {
        "id": "_uiA6455DJFF",
        "scrolled": false
      },
      "outputs": [],
      "source": [
        "revi= np.array([1,2,3,4])\n",
        "\n",
        "#ojo el label lo tenemos que coger de y_train\n",
        "print(mean_review(X_train[y_train==0],'NEU')[0]) #Al final pone 0 porque de las dos cosas que imprime (mean_array) y (filtered) se quiere quedar\n",
        "                                                #con la primera, es decir con el \"mean_array\"\n",
        "print(mean_review(X_train[y_train==1],'NEU')[0])\n",
        "\n",
        "sanos_means,_ = mean_review(X_train[y_train==0],'NEU') \n",
        "\n",
        "no_sanos_means,_ = mean_review(X_train[y_train==1],'NEU')\n",
        "\n",
        "coef_sanos = lin_reg_model(revi,sanos_means)\n",
        "coef_no_sanos = lin_reg_model(revi,no_sanos_means)\n",
        "\n",
        "print(coef_sanos)\n",
        "print(coef_no_sanos)\n",
        "\n",
        "plt.figure(figsize = (10,8))\n",
        "xx = np.linspace(1,4,20)\n",
        "\n",
        "XX = np.vstack((np.ones(xx.shape),xx,xx**2)).T\n",
        "\n",
        "plt.plot(revi,sanos_means,'o-')\n",
        "plt.plot(revi,no_sanos_means,'o-')\n",
        "plt.plot(xx,XX.dot(coef_sanos),'k--',label = 'real values')\n",
        "plt.plot(xx,XX.dot(coef_no_sanos),'k--',label = 'regression model')"
      ]
    },
    {
      "cell_type": "code",
      "execution_count": null,
      "metadata": {
        "id": "TFfTnx4s0DJb",
        "scrolled": false
      },
      "outputs": [],
      "source": [
        "#Creo una lista con los nombres de las columnas a las que me interesa sacar los coeficientes\n",
        "columns_names = X_train.columns.values\n",
        "columns_names_list = list(columns_names)\n",
        "feat_name = columns_names_list[7:-1] #cojo todas las variables hasta la penultima\n",
        "\n",
        "for i in feat_name:\n",
        "    sanos_means,_ = mean_review(X_train[y_train==0],i)\n",
        "    no_sanos_means,_ = mean_review(X_train[y_train==1],i)  \n",
        "    print(\"Coeficientes de\", i ,\": \\n SANOS:\",lin_reg_model(revi,sanos_means),\"\\n NO SANOS:\",lin_reg_model(revi,no_sanos_means))\n"
      ]
    },
    {
      "cell_type": "code",
      "execution_count": null,
      "metadata": {
        "id": "8iReDJglA0rp"
      },
      "outputs": [],
      "source": [
        "#Vamos a comprobar el ajuste\n",
        "\n",
        "xx = np.linspace(1,4,255) #tengo que poner el mismo número de muestras que el dataframe de sanos_df para que la gráfica nueva que pinto\n",
        "                                #pueda superponerse.\n",
        "\n",
        "\n",
        "XX = np.vstack((np.ones(xx.shape),xx,xx**2)).T\n",
        "\n",
        "\n",
        "\n",
        "#Lo que hago es meter todo en una única linea:\n",
        "#XX_no_sanos.dot(lin_reg_model(revi,mean(no_sanos_df,'LEU')))"
      ]
    },
    {
      "cell_type": "code",
      "execution_count": null,
      "metadata": {
        "id": "dt7_VfVX7n8A"
      },
      "outputs": [],
      "source": [
        "#check variables in X_train\n",
        "\n",
        "print(X_train.columns)"
      ]
    },
    {
      "cell_type": "code",
      "execution_count": null,
      "metadata": {
        "id": "vm2jZqOxK7hs",
        "scrolled": false
      },
      "outputs": [],
      "source": [
        "list_axes = []\n",
        "for j in range(21):\n",
        "    for i in range(3):\n",
        "        list_axes.append([j,i])\n",
        "        \n",
        "#creamos lista de índices\n",
        "\n",
        "fig, axes = plt.subplots(21, 3, figsize=(24, 80)) #figsize = width x height\n",
        "\n",
        "for ii in range(len(feat_name)):\n",
        "    #print(list_axes[ii])\n",
        "    #print(feat_name[ii])\n",
        "    \n",
        "    sanos_means,_ = mean_review(X_train[y_train==0],feat_name[ii])\n",
        "    no_sanos_means,_ = mean_review(X_train[y_train==1],feat_name[ii])\n",
        "    axes[list_axes[ii][0],list_axes[ii][1]].plot([1,2,3,4],sanos_means,'go-',label='0')\n",
        "    #sns.lineplot(ax=axes[list_axes[ii][0],list_axes[ii][1]],data=X_train[y_train==1], x=\"Revision\",y=feat_name[ii], hue=y_train, palette=['red'],linewidth=2.5, ci=None, marker=\"o\", markersize= 12)\n",
        "    axes[list_axes[ii][0],list_axes[ii][1]].plot(xx,XX.dot(lin_reg_model(revi,sanos_means)),'g--')\n",
        "    axes[list_axes[ii][0],list_axes[ii][1]].plot([1,2,3,4],no_sanos_means,'ko-',label='1')\n",
        "    #sns.lineplot(ax=axes[list_axes[ii][0],list_axes[ii][1]],data=X_train[y_train==0], x=\"Revision\", y=feat_name[ii], hue=y_train,palette=['black'], linewidth=2.5, ci=None, marker=\"o\", markersize= 12)\n",
        "    axes[list_axes[ii][0],list_axes[ii][1]].plot(xx,XX.dot(lin_reg_model(revi,no_sanos_means)),'k--')\n",
        "    axes[list_axes[ii][0],list_axes[ii][1]].legend()\n",
        "    axes[list_axes[ii][0],list_axes[ii][1]].set_ylabel(feat_name[ii])\n",
        "    \n",
        "plt.tight_layout()\n",
        "    "
      ]
    },
    {
      "cell_type": "markdown",
      "metadata": {
        "id": "LSQhwrV0d4Xr"
      },
      "source": [
        "A continuación haré uso de KNNImputer. KNNImputer es una clase de scikit-learn que se utiliza para completar o predecir los valores faltantes en un conjunto de datos. Es un método que funciona con el enfoque básico del algoritmo KNN y que se considera que proporciona una mejor rendiemiento que otros enfoques, como puedes ser la imputación de los outliers por la media o la mediana."
      ]
    },
    {
      "cell_type": "markdown",
      "metadata": {
        "id": "18axUCRmedtX"
      },
      "source": [
        "El siguiente código tiene como fin, ayudar en la elección del número K óptimo con el que realizar la imputación de los outliers convertidos en NaN. La investigación sugiere que es imperativo probar el modelo usando validación cruzada después de realizar la imputación con diferentes valores de k. Aunque la imputación de valores perdidos es un campo de estudio en constante evolución, kNN actúa como una estrategia simple y efectiva."
      ]
    },
    {
      "cell_type": "markdown",
      "metadata": {
        "id": "CMSqp5TiT8HI"
      },
      "source": [
        "Al final de la ejecución, se crea un diagrama de caja y bigotes para cada conjunto de resultados, lo que permite comparar la distribución de los valores finales."
      ]
    },
    {
      "cell_type": "code",
      "execution_count": null,
      "metadata": {
        "id": "4m_wh3WBj06X"
      },
      "outputs": [],
      "source": [
        "from numpy import mean\n",
        "from numpy import std\n",
        "from pandas import read_csv\n",
        "from sklearn.ensemble import RandomForestClassifier\n",
        "from sklearn.impute import KNNImputer\n",
        "from sklearn.model_selection import cross_val_score\n",
        "from sklearn.model_selection import RepeatedStratifiedKFold\n",
        "from sklearn.pipeline import Pipeline\n",
        "from matplotlib import pyplot\n",
        "\n",
        "# evaluate each strategy on the dataset\n",
        "results = list()\n",
        "strategies = [str(i) for i in [1,3,5,7,9,15,18,21,25,30,36,40]]\n",
        "for s in strategies:\n",
        "    # create the modeling pipeline\n",
        "    \n",
        "    #me parece ok usar RF\n",
        "    pipeline = Pipeline(steps=[('i', KNNImputer(n_neighbors=int(s))), ('m', RandomForestClassifier())])  ###NO SE QUE ALGORITMO UTILIZAR\n",
        "    # evaluate the model\n",
        "    cv = RepeatedStratifiedKFold(n_splits=5, n_repeats=10, random_state=1)  ###NO SE QUE NUMEROS PONER EN LOS PARAMETROS\n",
        "    #Pongo X_train e y_train, ya que son los conjuntos sobre los que voy a trabajar\n",
        "    scores = cross_val_score(pipeline, X_train, y_train, scoring='accuracy', cv=cv, n_jobs=-1) ###NO SE QUE X E Y PONER\n",
        "    # store results\n",
        "    results.append(scores)\n",
        "    print('>%s %.3f (%.3f)' % (s, mean(scores), std(scores)))\n",
        "# plot model performance for comparison\n",
        "pyplot.boxplot(results, labels=strategies, showmeans=True)\n",
        "pyplot.show()"
      ]
    },
    {
      "cell_type": "markdown",
      "metadata": {
        "id": "jXUvYKAiMCtq"
      },
      "source": [
        "En este caso, podemos ver que los valores de k no siguen una uniformidad a la hora de dar un rendimiento óptimo del algoritmo en cuestión. Por lo tanto, se puede observar que para un k = --- el modelo presenta el mejor rendimiento con una precisión de alrededor de --- por ciento.\n",
        "\n",
        "\n",
        "**Óscar**\n",
        "\n",
        "Si te fijas sólo en las medias (los triangulitos, se ve que enseguida saturan y se ponen a un buen nivel, así que lo que yo haría sería quderme con un ńumero relativamente pqueño, por ejemplo 5)"
      ]
    },
    {
      "cell_type": "markdown",
      "metadata": {
        "id": "QNMhVZYYMwXU"
      },
      "source": [
        "Por esa razón, utilizaremos dicho valor de K en KNNImputer. Además, tendremos en cuenta otros 2 parámetros. \n",
        "\n",
        "\n",
        "\n",
        "*   Por un lado, se tiene en cuenta la medida de distancia, la cual se puede ponderar proporcionalmente a la distancia entre instancias (filas), aunque esto se establece en una ponderación uniforme por defecto, controlada a través del argumento \"weights\". En este caso, se opta por darle un valor unirforme, por lo que todas las muestras tienen la misma importancia a la hora de \"influenciar\" a la muestra NaN.\n",
        "\n",
        "*   Por otro lado, se encuentra el parámetro \"metric\", el cual hace referencia a la medida de distancia que se utilizará para calcular la distancia entre los miembros del conjunto de datos de entrenamiento. Esta vez se opta por la distancia euclidea, ya que es la distancia utilizada en algunos de los principales métodos para ajustar estimaciones estadísticas de los datos minimizando errores, como el método de mínimos cuadrados.\n",
        "\n"
      ]
    },
    {
      "cell_type": "code",
      "execution_count": null,
      "metadata": {
        "id": "7-jJziknB5yv"
      },
      "outputs": [],
      "source": [
        "print(X_train.columns)"
      ]
    },
    {
      "cell_type": "code",
      "execution_count": null,
      "metadata": {
        "id": "k1DN2JdK7m1O"
      },
      "outputs": [],
      "source": [
        "from sklearn.impute import KNNImputer\n",
        "from numpy import isnan\n",
        "\n",
        "# print total missing\n",
        "print('Total missing values before imputation: %d' % X_train.isnull().sum().sum())\n",
        "\n",
        "# define imputer\n",
        "imputer = KNNImputer(n_neighbors=5, metric='nan_euclidean') #Se calcula la distancia euclidea del punto NaN a los n vecinos \n",
        "                                      # mas cercanos. Además se le da un peso uniforme a todos los vecinos, es decir todos los vecinos tienen\n",
        "                                      # la misma importancia.\n",
        "\n",
        "# fit on the dataset\n",
        "imputer.fit(X_train)\n",
        "\n",
        "# transform the dataset\n",
        "X_train = imputer.transform(X_train)\n",
        "\n",
        "# print total missing\n",
        "print('Total missing values after imputation: %d' % sum(isnan(X_train).flatten()))"
      ]
    },
    {
      "cell_type": "code",
      "execution_count": null,
      "metadata": {
        "id": "yj0XL0ic8EYo"
      },
      "outputs": [],
      "source": [
        "X_train = pd.DataFrame(X_train) #paso X_train de numpy_array a DataFrame\n",
        "\n",
        "#Compruebo que no queda ningún NaN en la base de datos. De esa manera ya puedo trabajar con ella.\n",
        "check_for_nan = X_train.isnull().values.any()\n",
        "print (check_for_nan)"
      ]
    },
    {
      "cell_type": "code",
      "execution_count": null,
      "metadata": {
        "id": "pTCDCbzgBsYV"
      },
      "outputs": [],
      "source": [
        "X_train.head()"
      ]
    },
    {
      "cell_type": "markdown",
      "metadata": {
        "id": "s8P3X2maXXqq"
      },
      "source": [
        "## Lectura de outliers e imputacion de los mismos en X_test\n",
        "\n",
        "\n",
        "\n"
      ]
    },
    {
      "cell_type": "code",
      "execution_count": null,
      "metadata": {
        "id": "d0Mb0QlyXHQM"
      },
      "outputs": [],
      "source": [
        "numeric_variables_test = X_test.select_dtypes(exclude=['object'])\n",
        "\n",
        "for i in numeric_variables_test:\n",
        "   X_test[[i]]=X_test[[i]].replace(outliers(i,X_test),np.nan) "
      ]
    },
    {
      "cell_type": "code",
      "execution_count": null,
      "metadata": {
        "id": "jcaGyYQoX0hh"
      },
      "outputs": [],
      "source": [
        "for index,value in enumerate (X_test.isnull().sum()):\n",
        "  if value !=0:\n",
        "    print(X_test.columns[index],value)"
      ]
    },
    {
      "cell_type": "code",
      "execution_count": null,
      "metadata": {
        "id": "cO3ahOcgX5u_"
      },
      "outputs": [],
      "source": [
        "# print total missing\n",
        "print('Total missing values before imputation: %d' % X_test.isnull().sum().sum())\n",
        "\n",
        "#OJO: yo diría que esto es una mala práctica, no es malísima, pero no estás siendo justo. Lo ideal es, ahora\n",
        "#que has entrenado el model en training bien (el KNNImputer), utilizar ese entrenamiento con los nuevos datos, no \n",
        "#volver a ajustar los datos. \n",
        "\n",
        "# define imputer\n",
        "#imputer = KNNImputer(n_neighbors=21, weights='uniform', metric='nan_euclidean')\n",
        "\n",
        "# fit on the dataset\n",
        "imputer.fit(X_test)\n",
        "\n",
        "# transform the dataset\n",
        "X_test = imputer.transform(X_test)\n",
        "\n",
        "# print total missing\n",
        "print('Total missing values after imputation: %d' % sum(isnan(X_test).flatten()))"
      ]
    },
    {
      "cell_type": "code",
      "execution_count": null,
      "metadata": {
        "id": "kYi_wfNZYIyo"
      },
      "outputs": [],
      "source": [
        "X_test = pd.DataFrame(X_test)\n",
        "\n",
        "#Compruebo que no queda ningún NaN en la base de datos. De esa manera ya puedo trabajar con ella.\n",
        "check_for_nan = X_test.isnull().values.any()\n",
        "print (check_for_nan)"
      ]
    },
    {
      "cell_type": "markdown",
      "metadata": {
        "id": "YvOMcJa8-bi7"
      },
      "source": [
        "## Modelos de machine learning"
      ]
    },
    {
      "cell_type": "markdown",
      "metadata": {
        "id": "f0gVPekDQ8oS"
      },
      "source": [
        "Renombro los nombres de las columnas para poder trabajar con las columnas de los dataframe de manera ordenada y correcta, ya que de lo contrario las columnas aparecen nombradas de manera secuencial de 0 a 71."
      ]
    },
    {
      "cell_type": "code",
      "execution_count": null,
      "metadata": {
        "id": "_EbyoRQ6LPb9"
      },
      "outputs": [],
      "source": [
        "X_train.columns"
      ]
    },
    {
      "cell_type": "code",
      "execution_count": null,
      "metadata": {
        "id": "JJbg09mXLXPU"
      },
      "outputs": [],
      "source": [
        "X_train.columns = ['Edad del Paciente', 'Sexo del Paciente', 'LEU', 'NEU', 'NEUp', 'LIN',\n",
        "       'LINp', 'MON', 'MONp', 'EOS', 'EOSp', 'BAS', 'BASp', 'IG', 'IGp',\n",
        "       'ERIT', 'HGB', 'HCT', 'VCM', 'HCM', 'CHCM', 'RDW', 'ERBL', 'ERBLp',\n",
        "       'PLT', 'PLTI', 'VPM', 'rNe/L', 'rPL/L', 'MacR', 'MicR', 'BA-D#',\n",
        "       'NEFSC', 'BA-D%', 'BA-N#', 'BA-N%', 'HFLCA', 'HFLCP', 'LY-WX', 'LY-WY',\n",
        "       'LY-WZ', 'LY-X', 'LY-Y', 'LY-Z', 'MO-WX', 'MO-WY', 'MO-WZ', 'MO-X',\n",
        "       'MO-Y', 'MO-Z', 'NESFL', 'NESSC', 'NE-WX', 'NE-WY', 'NE-WZ', 'TNC-N',\n",
        "       'WBC-D', 'WBC-N', 'ASLYP', 'ASLYA', 'RELPL', 'RELYP', 'RELYA', 'NEUGI',\n",
        "       'NEURI', 'ASLPL', 'Revision']"
      ]
    },
    {
      "cell_type": "code",
      "execution_count": null,
      "metadata": {
        "id": "wR-b3VrbOE4R"
      },
      "outputs": [],
      "source": [
        "X_test.columns = ['Edad del Paciente', 'Sexo del Paciente', 'LEU', 'NEU', 'NEUp', 'LIN',\n",
        "       'LINp', 'MON', 'MONp', 'EOS', 'EOSp', 'BAS', 'BASp', 'IG', 'IGp',\n",
        "       'ERIT', 'HGB', 'HCT', 'VCM', 'HCM', 'CHCM', 'RDW', 'ERBL', 'ERBLp',\n",
        "       'PLT', 'PLTI', 'VPM', 'rNe/L', 'rPL/L', 'MacR', 'MicR', 'BA-D#',\n",
        "       'NEFSC', 'BA-D%', 'BA-N#', 'BA-N%', 'HFLCA', 'HFLCP', 'LY-WX', 'LY-WY',\n",
        "       'LY-WZ', 'LY-X', 'LY-Y', 'LY-Z', 'MO-WX', 'MO-WY', 'MO-WZ', 'MO-X',\n",
        "       'MO-Y', 'MO-Z', 'NESFL', 'NESSC', 'NE-WX', 'NE-WY', 'NE-WZ', 'TNC-N',\n",
        "       'WBC-D', 'WBC-N', 'ASLYP', 'ASLYA', 'RELPL', 'RELYP', 'RELYA', 'NEUGI',\n",
        "       'NEURI', 'ASLPL', 'Revision']"
      ]
    },
    {
      "cell_type": "code",
      "source": [
        "#y_train.columns = ['label']"
      ],
      "metadata": {
        "id": "IFmzQvidlm25"
      },
      "execution_count": null,
      "outputs": []
    },
    {
      "cell_type": "code",
      "source": [
        "#y_test.columns = ['label']"
      ],
      "metadata": {
        "id": "3yNAsLJHlsl_"
      },
      "execution_count": null,
      "outputs": []
    },
    {
      "cell_type": "code",
      "execution_count": null,
      "metadata": {
        "id": "NBhx7HOY8TNL"
      },
      "outputs": [],
      "source": [
        "#y_train"
      ]
    },
    {
      "cell_type": "code",
      "source": [
        "print(type(y_train))\n",
        "print(type(X_train))\n",
        "print(type(y_test))"
      ],
      "metadata": {
        "id": "6Qki0E-Ago_4"
      },
      "execution_count": null,
      "outputs": []
    },
    {
      "cell_type": "code",
      "source": [
        "#y_train = y_train.to_frame() #Convierto el objeto de serie a Dataframe para que pueda guardarse con \"feather\" NO, PORQUE SI NO ME DEJA IMPLEMENTAR EL MODELO"
      ],
      "metadata": {
        "id": "kviJATeDbaJS"
      },
      "execution_count": null,
      "outputs": []
    },
    {
      "cell_type": "code",
      "source": [
        "X_train.to_feather('x_train')\n",
        "np.save(\"y_train\",y_train)\n",
        "X_test.to_feather('x_test')\n",
        "np.save(\"y_test\",y_test)\n",
        "#y_train.reset_index().to_feather('y.feather') #Tengo que resetear los indices si no me da error y no me deja guardar"
      ],
      "metadata": {
        "id": "hLeSSym_Y2D_"
      },
      "execution_count": null,
      "outputs": []
    },
    {
      "cell_type": "code",
      "source": [
        "#x_train = pd.read_feather('x.feather')\n",
        "#y_train = pd.read_feather('y.feather')"
      ],
      "metadata": {
        "id": "N3CA538Pjy9X"
      },
      "execution_count": null,
      "outputs": []
    },
    {
      "cell_type": "code",
      "source": [
        "swqsqwsq"
      ],
      "metadata": {
        "id": "5dF1iYbZA5HO"
      },
      "execution_count": null,
      "outputs": []
    },
    {
      "cell_type": "markdown",
      "source": [
        "# Machine learning para revision = 1"
      ],
      "metadata": {
        "id": "-RDGNz1wfYtq"
      }
    },
    {
      "cell_type": "code",
      "execution_count": null,
      "metadata": {
        "id": "E2vhEerI65bC"
      },
      "outputs": [],
      "source": [
        "x_train_1 = X_train[X_train['Revision'] == 1]\n",
        "\n",
        "x_train_1.describe()"
      ]
    },
    {
      "cell_type": "code",
      "execution_count": null,
      "metadata": {
        "id": "US2sPygL62WC"
      },
      "outputs": [],
      "source": [
        "len(y_train)\n",
        "\n",
        "#get a boolean np.array as index\n",
        "idx = X_train['Revision'] == 1\n",
        "\n",
        "idx = idx.values\n",
        "\n",
        "y_train_aux = y_train.values\n",
        "\n",
        "y_train_1 = y_train_aux[idx]\n",
        "\n",
        "print(y_train_1)"
      ]
    },
    {
      "cell_type": "markdown",
      "source": [
        "## XGBoost"
      ],
      "metadata": {
        "id": "8iA8M8HS-O_s"
      }
    },
    {
      "cell_type": "code",
      "execution_count": null,
      "metadata": {
        "id": "Q2_52kUXC7tS"
      },
      "outputs": [],
      "source": [
        "import numpy as np\n",
        "\n",
        "from scipy.stats import uniform, randint\n",
        "\n",
        "from sklearn.datasets import load_breast_cancer, load_diabetes, load_wine\n",
        "from sklearn.metrics import auc, accuracy_score, confusion_matrix, mean_squared_error, roc_auc_score\n",
        "from sklearn.model_selection import cross_val_score, GridSearchCV, KFold, RandomizedSearchCV, train_test_split\n",
        "import xgboost as xgb"
      ]
    },
    {
      "cell_type": "markdown",
      "source": [
        "Optimización de los hiperparámetros usando RandomizedSearchCV"
      ],
      "metadata": {
        "id": "b0BmHhZ0Li2s"
      }
    },
    {
      "cell_type": "code",
      "source": [
        "#Indico que el clasificador que voy a utlizar es XGBosst\n",
        "\n",
        "xgb_model = xgb.XGBClassifier()"
      ],
      "metadata": {
        "id": "BHAN5Yve-9Ch"
      },
      "execution_count": null,
      "outputs": []
    },
    {
      "cell_type": "markdown",
      "source": [
        "Inicialmente creamos un diccionario de algunos parámetros a entrenar. Aquí las claves son básicamente los parámetros y los valores a entrenar. Así que el RandomizedSearchCV probará cada valor y encontrará el valor particular que da la mayor precisión."
      ],
      "metadata": {
        "id": "lCpdvaAR-Nqa"
      }
    },
    {
      "cell_type": "code",
      "source": [
        "#Cuanto mayor sea gamma, más conservador será el algoritmo\n",
        "#min_child_weight: para controlar el sobreajuste, cuanto mayor sea min_child_weight, más conservador será el algoritmo\n",
        "\n",
        "params = {\n",
        " 'learning_rate' : [0.05,0.10,0.15,0.20,0.25,0.30],\n",
        " 'max_depth' : [ 3, 4, 5, 6, 8, 10, 12, 15],\n",
        " 'min_child_weight' : [ 1, 3, 5, 7 ],\n",
        " 'gamma': [ 0.0, 0.1, 0.2 , 0.3, 0.4 ],\n",
        " 'colsample_bytree' : [ 0.3, 0.4, 0.5 , 0.7 ]\n",
        "}"
      ],
      "metadata": {
        "id": "Klmci5LdABp_"
      },
      "execution_count": null,
      "outputs": []
    },
    {
      "cell_type": "markdown",
      "source": [
        "A continuación, llamamos a RandomizedSearchCV() y le pasamos los siguientes parámetros"
      ],
      "metadata": {
        "id": "Z_8hIRiEAqFu"
      }
    },
    {
      "cell_type": "code",
      "source": [
        "#verbose = genera mensajes durante el entramiento del modelo 'Fitting 5 folds...'\n",
        "\n",
        "#roc_auc = curva AUC-ROC es la métrica de selección del modelo para el problema de clasificación \n",
        "#de dos clases múltiples.ROC nos dice qué tan bueno es el modelo para distinguir las clases dadas, \n",
        "#en términos de la probabilidad predicha.\n",
        "\n",
        "#n_jobs = número de nucleos que se utilizan (-1 quiere decir que se utilizan todos)\n",
        "\n",
        "r_s_model = RandomizedSearchCV(xgb_model , param_distributions=params, n_iter=5, \n",
        "                               scoring='roc_auc',n_jobs=-1,cv=5,verbose=3)\n",
        "r_s_model.fit(x_train_1, y_train_1)"
      ],
      "metadata": {
        "id": "3SHHuaOcAvQA"
      },
      "execution_count": null,
      "outputs": []
    },
    {
      "cell_type": "markdown",
      "source": [
        "Bien, nuestro modelo ha sido ajustado. Veamos ahora todos los parámetros que han sido seleccionados por el RandomizedSearch() para el XGBClassifier. Podemos hacerlo con la ayuda del método best_estimators_."
      ],
      "metadata": {
        "id": "PwHr_OxHCJBY"
      }
    },
    {
      "cell_type": "code",
      "source": [
        "r_s_model.best_estimator_"
      ],
      "metadata": {
        "id": "rXz112xuCL9x"
      },
      "execution_count": null,
      "outputs": []
    },
    {
      "cell_type": "markdown",
      "source": [
        "Ahora, como conocemos todos los mejores parámetros, podemos simplemente construir nuestro modelo clasificador final pasando todos esos parámetros."
      ],
      "metadata": {
        "id": "xG-bVWyjCZcx"
      }
    },
    {
      "cell_type": "code",
      "source": [
        "#Construyendo el modelo final\n",
        "xgb_model = xgb.XGBClassifier(colsample_bytree=0.7, gamma=0.3, learning_rate=0.3, max_depth=8)"
      ],
      "metadata": {
        "id": "MF6gOB1RChQp"
      },
      "execution_count": null,
      "outputs": []
    },
    {
      "cell_type": "code",
      "source": [
        "#Métricas\n",
        "\n",
        "xgb_model.fit(x_train_1, y_train_1)\n",
        "\n",
        "y_pred = xgb_model.predict(X_test)\n",
        "\n",
        "acc_xgb = accuracy_score(y_test, y_pred)\n",
        "sensibilidad_xgb = recall_score(y_test, y_pred)\n",
        "#precision_xgb = precision_score(y_test, y_pred)\n",
        "specificity_xgb = confusion_matrix(y_test, y_pred)[0][0]/(confusion_matrix(y_test, y_pred)[0][0]+confusion_matrix(y_test, y_pred)[0][1])\n",
        "auc_xgb = roc_auc_score(y_test, y_pred)\n",
        "\n",
        "Tabla = pd.DataFrame({ \"Prestaciones en test\":[\"Accuracy\",\"Sensibility\",'Specificity',\"AUC ROC\"],\n",
        "                      \"XGBoost\" : [acc_xgb, sensibilidad_xgb, specificity_xgb, auc_xgb]})\n",
        "\n",
        "Tabla"
      ],
      "metadata": {
        "id": "NWmveSOUG3Wi"
      },
      "execution_count": null,
      "outputs": []
    },
    {
      "cell_type": "markdown",
      "source": [
        "### Selección de características (FS)"
      ],
      "metadata": {
        "id": "1_w29Eajzaja"
      }
    },
    {
      "cell_type": "markdown",
      "source": [
        "La selección de características se entiende como una disminución del número de éstas, en función de un criterio elegido por el usuario, escogiendo aquellas que se consideran más informativas y eliminando aquellas que son irrelevantes. "
      ],
      "metadata": {
        "id": "PL0SquGRzibQ"
      }
    },
    {
      "cell_type": "markdown",
      "source": [
        "**Importancia de cada característica**"
      ],
      "metadata": {
        "id": "mp9Vyp9DzlTb"
      }
    },
    {
      "cell_type": "markdown",
      "source": [
        "La importancia de características desempeña un papel importante, ya que proporciona una visión de los datos, del modelo y la base para la reducción de la dimensionalidad y la selección de características que pueden mejorar la eficiencia y la eficacia de un modelo predictivo en el problema."
      ],
      "metadata": {
        "id": "U4qQSKeWzmFn"
      }
    },
    {
      "cell_type": "code",
      "source": [
        "import seaborn as sns\n",
        "#Plot feature importance\n",
        "def plot_feature_importance(importance,names,model_type):\n",
        "\n",
        "  #Create arrays from feature importance and feature names\n",
        "  feature_importance = np.array(importance)\n",
        "  feature_names = np.array(names)\n",
        "\n",
        "  #Create a DataFrame using a Dictionary\n",
        "  data={'feature_names':feature_names,'feature_importance':feature_importance}\n",
        "  fi_df = pd.DataFrame(data)\n",
        "\n",
        "  #Sort the DataFrame in order decreasing feature importance\n",
        "  fi_df.sort_values(by=['feature_importance'], ascending=False,inplace=True)\n",
        "\n",
        "  #Define size of bar plot\n",
        "  fig = plt.figure(figsize=(20,6))\n",
        "  #Plot Searborn bar chart\n",
        "  sns.barplot(y=fi_df['feature_importance'], x=fi_df['feature_names'])\n",
        "  #Add chart labels\n",
        "  plt.title(model_type + 'FEATURE IMPORTANCE')\n",
        "  plt.xlabel('FEATURE IMPORTANCE')\n",
        "  plt.ylabel('FEATURE NAMES')\n",
        "  plt.tight_layout()\n",
        "  fig.autofmt_xdate(rotation=45)\n",
        "\n",
        "\n",
        "plot_feature_importance(xgb_model.feature_importances_*100,x_train_1.columns,'RANDOM FOREST ')\n",
        "\n",
        "print(np.sum(xgb_model.feature_importances_))"
      ],
      "metadata": {
        "id": "j2lDeTU6zZ47"
      },
      "execution_count": null,
      "outputs": []
    },
    {
      "cell_type": "markdown",
      "source": [
        "**Selección de las características en base a la importancia de éstas**"
      ],
      "metadata": {
        "id": "Lw5m7_pB2id9"
      }
    },
    {
      "cell_type": "code",
      "source": [
        "#SelectFromModel\n",
        "\n",
        "scores_cv = []\n",
        "thresholds = np.sort(xgb_model.feature_importances_) # obtiene la importancia de cada característica\n",
        "i = 0\n",
        "for thresh in thresholds:\n",
        "    print(\"{} de {}\".format(i,len(thresholds)))\n",
        "    selection = SelectFromModel(xgb_model, threshold=thresh, prefit=True)\n",
        "    select_x_train_1 = selection.transform(x_train_1)\n",
        "    # train model\n",
        "    selection_model = xgb.XGBClassifier(colsample_bytree=0.7, gamma=0.3, learning_rate=0.3, max_depth=8)\n",
        "    #cv estimation\n",
        "    sc =cross_val_score(selection_model, select_x_train_1, y_train_1, cv=10, scoring='roc_auc',n_jobs=-1)\n",
        "    scores_cv.append(sc)\n",
        "    i+=1"
      ],
      "metadata": {
        "id": "0iM8ZAFW0kJV"
      },
      "execution_count": null,
      "outputs": []
    },
    {
      "cell_type": "code",
      "source": [
        "plt.rc('xtick',labelsize=15)\n",
        "plt.rc('ytick',labelsize=15)\n",
        "plt.figure(figsize = (80,20))\n",
        "sc_cv = np.asarray(scores_cv)\n",
        "scores_m = np.mean(sc_cv,axis = 1)\n",
        "scores_std = np.std(sc_cv,axis = 1)\n",
        "xx = np.arange(len(scores_m))\n",
        "plt.plot(xx,scores_m,'o-')\n",
        "plt.grid()\n",
        "_ = plt.xticks(xx,labels= np.arange(1,len(scores_m)+1))\n",
        "plt.xlabel('Number of features removed')\n",
        "plt.ylabel('Accuracy')"
      ],
      "metadata": {
        "id": "dZpG_Bv92uN-"
      },
      "execution_count": null,
      "outputs": []
    },
    {
      "cell_type": "markdown",
      "metadata": {
        "id": "B8MaaLxwrHnY"
      },
      "source": [
        "## Gradient Boosting"
      ]
    },
    {
      "cell_type": "code",
      "execution_count": null,
      "metadata": {
        "id": "YK45kpe0BT4W"
      },
      "outputs": [],
      "source": [
        "from sklearn.datasets import make_hastie_10_2\n",
        "from sklearn.ensemble import GradientBoostingClassifier"
      ]
    },
    {
      "cell_type": "code",
      "source": [
        "#Indico que el clasificador que voy a utlizar es GBoosting\n",
        "\n",
        "gb_model = GradientBoostingClassifier()"
      ],
      "metadata": {
        "id": "70RPb-H7MWNt"
      },
      "execution_count": null,
      "outputs": []
    },
    {
      "cell_type": "code",
      "source": [
        "params = {\n",
        " 'n_estimators' : [25,50,75,100,125,150,175,200,250,300,350,400],\n",
        " 'learning_rate' : [0.05,0.10,0.15,0.20,0.25,0.30],\n",
        " 'max_depth' : [ 3, 4, 5, 6, 8, 10, 12, 15,20,25,30],\n",
        "}"
      ],
      "metadata": {
        "id": "aMXjUhN5Mgdo"
      },
      "execution_count": null,
      "outputs": []
    },
    {
      "cell_type": "code",
      "source": [
        "#verbose = genera mensajes durante el entramiento del modelo 'Fitting 5 folds...'\n",
        "\n",
        "#roc_auc = curva AUC-ROC es la métrica de selección del modelo para el problema de clasificación \n",
        "#de dos clases múltiples.ROC nos dice qué tan bueno es el modelo para distinguir las clases dadas, \n",
        "#en términos de la probabilidad predicha.\n",
        "\n",
        "#n_jobs = número de nucleos que se utilizan (-1 quiere decir que se utilizan todos)\n",
        "\n",
        "r_s_model_2 = RandomizedSearchCV(gb_model , param_distributions=params, n_iter=5, \n",
        "                               scoring='roc_auc',n_jobs=-1,cv=5,verbose=3)\n",
        "\n",
        "r_s_model_2.fit(x_train_1, y_train_1)"
      ],
      "metadata": {
        "id": "Ap81OEvyMjTC"
      },
      "execution_count": null,
      "outputs": []
    },
    {
      "cell_type": "code",
      "source": [
        "r_s_model_2.best_estimator_"
      ],
      "metadata": {
        "id": "1ohuKN0wMqqM"
      },
      "execution_count": null,
      "outputs": []
    },
    {
      "cell_type": "code",
      "source": [
        "#Construyendo el modelo final\n",
        "gb_model = GradientBoostingClassifier(learning_rate=0.05, max_depth=25, n_estimators=350)"
      ],
      "metadata": {
        "id": "22LZf3hgMvey"
      },
      "execution_count": null,
      "outputs": []
    },
    {
      "cell_type": "code",
      "source": [
        "#Métricas\n",
        "\n",
        "gb_model.fit(x_train_1, y_train_1)\n",
        "\n",
        "y_pred = gb_model.predict(X_test)\n",
        "\n",
        "acc_gb = accuracy_score(y_test, y_pred)\n",
        "sensibilidad_gb = recall_score(y_test, y_pred)\n",
        "#precision_xgb = precision_score(y_test, y_pred)\n",
        "specificity_gb = confusion_matrix(y_test, y_pred)[0][0]/(confusion_matrix(y_test, y_pred)[0][0]+confusion_matrix(y_test, y_pred)[0][1])\n",
        "auc_gb = roc_auc_score(y_test, y_pred)\n",
        "\n",
        "Tabla_2 = pd.DataFrame({ \"Prestaciones en test\":[\"Accuracy\",\"Sensibility\",'Specificity',\"AUC ROC\"],\n",
        "                      \"XGBoost\" : [acc_gb, sensibilidad_gb, specificity_gb, auc_gb]})\n",
        "\n",
        "Tabla_2"
      ],
      "metadata": {
        "id": "53iLdlm0M4hS"
      },
      "execution_count": null,
      "outputs": []
    },
    {
      "cell_type": "markdown",
      "source": [
        "### Selección de características (FS)"
      ],
      "metadata": {
        "id": "zdwcnUt24xrN"
      }
    },
    {
      "cell_type": "code",
      "source": [
        "import seaborn as sns\n",
        "#Plot feature importance\n",
        "def plot_feature_importance(importance,names,model_type):\n",
        "\n",
        "  #Create arrays from feature importance and feature names\n",
        "  feature_importance = np.array(importance)\n",
        "  feature_names = np.array(names)\n",
        "\n",
        "  #Create a DataFrame using a Dictionary\n",
        "  data={'feature_names':feature_names,'feature_importance':feature_importance}\n",
        "  fi_df = pd.DataFrame(data)\n",
        "\n",
        "  #Sort the DataFrame in order decreasing feature importance\n",
        "  fi_df.sort_values(by=['feature_importance'], ascending=False,inplace=True)\n",
        "\n",
        "  #Define size of bar plot\n",
        "  fig = plt.figure(figsize=(20,6))\n",
        "  #Plot Searborn bar chart\n",
        "  sns.barplot(y=fi_df['feature_importance'], x=fi_df['feature_names'])\n",
        "  #Add chart labels\n",
        "  plt.title(model_type + 'FEATURE IMPORTANCE')\n",
        "  plt.xlabel('FEATURE IMPORTANCE')\n",
        "  plt.ylabel('FEATURE NAMES')\n",
        "  plt.tight_layout()\n",
        "  fig.autofmt_xdate(rotation=45)\n",
        "\n",
        "\n",
        "plot_feature_importance(gb_model.feature_importances_*100,x_train_1.columns,'RANDOM FOREST ')\n",
        "\n",
        "print(np.sum(gb_model.feature_importances_))"
      ],
      "metadata": {
        "id": "yQl1rMUr4xGN"
      },
      "execution_count": null,
      "outputs": []
    },
    {
      "cell_type": "markdown",
      "source": [
        "**Selección de las características en base a la importancia de éstas**"
      ],
      "metadata": {
        "id": "slKvOlOp48LL"
      }
    },
    {
      "cell_type": "code",
      "source": [
        "#SelectFromModel\n",
        "\n",
        "scores_cv = []\n",
        "thresholds = np.sort(gb_model.feature_importances_) # obtiene la importancia de cada característica\n",
        "i = 0\n",
        "for thresh in thresholds:\n",
        "    print(\"{} de {}\".format(i,len(thresholds)))\n",
        "    selection = SelectFromModel(gb_model, threshold=thresh, prefit=True)\n",
        "    select_x_train_1 = selection.transform(x_train_1)\n",
        "    # train model\n",
        "    selection_model = GradientBoostingClassifier(learning_rate=0.05, max_depth=25, n_estimators=350)\n",
        "    #cv estimation\n",
        "    sc =cross_val_score(selection_model, select_x_train_1, y_train_1, cv=10, scoring='roc_auc',n_jobs=-1)\n",
        "    scores_cv.append(sc)\n",
        "    i+=1"
      ],
      "metadata": {
        "id": "9OdM9pcr48_P"
      },
      "execution_count": null,
      "outputs": []
    },
    {
      "cell_type": "code",
      "source": [
        "plt.rc('xtick',labelsize=15)\n",
        "plt.rc('ytick',labelsize=15)\n",
        "plt.figure(figsize = (80,20))\n",
        "sc_cv = np.asarray(scores_cv)\n",
        "scores_m = np.mean(sc_cv,axis = 1)\n",
        "scores_std = np.std(sc_cv,axis = 1)\n",
        "xx = np.arange(len(scores_m))\n",
        "plt.plot(xx,scores_m,'o-')\n",
        "plt.grid()\n",
        "_ = plt.xticks(xx,labels= np.arange(1,len(scores_m)+1))\n",
        "plt.xlabel('Number of features removed')\n",
        "plt.ylabel('Accuracy')"
      ],
      "metadata": {
        "id": "JehCEQKh5MEg"
      },
      "execution_count": null,
      "outputs": []
    },
    {
      "cell_type": "markdown",
      "metadata": {
        "id": "tI-esAG5rP9Q"
      },
      "source": [
        "## Histogram-based Gradient Boosting Classifier"
      ]
    },
    {
      "cell_type": "code",
      "source": [
        "from sklearn.ensemble import HistGradientBoostingClassifier\n",
        "from sklearn.datasets import load_iris"
      ],
      "metadata": {
        "id": "Jtl4ZFN3bbe8"
      },
      "execution_count": null,
      "outputs": []
    },
    {
      "cell_type": "code",
      "source": [
        "#Indico que el clasificador que voy a utlizar es XGBosst\n",
        "\n",
        "hb_model = HistGradientBoostingClassifier()"
      ],
      "metadata": {
        "id": "FQ2c4qzsbb8K"
      },
      "execution_count": null,
      "outputs": []
    },
    {
      "cell_type": "code",
      "source": [
        "params = {\n",
        " 'max_leaf_nodes': [1,3,5,7,10,13,15,20,25,30,35,40],\n",
        " 'learning_rate' : [0.05,0.10,0.15,0.20,0.25,0.30],\n",
        " 'max_depth' : [ 3, 4, 5, 6, 8, 10, 12, 15,20,25,30],\n",
        "}"
      ],
      "metadata": {
        "id": "ymoVMrSmbcLj"
      },
      "execution_count": null,
      "outputs": []
    },
    {
      "cell_type": "code",
      "source": [
        "#verbose = genera mensajes durante el entramiento del modelo 'Fitting 5 folds...'\n",
        "\n",
        "#roc_auc = curva AUC-ROC es la métrica de selección del modelo para el problema de clasificación \n",
        "#de dos clases múltiples.ROC nos dice qué tan bueno es el modelo para distinguir las clases dadas, \n",
        "#en términos de la probabilidad predicha.\n",
        "\n",
        "#n_jobs = número de nucleos que se utilizan (-1 quiere decir que se utilizan todos)\n",
        "\n",
        "r_s_model_3 = RandomizedSearchCV(hb_model , param_distributions=params, n_iter=5, \n",
        "                               scoring='roc_auc',n_jobs=-1,cv=5,verbose=3)\n",
        "r_s_model_3.fit(x_train_1, y_train_1)"
      ],
      "metadata": {
        "id": "0jOtwpuEbcTj"
      },
      "execution_count": null,
      "outputs": []
    },
    {
      "cell_type": "code",
      "source": [
        "r_s_model_3.best_estimator_"
      ],
      "metadata": {
        "id": "hj7W2xHRbix2"
      },
      "execution_count": null,
      "outputs": []
    },
    {
      "cell_type": "code",
      "source": [
        "#Construyendo el modelo final\n",
        "hb_model = HistGradientBoostingClassifier(learning_rate=0.05, max_depth=25, max_leaf_nodes=25)"
      ],
      "metadata": {
        "id": "wdCrrnJabi6y"
      },
      "execution_count": null,
      "outputs": []
    },
    {
      "cell_type": "code",
      "source": [
        "#Métricas\n",
        "\n",
        "hb_model.fit(x_train_1, y_train_1)\n",
        "\n",
        "y_pred = hb_model.predict(X_test)\n",
        "\n",
        "acc_hb = accuracy_score(y_test, y_pred)\n",
        "sensibilidad_hb = recall_score(y_test, y_pred)\n",
        "#precision_xgb = precision_score(y_test, y_pred)\n",
        "specificity_hb = confusion_matrix(y_test, y_pred)[0][0]/(confusion_matrix(y_test, y_pred)[0][0]+confusion_matrix(y_test, y_pred)[0][1])\n",
        "auc_hb = roc_auc_score(y_test, y_pred)\n",
        "\n",
        "Tabla_3 = pd.DataFrame({ \"Prestaciones en test\":[\"Accuracy\",\"Sensibility\",'Specificity',\"AUC ROC\"],\n",
        "                      \"XGBoost\" : [acc_hb, sensibilidad_hb, specificity_hb, auc_hb]})\n",
        "\n",
        "Tabla_3"
      ],
      "metadata": {
        "id": "coLW01zXdkLN"
      },
      "execution_count": null,
      "outputs": []
    },
    {
      "cell_type": "markdown",
      "source": [
        "### Selección de características (FS)"
      ],
      "metadata": {
        "id": "miIFpLHH5YoM"
      }
    },
    {
      "cell_type": "code",
      "source": [
        "import seaborn as sns\n",
        "#Plot feature importance\n",
        "def plot_feature_importance(importance,names,model_type):\n",
        "\n",
        "  #Create arrays from feature importance and feature names\n",
        "  feature_importance = np.array(importance)\n",
        "  feature_names = np.array(names)\n",
        "\n",
        "  #Create a DataFrame using a Dictionary\n",
        "  data={'feature_names':feature_names,'feature_importance':feature_importance}\n",
        "  fi_df = pd.DataFrame(data)\n",
        "\n",
        "  #Sort the DataFrame in order decreasing feature importance\n",
        "  fi_df.sort_values(by=['feature_importance'], ascending=False,inplace=True)\n",
        "\n",
        "  #Define size of bar plot\n",
        "  fig = plt.figure(figsize=(20,6))\n",
        "  #Plot Searborn bar chart\n",
        "  sns.barplot(y=fi_df['feature_importance'], x=fi_df['feature_names'])\n",
        "  #Add chart labels\n",
        "  plt.title(model_type + 'FEATURE IMPORTANCE')\n",
        "  plt.xlabel('FEATURE IMPORTANCE')\n",
        "  plt.ylabel('FEATURE NAMES')\n",
        "  plt.tight_layout()\n",
        "  fig.autofmt_xdate(rotation=45)\n",
        "\n",
        "\n",
        "plot_feature_importance(hb_model.feature_importances_*100,x_train_1.columns,'RANDOM FOREST ')\n",
        "\n",
        "print(np.sum(hb_model.feature_importances_))"
      ],
      "metadata": {
        "id": "UF7lKwhL5Y0d"
      },
      "execution_count": null,
      "outputs": []
    },
    {
      "cell_type": "markdown",
      "source": [
        "**Selección de las características en base a la importancia de éstas**"
      ],
      "metadata": {
        "id": "Uu8VMWix5n00"
      }
    },
    {
      "cell_type": "code",
      "source": [
        "#SelectFromModel\n",
        "\n",
        "scores_cv = []\n",
        "thresholds = np.sort(hb_model.feature_importances_) # obtiene la importancia de cada característica\n",
        "i = 0\n",
        "for thresh in thresholds:\n",
        "    print(\"{} de {}\".format(i,len(thresholds)))\n",
        "    selection = SelectFromModel(hb_model, threshold=thresh, prefit=True)\n",
        "    select_x_train_1 = selection.transform(x_train_1)\n",
        "    # train model\n",
        "    selection_model = HistGradientBoostingClassifier(learning_rate=0.05, max_depth=25, max_leaf_nodes=25)\n",
        "    #cv estimation\n",
        "    sc =cross_val_score(selection_model, select_x_train_1, y_train_1, cv=10, scoring='roc_auc',n_jobs=-1)\n",
        "    scores_cv.append(sc)\n",
        "    i+=1"
      ],
      "metadata": {
        "id": "00Ov1Kpq5n88"
      },
      "execution_count": null,
      "outputs": []
    },
    {
      "cell_type": "code",
      "source": [
        "plt.rc('xtick',labelsize=15)\n",
        "plt.rc('ytick',labelsize=15)\n",
        "plt.figure(figsize = (80,20))\n",
        "sc_cv = np.asarray(scores_cv)\n",
        "scores_m = np.mean(sc_cv,axis = 1)\n",
        "scores_std = np.std(sc_cv,axis = 1)\n",
        "xx = np.arange(len(scores_m))\n",
        "plt.plot(xx,scores_m,'o-')\n",
        "plt.grid()\n",
        "_ = plt.xticks(xx,labels= np.arange(1,len(scores_m)+1))\n",
        "plt.xlabel('Number of features removed')\n",
        "plt.ylabel('Accuracy')"
      ],
      "metadata": {
        "id": "5mXll6dW6GQK"
      },
      "execution_count": null,
      "outputs": []
    },
    {
      "cell_type": "markdown",
      "source": [
        "# Machine learning para todas las revisiones"
      ],
      "metadata": {
        "id": "LWyGEa_1fid8"
      }
    },
    {
      "cell_type": "code",
      "source": [
        ""
      ],
      "metadata": {
        "id": "TRKK9uaxfnxi"
      },
      "execution_count": null,
      "outputs": []
    }
  ],
  "metadata": {
    "colab": {
      "collapsed_sections": [],
      "name": "TFG.ipynb",
      "provenance": [],
      "toc_visible": true,
      "include_colab_link": true
    },
    "kernelspec": {
      "display_name": "Python 3",
      "language": "python",
      "name": "python3"
    },
    "language_info": {
      "codemirror_mode": {
        "name": "ipython",
        "version": 3
      },
      "file_extension": ".py",
      "mimetype": "text/x-python",
      "name": "python",
      "nbconvert_exporter": "python",
      "pygments_lexer": "ipython3",
      "version": "3.8.5"
    }
  },
  "nbformat": 4,
  "nbformat_minor": 0
}