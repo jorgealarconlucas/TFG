{
  "cells": [
    {
      "cell_type": "markdown",
      "metadata": {
        "id": "view-in-github",
        "colab_type": "text"
      },
      "source": [
        "<a href=\"https://colab.research.google.com/github/jorgealarconlucas/TFG/blob/master/Modelos_de_machine_learning.ipynb\" target=\"_parent\"><img src=\"https://colab.research.google.com/assets/colab-badge.svg\" alt=\"Open In Colab\"/></a>"
      ]
    },
    {
      "cell_type": "code",
      "execution_count": 1,
      "metadata": {
        "id": "-ruNeqFp9jnV"
      },
      "outputs": [],
      "source": [
        "import pandas as pd\n",
        "import numpy as np\n",
        "import statistics as stats\n",
        "import seaborn as sns\n",
        "import matplotlib\n",
        "from matplotlib import pyplot as plt\n",
        "import scipy.stats as ss\n",
        "import statistics as stats\n",
        "import seaborn as sns \n",
        "from pandas.plotting import autocorrelation_plot\n",
        "from sklearn.model_selection import train_test_split\n",
        "from sklearn.tree import export_graphviz\n",
        "from six import StringIO\n",
        "from IPython.display import Image  \n",
        "import pydotplus\n",
        "from sklearn.model_selection import  GridSearchCV\n",
        "from sklearn.ensemble import RandomForestClassifier\n",
        "from sklearn.metrics import accuracy_score,recall_score, precision_score, confusion_matrix\n",
        "from sklearn.feature_selection import SelectFromModel\n",
        "from sklearn.model_selection import cross_val_score\n",
        "from sklearn.model_selection import StratifiedShuffleSplit"
      ]
    },
    {
      "cell_type": "code",
      "execution_count": 2,
      "metadata": {
        "id": "vxi0qdBF9isu"
      },
      "outputs": [],
      "source": [
        "x_train = pd.read_feather('x_train')\n",
        "y_train = np.load ('y_train.npy')\n",
        "x_test = pd.read_feather('x_test')\n",
        "y_test = np.load ('y_test.npy')"
      ]
    },
    {
      "cell_type": "code",
      "execution_count": 3,
      "metadata": {
        "id": "XLvWaFk-KfP1"
      },
      "outputs": [],
      "source": [
        "y_train = pd.Series(y_train) #Lo paso de numpy a pandas.series\n",
        "y_test = pd.Series(y_test)"
      ]
    },
    {
      "cell_type": "markdown",
      "metadata": {
        "id": "mXcVUQjKBeKj"
      },
      "source": [
        "# Machine learning para revision = 1"
      ]
    },
    {
      "cell_type": "markdown",
      "source": [
        "### Con X_train"
      ],
      "metadata": {
        "id": "juR47B0PLTdA"
      }
    },
    {
      "cell_type": "code",
      "execution_count": 4,
      "metadata": {
        "colab": {
          "base_uri": "https://localhost:8080/",
          "height": 317
        },
        "id": "E2vhEerI65bC",
        "outputId": "491621a5-6730-498b-8b9d-05611f55179e"
      },
      "outputs": [
        {
          "output_type": "execute_result",
          "data": {
            "text/plain": [
              "    Edad del Paciente  Sexo del Paciente    LEU     NEU   NEUp    LIN   LINp  \\\n",
              "1                76.0                0.0   3.75   1.840  49.00  1.290  34.40   \n",
              "5                66.0                0.0   3.05   1.170  38.50  1.050  34.40   \n",
              "16               37.0                0.0   9.64   5.416  53.06  3.348  37.26   \n",
              "19               85.0                1.0  17.25  15.160  87.90  0.980   5.70   \n",
              "22               74.0                0.0   4.89   3.570  72.90  0.610  12.50   \n",
              "\n",
              "      MON   MONp    EOS  ...  WBC-N  ASLYP  ASLYA  RELPL  RELYP  RELYA  \\\n",
              "1   0.490  13.10  0.110  ...   3.75   0.00  0.000   17.1   5.90   0.22   \n",
              "5   0.800   8.84  0.010  ...   3.05   0.00  0.000    7.6   2.60   0.08   \n",
              "16  0.692   7.92  0.064  ...   9.64   0.14  0.004    8.6   2.54   0.20   \n",
              "19  0.880   5.10  0.050  ...  17.25   0.00  0.000   11.2   0.60   0.11   \n",
              "22  0.350   7.20  0.010  ...   4.89   0.00  0.000   23.0   2.90   0.14   \n",
              "\n",
              "     NEUGI  NEURI  ASLPL  Revision  \n",
              "1   146.60  53.80   0.00       1.0  \n",
              "5   151.00  56.50   0.00       1.0  \n",
              "16  147.86  49.04   0.34       1.0  \n",
              "19  155.30  48.60   0.00       1.0  \n",
              "22  148.70  52.10   0.00       1.0  \n",
              "\n",
              "[5 rows x 67 columns]"
            ],
            "text/html": [
              "\n",
              "  <div id=\"df-7417ca41-a56e-4307-a6da-0471d7441aa2\">\n",
              "    <div class=\"colab-df-container\">\n",
              "      <div>\n",
              "<style scoped>\n",
              "    .dataframe tbody tr th:only-of-type {\n",
              "        vertical-align: middle;\n",
              "    }\n",
              "\n",
              "    .dataframe tbody tr th {\n",
              "        vertical-align: top;\n",
              "    }\n",
              "\n",
              "    .dataframe thead th {\n",
              "        text-align: right;\n",
              "    }\n",
              "</style>\n",
              "<table border=\"1\" class=\"dataframe\">\n",
              "  <thead>\n",
              "    <tr style=\"text-align: right;\">\n",
              "      <th></th>\n",
              "      <th>Edad del Paciente</th>\n",
              "      <th>Sexo del Paciente</th>\n",
              "      <th>LEU</th>\n",
              "      <th>NEU</th>\n",
              "      <th>NEUp</th>\n",
              "      <th>LIN</th>\n",
              "      <th>LINp</th>\n",
              "      <th>MON</th>\n",
              "      <th>MONp</th>\n",
              "      <th>EOS</th>\n",
              "      <th>...</th>\n",
              "      <th>WBC-N</th>\n",
              "      <th>ASLYP</th>\n",
              "      <th>ASLYA</th>\n",
              "      <th>RELPL</th>\n",
              "      <th>RELYP</th>\n",
              "      <th>RELYA</th>\n",
              "      <th>NEUGI</th>\n",
              "      <th>NEURI</th>\n",
              "      <th>ASLPL</th>\n",
              "      <th>Revision</th>\n",
              "    </tr>\n",
              "  </thead>\n",
              "  <tbody>\n",
              "    <tr>\n",
              "      <th>1</th>\n",
              "      <td>76.0</td>\n",
              "      <td>0.0</td>\n",
              "      <td>3.75</td>\n",
              "      <td>1.840</td>\n",
              "      <td>49.00</td>\n",
              "      <td>1.290</td>\n",
              "      <td>34.40</td>\n",
              "      <td>0.490</td>\n",
              "      <td>13.10</td>\n",
              "      <td>0.110</td>\n",
              "      <td>...</td>\n",
              "      <td>3.75</td>\n",
              "      <td>0.00</td>\n",
              "      <td>0.000</td>\n",
              "      <td>17.1</td>\n",
              "      <td>5.90</td>\n",
              "      <td>0.22</td>\n",
              "      <td>146.60</td>\n",
              "      <td>53.80</td>\n",
              "      <td>0.00</td>\n",
              "      <td>1.0</td>\n",
              "    </tr>\n",
              "    <tr>\n",
              "      <th>5</th>\n",
              "      <td>66.0</td>\n",
              "      <td>0.0</td>\n",
              "      <td>3.05</td>\n",
              "      <td>1.170</td>\n",
              "      <td>38.50</td>\n",
              "      <td>1.050</td>\n",
              "      <td>34.40</td>\n",
              "      <td>0.800</td>\n",
              "      <td>8.84</td>\n",
              "      <td>0.010</td>\n",
              "      <td>...</td>\n",
              "      <td>3.05</td>\n",
              "      <td>0.00</td>\n",
              "      <td>0.000</td>\n",
              "      <td>7.6</td>\n",
              "      <td>2.60</td>\n",
              "      <td>0.08</td>\n",
              "      <td>151.00</td>\n",
              "      <td>56.50</td>\n",
              "      <td>0.00</td>\n",
              "      <td>1.0</td>\n",
              "    </tr>\n",
              "    <tr>\n",
              "      <th>16</th>\n",
              "      <td>37.0</td>\n",
              "      <td>0.0</td>\n",
              "      <td>9.64</td>\n",
              "      <td>5.416</td>\n",
              "      <td>53.06</td>\n",
              "      <td>3.348</td>\n",
              "      <td>37.26</td>\n",
              "      <td>0.692</td>\n",
              "      <td>7.92</td>\n",
              "      <td>0.064</td>\n",
              "      <td>...</td>\n",
              "      <td>9.64</td>\n",
              "      <td>0.14</td>\n",
              "      <td>0.004</td>\n",
              "      <td>8.6</td>\n",
              "      <td>2.54</td>\n",
              "      <td>0.20</td>\n",
              "      <td>147.86</td>\n",
              "      <td>49.04</td>\n",
              "      <td>0.34</td>\n",
              "      <td>1.0</td>\n",
              "    </tr>\n",
              "    <tr>\n",
              "      <th>19</th>\n",
              "      <td>85.0</td>\n",
              "      <td>1.0</td>\n",
              "      <td>17.25</td>\n",
              "      <td>15.160</td>\n",
              "      <td>87.90</td>\n",
              "      <td>0.980</td>\n",
              "      <td>5.70</td>\n",
              "      <td>0.880</td>\n",
              "      <td>5.10</td>\n",
              "      <td>0.050</td>\n",
              "      <td>...</td>\n",
              "      <td>17.25</td>\n",
              "      <td>0.00</td>\n",
              "      <td>0.000</td>\n",
              "      <td>11.2</td>\n",
              "      <td>0.60</td>\n",
              "      <td>0.11</td>\n",
              "      <td>155.30</td>\n",
              "      <td>48.60</td>\n",
              "      <td>0.00</td>\n",
              "      <td>1.0</td>\n",
              "    </tr>\n",
              "    <tr>\n",
              "      <th>22</th>\n",
              "      <td>74.0</td>\n",
              "      <td>0.0</td>\n",
              "      <td>4.89</td>\n",
              "      <td>3.570</td>\n",
              "      <td>72.90</td>\n",
              "      <td>0.610</td>\n",
              "      <td>12.50</td>\n",
              "      <td>0.350</td>\n",
              "      <td>7.20</td>\n",
              "      <td>0.010</td>\n",
              "      <td>...</td>\n",
              "      <td>4.89</td>\n",
              "      <td>0.00</td>\n",
              "      <td>0.000</td>\n",
              "      <td>23.0</td>\n",
              "      <td>2.90</td>\n",
              "      <td>0.14</td>\n",
              "      <td>148.70</td>\n",
              "      <td>52.10</td>\n",
              "      <td>0.00</td>\n",
              "      <td>1.0</td>\n",
              "    </tr>\n",
              "  </tbody>\n",
              "</table>\n",
              "<p>5 rows × 67 columns</p>\n",
              "</div>\n",
              "      <button class=\"colab-df-convert\" onclick=\"convertToInteractive('df-7417ca41-a56e-4307-a6da-0471d7441aa2')\"\n",
              "              title=\"Convert this dataframe to an interactive table.\"\n",
              "              style=\"display:none;\">\n",
              "        \n",
              "  <svg xmlns=\"http://www.w3.org/2000/svg\" height=\"24px\"viewBox=\"0 0 24 24\"\n",
              "       width=\"24px\">\n",
              "    <path d=\"M0 0h24v24H0V0z\" fill=\"none\"/>\n",
              "    <path d=\"M18.56 5.44l.94 2.06.94-2.06 2.06-.94-2.06-.94-.94-2.06-.94 2.06-2.06.94zm-11 1L8.5 8.5l.94-2.06 2.06-.94-2.06-.94L8.5 2.5l-.94 2.06-2.06.94zm10 10l.94 2.06.94-2.06 2.06-.94-2.06-.94-.94-2.06-.94 2.06-2.06.94z\"/><path d=\"M17.41 7.96l-1.37-1.37c-.4-.4-.92-.59-1.43-.59-.52 0-1.04.2-1.43.59L10.3 9.45l-7.72 7.72c-.78.78-.78 2.05 0 2.83L4 21.41c.39.39.9.59 1.41.59.51 0 1.02-.2 1.41-.59l7.78-7.78 2.81-2.81c.8-.78.8-2.07 0-2.86zM5.41 20L4 18.59l7.72-7.72 1.47 1.35L5.41 20z\"/>\n",
              "  </svg>\n",
              "      </button>\n",
              "      \n",
              "  <style>\n",
              "    .colab-df-container {\n",
              "      display:flex;\n",
              "      flex-wrap:wrap;\n",
              "      gap: 12px;\n",
              "    }\n",
              "\n",
              "    .colab-df-convert {\n",
              "      background-color: #E8F0FE;\n",
              "      border: none;\n",
              "      border-radius: 50%;\n",
              "      cursor: pointer;\n",
              "      display: none;\n",
              "      fill: #1967D2;\n",
              "      height: 32px;\n",
              "      padding: 0 0 0 0;\n",
              "      width: 32px;\n",
              "    }\n",
              "\n",
              "    .colab-df-convert:hover {\n",
              "      background-color: #E2EBFA;\n",
              "      box-shadow: 0px 1px 2px rgba(60, 64, 67, 0.3), 0px 1px 3px 1px rgba(60, 64, 67, 0.15);\n",
              "      fill: #174EA6;\n",
              "    }\n",
              "\n",
              "    [theme=dark] .colab-df-convert {\n",
              "      background-color: #3B4455;\n",
              "      fill: #D2E3FC;\n",
              "    }\n",
              "\n",
              "    [theme=dark] .colab-df-convert:hover {\n",
              "      background-color: #434B5C;\n",
              "      box-shadow: 0px 1px 3px 1px rgba(0, 0, 0, 0.15);\n",
              "      filter: drop-shadow(0px 1px 2px rgba(0, 0, 0, 0.3));\n",
              "      fill: #FFFFFF;\n",
              "    }\n",
              "  </style>\n",
              "\n",
              "      <script>\n",
              "        const buttonEl =\n",
              "          document.querySelector('#df-7417ca41-a56e-4307-a6da-0471d7441aa2 button.colab-df-convert');\n",
              "        buttonEl.style.display =\n",
              "          google.colab.kernel.accessAllowed ? 'block' : 'none';\n",
              "\n",
              "        async function convertToInteractive(key) {\n",
              "          const element = document.querySelector('#df-7417ca41-a56e-4307-a6da-0471d7441aa2');\n",
              "          const dataTable =\n",
              "            await google.colab.kernel.invokeFunction('convertToInteractive',\n",
              "                                                     [key], {});\n",
              "          if (!dataTable) return;\n",
              "\n",
              "          const docLinkHtml = 'Like what you see? Visit the ' +\n",
              "            '<a target=\"_blank\" href=https://colab.research.google.com/notebooks/data_table.ipynb>data table notebook</a>'\n",
              "            + ' to learn more about interactive tables.';\n",
              "          element.innerHTML = '';\n",
              "          dataTable['output_type'] = 'display_data';\n",
              "          await google.colab.output.renderOutput(dataTable, element);\n",
              "          const docLink = document.createElement('div');\n",
              "          docLink.innerHTML = docLinkHtml;\n",
              "          element.appendChild(docLink);\n",
              "        }\n",
              "      </script>\n",
              "    </div>\n",
              "  </div>\n",
              "  "
            ]
          },
          "metadata": {},
          "execution_count": 4
        }
      ],
      "source": [
        "x_train_1 = x_train[x_train['Revision'] == 1]\n",
        "\n",
        "x_train_1.head()"
      ]
    },
    {
      "cell_type": "code",
      "source": [
        "#Elimino la variable 'Revision' puesto que una vez he cogido los pacientes con revision=1, la variable ya \n",
        "#no me hace falta.\n",
        "x_train_1 = x_train_1.drop([\"Revision\"],axis=1) "
      ],
      "metadata": {
        "id": "SOpidxanKSpn"
      },
      "execution_count": 5,
      "outputs": []
    },
    {
      "cell_type": "code",
      "execution_count": 6,
      "metadata": {
        "colab": {
          "base_uri": "https://localhost:8080/"
        },
        "id": "US2sPygL62WC",
        "outputId": "8cd00bc4-66a4-4b6e-9a4d-6a8f9a351770"
      },
      "outputs": [
        {
          "output_type": "stream",
          "name": "stdout",
          "text": [
            "[0 0 0 0 1 0 0 1 0 1 0 0 0 0 0 0 0 0 0 0 0 0 1 0 0 1 0 0 0 0 1 0 0 0 1 0 0\n",
            " 0 0 0 0 0 0 1 0 0 0 0 0 0 0 0 0 0 0 0 0 0 0 0 1 0 0 0 1 0 0 0 1 0 0 1 1 0\n",
            " 0 0]\n"
          ]
        }
      ],
      "source": [
        "len(y_train)\n",
        "\n",
        "#get a boolean np.array as index\n",
        "idx = x_train['Revision'] == 1\n",
        "\n",
        "idx = idx.values\n",
        "\n",
        "y_train_aux = y_train.values\n",
        "\n",
        "y_train_1 = y_train_aux[idx]\n",
        "\n",
        "print(y_train_1)"
      ]
    },
    {
      "cell_type": "markdown",
      "source": [
        "### Con X_test"
      ],
      "metadata": {
        "id": "mdCoKBuhLYCr"
      }
    },
    {
      "cell_type": "code",
      "source": [
        "x_test_1 = x_test[x_test['Revision'] == 1]\n",
        "\n",
        "x_test_1.head()"
      ],
      "metadata": {
        "id": "T9VbcNWBK8BR",
        "outputId": "da195b57-a58c-4090-8c28-4b06a3bc082c",
        "colab": {
          "base_uri": "https://localhost:8080/",
          "height": 317
        }
      },
      "execution_count": 7,
      "outputs": [
        {
          "output_type": "execute_result",
          "data": {
            "text/plain": [
              "    Edad del Paciente  Sexo del Paciente    LEU    NEU   NEUp    LIN   LINp  \\\n",
              "2                76.0                0.0  8.060   5.98  74.30  1.210  15.00   \n",
              "3                72.0                1.0  9.862   7.67  73.30  1.434  18.52   \n",
              "6                69.0                0.0  7.184  17.12  65.20  2.550   9.70   \n",
              "7                72.0                1.0  6.850   4.67  68.10  1.520  22.20   \n",
              "15               83.0                1.0  6.170   4.33  65.44  1.370  27.16   \n",
              "\n",
              "      MON   MONp    EOS  ...  WBC-N  ASLYP  ASLYA  RELPL  RELYP  RELYA  \\\n",
              "2   0.690   8.60  0.140  ...  8.060   0.00  0.000   6.60   1.00  0.080   \n",
              "3   0.538   6.18  0.036  ...  9.862   0.08  0.008  11.44   1.84  0.148   \n",
              "6   0.608  18.20  0.010  ...  7.184   0.40  0.100   9.40   0.90  0.240   \n",
              "7   0.500   7.30  0.080  ...  6.850   0.00  0.000  13.80   3.10  0.210   \n",
              "15  0.396   6.08  0.008  ...  6.170   0.22  0.006  11.84   1.96  0.146   \n",
              "\n",
              "     NEUGI  NEURI  ASLPL  Revision  \n",
              "2   159.30  49.60   0.00       1.0  \n",
              "3   147.94  52.50   0.88       1.0  \n",
              "6   136.80  50.98   3.90       1.0  \n",
              "7   141.40  47.90   0.00       1.0  \n",
              "15  152.26  51.58   1.18       1.0  \n",
              "\n",
              "[5 rows x 67 columns]"
            ],
            "text/html": [
              "\n",
              "  <div id=\"df-6c307fa4-6a3a-4ad4-b72b-357b9ec8b228\">\n",
              "    <div class=\"colab-df-container\">\n",
              "      <div>\n",
              "<style scoped>\n",
              "    .dataframe tbody tr th:only-of-type {\n",
              "        vertical-align: middle;\n",
              "    }\n",
              "\n",
              "    .dataframe tbody tr th {\n",
              "        vertical-align: top;\n",
              "    }\n",
              "\n",
              "    .dataframe thead th {\n",
              "        text-align: right;\n",
              "    }\n",
              "</style>\n",
              "<table border=\"1\" class=\"dataframe\">\n",
              "  <thead>\n",
              "    <tr style=\"text-align: right;\">\n",
              "      <th></th>\n",
              "      <th>Edad del Paciente</th>\n",
              "      <th>Sexo del Paciente</th>\n",
              "      <th>LEU</th>\n",
              "      <th>NEU</th>\n",
              "      <th>NEUp</th>\n",
              "      <th>LIN</th>\n",
              "      <th>LINp</th>\n",
              "      <th>MON</th>\n",
              "      <th>MONp</th>\n",
              "      <th>EOS</th>\n",
              "      <th>...</th>\n",
              "      <th>WBC-N</th>\n",
              "      <th>ASLYP</th>\n",
              "      <th>ASLYA</th>\n",
              "      <th>RELPL</th>\n",
              "      <th>RELYP</th>\n",
              "      <th>RELYA</th>\n",
              "      <th>NEUGI</th>\n",
              "      <th>NEURI</th>\n",
              "      <th>ASLPL</th>\n",
              "      <th>Revision</th>\n",
              "    </tr>\n",
              "  </thead>\n",
              "  <tbody>\n",
              "    <tr>\n",
              "      <th>2</th>\n",
              "      <td>76.0</td>\n",
              "      <td>0.0</td>\n",
              "      <td>8.060</td>\n",
              "      <td>5.98</td>\n",
              "      <td>74.30</td>\n",
              "      <td>1.210</td>\n",
              "      <td>15.00</td>\n",
              "      <td>0.690</td>\n",
              "      <td>8.60</td>\n",
              "      <td>0.140</td>\n",
              "      <td>...</td>\n",
              "      <td>8.060</td>\n",
              "      <td>0.00</td>\n",
              "      <td>0.000</td>\n",
              "      <td>6.60</td>\n",
              "      <td>1.00</td>\n",
              "      <td>0.080</td>\n",
              "      <td>159.30</td>\n",
              "      <td>49.60</td>\n",
              "      <td>0.00</td>\n",
              "      <td>1.0</td>\n",
              "    </tr>\n",
              "    <tr>\n",
              "      <th>3</th>\n",
              "      <td>72.0</td>\n",
              "      <td>1.0</td>\n",
              "      <td>9.862</td>\n",
              "      <td>7.67</td>\n",
              "      <td>73.30</td>\n",
              "      <td>1.434</td>\n",
              "      <td>18.52</td>\n",
              "      <td>0.538</td>\n",
              "      <td>6.18</td>\n",
              "      <td>0.036</td>\n",
              "      <td>...</td>\n",
              "      <td>9.862</td>\n",
              "      <td>0.08</td>\n",
              "      <td>0.008</td>\n",
              "      <td>11.44</td>\n",
              "      <td>1.84</td>\n",
              "      <td>0.148</td>\n",
              "      <td>147.94</td>\n",
              "      <td>52.50</td>\n",
              "      <td>0.88</td>\n",
              "      <td>1.0</td>\n",
              "    </tr>\n",
              "    <tr>\n",
              "      <th>6</th>\n",
              "      <td>69.0</td>\n",
              "      <td>0.0</td>\n",
              "      <td>7.184</td>\n",
              "      <td>17.12</td>\n",
              "      <td>65.20</td>\n",
              "      <td>2.550</td>\n",
              "      <td>9.70</td>\n",
              "      <td>0.608</td>\n",
              "      <td>18.20</td>\n",
              "      <td>0.010</td>\n",
              "      <td>...</td>\n",
              "      <td>7.184</td>\n",
              "      <td>0.40</td>\n",
              "      <td>0.100</td>\n",
              "      <td>9.40</td>\n",
              "      <td>0.90</td>\n",
              "      <td>0.240</td>\n",
              "      <td>136.80</td>\n",
              "      <td>50.98</td>\n",
              "      <td>3.90</td>\n",
              "      <td>1.0</td>\n",
              "    </tr>\n",
              "    <tr>\n",
              "      <th>7</th>\n",
              "      <td>72.0</td>\n",
              "      <td>1.0</td>\n",
              "      <td>6.850</td>\n",
              "      <td>4.67</td>\n",
              "      <td>68.10</td>\n",
              "      <td>1.520</td>\n",
              "      <td>22.20</td>\n",
              "      <td>0.500</td>\n",
              "      <td>7.30</td>\n",
              "      <td>0.080</td>\n",
              "      <td>...</td>\n",
              "      <td>6.850</td>\n",
              "      <td>0.00</td>\n",
              "      <td>0.000</td>\n",
              "      <td>13.80</td>\n",
              "      <td>3.10</td>\n",
              "      <td>0.210</td>\n",
              "      <td>141.40</td>\n",
              "      <td>47.90</td>\n",
              "      <td>0.00</td>\n",
              "      <td>1.0</td>\n",
              "    </tr>\n",
              "    <tr>\n",
              "      <th>15</th>\n",
              "      <td>83.0</td>\n",
              "      <td>1.0</td>\n",
              "      <td>6.170</td>\n",
              "      <td>4.33</td>\n",
              "      <td>65.44</td>\n",
              "      <td>1.370</td>\n",
              "      <td>27.16</td>\n",
              "      <td>0.396</td>\n",
              "      <td>6.08</td>\n",
              "      <td>0.008</td>\n",
              "      <td>...</td>\n",
              "      <td>6.170</td>\n",
              "      <td>0.22</td>\n",
              "      <td>0.006</td>\n",
              "      <td>11.84</td>\n",
              "      <td>1.96</td>\n",
              "      <td>0.146</td>\n",
              "      <td>152.26</td>\n",
              "      <td>51.58</td>\n",
              "      <td>1.18</td>\n",
              "      <td>1.0</td>\n",
              "    </tr>\n",
              "  </tbody>\n",
              "</table>\n",
              "<p>5 rows × 67 columns</p>\n",
              "</div>\n",
              "      <button class=\"colab-df-convert\" onclick=\"convertToInteractive('df-6c307fa4-6a3a-4ad4-b72b-357b9ec8b228')\"\n",
              "              title=\"Convert this dataframe to an interactive table.\"\n",
              "              style=\"display:none;\">\n",
              "        \n",
              "  <svg xmlns=\"http://www.w3.org/2000/svg\" height=\"24px\"viewBox=\"0 0 24 24\"\n",
              "       width=\"24px\">\n",
              "    <path d=\"M0 0h24v24H0V0z\" fill=\"none\"/>\n",
              "    <path d=\"M18.56 5.44l.94 2.06.94-2.06 2.06-.94-2.06-.94-.94-2.06-.94 2.06-2.06.94zm-11 1L8.5 8.5l.94-2.06 2.06-.94-2.06-.94L8.5 2.5l-.94 2.06-2.06.94zm10 10l.94 2.06.94-2.06 2.06-.94-2.06-.94-.94-2.06-.94 2.06-2.06.94z\"/><path d=\"M17.41 7.96l-1.37-1.37c-.4-.4-.92-.59-1.43-.59-.52 0-1.04.2-1.43.59L10.3 9.45l-7.72 7.72c-.78.78-.78 2.05 0 2.83L4 21.41c.39.39.9.59 1.41.59.51 0 1.02-.2 1.41-.59l7.78-7.78 2.81-2.81c.8-.78.8-2.07 0-2.86zM5.41 20L4 18.59l7.72-7.72 1.47 1.35L5.41 20z\"/>\n",
              "  </svg>\n",
              "      </button>\n",
              "      \n",
              "  <style>\n",
              "    .colab-df-container {\n",
              "      display:flex;\n",
              "      flex-wrap:wrap;\n",
              "      gap: 12px;\n",
              "    }\n",
              "\n",
              "    .colab-df-convert {\n",
              "      background-color: #E8F0FE;\n",
              "      border: none;\n",
              "      border-radius: 50%;\n",
              "      cursor: pointer;\n",
              "      display: none;\n",
              "      fill: #1967D2;\n",
              "      height: 32px;\n",
              "      padding: 0 0 0 0;\n",
              "      width: 32px;\n",
              "    }\n",
              "\n",
              "    .colab-df-convert:hover {\n",
              "      background-color: #E2EBFA;\n",
              "      box-shadow: 0px 1px 2px rgba(60, 64, 67, 0.3), 0px 1px 3px 1px rgba(60, 64, 67, 0.15);\n",
              "      fill: #174EA6;\n",
              "    }\n",
              "\n",
              "    [theme=dark] .colab-df-convert {\n",
              "      background-color: #3B4455;\n",
              "      fill: #D2E3FC;\n",
              "    }\n",
              "\n",
              "    [theme=dark] .colab-df-convert:hover {\n",
              "      background-color: #434B5C;\n",
              "      box-shadow: 0px 1px 3px 1px rgba(0, 0, 0, 0.15);\n",
              "      filter: drop-shadow(0px 1px 2px rgba(0, 0, 0, 0.3));\n",
              "      fill: #FFFFFF;\n",
              "    }\n",
              "  </style>\n",
              "\n",
              "      <script>\n",
              "        const buttonEl =\n",
              "          document.querySelector('#df-6c307fa4-6a3a-4ad4-b72b-357b9ec8b228 button.colab-df-convert');\n",
              "        buttonEl.style.display =\n",
              "          google.colab.kernel.accessAllowed ? 'block' : 'none';\n",
              "\n",
              "        async function convertToInteractive(key) {\n",
              "          const element = document.querySelector('#df-6c307fa4-6a3a-4ad4-b72b-357b9ec8b228');\n",
              "          const dataTable =\n",
              "            await google.colab.kernel.invokeFunction('convertToInteractive',\n",
              "                                                     [key], {});\n",
              "          if (!dataTable) return;\n",
              "\n",
              "          const docLinkHtml = 'Like what you see? Visit the ' +\n",
              "            '<a target=\"_blank\" href=https://colab.research.google.com/notebooks/data_table.ipynb>data table notebook</a>'\n",
              "            + ' to learn more about interactive tables.';\n",
              "          element.innerHTML = '';\n",
              "          dataTable['output_type'] = 'display_data';\n",
              "          await google.colab.output.renderOutput(dataTable, element);\n",
              "          const docLink = document.createElement('div');\n",
              "          docLink.innerHTML = docLinkHtml;\n",
              "          element.appendChild(docLink);\n",
              "        }\n",
              "      </script>\n",
              "    </div>\n",
              "  </div>\n",
              "  "
            ]
          },
          "metadata": {},
          "execution_count": 7
        }
      ]
    },
    {
      "cell_type": "code",
      "source": [
        "#Elimino la variable 'Revision' puesto que una vez he cogido los pacientes con revision=1, la variable ya \n",
        "#no me hace falta.\n",
        "x_test_1 = x_test_1.drop([\"Revision\"],axis=1)  "
      ],
      "metadata": {
        "id": "TxsOfYy4LP3Y"
      },
      "execution_count": 8,
      "outputs": []
    },
    {
      "cell_type": "code",
      "source": [
        "len(y_test)\n",
        "\n",
        "#get a boolean np.array as index\n",
        "idx = x_test['Revision'] == 1\n",
        "\n",
        "idx = idx.values\n",
        "\n",
        "y_test_aux = y_test.values\n",
        "\n",
        "y_test_1 = y_test_aux[idx]\n",
        "\n",
        "print(y_test_1)"
      ],
      "metadata": {
        "id": "ycp3vVjBLG4r",
        "outputId": "a7d13ae4-a15f-4dde-efbb-8765e04cc0a1",
        "colab": {
          "base_uri": "https://localhost:8080/"
        }
      },
      "execution_count": 9,
      "outputs": [
        {
          "output_type": "stream",
          "name": "stdout",
          "text": [
            "[0 0 1 0 0 0 1 0 1 1 0 0 1 0 0 0 0 0 1 0 0 0]\n"
          ]
        }
      ]
    },
    {
      "cell_type": "markdown",
      "metadata": {
        "id": "8iA8M8HS-O_s"
      },
      "source": [
        "# 1.XGBoost"
      ]
    },
    {
      "cell_type": "code",
      "execution_count": 10,
      "metadata": {
        "id": "Q2_52kUXC7tS"
      },
      "outputs": [],
      "source": [
        "import numpy as np\n",
        "\n",
        "from scipy.stats import uniform, randint\n",
        "\n",
        "from sklearn.datasets import load_breast_cancer, load_diabetes, load_wine\n",
        "from sklearn.metrics import auc, accuracy_score, confusion_matrix, mean_squared_error, roc_auc_score\n",
        "from sklearn.model_selection import cross_val_score, GridSearchCV, KFold, RandomizedSearchCV, train_test_split\n",
        "import xgboost as xgb"
      ]
    },
    {
      "cell_type": "markdown",
      "metadata": {
        "id": "b0BmHhZ0Li2s"
      },
      "source": [
        "## 1.1 Optimización de los hiperparámetros usando RandomizedSearchCV"
      ]
    },
    {
      "cell_type": "code",
      "execution_count": 11,
      "metadata": {
        "id": "BHAN5Yve-9Ch"
      },
      "outputs": [],
      "source": [
        "#Indico que el clasificador que voy a utlizar es XGBosst\n",
        "\n",
        "xgb_model = xgb.XGBClassifier()"
      ]
    },
    {
      "cell_type": "markdown",
      "metadata": {
        "id": "lCpdvaAR-Nqa"
      },
      "source": [
        "Inicialmente creamos un diccionario de algunos parámetros a entrenar. Aquí las claves son básicamente los parámetros y los valores a entrenar. Así que el RandomizedSearchCV probará cada valor y encontrará el valor particular que da la mayor precisión."
      ]
    },
    {
      "cell_type": "code",
      "execution_count": 12,
      "metadata": {
        "id": "Klmci5LdABp_"
      },
      "outputs": [],
      "source": [
        "#Cuanto mayor sea gamma, más conservador será el algoritmo\n",
        "#min_child_weight: para controlar el sobreajuste, cuanto mayor sea min_child_weight, más conservador será el algoritmo\n",
        "\n",
        "params = {\n",
        " 'n_estimators' : [25,50,75,100,125,150,175,200,250,300,350,400],\n",
        " 'learning_rate' : [0.05,0.10,0.15,0.20,0.25,0.30],\n",
        " 'max_depth' : [3,4,5,6,8,10,12,15],\n",
        " 'gamma': [0.0,0.1,0.2,0.3,0.4],\n",
        " 'colsample_bytree' : [0.3,0.4,0.5,0.7]\n",
        "}"
      ]
    },
    {
      "cell_type": "markdown",
      "metadata": {
        "id": "Z_8hIRiEAqFu"
      },
      "source": [
        "A continuación, llamamos a RandomizedSearchCV() y le pasamos los siguientes parámetros"
      ]
    },
    {
      "cell_type": "code",
      "execution_count": 13,
      "metadata": {
        "colab": {
          "base_uri": "https://localhost:8080/"
        },
        "id": "3SHHuaOcAvQA",
        "outputId": "b7723b59-e244-4dae-98fb-cec08fec6f2e"
      },
      "outputs": [
        {
          "output_type": "stream",
          "name": "stdout",
          "text": [
            "Fitting 5 folds for each of 5 candidates, totalling 25 fits\n"
          ]
        },
        {
          "output_type": "execute_result",
          "data": {
            "text/plain": [
              "RandomizedSearchCV(cv=5, estimator=XGBClassifier(), n_iter=5, n_jobs=-1,\n",
              "                   param_distributions={'colsample_bytree': [0.3, 0.4, 0.5,\n",
              "                                                             0.7],\n",
              "                                        'gamma': [0.0, 0.1, 0.2, 0.3, 0.4],\n",
              "                                        'learning_rate': [0.05, 0.1, 0.15, 0.2,\n",
              "                                                          0.25, 0.3],\n",
              "                                        'max_depth': [3, 4, 5, 6, 8, 10, 12,\n",
              "                                                      15],\n",
              "                                        'n_estimators': [25, 50, 75, 100, 125,\n",
              "                                                         150, 175, 200, 250,\n",
              "                                                         300, 350, 400]},\n",
              "                   random_state=2, scoring='roc_auc', verbose=3)"
            ]
          },
          "metadata": {},
          "execution_count": 13
        }
      ],
      "source": [
        "#verbose = genera mensajes durante el entramiento del modelo 'Fitting 5 folds...'\n",
        "\n",
        "#roc_auc = curva AUC-ROC es la métrica de selección del modelo para el problema de clasificación \n",
        "#de dos clases múltiples.ROC nos dice qué tan bueno es el modelo para distinguir las clases dadas, \n",
        "#en términos de la probabilidad predicha.\n",
        "\n",
        "#n_jobs = número de nucleos que se utilizan (-1 quiere decir que se utilizan todos)\n",
        "\n",
        "r_s_model = RandomizedSearchCV(xgb_model , param_distributions=params, n_iter=5, \n",
        "                               scoring='roc_auc',n_jobs=-1,cv=5,verbose=3,random_state = 2)\n",
        "r_s_model.fit(x_train_1, y_train_1)"
      ]
    },
    {
      "cell_type": "markdown",
      "metadata": {
        "id": "PwHr_OxHCJBY"
      },
      "source": [
        "Bien, nuestro modelo ha sido ajustado. Veamos ahora todos los parámetros que han sido seleccionados por el RandomizedSearch() para el XGBClassifier. Podemos hacerlo con la ayuda del método best_estimators_."
      ]
    },
    {
      "cell_type": "code",
      "execution_count": 14,
      "metadata": {
        "colab": {
          "base_uri": "https://localhost:8080/"
        },
        "id": "rXz112xuCL9x",
        "outputId": "5589d989-9f1b-4bcb-db85-f07cd59dd827"
      },
      "outputs": [
        {
          "output_type": "execute_result",
          "data": {
            "text/plain": [
              "XGBClassifier(colsample_bytree=0.5, gamma=0.1, learning_rate=0.2, max_depth=4,\n",
              "              n_estimators=50)"
            ]
          },
          "metadata": {},
          "execution_count": 14
        }
      ],
      "source": [
        "r_s_model.best_estimator_"
      ]
    },
    {
      "cell_type": "markdown",
      "metadata": {
        "id": "OSJUkKA6HaQT"
      },
      "source": [
        "Una vez conozco los valores de hiperparámetros, vuelvo a buscar la optimización de los mismos, pero esta vez afinando más."
      ]
    },
    {
      "cell_type": "code",
      "execution_count": 15,
      "metadata": {
        "id": "NyURH0MLHYip"
      },
      "outputs": [],
      "source": [
        "#Cuanto mayor sea gamma, más conservador será el algoritmo\n",
        "#min_child_weight: para controlar el sobreajuste, cuanto mayor sea min_child_weight, más conservador será el algoritmo\n",
        "\n",
        "params = {\n",
        " 'n_estimators' : [192,194,196,198,200,202,204,206,208],\n",
        " 'learning_rate' : [0.11,0.12,0.13,0.14,0.15,0.16,0.17,0.18,0.19],\n",
        " 'max_depth' : [8,9,10,11,12,13,14,15,16],\n",
        " 'gamma': [0.30,0.33,0.36,0.39,0.42,0.45,0.48],\n",
        " 'colsample_bytree' : [0.15,0.20,0.25,0.30,0.35,0.40,0.45]\n",
        "}"
      ]
    },
    {
      "cell_type": "code",
      "execution_count": 16,
      "metadata": {
        "id": "Tgq4jyIe6TTV",
        "outputId": "a2d655ce-ad2e-4910-dece-4ecb0c5bcfe0",
        "colab": {
          "base_uri": "https://localhost:8080/"
        }
      },
      "outputs": [
        {
          "output_type": "stream",
          "name": "stdout",
          "text": [
            "Index(['Edad del Paciente', 'Sexo del Paciente', 'LEU', 'NEU', 'NEUp', 'LIN',\n",
            "       'LINp', 'MON', 'MONp', 'EOS', 'EOSp', 'BAS', 'BASp', 'IG', 'IGp',\n",
            "       'ERIT', 'HGB', 'HCT', 'VCM', 'HCM', 'CHCM', 'RDW', 'ERBL', 'ERBLp',\n",
            "       'PLT', 'PLTI', 'VPM', 'rNe/L', 'rPL/L', 'MacR', 'MicR', 'BA-D#',\n",
            "       'NEFSC', 'BA-D%', 'BA-N#', 'BA-N%', 'HFLCA', 'HFLCP', 'LY-WX', 'LY-WY',\n",
            "       'LY-WZ', 'LY-X', 'LY-Y', 'LY-Z', 'MO-WX', 'MO-WY', 'MO-WZ', 'MO-X',\n",
            "       'MO-Y', 'MO-Z', 'NESFL', 'NESSC', 'NE-WX', 'NE-WY', 'NE-WZ', 'TNC-N',\n",
            "       'WBC-D', 'WBC-N', 'ASLYP', 'ASLYA', 'RELPL', 'RELYP', 'RELYA', 'NEUGI',\n",
            "       'NEURI', 'ASLPL'],\n",
            "      dtype='object')\n"
          ]
        }
      ],
      "source": [
        "print(x_train_1.columns)\n",
        "\n",
        "#print(x_test_1['Revision'].head())"
      ]
    },
    {
      "cell_type": "code",
      "execution_count": 17,
      "metadata": {
        "colab": {
          "base_uri": "https://localhost:8080/"
        },
        "id": "6o2OeCTvIkWi",
        "outputId": "66561e7e-cbf5-44e0-faa7-13f48536ab3a"
      },
      "outputs": [
        {
          "output_type": "stream",
          "name": "stdout",
          "text": [
            "Fitting 5 folds for each of 5 candidates, totalling 25 fits\n"
          ]
        },
        {
          "output_type": "execute_result",
          "data": {
            "text/plain": [
              "RandomizedSearchCV(cv=5, estimator=XGBClassifier(), n_iter=5, n_jobs=-1,\n",
              "                   param_distributions={'colsample_bytree': [0.15, 0.2, 0.25,\n",
              "                                                             0.3, 0.35, 0.4,\n",
              "                                                             0.45],\n",
              "                                        'gamma': [0.3, 0.33, 0.36, 0.39, 0.42,\n",
              "                                                  0.45, 0.48],\n",
              "                                        'learning_rate': [0.11, 0.12, 0.13,\n",
              "                                                          0.14, 0.15, 0.16,\n",
              "                                                          0.17, 0.18, 0.19],\n",
              "                                        'max_depth': [8, 9, 10, 11, 12, 13, 14,\n",
              "                                                      15, 16],\n",
              "                                        'n_estimators': [192, 194, 196, 198,\n",
              "                                                         200, 202, 204, 206,\n",
              "                                                         208]},\n",
              "                   random_state=2, scoring='roc_auc', verbose=3)"
            ]
          },
          "metadata": {},
          "execution_count": 17
        }
      ],
      "source": [
        "#verbose = genera mensajes durante el entramiento del modelo 'Fitting 5 folds...'\n",
        "\n",
        "#roc_auc = curva AUC-ROC es la métrica de selección del modelo para el problema de clasificación \n",
        "#de dos clases múltiples.ROC nos dice qué tan bueno es el modelo para distinguir las clases dadas, \n",
        "#en términos de la probabilidad predicha.\n",
        "\n",
        "#n_jobs = número de nucleos que se utilizan (-1 quiere decir que se utilizan todos)\n",
        "\n",
        "r_s_model = RandomizedSearchCV(xgb_model , param_distributions=params, n_iter=5, \n",
        "                               scoring='roc_auc',n_jobs=-1,cv=5,verbose=3,random_state = 2)\n",
        "r_s_model.fit(x_train_1, y_train_1)"
      ]
    },
    {
      "cell_type": "code",
      "execution_count": 18,
      "metadata": {
        "colab": {
          "base_uri": "https://localhost:8080/"
        },
        "id": "J8GzmVZNIm0X",
        "outputId": "08214ff3-37f4-4c9f-bf9f-e854e8dfa38a"
      },
      "outputs": [
        {
          "output_type": "execute_result",
          "data": {
            "text/plain": [
              "XGBClassifier(colsample_bytree=0.45, gamma=0.48, learning_rate=0.15,\n",
              "              max_depth=11, n_estimators=192)"
            ]
          },
          "metadata": {},
          "execution_count": 18
        }
      ],
      "source": [
        "r_s_model.best_estimator_"
      ]
    },
    {
      "cell_type": "markdown",
      "metadata": {
        "id": "BJT9dRNqfiKU"
      },
      "source": [
        "## 1.2 Rendimiento con todas las features"
      ]
    },
    {
      "cell_type": "markdown",
      "metadata": {
        "id": "xG-bVWyjCZcx"
      },
      "source": [
        "Ahora, como conocemos todos los mejores parámetros, podemos simplemente construir nuestro modelo clasificador final pasando todos esos parámetros."
      ]
    },
    {
      "cell_type": "code",
      "execution_count": 19,
      "metadata": {
        "id": "MF6gOB1RChQp"
      },
      "outputs": [],
      "source": [
        "#Construyendo el modelo final\n",
        "xgb_model = xgb.XGBClassifier(colsample_bytree=0.45, gamma=0.3, learning_rate=0.15,\n",
        "              max_depth=16, n_estimators=202)"
      ]
    },
    {
      "cell_type": "code",
      "execution_count": 20,
      "metadata": {
        "id": "kguJP0rx6TTa"
      },
      "outputs": [],
      "source": [
        "#print(x_test['Fecha'])"
      ]
    },
    {
      "cell_type": "code",
      "source": [
        "x_test_WR = x_test.drop([\"Revision\"],axis=1)"
      ],
      "metadata": {
        "id": "0NSP3PtSNEB3"
      },
      "execution_count": 21,
      "outputs": []
    },
    {
      "cell_type": "code",
      "execution_count": 22,
      "metadata": {
        "colab": {
          "base_uri": "https://localhost:8080/",
          "height": 175
        },
        "id": "NWmveSOUG3Wi",
        "outputId": "a92d0fdf-441c-48be-a7c2-3e63e65ce16f"
      },
      "outputs": [
        {
          "output_type": "execute_result",
          "data": {
            "text/plain": [
              "  Prestaciones en test   XGBoost\n",
              "0             Accuracy  0.765625\n",
              "1          Sensibility  0.166667\n",
              "2          Specificity  0.903846\n",
              "3              AUC ROC  0.535256"
            ],
            "text/html": [
              "\n",
              "  <div id=\"df-f12d3d19-5ac6-4260-97a1-62f563ce72d0\">\n",
              "    <div class=\"colab-df-container\">\n",
              "      <div>\n",
              "<style scoped>\n",
              "    .dataframe tbody tr th:only-of-type {\n",
              "        vertical-align: middle;\n",
              "    }\n",
              "\n",
              "    .dataframe tbody tr th {\n",
              "        vertical-align: top;\n",
              "    }\n",
              "\n",
              "    .dataframe thead th {\n",
              "        text-align: right;\n",
              "    }\n",
              "</style>\n",
              "<table border=\"1\" class=\"dataframe\">\n",
              "  <thead>\n",
              "    <tr style=\"text-align: right;\">\n",
              "      <th></th>\n",
              "      <th>Prestaciones en test</th>\n",
              "      <th>XGBoost</th>\n",
              "    </tr>\n",
              "  </thead>\n",
              "  <tbody>\n",
              "    <tr>\n",
              "      <th>0</th>\n",
              "      <td>Accuracy</td>\n",
              "      <td>0.765625</td>\n",
              "    </tr>\n",
              "    <tr>\n",
              "      <th>1</th>\n",
              "      <td>Sensibility</td>\n",
              "      <td>0.166667</td>\n",
              "    </tr>\n",
              "    <tr>\n",
              "      <th>2</th>\n",
              "      <td>Specificity</td>\n",
              "      <td>0.903846</td>\n",
              "    </tr>\n",
              "    <tr>\n",
              "      <th>3</th>\n",
              "      <td>AUC ROC</td>\n",
              "      <td>0.535256</td>\n",
              "    </tr>\n",
              "  </tbody>\n",
              "</table>\n",
              "</div>\n",
              "      <button class=\"colab-df-convert\" onclick=\"convertToInteractive('df-f12d3d19-5ac6-4260-97a1-62f563ce72d0')\"\n",
              "              title=\"Convert this dataframe to an interactive table.\"\n",
              "              style=\"display:none;\">\n",
              "        \n",
              "  <svg xmlns=\"http://www.w3.org/2000/svg\" height=\"24px\"viewBox=\"0 0 24 24\"\n",
              "       width=\"24px\">\n",
              "    <path d=\"M0 0h24v24H0V0z\" fill=\"none\"/>\n",
              "    <path d=\"M18.56 5.44l.94 2.06.94-2.06 2.06-.94-2.06-.94-.94-2.06-.94 2.06-2.06.94zm-11 1L8.5 8.5l.94-2.06 2.06-.94-2.06-.94L8.5 2.5l-.94 2.06-2.06.94zm10 10l.94 2.06.94-2.06 2.06-.94-2.06-.94-.94-2.06-.94 2.06-2.06.94z\"/><path d=\"M17.41 7.96l-1.37-1.37c-.4-.4-.92-.59-1.43-.59-.52 0-1.04.2-1.43.59L10.3 9.45l-7.72 7.72c-.78.78-.78 2.05 0 2.83L4 21.41c.39.39.9.59 1.41.59.51 0 1.02-.2 1.41-.59l7.78-7.78 2.81-2.81c.8-.78.8-2.07 0-2.86zM5.41 20L4 18.59l7.72-7.72 1.47 1.35L5.41 20z\"/>\n",
              "  </svg>\n",
              "      </button>\n",
              "      \n",
              "  <style>\n",
              "    .colab-df-container {\n",
              "      display:flex;\n",
              "      flex-wrap:wrap;\n",
              "      gap: 12px;\n",
              "    }\n",
              "\n",
              "    .colab-df-convert {\n",
              "      background-color: #E8F0FE;\n",
              "      border: none;\n",
              "      border-radius: 50%;\n",
              "      cursor: pointer;\n",
              "      display: none;\n",
              "      fill: #1967D2;\n",
              "      height: 32px;\n",
              "      padding: 0 0 0 0;\n",
              "      width: 32px;\n",
              "    }\n",
              "\n",
              "    .colab-df-convert:hover {\n",
              "      background-color: #E2EBFA;\n",
              "      box-shadow: 0px 1px 2px rgba(60, 64, 67, 0.3), 0px 1px 3px 1px rgba(60, 64, 67, 0.15);\n",
              "      fill: #174EA6;\n",
              "    }\n",
              "\n",
              "    [theme=dark] .colab-df-convert {\n",
              "      background-color: #3B4455;\n",
              "      fill: #D2E3FC;\n",
              "    }\n",
              "\n",
              "    [theme=dark] .colab-df-convert:hover {\n",
              "      background-color: #434B5C;\n",
              "      box-shadow: 0px 1px 3px 1px rgba(0, 0, 0, 0.15);\n",
              "      filter: drop-shadow(0px 1px 2px rgba(0, 0, 0, 0.3));\n",
              "      fill: #FFFFFF;\n",
              "    }\n",
              "  </style>\n",
              "\n",
              "      <script>\n",
              "        const buttonEl =\n",
              "          document.querySelector('#df-f12d3d19-5ac6-4260-97a1-62f563ce72d0 button.colab-df-convert');\n",
              "        buttonEl.style.display =\n",
              "          google.colab.kernel.accessAllowed ? 'block' : 'none';\n",
              "\n",
              "        async function convertToInteractive(key) {\n",
              "          const element = document.querySelector('#df-f12d3d19-5ac6-4260-97a1-62f563ce72d0');\n",
              "          const dataTable =\n",
              "            await google.colab.kernel.invokeFunction('convertToInteractive',\n",
              "                                                     [key], {});\n",
              "          if (!dataTable) return;\n",
              "\n",
              "          const docLinkHtml = 'Like what you see? Visit the ' +\n",
              "            '<a target=\"_blank\" href=https://colab.research.google.com/notebooks/data_table.ipynb>data table notebook</a>'\n",
              "            + ' to learn more about interactive tables.';\n",
              "          element.innerHTML = '';\n",
              "          dataTable['output_type'] = 'display_data';\n",
              "          await google.colab.output.renderOutput(dataTable, element);\n",
              "          const docLink = document.createElement('div');\n",
              "          docLink.innerHTML = docLinkHtml;\n",
              "          element.appendChild(docLink);\n",
              "        }\n",
              "      </script>\n",
              "    </div>\n",
              "  </div>\n",
              "  "
            ]
          },
          "metadata": {},
          "execution_count": 22
        }
      ],
      "source": [
        "#Métricas\n",
        "\n",
        "xgb_model.fit(x_train_1, y_train_1)\n",
        "\n",
        "y_pred = xgb_model.predict(x_test_WR)\n",
        "\n",
        "acc_xgb = accuracy_score(y_test, y_pred)\n",
        "sensibilidad_xgb = recall_score(y_test, y_pred)\n",
        "#precision_xgb = precision_score(y_test, y_pred)\n",
        "specificity_xgb = confusion_matrix(y_test, y_pred)[0][0]/(confusion_matrix(y_test, y_pred)[0][0]+confusion_matrix(y_test, y_pred)[0][1])\n",
        "auc_xgb = roc_auc_score(y_test, y_pred)\n",
        "\n",
        "Tabla = pd.DataFrame({ \"Prestaciones en test\":[\"Accuracy\",\"Sensibility\",'Specificity',\"AUC ROC\"],\n",
        "                      \"XGBoost\" : [acc_xgb, sensibilidad_xgb, specificity_xgb, auc_xgb]})\n",
        "\n",
        "Tabla"
      ]
    },
    {
      "cell_type": "markdown",
      "metadata": {
        "id": "1_w29Eajzaja"
      },
      "source": [
        "## 1.3 Selección de características (FS)"
      ]
    },
    {
      "cell_type": "markdown",
      "metadata": {
        "id": "PL0SquGRzibQ"
      },
      "source": [
        "La selección de características se entiende como una disminución del número de éstas, en función de un criterio elegido por el usuario, escogiendo aquellas que se consideran más informativas y eliminando aquellas que son irrelevantes. "
      ]
    },
    {
      "cell_type": "markdown",
      "metadata": {
        "id": "mp9Vyp9DzlTb"
      },
      "source": [
        "**Importancia de cada característica**"
      ]
    },
    {
      "cell_type": "markdown",
      "metadata": {
        "id": "U4qQSKeWzmFn"
      },
      "source": [
        "La importancia de características desempeña un papel importante, ya que proporciona una visión de los datos, del modelo y la base para la reducción de la dimensionalidad y la selección de características que pueden mejorar la eficiencia y la eficacia de un modelo predictivo en el problema."
      ]
    },
    {
      "cell_type": "markdown",
      "metadata": {
        "id": "7Xy8wLPtQZYw"
      },
      "source": [
        "Para tener mas aleatoridad a la hora de valorar la importancia de las características sobre las que trabajo, voy a hacer:\n",
        "\n",
        "\n",
        "1.   Coger del dataframe x_test (62 muestras) 40 muestras con reemplazo y repestando la proporción de sanos y no sanos.\n",
        "2.   Con ese conjunto hago \"permutation importance\"\n",
        "\n"
      ]
    },
    {
      "cell_type": "markdown",
      "metadata": {
        "id": "r7Aa4K-kq9kJ"
      },
      "source": [
        "# Permutation Importance"
      ]
    },
    {
      "cell_type": "code",
      "execution_count": 23,
      "metadata": {
        "colab": {
          "base_uri": "https://localhost:8080/"
        },
        "id": "o1P7QszfOt-Q",
        "outputId": "5af599fb-04cf-4b8d-fdec-c4260282e188"
      },
      "outputs": [
        {
          "output_type": "execute_result",
          "data": {
            "text/plain": [
              "(22, 66)"
            ]
          },
          "metadata": {},
          "execution_count": 23
        }
      ],
      "source": [
        "x_test_1.shape"
      ]
    },
    {
      "cell_type": "code",
      "execution_count": 24,
      "metadata": {
        "colab": {
          "base_uri": "https://localhost:8080/",
          "height": 317
        },
        "id": "ls08H1bRrOn9",
        "outputId": "a10f3f71-a89f-4ec2-95dd-089cad95dd42"
      },
      "outputs": [
        {
          "output_type": "execute_result",
          "data": {
            "text/plain": [
              "    Edad del Paciente  Sexo del Paciente    LEU    NEU   NEUp    LIN   LINp  \\\n",
              "2                76.0                0.0  8.060   5.98  74.30  1.210  15.00   \n",
              "3                72.0                1.0  9.862   7.67  73.30  1.434  18.52   \n",
              "6                69.0                0.0  7.184  17.12  65.20  2.550   9.70   \n",
              "7                72.0                1.0  6.850   4.67  68.10  1.520  22.20   \n",
              "15               83.0                1.0  6.170   4.33  65.44  1.370  27.16   \n",
              "\n",
              "      MON   MONp    EOS  ...  WBC-D  WBC-N  ASLYP  ASLYA  RELPL  RELYP  RELYA  \\\n",
              "2   0.690   8.60  0.140  ...  8.000  8.060   0.00  0.000   6.60   1.00  0.080   \n",
              "3   0.538   6.18  0.036  ...  9.840  9.862   0.08  0.008  11.44   1.84  0.148   \n",
              "6   0.608  18.20  0.010  ...  7.164  7.184   0.40  0.100   9.40   0.90  0.240   \n",
              "7   0.500   7.30  0.080  ...  6.860  6.850   0.00  0.000  13.80   3.10  0.210   \n",
              "15  0.396   6.08  0.008  ...  6.094  6.170   0.22  0.006  11.84   1.96  0.146   \n",
              "\n",
              "     NEUGI  NEURI  ASLPL  \n",
              "2   159.30  49.60   0.00  \n",
              "3   147.94  52.50   0.88  \n",
              "6   136.80  50.98   3.90  \n",
              "7   141.40  47.90   0.00  \n",
              "15  152.26  51.58   1.18  \n",
              "\n",
              "[5 rows x 66 columns]"
            ],
            "text/html": [
              "\n",
              "  <div id=\"df-dfb82dc1-ece6-44f3-9507-9e08f4ec62e4\">\n",
              "    <div class=\"colab-df-container\">\n",
              "      <div>\n",
              "<style scoped>\n",
              "    .dataframe tbody tr th:only-of-type {\n",
              "        vertical-align: middle;\n",
              "    }\n",
              "\n",
              "    .dataframe tbody tr th {\n",
              "        vertical-align: top;\n",
              "    }\n",
              "\n",
              "    .dataframe thead th {\n",
              "        text-align: right;\n",
              "    }\n",
              "</style>\n",
              "<table border=\"1\" class=\"dataframe\">\n",
              "  <thead>\n",
              "    <tr style=\"text-align: right;\">\n",
              "      <th></th>\n",
              "      <th>Edad del Paciente</th>\n",
              "      <th>Sexo del Paciente</th>\n",
              "      <th>LEU</th>\n",
              "      <th>NEU</th>\n",
              "      <th>NEUp</th>\n",
              "      <th>LIN</th>\n",
              "      <th>LINp</th>\n",
              "      <th>MON</th>\n",
              "      <th>MONp</th>\n",
              "      <th>EOS</th>\n",
              "      <th>...</th>\n",
              "      <th>WBC-D</th>\n",
              "      <th>WBC-N</th>\n",
              "      <th>ASLYP</th>\n",
              "      <th>ASLYA</th>\n",
              "      <th>RELPL</th>\n",
              "      <th>RELYP</th>\n",
              "      <th>RELYA</th>\n",
              "      <th>NEUGI</th>\n",
              "      <th>NEURI</th>\n",
              "      <th>ASLPL</th>\n",
              "    </tr>\n",
              "  </thead>\n",
              "  <tbody>\n",
              "    <tr>\n",
              "      <th>2</th>\n",
              "      <td>76.0</td>\n",
              "      <td>0.0</td>\n",
              "      <td>8.060</td>\n",
              "      <td>5.98</td>\n",
              "      <td>74.30</td>\n",
              "      <td>1.210</td>\n",
              "      <td>15.00</td>\n",
              "      <td>0.690</td>\n",
              "      <td>8.60</td>\n",
              "      <td>0.140</td>\n",
              "      <td>...</td>\n",
              "      <td>8.000</td>\n",
              "      <td>8.060</td>\n",
              "      <td>0.00</td>\n",
              "      <td>0.000</td>\n",
              "      <td>6.60</td>\n",
              "      <td>1.00</td>\n",
              "      <td>0.080</td>\n",
              "      <td>159.30</td>\n",
              "      <td>49.60</td>\n",
              "      <td>0.00</td>\n",
              "    </tr>\n",
              "    <tr>\n",
              "      <th>3</th>\n",
              "      <td>72.0</td>\n",
              "      <td>1.0</td>\n",
              "      <td>9.862</td>\n",
              "      <td>7.67</td>\n",
              "      <td>73.30</td>\n",
              "      <td>1.434</td>\n",
              "      <td>18.52</td>\n",
              "      <td>0.538</td>\n",
              "      <td>6.18</td>\n",
              "      <td>0.036</td>\n",
              "      <td>...</td>\n",
              "      <td>9.840</td>\n",
              "      <td>9.862</td>\n",
              "      <td>0.08</td>\n",
              "      <td>0.008</td>\n",
              "      <td>11.44</td>\n",
              "      <td>1.84</td>\n",
              "      <td>0.148</td>\n",
              "      <td>147.94</td>\n",
              "      <td>52.50</td>\n",
              "      <td>0.88</td>\n",
              "    </tr>\n",
              "    <tr>\n",
              "      <th>6</th>\n",
              "      <td>69.0</td>\n",
              "      <td>0.0</td>\n",
              "      <td>7.184</td>\n",
              "      <td>17.12</td>\n",
              "      <td>65.20</td>\n",
              "      <td>2.550</td>\n",
              "      <td>9.70</td>\n",
              "      <td>0.608</td>\n",
              "      <td>18.20</td>\n",
              "      <td>0.010</td>\n",
              "      <td>...</td>\n",
              "      <td>7.164</td>\n",
              "      <td>7.184</td>\n",
              "      <td>0.40</td>\n",
              "      <td>0.100</td>\n",
              "      <td>9.40</td>\n",
              "      <td>0.90</td>\n",
              "      <td>0.240</td>\n",
              "      <td>136.80</td>\n",
              "      <td>50.98</td>\n",
              "      <td>3.90</td>\n",
              "    </tr>\n",
              "    <tr>\n",
              "      <th>7</th>\n",
              "      <td>72.0</td>\n",
              "      <td>1.0</td>\n",
              "      <td>6.850</td>\n",
              "      <td>4.67</td>\n",
              "      <td>68.10</td>\n",
              "      <td>1.520</td>\n",
              "      <td>22.20</td>\n",
              "      <td>0.500</td>\n",
              "      <td>7.30</td>\n",
              "      <td>0.080</td>\n",
              "      <td>...</td>\n",
              "      <td>6.860</td>\n",
              "      <td>6.850</td>\n",
              "      <td>0.00</td>\n",
              "      <td>0.000</td>\n",
              "      <td>13.80</td>\n",
              "      <td>3.10</td>\n",
              "      <td>0.210</td>\n",
              "      <td>141.40</td>\n",
              "      <td>47.90</td>\n",
              "      <td>0.00</td>\n",
              "    </tr>\n",
              "    <tr>\n",
              "      <th>15</th>\n",
              "      <td>83.0</td>\n",
              "      <td>1.0</td>\n",
              "      <td>6.170</td>\n",
              "      <td>4.33</td>\n",
              "      <td>65.44</td>\n",
              "      <td>1.370</td>\n",
              "      <td>27.16</td>\n",
              "      <td>0.396</td>\n",
              "      <td>6.08</td>\n",
              "      <td>0.008</td>\n",
              "      <td>...</td>\n",
              "      <td>6.094</td>\n",
              "      <td>6.170</td>\n",
              "      <td>0.22</td>\n",
              "      <td>0.006</td>\n",
              "      <td>11.84</td>\n",
              "      <td>1.96</td>\n",
              "      <td>0.146</td>\n",
              "      <td>152.26</td>\n",
              "      <td>51.58</td>\n",
              "      <td>1.18</td>\n",
              "    </tr>\n",
              "  </tbody>\n",
              "</table>\n",
              "<p>5 rows × 66 columns</p>\n",
              "</div>\n",
              "      <button class=\"colab-df-convert\" onclick=\"convertToInteractive('df-dfb82dc1-ece6-44f3-9507-9e08f4ec62e4')\"\n",
              "              title=\"Convert this dataframe to an interactive table.\"\n",
              "              style=\"display:none;\">\n",
              "        \n",
              "  <svg xmlns=\"http://www.w3.org/2000/svg\" height=\"24px\"viewBox=\"0 0 24 24\"\n",
              "       width=\"24px\">\n",
              "    <path d=\"M0 0h24v24H0V0z\" fill=\"none\"/>\n",
              "    <path d=\"M18.56 5.44l.94 2.06.94-2.06 2.06-.94-2.06-.94-.94-2.06-.94 2.06-2.06.94zm-11 1L8.5 8.5l.94-2.06 2.06-.94-2.06-.94L8.5 2.5l-.94 2.06-2.06.94zm10 10l.94 2.06.94-2.06 2.06-.94-2.06-.94-.94-2.06-.94 2.06-2.06.94z\"/><path d=\"M17.41 7.96l-1.37-1.37c-.4-.4-.92-.59-1.43-.59-.52 0-1.04.2-1.43.59L10.3 9.45l-7.72 7.72c-.78.78-.78 2.05 0 2.83L4 21.41c.39.39.9.59 1.41.59.51 0 1.02-.2 1.41-.59l7.78-7.78 2.81-2.81c.8-.78.8-2.07 0-2.86zM5.41 20L4 18.59l7.72-7.72 1.47 1.35L5.41 20z\"/>\n",
              "  </svg>\n",
              "      </button>\n",
              "      \n",
              "  <style>\n",
              "    .colab-df-container {\n",
              "      display:flex;\n",
              "      flex-wrap:wrap;\n",
              "      gap: 12px;\n",
              "    }\n",
              "\n",
              "    .colab-df-convert {\n",
              "      background-color: #E8F0FE;\n",
              "      border: none;\n",
              "      border-radius: 50%;\n",
              "      cursor: pointer;\n",
              "      display: none;\n",
              "      fill: #1967D2;\n",
              "      height: 32px;\n",
              "      padding: 0 0 0 0;\n",
              "      width: 32px;\n",
              "    }\n",
              "\n",
              "    .colab-df-convert:hover {\n",
              "      background-color: #E2EBFA;\n",
              "      box-shadow: 0px 1px 2px rgba(60, 64, 67, 0.3), 0px 1px 3px 1px rgba(60, 64, 67, 0.15);\n",
              "      fill: #174EA6;\n",
              "    }\n",
              "\n",
              "    [theme=dark] .colab-df-convert {\n",
              "      background-color: #3B4455;\n",
              "      fill: #D2E3FC;\n",
              "    }\n",
              "\n",
              "    [theme=dark] .colab-df-convert:hover {\n",
              "      background-color: #434B5C;\n",
              "      box-shadow: 0px 1px 3px 1px rgba(0, 0, 0, 0.15);\n",
              "      filter: drop-shadow(0px 1px 2px rgba(0, 0, 0, 0.3));\n",
              "      fill: #FFFFFF;\n",
              "    }\n",
              "  </style>\n",
              "\n",
              "      <script>\n",
              "        const buttonEl =\n",
              "          document.querySelector('#df-dfb82dc1-ece6-44f3-9507-9e08f4ec62e4 button.colab-df-convert');\n",
              "        buttonEl.style.display =\n",
              "          google.colab.kernel.accessAllowed ? 'block' : 'none';\n",
              "\n",
              "        async function convertToInteractive(key) {\n",
              "          const element = document.querySelector('#df-dfb82dc1-ece6-44f3-9507-9e08f4ec62e4');\n",
              "          const dataTable =\n",
              "            await google.colab.kernel.invokeFunction('convertToInteractive',\n",
              "                                                     [key], {});\n",
              "          if (!dataTable) return;\n",
              "\n",
              "          const docLinkHtml = 'Like what you see? Visit the ' +\n",
              "            '<a target=\"_blank\" href=https://colab.research.google.com/notebooks/data_table.ipynb>data table notebook</a>'\n",
              "            + ' to learn more about interactive tables.';\n",
              "          element.innerHTML = '';\n",
              "          dataTable['output_type'] = 'display_data';\n",
              "          await google.colab.output.renderOutput(dataTable, element);\n",
              "          const docLink = document.createElement('div');\n",
              "          docLink.innerHTML = docLinkHtml;\n",
              "          element.appendChild(docLink);\n",
              "        }\n",
              "      </script>\n",
              "    </div>\n",
              "  </div>\n",
              "  "
            ]
          },
          "metadata": {},
          "execution_count": 24
        }
      ],
      "source": [
        "x_test_1.head()"
      ]
    },
    {
      "cell_type": "code",
      "execution_count": 25,
      "metadata": {
        "id": "EkPqRC33NFTr"
      },
      "outputs": [],
      "source": [
        "#XGB = x_test.sample(n=40, replace=True, random_state=1)"
      ]
    },
    {
      "cell_type": "code",
      "execution_count": 26,
      "metadata": {
        "id": "i8ndp6UvLdGO"
      },
      "outputs": [],
      "source": [
        "#x_test.head"
      ]
    },
    {
      "cell_type": "code",
      "execution_count": 27,
      "metadata": {
        "id": "SSuWHayWDRG-"
      },
      "outputs": [],
      "source": [
        "#sss = StratifiedShuffleSplit(n_splits=1, test_size=0.625, random_state=1) #40 de 64 es el 0.625%\n",
        "#sss.split(x_test,y_test)"
      ]
    },
    {
      "cell_type": "code",
      "execution_count": 28,
      "metadata": {
        "id": "1f79zoLkQ9BZ"
      },
      "outputs": [],
      "source": [
        "#Oscar: we are going to call validation the new subset from X and y test\n",
        "\n",
        "#for train_index, test_index in sss.split(x_test, y_test):\n",
        "#    print(\"TRAIN:\", train_index, \"TEST:\", test_index)\n",
        "#    __, X_val = x_test.loc[train_index], x_test.loc[test_index]\n",
        "#    __, y_val = y_test[train_index], y_test[test_index]"
      ]
    },
    {
      "cell_type": "code",
      "execution_count": 29,
      "metadata": {
        "id": "QTEEPlxV6TTh"
      },
      "outputs": [],
      "source": [
        "#X_val['Revision']"
      ]
    },
    {
      "cell_type": "code",
      "execution_count": 30,
      "metadata": {
        "id": "chre5MHa6TTi",
        "outputId": "0389d258-edeb-4d78-8c22-432e0522f7e8",
        "colab": {
          "base_uri": "https://localhost:8080/"
        }
      },
      "outputs": [
        {
          "output_type": "execute_result",
          "data": {
            "text/plain": [
              "XGBClassifier(colsample_bytree=0.45, gamma=0.3, learning_rate=0.15,\n",
              "              max_depth=16, n_estimators=202)"
            ]
          },
          "metadata": {},
          "execution_count": 30
        }
      ],
      "source": [
        "##Oscar train the best model with all the training features \n",
        "\n",
        "xgb_model = xgb.XGBClassifier(colsample_bytree=0.45, gamma=0.3, learning_rate=0.15,\n",
        "              max_depth=16, n_estimators=202)\n",
        "\n",
        "xgb_model.fit(x_train_1, y_train_1)"
      ]
    },
    {
      "cell_type": "code",
      "execution_count": 31,
      "metadata": {
        "id": "xLmEMqllqMEm"
      },
      "outputs": [],
      "source": [
        "%%capture\n",
        "!pip install eli5"
      ]
    },
    {
      "cell_type": "code",
      "execution_count": 32,
      "metadata": {
        "id": "8ODkUYeAomcV"
      },
      "outputs": [],
      "source": [
        "%%capture\n",
        "!pip install category_encoders"
      ]
    },
    {
      "cell_type": "code",
      "execution_count": 33,
      "metadata": {
        "id": "S18G4_7jlkjU",
        "outputId": "24dae6ff-1d10-4002-c159-0c62c5d6ffbb",
        "colab": {
          "base_uri": "https://localhost:8080/"
        }
      },
      "outputs": [
        {
          "output_type": "stream",
          "name": "stderr",
          "text": [
            "/usr/local/lib/python3.7/dist-packages/statsmodels/tools/_testing.py:19: FutureWarning: pandas.util.testing is deprecated. Use the functions in the public API at pandas.testing instead.\n",
            "  import pandas.util.testing as tm\n"
          ]
        }
      ],
      "source": [
        "import eli5\n",
        "from eli5.sklearn import PermutationImportance\n",
        "import category_encoders as ce"
      ]
    },
    {
      "cell_type": "code",
      "execution_count": 38,
      "metadata": {
        "id": "DdSEd8Ec6TTj",
        "outputId": "db0809a0-57cf-45c5-d92c-1f2085f91f5c",
        "colab": {
          "base_uri": "https://localhost:8080/"
        }
      },
      "outputs": [
        {
          "output_type": "execute_result",
          "data": {
            "text/plain": [
              "PermutationImportance(estimator=XGBClassifier(colsample_bytree=0.45, gamma=0.3,\n",
              "                                              learning_rate=0.15, max_depth=16,\n",
              "                                              n_estimators=202),\n",
              "                      n_iter=10)"
            ]
          },
          "metadata": {},
          "execution_count": 38
        }
      ],
      "source": [
        "## perform permutation importance analysis on Validation set\n",
        "\n",
        "perm = PermutationImportance(xgb_model,n_iter = 10)\n",
        "\n",
        "perm.fit(x_test_1,y_test_1)\n",
        "\n",
        "#perm.fit(X_val.values,y_val.values)\n"
      ]
    },
    {
      "cell_type": "code",
      "execution_count": 35,
      "metadata": {
        "id": "KK6xAaM06TTj",
        "outputId": "2d7847a8-b12b-4162-e3cd-2ec43f46b094",
        "colab": {
          "base_uri": "https://localhost:8080/"
        }
      },
      "outputs": [
        {
          "output_type": "execute_result",
          "data": {
            "text/plain": [
              "MO-WX                0.009091\n",
              "Edad del Paciente    0.000000\n",
              "Sexo del Paciente    0.000000\n",
              "BA-N%                0.000000\n",
              "HFLCA                0.000000\n",
              "                       ...   \n",
              "MicR                 0.000000\n",
              "ASLPL                0.000000\n",
              "MacR                -0.009091\n",
              "LINp                -0.027273\n",
              "MO-Y                -0.063636\n",
              "Length: 66, dtype: float64"
            ]
          },
          "metadata": {},
          "execution_count": 35
        }
      ],
      "source": [
        "##show weights\n",
        "\n",
        "eli5.show_weights(perm)\n",
        "\n",
        "columns = x_test_1.columns.to_list()\n",
        "\n",
        "feature_importance = perm.feature_importances_\n",
        "\n",
        "pd.Series(feature_importance, columns).sort_values(ascending=False)"
      ]
    },
    {
      "cell_type": "code",
      "source": [
        "oijjoi"
      ],
      "metadata": {
        "id": "1SwWZtpGTgya",
        "outputId": "17bb25c7-7a94-479a-be2d-ce93dda5f07a",
        "colab": {
          "base_uri": "https://localhost:8080/",
          "height": 166
        }
      },
      "execution_count": 36,
      "outputs": [
        {
          "output_type": "error",
          "ename": "NameError",
          "evalue": "ignored",
          "traceback": [
            "\u001b[0;31m---------------------------------------------------------------------------\u001b[0m",
            "\u001b[0;31mNameError\u001b[0m                                 Traceback (most recent call last)",
            "\u001b[0;32m<ipython-input-36-1dfc6df3c614>\u001b[0m in \u001b[0;36m<module>\u001b[0;34m()\u001b[0m\n\u001b[0;32m----> 1\u001b[0;31m \u001b[0moijjoi\u001b[0m\u001b[0;34m\u001b[0m\u001b[0;34m\u001b[0m\u001b[0m\n\u001b[0m",
            "\u001b[0;31mNameError\u001b[0m: name 'oijjoi' is not defined"
          ]
        }
      ]
    },
    {
      "cell_type": "code",
      "execution_count": null,
      "metadata": {
        "id": "59LRT5CVmRf2"
      },
      "outputs": [],
      "source": [
        "\"\"\"\n",
        "\n",
        "def permutation (x_train, y_train, x_test, y_test):\n",
        "  encoder = ce.OneHotEncoder(use_cat_names=True)\n",
        "\n",
        "  x_train_s = encoder.fit_transform(x_train)\n",
        "  x_test_s = encoder.transform(x_test)\n",
        "\n",
        "  #Fitting the model.\n",
        "  model = xgb.XGBClassifier(random_state=42)\n",
        "  model.fit(x_train_s, y_train)\n",
        "\n",
        "  permuter = PermutationImportance(\n",
        "      estimator = model,\n",
        "      scoring = 'r2',\n",
        "      n_iter = 5,\n",
        "      random_state = 42)\n",
        "  \n",
        "  permuter.fit(x_test_s, y_test)\n",
        "\n",
        "  columns = x_test_s.columns.to_list()\n",
        "\n",
        "  feature_importance = permuter.feature_importances_\n",
        "\n",
        "  pd.Series(feature_importance, columns).sort_values(ascending=False)\n",
        "\n",
        "  metric = eli5.show_weights(\n",
        "      estimator = permuter,\n",
        "      top = None,\n",
        "      feature_names = columns)\n",
        "  \n",
        "  return metric\n",
        "\"\"\""
      ]
    },
    {
      "cell_type": "code",
      "execution_count": null,
      "metadata": {
        "id": "XZOnQgS8oZzD"
      },
      "outputs": [],
      "source": [
        "#permutation(x_train1, y_train1, X_test, Y_test) #si pongo x_train, y_train, x_test e y_test funciona ¿?¿?¿?"
      ]
    },
    {
      "cell_type": "code",
      "execution_count": null,
      "metadata": {
        "id": "j2lDeTU6zZ47"
      },
      "outputs": [],
      "source": [
        "import seaborn as sns\n",
        "#Plot feature importance\n",
        "def plot_feature_importance(importance,names,model_type):\n",
        "\n",
        "  #Create arrays from feature importance and feature names\n",
        "  feature_importance = np.array(importance)\n",
        "  feature_names = np.array(names)\n",
        "\n",
        "  #Create a DataFrame using a Dictionary\n",
        "  data={'feature_names':feature_names,'feature_importance':feature_importance}\n",
        "  fi_df = pd.DataFrame(data)\n",
        "\n",
        "  #Sort the DataFrame in order decreasing feature importance\n",
        "  fi_df.sort_values(by=['feature_importance'], ascending=False,inplace=True)\n",
        "\n",
        "  #Define size of bar plot\n",
        "  fig = plt.figure(figsize=(20,6))\n",
        "  #Plot Searborn bar chart\n",
        "  sns.barplot(y=fi_df['feature_importance'], x=fi_df['feature_names'])\n",
        "  #Add chart labels\n",
        "  plt.title(model_type + 'FEATURE IMPORTANCE')\n",
        "  plt.xlabel('FEATURE IMPORTANCE')\n",
        "  plt.ylabel('FEATURE NAMES')\n",
        "  plt.tight_layout()\n",
        "  fig.autofmt_xdate(rotation=45)\n",
        "\n",
        "\n",
        "plot_feature_importance(xgb_model.feature_importances_*100,x_train_1.columns,'XGBoost ')\n",
        "\n",
        "print(np.sum(xgb_model.feature_importances_))"
      ]
    },
    {
      "cell_type": "markdown",
      "metadata": {
        "id": "rRc6k4ErgEKI"
      },
      "source": [
        "A partir de este gráfico se puede observar la importancia de cada característica haciendo uso de XGBoost. Así pues, VCM es la variable que aporta mayor información al realizar la tarea de clasificación, con lo que permitirá, en mayor medida, diferenciar un paciente sano de uno no sano. No obstante, las 3  variables siguientes MO-Y, MacR y IG también presentan información relevante para la predicción."
      ]
    },
    {
      "cell_type": "markdown",
      "metadata": {
        "id": "Lw5m7_pB2id9"
      },
      "source": [
        "**Selección de las características en base a la importancia de éstas**"
      ]
    },
    {
      "cell_type": "code",
      "execution_count": null,
      "metadata": {
        "id": "0iM8ZAFW0kJV"
      },
      "outputs": [],
      "source": [
        "#SelectFromModel\n",
        "\n",
        "scores_cv = []\n",
        "thresholds = np.sort(xgb_model.feature_importances_) # obtiene la importancia de cada característica\n",
        "i = 0\n",
        "for thresh in thresholds:\n",
        "    print(\"{} de {}\".format(i,len(thresholds)))\n",
        "    selection = SelectFromModel(xgb_model, threshold=thresh, prefit=True)\n",
        "    select_x_train_1 = selection.transform(x_train_1)\n",
        "    # train model\n",
        "    selection_model = xgb.XGBClassifier(colsample_bytree=0.7, gamma=0.3, learning_rate=0.3, max_depth=8)\n",
        "    #cv estimation\n",
        "    sc =cross_val_score(selection_model, select_x_train_1, y_train_1, cv=10, scoring='roc_auc',n_jobs=-1)\n",
        "    scores_cv.append(sc)\n",
        "    i+=1"
      ]
    },
    {
      "cell_type": "code",
      "execution_count": null,
      "metadata": {
        "id": "dZpG_Bv92uN-"
      },
      "outputs": [],
      "source": [
        "plt.rc('xtick',labelsize=15)\n",
        "plt.rc('ytick',labelsize=15)\n",
        "plt.figure(figsize = (80,20))\n",
        "sc_cv = np.asarray(scores_cv)\n",
        "scores_m = np.mean(sc_cv,axis = 1)\n",
        "scores_std = np.std(sc_cv,axis = 1)\n",
        "xx = np.arange(len(scores_m))\n",
        "plt.plot(xx,scores_m,'o-')\n",
        "plt.grid()\n",
        "_ = plt.xticks(xx,labels= np.arange(1,len(scores_m)+1))\n",
        "plt.xlabel('Number of features removed')\n",
        "plt.ylabel('Accuracy')"
      ]
    },
    {
      "cell_type": "markdown",
      "metadata": {
        "id": "UPWHtcuDgz84"
      },
      "source": [
        "Esta gráfica muestra el ***accuracy*** que se alcanza cuando se escogen X características. Desde la izquierda hacia la derecha se van quitando variables consecutivamente, y se puede observar que la predicción del modelo no se degrada hasta llegar a 67 variables. Es decir, solo quedándonos con 4  variables, el modelo es capaz de tener el mismo desempeño en predicción que utilizando todas las variables. Estas característica son las 4 primeras representadas anteriormente en la gráfica anterior.\n",
        "\n",
        "Además siempre es preferible tener un modelo menos complejo para que de esta forma pueda haber una mejor generalizacion con la incorporación de datos nuevos."
      ]
    },
    {
      "cell_type": "markdown",
      "metadata": {
        "id": "N2Ic4559fxkF"
      },
      "source": [
        "## 1.4 Rendimiento con FS en el conjunto de test"
      ]
    },
    {
      "cell_type": "code",
      "execution_count": null,
      "metadata": {
        "id": "bbNtndTNWPbj"
      },
      "outputs": [],
      "source": [
        "def rf_feat_importance(m, df):\n",
        "    return pd.DataFrame({'cols':df.columns, 'imp':m.feature_importances_}\n",
        "                       ).sort_values('imp', ascending=False)\n",
        "\n",
        "#convert into a dataframe with sorted feature importances\n",
        "fi = rf_feat_importance(xgb_model,x_train_1)\n",
        "\n",
        "#select the features\n",
        "selected_features_RF = fi[:len(fi)-63]['cols'].to_list()\n",
        "print(\"Numero de variables seleccionadas Pars:\",len(selected_features_RF))\n",
        "print(\"Selected features:\",selected_features_RF)\n",
        "\n",
        "\n",
        "X_train_FT_xgb = x_train_1[selected_features_RF]\n",
        "X_test_FT_xgb = x_test[selected_features_RF]\n"
      ]
    },
    {
      "cell_type": "code",
      "execution_count": null,
      "metadata": {
        "id": "B1OHoycnkr11"
      },
      "outputs": [],
      "source": [
        "xgb_FS = xgb.XGBClassifier(colsample_bytree=0.45, gamma=0.3, learning_rate=0.15,\n",
        "              max_depth=16, n_estimators=202)\n",
        "xgb_FS.fit(X_train_FT_xgb, y_train_1)"
      ]
    },
    {
      "cell_type": "code",
      "execution_count": null,
      "metadata": {
        "id": "bIYve4K_eYNf"
      },
      "outputs": [],
      "source": [
        "from sklearn.metrics import roc_auc_score\n",
        "\n",
        "#Todas las características\n",
        "y_pred_tot = xgb_model.predict(x_test)\n",
        "acc_tot = accuracy_score(y_test, y_pred_tot)\n",
        "sensibilidad_tot = recall_score(y_test, y_pred_tot)\n",
        "#precision_tot=precision_score(y_test, y_pred_tot)\n",
        "specificity_tot = confusion_matrix(y_test, y_pred_tot)[0][0]/(confusion_matrix(y_test, y_pred_tot)[0][0]+confusion_matrix(y_test, y_pred_tot)[0][1])\n",
        "auc_tot = roc_auc_score(y_test, y_pred_tot)\n",
        "\n",
        "\n",
        "#8 características \n",
        "y_pred_8 = xgb_FS.predict(X_test_FT_xgb)\n",
        "acc_8 = accuracy_score(y_test, y_pred_8)\n",
        "sensibilidad_8 = recall_score(y_test, y_pred_8)\n",
        "#precision_8 = precision_score(y_test, y_pred_8)\n",
        "specificity_8 = confusion_matrix(y_test, y_pred_8)[0][0]/(confusion_matrix(y_test, y_pred_8)[0][0]+confusion_matrix(y_test, y_pred_8)[0][1])\n",
        "auc_8 = roc_auc_score(y_test, y_pred_8)\n",
        "\n",
        "Tabla_xgb = pd.DataFrame({\"Prestaciones en test\":[\"Accuracy\",\"Sensibility\",'Specificity',\"AUC ROC\"],\n",
        "                          \"XGBoost total\" : [acc_tot, sensibilidad_tot, specificity_tot, auc_tot], \n",
        "                      \"XGBoost 8 features \" : [acc_8, sensibilidad_8, specificity_8, auc_8]})\n",
        "Tabla_xgb"
      ]
    },
    {
      "cell_type": "code",
      "execution_count": null,
      "metadata": {
        "id": "h4yngAoGR3pp"
      },
      "outputs": [],
      "source": [
        "from sklearn.metrics import plot_confusion_matrix\n",
        "\n",
        "#XGBoost all features\n",
        "plot_confusion_matrix(xgb_model, x_test, y_test,display_labels=[\"Sano\",\"No sano\"],\n",
        "                                 cmap=plt.cm.Blues)\n",
        "plt.title(\"XGBoost all features\")\n"
      ]
    },
    {
      "cell_type": "code",
      "execution_count": null,
      "metadata": {
        "id": "XXjpBigeVV1p"
      },
      "outputs": [],
      "source": [
        "#XGBoost 8 features\n",
        "plot_confusion_matrix(xgb_FS, X_test_FT_xgb, y_test,display_labels=[\"Sano\",\"No sano\"],\n",
        "                                 cmap=plt.cm.Blues)\n",
        "plt.title(\"XGBoost 8 features\")\n"
      ]
    },
    {
      "cell_type": "markdown",
      "metadata": {
        "id": "B8MaaLxwrHnY"
      },
      "source": [
        "# 2.Gradient Boosting"
      ]
    },
    {
      "cell_type": "code",
      "execution_count": null,
      "metadata": {
        "id": "YK45kpe0BT4W"
      },
      "outputs": [],
      "source": [
        "from sklearn.datasets import make_hastie_10_2\n",
        "from sklearn.ensemble import GradientBoostingClassifier"
      ]
    },
    {
      "cell_type": "markdown",
      "metadata": {
        "id": "ZQxjCymApESi"
      },
      "source": [
        "## 2.1 Optimización de los hiperparámetros usando RandomizedSearchCV"
      ]
    },
    {
      "cell_type": "code",
      "execution_count": null,
      "metadata": {
        "id": "70RPb-H7MWNt"
      },
      "outputs": [],
      "source": [
        "#Indico que el clasificador que voy a utlizar es GBoosting\n",
        "\n",
        "gb_model = GradientBoostingClassifier()"
      ]
    },
    {
      "cell_type": "code",
      "execution_count": null,
      "metadata": {
        "id": "aMXjUhN5Mgdo"
      },
      "outputs": [],
      "source": [
        "params = {\n",
        " 'n_estimators' : [150,200,250,300,350,400,450,500],\n",
        " 'learning_rate' : [0.05,0.10,0.15,0.20,0.25,0.30],\n",
        " 'max_depth' : [20,25,30,35,40,45],\n",
        "}"
      ]
    },
    {
      "cell_type": "code",
      "execution_count": null,
      "metadata": {
        "id": "Ap81OEvyMjTC"
      },
      "outputs": [],
      "source": [
        "#verbose = genera mensajes durante el entramiento del modelo 'Fitting 5 folds...'\n",
        "\n",
        "#roc_auc = curva AUC-ROC es la métrica de selección del modelo para el problema de clasificación \n",
        "#de dos clases múltiples.ROC nos dice qué tan bueno es el modelo para distinguir las clases dadas, \n",
        "#en términos de la probabilidad predicha.\n",
        "\n",
        "#n_jobs = número de nucleos que se utilizan (-1 quiere decir que se utilizan todos)\n",
        "\n",
        "r_s_model_2 = RandomizedSearchCV(gb_model , param_distributions=params, n_iter=5, \n",
        "                               scoring='roc_auc',n_jobs=-1,cv=5,verbose=3,random_state = 2)\n",
        "\n",
        "r_s_model_2.fit(x_train_1, y_train_1)"
      ]
    },
    {
      "cell_type": "code",
      "execution_count": null,
      "metadata": {
        "id": "1ohuKN0wMqqM"
      },
      "outputs": [],
      "source": [
        "r_s_model_2.best_estimator_"
      ]
    },
    {
      "cell_type": "code",
      "execution_count": null,
      "metadata": {
        "id": "NaX_GvsYItTG"
      },
      "outputs": [],
      "source": [
        "params = {\n",
        " 'n_estimators' : [335,340,345,350,355,360,365],\n",
        " 'learning_rate' : [0.14,0.16,0.18,0.20,0.22,0.24,0.26],\n",
        " 'max_depth' : [26,27,28,29,30,31,32,33,34],\n",
        "}"
      ]
    },
    {
      "cell_type": "code",
      "execution_count": null,
      "metadata": {
        "id": "VtKeKdCDJPjW"
      },
      "outputs": [],
      "source": [
        "#verbose = genera mensajes durante el entramiento del modelo 'Fitting 5 folds...'\n",
        "\n",
        "#roc_auc = curva AUC-ROC es la métrica de selección del modelo para el problema de clasificación \n",
        "#de dos clases múltiples.ROC nos dice qué tan bueno es el modelo para distinguir las clases dadas, \n",
        "#en términos de la probabilidad predicha.\n",
        "\n",
        "#n_jobs = número de nucleos que se utilizan (-1 quiere decir que se utilizan todos)\n",
        "\n",
        "r_s_model_2 = RandomizedSearchCV(gb_model , param_distributions=params, n_iter=5, \n",
        "                               scoring='roc_auc',n_jobs=-1,cv=5,verbose=3,random_state = 2)\n",
        "\n",
        "r_s_model_2.fit(x_train_1, y_train_1)"
      ]
    },
    {
      "cell_type": "code",
      "execution_count": null,
      "metadata": {
        "id": "e_L5mXQ-JRtg"
      },
      "outputs": [],
      "source": [
        "r_s_model_2.best_estimator_"
      ]
    },
    {
      "cell_type": "markdown",
      "metadata": {
        "id": "UoVKotCcpLRy"
      },
      "source": [
        "## 2.2 Rendimiento con todas las features"
      ]
    },
    {
      "cell_type": "code",
      "execution_count": null,
      "metadata": {
        "id": "22LZf3hgMvey"
      },
      "outputs": [],
      "source": [
        "#Construyendo el modelo final\n",
        "gb_model = GradientBoostingClassifier(learning_rate=0.16, max_depth=26, n_estimators=355)"
      ]
    },
    {
      "cell_type": "code",
      "execution_count": null,
      "metadata": {
        "id": "53iLdlm0M4hS"
      },
      "outputs": [],
      "source": [
        "#Métricas\n",
        "\n",
        "gb_model.fit(x_train_1, y_train_1)\n",
        "\n",
        "y_pred = gb_model.predict(x_test)\n",
        "\n",
        "acc_gb = accuracy_score(y_test, y_pred)\n",
        "sensibilidad_gb = recall_score(y_test, y_pred)\n",
        "#precision_xgb = precision_score(y_test, y_pred)\n",
        "specificity_gb = confusion_matrix(y_test, y_pred)[0][0]/(confusion_matrix(y_test, y_pred)[0][0]+confusion_matrix(y_test, y_pred)[0][1])\n",
        "auc_gb = roc_auc_score(y_test, y_pred)\n",
        "\n",
        "Tabla_2 = pd.DataFrame({ \"Prestaciones en test\":[\"Accuracy\",\"Sensibility\",'Specificity',\"AUC ROC\"],\n",
        "                      \"GBoost\" : [acc_gb, sensibilidad_gb, specificity_gb, auc_gb]})\n",
        "\n",
        "Tabla_2"
      ]
    },
    {
      "cell_type": "markdown",
      "metadata": {
        "id": "ijH2kiaPpQ41"
      },
      "source": [
        "## 2.3 Selección de características (FS)"
      ]
    },
    {
      "cell_type": "code",
      "execution_count": null,
      "metadata": {
        "id": "yQl1rMUr4xGN"
      },
      "outputs": [],
      "source": [
        "import seaborn as sns\n",
        "#Plot feature importance\n",
        "def plot_feature_importance(importance,names,model_type):\n",
        "\n",
        "  #Create arrays from feature importance and feature names\n",
        "  feature_importance = np.array(importance)\n",
        "  feature_names = np.array(names)\n",
        "\n",
        "  #Create a DataFrame using a Dictionary\n",
        "  data={'feature_names':feature_names,'feature_importance':feature_importance}\n",
        "  fi_df = pd.DataFrame(data)\n",
        "\n",
        "  #Sort the DataFrame in order decreasing feature importance\n",
        "  fi_df.sort_values(by=['feature_importance'], ascending=False,inplace=True)\n",
        "\n",
        "  #Define size of bar plot\n",
        "  fig = plt.figure(figsize=(20,6))\n",
        "  #Plot Searborn bar chart\n",
        "  sns.barplot(y=fi_df['feature_importance'], x=fi_df['feature_names'])\n",
        "  #Add chart labels\n",
        "  plt.title(model_type + 'FEATURE IMPORTANCE')\n",
        "  plt.xlabel('FEATURE IMPORTANCE')\n",
        "  plt.ylabel('FEATURE NAMES')\n",
        "  plt.tight_layout()\n",
        "  fig.autofmt_xdate(rotation=45)\n",
        "\n",
        "\n",
        "plot_feature_importance(gb_model.feature_importances_*100,x_train_1.columns,'Gradient Boosting')\n",
        "\n",
        "print(np.sum(gb_model.feature_importances_))"
      ]
    },
    {
      "cell_type": "markdown",
      "metadata": {
        "id": "zc8gjLZWq6G1"
      },
      "source": [
        "A partir de este gráfico se puede observar la importancia de cada característica haciendo uso de XGBoost. Así pues, MO-Y es la variable que aporta mayor información al realizar la tarea de clasificación, con lo que permitirá, en mayor medida, diferenciar un paciente sano de uno no sano. No obstante, la siguiente variable UCI también presentan información relevante para la predicción."
      ]
    },
    {
      "cell_type": "markdown",
      "metadata": {
        "id": "slKvOlOp48LL"
      },
      "source": [
        "**Selección de las características en base a la importancia de éstas**"
      ]
    },
    {
      "cell_type": "code",
      "execution_count": null,
      "metadata": {
        "id": "9OdM9pcr48_P"
      },
      "outputs": [],
      "source": [
        "#SelectFromModel\n",
        "\n",
        "scores_cv = []\n",
        "thresholds = np.sort(gb_model.feature_importances_) # obtiene la importancia de cada característica\n",
        "i = 0\n",
        "for thresh in thresholds:\n",
        "    print(\"{} de {}\".format(i,len(thresholds)))\n",
        "    selection = SelectFromModel(gb_model, threshold=thresh, prefit=True)\n",
        "    select_x_train_1 = selection.transform(x_train_1)\n",
        "    # train model\n",
        "    selection_model = GradientBoostingClassifier(learning_rate=0.05, max_depth=25, n_estimators=350)\n",
        "    #cv estimation\n",
        "    sc =cross_val_score(selection_model, select_x_train_1, y_train_1, cv=10, scoring='roc_auc',n_jobs=-1)\n",
        "    scores_cv.append(sc)\n",
        "    i+=1"
      ]
    },
    {
      "cell_type": "code",
      "execution_count": null,
      "metadata": {
        "id": "JehCEQKh5MEg"
      },
      "outputs": [],
      "source": [
        "plt.rc('xtick',labelsize=15)\n",
        "plt.rc('ytick',labelsize=15)\n",
        "plt.figure(figsize = (80,20))\n",
        "sc_cv = np.asarray(scores_cv)\n",
        "scores_m = np.mean(sc_cv,axis = 1)\n",
        "scores_std = np.std(sc_cv,axis = 1)\n",
        "xx = np.arange(len(scores_m))\n",
        "plt.plot(xx,scores_m,'o-')\n",
        "plt.grid()\n",
        "_ = plt.xticks(xx,labels= np.arange(1,len(scores_m)+1))\n",
        "plt.xlabel('Number of features removed')\n",
        "plt.ylabel('Accuracy')"
      ]
    },
    {
      "cell_type": "markdown",
      "metadata": {
        "id": "dK_wom1irWSd"
      },
      "source": [
        "Esta gráfica muestra el ***accuracy*** que se alcanza cuando se escogen X características. Desde la izquierda hacia la derecha se van quitando variables consecutivamente, y se puede observar que la predicción del modelo no se degrada hasta llegar a 69 variables. Es decir, solo quedándonos con 2  variables, el modelo es capaz de tener el mismo desempeño en predicción que utilizando todas las variables. Estas característica son las 2 primeras representadas anteriormente en la gráfica anterior.\n",
        "\n",
        "Además siempre es preferible tener un modelo menos complejo para que de esta forma pueda haber una mejor generalizacion con la incorporación de datos nuevos."
      ]
    },
    {
      "cell_type": "markdown",
      "metadata": {
        "id": "1COH2pM_rfZr"
      },
      "source": [
        "## 2.4 Rendimiento con FS en el conjunto de test"
      ]
    },
    {
      "cell_type": "code",
      "execution_count": null,
      "metadata": {
        "id": "-bBSit54rkw7"
      },
      "outputs": [],
      "source": [
        "def rf_feat_importance(m, df):\n",
        "    return pd.DataFrame({'cols':df.columns, 'imp':m.feature_importances_}\n",
        "                       ).sort_values('imp', ascending=False)\n",
        "\n",
        "#convert into a dataframe with sorted feature importances\n",
        "fi = rf_feat_importance(gb_model,x_train_1)\n",
        "\n",
        "#select the features\n",
        "selected_features_RF = fi[:len(fi)-69]['cols'].to_list()\n",
        "print(\"Numero de variables seleccionadas Pars:\",len(selected_features_RF))\n",
        "print(\"Selected features:\",selected_features_RF)\n",
        "\n",
        "\n",
        "X_train_FT_gb = x_train_1[selected_features_RF]\n",
        "X_test_FT_gb = x_test[selected_features_RF]\n"
      ]
    },
    {
      "cell_type": "code",
      "execution_count": null,
      "metadata": {
        "id": "jqiyN7kNr8aC"
      },
      "outputs": [],
      "source": [
        "gb_FS = GradientBoostingClassifier(learning_rate=0.16, max_depth=26, n_estimators=355)\n",
        "gb_FS.fit(X_train_FT_gb, y_train_1)"
      ]
    },
    {
      "cell_type": "code",
      "execution_count": null,
      "metadata": {
        "id": "Qimkky5zsKT-"
      },
      "outputs": [],
      "source": [
        "from sklearn.metrics import roc_auc_score\n",
        "\n",
        "#Todas las características\n",
        "y_pred_tot = gb_model.predict(x_test)\n",
        "acc_tot = accuracy_score(y_test, y_pred_tot)\n",
        "sensibilidad_tot = recall_score(y_test, y_pred_tot)\n",
        "#precision_tot=precision_score(y_test, y_pred_tot)\n",
        "specificity_tot = confusion_matrix(y_test, y_pred_tot)[0][0]/(confusion_matrix(y_test, y_pred_tot)[0][0]+confusion_matrix(y_test, y_pred_tot)[0][1])\n",
        "auc_tot = roc_auc_score(y_test, y_pred_tot)\n",
        "\n",
        "\n",
        "#2 características \n",
        "y_pred_2 = gb_FS.predict(X_test_FT_gb)\n",
        "acc_2 = accuracy_score(y_test, y_pred_2)\n",
        "sensibilidad_2 = recall_score(y_test, y_pred_2)\n",
        "#precision_2 = precision_score(y_test, y_pred_2)\n",
        "specificity_2 = confusion_matrix(y_test, y_pred_2)[0][0]/(confusion_matrix(y_test, y_pred_2)[0][0]+confusion_matrix(y_test, y_pred_2)[0][1])\n",
        "auc_2 = roc_auc_score(y_test, y_pred_2)\n",
        "\n",
        "Tabla_gb = pd.DataFrame({\"Prestaciones en test\":[\"Accuracy\",\"Sensibility\",'Specificity',\"AUC ROC\"],\n",
        "                         \"GBoost total\" : [acc_tot, sensibilidad_tot, specificity_tot, auc_tot], \n",
        "                      \"GBoost 2 features \" : [acc_2, sensibilidad_2, specificity_2, auc_2]})\n",
        "Tabla_gb"
      ]
    },
    {
      "cell_type": "code",
      "execution_count": null,
      "metadata": {
        "id": "9k_dOJt2WE41"
      },
      "outputs": [],
      "source": [
        "#GBoost all features\n",
        "plot_confusion_matrix(gb_model, x_test, y_test,display_labels=[\"Sano\",\"No sano\"],\n",
        "                                 cmap=plt.cm.Blues)\n",
        "plt.title(\"GBoost all features\")"
      ]
    },
    {
      "cell_type": "code",
      "execution_count": null,
      "metadata": {
        "id": "jSyoj6KZWUPW"
      },
      "outputs": [],
      "source": [
        "#GBoost 2 features\n",
        "plot_confusion_matrix(gb_FS, X_test_FT_gb, y_test,display_labels=[\"Sano\",\"No sano\"],\n",
        "                                 cmap=plt.cm.Blues)\n",
        "plt.title(\"GBoost 2 features\")"
      ]
    },
    {
      "cell_type": "markdown",
      "metadata": {
        "id": "tI-esAG5rP9Q"
      },
      "source": [
        "# 3.Histogram-based Gradient Boosting Classifier"
      ]
    },
    {
      "cell_type": "code",
      "execution_count": null,
      "metadata": {
        "id": "Jtl4ZFN3bbe8"
      },
      "outputs": [],
      "source": [
        "from sklearn.ensemble import HistGradientBoostingClassifier\n",
        "from sklearn.datasets import load_iris"
      ]
    },
    {
      "cell_type": "markdown",
      "metadata": {
        "id": "TKZi2FJsvLCb"
      },
      "source": [
        "## 3.1 Optimización de los hiperparámetros usando RandomizedSearchCV"
      ]
    },
    {
      "cell_type": "code",
      "execution_count": null,
      "metadata": {
        "id": "FQ2c4qzsbb8K"
      },
      "outputs": [],
      "source": [
        "#Indico que el clasificador que voy a utlizar es XGBosst\n",
        "\n",
        "hb_model = HistGradientBoostingClassifier()"
      ]
    },
    {
      "cell_type": "code",
      "execution_count": null,
      "metadata": {
        "id": "ymoVMrSmbcLj"
      },
      "outputs": [],
      "source": [
        "params = {\n",
        " 'max_leaf_nodes': [1,3,5,7,10,13,15,20,25,30,35,40],\n",
        " 'learning_rate' : [0.05,0.10,0.15,0.20,0.25,0.30],\n",
        " 'max_depth' : [3,4,5,6,8,10,12,15,20,25,30],\n",
        "}"
      ]
    },
    {
      "cell_type": "code",
      "execution_count": null,
      "metadata": {
        "id": "0jOtwpuEbcTj"
      },
      "outputs": [],
      "source": [
        "#verbose = genera mensajes durante el entramiento del modelo 'Fitting 5 folds...'\n",
        "\n",
        "#roc_auc = curva AUC-ROC es la métrica de selección del modelo para el problema de clasificación \n",
        "#de dos clases múltiples.ROC nos dice qué tan bueno es el modelo para distinguir las clases dadas, \n",
        "#en términos de la probabilidad predicha.\n",
        "\n",
        "#n_jobs = número de nucleos que se utilizan (-1 quiere decir que se utilizan todos)\n",
        "\n",
        "r_s_model_3 = RandomizedSearchCV(hb_model , param_distributions=params, n_iter=5, \n",
        "                               scoring='roc_auc',n_jobs=-1,cv=5,verbose=3,random_state = 2)\n",
        "r_s_model_3.fit(x_train_1, y_train_1)"
      ]
    },
    {
      "cell_type": "code",
      "execution_count": null,
      "metadata": {
        "id": "hj7W2xHRbix2"
      },
      "outputs": [],
      "source": [
        "r_s_model_3.best_estimator_"
      ]
    },
    {
      "cell_type": "code",
      "execution_count": null,
      "metadata": {
        "id": "gEwcF98aJXP1"
      },
      "outputs": [],
      "source": [
        "params = {\n",
        " 'max_leaf_nodes': [22,23,24,25,26,27,28],\n",
        " 'learning_rate' : [0.20,0.21,0.22,0.23,0.24,0.25,0.26,0.27,0.28,0.29,0.30],\n",
        " 'max_depth' : [4,5,6,7,8,9,10,11,12],\n",
        "}"
      ]
    },
    {
      "cell_type": "code",
      "execution_count": null,
      "metadata": {
        "id": "58zIcoAaJyuR"
      },
      "outputs": [],
      "source": [
        "#verbose = genera mensajes durante el entramiento del modelo 'Fitting 5 folds...'\n",
        "\n",
        "#roc_auc = curva AUC-ROC es la métrica de selección del modelo para el problema de clasificación \n",
        "#de dos clases múltiples.ROC nos dice qué tan bueno es el modelo para distinguir las clases dadas, \n",
        "#en términos de la probabilidad predicha.\n",
        "\n",
        "#n_jobs = número de nucleos que se utilizan (-1 quiere decir que se utilizan todos)\n",
        "\n",
        "r_s_model_3 = RandomizedSearchCV(hb_model , param_distributions=params, n_iter=5, \n",
        "                               scoring='roc_auc',n_jobs=-1,cv=5,verbose=3,random_state = 2)\n",
        "r_s_model_3.fit(x_train_1, y_train_1)"
      ]
    },
    {
      "cell_type": "code",
      "execution_count": null,
      "metadata": {
        "id": "LXRFbyuvJ0ZZ"
      },
      "outputs": [],
      "source": [
        "r_s_model_3.best_estimator_"
      ]
    },
    {
      "cell_type": "markdown",
      "metadata": {
        "id": "Uo3TDvgGvTow"
      },
      "source": [
        "## 3.2 Rendimiento con todas las features"
      ]
    },
    {
      "cell_type": "code",
      "execution_count": null,
      "metadata": {
        "id": "wdCrrnJabi6y"
      },
      "outputs": [],
      "source": [
        "#Construyendo el modelo final\n",
        "hb_model = HistGradientBoostingClassifier(learning_rate=0.29, max_depth=6,\n",
        "                               max_leaf_nodes=25)"
      ]
    },
    {
      "cell_type": "code",
      "execution_count": null,
      "metadata": {
        "id": "coLW01zXdkLN"
      },
      "outputs": [],
      "source": [
        "#Métricas\n",
        "\n",
        "hb_model.fit(x_train_1, y_train_1)\n",
        "\n",
        "y_pred = hb_model.predict(x_test)\n",
        "\n",
        "acc_hb = accuracy_score(y_test, y_pred)\n",
        "sensibilidad_hb = recall_score(y_test, y_pred)\n",
        "#precision_xgb = precision_score(y_test, y_pred)\n",
        "specificity_hb = confusion_matrix(y_test, y_pred)[0][0]/(confusion_matrix(y_test, y_pred)[0][0]+confusion_matrix(y_test, y_pred)[0][1])\n",
        "auc_hb = roc_auc_score(y_test, y_pred)\n",
        "\n",
        "Tabla_3 = pd.DataFrame({ \"Prestaciones en test\":[\"Accuracy\",\"Sensibility\",'Specificity',\"AUC ROC\"],\n",
        "                      \"HBoost\" : [acc_hb, sensibilidad_hb, specificity_hb, auc_hb]})\n",
        "\n",
        "Tabla_3"
      ]
    },
    {
      "cell_type": "markdown",
      "metadata": {
        "id": "J1QskmnvvZmu"
      },
      "source": [
        "## 3.3 Selección de características (FS)"
      ]
    },
    {
      "cell_type": "code",
      "execution_count": null,
      "metadata": {
        "id": "UF7lKwhL5Y0d"
      },
      "outputs": [],
      "source": [
        "import seaborn as sns\n",
        "#Plot feature importance\n",
        "def plot_feature_importance(importance,names,model_type):\n",
        "\n",
        "  #Create arrays from feature importance and feature names\n",
        "  feature_importance = np.array(importance)\n",
        "  feature_names = np.array(names)\n",
        "\n",
        "  #Create a DataFrame using a Dictionary\n",
        "  data={'feature_names':feature_names,'feature_importance':feature_importance}\n",
        "  fi_df = pd.DataFrame(data)\n",
        "\n",
        "  #Sort the DataFrame in order decreasing feature importance\n",
        "  fi_df.sort_values(by=['feature_importance'], ascending=False,inplace=True)\n",
        "\n",
        "  #Define size of bar plot\n",
        "  fig = plt.figure(figsize=(20,6))\n",
        "  #Plot Searborn bar chart\n",
        "  sns.barplot(y=fi_df['feature_importance'], x=fi_df['feature_names'])\n",
        "  #Add chart labels\n",
        "  plt.title(model_type + 'FEATURE IMPORTANCE')\n",
        "  plt.xlabel('FEATURE IMPORTANCE')\n",
        "  plt.ylabel('FEATURE NAMES')\n",
        "  plt.tight_layout()\n",
        "  fig.autofmt_xdate(rotation=45)\n",
        "\n",
        "\n",
        "plot_feature_importance(hb_model.feature_importances_*100,x_train_1.columns,'Histogram-based')\n",
        "\n",
        "print(np.sum(hb_model.feature_importances_))"
      ]
    },
    {
      "cell_type": "markdown",
      "metadata": {
        "id": "Uu8VMWix5n00"
      },
      "source": [
        "**Selección de las características en base a la importancia de éstas**"
      ]
    },
    {
      "cell_type": "code",
      "execution_count": null,
      "metadata": {
        "id": "00Ov1Kpq5n88"
      },
      "outputs": [],
      "source": [
        "#SelectFromModel\n",
        "\n",
        "scores_cv = []\n",
        "thresholds = np.sort(hb_model.feature_importances_) # obtiene la importancia de cada característica\n",
        "i = 0\n",
        "for thresh in thresholds:\n",
        "    print(\"{} de {}\".format(i,len(thresholds)))\n",
        "    selection = SelectFromModel(hb_model, threshold=thresh, prefit=True)\n",
        "    select_x_train_1 = selection.transform(x_train_1)\n",
        "    # train model\n",
        "    selection_model = HistGradientBoostingClassifier(learning_rate=0.05, max_depth=25, max_leaf_nodes=25)\n",
        "    #cv estimation\n",
        "    sc =cross_val_score(selection_model, select_x_train_1, y_train_1, cv=10, scoring='roc_auc',n_jobs=-1)\n",
        "    scores_cv.append(sc)\n",
        "    i+=1"
      ]
    },
    {
      "cell_type": "code",
      "execution_count": null,
      "metadata": {
        "id": "5mXll6dW6GQK"
      },
      "outputs": [],
      "source": [
        "plt.rc('xtick',labelsize=15)\n",
        "plt.rc('ytick',labelsize=15)\n",
        "plt.figure(figsize = (80,20))\n",
        "sc_cv = np.asarray(scores_cv)\n",
        "scores_m = np.mean(sc_cv,axis = 1)\n",
        "scores_std = np.std(sc_cv,axis = 1)\n",
        "xx = np.arange(len(scores_m))\n",
        "plt.plot(xx,scores_m,'o-')\n",
        "plt.grid()\n",
        "_ = plt.xticks(xx,labels= np.arange(1,len(scores_m)+1))\n",
        "plt.xlabel('Number of features removed')\n",
        "plt.ylabel('Accuracy')"
      ]
    },
    {
      "cell_type": "markdown",
      "metadata": {
        "id": "f5VOjw0FeWeb"
      },
      "source": [
        "## 3.4 Rendimiento con FS en el conjunto de test"
      ]
    },
    {
      "cell_type": "markdown",
      "metadata": {
        "id": "LWyGEa_1fid8"
      },
      "source": [
        "# Machine learning para todas las revisiones"
      ]
    },
    {
      "cell_type": "code",
      "execution_count": null,
      "metadata": {
        "id": "1klGt7oBBeax"
      },
      "outputs": [],
      "source": [
        ""
      ]
    },
    {
      "cell_type": "code",
      "execution_count": null,
      "metadata": {
        "id": "ZXsIk3ig90lW"
      },
      "outputs": [],
      "source": [
        ""
      ]
    }
  ],
  "metadata": {
    "colab": {
      "collapsed_sections": [],
      "name": "Te damos la bienvenida a Colaboratory",
      "provenance": [],
      "toc_visible": true,
      "include_colab_link": true
    },
    "kernelspec": {
      "display_name": "Python 3",
      "language": "python",
      "name": "python3"
    },
    "language_info": {
      "codemirror_mode": {
        "name": "ipython",
        "version": 3
      },
      "file_extension": ".py",
      "mimetype": "text/x-python",
      "name": "python",
      "nbconvert_exporter": "python",
      "pygments_lexer": "ipython3",
      "version": "3.8.5"
    }
  },
  "nbformat": 4,
  "nbformat_minor": 0
}