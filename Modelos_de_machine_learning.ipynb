{
  "cells": [
    {
      "cell_type": "markdown",
      "metadata": {
        "id": "view-in-github",
        "colab_type": "text"
      },
      "source": [
        "<a href=\"https://colab.research.google.com/github/jorgealarconlucas/TFG/blob/master/Modelos_de_machine_learning.ipynb\" target=\"_parent\"><img src=\"https://colab.research.google.com/assets/colab-badge.svg\" alt=\"Open In Colab\"/></a>"
      ]
    },
    {
      "cell_type": "code",
      "execution_count": 1,
      "metadata": {
        "id": "-ruNeqFp9jnV"
      },
      "outputs": [],
      "source": [
        "import pandas as pd\n",
        "import numpy as np\n",
        "import statistics as stats\n",
        "import seaborn as sns\n",
        "import matplotlib\n",
        "from matplotlib import pyplot as plt\n",
        "import scipy.stats as ss\n",
        "import statistics as stats\n",
        "import seaborn as sns \n",
        "from pandas.plotting import autocorrelation_plot\n",
        "from sklearn.model_selection import train_test_split\n",
        "from sklearn.tree import export_graphviz\n",
        "from six import StringIO\n",
        "from IPython.display import Image  \n",
        "import pydotplus\n",
        "from sklearn.model_selection import  GridSearchCV\n",
        "from sklearn.ensemble import RandomForestClassifier\n",
        "from sklearn.metrics import accuracy_score,recall_score, precision_score, confusion_matrix\n",
        "from sklearn.feature_selection import SelectFromModel\n",
        "from sklearn.model_selection import cross_val_score\n",
        "from sklearn.model_selection import StratifiedShuffleSplit"
      ]
    },
    {
      "cell_type": "code",
      "execution_count": 2,
      "metadata": {
        "id": "vxi0qdBF9isu"
      },
      "outputs": [],
      "source": [
        "x_train = pd.read_feather('x_train')\n",
        "y_train = np.load ('y_train.npy')\n",
        "x_test = pd.read_feather('x_test')\n",
        "y_test = np.load ('y_test.npy')"
      ]
    },
    {
      "cell_type": "code",
      "execution_count": 100,
      "metadata": {
        "id": "XLvWaFk-KfP1"
      },
      "outputs": [],
      "source": [
        "y_train = pd.Series(y_train) #Lo paso de numpy a pandas.series\n",
        "y_test = pd.Series(y_test)"
      ]
    },
    {
      "cell_type": "markdown",
      "metadata": {
        "id": "mXcVUQjKBeKj"
      },
      "source": [
        "# Machine learning para revision = 1"
      ]
    },
    {
      "cell_type": "markdown",
      "metadata": {
        "id": "juR47B0PLTdA"
      },
      "source": [
        "### Con X_train"
      ]
    },
    {
      "cell_type": "code",
      "execution_count": 4,
      "metadata": {
        "colab": {
          "base_uri": "https://localhost:8080/",
          "height": 317
        },
        "id": "E2vhEerI65bC",
        "outputId": "12ae2cf9-dbe7-42a8-9c73-437cba1b3439",
        "scrolled": true
      },
      "outputs": [
        {
          "output_type": "execute_result",
          "data": {
            "text/plain": [
              "    Edad del Paciente  Sexo del Paciente    LEU     NEU   NEUp    LIN   LINp  \\\n",
              "1                76.0                0.0   3.75   1.840  49.00  1.290  34.40   \n",
              "5                66.0                0.0   3.05   1.170  38.50  1.050  34.40   \n",
              "16               37.0                0.0   9.64   5.416  53.06  3.348  37.26   \n",
              "19               85.0                1.0  17.25  15.160  87.90  0.980   5.70   \n",
              "22               74.0                0.0   4.89   3.570  72.90  0.610  12.50   \n",
              "\n",
              "      MON   MONp    EOS  ...  WBC-N  ASLYP  ASLYA  RELPL  RELYP  RELYA  \\\n",
              "1   0.490  13.10  0.110  ...   3.75   0.00  0.000   17.1   5.90   0.22   \n",
              "5   0.800   8.84  0.010  ...   3.05   0.00  0.000    7.6   2.60   0.08   \n",
              "16  0.692   7.92  0.064  ...   9.64   0.14  0.004    8.6   2.54   0.20   \n",
              "19  0.880   5.10  0.050  ...  17.25   0.00  0.000   11.2   0.60   0.11   \n",
              "22  0.350   7.20  0.010  ...   4.89   0.00  0.000   23.0   2.90   0.14   \n",
              "\n",
              "     NEUGI  NEURI  ASLPL  Revision  \n",
              "1   146.60  53.80   0.00       1.0  \n",
              "5   151.00  56.50   0.00       1.0  \n",
              "16  147.86  49.04   0.34       1.0  \n",
              "19  155.30  48.60   0.00       1.0  \n",
              "22  148.70  52.10   0.00       1.0  \n",
              "\n",
              "[5 rows x 67 columns]"
            ],
            "text/html": [
              "\n",
              "  <div id=\"df-8c2db043-1e46-47fa-91f7-d5a80c47702d\">\n",
              "    <div class=\"colab-df-container\">\n",
              "      <div>\n",
              "<style scoped>\n",
              "    .dataframe tbody tr th:only-of-type {\n",
              "        vertical-align: middle;\n",
              "    }\n",
              "\n",
              "    .dataframe tbody tr th {\n",
              "        vertical-align: top;\n",
              "    }\n",
              "\n",
              "    .dataframe thead th {\n",
              "        text-align: right;\n",
              "    }\n",
              "</style>\n",
              "<table border=\"1\" class=\"dataframe\">\n",
              "  <thead>\n",
              "    <tr style=\"text-align: right;\">\n",
              "      <th></th>\n",
              "      <th>Edad del Paciente</th>\n",
              "      <th>Sexo del Paciente</th>\n",
              "      <th>LEU</th>\n",
              "      <th>NEU</th>\n",
              "      <th>NEUp</th>\n",
              "      <th>LIN</th>\n",
              "      <th>LINp</th>\n",
              "      <th>MON</th>\n",
              "      <th>MONp</th>\n",
              "      <th>EOS</th>\n",
              "      <th>...</th>\n",
              "      <th>WBC-N</th>\n",
              "      <th>ASLYP</th>\n",
              "      <th>ASLYA</th>\n",
              "      <th>RELPL</th>\n",
              "      <th>RELYP</th>\n",
              "      <th>RELYA</th>\n",
              "      <th>NEUGI</th>\n",
              "      <th>NEURI</th>\n",
              "      <th>ASLPL</th>\n",
              "      <th>Revision</th>\n",
              "    </tr>\n",
              "  </thead>\n",
              "  <tbody>\n",
              "    <tr>\n",
              "      <th>1</th>\n",
              "      <td>76.0</td>\n",
              "      <td>0.0</td>\n",
              "      <td>3.75</td>\n",
              "      <td>1.840</td>\n",
              "      <td>49.00</td>\n",
              "      <td>1.290</td>\n",
              "      <td>34.40</td>\n",
              "      <td>0.490</td>\n",
              "      <td>13.10</td>\n",
              "      <td>0.110</td>\n",
              "      <td>...</td>\n",
              "      <td>3.75</td>\n",
              "      <td>0.00</td>\n",
              "      <td>0.000</td>\n",
              "      <td>17.1</td>\n",
              "      <td>5.90</td>\n",
              "      <td>0.22</td>\n",
              "      <td>146.60</td>\n",
              "      <td>53.80</td>\n",
              "      <td>0.00</td>\n",
              "      <td>1.0</td>\n",
              "    </tr>\n",
              "    <tr>\n",
              "      <th>5</th>\n",
              "      <td>66.0</td>\n",
              "      <td>0.0</td>\n",
              "      <td>3.05</td>\n",
              "      <td>1.170</td>\n",
              "      <td>38.50</td>\n",
              "      <td>1.050</td>\n",
              "      <td>34.40</td>\n",
              "      <td>0.800</td>\n",
              "      <td>8.84</td>\n",
              "      <td>0.010</td>\n",
              "      <td>...</td>\n",
              "      <td>3.05</td>\n",
              "      <td>0.00</td>\n",
              "      <td>0.000</td>\n",
              "      <td>7.6</td>\n",
              "      <td>2.60</td>\n",
              "      <td>0.08</td>\n",
              "      <td>151.00</td>\n",
              "      <td>56.50</td>\n",
              "      <td>0.00</td>\n",
              "      <td>1.0</td>\n",
              "    </tr>\n",
              "    <tr>\n",
              "      <th>16</th>\n",
              "      <td>37.0</td>\n",
              "      <td>0.0</td>\n",
              "      <td>9.64</td>\n",
              "      <td>5.416</td>\n",
              "      <td>53.06</td>\n",
              "      <td>3.348</td>\n",
              "      <td>37.26</td>\n",
              "      <td>0.692</td>\n",
              "      <td>7.92</td>\n",
              "      <td>0.064</td>\n",
              "      <td>...</td>\n",
              "      <td>9.64</td>\n",
              "      <td>0.14</td>\n",
              "      <td>0.004</td>\n",
              "      <td>8.6</td>\n",
              "      <td>2.54</td>\n",
              "      <td>0.20</td>\n",
              "      <td>147.86</td>\n",
              "      <td>49.04</td>\n",
              "      <td>0.34</td>\n",
              "      <td>1.0</td>\n",
              "    </tr>\n",
              "    <tr>\n",
              "      <th>19</th>\n",
              "      <td>85.0</td>\n",
              "      <td>1.0</td>\n",
              "      <td>17.25</td>\n",
              "      <td>15.160</td>\n",
              "      <td>87.90</td>\n",
              "      <td>0.980</td>\n",
              "      <td>5.70</td>\n",
              "      <td>0.880</td>\n",
              "      <td>5.10</td>\n",
              "      <td>0.050</td>\n",
              "      <td>...</td>\n",
              "      <td>17.25</td>\n",
              "      <td>0.00</td>\n",
              "      <td>0.000</td>\n",
              "      <td>11.2</td>\n",
              "      <td>0.60</td>\n",
              "      <td>0.11</td>\n",
              "      <td>155.30</td>\n",
              "      <td>48.60</td>\n",
              "      <td>0.00</td>\n",
              "      <td>1.0</td>\n",
              "    </tr>\n",
              "    <tr>\n",
              "      <th>22</th>\n",
              "      <td>74.0</td>\n",
              "      <td>0.0</td>\n",
              "      <td>4.89</td>\n",
              "      <td>3.570</td>\n",
              "      <td>72.90</td>\n",
              "      <td>0.610</td>\n",
              "      <td>12.50</td>\n",
              "      <td>0.350</td>\n",
              "      <td>7.20</td>\n",
              "      <td>0.010</td>\n",
              "      <td>...</td>\n",
              "      <td>4.89</td>\n",
              "      <td>0.00</td>\n",
              "      <td>0.000</td>\n",
              "      <td>23.0</td>\n",
              "      <td>2.90</td>\n",
              "      <td>0.14</td>\n",
              "      <td>148.70</td>\n",
              "      <td>52.10</td>\n",
              "      <td>0.00</td>\n",
              "      <td>1.0</td>\n",
              "    </tr>\n",
              "  </tbody>\n",
              "</table>\n",
              "<p>5 rows × 67 columns</p>\n",
              "</div>\n",
              "      <button class=\"colab-df-convert\" onclick=\"convertToInteractive('df-8c2db043-1e46-47fa-91f7-d5a80c47702d')\"\n",
              "              title=\"Convert this dataframe to an interactive table.\"\n",
              "              style=\"display:none;\">\n",
              "        \n",
              "  <svg xmlns=\"http://www.w3.org/2000/svg\" height=\"24px\"viewBox=\"0 0 24 24\"\n",
              "       width=\"24px\">\n",
              "    <path d=\"M0 0h24v24H0V0z\" fill=\"none\"/>\n",
              "    <path d=\"M18.56 5.44l.94 2.06.94-2.06 2.06-.94-2.06-.94-.94-2.06-.94 2.06-2.06.94zm-11 1L8.5 8.5l.94-2.06 2.06-.94-2.06-.94L8.5 2.5l-.94 2.06-2.06.94zm10 10l.94 2.06.94-2.06 2.06-.94-2.06-.94-.94-2.06-.94 2.06-2.06.94z\"/><path d=\"M17.41 7.96l-1.37-1.37c-.4-.4-.92-.59-1.43-.59-.52 0-1.04.2-1.43.59L10.3 9.45l-7.72 7.72c-.78.78-.78 2.05 0 2.83L4 21.41c.39.39.9.59 1.41.59.51 0 1.02-.2 1.41-.59l7.78-7.78 2.81-2.81c.8-.78.8-2.07 0-2.86zM5.41 20L4 18.59l7.72-7.72 1.47 1.35L5.41 20z\"/>\n",
              "  </svg>\n",
              "      </button>\n",
              "      \n",
              "  <style>\n",
              "    .colab-df-container {\n",
              "      display:flex;\n",
              "      flex-wrap:wrap;\n",
              "      gap: 12px;\n",
              "    }\n",
              "\n",
              "    .colab-df-convert {\n",
              "      background-color: #E8F0FE;\n",
              "      border: none;\n",
              "      border-radius: 50%;\n",
              "      cursor: pointer;\n",
              "      display: none;\n",
              "      fill: #1967D2;\n",
              "      height: 32px;\n",
              "      padding: 0 0 0 0;\n",
              "      width: 32px;\n",
              "    }\n",
              "\n",
              "    .colab-df-convert:hover {\n",
              "      background-color: #E2EBFA;\n",
              "      box-shadow: 0px 1px 2px rgba(60, 64, 67, 0.3), 0px 1px 3px 1px rgba(60, 64, 67, 0.15);\n",
              "      fill: #174EA6;\n",
              "    }\n",
              "\n",
              "    [theme=dark] .colab-df-convert {\n",
              "      background-color: #3B4455;\n",
              "      fill: #D2E3FC;\n",
              "    }\n",
              "\n",
              "    [theme=dark] .colab-df-convert:hover {\n",
              "      background-color: #434B5C;\n",
              "      box-shadow: 0px 1px 3px 1px rgba(0, 0, 0, 0.15);\n",
              "      filter: drop-shadow(0px 1px 2px rgba(0, 0, 0, 0.3));\n",
              "      fill: #FFFFFF;\n",
              "    }\n",
              "  </style>\n",
              "\n",
              "      <script>\n",
              "        const buttonEl =\n",
              "          document.querySelector('#df-8c2db043-1e46-47fa-91f7-d5a80c47702d button.colab-df-convert');\n",
              "        buttonEl.style.display =\n",
              "          google.colab.kernel.accessAllowed ? 'block' : 'none';\n",
              "\n",
              "        async function convertToInteractive(key) {\n",
              "          const element = document.querySelector('#df-8c2db043-1e46-47fa-91f7-d5a80c47702d');\n",
              "          const dataTable =\n",
              "            await google.colab.kernel.invokeFunction('convertToInteractive',\n",
              "                                                     [key], {});\n",
              "          if (!dataTable) return;\n",
              "\n",
              "          const docLinkHtml = 'Like what you see? Visit the ' +\n",
              "            '<a target=\"_blank\" href=https://colab.research.google.com/notebooks/data_table.ipynb>data table notebook</a>'\n",
              "            + ' to learn more about interactive tables.';\n",
              "          element.innerHTML = '';\n",
              "          dataTable['output_type'] = 'display_data';\n",
              "          await google.colab.output.renderOutput(dataTable, element);\n",
              "          const docLink = document.createElement('div');\n",
              "          docLink.innerHTML = docLinkHtml;\n",
              "          element.appendChild(docLink);\n",
              "        }\n",
              "      </script>\n",
              "    </div>\n",
              "  </div>\n",
              "  "
            ]
          },
          "metadata": {},
          "execution_count": 4
        }
      ],
      "source": [
        "x_train_1 = x_train[x_train['Revision'] == 1]\n",
        "\n",
        "x_train_1.head()"
      ]
    },
    {
      "cell_type": "code",
      "execution_count": 5,
      "metadata": {
        "id": "SOpidxanKSpn"
      },
      "outputs": [],
      "source": [
        "#Elimino la variable 'Revision' puesto que una vez he cogido los pacientes con revision=1, la variable ya \n",
        "#no me hace falta.\n",
        "x_train_1 = x_train_1.drop([\"Revision\"],axis=1) "
      ]
    },
    {
      "cell_type": "code",
      "execution_count": 6,
      "metadata": {
        "colab": {
          "base_uri": "https://localhost:8080/"
        },
        "id": "US2sPygL62WC",
        "outputId": "8c26a367-d737-40a1-a71b-4ced27c18f27"
      },
      "outputs": [
        {
          "output_type": "stream",
          "name": "stdout",
          "text": [
            "[0 0 0 0 1 0 0 1 0 1 0 0 0 0 0 0 0 0 0 0 0 0 1 0 0 1 0 0 0 0 1 0 0 0 1 0 0\n",
            " 0 0 0 0 0 0 1 0 0 0 0 0 0 0 0 0 0 0 0 0 0 0 0 1 0 0 0 1 0 0 0 1 0 0 1 1 0\n",
            " 0 0]\n"
          ]
        }
      ],
      "source": [
        "len(y_train)\n",
        "\n",
        "#get a boolean np.array as index\n",
        "idx = x_train['Revision'] == 1\n",
        "\n",
        "idx = idx.values\n",
        "\n",
        "y_train_aux = y_train.values\n",
        "\n",
        "y_train_1 = y_train_aux[idx]\n",
        "\n",
        "print(y_train_1)"
      ]
    },
    {
      "cell_type": "markdown",
      "metadata": {
        "id": "mdCoKBuhLYCr"
      },
      "source": [
        "### Con X_test"
      ]
    },
    {
      "cell_type": "markdown",
      "source": [
        "CREO QUE EN X_TEST NO HAY QUE TOCAR NADA. POR TANTO ESTO HABRIA QUE BORRARLO."
      ],
      "metadata": {
        "id": "12OFubyP1Wxb"
      }
    },
    {
      "cell_type": "code",
      "execution_count": 7,
      "metadata": {
        "colab": {
          "base_uri": "https://localhost:8080/",
          "height": 317
        },
        "id": "T9VbcNWBK8BR",
        "outputId": "1e895ed1-0a51-40bd-f625-bb0a537bbe81"
      },
      "outputs": [
        {
          "output_type": "execute_result",
          "data": {
            "text/plain": [
              "    Edad del Paciente  Sexo del Paciente     LEU     NEU   NEUp    LIN   LINp  \\\n",
              "2                76.0                0.0   8.060   5.980  74.30  1.210  15.00   \n",
              "3                72.0                1.0   6.794   5.332  74.16  0.802  14.42   \n",
              "6                69.0                0.0  11.886  17.120  65.20  2.550   9.70   \n",
              "7                72.0                1.0   6.850   4.670  68.10  1.520  22.20   \n",
              "15               83.0                1.0   9.122   7.002  71.80  0.994  14.10   \n",
              "\n",
              "      MON   MONp    EOS  ...   WBC-N  ASLYP  ASLYA  RELPL  RELYP  RELYA  \\\n",
              "2   0.690   8.60  0.140  ...   8.060   0.00  0.000   6.60    1.0  0.080   \n",
              "3   0.400   6.16  0.058  ...   6.794   0.14  0.006  14.00    1.2  0.068   \n",
              "6   0.606  18.20  0.010  ...  11.886   0.40  0.100   9.40    0.9  0.240   \n",
              "7   0.500   7.30  0.080  ...   6.850   0.00  0.000  13.80    3.1  0.210   \n",
              "15  0.768   8.96  0.104  ...   9.122   0.00  0.014   9.72    2.0  0.120   \n",
              "\n",
              "     NEUGI  NEURI  ASLPL  Revision  \n",
              "2   159.30  49.60   0.00       1.0  \n",
              "3   149.08  53.14   2.86       1.0  \n",
              "6   136.80  48.56   3.90       1.0  \n",
              "7   141.40  47.90   0.00       1.0  \n",
              "15  152.00  50.18   0.98       1.0  \n",
              "\n",
              "[5 rows x 67 columns]"
            ],
            "text/html": [
              "\n",
              "  <div id=\"df-e5e18b93-ac23-4790-8622-30a0b2b9376b\">\n",
              "    <div class=\"colab-df-container\">\n",
              "      <div>\n",
              "<style scoped>\n",
              "    .dataframe tbody tr th:only-of-type {\n",
              "        vertical-align: middle;\n",
              "    }\n",
              "\n",
              "    .dataframe tbody tr th {\n",
              "        vertical-align: top;\n",
              "    }\n",
              "\n",
              "    .dataframe thead th {\n",
              "        text-align: right;\n",
              "    }\n",
              "</style>\n",
              "<table border=\"1\" class=\"dataframe\">\n",
              "  <thead>\n",
              "    <tr style=\"text-align: right;\">\n",
              "      <th></th>\n",
              "      <th>Edad del Paciente</th>\n",
              "      <th>Sexo del Paciente</th>\n",
              "      <th>LEU</th>\n",
              "      <th>NEU</th>\n",
              "      <th>NEUp</th>\n",
              "      <th>LIN</th>\n",
              "      <th>LINp</th>\n",
              "      <th>MON</th>\n",
              "      <th>MONp</th>\n",
              "      <th>EOS</th>\n",
              "      <th>...</th>\n",
              "      <th>WBC-N</th>\n",
              "      <th>ASLYP</th>\n",
              "      <th>ASLYA</th>\n",
              "      <th>RELPL</th>\n",
              "      <th>RELYP</th>\n",
              "      <th>RELYA</th>\n",
              "      <th>NEUGI</th>\n",
              "      <th>NEURI</th>\n",
              "      <th>ASLPL</th>\n",
              "      <th>Revision</th>\n",
              "    </tr>\n",
              "  </thead>\n",
              "  <tbody>\n",
              "    <tr>\n",
              "      <th>2</th>\n",
              "      <td>76.0</td>\n",
              "      <td>0.0</td>\n",
              "      <td>8.060</td>\n",
              "      <td>5.980</td>\n",
              "      <td>74.30</td>\n",
              "      <td>1.210</td>\n",
              "      <td>15.00</td>\n",
              "      <td>0.690</td>\n",
              "      <td>8.60</td>\n",
              "      <td>0.140</td>\n",
              "      <td>...</td>\n",
              "      <td>8.060</td>\n",
              "      <td>0.00</td>\n",
              "      <td>0.000</td>\n",
              "      <td>6.60</td>\n",
              "      <td>1.0</td>\n",
              "      <td>0.080</td>\n",
              "      <td>159.30</td>\n",
              "      <td>49.60</td>\n",
              "      <td>0.00</td>\n",
              "      <td>1.0</td>\n",
              "    </tr>\n",
              "    <tr>\n",
              "      <th>3</th>\n",
              "      <td>72.0</td>\n",
              "      <td>1.0</td>\n",
              "      <td>6.794</td>\n",
              "      <td>5.332</td>\n",
              "      <td>74.16</td>\n",
              "      <td>0.802</td>\n",
              "      <td>14.42</td>\n",
              "      <td>0.400</td>\n",
              "      <td>6.16</td>\n",
              "      <td>0.058</td>\n",
              "      <td>...</td>\n",
              "      <td>6.794</td>\n",
              "      <td>0.14</td>\n",
              "      <td>0.006</td>\n",
              "      <td>14.00</td>\n",
              "      <td>1.2</td>\n",
              "      <td>0.068</td>\n",
              "      <td>149.08</td>\n",
              "      <td>53.14</td>\n",
              "      <td>2.86</td>\n",
              "      <td>1.0</td>\n",
              "    </tr>\n",
              "    <tr>\n",
              "      <th>6</th>\n",
              "      <td>69.0</td>\n",
              "      <td>0.0</td>\n",
              "      <td>11.886</td>\n",
              "      <td>17.120</td>\n",
              "      <td>65.20</td>\n",
              "      <td>2.550</td>\n",
              "      <td>9.70</td>\n",
              "      <td>0.606</td>\n",
              "      <td>18.20</td>\n",
              "      <td>0.010</td>\n",
              "      <td>...</td>\n",
              "      <td>11.886</td>\n",
              "      <td>0.40</td>\n",
              "      <td>0.100</td>\n",
              "      <td>9.40</td>\n",
              "      <td>0.9</td>\n",
              "      <td>0.240</td>\n",
              "      <td>136.80</td>\n",
              "      <td>48.56</td>\n",
              "      <td>3.90</td>\n",
              "      <td>1.0</td>\n",
              "    </tr>\n",
              "    <tr>\n",
              "      <th>7</th>\n",
              "      <td>72.0</td>\n",
              "      <td>1.0</td>\n",
              "      <td>6.850</td>\n",
              "      <td>4.670</td>\n",
              "      <td>68.10</td>\n",
              "      <td>1.520</td>\n",
              "      <td>22.20</td>\n",
              "      <td>0.500</td>\n",
              "      <td>7.30</td>\n",
              "      <td>0.080</td>\n",
              "      <td>...</td>\n",
              "      <td>6.850</td>\n",
              "      <td>0.00</td>\n",
              "      <td>0.000</td>\n",
              "      <td>13.80</td>\n",
              "      <td>3.1</td>\n",
              "      <td>0.210</td>\n",
              "      <td>141.40</td>\n",
              "      <td>47.90</td>\n",
              "      <td>0.00</td>\n",
              "      <td>1.0</td>\n",
              "    </tr>\n",
              "    <tr>\n",
              "      <th>15</th>\n",
              "      <td>83.0</td>\n",
              "      <td>1.0</td>\n",
              "      <td>9.122</td>\n",
              "      <td>7.002</td>\n",
              "      <td>71.80</td>\n",
              "      <td>0.994</td>\n",
              "      <td>14.10</td>\n",
              "      <td>0.768</td>\n",
              "      <td>8.96</td>\n",
              "      <td>0.104</td>\n",
              "      <td>...</td>\n",
              "      <td>9.122</td>\n",
              "      <td>0.00</td>\n",
              "      <td>0.014</td>\n",
              "      <td>9.72</td>\n",
              "      <td>2.0</td>\n",
              "      <td>0.120</td>\n",
              "      <td>152.00</td>\n",
              "      <td>50.18</td>\n",
              "      <td>0.98</td>\n",
              "      <td>1.0</td>\n",
              "    </tr>\n",
              "  </tbody>\n",
              "</table>\n",
              "<p>5 rows × 67 columns</p>\n",
              "</div>\n",
              "      <button class=\"colab-df-convert\" onclick=\"convertToInteractive('df-e5e18b93-ac23-4790-8622-30a0b2b9376b')\"\n",
              "              title=\"Convert this dataframe to an interactive table.\"\n",
              "              style=\"display:none;\">\n",
              "        \n",
              "  <svg xmlns=\"http://www.w3.org/2000/svg\" height=\"24px\"viewBox=\"0 0 24 24\"\n",
              "       width=\"24px\">\n",
              "    <path d=\"M0 0h24v24H0V0z\" fill=\"none\"/>\n",
              "    <path d=\"M18.56 5.44l.94 2.06.94-2.06 2.06-.94-2.06-.94-.94-2.06-.94 2.06-2.06.94zm-11 1L8.5 8.5l.94-2.06 2.06-.94-2.06-.94L8.5 2.5l-.94 2.06-2.06.94zm10 10l.94 2.06.94-2.06 2.06-.94-2.06-.94-.94-2.06-.94 2.06-2.06.94z\"/><path d=\"M17.41 7.96l-1.37-1.37c-.4-.4-.92-.59-1.43-.59-.52 0-1.04.2-1.43.59L10.3 9.45l-7.72 7.72c-.78.78-.78 2.05 0 2.83L4 21.41c.39.39.9.59 1.41.59.51 0 1.02-.2 1.41-.59l7.78-7.78 2.81-2.81c.8-.78.8-2.07 0-2.86zM5.41 20L4 18.59l7.72-7.72 1.47 1.35L5.41 20z\"/>\n",
              "  </svg>\n",
              "      </button>\n",
              "      \n",
              "  <style>\n",
              "    .colab-df-container {\n",
              "      display:flex;\n",
              "      flex-wrap:wrap;\n",
              "      gap: 12px;\n",
              "    }\n",
              "\n",
              "    .colab-df-convert {\n",
              "      background-color: #E8F0FE;\n",
              "      border: none;\n",
              "      border-radius: 50%;\n",
              "      cursor: pointer;\n",
              "      display: none;\n",
              "      fill: #1967D2;\n",
              "      height: 32px;\n",
              "      padding: 0 0 0 0;\n",
              "      width: 32px;\n",
              "    }\n",
              "\n",
              "    .colab-df-convert:hover {\n",
              "      background-color: #E2EBFA;\n",
              "      box-shadow: 0px 1px 2px rgba(60, 64, 67, 0.3), 0px 1px 3px 1px rgba(60, 64, 67, 0.15);\n",
              "      fill: #174EA6;\n",
              "    }\n",
              "\n",
              "    [theme=dark] .colab-df-convert {\n",
              "      background-color: #3B4455;\n",
              "      fill: #D2E3FC;\n",
              "    }\n",
              "\n",
              "    [theme=dark] .colab-df-convert:hover {\n",
              "      background-color: #434B5C;\n",
              "      box-shadow: 0px 1px 3px 1px rgba(0, 0, 0, 0.15);\n",
              "      filter: drop-shadow(0px 1px 2px rgba(0, 0, 0, 0.3));\n",
              "      fill: #FFFFFF;\n",
              "    }\n",
              "  </style>\n",
              "\n",
              "      <script>\n",
              "        const buttonEl =\n",
              "          document.querySelector('#df-e5e18b93-ac23-4790-8622-30a0b2b9376b button.colab-df-convert');\n",
              "        buttonEl.style.display =\n",
              "          google.colab.kernel.accessAllowed ? 'block' : 'none';\n",
              "\n",
              "        async function convertToInteractive(key) {\n",
              "          const element = document.querySelector('#df-e5e18b93-ac23-4790-8622-30a0b2b9376b');\n",
              "          const dataTable =\n",
              "            await google.colab.kernel.invokeFunction('convertToInteractive',\n",
              "                                                     [key], {});\n",
              "          if (!dataTable) return;\n",
              "\n",
              "          const docLinkHtml = 'Like what you see? Visit the ' +\n",
              "            '<a target=\"_blank\" href=https://colab.research.google.com/notebooks/data_table.ipynb>data table notebook</a>'\n",
              "            + ' to learn more about interactive tables.';\n",
              "          element.innerHTML = '';\n",
              "          dataTable['output_type'] = 'display_data';\n",
              "          await google.colab.output.renderOutput(dataTable, element);\n",
              "          const docLink = document.createElement('div');\n",
              "          docLink.innerHTML = docLinkHtml;\n",
              "          element.appendChild(docLink);\n",
              "        }\n",
              "      </script>\n",
              "    </div>\n",
              "  </div>\n",
              "  "
            ]
          },
          "metadata": {},
          "execution_count": 7
        }
      ],
      "source": [
        "x_test_1 = x_test[x_test['Revision'] == 1]\n",
        "\n",
        "x_test_1.head()"
      ]
    },
    {
      "cell_type": "code",
      "execution_count": 8,
      "metadata": {
        "id": "TxsOfYy4LP3Y"
      },
      "outputs": [],
      "source": [
        "#Elimino la variable 'Revision' puesto que una vez he cogido los pacientes con revision=1, la variable ya \n",
        "#no me hace falta.\n",
        "x_test_1 = x_test_1.drop([\"Revision\"],axis=1)  "
      ]
    },
    {
      "cell_type": "code",
      "execution_count": 9,
      "metadata": {
        "colab": {
          "base_uri": "https://localhost:8080/"
        },
        "id": "ycp3vVjBLG4r",
        "outputId": "cf8451cd-5cbd-402b-f8ea-a425d7502fae"
      },
      "outputs": [
        {
          "output_type": "stream",
          "name": "stdout",
          "text": [
            "[0 0 1 0 0 0 1 0 1 1 0 0 1 0 0 0 0 0 1 0 0 0]\n"
          ]
        }
      ],
      "source": [
        "len(y_test)\n",
        "\n",
        "#get a boolean np.array as index\n",
        "idx = x_test['Revision'] == 1\n",
        "\n",
        "idx = idx.values\n",
        "\n",
        "y_test_aux = y_test.values\n",
        "\n",
        "y_test_1 = y_test_aux[idx]\n",
        "\n",
        "print(y_test_1) #Misma cantidad de números que la cantidad de filas de x_test_1"
      ]
    },
    {
      "cell_type": "markdown",
      "metadata": {
        "id": "8iA8M8HS-O_s"
      },
      "source": [
        "# 1. XGBoost"
      ]
    },
    {
      "cell_type": "code",
      "execution_count": 10,
      "metadata": {
        "id": "Q2_52kUXC7tS"
      },
      "outputs": [],
      "source": [
        "import numpy as np\n",
        "\n",
        "from scipy.stats import uniform, randint\n",
        "\n",
        "from sklearn.datasets import load_breast_cancer, load_diabetes, load_wine\n",
        "from sklearn.metrics import auc, accuracy_score, confusion_matrix, mean_squared_error, roc_auc_score\n",
        "from sklearn.model_selection import cross_val_score, GridSearchCV, KFold, RandomizedSearchCV, train_test_split\n",
        "import xgboost as xgb"
      ]
    },
    {
      "cell_type": "markdown",
      "metadata": {
        "id": "b0BmHhZ0Li2s"
      },
      "source": [
        "## 1.1 Optimización de los hiperparámetros usando RandomizedSearchCV"
      ]
    },
    {
      "cell_type": "code",
      "execution_count": 11,
      "metadata": {
        "id": "BHAN5Yve-9Ch"
      },
      "outputs": [],
      "source": [
        "#Indico que el clasificador que voy a utlizar es XGBosst\n",
        "\n",
        "xgb_model = xgb.XGBClassifier(\n",
        ")"
      ]
    },
    {
      "cell_type": "markdown",
      "metadata": {
        "id": "lCpdvaAR-Nqa"
      },
      "source": [
        "Inicialmente creamos un diccionario de algunos parámetros a entrenar. Aquí las claves son básicamente los parámetros y los valores a entrenar. Así que el RandomizedSearchCV probará cada valor y encontrará el valor particular que da la mayor precisión."
      ]
    },
    {
      "cell_type": "code",
      "execution_count": 12,
      "metadata": {
        "id": "Klmci5LdABp_"
      },
      "outputs": [],
      "source": [
        "#Cuanto mayor sea gamma, más conservador será el algoritmo\n",
        "#min_child_weight: para controlar el sobreajuste, cuanto mayor sea min_child_weight, más conservador será el algoritmo\n",
        "\n",
        "params = {\n",
        " 'n_estimators' : [25,50,75,100,125,150,175,200,250,300,350,400],\n",
        " 'learning_rate' : [0.05,0.10,0.15,0.20,0.25,0.30],\n",
        " 'max_depth' : [3,4,5,6,8,10,12,15],\n",
        " 'gamma': [0.0,0.1,0.2,0.3,0.4],\n",
        " 'colsample_bytree' : [0.3,0.4,0.5,0.7]\n",
        "}\n",
        "\n"
      ]
    },
    {
      "cell_type": "markdown",
      "metadata": {
        "id": "Z_8hIRiEAqFu"
      },
      "source": [
        "A continuación, llamamos a RandomizedSearchCV() y le pasamos los siguientes parámetros"
      ]
    },
    {
      "cell_type": "code",
      "execution_count": 13,
      "metadata": {
        "colab": {
          "base_uri": "https://localhost:8080/"
        },
        "id": "3SHHuaOcAvQA",
        "outputId": "2a6fcb1d-679b-407b-d041-a03e09f670d7",
        "scrolled": false
      },
      "outputs": [
        {
          "output_type": "stream",
          "name": "stdout",
          "text": [
            "Fitting 5 folds for each of 5 candidates, totalling 25 fits\n"
          ]
        },
        {
          "output_type": "execute_result",
          "data": {
            "text/plain": [
              "RandomizedSearchCV(cv=5, estimator=XGBClassifier(), n_iter=5, n_jobs=-1,\n",
              "                   param_distributions={'colsample_bytree': [0.3, 0.4, 0.5,\n",
              "                                                             0.7],\n",
              "                                        'gamma': [0.0, 0.1, 0.2, 0.3, 0.4],\n",
              "                                        'learning_rate': [0.05, 0.1, 0.15, 0.2,\n",
              "                                                          0.25, 0.3],\n",
              "                                        'max_depth': [3, 4, 5, 6, 8, 10, 12,\n",
              "                                                      15],\n",
              "                                        'n_estimators': [25, 50, 75, 100, 125,\n",
              "                                                         150, 175, 200, 250,\n",
              "                                                         300, 350, 400]},\n",
              "                   random_state=2, scoring='roc_auc', verbose=3)"
            ]
          },
          "metadata": {},
          "execution_count": 13
        }
      ],
      "source": [
        "#verbose = genera mensajes durante el entramiento del modelo 'Fitting 5 folds...'\n",
        "\n",
        "#roc_auc = curva AUC-ROC es la métrica de selección del modelo para el problema de clasificación \n",
        "#de dos clases múltiples.ROC nos dice qué tan bueno es el modelo para distinguir las clases dadas, \n",
        "#en términos de la probabilidad predicha.\n",
        "\n",
        "#n_jobs = número de nucleos que se utilizan (-1 quiere decir que se utilizan todos)\n",
        "\n",
        "r_s_model = RandomizedSearchCV(xgb_model , param_distributions=params, n_iter=5, \n",
        "                               scoring='roc_auc',n_jobs=-1,cv=5,verbose=3,random_state = 2)\n",
        "r_s_model.fit(x_train_1, y_train_1)"
      ]
    },
    {
      "cell_type": "markdown",
      "metadata": {
        "id": "PwHr_OxHCJBY"
      },
      "source": [
        "Bien, nuestro modelo ha sido ajustado. Veamos ahora todos los parámetros que han sido seleccionados por el RandomizedSearch() para el XGBClassifier. Podemos hacerlo con la ayuda del método best_estimators_."
      ]
    },
    {
      "cell_type": "code",
      "execution_count": 14,
      "metadata": {
        "colab": {
          "base_uri": "https://localhost:8080/"
        },
        "id": "rXz112xuCL9x",
        "outputId": "81bce181-75f2-4fe8-d568-c7c78aaa5576"
      },
      "outputs": [
        {
          "output_type": "execute_result",
          "data": {
            "text/plain": [
              "XGBClassifier(colsample_bytree=0.5, gamma=0.1, learning_rate=0.2, max_depth=4,\n",
              "              n_estimators=50)"
            ]
          },
          "metadata": {},
          "execution_count": 14
        }
      ],
      "source": [
        "r_s_model.best_estimator_"
      ]
    },
    {
      "cell_type": "markdown",
      "metadata": {
        "id": "OSJUkKA6HaQT"
      },
      "source": [
        "Una vez conozco los valores de hiperparámetros, vuelvo a buscar la optimización de los mismos, pero esta vez afinando más."
      ]
    },
    {
      "cell_type": "code",
      "execution_count": 15,
      "metadata": {
        "id": "NyURH0MLHYip"
      },
      "outputs": [],
      "source": [
        "#Cuanto mayor sea gamma, más conservador será el algoritmo\n",
        "#min_child_weight: para controlar el sobreajuste, cuanto mayor sea min_child_weight, más conservador será el algoritmo\n",
        "\n",
        "params = {\n",
        " 'n_estimators' : [192,194,196,198,200,202,204,206,208],\n",
        " 'learning_rate' : [0.11,0.12,0.13,0.14,0.15,0.16,0.17,0.18,0.19],\n",
        " 'max_depth' : [8,9,10,11,12,13,14,15,16],\n",
        " 'gamma': [0.30,0.33,0.36,0.39,0.42,0.45,0.48],\n",
        " 'colsample_bytree' : [0.15,0.20,0.25,0.30,0.35,0.40,0.45]\n",
        "}"
      ]
    },
    {
      "cell_type": "code",
      "execution_count": 16,
      "metadata": {
        "colab": {
          "base_uri": "https://localhost:8080/"
        },
        "id": "Tgq4jyIe6TTV",
        "outputId": "e02e22b6-8629-4d69-b06f-d4223198f094"
      },
      "outputs": [
        {
          "output_type": "stream",
          "name": "stdout",
          "text": [
            "Index(['Edad del Paciente', 'Sexo del Paciente', 'LEU', 'NEU', 'NEUp', 'LIN',\n",
            "       'LINp', 'MON', 'MONp', 'EOS', 'EOSp', 'BAS', 'BASp', 'IG', 'IGp',\n",
            "       'ERIT', 'HGB', 'HCT', 'VCM', 'HCM', 'CHCM', 'RDW', 'ERBL', 'ERBLp',\n",
            "       'PLT', 'PLTI', 'VPM', 'rNe/L', 'rPL/L', 'MacR', 'MicR', 'BA-D#',\n",
            "       'NEFSC', 'BA-D%', 'BA-N#', 'BA-N%', 'HFLCA', 'HFLCP', 'LY-WX', 'LY-WY',\n",
            "       'LY-WZ', 'LY-X', 'LY-Y', 'LY-Z', 'MO-WX', 'MO-WY', 'MO-WZ', 'MO-X',\n",
            "       'MO-Y', 'MO-Z', 'NESFL', 'NESSC', 'NE-WX', 'NE-WY', 'NE-WZ', 'TNC-N',\n",
            "       'WBC-D', 'WBC-N', 'ASLYP', 'ASLYA', 'RELPL', 'RELYP', 'RELYA', 'NEUGI',\n",
            "       'NEURI', 'ASLPL'],\n",
            "      dtype='object')\n",
            "[0 0 0 0 1 0 0 1 0 1 0 0 0 0 0 0 0 0 0 0 0 0 1 0 0 1 0 0 0 0 1 0 0 0 1 0 0\n",
            " 0 0 0 0 0 0 1 0 0 0 0 0 0 0 0 0 0 0 0 0 0 0 0 1 0 0 0 1 0 0 0 1 0 0 1 1 0\n",
            " 0 0]\n"
          ]
        }
      ],
      "source": [
        "print(x_train_1.columns)\n",
        "print(y_train_1)\n",
        "#print(x_test_1['Revision'].head())"
      ]
    },
    {
      "cell_type": "code",
      "execution_count": 17,
      "metadata": {
        "colab": {
          "base_uri": "https://localhost:8080/"
        },
        "id": "6o2OeCTvIkWi",
        "outputId": "210692cb-d7d4-48ab-f712-31660e0d9a75",
        "scrolled": false
      },
      "outputs": [
        {
          "output_type": "stream",
          "name": "stdout",
          "text": [
            "Fitting 5 folds for each of 5 candidates, totalling 25 fits\n"
          ]
        },
        {
          "output_type": "execute_result",
          "data": {
            "text/plain": [
              "RandomizedSearchCV(cv=5, estimator=XGBClassifier(), n_iter=5, n_jobs=-1,\n",
              "                   param_distributions={'colsample_bytree': [0.15, 0.2, 0.25,\n",
              "                                                             0.3, 0.35, 0.4,\n",
              "                                                             0.45],\n",
              "                                        'gamma': [0.3, 0.33, 0.36, 0.39, 0.42,\n",
              "                                                  0.45, 0.48],\n",
              "                                        'learning_rate': [0.11, 0.12, 0.13,\n",
              "                                                          0.14, 0.15, 0.16,\n",
              "                                                          0.17, 0.18, 0.19],\n",
              "                                        'max_depth': [8, 9, 10, 11, 12, 13, 14,\n",
              "                                                      15, 16],\n",
              "                                        'n_estimators': [192, 194, 196, 198,\n",
              "                                                         200, 202, 204, 206,\n",
              "                                                         208]},\n",
              "                   random_state=2, scoring='roc_auc', verbose=3)"
            ]
          },
          "metadata": {},
          "execution_count": 17
        }
      ],
      "source": [
        "#verbose = genera mensajes durante el entramiento del modelo 'Fitting 5 folds...'\n",
        "\n",
        "#roc_auc = curva AUC-ROC es la métrica de selección del modelo para el problema de clasificación \n",
        "#de dos clases múltiples.ROC nos dice qué tan bueno es el modelo para distinguir las clases dadas, \n",
        "#en términos de la probabilidad predicha.\n",
        "\n",
        "#n_jobs = número de nucleos que se utilizan (-1 quiere decir que se utilizan todos)\n",
        "\n",
        "r_s_model = RandomizedSearchCV(xgb_model , param_distributions=params, n_iter=5, \n",
        "                               scoring='roc_auc',n_jobs=-1,cv=5,verbose=3,random_state = 2)\n",
        "r_s_model.fit(x_train_1, y_train_1)"
      ]
    },
    {
      "cell_type": "code",
      "execution_count": 18,
      "metadata": {
        "colab": {
          "base_uri": "https://localhost:8080/"
        },
        "id": "J8GzmVZNIm0X",
        "outputId": "785db08e-55fe-4b69-afe7-a832d9574882"
      },
      "outputs": [
        {
          "output_type": "execute_result",
          "data": {
            "text/plain": [
              "XGBClassifier(colsample_bytree=0.45, gamma=0.48, learning_rate=0.15,\n",
              "              max_depth=11, n_estimators=192)"
            ]
          },
          "metadata": {},
          "execution_count": 18
        }
      ],
      "source": [
        "r_s_model.best_estimator_"
      ]
    },
    {
      "cell_type": "markdown",
      "metadata": {
        "id": "BJT9dRNqfiKU"
      },
      "source": [
        "## 1.2 Rendimiento con todas las features"
      ]
    },
    {
      "cell_type": "markdown",
      "metadata": {
        "id": "xG-bVWyjCZcx"
      },
      "source": [
        "Ahora, como conocemos todos los mejores parámetros, podemos simplemente construir nuestro modelo clasificador final pasando todos esos parámetros."
      ]
    },
    {
      "cell_type": "code",
      "execution_count": 19,
      "metadata": {
        "id": "MF6gOB1RChQp"
      },
      "outputs": [],
      "source": [
        "#Construyendo el modelo final\n",
        "xgb_model = xgb.XGBClassifier(colsample_bytree=0.45, gamma=0.3, learning_rate=0.15,\n",
        "              max_depth=16, n_estimators=202)"
      ]
    },
    {
      "cell_type": "code",
      "execution_count": 20,
      "metadata": {
        "id": "kguJP0rx6TTa"
      },
      "outputs": [],
      "source": [
        "#print(x_test['Fecha'])"
      ]
    },
    {
      "cell_type": "code",
      "execution_count": 21,
      "metadata": {
        "id": "0NSP3PtSNEB3"
      },
      "outputs": [],
      "source": [
        "x_test_WR = x_test.drop([\"Revision\"],axis=1)"
      ]
    },
    {
      "cell_type": "code",
      "execution_count": 22,
      "metadata": {
        "colab": {
          "base_uri": "https://localhost:8080/",
          "height": 175
        },
        "id": "NWmveSOUG3Wi",
        "outputId": "9e012abe-8153-4f9e-ad50-479beaa27094"
      },
      "outputs": [
        {
          "output_type": "execute_result",
          "data": {
            "text/plain": [
              "  Prestaciones en test   XGBoost\n",
              "0             Accuracy  0.781250\n",
              "1          Sensibility  0.250000\n",
              "2          Specificity  0.903846\n",
              "3              AUC ROC  0.576923"
            ],
            "text/html": [
              "\n",
              "  <div id=\"df-fb837408-2bbe-4575-9246-09548629365f\">\n",
              "    <div class=\"colab-df-container\">\n",
              "      <div>\n",
              "<style scoped>\n",
              "    .dataframe tbody tr th:only-of-type {\n",
              "        vertical-align: middle;\n",
              "    }\n",
              "\n",
              "    .dataframe tbody tr th {\n",
              "        vertical-align: top;\n",
              "    }\n",
              "\n",
              "    .dataframe thead th {\n",
              "        text-align: right;\n",
              "    }\n",
              "</style>\n",
              "<table border=\"1\" class=\"dataframe\">\n",
              "  <thead>\n",
              "    <tr style=\"text-align: right;\">\n",
              "      <th></th>\n",
              "      <th>Prestaciones en test</th>\n",
              "      <th>XGBoost</th>\n",
              "    </tr>\n",
              "  </thead>\n",
              "  <tbody>\n",
              "    <tr>\n",
              "      <th>0</th>\n",
              "      <td>Accuracy</td>\n",
              "      <td>0.781250</td>\n",
              "    </tr>\n",
              "    <tr>\n",
              "      <th>1</th>\n",
              "      <td>Sensibility</td>\n",
              "      <td>0.250000</td>\n",
              "    </tr>\n",
              "    <tr>\n",
              "      <th>2</th>\n",
              "      <td>Specificity</td>\n",
              "      <td>0.903846</td>\n",
              "    </tr>\n",
              "    <tr>\n",
              "      <th>3</th>\n",
              "      <td>AUC ROC</td>\n",
              "      <td>0.576923</td>\n",
              "    </tr>\n",
              "  </tbody>\n",
              "</table>\n",
              "</div>\n",
              "      <button class=\"colab-df-convert\" onclick=\"convertToInteractive('df-fb837408-2bbe-4575-9246-09548629365f')\"\n",
              "              title=\"Convert this dataframe to an interactive table.\"\n",
              "              style=\"display:none;\">\n",
              "        \n",
              "  <svg xmlns=\"http://www.w3.org/2000/svg\" height=\"24px\"viewBox=\"0 0 24 24\"\n",
              "       width=\"24px\">\n",
              "    <path d=\"M0 0h24v24H0V0z\" fill=\"none\"/>\n",
              "    <path d=\"M18.56 5.44l.94 2.06.94-2.06 2.06-.94-2.06-.94-.94-2.06-.94 2.06-2.06.94zm-11 1L8.5 8.5l.94-2.06 2.06-.94-2.06-.94L8.5 2.5l-.94 2.06-2.06.94zm10 10l.94 2.06.94-2.06 2.06-.94-2.06-.94-.94-2.06-.94 2.06-2.06.94z\"/><path d=\"M17.41 7.96l-1.37-1.37c-.4-.4-.92-.59-1.43-.59-.52 0-1.04.2-1.43.59L10.3 9.45l-7.72 7.72c-.78.78-.78 2.05 0 2.83L4 21.41c.39.39.9.59 1.41.59.51 0 1.02-.2 1.41-.59l7.78-7.78 2.81-2.81c.8-.78.8-2.07 0-2.86zM5.41 20L4 18.59l7.72-7.72 1.47 1.35L5.41 20z\"/>\n",
              "  </svg>\n",
              "      </button>\n",
              "      \n",
              "  <style>\n",
              "    .colab-df-container {\n",
              "      display:flex;\n",
              "      flex-wrap:wrap;\n",
              "      gap: 12px;\n",
              "    }\n",
              "\n",
              "    .colab-df-convert {\n",
              "      background-color: #E8F0FE;\n",
              "      border: none;\n",
              "      border-radius: 50%;\n",
              "      cursor: pointer;\n",
              "      display: none;\n",
              "      fill: #1967D2;\n",
              "      height: 32px;\n",
              "      padding: 0 0 0 0;\n",
              "      width: 32px;\n",
              "    }\n",
              "\n",
              "    .colab-df-convert:hover {\n",
              "      background-color: #E2EBFA;\n",
              "      box-shadow: 0px 1px 2px rgba(60, 64, 67, 0.3), 0px 1px 3px 1px rgba(60, 64, 67, 0.15);\n",
              "      fill: #174EA6;\n",
              "    }\n",
              "\n",
              "    [theme=dark] .colab-df-convert {\n",
              "      background-color: #3B4455;\n",
              "      fill: #D2E3FC;\n",
              "    }\n",
              "\n",
              "    [theme=dark] .colab-df-convert:hover {\n",
              "      background-color: #434B5C;\n",
              "      box-shadow: 0px 1px 3px 1px rgba(0, 0, 0, 0.15);\n",
              "      filter: drop-shadow(0px 1px 2px rgba(0, 0, 0, 0.3));\n",
              "      fill: #FFFFFF;\n",
              "    }\n",
              "  </style>\n",
              "\n",
              "      <script>\n",
              "        const buttonEl =\n",
              "          document.querySelector('#df-fb837408-2bbe-4575-9246-09548629365f button.colab-df-convert');\n",
              "        buttonEl.style.display =\n",
              "          google.colab.kernel.accessAllowed ? 'block' : 'none';\n",
              "\n",
              "        async function convertToInteractive(key) {\n",
              "          const element = document.querySelector('#df-fb837408-2bbe-4575-9246-09548629365f');\n",
              "          const dataTable =\n",
              "            await google.colab.kernel.invokeFunction('convertToInteractive',\n",
              "                                                     [key], {});\n",
              "          if (!dataTable) return;\n",
              "\n",
              "          const docLinkHtml = 'Like what you see? Visit the ' +\n",
              "            '<a target=\"_blank\" href=https://colab.research.google.com/notebooks/data_table.ipynb>data table notebook</a>'\n",
              "            + ' to learn more about interactive tables.';\n",
              "          element.innerHTML = '';\n",
              "          dataTable['output_type'] = 'display_data';\n",
              "          await google.colab.output.renderOutput(dataTable, element);\n",
              "          const docLink = document.createElement('div');\n",
              "          docLink.innerHTML = docLinkHtml;\n",
              "          element.appendChild(docLink);\n",
              "        }\n",
              "      </script>\n",
              "    </div>\n",
              "  </div>\n",
              "  "
            ]
          },
          "metadata": {},
          "execution_count": 22
        }
      ],
      "source": [
        "#Métricas\n",
        "\n",
        "xgb_model.fit(x_train_1, y_train_1)\n",
        "\n",
        "y_pred = xgb_model.predict(x_test_WR)\n",
        "\n",
        "acc_xgb = accuracy_score(y_test, y_pred)\n",
        "sensibilidad_xgb = recall_score(y_test, y_pred)\n",
        "#precision_xgb = precision_score(y_test, y_pred)\n",
        "specificity_xgb = confusion_matrix(y_test, y_pred)[0][0]/(confusion_matrix(y_test, y_pred)[0][0]+confusion_matrix(y_test, y_pred)[0][1])\n",
        "auc_xgb = roc_auc_score(y_test, y_pred)\n",
        "\n",
        "Tabla = pd.DataFrame({ \"Prestaciones en test\":[\"Accuracy\",\"Sensibility\",'Specificity',\"AUC ROC\"],\n",
        "                      \"XGBoost\" : [acc_xgb, sensibilidad_xgb, specificity_xgb, auc_xgb]})\n",
        "\n",
        "Tabla"
      ]
    },
    {
      "cell_type": "markdown",
      "metadata": {
        "id": "1_w29Eajzaja"
      },
      "source": [
        "## 1.3 Selección de características (FS)"
      ]
    },
    {
      "cell_type": "markdown",
      "metadata": {
        "id": "PL0SquGRzibQ"
      },
      "source": [
        "La selección de características se entiende como una disminución del número de éstas, en función de un criterio elegido por el usuario, escogiendo aquellas que se consideran más informativas y eliminando aquellas que son irrelevantes. "
      ]
    },
    {
      "cell_type": "markdown",
      "metadata": {
        "id": "mp9Vyp9DzlTb"
      },
      "source": [
        "**Importancia de cada característica**"
      ]
    },
    {
      "cell_type": "markdown",
      "metadata": {
        "id": "U4qQSKeWzmFn"
      },
      "source": [
        "La importancia de características desempeña un papel importante, ya que proporciona una visión de los datos, del modelo y la base para la reducción de la dimensionalidad y la selección de características que pueden mejorar la eficiencia y la eficacia de un modelo predictivo en el problema."
      ]
    },
    {
      "cell_type": "markdown",
      "metadata": {
        "id": "7Xy8wLPtQZYw"
      },
      "source": [
        "Para tener mas aleatoridad a la hora de valorar la importancia de las características sobre las que trabajo, voy a hacer:\n",
        "\n",
        "1.   Con ese conjunto hago \"permutation importance\"\n",
        "\n"
      ]
    },
    {
      "cell_type": "markdown",
      "metadata": {
        "id": "r7Aa4K-kq9kJ"
      },
      "source": [
        "### Permutation Importance"
      ]
    },
    {
      "cell_type": "markdown",
      "source": [
        "Este método consiste en ir barajando columna a columna (excepto el target) y ver como va variando la predicción respecto a la salida real. De esa manera se puede observar que columnas tienen mas importancia que otras. "
      ],
      "metadata": {
        "id": "x7qBy9yluMEM"
      }
    },
    {
      "cell_type": "code",
      "execution_count": 23,
      "metadata": {
        "colab": {
          "base_uri": "https://localhost:8080/"
        },
        "id": "o1P7QszfOt-Q",
        "outputId": "08df9e32-002c-4529-ea11-af589d1a902d"
      },
      "outputs": [
        {
          "output_type": "execute_result",
          "data": {
            "text/plain": [
              "(22, 66)"
            ]
          },
          "metadata": {},
          "execution_count": 23
        }
      ],
      "source": [
        "x_test_1.shape"
      ]
    },
    {
      "cell_type": "code",
      "execution_count": 24,
      "metadata": {
        "colab": {
          "base_uri": "https://localhost:8080/",
          "height": 317
        },
        "id": "ls08H1bRrOn9",
        "outputId": "4c22d326-741f-4cd7-962e-3a6f883edb7d"
      },
      "outputs": [
        {
          "output_type": "execute_result",
          "data": {
            "text/plain": [
              "    Edad del Paciente  Sexo del Paciente     LEU     NEU   NEUp    LIN   LINp  \\\n",
              "2                76.0                0.0   8.060   5.980  74.30  1.210  15.00   \n",
              "3                72.0                1.0   6.794   5.332  74.16  0.802  14.42   \n",
              "6                69.0                0.0  11.886  17.120  65.20  2.550   9.70   \n",
              "7                72.0                1.0   6.850   4.670  68.10  1.520  22.20   \n",
              "15               83.0                1.0   9.122   7.002  71.80  0.994  14.10   \n",
              "\n",
              "      MON   MONp    EOS  ...   WBC-D   WBC-N  ASLYP  ASLYA  RELPL  RELYP  \\\n",
              "2   0.690   8.60  0.140  ...   8.000   8.060   0.00  0.000   6.60    1.0   \n",
              "3   0.400   6.16  0.058  ...   6.826   6.794   0.14  0.006  14.00    1.2   \n",
              "6   0.606  18.20  0.010  ...  11.630  11.886   0.40  0.100   9.40    0.9   \n",
              "7   0.500   7.30  0.080  ...   6.860   6.850   0.00  0.000  13.80    3.1   \n",
              "15  0.768   8.96  0.104  ...   9.122   9.122   0.00  0.014   9.72    2.0   \n",
              "\n",
              "    RELYA   NEUGI  NEURI  ASLPL  \n",
              "2   0.080  159.30  49.60   0.00  \n",
              "3   0.068  149.08  53.14   2.86  \n",
              "6   0.240  136.80  48.56   3.90  \n",
              "7   0.210  141.40  47.90   0.00  \n",
              "15  0.120  152.00  50.18   0.98  \n",
              "\n",
              "[5 rows x 66 columns]"
            ],
            "text/html": [
              "\n",
              "  <div id=\"df-1870b6e9-86f4-4a79-817d-a4cb8cdc6e5b\">\n",
              "    <div class=\"colab-df-container\">\n",
              "      <div>\n",
              "<style scoped>\n",
              "    .dataframe tbody tr th:only-of-type {\n",
              "        vertical-align: middle;\n",
              "    }\n",
              "\n",
              "    .dataframe tbody tr th {\n",
              "        vertical-align: top;\n",
              "    }\n",
              "\n",
              "    .dataframe thead th {\n",
              "        text-align: right;\n",
              "    }\n",
              "</style>\n",
              "<table border=\"1\" class=\"dataframe\">\n",
              "  <thead>\n",
              "    <tr style=\"text-align: right;\">\n",
              "      <th></th>\n",
              "      <th>Edad del Paciente</th>\n",
              "      <th>Sexo del Paciente</th>\n",
              "      <th>LEU</th>\n",
              "      <th>NEU</th>\n",
              "      <th>NEUp</th>\n",
              "      <th>LIN</th>\n",
              "      <th>LINp</th>\n",
              "      <th>MON</th>\n",
              "      <th>MONp</th>\n",
              "      <th>EOS</th>\n",
              "      <th>...</th>\n",
              "      <th>WBC-D</th>\n",
              "      <th>WBC-N</th>\n",
              "      <th>ASLYP</th>\n",
              "      <th>ASLYA</th>\n",
              "      <th>RELPL</th>\n",
              "      <th>RELYP</th>\n",
              "      <th>RELYA</th>\n",
              "      <th>NEUGI</th>\n",
              "      <th>NEURI</th>\n",
              "      <th>ASLPL</th>\n",
              "    </tr>\n",
              "  </thead>\n",
              "  <tbody>\n",
              "    <tr>\n",
              "      <th>2</th>\n",
              "      <td>76.0</td>\n",
              "      <td>0.0</td>\n",
              "      <td>8.060</td>\n",
              "      <td>5.980</td>\n",
              "      <td>74.30</td>\n",
              "      <td>1.210</td>\n",
              "      <td>15.00</td>\n",
              "      <td>0.690</td>\n",
              "      <td>8.60</td>\n",
              "      <td>0.140</td>\n",
              "      <td>...</td>\n",
              "      <td>8.000</td>\n",
              "      <td>8.060</td>\n",
              "      <td>0.00</td>\n",
              "      <td>0.000</td>\n",
              "      <td>6.60</td>\n",
              "      <td>1.0</td>\n",
              "      <td>0.080</td>\n",
              "      <td>159.30</td>\n",
              "      <td>49.60</td>\n",
              "      <td>0.00</td>\n",
              "    </tr>\n",
              "    <tr>\n",
              "      <th>3</th>\n",
              "      <td>72.0</td>\n",
              "      <td>1.0</td>\n",
              "      <td>6.794</td>\n",
              "      <td>5.332</td>\n",
              "      <td>74.16</td>\n",
              "      <td>0.802</td>\n",
              "      <td>14.42</td>\n",
              "      <td>0.400</td>\n",
              "      <td>6.16</td>\n",
              "      <td>0.058</td>\n",
              "      <td>...</td>\n",
              "      <td>6.826</td>\n",
              "      <td>6.794</td>\n",
              "      <td>0.14</td>\n",
              "      <td>0.006</td>\n",
              "      <td>14.00</td>\n",
              "      <td>1.2</td>\n",
              "      <td>0.068</td>\n",
              "      <td>149.08</td>\n",
              "      <td>53.14</td>\n",
              "      <td>2.86</td>\n",
              "    </tr>\n",
              "    <tr>\n",
              "      <th>6</th>\n",
              "      <td>69.0</td>\n",
              "      <td>0.0</td>\n",
              "      <td>11.886</td>\n",
              "      <td>17.120</td>\n",
              "      <td>65.20</td>\n",
              "      <td>2.550</td>\n",
              "      <td>9.70</td>\n",
              "      <td>0.606</td>\n",
              "      <td>18.20</td>\n",
              "      <td>0.010</td>\n",
              "      <td>...</td>\n",
              "      <td>11.630</td>\n",
              "      <td>11.886</td>\n",
              "      <td>0.40</td>\n",
              "      <td>0.100</td>\n",
              "      <td>9.40</td>\n",
              "      <td>0.9</td>\n",
              "      <td>0.240</td>\n",
              "      <td>136.80</td>\n",
              "      <td>48.56</td>\n",
              "      <td>3.90</td>\n",
              "    </tr>\n",
              "    <tr>\n",
              "      <th>7</th>\n",
              "      <td>72.0</td>\n",
              "      <td>1.0</td>\n",
              "      <td>6.850</td>\n",
              "      <td>4.670</td>\n",
              "      <td>68.10</td>\n",
              "      <td>1.520</td>\n",
              "      <td>22.20</td>\n",
              "      <td>0.500</td>\n",
              "      <td>7.30</td>\n",
              "      <td>0.080</td>\n",
              "      <td>...</td>\n",
              "      <td>6.860</td>\n",
              "      <td>6.850</td>\n",
              "      <td>0.00</td>\n",
              "      <td>0.000</td>\n",
              "      <td>13.80</td>\n",
              "      <td>3.1</td>\n",
              "      <td>0.210</td>\n",
              "      <td>141.40</td>\n",
              "      <td>47.90</td>\n",
              "      <td>0.00</td>\n",
              "    </tr>\n",
              "    <tr>\n",
              "      <th>15</th>\n",
              "      <td>83.0</td>\n",
              "      <td>1.0</td>\n",
              "      <td>9.122</td>\n",
              "      <td>7.002</td>\n",
              "      <td>71.80</td>\n",
              "      <td>0.994</td>\n",
              "      <td>14.10</td>\n",
              "      <td>0.768</td>\n",
              "      <td>8.96</td>\n",
              "      <td>0.104</td>\n",
              "      <td>...</td>\n",
              "      <td>9.122</td>\n",
              "      <td>9.122</td>\n",
              "      <td>0.00</td>\n",
              "      <td>0.014</td>\n",
              "      <td>9.72</td>\n",
              "      <td>2.0</td>\n",
              "      <td>0.120</td>\n",
              "      <td>152.00</td>\n",
              "      <td>50.18</td>\n",
              "      <td>0.98</td>\n",
              "    </tr>\n",
              "  </tbody>\n",
              "</table>\n",
              "<p>5 rows × 66 columns</p>\n",
              "</div>\n",
              "      <button class=\"colab-df-convert\" onclick=\"convertToInteractive('df-1870b6e9-86f4-4a79-817d-a4cb8cdc6e5b')\"\n",
              "              title=\"Convert this dataframe to an interactive table.\"\n",
              "              style=\"display:none;\">\n",
              "        \n",
              "  <svg xmlns=\"http://www.w3.org/2000/svg\" height=\"24px\"viewBox=\"0 0 24 24\"\n",
              "       width=\"24px\">\n",
              "    <path d=\"M0 0h24v24H0V0z\" fill=\"none\"/>\n",
              "    <path d=\"M18.56 5.44l.94 2.06.94-2.06 2.06-.94-2.06-.94-.94-2.06-.94 2.06-2.06.94zm-11 1L8.5 8.5l.94-2.06 2.06-.94-2.06-.94L8.5 2.5l-.94 2.06-2.06.94zm10 10l.94 2.06.94-2.06 2.06-.94-2.06-.94-.94-2.06-.94 2.06-2.06.94z\"/><path d=\"M17.41 7.96l-1.37-1.37c-.4-.4-.92-.59-1.43-.59-.52 0-1.04.2-1.43.59L10.3 9.45l-7.72 7.72c-.78.78-.78 2.05 0 2.83L4 21.41c.39.39.9.59 1.41.59.51 0 1.02-.2 1.41-.59l7.78-7.78 2.81-2.81c.8-.78.8-2.07 0-2.86zM5.41 20L4 18.59l7.72-7.72 1.47 1.35L5.41 20z\"/>\n",
              "  </svg>\n",
              "      </button>\n",
              "      \n",
              "  <style>\n",
              "    .colab-df-container {\n",
              "      display:flex;\n",
              "      flex-wrap:wrap;\n",
              "      gap: 12px;\n",
              "    }\n",
              "\n",
              "    .colab-df-convert {\n",
              "      background-color: #E8F0FE;\n",
              "      border: none;\n",
              "      border-radius: 50%;\n",
              "      cursor: pointer;\n",
              "      display: none;\n",
              "      fill: #1967D2;\n",
              "      height: 32px;\n",
              "      padding: 0 0 0 0;\n",
              "      width: 32px;\n",
              "    }\n",
              "\n",
              "    .colab-df-convert:hover {\n",
              "      background-color: #E2EBFA;\n",
              "      box-shadow: 0px 1px 2px rgba(60, 64, 67, 0.3), 0px 1px 3px 1px rgba(60, 64, 67, 0.15);\n",
              "      fill: #174EA6;\n",
              "    }\n",
              "\n",
              "    [theme=dark] .colab-df-convert {\n",
              "      background-color: #3B4455;\n",
              "      fill: #D2E3FC;\n",
              "    }\n",
              "\n",
              "    [theme=dark] .colab-df-convert:hover {\n",
              "      background-color: #434B5C;\n",
              "      box-shadow: 0px 1px 3px 1px rgba(0, 0, 0, 0.15);\n",
              "      filter: drop-shadow(0px 1px 2px rgba(0, 0, 0, 0.3));\n",
              "      fill: #FFFFFF;\n",
              "    }\n",
              "  </style>\n",
              "\n",
              "      <script>\n",
              "        const buttonEl =\n",
              "          document.querySelector('#df-1870b6e9-86f4-4a79-817d-a4cb8cdc6e5b button.colab-df-convert');\n",
              "        buttonEl.style.display =\n",
              "          google.colab.kernel.accessAllowed ? 'block' : 'none';\n",
              "\n",
              "        async function convertToInteractive(key) {\n",
              "          const element = document.querySelector('#df-1870b6e9-86f4-4a79-817d-a4cb8cdc6e5b');\n",
              "          const dataTable =\n",
              "            await google.colab.kernel.invokeFunction('convertToInteractive',\n",
              "                                                     [key], {});\n",
              "          if (!dataTable) return;\n",
              "\n",
              "          const docLinkHtml = 'Like what you see? Visit the ' +\n",
              "            '<a target=\"_blank\" href=https://colab.research.google.com/notebooks/data_table.ipynb>data table notebook</a>'\n",
              "            + ' to learn more about interactive tables.';\n",
              "          element.innerHTML = '';\n",
              "          dataTable['output_type'] = 'display_data';\n",
              "          await google.colab.output.renderOutput(dataTable, element);\n",
              "          const docLink = document.createElement('div');\n",
              "          docLink.innerHTML = docLinkHtml;\n",
              "          element.appendChild(docLink);\n",
              "        }\n",
              "      </script>\n",
              "    </div>\n",
              "  </div>\n",
              "  "
            ]
          },
          "metadata": {},
          "execution_count": 24
        }
      ],
      "source": [
        "x_test_1.head()"
      ]
    },
    {
      "cell_type": "code",
      "execution_count": 25,
      "metadata": {
        "id": "EkPqRC33NFTr"
      },
      "outputs": [],
      "source": [
        "#XGB = x_test.sample(n=40, replace=True, random_state=1)"
      ]
    },
    {
      "cell_type": "code",
      "execution_count": 26,
      "metadata": {
        "id": "i8ndp6UvLdGO"
      },
      "outputs": [],
      "source": [
        "#x_test.head"
      ]
    },
    {
      "cell_type": "code",
      "execution_count": 27,
      "metadata": {
        "id": "SSuWHayWDRG-"
      },
      "outputs": [],
      "source": [
        "#sss = StratifiedShuffleSplit(n_splits=1, test_size=0.625, random_state=1) #40 de 64 es el 0.625%\n",
        "#sss.split(x_test,y_test)"
      ]
    },
    {
      "cell_type": "code",
      "execution_count": 28,
      "metadata": {
        "id": "1f79zoLkQ9BZ"
      },
      "outputs": [],
      "source": [
        "#Oscar: we are going to call validation the new subset from X and y test\n",
        "\n",
        "#for train_index, test_index in sss.split(x_test, y_test):\n",
        "#    print(\"TRAIN:\", train_index, \"TEST:\", test_index)\n",
        "#    __, X_val = x_test.loc[train_index], x_test.loc[test_index]\n",
        "#    __, y_val = y_test[train_index], y_test[test_index]"
      ]
    },
    {
      "cell_type": "code",
      "execution_count": 29,
      "metadata": {
        "id": "QTEEPlxV6TTh"
      },
      "outputs": [],
      "source": [
        "#X_val['Revision']"
      ]
    },
    {
      "cell_type": "code",
      "execution_count": 30,
      "metadata": {
        "id": "xLmEMqllqMEm"
      },
      "outputs": [],
      "source": [
        "%%capture\n",
        "!pip install eli5"
      ]
    },
    {
      "cell_type": "code",
      "execution_count": 31,
      "metadata": {
        "id": "8ODkUYeAomcV"
      },
      "outputs": [],
      "source": [
        "%%capture\n",
        "!pip install category_encoders"
      ]
    },
    {
      "cell_type": "code",
      "execution_count": 32,
      "metadata": {
        "colab": {
          "base_uri": "https://localhost:8080/"
        },
        "id": "S18G4_7jlkjU",
        "outputId": "4af95562-0df6-4b60-b1a3-c6c11e27b126"
      },
      "outputs": [
        {
          "output_type": "stream",
          "name": "stderr",
          "text": [
            "/usr/local/lib/python3.7/dist-packages/statsmodels/tools/_testing.py:19: FutureWarning: pandas.util.testing is deprecated. Use the functions in the public API at pandas.testing instead.\n",
            "  import pandas.util.testing as tm\n"
          ]
        }
      ],
      "source": [
        "import eli5\n",
        "from eli5.sklearn import PermutationImportance\n",
        "import category_encoders as ce"
      ]
    },
    {
      "cell_type": "code",
      "source": [
        "perm = PermutationImportance(xgb_model, random_state=1).fit(x_test_WR, y_test)\n",
        "eli5.show_weights(perm, feature_names = x_test_WR.columns.tolist())"
      ],
      "metadata": {
        "colab": {
          "base_uri": "https://localhost:8080/",
          "height": 399
        },
        "id": "B_bYqbAuu5GK",
        "outputId": "752de576-4356-4598-b124-6318e110f9f0"
      },
      "execution_count": 33,
      "outputs": [
        {
          "output_type": "execute_result",
          "data": {
            "text/plain": [
              "<IPython.core.display.HTML object>"
            ],
            "text/html": [
              "\n",
              "    <style>\n",
              "    table.eli5-weights tr:hover {\n",
              "        filter: brightness(85%);\n",
              "    }\n",
              "</style>\n",
              "\n",
              "\n",
              "\n",
              "    \n",
              "\n",
              "    \n",
              "\n",
              "    \n",
              "\n",
              "    \n",
              "\n",
              "    \n",
              "\n",
              "    \n",
              "\n",
              "\n",
              "    \n",
              "\n",
              "    \n",
              "\n",
              "    \n",
              "\n",
              "    \n",
              "\n",
              "    \n",
              "\n",
              "    \n",
              "\n",
              "\n",
              "    \n",
              "\n",
              "    \n",
              "\n",
              "    \n",
              "\n",
              "    \n",
              "\n",
              "    \n",
              "        <table class=\"eli5-weights eli5-feature-importances\" style=\"border-collapse: collapse; border: none; margin-top: 0em; table-layout: auto;\">\n",
              "    <thead>\n",
              "    <tr style=\"border: none;\">\n",
              "        <th style=\"padding: 0 1em 0 0.5em; text-align: right; border: none;\">Weight</th>\n",
              "        <th style=\"padding: 0 0.5em 0 0.5em; text-align: left; border: none;\">Feature</th>\n",
              "    </tr>\n",
              "    </thead>\n",
              "    <tbody>\n",
              "    \n",
              "        <tr style=\"background-color: hsl(120, 100.00%, 80.00%); border: none;\">\n",
              "            <td style=\"padding: 0 1em 0 0.5em; text-align: right; border: none;\">\n",
              "                0.0250\n",
              "                \n",
              "                    &plusmn; 0.0153\n",
              "                \n",
              "            </td>\n",
              "            <td style=\"padding: 0 0.5em 0 0.5em; text-align: left; border: none;\">\n",
              "                MicR\n",
              "            </td>\n",
              "        </tr>\n",
              "    \n",
              "        <tr style=\"background-color: hsl(120, 100.00%, 87.69%); border: none;\">\n",
              "            <td style=\"padding: 0 1em 0 0.5em; text-align: right; border: none;\">\n",
              "                0.0125\n",
              "                \n",
              "                    &plusmn; 0.0125\n",
              "                \n",
              "            </td>\n",
              "            <td style=\"padding: 0 0.5em 0 0.5em; text-align: left; border: none;\">\n",
              "                NESFL\n",
              "            </td>\n",
              "        </tr>\n",
              "    \n",
              "        <tr style=\"background-color: hsl(120, 100.00%, 87.69%); border: none;\">\n",
              "            <td style=\"padding: 0 1em 0 0.5em; text-align: right; border: none;\">\n",
              "                0.0125\n",
              "                \n",
              "                    &plusmn; 0.0125\n",
              "                \n",
              "            </td>\n",
              "            <td style=\"padding: 0 0.5em 0 0.5em; text-align: left; border: none;\">\n",
              "                IG\n",
              "            </td>\n",
              "        </tr>\n",
              "    \n",
              "        <tr style=\"background-color: hsl(120, 100.00%, 92.42%); border: none;\">\n",
              "            <td style=\"padding: 0 1em 0 0.5em; text-align: right; border: none;\">\n",
              "                0.0063\n",
              "                \n",
              "                    &plusmn; 0.0153\n",
              "                \n",
              "            </td>\n",
              "            <td style=\"padding: 0 0.5em 0 0.5em; text-align: left; border: none;\">\n",
              "                HGB\n",
              "            </td>\n",
              "        </tr>\n",
              "    \n",
              "        <tr style=\"background-color: hsl(120, 100.00%, 92.42%); border: none;\">\n",
              "            <td style=\"padding: 0 1em 0 0.5em; text-align: right; border: none;\">\n",
              "                0.0063\n",
              "                \n",
              "                    &plusmn; 0.0153\n",
              "                \n",
              "            </td>\n",
              "            <td style=\"padding: 0 0.5em 0 0.5em; text-align: left; border: none;\">\n",
              "                IGp\n",
              "            </td>\n",
              "        </tr>\n",
              "    \n",
              "        <tr style=\"background-color: hsl(120, 100.00%, 92.42%); border: none;\">\n",
              "            <td style=\"padding: 0 1em 0 0.5em; text-align: right; border: none;\">\n",
              "                0.0063\n",
              "                \n",
              "                    &plusmn; 0.0319\n",
              "                \n",
              "            </td>\n",
              "            <td style=\"padding: 0 0.5em 0 0.5em; text-align: left; border: none;\">\n",
              "                LINp\n",
              "            </td>\n",
              "        </tr>\n",
              "    \n",
              "        <tr style=\"background-color: hsl(120, 100.00%, 92.42%); border: none;\">\n",
              "            <td style=\"padding: 0 1em 0 0.5em; text-align: right; border: none;\">\n",
              "                0.0063\n",
              "                \n",
              "                    &plusmn; 0.0153\n",
              "                \n",
              "            </td>\n",
              "            <td style=\"padding: 0 0.5em 0 0.5em; text-align: left; border: none;\">\n",
              "                HCM\n",
              "            </td>\n",
              "        </tr>\n",
              "    \n",
              "        <tr style=\"background-color: hsl(120, 100.00%, 92.42%); border: none;\">\n",
              "            <td style=\"padding: 0 1em 0 0.5em; text-align: right; border: none;\">\n",
              "                0.0063\n",
              "                \n",
              "                    &plusmn; 0.0424\n",
              "                \n",
              "            </td>\n",
              "            <td style=\"padding: 0 0.5em 0 0.5em; text-align: left; border: none;\">\n",
              "                MO-Y\n",
              "            </td>\n",
              "        </tr>\n",
              "    \n",
              "        <tr style=\"background-color: hsl(120, 100.00%, 95.33%); border: none;\">\n",
              "            <td style=\"padding: 0 1em 0 0.5em; text-align: right; border: none;\">\n",
              "                0.0031\n",
              "                \n",
              "                    &plusmn; 0.0125\n",
              "                \n",
              "            </td>\n",
              "            <td style=\"padding: 0 0.5em 0 0.5em; text-align: left; border: none;\">\n",
              "                LY-Y\n",
              "            </td>\n",
              "        </tr>\n",
              "    \n",
              "        <tr style=\"background-color: hsl(120, 100.00%, 95.33%); border: none;\">\n",
              "            <td style=\"padding: 0 1em 0 0.5em; text-align: right; border: none;\">\n",
              "                0.0031\n",
              "                \n",
              "                    &plusmn; 0.0125\n",
              "                \n",
              "            </td>\n",
              "            <td style=\"padding: 0 0.5em 0 0.5em; text-align: left; border: none;\">\n",
              "                RELPL\n",
              "            </td>\n",
              "        </tr>\n",
              "    \n",
              "        <tr style=\"background-color: hsl(120, 100.00%, 95.33%); border: none;\">\n",
              "            <td style=\"padding: 0 1em 0 0.5em; text-align: right; border: none;\">\n",
              "                0.0031\n",
              "                \n",
              "                    &plusmn; 0.0125\n",
              "                \n",
              "            </td>\n",
              "            <td style=\"padding: 0 0.5em 0 0.5em; text-align: left; border: none;\">\n",
              "                HFLCA\n",
              "            </td>\n",
              "        </tr>\n",
              "    \n",
              "        <tr style=\"background-color: hsl(120, 100.00%, 95.33%); border: none;\">\n",
              "            <td style=\"padding: 0 1em 0 0.5em; text-align: right; border: none;\">\n",
              "                0.0031\n",
              "                \n",
              "                    &plusmn; 0.0125\n",
              "                \n",
              "            </td>\n",
              "            <td style=\"padding: 0 0.5em 0 0.5em; text-align: left; border: none;\">\n",
              "                NEUp\n",
              "            </td>\n",
              "        </tr>\n",
              "    \n",
              "        <tr style=\"background-color: hsl(0, 100.00%, 100.00%); border: none;\">\n",
              "            <td style=\"padding: 0 1em 0 0.5em; text-align: right; border: none;\">\n",
              "                0\n",
              "                \n",
              "                    &plusmn; 0.0000\n",
              "                \n",
              "            </td>\n",
              "            <td style=\"padding: 0 0.5em 0 0.5em; text-align: left; border: none;\">\n",
              "                PLTI\n",
              "            </td>\n",
              "        </tr>\n",
              "    \n",
              "        <tr style=\"background-color: hsl(0, 100.00%, 100.00%); border: none;\">\n",
              "            <td style=\"padding: 0 1em 0 0.5em; text-align: right; border: none;\">\n",
              "                0\n",
              "                \n",
              "                    &plusmn; 0.0000\n",
              "                \n",
              "            </td>\n",
              "            <td style=\"padding: 0 0.5em 0 0.5em; text-align: left; border: none;\">\n",
              "                ERBLp\n",
              "            </td>\n",
              "        </tr>\n",
              "    \n",
              "        <tr style=\"background-color: hsl(0, 100.00%, 100.00%); border: none;\">\n",
              "            <td style=\"padding: 0 1em 0 0.5em; text-align: right; border: none;\">\n",
              "                0\n",
              "                \n",
              "                    &plusmn; 0.0000\n",
              "                \n",
              "            </td>\n",
              "            <td style=\"padding: 0 0.5em 0 0.5em; text-align: left; border: none;\">\n",
              "                PLT\n",
              "            </td>\n",
              "        </tr>\n",
              "    \n",
              "        <tr style=\"background-color: hsl(0, 100.00%, 100.00%); border: none;\">\n",
              "            <td style=\"padding: 0 1em 0 0.5em; text-align: right; border: none;\">\n",
              "                0\n",
              "                \n",
              "                    &plusmn; 0.0000\n",
              "                \n",
              "            </td>\n",
              "            <td style=\"padding: 0 0.5em 0 0.5em; text-align: left; border: none;\">\n",
              "                CHCM\n",
              "            </td>\n",
              "        </tr>\n",
              "    \n",
              "        <tr style=\"background-color: hsl(0, 100.00%, 100.00%); border: none;\">\n",
              "            <td style=\"padding: 0 1em 0 0.5em; text-align: right; border: none;\">\n",
              "                0\n",
              "                \n",
              "                    &plusmn; 0.0000\n",
              "                \n",
              "            </td>\n",
              "            <td style=\"padding: 0 0.5em 0 0.5em; text-align: left; border: none;\">\n",
              "                VPM\n",
              "            </td>\n",
              "        </tr>\n",
              "    \n",
              "        <tr style=\"background-color: hsl(0, 100.00%, 100.00%); border: none;\">\n",
              "            <td style=\"padding: 0 1em 0 0.5em; text-align: right; border: none;\">\n",
              "                0\n",
              "                \n",
              "                    &plusmn; 0.0000\n",
              "                \n",
              "            </td>\n",
              "            <td style=\"padding: 0 0.5em 0 0.5em; text-align: left; border: none;\">\n",
              "                MONp\n",
              "            </td>\n",
              "        </tr>\n",
              "    \n",
              "        <tr style=\"background-color: hsl(0, 100.00%, 100.00%); border: none;\">\n",
              "            <td style=\"padding: 0 1em 0 0.5em; text-align: right; border: none;\">\n",
              "                0\n",
              "                \n",
              "                    &plusmn; 0.0000\n",
              "                \n",
              "            </td>\n",
              "            <td style=\"padding: 0 0.5em 0 0.5em; text-align: left; border: none;\">\n",
              "                RDW\n",
              "            </td>\n",
              "        </tr>\n",
              "    \n",
              "        <tr style=\"background-color: hsl(0, 100.00%, 100.00%); border: none;\">\n",
              "            <td style=\"padding: 0 1em 0 0.5em; text-align: right; border: none;\">\n",
              "                0\n",
              "                \n",
              "                    &plusmn; 0.0000\n",
              "                \n",
              "            </td>\n",
              "            <td style=\"padding: 0 0.5em 0 0.5em; text-align: left; border: none;\">\n",
              "                ERBL\n",
              "            </td>\n",
              "        </tr>\n",
              "    \n",
              "    \n",
              "        \n",
              "            <tr style=\"background-color: hsl(0, 100.00%, 100.00%); border: none;\">\n",
              "                <td colspan=\"2\" style=\"padding: 0 0.5em 0 0.5em; text-align: center; border: none; white-space: nowrap;\">\n",
              "                    <i>&hellip; 46 more &hellip;</i>\n",
              "                </td>\n",
              "            </tr>\n",
              "        \n",
              "    \n",
              "    </tbody>\n",
              "</table>\n",
              "    \n",
              "\n",
              "    \n",
              "\n",
              "\n",
              "    \n",
              "\n",
              "    \n",
              "\n",
              "    \n",
              "\n",
              "    \n",
              "\n",
              "    \n",
              "\n",
              "    \n",
              "\n",
              "\n",
              "\n"
            ]
          },
          "metadata": {},
          "execution_count": 33
        }
      ]
    },
    {
      "cell_type": "markdown",
      "source": [
        "### OSCAR"
      ],
      "metadata": {
        "id": "br_Dd7DHmeh8"
      }
    },
    {
      "cell_type": "code",
      "execution_count": 34,
      "metadata": {
        "id": "59LRT5CVmRf2",
        "colab": {
          "base_uri": "https://localhost:8080/",
          "height": 140
        },
        "outputId": "633fb341-4ad7-4940-f64d-e9ce970e9acf"
      },
      "outputs": [
        {
          "output_type": "execute_result",
          "data": {
            "text/plain": [
              "\"\\ndef permutation (x_train, y_train, x_test, y_test):\\n  encoder = ce.OneHotEncoder(use_cat_names=True)\\n\\n  x_train_s = encoder.fit_transform(x_train_1)\\n  x_test_s = encoder.transform(x_test_WR)\\n\\n  #Fitting the model.\\n  model = xgb.XGBClassifier(random_state=42)\\n  model.fit(x_train_s, y_train_1)\\n\\n  permuter = PermutationImportance(\\n      estimator = model,\\n      scoring = 'r2',\\n      n_iter = 5,\\n      random_state = 42)\\n  \\n  permuter.fit(x_test_s, y_test)\\n\\n  columns = x_test_s.columns.to_list()\\n\\n  feature_importance = permuter.feature_importances_\\n\\n  pd.Series(feature_importance, columns).sort_values(ascending=False)\\n\\n  metric = eli5.show_weights(\\n      estimator = permuter,\\n      top = None,\\n      feature_names = columns)\\n  \\n  return metric\\n\""
            ],
            "application/vnd.google.colaboratory.intrinsic+json": {
              "type": "string"
            }
          },
          "metadata": {},
          "execution_count": 34
        }
      ],
      "source": [
        "\"\"\"\n",
        "def permutation (x_train, y_train, x_test, y_test):\n",
        "  encoder = ce.OneHotEncoder(use_cat_names=True)\n",
        "\n",
        "  x_train_s = encoder.fit_transform(x_train_1)\n",
        "  x_test_s = encoder.transform(x_test_WR)\n",
        "\n",
        "  #Fitting the model.\n",
        "  model = xgb.XGBClassifier(random_state=42)\n",
        "  model.fit(x_train_s, y_train_1)\n",
        "\n",
        "  permuter = PermutationImportance(\n",
        "      estimator = model,\n",
        "      scoring = 'r2',\n",
        "      n_iter = 5,\n",
        "      random_state = 42)\n",
        "  \n",
        "  permuter.fit(x_test_s, y_test)\n",
        "\n",
        "  columns = x_test_s.columns.to_list()\n",
        "\n",
        "  feature_importance = permuter.feature_importances_\n",
        "\n",
        "  pd.Series(feature_importance, columns).sort_values(ascending=False)\n",
        "\n",
        "  metric = eli5.show_weights(\n",
        "      estimator = permuter,\n",
        "      top = None,\n",
        "      feature_names = columns)\n",
        "  \n",
        "  return metric\n",
        "\"\"\""
      ]
    },
    {
      "cell_type": "code",
      "execution_count": 35,
      "metadata": {
        "id": "XZOnQgS8oZzD"
      },
      "outputs": [],
      "source": [
        "#permutation(x_train_1, y_train_1, x_test_WR, y_test) #si pongo x_train, y_train, x_test e y_test funciona ¿?¿?¿?"
      ]
    },
    {
      "cell_type": "markdown",
      "source": [
        "### HASTA AQUI"
      ],
      "metadata": {
        "id": "KSXuySCTm3wy"
      }
    },
    {
      "cell_type": "code",
      "execution_count": 36,
      "metadata": {
        "id": "j2lDeTU6zZ47",
        "colab": {
          "base_uri": "https://localhost:8080/",
          "height": 325
        },
        "outputId": "cb23fc24-f14c-4317-cf52-d3d2479ce011"
      },
      "outputs": [
        {
          "output_type": "stream",
          "name": "stdout",
          "text": [
            "1.0\n"
          ]
        },
        {
          "output_type": "display_data",
          "data": {
            "text/plain": [
              "<Figure size 1440x432 with 1 Axes>"
            ],
            "image/png": "[encoded data removed]"
          },
          "metadata": {
            "needs_background": "light"
          }
        }
      ],
      "source": [
        "import seaborn as sns\n",
        "#Plot feature importance\n",
        "def plot_feature_importance(importance,names,model_type):\n",
        "\n",
        "  #Create arrays from feature importance and feature names\n",
        "  feature_importance = np.array(importance)\n",
        "  feature_names = np.array(names)\n",
        "\n",
        "  #Create a DataFrame using a Dictionary\n",
        "  data={'feature_names':feature_names,'feature_importance':feature_importance}\n",
        "  fi_df = pd.DataFrame(data)\n",
        "\n",
        "  #Sort the DataFrame in order decreasing feature importance\n",
        "  fi_df.sort_values(by=['feature_importance'], ascending=False,inplace=True)\n",
        "\n",
        "  #Define size of bar plot\n",
        "  fig = plt.figure(figsize=(20,6))\n",
        "  #Plot Searborn bar chart\n",
        "  sns.barplot(y=fi_df['feature_importance'], x=fi_df['feature_names'])\n",
        "  #Add chart labels\n",
        "  plt.title(model_type + 'FEATURE IMPORTANCE')\n",
        "  plt.xlabel('FEATURE IMPORTANCE')\n",
        "  plt.ylabel('FEATURE NAMES')\n",
        "  plt.tight_layout()\n",
        "  fig.autofmt_xdate(rotation=45)\n",
        "\n",
        "\n",
        "plot_feature_importance(xgb_model.feature_importances_*100,x_train_1.columns,'XGBoost ')\n",
        "\n",
        "print(np.sum(xgb_model.feature_importances_))"
      ]
    },
    {
      "cell_type": "markdown",
      "metadata": {
        "id": "rRc6k4ErgEKI"
      },
      "source": [
        "A partir de este gráfico se puede observar la importancia de cada característica haciendo uso de XGBoost. Así pues, VCM es la variable que aporta mayor información al realizar la tarea de clasificación, con lo que permitirá, en mayor medida, diferenciar un paciente sano de uno no sano. No obstante, las 3  variables siguientes MO-Y, MacR y IG también presentan información relevante para la predicción."
      ]
    },
    {
      "cell_type": "markdown",
      "metadata": {
        "id": "Lw5m7_pB2id9"
      },
      "source": [
        "**Selección de las características en base a la importancia de éstas**"
      ]
    },
    {
      "cell_type": "code",
      "execution_count": 37,
      "metadata": {
        "id": "0iM8ZAFW0kJV",
        "scrolled": false,
        "colab": {
          "base_uri": "https://localhost:8080/",
          "height": 122
        },
        "outputId": "27b4d0f9-488b-44dc-9a60-8e8f4a5fa2c7"
      },
      "outputs": [
        {
          "output_type": "execute_result",
          "data": {
            "text/plain": [
              "'\\n#SelectFromModel\\n\\nscores_cv = []\\nthresholds = np.sort(xgb_model.feature_importances_) # obtiene la importancia de cada característica\\ni = 0\\nfor thresh in thresholds:\\n    print(\"{} de {}\".format(i,len(thresholds)))\\n    selection = SelectFromModel(xgb_model, threshold=thresh, prefit=True)\\n    select_x_train_1 = selection.transform(x_train_1)\\n    # train model\\n    selection_model = xgb.XGBClassifier(colsample_bytree=0.7, gamma=0.3, learning_rate=0.3, max_depth=8, use_label_encoder = False)\\n    #cv estimation\\n    sc =cross_val_score(selection_model, select_x_train_1, y_train_1, cv=10, scoring=\\'roc_auc\\',n_jobs=-1)\\n    scores_cv.append(sc)\\n    i+=1\\n\\n'"
            ],
            "application/vnd.google.colaboratory.intrinsic+json": {
              "type": "string"
            }
          },
          "metadata": {},
          "execution_count": 37
        }
      ],
      "source": [
        "\"\"\"\n",
        "#SelectFromModel\n",
        "\n",
        "scores_cv = []\n",
        "thresholds = np.sort(xgb_model.feature_importances_) # obtiene la importancia de cada característica\n",
        "i = 0\n",
        "for thresh in thresholds:\n",
        "    print(\"{} de {}\".format(i,len(thresholds)))\n",
        "    selection = SelectFromModel(xgb_model, threshold=thresh, prefit=True)\n",
        "    select_x_train_1 = selection.transform(x_train_1)\n",
        "    # train model\n",
        "    selection_model = xgb.XGBClassifier(colsample_bytree=0.7, gamma=0.3, learning_rate=0.3, max_depth=8, use_label_encoder = False)\n",
        "    #cv estimation\n",
        "    sc =cross_val_score(selection_model, select_x_train_1, y_train_1, cv=10, scoring='roc_auc',n_jobs=-1)\n",
        "    scores_cv.append(sc)\n",
        "    i+=1\n",
        "\n",
        "\"\"\""
      ]
    },
    {
      "cell_type": "code",
      "execution_count": 38,
      "metadata": {
        "id": "dZpG_Bv92uN-",
        "colab": {
          "base_uri": "https://localhost:8080/",
          "height": 87
        },
        "outputId": "ead4bc84-6285-4a97-fcf1-346473e5916b"
      },
      "outputs": [
        {
          "output_type": "execute_result",
          "data": {
            "text/plain": [
              "\"\\nplt.rc('xtick',labelsize=15)\\nplt.rc('ytick',labelsize=15)\\nplt.figure(figsize = (80,20))\\nsc_cv = np.asarray(scores_cv)\\nscores_m = np.mean(sc_cv,axis = 1)\\nscores_std = np.std(sc_cv,axis = 1)\\nxx = np.arange(len(scores_m))\\nplt.plot(xx,scores_m,'o-')\\nplt.grid()\\n_ = plt.xticks(xx,labels= np.arange(1,len(scores_m)+1))\\nplt.xlabel('Number of features removed')\\nplt.ylabel('Accuracy')\\nplt.ylim([0.5,1])\\n\""
            ],
            "application/vnd.google.colaboratory.intrinsic+json": {
              "type": "string"
            }
          },
          "metadata": {},
          "execution_count": 38
        }
      ],
      "source": [
        "\"\"\"\n",
        "plt.rc('xtick',labelsize=15)\n",
        "plt.rc('ytick',labelsize=15)\n",
        "plt.figure(figsize = (80,20))\n",
        "sc_cv = np.asarray(scores_cv)\n",
        "scores_m = np.mean(sc_cv,axis = 1)\n",
        "scores_std = np.std(sc_cv,axis = 1)\n",
        "xx = np.arange(len(scores_m))\n",
        "plt.plot(xx,scores_m,'o-')\n",
        "plt.grid()\n",
        "_ = plt.xticks(xx,labels= np.arange(1,len(scores_m)+1))\n",
        "plt.xlabel('Number of features removed')\n",
        "plt.ylabel('Accuracy')\n",
        "plt.ylim([0.5,1])\n",
        "\"\"\""
      ]
    },
    {
      "cell_type": "markdown",
      "metadata": {
        "id": "UPWHtcuDgz84"
      },
      "source": [
        "Esta gráfica muestra el ***accuracy*** que se alcanza cuando se escogen X características. Desde la izquierda hacia la derecha se van quitando variables consecutivamente, y se puede observar que la predicción del modelo no se degrada hasta llegar a 67 variables. Es decir, solo quedándonos con 4  variables, el modelo es capaz de tener el mismo desempeño en predicción que utilizando todas las variables. Estas característica son las 4 primeras representadas anteriormente en la gráfica anterior.\n",
        "\n",
        "Además siempre es preferible tener un modelo menos complejo para que de esta forma pueda haber una mejor generalizacion con la incorporación de datos nuevos."
      ]
    },
    {
      "cell_type": "markdown",
      "metadata": {
        "id": "N2Ic4559fxkF"
      },
      "source": [
        "## 1.4 Rendimiento con FS en el conjunto de test"
      ]
    },
    {
      "cell_type": "code",
      "execution_count": 39,
      "metadata": {
        "id": "bbNtndTNWPbj",
        "colab": {
          "base_uri": "https://localhost:8080/",
          "height": 122
        },
        "outputId": "ce0fcf8b-5878-49f9-a606-ec1077be71e8"
      },
      "outputs": [
        {
          "output_type": "execute_result",
          "data": {
            "text/plain": [
              "'\\ndef rf_feat_importance(m, df):\\n    return pd.DataFrame({\\'cols\\':df.columns, \\'imp\\':m.feature_importances_}\\n                       ).sort_values(\\'imp\\', ascending=False)\\n\\n#convert into a dataframe with sorted feature importances\\nfi = rf_feat_importance(xgb_model,x_train_1)\\n\\n#select the features\\nselected_features_RF = fi[:len(fi)-63][\\'cols\\'].to_list()\\nprint(\"Numero de variables seleccionadas Pars:\",len(selected_features_RF))\\nprint(\"Selected features:\",selected_features_RF)\\n\\n\\nX_train_FT_xgb = x_train_1[selected_features_RF]\\nX_test_FT_xgb = x_test[selected_features_RF]\\n'"
            ],
            "application/vnd.google.colaboratory.intrinsic+json": {
              "type": "string"
            }
          },
          "metadata": {},
          "execution_count": 39
        }
      ],
      "source": [
        "\"\"\"\n",
        "def rf_feat_importance(m, df):\n",
        "    return pd.DataFrame({'cols':df.columns, 'imp':m.feature_importances_}\n",
        "                       ).sort_values('imp', ascending=False)\n",
        "\n",
        "#convert into a dataframe with sorted feature importances\n",
        "fi = rf_feat_importance(xgb_model,x_train_1)\n",
        "\n",
        "#select the features\n",
        "selected_features_RF = fi[:len(fi)-63]['cols'].to_list()\n",
        "print(\"Numero de variables seleccionadas Pars:\",len(selected_features_RF))\n",
        "print(\"Selected features:\",selected_features_RF)\n",
        "\n",
        "\n",
        "X_train_FT_xgb = x_train_1[selected_features_RF]\n",
        "X_test_FT_xgb = x_test[selected_features_RF]\n",
        "\"\"\""
      ]
    },
    {
      "cell_type": "markdown",
      "source": [
        "Selecciono las características del método permutation importance haciendo uso de .loc"
      ],
      "metadata": {
        "id": "8-01VFxvVyRZ"
      }
    },
    {
      "cell_type": "code",
      "source": [
        "X_train_FT_xgb = x_train_1.loc[:,['MicR', 'LINp', 'HGB', 'HCM', 'NEUp', 'HFLCA', 'RELPL', 'ERIT', 'IGp']]\n",
        "X_test_FT_xgb = x_test_WR.loc[:,['MicR', 'LINp', 'HGB', 'HCM', 'NEUp', 'HFLCA', 'RELPL', 'ERIT', 'IGp']]"
      ],
      "metadata": {
        "id": "1c3t5y-FUdCJ"
      },
      "execution_count": 40,
      "outputs": []
    },
    {
      "cell_type": "code",
      "execution_count": 41,
      "metadata": {
        "id": "B1OHoycnkr11",
        "colab": {
          "base_uri": "https://localhost:8080/"
        },
        "outputId": "2e8b7e9d-dca1-447f-d774-e3704fb78ef6"
      },
      "outputs": [
        {
          "output_type": "execute_result",
          "data": {
            "text/plain": [
              "XGBClassifier(colsample_bytree=0.45, gamma=0.3, learning_rate=0.15,\n",
              "              max_depth=16, n_estimators=202)"
            ]
          },
          "metadata": {},
          "execution_count": 41
        }
      ],
      "source": [
        "xgb_FS = xgb.XGBClassifier(colsample_bytree=0.45, gamma=0.3, learning_rate=0.15,\n",
        "              max_depth=16, n_estimators=202)\n",
        "xgb_FS.fit(X_train_FT_xgb, y_train_1)"
      ]
    },
    {
      "cell_type": "code",
      "execution_count": 42,
      "metadata": {
        "id": "bIYve4K_eYNf",
        "colab": {
          "base_uri": "https://localhost:8080/",
          "height": 175
        },
        "outputId": "040fc859-9948-41c1-81ac-0929d624aa26"
      },
      "outputs": [
        {
          "output_type": "execute_result",
          "data": {
            "text/plain": [
              "  Prestaciones en test  XGBoost total  XGBoost 8 features \n",
              "0             Accuracy       0.781250             0.828125\n",
              "1          Sensibility       0.250000             0.416667\n",
              "2          Specificity       0.903846             0.923077\n",
              "3              AUC ROC       0.576923             0.669872"
            ],
            "text/html": [
              "\n",
              "  <div id=\"df-fae9e1ab-8a85-4ac4-b4a7-8d924b666f85\">\n",
              "    <div class=\"colab-df-container\">\n",
              "      <div>\n",
              "<style scoped>\n",
              "    .dataframe tbody tr th:only-of-type {\n",
              "        vertical-align: middle;\n",
              "    }\n",
              "\n",
              "    .dataframe tbody tr th {\n",
              "        vertical-align: top;\n",
              "    }\n",
              "\n",
              "    .dataframe thead th {\n",
              "        text-align: right;\n",
              "    }\n",
              "</style>\n",
              "<table border=\"1\" class=\"dataframe\">\n",
              "  <thead>\n",
              "    <tr style=\"text-align: right;\">\n",
              "      <th></th>\n",
              "      <th>Prestaciones en test</th>\n",
              "      <th>XGBoost total</th>\n",
              "      <th>XGBoost 8 features</th>\n",
              "    </tr>\n",
              "  </thead>\n",
              "  <tbody>\n",
              "    <tr>\n",
              "      <th>0</th>\n",
              "      <td>Accuracy</td>\n",
              "      <td>0.781250</td>\n",
              "      <td>0.828125</td>\n",
              "    </tr>\n",
              "    <tr>\n",
              "      <th>1</th>\n",
              "      <td>Sensibility</td>\n",
              "      <td>0.250000</td>\n",
              "      <td>0.416667</td>\n",
              "    </tr>\n",
              "    <tr>\n",
              "      <th>2</th>\n",
              "      <td>Specificity</td>\n",
              "      <td>0.903846</td>\n",
              "      <td>0.923077</td>\n",
              "    </tr>\n",
              "    <tr>\n",
              "      <th>3</th>\n",
              "      <td>AUC ROC</td>\n",
              "      <td>0.576923</td>\n",
              "      <td>0.669872</td>\n",
              "    </tr>\n",
              "  </tbody>\n",
              "</table>\n",
              "</div>\n",
              "      <button class=\"colab-df-convert\" onclick=\"convertToInteractive('df-fae9e1ab-8a85-4ac4-b4a7-8d924b666f85')\"\n",
              "              title=\"Convert this dataframe to an interactive table.\"\n",
              "              style=\"display:none;\">\n",
              "        \n",
              "  <svg xmlns=\"http://www.w3.org/2000/svg\" height=\"24px\"viewBox=\"0 0 24 24\"\n",
              "       width=\"24px\">\n",
              "    <path d=\"M0 0h24v24H0V0z\" fill=\"none\"/>\n",
              "    <path d=\"M18.56 5.44l.94 2.06.94-2.06 2.06-.94-2.06-.94-.94-2.06-.94 2.06-2.06.94zm-11 1L8.5 8.5l.94-2.06 2.06-.94-2.06-.94L8.5 2.5l-.94 2.06-2.06.94zm10 10l.94 2.06.94-2.06 2.06-.94-2.06-.94-.94-2.06-.94 2.06-2.06.94z\"/><path d=\"M17.41 7.96l-1.37-1.37c-.4-.4-.92-.59-1.43-.59-.52 0-1.04.2-1.43.59L10.3 9.45l-7.72 7.72c-.78.78-.78 2.05 0 2.83L4 21.41c.39.39.9.59 1.41.59.51 0 1.02-.2 1.41-.59l7.78-7.78 2.81-2.81c.8-.78.8-2.07 0-2.86zM5.41 20L4 18.59l7.72-7.72 1.47 1.35L5.41 20z\"/>\n",
              "  </svg>\n",
              "      </button>\n",
              "      \n",
              "  <style>\n",
              "    .colab-df-container {\n",
              "      display:flex;\n",
              "      flex-wrap:wrap;\n",
              "      gap: 12px;\n",
              "    }\n",
              "\n",
              "    .colab-df-convert {\n",
              "      background-color: #E8F0FE;\n",
              "      border: none;\n",
              "      border-radius: 50%;\n",
              "      cursor: pointer;\n",
              "      display: none;\n",
              "      fill: #1967D2;\n",
              "      height: 32px;\n",
              "      padding: 0 0 0 0;\n",
              "      width: 32px;\n",
              "    }\n",
              "\n",
              "    .colab-df-convert:hover {\n",
              "      background-color: #E2EBFA;\n",
              "      box-shadow: 0px 1px 2px rgba(60, 64, 67, 0.3), 0px 1px 3px 1px rgba(60, 64, 67, 0.15);\n",
              "      fill: #174EA6;\n",
              "    }\n",
              "\n",
              "    [theme=dark] .colab-df-convert {\n",
              "      background-color: #3B4455;\n",
              "      fill: #D2E3FC;\n",
              "    }\n",
              "\n",
              "    [theme=dark] .colab-df-convert:hover {\n",
              "      background-color: #434B5C;\n",
              "      box-shadow: 0px 1px 3px 1px rgba(0, 0, 0, 0.15);\n",
              "      filter: drop-shadow(0px 1px 2px rgba(0, 0, 0, 0.3));\n",
              "      fill: #FFFFFF;\n",
              "    }\n",
              "  </style>\n",
              "\n",
              "      <script>\n",
              "        const buttonEl =\n",
              "          document.querySelector('#df-fae9e1ab-8a85-4ac4-b4a7-8d924b666f85 button.colab-df-convert');\n",
              "        buttonEl.style.display =\n",
              "          google.colab.kernel.accessAllowed ? 'block' : 'none';\n",
              "\n",
              "        async function convertToInteractive(key) {\n",
              "          const element = document.querySelector('#df-fae9e1ab-8a85-4ac4-b4a7-8d924b666f85');\n",
              "          const dataTable =\n",
              "            await google.colab.kernel.invokeFunction('convertToInteractive',\n",
              "                                                     [key], {});\n",
              "          if (!dataTable) return;\n",
              "\n",
              "          const docLinkHtml = 'Like what you see? Visit the ' +\n",
              "            '<a target=\"_blank\" href=https://colab.research.google.com/notebooks/data_table.ipynb>data table notebook</a>'\n",
              "            + ' to learn more about interactive tables.';\n",
              "          element.innerHTML = '';\n",
              "          dataTable['output_type'] = 'display_data';\n",
              "          await google.colab.output.renderOutput(dataTable, element);\n",
              "          const docLink = document.createElement('div');\n",
              "          docLink.innerHTML = docLinkHtml;\n",
              "          element.appendChild(docLink);\n",
              "        }\n",
              "      </script>\n",
              "    </div>\n",
              "  </div>\n",
              "  "
            ]
          },
          "metadata": {},
          "execution_count": 42
        }
      ],
      "source": [
        "from sklearn.metrics import roc_auc_score\n",
        "\n",
        "#Todas las características\n",
        "y_pred_tot = xgb_model.predict(x_test_WR)\n",
        "acc_tot = accuracy_score(y_test, y_pred_tot)\n",
        "sensibilidad_tot = recall_score(y_test, y_pred_tot)\n",
        "#precision_tot=precision_score(y_test, y_pred_tot)\n",
        "specificity_tot = confusion_matrix(y_test, y_pred_tot)[0][0]/(confusion_matrix(y_test, y_pred_tot)[0][0]+confusion_matrix(y_test, y_pred_tot)[0][1])\n",
        "auc_tot = roc_auc_score(y_test, y_pred_tot)\n",
        "\n",
        "\n",
        "#8 características \n",
        "y_pred_8 = xgb_FS.predict(X_test_FT_xgb)\n",
        "acc_8 = accuracy_score(y_test, y_pred_8)\n",
        "sensibilidad_8 = recall_score(y_test, y_pred_8)\n",
        "#precision_8 = precision_score(y_test, y_pred_8)\n",
        "specificity_8 = confusion_matrix(y_test, y_pred_8)[0][0]/(confusion_matrix(y_test, y_pred_8)[0][0]+confusion_matrix(y_test, y_pred_8)[0][1])\n",
        "auc_8 = roc_auc_score(y_test, y_pred_8)\n",
        "\n",
        "Tabla_xgb = pd.DataFrame({\"Prestaciones en test\":[\"Accuracy\",\"Sensibility\",'Specificity',\"AUC ROC\"],\n",
        "                          \"XGBoost total\" : [acc_tot, sensibilidad_tot, specificity_tot, auc_tot], \n",
        "                      \"XGBoost 8 features \" : [acc_8, sensibilidad_8, specificity_8, auc_8]})\n",
        "Tabla_xgb"
      ]
    },
    {
      "cell_type": "code",
      "execution_count": 43,
      "metadata": {
        "id": "h4yngAoGR3pp",
        "colab": {
          "base_uri": "https://localhost:8080/",
          "height": 367
        },
        "outputId": "95e0ee7f-e03d-4b93-9851-534a35da4d0f"
      },
      "outputs": [
        {
          "output_type": "stream",
          "name": "stderr",
          "text": [
            "/usr/local/lib/python3.7/dist-packages/sklearn/utils/deprecation.py:87: FutureWarning: Function plot_confusion_matrix is deprecated; Function `plot_confusion_matrix` is deprecated in 1.0 and will be removed in 1.2. Use one of the class methods: ConfusionMatrixDisplay.from_predictions or ConfusionMatrixDisplay.from_estimator.\n",
            "  warnings.warn(msg, category=FutureWarning)\n"
          ]
        },
        {
          "output_type": "execute_result",
          "data": {
            "text/plain": [
              "Text(0.5, 1.0, 'XGBoost all features')"
            ]
          },
          "metadata": {},
          "execution_count": 43
        },
        {
          "output_type": "display_data",
          "data": {
            "text/plain": [
              "<Figure size 432x288 with 2 Axes>"
            ],
            "image/png": "[encoded data removed]"
          },
          "metadata": {
            "needs_background": "light"
          }
        }
      ],
      "source": [
        "from sklearn.metrics import plot_confusion_matrix\n",
        "\n",
        "#XGBoost all features\n",
        "plot_confusion_matrix(xgb_model, x_test_WR, y_test, display_labels=[\"Sano\",\"No sano\"],\n",
        "                                 cmap=plt.cm.Blues)\n",
        "plt.title(\"XGBoost all features\")\n"
      ]
    },
    {
      "cell_type": "code",
      "execution_count": 44,
      "metadata": {
        "id": "XXjpBigeVV1p",
        "colab": {
          "base_uri": "https://localhost:8080/",
          "height": 367
        },
        "outputId": "747d3566-77d1-4f43-d3af-b3e412aeafc2"
      },
      "outputs": [
        {
          "output_type": "stream",
          "name": "stderr",
          "text": [
            "/usr/local/lib/python3.7/dist-packages/sklearn/utils/deprecation.py:87: FutureWarning: Function plot_confusion_matrix is deprecated; Function `plot_confusion_matrix` is deprecated in 1.0 and will be removed in 1.2. Use one of the class methods: ConfusionMatrixDisplay.from_predictions or ConfusionMatrixDisplay.from_estimator.\n",
            "  warnings.warn(msg, category=FutureWarning)\n"
          ]
        },
        {
          "output_type": "execute_result",
          "data": {
            "text/plain": [
              "Text(0.5, 1.0, 'XGBoost 8 features')"
            ]
          },
          "metadata": {},
          "execution_count": 44
        },
        {
          "output_type": "display_data",
          "data": {
            "text/plain": [
              "<Figure size 432x288 with 2 Axes>"
            ],
            "image/png": "[encoded data removed]"
          },
          "metadata": {
            "needs_background": "light"
          }
        }
      ],
      "source": [
        "#XGBoost 8 features\n",
        "plot_confusion_matrix(xgb_FS, X_test_FT_xgb, y_test,display_labels=[\"Sano\",\"No sano\"],\n",
        "                                 cmap=plt.cm.Blues)\n",
        "plt.title(\"XGBoost 8 features\")\n"
      ]
    },
    {
      "cell_type": "markdown",
      "metadata": {
        "id": "B8MaaLxwrHnY"
      },
      "source": [
        "# 2. Gradient Boosting"
      ]
    },
    {
      "cell_type": "code",
      "execution_count": 45,
      "metadata": {
        "id": "YK45kpe0BT4W"
      },
      "outputs": [],
      "source": [
        "from sklearn.datasets import make_hastie_10_2\n",
        "from sklearn.ensemble import GradientBoostingClassifier"
      ]
    },
    {
      "cell_type": "markdown",
      "metadata": {
        "id": "ZQxjCymApESi"
      },
      "source": [
        "## 2.1 Optimización de los hiperparámetros usando RandomizedSearchCV"
      ]
    },
    {
      "cell_type": "code",
      "execution_count": 46,
      "metadata": {
        "id": "70RPb-H7MWNt"
      },
      "outputs": [],
      "source": [
        "#Indico que el clasificador que voy a utlizar es GBoosting\n",
        "\n",
        "gb_model = GradientBoostingClassifier()"
      ]
    },
    {
      "cell_type": "code",
      "execution_count": 47,
      "metadata": {
        "id": "aMXjUhN5Mgdo"
      },
      "outputs": [],
      "source": [
        "params = {\n",
        " 'n_estimators' : [150,200,250,300,350,400,450,500],\n",
        " 'learning_rate' : [0.05,0.10,0.15,0.20,0.25,0.30],\n",
        " 'max_depth' : [20,25,30,35,40,45],\n",
        "}"
      ]
    },
    {
      "cell_type": "code",
      "execution_count": 48,
      "metadata": {
        "id": "Ap81OEvyMjTC",
        "colab": {
          "base_uri": "https://localhost:8080/"
        },
        "outputId": "3bc52fa7-d912-458d-e444-f9aa9883122a"
      },
      "outputs": [
        {
          "output_type": "stream",
          "name": "stdout",
          "text": [
            "Fitting 5 folds for each of 5 candidates, totalling 25 fits\n"
          ]
        },
        {
          "output_type": "execute_result",
          "data": {
            "text/plain": [
              "RandomizedSearchCV(cv=5, estimator=GradientBoostingClassifier(), n_iter=5,\n",
              "                   n_jobs=-1,\n",
              "                   param_distributions={'learning_rate': [0.05, 0.1, 0.15, 0.2,\n",
              "                                                          0.25, 0.3],\n",
              "                                        'max_depth': [20, 25, 30, 35, 40, 45],\n",
              "                                        'n_estimators': [150, 200, 250, 300,\n",
              "                                                         350, 400, 450, 500]},\n",
              "                   random_state=2, scoring='roc_auc', verbose=3)"
            ]
          },
          "metadata": {},
          "execution_count": 48
        }
      ],
      "source": [
        "#verbose = genera mensajes durante el entramiento del modelo 'Fitting 5 folds...'\n",
        "\n",
        "#roc_auc = curva AUC-ROC es la métrica de selección del modelo para el problema de clasificación \n",
        "#de dos clases múltiples.ROC nos dice qué tan bueno es el modelo para distinguir las clases dadas, \n",
        "#en términos de la probabilidad predicha.\n",
        "\n",
        "#n_jobs = número de nucleos que se utilizan (-1 quiere decir que se utilizan todos)\n",
        "\n",
        "r_s_model_2 = RandomizedSearchCV(gb_model , param_distributions=params, n_iter=5, \n",
        "                               scoring='roc_auc',n_jobs=-1,cv=5,verbose=3,random_state = 2)\n",
        "\n",
        "r_s_model_2.fit(x_train_1, y_train_1)"
      ]
    },
    {
      "cell_type": "code",
      "execution_count": 49,
      "metadata": {
        "id": "1ohuKN0wMqqM",
        "colab": {
          "base_uri": "https://localhost:8080/"
        },
        "outputId": "f946f584-2d4a-4996-a534-91aeb4b5d685"
      },
      "outputs": [
        {
          "output_type": "execute_result",
          "data": {
            "text/plain": [
              "GradientBoostingClassifier(learning_rate=0.15, max_depth=40, n_estimators=150)"
            ]
          },
          "metadata": {},
          "execution_count": 49
        }
      ],
      "source": [
        "r_s_model_2.best_estimator_"
      ]
    },
    {
      "cell_type": "code",
      "execution_count": 50,
      "metadata": {
        "id": "NaX_GvsYItTG"
      },
      "outputs": [],
      "source": [
        "params = {\n",
        " 'n_estimators' : [335,340,345,350,355,360,365],\n",
        " 'learning_rate' : [0.14,0.16,0.18,0.20,0.22,0.24,0.26],\n",
        " 'max_depth' : [26,27,28,29,30,31,32,33,34],\n",
        "}"
      ]
    },
    {
      "cell_type": "code",
      "execution_count": 51,
      "metadata": {
        "id": "VtKeKdCDJPjW",
        "colab": {
          "base_uri": "https://localhost:8080/"
        },
        "outputId": "b40c55e9-1faa-4ec3-ffe0-99fbf2718115"
      },
      "outputs": [
        {
          "output_type": "stream",
          "name": "stdout",
          "text": [
            "Fitting 5 folds for each of 5 candidates, totalling 25 fits\n"
          ]
        },
        {
          "output_type": "execute_result",
          "data": {
            "text/plain": [
              "RandomizedSearchCV(cv=5, estimator=GradientBoostingClassifier(), n_iter=5,\n",
              "                   n_jobs=-1,\n",
              "                   param_distributions={'learning_rate': [0.14, 0.16, 0.18, 0.2,\n",
              "                                                          0.22, 0.24, 0.26],\n",
              "                                        'max_depth': [26, 27, 28, 29, 30, 31,\n",
              "                                                      32, 33, 34],\n",
              "                                        'n_estimators': [335, 340, 345, 350,\n",
              "                                                         355, 360, 365]},\n",
              "                   random_state=2, scoring='roc_auc', verbose=3)"
            ]
          },
          "metadata": {},
          "execution_count": 51
        }
      ],
      "source": [
        "#verbose = genera mensajes durante el entramiento del modelo 'Fitting 5 folds...'\n",
        "\n",
        "#roc_auc = curva AUC-ROC es la métrica de selección del modelo para el problema de clasificación \n",
        "#de dos clases múltiples.ROC nos dice qué tan bueno es el modelo para distinguir las clases dadas, \n",
        "#en términos de la probabilidad predicha.\n",
        "\n",
        "#n_jobs = número de nucleos que se utilizan (-1 quiere decir que se utilizan todos)\n",
        "\n",
        "r_s_model_2 = RandomizedSearchCV(gb_model , param_distributions=params, n_iter=5, \n",
        "                               scoring='roc_auc',n_jobs=-1,cv=5,verbose=3,random_state = 2)\n",
        "\n",
        "r_s_model_2.fit(x_train_1, y_train_1)"
      ]
    },
    {
      "cell_type": "code",
      "execution_count": 52,
      "metadata": {
        "id": "e_L5mXQ-JRtg",
        "colab": {
          "base_uri": "https://localhost:8080/"
        },
        "outputId": "f4c9e705-e65a-4995-89bb-f48172286556"
      },
      "outputs": [
        {
          "output_type": "execute_result",
          "data": {
            "text/plain": [
              "GradientBoostingClassifier(learning_rate=0.2, max_depth=29, n_estimators=345)"
            ]
          },
          "metadata": {},
          "execution_count": 52
        }
      ],
      "source": [
        "r_s_model_2.best_estimator_"
      ]
    },
    {
      "cell_type": "markdown",
      "metadata": {
        "id": "UoVKotCcpLRy"
      },
      "source": [
        "## 2.2 Rendimiento con todas las features"
      ]
    },
    {
      "cell_type": "code",
      "execution_count": 53,
      "metadata": {
        "id": "22LZf3hgMvey"
      },
      "outputs": [],
      "source": [
        "#Construyendo el modelo final\n",
        "gb_model = GradientBoostingClassifier(learning_rate=0.16, max_depth=26, n_estimators=355)"
      ]
    },
    {
      "cell_type": "code",
      "execution_count": 54,
      "metadata": {
        "id": "53iLdlm0M4hS",
        "colab": {
          "base_uri": "https://localhost:8080/",
          "height": 175
        },
        "outputId": "fa8afeda-5cb3-4e30-83ac-675a48354809"
      },
      "outputs": [
        {
          "output_type": "execute_result",
          "data": {
            "text/plain": [
              "  Prestaciones en test    GBoost\n",
              "0             Accuracy  0.671875\n",
              "1          Sensibility  0.166667\n",
              "2          Specificity  0.788462\n",
              "3              AUC ROC  0.477564"
            ],
            "text/html": [
              "\n",
              "  <div id=\"df-9c1b70b6-6b57-4297-aac3-73eb34f7e58b\">\n",
              "    <div class=\"colab-df-container\">\n",
              "      <div>\n",
              "<style scoped>\n",
              "    .dataframe tbody tr th:only-of-type {\n",
              "        vertical-align: middle;\n",
              "    }\n",
              "\n",
              "    .dataframe tbody tr th {\n",
              "        vertical-align: top;\n",
              "    }\n",
              "\n",
              "    .dataframe thead th {\n",
              "        text-align: right;\n",
              "    }\n",
              "</style>\n",
              "<table border=\"1\" class=\"dataframe\">\n",
              "  <thead>\n",
              "    <tr style=\"text-align: right;\">\n",
              "      <th></th>\n",
              "      <th>Prestaciones en test</th>\n",
              "      <th>GBoost</th>\n",
              "    </tr>\n",
              "  </thead>\n",
              "  <tbody>\n",
              "    <tr>\n",
              "      <th>0</th>\n",
              "      <td>Accuracy</td>\n",
              "      <td>0.671875</td>\n",
              "    </tr>\n",
              "    <tr>\n",
              "      <th>1</th>\n",
              "      <td>Sensibility</td>\n",
              "      <td>0.166667</td>\n",
              "    </tr>\n",
              "    <tr>\n",
              "      <th>2</th>\n",
              "      <td>Specificity</td>\n",
              "      <td>0.788462</td>\n",
              "    </tr>\n",
              "    <tr>\n",
              "      <th>3</th>\n",
              "      <td>AUC ROC</td>\n",
              "      <td>0.477564</td>\n",
              "    </tr>\n",
              "  </tbody>\n",
              "</table>\n",
              "</div>\n",
              "      <button class=\"colab-df-convert\" onclick=\"convertToInteractive('df-9c1b70b6-6b57-4297-aac3-73eb34f7e58b')\"\n",
              "              title=\"Convert this dataframe to an interactive table.\"\n",
              "              style=\"display:none;\">\n",
              "        \n",
              "  <svg xmlns=\"http://www.w3.org/2000/svg\" height=\"24px\"viewBox=\"0 0 24 24\"\n",
              "       width=\"24px\">\n",
              "    <path d=\"M0 0h24v24H0V0z\" fill=\"none\"/>\n",
              "    <path d=\"M18.56 5.44l.94 2.06.94-2.06 2.06-.94-2.06-.94-.94-2.06-.94 2.06-2.06.94zm-11 1L8.5 8.5l.94-2.06 2.06-.94-2.06-.94L8.5 2.5l-.94 2.06-2.06.94zm10 10l.94 2.06.94-2.06 2.06-.94-2.06-.94-.94-2.06-.94 2.06-2.06.94z\"/><path d=\"M17.41 7.96l-1.37-1.37c-.4-.4-.92-.59-1.43-.59-.52 0-1.04.2-1.43.59L10.3 9.45l-7.72 7.72c-.78.78-.78 2.05 0 2.83L4 21.41c.39.39.9.59 1.41.59.51 0 1.02-.2 1.41-.59l7.78-7.78 2.81-2.81c.8-.78.8-2.07 0-2.86zM5.41 20L4 18.59l7.72-7.72 1.47 1.35L5.41 20z\"/>\n",
              "  </svg>\n",
              "      </button>\n",
              "      \n",
              "  <style>\n",
              "    .colab-df-container {\n",
              "      display:flex;\n",
              "      flex-wrap:wrap;\n",
              "      gap: 12px;\n",
              "    }\n",
              "\n",
              "    .colab-df-convert {\n",
              "      background-color: #E8F0FE;\n",
              "      border: none;\n",
              "      border-radius: 50%;\n",
              "      cursor: pointer;\n",
              "      display: none;\n",
              "      fill: #1967D2;\n",
              "      height: 32px;\n",
              "      padding: 0 0 0 0;\n",
              "      width: 32px;\n",
              "    }\n",
              "\n",
              "    .colab-df-convert:hover {\n",
              "      background-color: #E2EBFA;\n",
              "      box-shadow: 0px 1px 2px rgba(60, 64, 67, 0.3), 0px 1px 3px 1px rgba(60, 64, 67, 0.15);\n",
              "      fill: #174EA6;\n",
              "    }\n",
              "\n",
              "    [theme=dark] .colab-df-convert {\n",
              "      background-color: #3B4455;\n",
              "      fill: #D2E3FC;\n",
              "    }\n",
              "\n",
              "    [theme=dark] .colab-df-convert:hover {\n",
              "      background-color: #434B5C;\n",
              "      box-shadow: 0px 1px 3px 1px rgba(0, 0, 0, 0.15);\n",
              "      filter: drop-shadow(0px 1px 2px rgba(0, 0, 0, 0.3));\n",
              "      fill: #FFFFFF;\n",
              "    }\n",
              "  </style>\n",
              "\n",
              "      <script>\n",
              "        const buttonEl =\n",
              "          document.querySelector('#df-9c1b70b6-6b57-4297-aac3-73eb34f7e58b button.colab-df-convert');\n",
              "        buttonEl.style.display =\n",
              "          google.colab.kernel.accessAllowed ? 'block' : 'none';\n",
              "\n",
              "        async function convertToInteractive(key) {\n",
              "          const element = document.querySelector('#df-9c1b70b6-6b57-4297-aac3-73eb34f7e58b');\n",
              "          const dataTable =\n",
              "            await google.colab.kernel.invokeFunction('convertToInteractive',\n",
              "                                                     [key], {});\n",
              "          if (!dataTable) return;\n",
              "\n",
              "          const docLinkHtml = 'Like what you see? Visit the ' +\n",
              "            '<a target=\"_blank\" href=https://colab.research.google.com/notebooks/data_table.ipynb>data table notebook</a>'\n",
              "            + ' to learn more about interactive tables.';\n",
              "          element.innerHTML = '';\n",
              "          dataTable['output_type'] = 'display_data';\n",
              "          await google.colab.output.renderOutput(dataTable, element);\n",
              "          const docLink = document.createElement('div');\n",
              "          docLink.innerHTML = docLinkHtml;\n",
              "          element.appendChild(docLink);\n",
              "        }\n",
              "      </script>\n",
              "    </div>\n",
              "  </div>\n",
              "  "
            ]
          },
          "metadata": {},
          "execution_count": 54
        }
      ],
      "source": [
        "#Métricas\n",
        "\n",
        "gb_model.fit(x_train_1, y_train_1)\n",
        "\n",
        "y_pred = gb_model.predict(x_test_WR)\n",
        "\n",
        "acc_gb = accuracy_score(y_test, y_pred)\n",
        "sensibilidad_gb = recall_score(y_test, y_pred)\n",
        "#precision_xgb = precision_score(y_test, y_pred)\n",
        "specificity_gb = confusion_matrix(y_test, y_pred)[0][0]/(confusion_matrix(y_test, y_pred)[0][0]+confusion_matrix(y_test, y_pred)[0][1])\n",
        "auc_gb = roc_auc_score(y_test, y_pred)\n",
        "\n",
        "Tabla_2 = pd.DataFrame({ \"Prestaciones en test\":[\"Accuracy\",\"Sensibility\",'Specificity',\"AUC ROC\"],\n",
        "                      \"GBoost\" : [acc_gb, sensibilidad_gb, specificity_gb, auc_gb]})\n",
        "\n",
        "Tabla_2"
      ]
    },
    {
      "cell_type": "markdown",
      "metadata": {
        "id": "ijH2kiaPpQ41"
      },
      "source": [
        "## 2.3 Selección de características (FS)"
      ]
    },
    {
      "cell_type": "code",
      "execution_count": 55,
      "metadata": {
        "id": "yQl1rMUr4xGN",
        "colab": {
          "base_uri": "https://localhost:8080/",
          "height": 325
        },
        "outputId": "5ec837b7-0df0-445d-d4af-81399366bb34"
      },
      "outputs": [
        {
          "output_type": "stream",
          "name": "stdout",
          "text": [
            "1.0\n"
          ]
        },
        {
          "output_type": "display_data",
          "data": {
            "text/plain": [
              "<Figure size 1440x432 with 1 Axes>"
            ],
            "image/png": "[encoded data removed]"
          },
          "metadata": {
            "needs_background": "light"
          }
        }
      ],
      "source": [
        "import seaborn as sns\n",
        "#Plot feature importance\n",
        "def plot_feature_importance(importance,names,model_type):\n",
        "\n",
        "  #Create arrays from feature importance and feature names\n",
        "  feature_importance = np.array(importance)\n",
        "  feature_names = np.array(names)\n",
        "\n",
        "  #Create a DataFrame using a Dictionary\n",
        "  data={'feature_names':feature_names,'feature_importance':feature_importance}\n",
        "  fi_df = pd.DataFrame(data)\n",
        "\n",
        "  #Sort the DataFrame in order decreasing feature importance\n",
        "  fi_df.sort_values(by=['feature_importance'], ascending=False,inplace=True)\n",
        "\n",
        "  #Define size of bar plot\n",
        "  fig = plt.figure(figsize=(20,6))\n",
        "  #Plot Searborn bar chart\n",
        "  sns.barplot(y=fi_df['feature_importance'], x=fi_df['feature_names'])\n",
        "  #Add chart labels\n",
        "  plt.title(model_type + 'FEATURE IMPORTANCE')\n",
        "  plt.xlabel('FEATURE IMPORTANCE')\n",
        "  plt.ylabel('FEATURE NAMES')\n",
        "  plt.tight_layout()\n",
        "  fig.autofmt_xdate(rotation=45)\n",
        "\n",
        "\n",
        "plot_feature_importance(gb_model.feature_importances_*100,x_train_1.columns,'Gradient Boosting')\n",
        "\n",
        "print(np.sum(gb_model.feature_importances_))"
      ]
    },
    {
      "cell_type": "markdown",
      "metadata": {
        "id": "zc8gjLZWq6G1"
      },
      "source": [
        "A partir de este gráfico se puede observar la importancia de cada característica haciendo uso de XGBoost. Así pues, MO-Y es la variable que aporta mayor información al realizar la tarea de clasificación, con lo que permitirá, en mayor medida, diferenciar un paciente sano de uno no sano. No obstante, la siguiente variable UCI también presentan información relevante para la predicción."
      ]
    },
    {
      "cell_type": "markdown",
      "metadata": {
        "id": "slKvOlOp48LL"
      },
      "source": [
        "**Selección de las características en base a la importancia de éstas**"
      ]
    },
    {
      "cell_type": "code",
      "execution_count": 56,
      "metadata": {
        "id": "9OdM9pcr48_P",
        "colab": {
          "base_uri": "https://localhost:8080/",
          "height": 122
        },
        "outputId": "7a46812b-b63e-48f0-e360-aa1c5f73cb86"
      },
      "outputs": [
        {
          "output_type": "execute_result",
          "data": {
            "text/plain": [
              "'\\n#SelectFromModel\\n\\nscores_cv = []\\nthresholds = np.sort(gb_model.feature_importances_) # obtiene la importancia de cada característica\\ni = 0\\nfor thresh in thresholds:\\n    print(\"{} de {}\".format(i,len(thresholds)))\\n    selection = SelectFromModel(gb_model, threshold=thresh, prefit=True)\\n    select_x_train_1 = selection.transform(x_train_1)\\n    # train model\\n    selection_model = GradientBoostingClassifier(learning_rate=0.05, max_depth=25, n_estimators=350)\\n    #cv estimation\\n    sc =cross_val_score(selection_model, select_x_train_1, y_train_1, cv=10, scoring=\\'roc_auc\\',n_jobs=-1)\\n    scores_cv.append(sc)\\n    i+=1\\n  \\n'"
            ],
            "application/vnd.google.colaboratory.intrinsic+json": {
              "type": "string"
            }
          },
          "metadata": {},
          "execution_count": 56
        }
      ],
      "source": [
        "\"\"\"\n",
        "#SelectFromModel\n",
        "\n",
        "scores_cv = []\n",
        "thresholds = np.sort(gb_model.feature_importances_) # obtiene la importancia de cada característica\n",
        "i = 0\n",
        "for thresh in thresholds:\n",
        "    print(\"{} de {}\".format(i,len(thresholds)))\n",
        "    selection = SelectFromModel(gb_model, threshold=thresh, prefit=True)\n",
        "    select_x_train_1 = selection.transform(x_train_1)\n",
        "    # train model\n",
        "    selection_model = GradientBoostingClassifier(learning_rate=0.05, max_depth=25, n_estimators=350)\n",
        "    #cv estimation\n",
        "    sc =cross_val_score(selection_model, select_x_train_1, y_train_1, cv=10, scoring='roc_auc',n_jobs=-1)\n",
        "    scores_cv.append(sc)\n",
        "    i+=1\n",
        "  \n",
        "\"\"\""
      ]
    },
    {
      "cell_type": "code",
      "execution_count": 57,
      "metadata": {
        "id": "JehCEQKh5MEg",
        "colab": {
          "base_uri": "https://localhost:8080/",
          "height": 87
        },
        "outputId": "f4236c72-6fd1-4634-80d5-62c18a4f3d46"
      },
      "outputs": [
        {
          "output_type": "execute_result",
          "data": {
            "text/plain": [
              "\"\\n\\nplt.rc('xtick',labelsize=15)\\nplt.rc('ytick',labelsize=15)\\nplt.figure(figsize = (80,20))\\nsc_cv = np.asarray(scores_cv)\\nscores_m = np.mean(sc_cv,axis = 1)\\nscores_std = np.std(sc_cv,axis = 1)\\nxx = np.arange(len(scores_m))\\nplt.plot(xx,scores_m,'o-')\\nplt.grid()\\n_ = plt.xticks(xx,labels= np.arange(1,len(scores_m)+1))\\nplt.xlabel('Number of features removed')\\nplt.ylabel('Accuracy')\\n\\n\""
            ],
            "application/vnd.google.colaboratory.intrinsic+json": {
              "type": "string"
            }
          },
          "metadata": {},
          "execution_count": 57
        }
      ],
      "source": [
        "\"\"\"\n",
        "\n",
        "plt.rc('xtick',labelsize=15)\n",
        "plt.rc('ytick',labelsize=15)\n",
        "plt.figure(figsize = (80,20))\n",
        "sc_cv = np.asarray(scores_cv)\n",
        "scores_m = np.mean(sc_cv,axis = 1)\n",
        "scores_std = np.std(sc_cv,axis = 1)\n",
        "xx = np.arange(len(scores_m))\n",
        "plt.plot(xx,scores_m,'o-')\n",
        "plt.grid()\n",
        "_ = plt.xticks(xx,labels= np.arange(1,len(scores_m)+1))\n",
        "plt.xlabel('Number of features removed')\n",
        "plt.ylabel('Accuracy')\n",
        "\n",
        "\"\"\""
      ]
    },
    {
      "cell_type": "markdown",
      "metadata": {
        "id": "dK_wom1irWSd"
      },
      "source": [
        "Esta gráfica muestra el ***accuracy*** que se alcanza cuando se escogen X características. Desde la izquierda hacia la derecha se van quitando variables consecutivamente, y se puede observar que la predicción del modelo no se degrada hasta llegar a 69 variables. Es decir, solo quedándonos con 2  variables, el modelo es capaz de tener el mismo desempeño en predicción que utilizando todas las variables. Estas característica son las 2 primeras representadas anteriormente en la gráfica anterior.\n",
        "\n",
        "Además siempre es preferible tener un modelo menos complejo para que de esta forma pueda haber una mejor generalizacion con la incorporación de datos nuevos."
      ]
    },
    {
      "cell_type": "markdown",
      "source": [
        "### Permutation Importance"
      ],
      "metadata": {
        "id": "SNy0SB5fu7eM"
      }
    },
    {
      "cell_type": "code",
      "source": [
        "perm = PermutationImportance(gb_model, random_state=1).fit(x_test_WR, y_test)\n",
        "eli5.show_weights(perm, feature_names = x_test_WR.columns.tolist())"
      ],
      "metadata": {
        "colab": {
          "base_uri": "https://localhost:8080/",
          "height": 399
        },
        "outputId": "01e916f9-bb99-4b3d-979b-0fd8c673d802",
        "id": "ESk7dBAjiED7"
      },
      "execution_count": 58,
      "outputs": [
        {
          "output_type": "execute_result",
          "data": {
            "text/plain": [
              "<IPython.core.display.HTML object>"
            ],
            "text/html": [
              "\n",
              "    <style>\n",
              "    table.eli5-weights tr:hover {\n",
              "        filter: brightness(85%);\n",
              "    }\n",
              "</style>\n",
              "\n",
              "\n",
              "\n",
              "    \n",
              "\n",
              "    \n",
              "\n",
              "    \n",
              "\n",
              "    \n",
              "\n",
              "    \n",
              "\n",
              "    \n",
              "\n",
              "\n",
              "    \n",
              "\n",
              "    \n",
              "\n",
              "    \n",
              "\n",
              "    \n",
              "\n",
              "    \n",
              "\n",
              "    \n",
              "\n",
              "\n",
              "    \n",
              "\n",
              "    \n",
              "\n",
              "    \n",
              "\n",
              "    \n",
              "\n",
              "    \n",
              "        <table class=\"eli5-weights eli5-feature-importances\" style=\"border-collapse: collapse; border: none; margin-top: 0em; table-layout: auto;\">\n",
              "    <thead>\n",
              "    <tr style=\"border: none;\">\n",
              "        <th style=\"padding: 0 1em 0 0.5em; text-align: right; border: none;\">Weight</th>\n",
              "        <th style=\"padding: 0 0.5em 0 0.5em; text-align: left; border: none;\">Feature</th>\n",
              "    </tr>\n",
              "    </thead>\n",
              "    <tbody>\n",
              "    \n",
              "        <tr style=\"background-color: hsl(120, 100.00%, 80.00%); border: none;\">\n",
              "            <td style=\"padding: 0 1em 0 0.5em; text-align: right; border: none;\">\n",
              "                0.0531\n",
              "                \n",
              "                    &plusmn; 0.0643\n",
              "                \n",
              "            </td>\n",
              "            <td style=\"padding: 0 0.5em 0 0.5em; text-align: left; border: none;\">\n",
              "                MO-Y\n",
              "            </td>\n",
              "        </tr>\n",
              "    \n",
              "        <tr style=\"background-color: hsl(120, 100.00%, 94.06%); border: none;\">\n",
              "            <td style=\"padding: 0 1em 0 0.5em; text-align: right; border: none;\">\n",
              "                0.0094\n",
              "                \n",
              "                    &plusmn; 0.0153\n",
              "                \n",
              "            </td>\n",
              "            <td style=\"padding: 0 0.5em 0 0.5em; text-align: left; border: none;\">\n",
              "                HCT\n",
              "            </td>\n",
              "        </tr>\n",
              "    \n",
              "        <tr style=\"background-color: hsl(0, 100.00%, 100.00%); border: none;\">\n",
              "            <td style=\"padding: 0 1em 0 0.5em; text-align: right; border: none;\">\n",
              "                0\n",
              "                \n",
              "                    &plusmn; 0.0000\n",
              "                \n",
              "            </td>\n",
              "            <td style=\"padding: 0 0.5em 0 0.5em; text-align: left; border: none;\">\n",
              "                MacR\n",
              "            </td>\n",
              "        </tr>\n",
              "    \n",
              "        <tr style=\"background-color: hsl(0, 100.00%, 100.00%); border: none;\">\n",
              "            <td style=\"padding: 0 1em 0 0.5em; text-align: right; border: none;\">\n",
              "                0\n",
              "                \n",
              "                    &plusmn; 0.0000\n",
              "                \n",
              "            </td>\n",
              "            <td style=\"padding: 0 0.5em 0 0.5em; text-align: left; border: none;\">\n",
              "                rPL/L\n",
              "            </td>\n",
              "        </tr>\n",
              "    \n",
              "        <tr style=\"background-color: hsl(0, 100.00%, 100.00%); border: none;\">\n",
              "            <td style=\"padding: 0 1em 0 0.5em; text-align: right; border: none;\">\n",
              "                0\n",
              "                \n",
              "                    &plusmn; 0.0000\n",
              "                \n",
              "            </td>\n",
              "            <td style=\"padding: 0 0.5em 0 0.5em; text-align: left; border: none;\">\n",
              "                rNe/L\n",
              "            </td>\n",
              "        </tr>\n",
              "    \n",
              "        <tr style=\"background-color: hsl(0, 100.00%, 100.00%); border: none;\">\n",
              "            <td style=\"padding: 0 1em 0 0.5em; text-align: right; border: none;\">\n",
              "                0\n",
              "                \n",
              "                    &plusmn; 0.0000\n",
              "                \n",
              "            </td>\n",
              "            <td style=\"padding: 0 0.5em 0 0.5em; text-align: left; border: none;\">\n",
              "                VPM\n",
              "            </td>\n",
              "        </tr>\n",
              "    \n",
              "        <tr style=\"background-color: hsl(0, 100.00%, 100.00%); border: none;\">\n",
              "            <td style=\"padding: 0 1em 0 0.5em; text-align: right; border: none;\">\n",
              "                0\n",
              "                \n",
              "                    &plusmn; 0.0000\n",
              "                \n",
              "            </td>\n",
              "            <td style=\"padding: 0 0.5em 0 0.5em; text-align: left; border: none;\">\n",
              "                PLTI\n",
              "            </td>\n",
              "        </tr>\n",
              "    \n",
              "        <tr style=\"background-color: hsl(0, 100.00%, 100.00%); border: none;\">\n",
              "            <td style=\"padding: 0 1em 0 0.5em; text-align: right; border: none;\">\n",
              "                0\n",
              "                \n",
              "                    &plusmn; 0.0000\n",
              "                \n",
              "            </td>\n",
              "            <td style=\"padding: 0 0.5em 0 0.5em; text-align: left; border: none;\">\n",
              "                PLT\n",
              "            </td>\n",
              "        </tr>\n",
              "    \n",
              "        <tr style=\"background-color: hsl(0, 100.00%, 100.00%); border: none;\">\n",
              "            <td style=\"padding: 0 1em 0 0.5em; text-align: right; border: none;\">\n",
              "                0\n",
              "                \n",
              "                    &plusmn; 0.0000\n",
              "                \n",
              "            </td>\n",
              "            <td style=\"padding: 0 0.5em 0 0.5em; text-align: left; border: none;\">\n",
              "                ERBLp\n",
              "            </td>\n",
              "        </tr>\n",
              "    \n",
              "        <tr style=\"background-color: hsl(0, 100.00%, 100.00%); border: none;\">\n",
              "            <td style=\"padding: 0 1em 0 0.5em; text-align: right; border: none;\">\n",
              "                0\n",
              "                \n",
              "                    &plusmn; 0.0000\n",
              "                \n",
              "            </td>\n",
              "            <td style=\"padding: 0 0.5em 0 0.5em; text-align: left; border: none;\">\n",
              "                ERBL\n",
              "            </td>\n",
              "        </tr>\n",
              "    \n",
              "        <tr style=\"background-color: hsl(0, 100.00%, 100.00%); border: none;\">\n",
              "            <td style=\"padding: 0 1em 0 0.5em; text-align: right; border: none;\">\n",
              "                0\n",
              "                \n",
              "                    &plusmn; 0.0000\n",
              "                \n",
              "            </td>\n",
              "            <td style=\"padding: 0 0.5em 0 0.5em; text-align: left; border: none;\">\n",
              "                LIN\n",
              "            </td>\n",
              "        </tr>\n",
              "    \n",
              "        <tr style=\"background-color: hsl(0, 100.00%, 100.00%); border: none;\">\n",
              "            <td style=\"padding: 0 1em 0 0.5em; text-align: right; border: none;\">\n",
              "                0\n",
              "                \n",
              "                    &plusmn; 0.0000\n",
              "                \n",
              "            </td>\n",
              "            <td style=\"padding: 0 0.5em 0 0.5em; text-align: left; border: none;\">\n",
              "                CHCM\n",
              "            </td>\n",
              "        </tr>\n",
              "    \n",
              "        <tr style=\"background-color: hsl(0, 100.00%, 100.00%); border: none;\">\n",
              "            <td style=\"padding: 0 1em 0 0.5em; text-align: right; border: none;\">\n",
              "                0\n",
              "                \n",
              "                    &plusmn; 0.0000\n",
              "                \n",
              "            </td>\n",
              "            <td style=\"padding: 0 0.5em 0 0.5em; text-align: left; border: none;\">\n",
              "                HCM\n",
              "            </td>\n",
              "        </tr>\n",
              "    \n",
              "        <tr style=\"background-color: hsl(0, 100.00%, 100.00%); border: none;\">\n",
              "            <td style=\"padding: 0 1em 0 0.5em; text-align: right; border: none;\">\n",
              "                0\n",
              "                \n",
              "                    &plusmn; 0.0000\n",
              "                \n",
              "            </td>\n",
              "            <td style=\"padding: 0 0.5em 0 0.5em; text-align: left; border: none;\">\n",
              "                VCM\n",
              "            </td>\n",
              "        </tr>\n",
              "    \n",
              "        <tr style=\"background-color: hsl(0, 100.00%, 100.00%); border: none;\">\n",
              "            <td style=\"padding: 0 1em 0 0.5em; text-align: right; border: none;\">\n",
              "                0\n",
              "                \n",
              "                    &plusmn; 0.0000\n",
              "                \n",
              "            </td>\n",
              "            <td style=\"padding: 0 0.5em 0 0.5em; text-align: left; border: none;\">\n",
              "                BA-D#\n",
              "            </td>\n",
              "        </tr>\n",
              "    \n",
              "        <tr style=\"background-color: hsl(0, 100.00%, 100.00%); border: none;\">\n",
              "            <td style=\"padding: 0 1em 0 0.5em; text-align: right; border: none;\">\n",
              "                0\n",
              "                \n",
              "                    &plusmn; 0.0000\n",
              "                \n",
              "            </td>\n",
              "            <td style=\"padding: 0 0.5em 0 0.5em; text-align: left; border: none;\">\n",
              "                Sexo del Paciente\n",
              "            </td>\n",
              "        </tr>\n",
              "    \n",
              "        <tr style=\"background-color: hsl(0, 100.00%, 100.00%); border: none;\">\n",
              "            <td style=\"padding: 0 1em 0 0.5em; text-align: right; border: none;\">\n",
              "                0\n",
              "                \n",
              "                    &plusmn; 0.0000\n",
              "                \n",
              "            </td>\n",
              "            <td style=\"padding: 0 0.5em 0 0.5em; text-align: left; border: none;\">\n",
              "                ERIT\n",
              "            </td>\n",
              "        </tr>\n",
              "    \n",
              "        <tr style=\"background-color: hsl(0, 100.00%, 100.00%); border: none;\">\n",
              "            <td style=\"padding: 0 1em 0 0.5em; text-align: right; border: none;\">\n",
              "                0\n",
              "                \n",
              "                    &plusmn; 0.0000\n",
              "                \n",
              "            </td>\n",
              "            <td style=\"padding: 0 0.5em 0 0.5em; text-align: left; border: none;\">\n",
              "                LINp\n",
              "            </td>\n",
              "        </tr>\n",
              "    \n",
              "        <tr style=\"background-color: hsl(0, 100.00%, 100.00%); border: none;\">\n",
              "            <td style=\"padding: 0 1em 0 0.5em; text-align: right; border: none;\">\n",
              "                0\n",
              "                \n",
              "                    &plusmn; 0.0000\n",
              "                \n",
              "            </td>\n",
              "            <td style=\"padding: 0 0.5em 0 0.5em; text-align: left; border: none;\">\n",
              "                MicR\n",
              "            </td>\n",
              "        </tr>\n",
              "    \n",
              "        <tr style=\"background-color: hsl(0, 100.00%, 100.00%); border: none;\">\n",
              "            <td style=\"padding: 0 1em 0 0.5em; text-align: right; border: none;\">\n",
              "                0\n",
              "                \n",
              "                    &plusmn; 0.0000\n",
              "                \n",
              "            </td>\n",
              "            <td style=\"padding: 0 0.5em 0 0.5em; text-align: left; border: none;\">\n",
              "                RDW\n",
              "            </td>\n",
              "        </tr>\n",
              "    \n",
              "    \n",
              "        \n",
              "            <tr style=\"background-color: hsl(0, 100.00%, 100.00%); border: none;\">\n",
              "                <td colspan=\"2\" style=\"padding: 0 0.5em 0 0.5em; text-align: center; border: none; white-space: nowrap;\">\n",
              "                    <i>&hellip; 46 more &hellip;</i>\n",
              "                </td>\n",
              "            </tr>\n",
              "        \n",
              "    \n",
              "    </tbody>\n",
              "</table>\n",
              "    \n",
              "\n",
              "    \n",
              "\n",
              "\n",
              "    \n",
              "\n",
              "    \n",
              "\n",
              "    \n",
              "\n",
              "    \n",
              "\n",
              "    \n",
              "\n",
              "    \n",
              "\n",
              "\n",
              "\n"
            ]
          },
          "metadata": {},
          "execution_count": 58
        }
      ]
    },
    {
      "cell_type": "markdown",
      "metadata": {
        "id": "1COH2pM_rfZr"
      },
      "source": [
        "## 2.4 Rendimiento con FS en el conjunto de test"
      ]
    },
    {
      "cell_type": "code",
      "execution_count": 59,
      "metadata": {
        "id": "-bBSit54rkw7",
        "colab": {
          "base_uri": "https://localhost:8080/",
          "height": 122
        },
        "outputId": "1c39b36e-1589-41c6-ec3c-5bf8b1597d83"
      },
      "outputs": [
        {
          "output_type": "execute_result",
          "data": {
            "text/plain": [
              "'\\ndef rf_feat_importance(m, df):\\n    return pd.DataFrame({\\'cols\\':df.columns, \\'imp\\':m.feature_importances_}\\n                       ).sort_values(\\'imp\\', ascending=False)\\n\\n#convert into a dataframe with sorted feature importances\\nfi = rf_feat_importance(gb_model,x_train_1)\\n\\n#select the features\\nselected_features_RF = fi[:len(fi)-69][\\'cols\\'].to_list()\\nprint(\"Numero de variables seleccionadas Pars:\",len(selected_features_RF))\\nprint(\"Selected features:\",selected_features_RF)\\n\\n\\nX_train_FT_gb = x_train_1[selected_features_RF]\\nX_test_FT_gb = x_test_WR[selected_features_RF]\\n'"
            ],
            "application/vnd.google.colaboratory.intrinsic+json": {
              "type": "string"
            }
          },
          "metadata": {},
          "execution_count": 59
        }
      ],
      "source": [
        "\"\"\"\n",
        "def rf_feat_importance(m, df):\n",
        "    return pd.DataFrame({'cols':df.columns, 'imp':m.feature_importances_}\n",
        "                       ).sort_values('imp', ascending=False)\n",
        "\n",
        "#convert into a dataframe with sorted feature importances\n",
        "fi = rf_feat_importance(gb_model,x_train_1)\n",
        "\n",
        "#select the features\n",
        "selected_features_RF = fi[:len(fi)-69]['cols'].to_list()\n",
        "print(\"Numero de variables seleccionadas Pars:\",len(selected_features_RF))\n",
        "print(\"Selected features:\",selected_features_RF)\n",
        "\n",
        "\n",
        "X_train_FT_gb = x_train_1[selected_features_RF]\n",
        "X_test_FT_gb = x_test_WR[selected_features_RF]\n",
        "\"\"\""
      ]
    },
    {
      "cell_type": "markdown",
      "source": [
        "Selecciono las características del método permutation importance haciendo uso de .loc"
      ],
      "metadata": {
        "id": "yXkUpcFS8441"
      }
    },
    {
      "cell_type": "code",
      "source": [
        "X_train_FT_gb = x_train_1.loc[:,['MO-Y', 'NEUGI', 'NESSC']]\n",
        "X_test_FT_gb = x_test_WR.loc[:,['MO-Y', 'NEUGI', 'NESSC']]"
      ],
      "metadata": {
        "id": "niuZu_KMfYfi"
      },
      "execution_count": 60,
      "outputs": []
    },
    {
      "cell_type": "code",
      "execution_count": 61,
      "metadata": {
        "id": "jqiyN7kNr8aC",
        "colab": {
          "base_uri": "https://localhost:8080/"
        },
        "outputId": "358b201f-b14b-472e-defb-72aea14beda9"
      },
      "outputs": [
        {
          "output_type": "execute_result",
          "data": {
            "text/plain": [
              "GradientBoostingClassifier(learning_rate=0.16, max_depth=26, n_estimators=355)"
            ]
          },
          "metadata": {},
          "execution_count": 61
        }
      ],
      "source": [
        "gb_FS = GradientBoostingClassifier(learning_rate=0.16, max_depth=26, n_estimators=355)\n",
        "gb_FS.fit(X_train_FT_gb, y_train_1)"
      ]
    },
    {
      "cell_type": "code",
      "execution_count": 62,
      "metadata": {
        "id": "Qimkky5zsKT-",
        "colab": {
          "base_uri": "https://localhost:8080/",
          "height": 175
        },
        "outputId": "92407770-15f7-4abb-9166-0a44f19c82f1"
      },
      "outputs": [
        {
          "output_type": "execute_result",
          "data": {
            "text/plain": [
              "  Prestaciones en test  GBoost total  GBoost 3 features \n",
              "0             Accuracy      0.671875            0.687500\n",
              "1          Sensibility      0.166667            0.333333\n",
              "2          Specificity      0.788462            0.769231\n",
              "3              AUC ROC      0.477564            0.551282"
            ],
            "text/html": [
              "\n",
              "  <div id=\"df-099c81fa-db93-4ac3-ab7e-32955152fc1c\">\n",
              "    <div class=\"colab-df-container\">\n",
              "      <div>\n",
              "<style scoped>\n",
              "    .dataframe tbody tr th:only-of-type {\n",
              "        vertical-align: middle;\n",
              "    }\n",
              "\n",
              "    .dataframe tbody tr th {\n",
              "        vertical-align: top;\n",
              "    }\n",
              "\n",
              "    .dataframe thead th {\n",
              "        text-align: right;\n",
              "    }\n",
              "</style>\n",
              "<table border=\"1\" class=\"dataframe\">\n",
              "  <thead>\n",
              "    <tr style=\"text-align: right;\">\n",
              "      <th></th>\n",
              "      <th>Prestaciones en test</th>\n",
              "      <th>GBoost total</th>\n",
              "      <th>GBoost 3 features</th>\n",
              "    </tr>\n",
              "  </thead>\n",
              "  <tbody>\n",
              "    <tr>\n",
              "      <th>0</th>\n",
              "      <td>Accuracy</td>\n",
              "      <td>0.671875</td>\n",
              "      <td>0.687500</td>\n",
              "    </tr>\n",
              "    <tr>\n",
              "      <th>1</th>\n",
              "      <td>Sensibility</td>\n",
              "      <td>0.166667</td>\n",
              "      <td>0.333333</td>\n",
              "    </tr>\n",
              "    <tr>\n",
              "      <th>2</th>\n",
              "      <td>Specificity</td>\n",
              "      <td>0.788462</td>\n",
              "      <td>0.769231</td>\n",
              "    </tr>\n",
              "    <tr>\n",
              "      <th>3</th>\n",
              "      <td>AUC ROC</td>\n",
              "      <td>0.477564</td>\n",
              "      <td>0.551282</td>\n",
              "    </tr>\n",
              "  </tbody>\n",
              "</table>\n",
              "</div>\n",
              "      <button class=\"colab-df-convert\" onclick=\"convertToInteractive('df-099c81fa-db93-4ac3-ab7e-32955152fc1c')\"\n",
              "              title=\"Convert this dataframe to an interactive table.\"\n",
              "              style=\"display:none;\">\n",
              "        \n",
              "  <svg xmlns=\"http://www.w3.org/2000/svg\" height=\"24px\"viewBox=\"0 0 24 24\"\n",
              "       width=\"24px\">\n",
              "    <path d=\"M0 0h24v24H0V0z\" fill=\"none\"/>\n",
              "    <path d=\"M18.56 5.44l.94 2.06.94-2.06 2.06-.94-2.06-.94-.94-2.06-.94 2.06-2.06.94zm-11 1L8.5 8.5l.94-2.06 2.06-.94-2.06-.94L8.5 2.5l-.94 2.06-2.06.94zm10 10l.94 2.06.94-2.06 2.06-.94-2.06-.94-.94-2.06-.94 2.06-2.06.94z\"/><path d=\"M17.41 7.96l-1.37-1.37c-.4-.4-.92-.59-1.43-.59-.52 0-1.04.2-1.43.59L10.3 9.45l-7.72 7.72c-.78.78-.78 2.05 0 2.83L4 21.41c.39.39.9.59 1.41.59.51 0 1.02-.2 1.41-.59l7.78-7.78 2.81-2.81c.8-.78.8-2.07 0-2.86zM5.41 20L4 18.59l7.72-7.72 1.47 1.35L5.41 20z\"/>\n",
              "  </svg>\n",
              "      </button>\n",
              "      \n",
              "  <style>\n",
              "    .colab-df-container {\n",
              "      display:flex;\n",
              "      flex-wrap:wrap;\n",
              "      gap: 12px;\n",
              "    }\n",
              "\n",
              "    .colab-df-convert {\n",
              "      background-color: #E8F0FE;\n",
              "      border: none;\n",
              "      border-radius: 50%;\n",
              "      cursor: pointer;\n",
              "      display: none;\n",
              "      fill: #1967D2;\n",
              "      height: 32px;\n",
              "      padding: 0 0 0 0;\n",
              "      width: 32px;\n",
              "    }\n",
              "\n",
              "    .colab-df-convert:hover {\n",
              "      background-color: #E2EBFA;\n",
              "      box-shadow: 0px 1px 2px rgba(60, 64, 67, 0.3), 0px 1px 3px 1px rgba(60, 64, 67, 0.15);\n",
              "      fill: #174EA6;\n",
              "    }\n",
              "\n",
              "    [theme=dark] .colab-df-convert {\n",
              "      background-color: #3B4455;\n",
              "      fill: #D2E3FC;\n",
              "    }\n",
              "\n",
              "    [theme=dark] .colab-df-convert:hover {\n",
              "      background-color: #434B5C;\n",
              "      box-shadow: 0px 1px 3px 1px rgba(0, 0, 0, 0.15);\n",
              "      filter: drop-shadow(0px 1px 2px rgba(0, 0, 0, 0.3));\n",
              "      fill: #FFFFFF;\n",
              "    }\n",
              "  </style>\n",
              "\n",
              "      <script>\n",
              "        const buttonEl =\n",
              "          document.querySelector('#df-099c81fa-db93-4ac3-ab7e-32955152fc1c button.colab-df-convert');\n",
              "        buttonEl.style.display =\n",
              "          google.colab.kernel.accessAllowed ? 'block' : 'none';\n",
              "\n",
              "        async function convertToInteractive(key) {\n",
              "          const element = document.querySelector('#df-099c81fa-db93-4ac3-ab7e-32955152fc1c');\n",
              "          const dataTable =\n",
              "            await google.colab.kernel.invokeFunction('convertToInteractive',\n",
              "                                                     [key], {});\n",
              "          if (!dataTable) return;\n",
              "\n",
              "          const docLinkHtml = 'Like what you see? Visit the ' +\n",
              "            '<a target=\"_blank\" href=https://colab.research.google.com/notebooks/data_table.ipynb>data table notebook</a>'\n",
              "            + ' to learn more about interactive tables.';\n",
              "          element.innerHTML = '';\n",
              "          dataTable['output_type'] = 'display_data';\n",
              "          await google.colab.output.renderOutput(dataTable, element);\n",
              "          const docLink = document.createElement('div');\n",
              "          docLink.innerHTML = docLinkHtml;\n",
              "          element.appendChild(docLink);\n",
              "        }\n",
              "      </script>\n",
              "    </div>\n",
              "  </div>\n",
              "  "
            ]
          },
          "metadata": {},
          "execution_count": 62
        }
      ],
      "source": [
        "from sklearn.metrics import roc_auc_score\n",
        "\n",
        "#Todas las características\n",
        "y_pred_tot = gb_model.predict(x_test_WR)\n",
        "acc_tot = accuracy_score(y_test, y_pred_tot)\n",
        "sensibilidad_tot = recall_score(y_test, y_pred_tot)\n",
        "#precision_tot=precision_score(y_test, y_pred_tot)\n",
        "specificity_tot = confusion_matrix(y_test, y_pred_tot)[0][0]/(confusion_matrix(y_test, y_pred_tot)[0][0]+confusion_matrix(y_test, y_pred_tot)[0][1])\n",
        "auc_tot = roc_auc_score(y_test, y_pred_tot)\n",
        "\n",
        "\n",
        "#3 características \n",
        "y_pred_3 = gb_FS.predict(X_test_FT_gb)\n",
        "acc_3 = accuracy_score(y_test, y_pred_3)\n",
        "sensibilidad_3 = recall_score(y_test, y_pred_3)\n",
        "#precision_3 = precision_score(y_test, y_pred_3)\n",
        "specificity_3 = confusion_matrix(y_test, y_pred_3)[0][0]/(confusion_matrix(y_test, y_pred_3)[0][0]+confusion_matrix(y_test, y_pred_3)[0][1])\n",
        "auc_3 = roc_auc_score(y_test, y_pred_3)\n",
        "\n",
        "Tabla_gb = pd.DataFrame({\"Prestaciones en test\":[\"Accuracy\",\"Sensibility\",'Specificity',\"AUC ROC\"],\n",
        "                         \"GBoost total\" : [acc_tot, sensibilidad_tot, specificity_tot, auc_tot], \n",
        "                      \"GBoost 3 features \" : [acc_3, sensibilidad_3, specificity_3, auc_3]})\n",
        "Tabla_gb"
      ]
    },
    {
      "cell_type": "code",
      "execution_count": 63,
      "metadata": {
        "id": "9k_dOJt2WE41",
        "colab": {
          "base_uri": "https://localhost:8080/",
          "height": 367
        },
        "outputId": "6b097eb5-6336-4224-b07f-1570abb512ae"
      },
      "outputs": [
        {
          "output_type": "stream",
          "name": "stderr",
          "text": [
            "/usr/local/lib/python3.7/dist-packages/sklearn/utils/deprecation.py:87: FutureWarning: Function plot_confusion_matrix is deprecated; Function `plot_confusion_matrix` is deprecated in 1.0 and will be removed in 1.2. Use one of the class methods: ConfusionMatrixDisplay.from_predictions or ConfusionMatrixDisplay.from_estimator.\n",
            "  warnings.warn(msg, category=FutureWarning)\n"
          ]
        },
        {
          "output_type": "execute_result",
          "data": {
            "text/plain": [
              "Text(0.5, 1.0, 'GBoost all features')"
            ]
          },
          "metadata": {},
          "execution_count": 63
        },
        {
          "output_type": "display_data",
          "data": {
            "text/plain": [
              "<Figure size 432x288 with 2 Axes>"
            ],
            "image/png": "[encoded data removed]"
          },
          "metadata": {
            "needs_background": "light"
          }
        }
      ],
      "source": [
        "#GBoost all features\n",
        "plot_confusion_matrix(gb_model, x_test_WR, y_test,display_labels=[\"Sano\",\"No sano\"],\n",
        "                                 cmap=plt.cm.Blues)\n",
        "plt.title(\"GBoost all features\")"
      ]
    },
    {
      "cell_type": "code",
      "execution_count": 64,
      "metadata": {
        "id": "jSyoj6KZWUPW",
        "colab": {
          "base_uri": "https://localhost:8080/",
          "height": 367
        },
        "outputId": "f2847e83-ed97-4b33-daf5-19da11903ab7"
      },
      "outputs": [
        {
          "output_type": "stream",
          "name": "stderr",
          "text": [
            "/usr/local/lib/python3.7/dist-packages/sklearn/utils/deprecation.py:87: FutureWarning: Function plot_confusion_matrix is deprecated; Function `plot_confusion_matrix` is deprecated in 1.0 and will be removed in 1.2. Use one of the class methods: ConfusionMatrixDisplay.from_predictions or ConfusionMatrixDisplay.from_estimator.\n",
            "  warnings.warn(msg, category=FutureWarning)\n"
          ]
        },
        {
          "output_type": "execute_result",
          "data": {
            "text/plain": [
              "Text(0.5, 1.0, 'GBoost 2 features')"
            ]
          },
          "metadata": {},
          "execution_count": 64
        },
        {
          "output_type": "display_data",
          "data": {
            "text/plain": [
              "<Figure size 432x288 with 2 Axes>"
            ],
            "image/png": "[encoded data removed]"
          },
          "metadata": {
            "needs_background": "light"
          }
        }
      ],
      "source": [
        "#GBoost 2 features\n",
        "plot_confusion_matrix(gb_FS, X_test_FT_gb, y_test,display_labels=[\"Sano\",\"No sano\"],\n",
        "                                 cmap=plt.cm.Blues)\n",
        "plt.title(\"GBoost 2 features\")"
      ]
    },
    {
      "cell_type": "markdown",
      "metadata": {
        "id": "tI-esAG5rP9Q"
      },
      "source": [
        "# 3. Histogram-based Gradient Boosting Classifier"
      ]
    },
    {
      "cell_type": "code",
      "execution_count": 65,
      "metadata": {
        "id": "Jtl4ZFN3bbe8"
      },
      "outputs": [],
      "source": [
        "from sklearn.ensemble import HistGradientBoostingClassifier\n",
        "from sklearn.datasets import load_iris"
      ]
    },
    {
      "cell_type": "markdown",
      "metadata": {
        "id": "TKZi2FJsvLCb"
      },
      "source": [
        "## 3.1 Optimización de los hiperparámetros usando RandomizedSearchCV"
      ]
    },
    {
      "cell_type": "code",
      "execution_count": 66,
      "metadata": {
        "id": "FQ2c4qzsbb8K"
      },
      "outputs": [],
      "source": [
        "#Indico que el clasificador que voy a utlizar es XGBosst\n",
        "\n",
        "hb_model = HistGradientBoostingClassifier()"
      ]
    },
    {
      "cell_type": "code",
      "execution_count": 67,
      "metadata": {
        "id": "ymoVMrSmbcLj"
      },
      "outputs": [],
      "source": [
        "params = {\n",
        " 'max_leaf_nodes': [1,3,5,7,10,13,15,20,25,30,35,40],\n",
        " 'learning_rate' : [0.05,0.10,0.15,0.20,0.25,0.30],\n",
        " 'max_depth' : [3,4,5,6,8,10,12,15,20,25,30],\n",
        "}"
      ]
    },
    {
      "cell_type": "code",
      "execution_count": 68,
      "metadata": {
        "id": "0jOtwpuEbcTj",
        "colab": {
          "base_uri": "https://localhost:8080/"
        },
        "outputId": "16e17818-fac6-4a4a-acf6-80940345a94c"
      },
      "outputs": [
        {
          "output_type": "stream",
          "name": "stdout",
          "text": [
            "Fitting 5 folds for each of 5 candidates, totalling 25 fits\n"
          ]
        },
        {
          "output_type": "stream",
          "name": "stderr",
          "text": [
            "/usr/local/lib/python3.7/dist-packages/sklearn/model_selection/_validation.py:372: FitFailedWarning: \n",
            "5 fits failed out of a total of 25.\n",
            "The score on these train-test partitions for these parameters will be set to nan.\n",
            "If these failures are not expected, you can try to debug them by setting error_score='raise'.\n",
            "\n",
            "Below are more details about the failures:\n",
            "--------------------------------------------------------------------------------\n",
            "5 fits failed with the following error:\n",
            "Traceback (most recent call last):\n",
            "  File \"/usr/local/lib/python3.7/dist-packages/sklearn/model_selection/_validation.py\", line 680, in _fit_and_score\n",
            "    estimator.fit(X_train, y_train, **fit_params)\n",
            "  File \"/usr/local/lib/python3.7/dist-packages/sklearn/ensemble/_hist_gradient_boosting/gradient_boosting.py\", line 524, in fit\n",
            "    n_threads=n_threads,\n",
            "  File \"/usr/local/lib/python3.7/dist-packages/sklearn/ensemble/_hist_gradient_boosting/grower.py\", line 214, in __init__\n",
            "    min_hessian_to_split,\n",
            "  File \"/usr/local/lib/python3.7/dist-packages/sklearn/ensemble/_hist_gradient_boosting/grower.py\", line 332, in _validate_parameters\n",
            "    \"max_leaf_nodes={} should not be smaller than 2\".format(max_leaf_nodes)\n",
            "ValueError: max_leaf_nodes=1 should not be smaller than 2\n",
            "\n",
            "  warnings.warn(some_fits_failed_message, FitFailedWarning)\n",
            "/usr/local/lib/python3.7/dist-packages/sklearn/model_selection/_search.py:972: UserWarning: One or more of the test scores are non-finite: [      nan 0.8457265 0.8457265 0.8457265 0.8457265]\n",
            "  category=UserWarning,\n"
          ]
        },
        {
          "output_type": "execute_result",
          "data": {
            "text/plain": [
              "RandomizedSearchCV(cv=5, estimator=HistGradientBoostingClassifier(), n_iter=5,\n",
              "                   n_jobs=-1,\n",
              "                   param_distributions={'learning_rate': [0.05, 0.1, 0.15, 0.2,\n",
              "                                                          0.25, 0.3],\n",
              "                                        'max_depth': [3, 4, 5, 6, 8, 10, 12, 15,\n",
              "                                                      20, 25, 30],\n",
              "                                        'max_leaf_nodes': [1, 3, 5, 7, 10, 13,\n",
              "                                                           15, 20, 25, 30, 35,\n",
              "                                                           40]},\n",
              "                   random_state=2, scoring='roc_auc', verbose=3)"
            ]
          },
          "metadata": {},
          "execution_count": 68
        }
      ],
      "source": [
        "#verbose = genera mensajes durante el entramiento del modelo 'Fitting 5 folds...'\n",
        "\n",
        "#roc_auc = curva AUC-ROC es la métrica de selección del modelo para el problema de clasificación \n",
        "#de dos clases múltiples.ROC nos dice qué tan bueno es el modelo para distinguir las clases dadas, \n",
        "#en términos de la probabilidad predicha.\n",
        "\n",
        "#n_jobs = número de nucleos que se utilizan (-1 quiere decir que se utilizan todos)\n",
        "\n",
        "r_s_model_3 = RandomizedSearchCV(hb_model , param_distributions=params, n_iter=5, \n",
        "                               scoring='roc_auc',n_jobs=-1,cv=5,verbose=3,random_state = 2)\n",
        "r_s_model_3.fit(x_train_1, y_train_1)"
      ]
    },
    {
      "cell_type": "code",
      "execution_count": 69,
      "metadata": {
        "id": "hj7W2xHRbix2",
        "colab": {
          "base_uri": "https://localhost:8080/"
        },
        "outputId": "809b1fcf-f9de-4fcd-e3c5-879a8b0f171a"
      },
      "outputs": [
        {
          "output_type": "execute_result",
          "data": {
            "text/plain": [
              "HistGradientBoostingClassifier(learning_rate=0.2, max_depth=30,\n",
              "                               max_leaf_nodes=40)"
            ]
          },
          "metadata": {},
          "execution_count": 69
        }
      ],
      "source": [
        "r_s_model_3.best_estimator_"
      ]
    },
    {
      "cell_type": "code",
      "execution_count": 70,
      "metadata": {
        "id": "gEwcF98aJXP1"
      },
      "outputs": [],
      "source": [
        "params = {\n",
        " 'max_leaf_nodes': [22,23,24,25,26,27,28],\n",
        " 'learning_rate' : [0.20,0.21,0.22,0.23,0.24,0.25,0.26,0.27,0.28,0.29,0.30],\n",
        " 'max_depth' : [4,5,6,7,8,9,10,11,12],\n",
        "}"
      ]
    },
    {
      "cell_type": "code",
      "execution_count": 71,
      "metadata": {
        "id": "58zIcoAaJyuR",
        "colab": {
          "base_uri": "https://localhost:8080/"
        },
        "outputId": "6ca69756-b181-4863-e85d-3a77521dfabc"
      },
      "outputs": [
        {
          "output_type": "stream",
          "name": "stdout",
          "text": [
            "Fitting 5 folds for each of 5 candidates, totalling 25 fits\n"
          ]
        },
        {
          "output_type": "execute_result",
          "data": {
            "text/plain": [
              "RandomizedSearchCV(cv=5, estimator=HistGradientBoostingClassifier(), n_iter=5,\n",
              "                   n_jobs=-1,\n",
              "                   param_distributions={'learning_rate': [0.2, 0.21, 0.22, 0.23,\n",
              "                                                          0.24, 0.25, 0.26,\n",
              "                                                          0.27, 0.28, 0.29,\n",
              "                                                          0.3],\n",
              "                                        'max_depth': [4, 5, 6, 7, 8, 9, 10, 11,\n",
              "                                                      12],\n",
              "                                        'max_leaf_nodes': [22, 23, 24, 25, 26,\n",
              "                                                           27, 28]},\n",
              "                   random_state=2, scoring='roc_auc', verbose=3)"
            ]
          },
          "metadata": {},
          "execution_count": 71
        }
      ],
      "source": [
        "#verbose = genera mensajes durante el entramiento del modelo 'Fitting 5 folds...'\n",
        "\n",
        "#roc_auc = curva AUC-ROC es la métrica de selección del modelo para el problema de clasificación \n",
        "#de dos clases múltiples.ROC nos dice qué tan bueno es el modelo para distinguir las clases dadas, \n",
        "#en términos de la probabilidad predicha.\n",
        "\n",
        "#n_jobs = número de nucleos que se utilizan (-1 quiere decir que se utilizan todos)\n",
        "\n",
        "r_s_model_3 = RandomizedSearchCV(hb_model , param_distributions=params, n_iter=5, \n",
        "                               scoring='roc_auc',n_jobs=-1,cv=5,verbose=3,random_state = 2)\n",
        "r_s_model_3.fit(x_train_1, y_train_1)"
      ]
    },
    {
      "cell_type": "code",
      "execution_count": 72,
      "metadata": {
        "id": "LXRFbyuvJ0ZZ",
        "colab": {
          "base_uri": "https://localhost:8080/"
        },
        "outputId": "18996be0-fc77-4b46-930b-f4304927cea2"
      },
      "outputs": [
        {
          "output_type": "execute_result",
          "data": {
            "text/plain": [
              "HistGradientBoostingClassifier(learning_rate=0.29, max_depth=6,\n",
              "                               max_leaf_nodes=25)"
            ]
          },
          "metadata": {},
          "execution_count": 72
        }
      ],
      "source": [
        "r_s_model_3.best_estimator_"
      ]
    },
    {
      "cell_type": "markdown",
      "metadata": {
        "id": "Uo3TDvgGvTow"
      },
      "source": [
        "## 3.2 Rendimiento con todas las features"
      ]
    },
    {
      "cell_type": "code",
      "execution_count": 73,
      "metadata": {
        "id": "wdCrrnJabi6y"
      },
      "outputs": [],
      "source": [
        "#Construyendo el modelo final\n",
        "hb_model = HistGradientBoostingClassifier(learning_rate=0.29, max_depth=6,\n",
        "                               max_leaf_nodes=25)"
      ]
    },
    {
      "cell_type": "code",
      "execution_count": 74,
      "metadata": {
        "id": "coLW01zXdkLN",
        "colab": {
          "base_uri": "https://localhost:8080/",
          "height": 175
        },
        "outputId": "7fcef5a5-1386-4406-c263-0bfd0db9b06d"
      },
      "outputs": [
        {
          "output_type": "execute_result",
          "data": {
            "text/plain": [
              "  Prestaciones en test    HBoost\n",
              "0             Accuracy  0.796875\n",
              "1          Sensibility  0.333333\n",
              "2          Specificity  0.903846\n",
              "3              AUC ROC  0.618590"
            ],
            "text/html": [
              "\n",
              "  <div id=\"df-686a3741-1122-4468-80b2-766cecb1139e\">\n",
              "    <div class=\"colab-df-container\">\n",
              "      <div>\n",
              "<style scoped>\n",
              "    .dataframe tbody tr th:only-of-type {\n",
              "        vertical-align: middle;\n",
              "    }\n",
              "\n",
              "    .dataframe tbody tr th {\n",
              "        vertical-align: top;\n",
              "    }\n",
              "\n",
              "    .dataframe thead th {\n",
              "        text-align: right;\n",
              "    }\n",
              "</style>\n",
              "<table border=\"1\" class=\"dataframe\">\n",
              "  <thead>\n",
              "    <tr style=\"text-align: right;\">\n",
              "      <th></th>\n",
              "      <th>Prestaciones en test</th>\n",
              "      <th>HBoost</th>\n",
              "    </tr>\n",
              "  </thead>\n",
              "  <tbody>\n",
              "    <tr>\n",
              "      <th>0</th>\n",
              "      <td>Accuracy</td>\n",
              "      <td>0.796875</td>\n",
              "    </tr>\n",
              "    <tr>\n",
              "      <th>1</th>\n",
              "      <td>Sensibility</td>\n",
              "      <td>0.333333</td>\n",
              "    </tr>\n",
              "    <tr>\n",
              "      <th>2</th>\n",
              "      <td>Specificity</td>\n",
              "      <td>0.903846</td>\n",
              "    </tr>\n",
              "    <tr>\n",
              "      <th>3</th>\n",
              "      <td>AUC ROC</td>\n",
              "      <td>0.618590</td>\n",
              "    </tr>\n",
              "  </tbody>\n",
              "</table>\n",
              "</div>\n",
              "      <button class=\"colab-df-convert\" onclick=\"convertToInteractive('df-686a3741-1122-4468-80b2-766cecb1139e')\"\n",
              "              title=\"Convert this dataframe to an interactive table.\"\n",
              "              style=\"display:none;\">\n",
              "        \n",
              "  <svg xmlns=\"http://www.w3.org/2000/svg\" height=\"24px\"viewBox=\"0 0 24 24\"\n",
              "       width=\"24px\">\n",
              "    <path d=\"M0 0h24v24H0V0z\" fill=\"none\"/>\n",
              "    <path d=\"M18.56 5.44l.94 2.06.94-2.06 2.06-.94-2.06-.94-.94-2.06-.94 2.06-2.06.94zm-11 1L8.5 8.5l.94-2.06 2.06-.94-2.06-.94L8.5 2.5l-.94 2.06-2.06.94zm10 10l.94 2.06.94-2.06 2.06-.94-2.06-.94-.94-2.06-.94 2.06-2.06.94z\"/><path d=\"M17.41 7.96l-1.37-1.37c-.4-.4-.92-.59-1.43-.59-.52 0-1.04.2-1.43.59L10.3 9.45l-7.72 7.72c-.78.78-.78 2.05 0 2.83L4 21.41c.39.39.9.59 1.41.59.51 0 1.02-.2 1.41-.59l7.78-7.78 2.81-2.81c.8-.78.8-2.07 0-2.86zM5.41 20L4 18.59l7.72-7.72 1.47 1.35L5.41 20z\"/>\n",
              "  </svg>\n",
              "      </button>\n",
              "      \n",
              "  <style>\n",
              "    .colab-df-container {\n",
              "      display:flex;\n",
              "      flex-wrap:wrap;\n",
              "      gap: 12px;\n",
              "    }\n",
              "\n",
              "    .colab-df-convert {\n",
              "      background-color: #E8F0FE;\n",
              "      border: none;\n",
              "      border-radius: 50%;\n",
              "      cursor: pointer;\n",
              "      display: none;\n",
              "      fill: #1967D2;\n",
              "      height: 32px;\n",
              "      padding: 0 0 0 0;\n",
              "      width: 32px;\n",
              "    }\n",
              "\n",
              "    .colab-df-convert:hover {\n",
              "      background-color: #E2EBFA;\n",
              "      box-shadow: 0px 1px 2px rgba(60, 64, 67, 0.3), 0px 1px 3px 1px rgba(60, 64, 67, 0.15);\n",
              "      fill: #174EA6;\n",
              "    }\n",
              "\n",
              "    [theme=dark] .colab-df-convert {\n",
              "      background-color: #3B4455;\n",
              "      fill: #D2E3FC;\n",
              "    }\n",
              "\n",
              "    [theme=dark] .colab-df-convert:hover {\n",
              "      background-color: #434B5C;\n",
              "      box-shadow: 0px 1px 3px 1px rgba(0, 0, 0, 0.15);\n",
              "      filter: drop-shadow(0px 1px 2px rgba(0, 0, 0, 0.3));\n",
              "      fill: #FFFFFF;\n",
              "    }\n",
              "  </style>\n",
              "\n",
              "      <script>\n",
              "        const buttonEl =\n",
              "          document.querySelector('#df-686a3741-1122-4468-80b2-766cecb1139e button.colab-df-convert');\n",
              "        buttonEl.style.display =\n",
              "          google.colab.kernel.accessAllowed ? 'block' : 'none';\n",
              "\n",
              "        async function convertToInteractive(key) {\n",
              "          const element = document.querySelector('#df-686a3741-1122-4468-80b2-766cecb1139e');\n",
              "          const dataTable =\n",
              "            await google.colab.kernel.invokeFunction('convertToInteractive',\n",
              "                                                     [key], {});\n",
              "          if (!dataTable) return;\n",
              "\n",
              "          const docLinkHtml = 'Like what you see? Visit the ' +\n",
              "            '<a target=\"_blank\" href=https://colab.research.google.com/notebooks/data_table.ipynb>data table notebook</a>'\n",
              "            + ' to learn more about interactive tables.';\n",
              "          element.innerHTML = '';\n",
              "          dataTable['output_type'] = 'display_data';\n",
              "          await google.colab.output.renderOutput(dataTable, element);\n",
              "          const docLink = document.createElement('div');\n",
              "          docLink.innerHTML = docLinkHtml;\n",
              "          element.appendChild(docLink);\n",
              "        }\n",
              "      </script>\n",
              "    </div>\n",
              "  </div>\n",
              "  "
            ]
          },
          "metadata": {},
          "execution_count": 74
        }
      ],
      "source": [
        "#Métricas\n",
        "\n",
        "hb_model.fit(x_train_1, y_train_1)\n",
        "\n",
        "y_pred = hb_model.predict(x_test_WR)\n",
        "\n",
        "acc_hb = accuracy_score(y_test, y_pred)\n",
        "sensibilidad_hb = recall_score(y_test, y_pred)\n",
        "#precision_xgb = precision_score(y_test, y_pred)\n",
        "specificity_hb = confusion_matrix(y_test, y_pred)[0][0]/(confusion_matrix(y_test, y_pred)[0][0]+confusion_matrix(y_test, y_pred)[0][1])\n",
        "auc_hb = roc_auc_score(y_test, y_pred)\n",
        "\n",
        "Tabla_3 = pd.DataFrame({ \"Prestaciones en test\":[\"Accuracy\",\"Sensibility\",'Specificity',\"AUC ROC\"],\n",
        "                      \"HBoost\" : [acc_hb, sensibilidad_hb, specificity_hb, auc_hb]})\n",
        "\n",
        "Tabla_3"
      ]
    },
    {
      "cell_type": "markdown",
      "metadata": {
        "id": "J1QskmnvvZmu"
      },
      "source": [
        "## 3.3 Selección de características (FS)"
      ]
    },
    {
      "cell_type": "code",
      "execution_count": 75,
      "metadata": {
        "id": "UF7lKwhL5Y0d",
        "colab": {
          "base_uri": "https://localhost:8080/",
          "height": 192
        },
        "outputId": "7abeaba6-384a-4aad-cbe3-9c4ccdbc5d01"
      },
      "outputs": [
        {
          "output_type": "execute_result",
          "data": {
            "text/plain": [
              "\"\\nimport seaborn as sns\\n#Plot feature importance\\ndef plot_feature_importance(importance,names,model_type):\\n\\n  #Create arrays from feature importance and feature names\\n  feature_importance = np.array(importance)\\n  feature_names = np.array(names)\\n\\n  #Create a DataFrame using a Dictionary\\n  data={'feature_names':feature_names,'feature_importance':feature_importance}\\n  fi_df = pd.DataFrame(data)\\n\\n  #Sort the DataFrame in order decreasing feature importance\\n  fi_df.sort_values(by=['feature_importance'], ascending=False,inplace=True)\\n\\n  #Define size of bar plot\\n  fig = plt.figure(figsize=(20,6))\\n  #Plot Searborn bar chart\\n  sns.barplot(y=fi_df['feature_importance'], x=fi_df['feature_names'])\\n  #Add chart labels\\n  plt.title(model_type + 'FEATURE IMPORTANCE')\\n  plt.xlabel('FEATURE IMPORTANCE')\\n  plt.ylabel('FEATURE NAMES')\\n  plt.tight_layout()\\n  fig.autofmt_xdate(rotation=45)\\n\\n\\nplot_feature_importance(hb_model.feature_importances_*100,x_train_1.columns,'Histogram-based')\\n\\nprint(np.sum(hb_model.feature_importances_))\\n\\n\""
            ],
            "application/vnd.google.colaboratory.intrinsic+json": {
              "type": "string"
            }
          },
          "metadata": {},
          "execution_count": 75
        }
      ],
      "source": [
        "\"\"\"\n",
        "import seaborn as sns\n",
        "#Plot feature importance\n",
        "def plot_feature_importance(importance,names,model_type):\n",
        "\n",
        "  #Create arrays from feature importance and feature names\n",
        "  feature_importance = np.array(importance)\n",
        "  feature_names = np.array(names)\n",
        "\n",
        "  #Create a DataFrame using a Dictionary\n",
        "  data={'feature_names':feature_names,'feature_importance':feature_importance}\n",
        "  fi_df = pd.DataFrame(data)\n",
        "\n",
        "  #Sort the DataFrame in order decreasing feature importance\n",
        "  fi_df.sort_values(by=['feature_importance'], ascending=False,inplace=True)\n",
        "\n",
        "  #Define size of bar plot\n",
        "  fig = plt.figure(figsize=(20,6))\n",
        "  #Plot Searborn bar chart\n",
        "  sns.barplot(y=fi_df['feature_importance'], x=fi_df['feature_names'])\n",
        "  #Add chart labels\n",
        "  plt.title(model_type + 'FEATURE IMPORTANCE')\n",
        "  plt.xlabel('FEATURE IMPORTANCE')\n",
        "  plt.ylabel('FEATURE NAMES')\n",
        "  plt.tight_layout()\n",
        "  fig.autofmt_xdate(rotation=45)\n",
        "\n",
        "\n",
        "plot_feature_importance(hb_model.feature_importances_*100,x_train_1.columns,'Histogram-based')\n",
        "\n",
        "print(np.sum(hb_model.feature_importances_))\n",
        "\n",
        "\"\"\""
      ]
    },
    {
      "cell_type": "markdown",
      "metadata": {
        "id": "Uu8VMWix5n00"
      },
      "source": [
        "### Permutation Importance"
      ]
    },
    {
      "cell_type": "markdown",
      "source": [
        "Selecciono las características del método permutation importance haciendo uso de .loc"
      ],
      "metadata": {
        "id": "JFfIKizv8-OC"
      }
    },
    {
      "cell_type": "code",
      "source": [
        "perm = PermutationImportance(hb_model, random_state=1).fit(x_test_WR, y_test)\n",
        "eli5.show_weights(perm, feature_names = x_test_WR.columns.tolist())"
      ],
      "metadata": {
        "colab": {
          "base_uri": "https://localhost:8080/",
          "height": 399
        },
        "outputId": "9d9efe06-36e9-4610-8abe-03f0888d11f6",
        "id": "aLrT5XhBi0V3"
      },
      "execution_count": 76,
      "outputs": [
        {
          "output_type": "execute_result",
          "data": {
            "text/plain": [
              "<IPython.core.display.HTML object>"
            ],
            "text/html": [
              "\n",
              "    <style>\n",
              "    table.eli5-weights tr:hover {\n",
              "        filter: brightness(85%);\n",
              "    }\n",
              "</style>\n",
              "\n",
              "\n",
              "\n",
              "    \n",
              "\n",
              "    \n",
              "\n",
              "    \n",
              "\n",
              "    \n",
              "\n",
              "    \n",
              "\n",
              "    \n",
              "\n",
              "\n",
              "    \n",
              "\n",
              "    \n",
              "\n",
              "    \n",
              "\n",
              "    \n",
              "\n",
              "    \n",
              "\n",
              "    \n",
              "\n",
              "\n",
              "    \n",
              "\n",
              "    \n",
              "\n",
              "    \n",
              "\n",
              "    \n",
              "\n",
              "    \n",
              "        <table class=\"eli5-weights eli5-feature-importances\" style=\"border-collapse: collapse; border: none; margin-top: 0em; table-layout: auto;\">\n",
              "    <thead>\n",
              "    <tr style=\"border: none;\">\n",
              "        <th style=\"padding: 0 1em 0 0.5em; text-align: right; border: none;\">Weight</th>\n",
              "        <th style=\"padding: 0 0.5em 0 0.5em; text-align: left; border: none;\">Feature</th>\n",
              "    </tr>\n",
              "    </thead>\n",
              "    <tbody>\n",
              "    \n",
              "        <tr style=\"background-color: hsl(120, 100.00%, 80.00%); border: none;\">\n",
              "            <td style=\"padding: 0 1em 0 0.5em; text-align: right; border: none;\">\n",
              "                0.0594\n",
              "                \n",
              "                    &plusmn; 0.0696\n",
              "                \n",
              "            </td>\n",
              "            <td style=\"padding: 0 0.5em 0 0.5em; text-align: left; border: none;\">\n",
              "                MO-Y\n",
              "            </td>\n",
              "        </tr>\n",
              "    \n",
              "        <tr style=\"background-color: hsl(0, 100.00%, 100.00%); border: none;\">\n",
              "            <td style=\"padding: 0 1em 0 0.5em; text-align: right; border: none;\">\n",
              "                0\n",
              "                \n",
              "                    &plusmn; 0.0000\n",
              "                \n",
              "            </td>\n",
              "            <td style=\"padding: 0 0.5em 0 0.5em; text-align: left; border: none;\">\n",
              "                BA-D%\n",
              "            </td>\n",
              "        </tr>\n",
              "    \n",
              "        <tr style=\"background-color: hsl(0, 100.00%, 100.00%); border: none;\">\n",
              "            <td style=\"padding: 0 1em 0 0.5em; text-align: right; border: none;\">\n",
              "                0\n",
              "                \n",
              "                    &plusmn; 0.0000\n",
              "                \n",
              "            </td>\n",
              "            <td style=\"padding: 0 0.5em 0 0.5em; text-align: left; border: none;\">\n",
              "                Sexo del Paciente\n",
              "            </td>\n",
              "        </tr>\n",
              "    \n",
              "        <tr style=\"background-color: hsl(0, 100.00%, 100.00%); border: none;\">\n",
              "            <td style=\"padding: 0 1em 0 0.5em; text-align: right; border: none;\">\n",
              "                0\n",
              "                \n",
              "                    &plusmn; 0.0000\n",
              "                \n",
              "            </td>\n",
              "            <td style=\"padding: 0 0.5em 0 0.5em; text-align: left; border: none;\">\n",
              "                BA-D#\n",
              "            </td>\n",
              "        </tr>\n",
              "    \n",
              "        <tr style=\"background-color: hsl(0, 100.00%, 100.00%); border: none;\">\n",
              "            <td style=\"padding: 0 1em 0 0.5em; text-align: right; border: none;\">\n",
              "                0\n",
              "                \n",
              "                    &plusmn; 0.0000\n",
              "                \n",
              "            </td>\n",
              "            <td style=\"padding: 0 0.5em 0 0.5em; text-align: left; border: none;\">\n",
              "                MacR\n",
              "            </td>\n",
              "        </tr>\n",
              "    \n",
              "        <tr style=\"background-color: hsl(0, 100.00%, 100.00%); border: none;\">\n",
              "            <td style=\"padding: 0 1em 0 0.5em; text-align: right; border: none;\">\n",
              "                0\n",
              "                \n",
              "                    &plusmn; 0.0000\n",
              "                \n",
              "            </td>\n",
              "            <td style=\"padding: 0 0.5em 0 0.5em; text-align: left; border: none;\">\n",
              "                rPL/L\n",
              "            </td>\n",
              "        </tr>\n",
              "    \n",
              "        <tr style=\"background-color: hsl(0, 100.00%, 100.00%); border: none;\">\n",
              "            <td style=\"padding: 0 1em 0 0.5em; text-align: right; border: none;\">\n",
              "                0\n",
              "                \n",
              "                    &plusmn; 0.0000\n",
              "                \n",
              "            </td>\n",
              "            <td style=\"padding: 0 0.5em 0 0.5em; text-align: left; border: none;\">\n",
              "                VPM\n",
              "            </td>\n",
              "        </tr>\n",
              "    \n",
              "        <tr style=\"background-color: hsl(0, 100.00%, 100.00%); border: none;\">\n",
              "            <td style=\"padding: 0 1em 0 0.5em; text-align: right; border: none;\">\n",
              "                0\n",
              "                \n",
              "                    &plusmn; 0.0000\n",
              "                \n",
              "            </td>\n",
              "            <td style=\"padding: 0 0.5em 0 0.5em; text-align: left; border: none;\">\n",
              "                PLTI\n",
              "            </td>\n",
              "        </tr>\n",
              "    \n",
              "        <tr style=\"background-color: hsl(0, 100.00%, 100.00%); border: none;\">\n",
              "            <td style=\"padding: 0 1em 0 0.5em; text-align: right; border: none;\">\n",
              "                0\n",
              "                \n",
              "                    &plusmn; 0.0000\n",
              "                \n",
              "            </td>\n",
              "            <td style=\"padding: 0 0.5em 0 0.5em; text-align: left; border: none;\">\n",
              "                PLT\n",
              "            </td>\n",
              "        </tr>\n",
              "    \n",
              "        <tr style=\"background-color: hsl(0, 100.00%, 100.00%); border: none;\">\n",
              "            <td style=\"padding: 0 1em 0 0.5em; text-align: right; border: none;\">\n",
              "                0\n",
              "                \n",
              "                    &plusmn; 0.0000\n",
              "                \n",
              "            </td>\n",
              "            <td style=\"padding: 0 0.5em 0 0.5em; text-align: left; border: none;\">\n",
              "                NEUp\n",
              "            </td>\n",
              "        </tr>\n",
              "    \n",
              "        <tr style=\"background-color: hsl(0, 100.00%, 100.00%); border: none;\">\n",
              "            <td style=\"padding: 0 1em 0 0.5em; text-align: right; border: none;\">\n",
              "                0\n",
              "                \n",
              "                    &plusmn; 0.0000\n",
              "                \n",
              "            </td>\n",
              "            <td style=\"padding: 0 0.5em 0 0.5em; text-align: left; border: none;\">\n",
              "                ERBLp\n",
              "            </td>\n",
              "        </tr>\n",
              "    \n",
              "        <tr style=\"background-color: hsl(0, 100.00%, 100.00%); border: none;\">\n",
              "            <td style=\"padding: 0 1em 0 0.5em; text-align: right; border: none;\">\n",
              "                0\n",
              "                \n",
              "                    &plusmn; 0.0000\n",
              "                \n",
              "            </td>\n",
              "            <td style=\"padding: 0 0.5em 0 0.5em; text-align: left; border: none;\">\n",
              "                ERBL\n",
              "            </td>\n",
              "        </tr>\n",
              "    \n",
              "        <tr style=\"background-color: hsl(0, 100.00%, 100.00%); border: none;\">\n",
              "            <td style=\"padding: 0 1em 0 0.5em; text-align: right; border: none;\">\n",
              "                0\n",
              "                \n",
              "                    &plusmn; 0.0000\n",
              "                \n",
              "            </td>\n",
              "            <td style=\"padding: 0 0.5em 0 0.5em; text-align: left; border: none;\">\n",
              "                BA-N%\n",
              "            </td>\n",
              "        </tr>\n",
              "    \n",
              "        <tr style=\"background-color: hsl(0, 100.00%, 100.00%); border: none;\">\n",
              "            <td style=\"padding: 0 1em 0 0.5em; text-align: right; border: none;\">\n",
              "                0\n",
              "                \n",
              "                    &plusmn; 0.0000\n",
              "                \n",
              "            </td>\n",
              "            <td style=\"padding: 0 0.5em 0 0.5em; text-align: left; border: none;\">\n",
              "                HFLCA\n",
              "            </td>\n",
              "        </tr>\n",
              "    \n",
              "        <tr style=\"background-color: hsl(0, 100.00%, 100.00%); border: none;\">\n",
              "            <td style=\"padding: 0 1em 0 0.5em; text-align: right; border: none;\">\n",
              "                0\n",
              "                \n",
              "                    &plusmn; 0.0000\n",
              "                \n",
              "            </td>\n",
              "            <td style=\"padding: 0 0.5em 0 0.5em; text-align: left; border: none;\">\n",
              "                VCM\n",
              "            </td>\n",
              "        </tr>\n",
              "    \n",
              "        <tr style=\"background-color: hsl(0, 100.00%, 100.00%); border: none;\">\n",
              "            <td style=\"padding: 0 1em 0 0.5em; text-align: right; border: none;\">\n",
              "                0\n",
              "                \n",
              "                    &plusmn; 0.0000\n",
              "                \n",
              "            </td>\n",
              "            <td style=\"padding: 0 0.5em 0 0.5em; text-align: left; border: none;\">\n",
              "                LIN\n",
              "            </td>\n",
              "        </tr>\n",
              "    \n",
              "        <tr style=\"background-color: hsl(0, 100.00%, 100.00%); border: none;\">\n",
              "            <td style=\"padding: 0 1em 0 0.5em; text-align: right; border: none;\">\n",
              "                0\n",
              "                \n",
              "                    &plusmn; 0.0000\n",
              "                \n",
              "            </td>\n",
              "            <td style=\"padding: 0 0.5em 0 0.5em; text-align: left; border: none;\">\n",
              "                NEU\n",
              "            </td>\n",
              "        </tr>\n",
              "    \n",
              "        <tr style=\"background-color: hsl(0, 100.00%, 100.00%); border: none;\">\n",
              "            <td style=\"padding: 0 1em 0 0.5em; text-align: right; border: none;\">\n",
              "                0\n",
              "                \n",
              "                    &plusmn; 0.0000\n",
              "                \n",
              "            </td>\n",
              "            <td style=\"padding: 0 0.5em 0 0.5em; text-align: left; border: none;\">\n",
              "                RDW\n",
              "            </td>\n",
              "        </tr>\n",
              "    \n",
              "        <tr style=\"background-color: hsl(0, 100.00%, 100.00%); border: none;\">\n",
              "            <td style=\"padding: 0 1em 0 0.5em; text-align: right; border: none;\">\n",
              "                0\n",
              "                \n",
              "                    &plusmn; 0.0000\n",
              "                \n",
              "            </td>\n",
              "            <td style=\"padding: 0 0.5em 0 0.5em; text-align: left; border: none;\">\n",
              "                BA-N#\n",
              "            </td>\n",
              "        </tr>\n",
              "    \n",
              "        <tr style=\"background-color: hsl(0, 100.00%, 100.00%); border: none;\">\n",
              "            <td style=\"padding: 0 1em 0 0.5em; text-align: right; border: none;\">\n",
              "                0\n",
              "                \n",
              "                    &plusmn; 0.0000\n",
              "                \n",
              "            </td>\n",
              "            <td style=\"padding: 0 0.5em 0 0.5em; text-align: left; border: none;\">\n",
              "                NEFSC\n",
              "            </td>\n",
              "        </tr>\n",
              "    \n",
              "    \n",
              "        \n",
              "            <tr style=\"background-color: hsl(0, 100.00%, 100.00%); border: none;\">\n",
              "                <td colspan=\"2\" style=\"padding: 0 0.5em 0 0.5em; text-align: center; border: none; white-space: nowrap;\">\n",
              "                    <i>&hellip; 46 more &hellip;</i>\n",
              "                </td>\n",
              "            </tr>\n",
              "        \n",
              "    \n",
              "    </tbody>\n",
              "</table>\n",
              "    \n",
              "\n",
              "    \n",
              "\n",
              "\n",
              "    \n",
              "\n",
              "    \n",
              "\n",
              "    \n",
              "\n",
              "    \n",
              "\n",
              "    \n",
              "\n",
              "    \n",
              "\n",
              "\n",
              "\n"
            ]
          },
          "metadata": {},
          "execution_count": 76
        }
      ]
    },
    {
      "cell_type": "markdown",
      "metadata": {
        "id": "f5VOjw0FeWeb"
      },
      "source": [
        "## 3.4 Rendimiento con FS en el conjunto de test"
      ]
    },
    {
      "cell_type": "code",
      "source": [
        "X_train_FT_hb = x_train_1.loc[:,['MO-Y']]\n",
        "X_test_FT_hb = x_test_WR.loc[:,['MO-Y']]"
      ],
      "metadata": {
        "id": "enfXMFt_i_fv"
      },
      "execution_count": 77,
      "outputs": []
    },
    {
      "cell_type": "code",
      "execution_count": 78,
      "metadata": {
        "colab": {
          "base_uri": "https://localhost:8080/"
        },
        "outputId": "1fbd71c3-2754-4a9f-9681-a25f62de6fa5",
        "id": "ZnrSKQKCjD1a"
      },
      "outputs": [
        {
          "output_type": "execute_result",
          "data": {
            "text/plain": [
              "HistGradientBoostingClassifier(learning_rate=0.29, max_depth=6,\n",
              "                               max_leaf_nodes=25)"
            ]
          },
          "metadata": {},
          "execution_count": 78
        }
      ],
      "source": [
        "hb_FS = HistGradientBoostingClassifier(learning_rate=0.29, max_depth=6, max_leaf_nodes=25)\n",
        "hb_FS.fit(X_train_FT_hb, y_train_1)"
      ]
    },
    {
      "cell_type": "code",
      "execution_count": 79,
      "metadata": {
        "colab": {
          "base_uri": "https://localhost:8080/",
          "height": 175
        },
        "outputId": "ba56c850-b2de-4f2d-9d43-77e9bb4b3d00",
        "id": "uRmU0tTnjapE"
      },
      "outputs": [
        {
          "output_type": "execute_result",
          "data": {
            "text/plain": [
              "  Prestaciones en test  HBoost total  HBoost 1 features \n",
              "0             Accuracy      0.796875            0.703125\n",
              "1          Sensibility      0.333333            0.500000\n",
              "2          Specificity      0.903846            0.750000\n",
              "3              AUC ROC      0.618590            0.625000"
            ],
            "text/html": [
              "\n",
              "  <div id=\"df-e324104d-d2a0-42d2-9ee7-d60214c4d7b5\">\n",
              "    <div class=\"colab-df-container\">\n",
              "      <div>\n",
              "<style scoped>\n",
              "    .dataframe tbody tr th:only-of-type {\n",
              "        vertical-align: middle;\n",
              "    }\n",
              "\n",
              "    .dataframe tbody tr th {\n",
              "        vertical-align: top;\n",
              "    }\n",
              "\n",
              "    .dataframe thead th {\n",
              "        text-align: right;\n",
              "    }\n",
              "</style>\n",
              "<table border=\"1\" class=\"dataframe\">\n",
              "  <thead>\n",
              "    <tr style=\"text-align: right;\">\n",
              "      <th></th>\n",
              "      <th>Prestaciones en test</th>\n",
              "      <th>HBoost total</th>\n",
              "      <th>HBoost 1 features</th>\n",
              "    </tr>\n",
              "  </thead>\n",
              "  <tbody>\n",
              "    <tr>\n",
              "      <th>0</th>\n",
              "      <td>Accuracy</td>\n",
              "      <td>0.796875</td>\n",
              "      <td>0.703125</td>\n",
              "    </tr>\n",
              "    <tr>\n",
              "      <th>1</th>\n",
              "      <td>Sensibility</td>\n",
              "      <td>0.333333</td>\n",
              "      <td>0.500000</td>\n",
              "    </tr>\n",
              "    <tr>\n",
              "      <th>2</th>\n",
              "      <td>Specificity</td>\n",
              "      <td>0.903846</td>\n",
              "      <td>0.750000</td>\n",
              "    </tr>\n",
              "    <tr>\n",
              "      <th>3</th>\n",
              "      <td>AUC ROC</td>\n",
              "      <td>0.618590</td>\n",
              "      <td>0.625000</td>\n",
              "    </tr>\n",
              "  </tbody>\n",
              "</table>\n",
              "</div>\n",
              "      <button class=\"colab-df-convert\" onclick=\"convertToInteractive('df-e324104d-d2a0-42d2-9ee7-d60214c4d7b5')\"\n",
              "              title=\"Convert this dataframe to an interactive table.\"\n",
              "              style=\"display:none;\">\n",
              "        \n",
              "  <svg xmlns=\"http://www.w3.org/2000/svg\" height=\"24px\"viewBox=\"0 0 24 24\"\n",
              "       width=\"24px\">\n",
              "    <path d=\"M0 0h24v24H0V0z\" fill=\"none\"/>\n",
              "    <path d=\"M18.56 5.44l.94 2.06.94-2.06 2.06-.94-2.06-.94-.94-2.06-.94 2.06-2.06.94zm-11 1L8.5 8.5l.94-2.06 2.06-.94-2.06-.94L8.5 2.5l-.94 2.06-2.06.94zm10 10l.94 2.06.94-2.06 2.06-.94-2.06-.94-.94-2.06-.94 2.06-2.06.94z\"/><path d=\"M17.41 7.96l-1.37-1.37c-.4-.4-.92-.59-1.43-.59-.52 0-1.04.2-1.43.59L10.3 9.45l-7.72 7.72c-.78.78-.78 2.05 0 2.83L4 21.41c.39.39.9.59 1.41.59.51 0 1.02-.2 1.41-.59l7.78-7.78 2.81-2.81c.8-.78.8-2.07 0-2.86zM5.41 20L4 18.59l7.72-7.72 1.47 1.35L5.41 20z\"/>\n",
              "  </svg>\n",
              "      </button>\n",
              "      \n",
              "  <style>\n",
              "    .colab-df-container {\n",
              "      display:flex;\n",
              "      flex-wrap:wrap;\n",
              "      gap: 12px;\n",
              "    }\n",
              "\n",
              "    .colab-df-convert {\n",
              "      background-color: #E8F0FE;\n",
              "      border: none;\n",
              "      border-radius: 50%;\n",
              "      cursor: pointer;\n",
              "      display: none;\n",
              "      fill: #1967D2;\n",
              "      height: 32px;\n",
              "      padding: 0 0 0 0;\n",
              "      width: 32px;\n",
              "    }\n",
              "\n",
              "    .colab-df-convert:hover {\n",
              "      background-color: #E2EBFA;\n",
              "      box-shadow: 0px 1px 2px rgba(60, 64, 67, 0.3), 0px 1px 3px 1px rgba(60, 64, 67, 0.15);\n",
              "      fill: #174EA6;\n",
              "    }\n",
              "\n",
              "    [theme=dark] .colab-df-convert {\n",
              "      background-color: #3B4455;\n",
              "      fill: #D2E3FC;\n",
              "    }\n",
              "\n",
              "    [theme=dark] .colab-df-convert:hover {\n",
              "      background-color: #434B5C;\n",
              "      box-shadow: 0px 1px 3px 1px rgba(0, 0, 0, 0.15);\n",
              "      filter: drop-shadow(0px 1px 2px rgba(0, 0, 0, 0.3));\n",
              "      fill: #FFFFFF;\n",
              "    }\n",
              "  </style>\n",
              "\n",
              "      <script>\n",
              "        const buttonEl =\n",
              "          document.querySelector('#df-e324104d-d2a0-42d2-9ee7-d60214c4d7b5 button.colab-df-convert');\n",
              "        buttonEl.style.display =\n",
              "          google.colab.kernel.accessAllowed ? 'block' : 'none';\n",
              "\n",
              "        async function convertToInteractive(key) {\n",
              "          const element = document.querySelector('#df-e324104d-d2a0-42d2-9ee7-d60214c4d7b5');\n",
              "          const dataTable =\n",
              "            await google.colab.kernel.invokeFunction('convertToInteractive',\n",
              "                                                     [key], {});\n",
              "          if (!dataTable) return;\n",
              "\n",
              "          const docLinkHtml = 'Like what you see? Visit the ' +\n",
              "            '<a target=\"_blank\" href=https://colab.research.google.com/notebooks/data_table.ipynb>data table notebook</a>'\n",
              "            + ' to learn more about interactive tables.';\n",
              "          element.innerHTML = '';\n",
              "          dataTable['output_type'] = 'display_data';\n",
              "          await google.colab.output.renderOutput(dataTable, element);\n",
              "          const docLink = document.createElement('div');\n",
              "          docLink.innerHTML = docLinkHtml;\n",
              "          element.appendChild(docLink);\n",
              "        }\n",
              "      </script>\n",
              "    </div>\n",
              "  </div>\n",
              "  "
            ]
          },
          "metadata": {},
          "execution_count": 79
        }
      ],
      "source": [
        "from sklearn.metrics import roc_auc_score\n",
        "\n",
        "#Todas las características\n",
        "y_pred_tot = hb_model.predict(x_test_WR)\n",
        "acc_tot = accuracy_score(y_test, y_pred_tot)\n",
        "sensibilidad_tot = recall_score(y_test, y_pred_tot)\n",
        "#precision_tot=precision_score(y_test, y_pred_tot)\n",
        "specificity_tot = confusion_matrix(y_test, y_pred_tot)[0][0]/(confusion_matrix(y_test, y_pred_tot)[0][0]+confusion_matrix(y_test, y_pred_tot)[0][1])\n",
        "auc_tot = roc_auc_score(y_test, y_pred_tot)\n",
        "\n",
        "\n",
        "#1 características \n",
        "y_pred_1 = hb_FS.predict(X_test_FT_hb)\n",
        "acc_1 = accuracy_score(y_test, y_pred_1)\n",
        "sensibilidad_1 = recall_score(y_test, y_pred_1)\n",
        "#precision_2 = precision_score(y_test, y_pred_2)\n",
        "specificity_1 = confusion_matrix(y_test, y_pred_1)[0][0]/(confusion_matrix(y_test, y_pred_1)[0][0]+confusion_matrix(y_test, y_pred_1)[0][1])\n",
        "auc_1 = roc_auc_score(y_test, y_pred_1)\n",
        "\n",
        "Tabla_hb = pd.DataFrame({\"Prestaciones en test\":[\"Accuracy\",\"Sensibility\",'Specificity',\"AUC ROC\"],\n",
        "                         \"HBoost total\" : [acc_tot, sensibilidad_tot, specificity_tot, auc_tot], \n",
        "                      \"HBoost 1 features \" : [acc_1, sensibilidad_1, specificity_1, auc_1]})\n",
        "Tabla_hb"
      ]
    },
    {
      "cell_type": "code",
      "execution_count": 80,
      "metadata": {
        "colab": {
          "base_uri": "https://localhost:8080/",
          "height": 367
        },
        "outputId": "89d7df9e-cfed-43ec-b563-b7dccb3ef0c5",
        "id": "fIYqnDTG9D0M"
      },
      "outputs": [
        {
          "output_type": "stream",
          "name": "stderr",
          "text": [
            "/usr/local/lib/python3.7/dist-packages/sklearn/utils/deprecation.py:87: FutureWarning: Function plot_confusion_matrix is deprecated; Function `plot_confusion_matrix` is deprecated in 1.0 and will be removed in 1.2. Use one of the class methods: ConfusionMatrixDisplay.from_predictions or ConfusionMatrixDisplay.from_estimator.\n",
            "  warnings.warn(msg, category=FutureWarning)\n"
          ]
        },
        {
          "output_type": "execute_result",
          "data": {
            "text/plain": [
              "Text(0.5, 1.0, 'HBoost all features')"
            ]
          },
          "metadata": {},
          "execution_count": 80
        },
        {
          "output_type": "display_data",
          "data": {
            "text/plain": [
              "<Figure size 432x288 with 2 Axes>"
            ],
            "image/png": "[encoded data removed]"
          },
          "metadata": {
            "needs_background": "light"
          }
        }
      ],
      "source": [
        "#GBoost all features\n",
        "plot_confusion_matrix(hb_model, x_test_WR, y_test,display_labels=[\"Sano\",\"No sano\"],\n",
        "                                 cmap=plt.cm.Blues)\n",
        "plt.title(\"HBoost all features\")"
      ]
    },
    {
      "cell_type": "code",
      "source": [
        "#GBoost 2 features\n",
        "plot_confusion_matrix(hb_FS, X_test_FT_hb, y_test,display_labels=[\"Sano\",\"No sano\"],\n",
        "                                 cmap=plt.cm.Blues)\n",
        "plt.title(\"HBoost 2 features\")"
      ],
      "metadata": {
        "colab": {
          "base_uri": "https://localhost:8080/",
          "height": 367
        },
        "id": "AG2H145K9JWN",
        "outputId": "dd029f8c-2695-42a9-f290-70ee3df2664a"
      },
      "execution_count": 81,
      "outputs": [
        {
          "output_type": "stream",
          "name": "stderr",
          "text": [
            "/usr/local/lib/python3.7/dist-packages/sklearn/utils/deprecation.py:87: FutureWarning: Function plot_confusion_matrix is deprecated; Function `plot_confusion_matrix` is deprecated in 1.0 and will be removed in 1.2. Use one of the class methods: ConfusionMatrixDisplay.from_predictions or ConfusionMatrixDisplay.from_estimator.\n",
            "  warnings.warn(msg, category=FutureWarning)\n"
          ]
        },
        {
          "output_type": "execute_result",
          "data": {
            "text/plain": [
              "Text(0.5, 1.0, 'HBoost 2 features')"
            ]
          },
          "metadata": {},
          "execution_count": 81
        },
        {
          "output_type": "display_data",
          "data": {
            "text/plain": [
              "<Figure size 432x288 with 2 Axes>"
            ],
            "image/png": "[encoded data removed]"
          },
          "metadata": {
            "needs_background": "light"
          }
        }
      ]
    },
    {
      "cell_type": "markdown",
      "metadata": {
        "id": "LWyGEa_1fid8"
      },
      "source": [
        "# 4. Machine learning añadiendo información sobre la tendencia temporal"
      ]
    },
    {
      "cell_type": "markdown",
      "source": [
        "Tengo que añadir 3 columna nuevas por cada feature. Una columna con el primer coeficiente (se repite ese mismo coeficiente para todos los pacientes, es decir una columna entera con el mismo número). Y así con los otros 2 coeficientes"
      ],
      "metadata": {
        "id": "4IjCDqg50KV7"
      }
    },
    {
      "cell_type": "code",
      "execution_count": 85,
      "metadata": {
        "id": "xmMmDwG2Bt_H"
      },
      "outputs": [],
      "source": [
        "from sklearn.linear_model import LinearRegression\n",
        "\n",
        "def lin_reg_model(revi,x_val):\n",
        "    \"\"\"\n",
        "    Función que ajusta un modelo de regresión lineal para el conjunto de datos que viene dado por rev y x_val. Vamos a usar\n",
        "    sklearn, pero podríamos utilizar cualquier otro módulo de algebra lineal\n",
        "    \"\"\"\n",
        "    \n",
        "    #generamos la matrix X, que tiene que contener en una columna rev y en otra rev**2\n",
        "    \n",
        "    \n",
        "    rev_2 = revi**2\n",
        "    \n",
        "    X = np.vstack((np.ones(revi.shape),revi,rev_2)).T #JA Como quiero un polinomio de segundo orden... meto\n",
        "                      #unos que me sirven como \"a\", rev que me sirve como \"b\" y rev_2 que me sirve como \"c\"\n",
        "    \n",
        "    #ajustamos el modelo de regresion lineal\n",
        "    \n",
        "    #le digo false, para que me devuelva todo los coeficientes en coef_\n",
        "    clf = LinearRegression(fit_intercept=False) #yo creo que lo que haría, para que fuesen todos comparables sería \n",
        "    # normalizar los datos pero no lo tengo claro, lo tendría que pensar\n",
        "    \n",
        "    clf.fit(X,x_val)\n",
        "    \n",
        "    #devolvemos los coeficientes\n",
        "    return clf.coef_"
      ]
    },
    {
      "cell_type": "code",
      "execution_count": 88,
      "metadata": {
        "id": "8IOI6knOzLUi"
      },
      "outputs": [],
      "source": [
        "#Calculo de medias según el dataframe y la variable\n",
        "\n",
        "def mean_review(dataframe,variable):\n",
        "    mean_array = []\n",
        "    for i in dataframe['Revision'].unique(): ## JA, quiero que i coja los valores únicos. Es decir si aparece 1 que coja todos los 1 a la vez.\n",
        "        df_mask=dataframe['Revision']==i\n",
        "        filtered_df = dataframe[df_mask]\n",
        "\n",
        "        mean_df = filtered_df[variable].mean()  \n",
        "        #si tenemos valores que son NaN nos va a dar ese error\n",
        "        mean_array.append(mean_df)\n",
        " \n",
        "    return mean_array,filtered_df #Tengo que poner return en lugar de print, pues si pongo print cuando ejecuto la funcion me sale None junto a los valores. Y si me \n",
        "              #None, no puedo meter la función en lin_reg_model."
      ]
    },
    {
      "cell_type": "markdown",
      "source": [
        "## 4.1 XGBoost"
      ],
      "metadata": {
        "id": "Qbol2sxOxCAZ"
      }
    },
    {
      "cell_type": "code",
      "source": [
        "#Uso el dataframe x_train completo y selecciono las features escogidas por XGBoost mas la revisión\n",
        "x_train_FS_XGB = x_train[['MicR','LINp','HGB','HCM','NEUp','HFLCA','RELPL','ERIT','IGp','Revision']]\n",
        "x_train_FS_XGB"
      ],
      "metadata": {
        "colab": {
          "base_uri": "https://localhost:8080/",
          "height": 424
        },
        "id": "9ioP3GZqS7k1",
        "outputId": "0fdff8c9-3153-498b-a315-932a9d834d13"
      },
      "execution_count": 112,
      "outputs": [
        {
          "output_type": "execute_result",
          "data": {
            "text/plain": [
              "      MicR   LINp    HGB    HCM   NEUp  HFLCA  RELPL   ERIT   IGp  Revision\n",
              "0     1.40  17.90  13.80  29.60  66.40  0.000   3.70  4.660  0.30       2.0\n",
              "1     0.70  34.40  10.40  33.50  49.00  0.030  17.10  3.100  0.30       1.0\n",
              "2    10.90   6.60  14.20  26.10  82.70  0.030  18.30  5.440  0.40       2.0\n",
              "3     3.50  20.30  13.70  28.40  64.70  0.010   5.00  4.830  0.20       2.0\n",
              "4     1.60  40.80  15.70  29.60  45.80  0.000   5.70  5.310  0.20       3.0\n",
              "..     ...    ...    ...    ...    ...    ...    ...    ...   ...       ...\n",
              "251   1.30   4.30   9.30  30.80  88.70  0.010   9.10  3.020  0.50       3.0\n",
              "252   3.70  14.42  13.78  29.34  74.16  0.018  14.00  4.626  1.32       1.0\n",
              "253   2.20  29.60  11.60  29.40  63.30  0.030   7.10  3.940  0.70       2.0\n",
              "254   1.60  11.20  12.70  30.10  83.80  0.060  14.70  4.220  0.40       1.0\n",
              "255   1.98  15.62  14.70  31.12  73.14  0.052  17.36  4.718  1.08       1.0\n",
              "\n",
              "[256 rows x 10 columns]"
            ],
            "text/html": [
              "\n",
              "  <div id=\"df-90e482ec-ce96-419a-abaf-27e15580a938\">\n",
              "    <div class=\"colab-df-container\">\n",
              "      <div>\n",
              "<style scoped>\n",
              "    .dataframe tbody tr th:only-of-type {\n",
              "        vertical-align: middle;\n",
              "    }\n",
              "\n",
              "    .dataframe tbody tr th {\n",
              "        vertical-align: top;\n",
              "    }\n",
              "\n",
              "    .dataframe thead th {\n",
              "        text-align: right;\n",
              "    }\n",
              "</style>\n",
              "<table border=\"1\" class=\"dataframe\">\n",
              "  <thead>\n",
              "    <tr style=\"text-align: right;\">\n",
              "      <th></th>\n",
              "      <th>MicR</th>\n",
              "      <th>LINp</th>\n",
              "      <th>HGB</th>\n",
              "      <th>HCM</th>\n",
              "      <th>NEUp</th>\n",
              "      <th>HFLCA</th>\n",
              "      <th>RELPL</th>\n",
              "      <th>ERIT</th>\n",
              "      <th>IGp</th>\n",
              "      <th>Revision</th>\n",
              "    </tr>\n",
              "  </thead>\n",
              "  <tbody>\n",
              "    <tr>\n",
              "      <th>0</th>\n",
              "      <td>1.40</td>\n",
              "      <td>17.90</td>\n",
              "      <td>13.80</td>\n",
              "      <td>29.60</td>\n",
              "      <td>66.40</td>\n",
              "      <td>0.000</td>\n",
              "      <td>3.70</td>\n",
              "      <td>4.660</td>\n",
              "      <td>0.30</td>\n",
              "      <td>2.0</td>\n",
              "    </tr>\n",
              "    <tr>\n",
              "      <th>1</th>\n",
              "      <td>0.70</td>\n",
              "      <td>34.40</td>\n",
              "      <td>10.40</td>\n",
              "      <td>33.50</td>\n",
              "      <td>49.00</td>\n",
              "      <td>0.030</td>\n",
              "      <td>17.10</td>\n",
              "      <td>3.100</td>\n",
              "      <td>0.30</td>\n",
              "      <td>1.0</td>\n",
              "    </tr>\n",
              "    <tr>\n",
              "      <th>2</th>\n",
              "      <td>10.90</td>\n",
              "      <td>6.60</td>\n",
              "      <td>14.20</td>\n",
              "      <td>26.10</td>\n",
              "      <td>82.70</td>\n",
              "      <td>0.030</td>\n",
              "      <td>18.30</td>\n",
              "      <td>5.440</td>\n",
              "      <td>0.40</td>\n",
              "      <td>2.0</td>\n",
              "    </tr>\n",
              "    <tr>\n",
              "      <th>3</th>\n",
              "      <td>3.50</td>\n",
              "      <td>20.30</td>\n",
              "      <td>13.70</td>\n",
              "      <td>28.40</td>\n",
              "      <td>64.70</td>\n",
              "      <td>0.010</td>\n",
              "      <td>5.00</td>\n",
              "      <td>4.830</td>\n",
              "      <td>0.20</td>\n",
              "      <td>2.0</td>\n",
              "    </tr>\n",
              "    <tr>\n",
              "      <th>4</th>\n",
              "      <td>1.60</td>\n",
              "      <td>40.80</td>\n",
              "      <td>15.70</td>\n",
              "      <td>29.60</td>\n",
              "      <td>45.80</td>\n",
              "      <td>0.000</td>\n",
              "      <td>5.70</td>\n",
              "      <td>5.310</td>\n",
              "      <td>0.20</td>\n",
              "      <td>3.0</td>\n",
              "    </tr>\n",
              "    <tr>\n",
              "      <th>...</th>\n",
              "      <td>...</td>\n",
              "      <td>...</td>\n",
              "      <td>...</td>\n",
              "      <td>...</td>\n",
              "      <td>...</td>\n",
              "      <td>...</td>\n",
              "      <td>...</td>\n",
              "      <td>...</td>\n",
              "      <td>...</td>\n",
              "      <td>...</td>\n",
              "    </tr>\n",
              "    <tr>\n",
              "      <th>251</th>\n",
              "      <td>1.30</td>\n",
              "      <td>4.30</td>\n",
              "      <td>9.30</td>\n",
              "      <td>30.80</td>\n",
              "      <td>88.70</td>\n",
              "      <td>0.010</td>\n",
              "      <td>9.10</td>\n",
              "      <td>3.020</td>\n",
              "      <td>0.50</td>\n",
              "      <td>3.0</td>\n",
              "    </tr>\n",
              "    <tr>\n",
              "      <th>252</th>\n",
              "      <td>3.70</td>\n",
              "      <td>14.42</td>\n",
              "      <td>13.78</td>\n",
              "      <td>29.34</td>\n",
              "      <td>74.16</td>\n",
              "      <td>0.018</td>\n",
              "      <td>14.00</td>\n",
              "      <td>4.626</td>\n",
              "      <td>1.32</td>\n",
              "      <td>1.0</td>\n",
              "    </tr>\n",
              "    <tr>\n",
              "      <th>253</th>\n",
              "      <td>2.20</td>\n",
              "      <td>29.60</td>\n",
              "      <td>11.60</td>\n",
              "      <td>29.40</td>\n",
              "      <td>63.30</td>\n",
              "      <td>0.030</td>\n",
              "      <td>7.10</td>\n",
              "      <td>3.940</td>\n",
              "      <td>0.70</td>\n",
              "      <td>2.0</td>\n",
              "    </tr>\n",
              "    <tr>\n",
              "      <th>254</th>\n",
              "      <td>1.60</td>\n",
              "      <td>11.20</td>\n",
              "      <td>12.70</td>\n",
              "      <td>30.10</td>\n",
              "      <td>83.80</td>\n",
              "      <td>0.060</td>\n",
              "      <td>14.70</td>\n",
              "      <td>4.220</td>\n",
              "      <td>0.40</td>\n",
              "      <td>1.0</td>\n",
              "    </tr>\n",
              "    <tr>\n",
              "      <th>255</th>\n",
              "      <td>1.98</td>\n",
              "      <td>15.62</td>\n",
              "      <td>14.70</td>\n",
              "      <td>31.12</td>\n",
              "      <td>73.14</td>\n",
              "      <td>0.052</td>\n",
              "      <td>17.36</td>\n",
              "      <td>4.718</td>\n",
              "      <td>1.08</td>\n",
              "      <td>1.0</td>\n",
              "    </tr>\n",
              "  </tbody>\n",
              "</table>\n",
              "<p>256 rows × 10 columns</p>\n",
              "</div>\n",
              "      <button class=\"colab-df-convert\" onclick=\"convertToInteractive('df-90e482ec-ce96-419a-abaf-27e15580a938')\"\n",
              "              title=\"Convert this dataframe to an interactive table.\"\n",
              "              style=\"display:none;\">\n",
              "        \n",
              "  <svg xmlns=\"http://www.w3.org/2000/svg\" height=\"24px\"viewBox=\"0 0 24 24\"\n",
              "       width=\"24px\">\n",
              "    <path d=\"M0 0h24v24H0V0z\" fill=\"none\"/>\n",
              "    <path d=\"M18.56 5.44l.94 2.06.94-2.06 2.06-.94-2.06-.94-.94-2.06-.94 2.06-2.06.94zm-11 1L8.5 8.5l.94-2.06 2.06-.94-2.06-.94L8.5 2.5l-.94 2.06-2.06.94zm10 10l.94 2.06.94-2.06 2.06-.94-2.06-.94-.94-2.06-.94 2.06-2.06.94z\"/><path d=\"M17.41 7.96l-1.37-1.37c-.4-.4-.92-.59-1.43-.59-.52 0-1.04.2-1.43.59L10.3 9.45l-7.72 7.72c-.78.78-.78 2.05 0 2.83L4 21.41c.39.39.9.59 1.41.59.51 0 1.02-.2 1.41-.59l7.78-7.78 2.81-2.81c.8-.78.8-2.07 0-2.86zM5.41 20L4 18.59l7.72-7.72 1.47 1.35L5.41 20z\"/>\n",
              "  </svg>\n",
              "      </button>\n",
              "      \n",
              "  <style>\n",
              "    .colab-df-container {\n",
              "      display:flex;\n",
              "      flex-wrap:wrap;\n",
              "      gap: 12px;\n",
              "    }\n",
              "\n",
              "    .colab-df-convert {\n",
              "      background-color: #E8F0FE;\n",
              "      border: none;\n",
              "      border-radius: 50%;\n",
              "      cursor: pointer;\n",
              "      display: none;\n",
              "      fill: #1967D2;\n",
              "      height: 32px;\n",
              "      padding: 0 0 0 0;\n",
              "      width: 32px;\n",
              "    }\n",
              "\n",
              "    .colab-df-convert:hover {\n",
              "      background-color: #E2EBFA;\n",
              "      box-shadow: 0px 1px 2px rgba(60, 64, 67, 0.3), 0px 1px 3px 1px rgba(60, 64, 67, 0.15);\n",
              "      fill: #174EA6;\n",
              "    }\n",
              "\n",
              "    [theme=dark] .colab-df-convert {\n",
              "      background-color: #3B4455;\n",
              "      fill: #D2E3FC;\n",
              "    }\n",
              "\n",
              "    [theme=dark] .colab-df-convert:hover {\n",
              "      background-color: #434B5C;\n",
              "      box-shadow: 0px 1px 3px 1px rgba(0, 0, 0, 0.15);\n",
              "      filter: drop-shadow(0px 1px 2px rgba(0, 0, 0, 0.3));\n",
              "      fill: #FFFFFF;\n",
              "    }\n",
              "  </style>\n",
              "\n",
              "      <script>\n",
              "        const buttonEl =\n",
              "          document.querySelector('#df-90e482ec-ce96-419a-abaf-27e15580a938 button.colab-df-convert');\n",
              "        buttonEl.style.display =\n",
              "          google.colab.kernel.accessAllowed ? 'block' : 'none';\n",
              "\n",
              "        async function convertToInteractive(key) {\n",
              "          const element = document.querySelector('#df-90e482ec-ce96-419a-abaf-27e15580a938');\n",
              "          const dataTable =\n",
              "            await google.colab.kernel.invokeFunction('convertToInteractive',\n",
              "                                                     [key], {});\n",
              "          if (!dataTable) return;\n",
              "\n",
              "          const docLinkHtml = 'Like what you see? Visit the ' +\n",
              "            '<a target=\"_blank\" href=https://colab.research.google.com/notebooks/data_table.ipynb>data table notebook</a>'\n",
              "            + ' to learn more about interactive tables.';\n",
              "          element.innerHTML = '';\n",
              "          dataTable['output_type'] = 'display_data';\n",
              "          await google.colab.output.renderOutput(dataTable, element);\n",
              "          const docLink = document.createElement('div');\n",
              "          docLink.innerHTML = docLinkHtml;\n",
              "          element.appendChild(docLink);\n",
              "        }\n",
              "      </script>\n",
              "    </div>\n",
              "  </div>\n",
              "  "
            ]
          },
          "metadata": {},
          "execution_count": 112
        }
      ]
    },
    {
      "cell_type": "markdown",
      "source": [
        "1. Ahora el problema es que debería añadir el código externo para poder calcular los coeficientes por paciente\n",
        "\n",
        "2. Debo unirlos por código externo\n",
        "\n",
        "3. Cojo el primer paciente y:"
      ],
      "metadata": {
        "id": "wpXd52K1elXw"
      }
    },
    {
      "cell_type": "code",
      "execution_count": null,
      "metadata": {
        "colab": {
          "base_uri": "https://localhost:8080/"
        },
        "outputId": "8c26a367-d737-40a1-a71b-4ced27c18f27",
        "id": "BOANxgJnqKO3"
      },
      "outputs": [
        {
          "output_type": "stream",
          "name": "stdout",
          "text": [
            "[0 0 0 0 1 0 0 1 0 1 0 0 0 0 0 0 0 0 0 0 0 0 1 0 0 1 0 0 0 0 1 0 0 0 1 0 0\n",
            " 0 0 0 0 0 0 1 0 0 0 0 0 0 0 0 0 0 0 0 0 0 0 0 1 0 0 0 1 0 0 0 1 0 0 1 1 0\n",
            " 0 0]\n"
          ]
        }
      ],
      "source": [
        "#get a boolean np.array as index\n",
        "idx = x_train_FS_XGB[['Revision']] \n",
        "\n",
        "idx = idx.values\n",
        "\n",
        "y_train_aux = y_train.values\n",
        "\n",
        "y_train_FS_XGB = y_train_aux[idx]\n",
        "\n",
        "print(y_train_FS_XGB)"
      ]
    },
    {
      "cell_type": "markdown",
      "source": [
        "4. Se pondría en cada punto de la gráfica el valor de MIcR (por ejemplo, aunque en este caso no hace falta graficar), ya que en este caso no hace falta hacer media y calculo los coeficientes teniendo en cuenta lo anterior.\n",
        "\n",
        "5. Añado esos coeficeintes a la base de datos.\n",
        "\n",
        "6. Hago lo mismo con todos y finalmente entreno al modelo."
      ],
      "metadata": {
        "id": "ZUFnnDnirC0v"
      }
    },
    {
      "cell_type": "code",
      "execution_count": 104,
      "metadata": {
        "id": "_uiA6455DJFF",
        "scrolled": false,
        "colab": {
          "base_uri": "https://localhost:8080/"
        },
        "outputId": "08e14e1f-a501-4158-b05e-a885bd2703f4"
      },
      "outputs": [
        {
          "output_type": "stream",
          "name": "stdout",
          "text": [
            "[ 2.05984031  0.28535941 -0.00999767]\n"
          ]
        }
      ],
      "source": [
        "revi= np.array([1,2,3,4])\n",
        "\n",
        "#ojo el label lo tenemos que coger de y_train\n",
        "\n",
        "sanos_means,_ = mean_review(x_train_FS_XGB[y_train==0],'MicR') \n",
        "\n",
        "coef_sanos = lin_reg_model(revi,sanos_means)\n",
        "\n",
        "print(coef_sanos)"
      ]
    }
  ],
  "metadata": {
    "colab": {
      "collapsed_sections": [],
      "name": "Te damos la bienvenida a Colaboratory",
      "provenance": [],
      "toc_visible": true,
      "include_colab_link": true
    },
    "kernelspec": {
      "display_name": "Python 3 (ipykernel)",
      "language": "python",
      "name": "python3"
    },
    "language_info": {
      "codemirror_mode": {
        "name": "ipython",
        "version": 3
      },
      "file_extension": ".py",
      "mimetype": "text/x-python",
      "name": "python",
      "nbconvert_exporter": "python",
      "pygments_lexer": "ipython3",
      "version": "3.9.7"
    }
  },
  "nbformat": 4,
  "nbformat_minor": 0
}