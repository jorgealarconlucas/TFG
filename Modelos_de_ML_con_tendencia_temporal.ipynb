{
  "cells": [
    {
      "cell_type": "markdown",
      "metadata": {
        "id": "view-in-github",
        "colab_type": "text"
      },
      "source": [
        "<a href=\"https://colab.research.google.com/github/jorgealarconlucas/TFG/blob/master/Modelos_de_ML_con_tendencia_temporal.ipynb\" target=\"_parent\"><img src=\"https://colab.research.google.com/assets/colab-badge.svg\" alt=\"Open In Colab\"/></a>"
      ]
    },
    {
      "cell_type": "markdown",
      "metadata": {
        "id": "LWyGEa_1fid8"
      },
      "source": [
        "# 1. Machine learning añadiendo información sobre la tendencia temporal"
      ]
    },
    {
      "cell_type": "code",
      "execution_count": 1,
      "metadata": {
        "id": "ph71cMkkGbMy"
      },
      "outputs": [],
      "source": [
        "import pandas as pd\n",
        "import numpy as np\n",
        "import statistics as stats\n",
        "import seaborn as sns\n",
        "import matplotlib\n",
        "from matplotlib import pyplot as plt\n",
        "import scipy.stats as ss\n",
        "import statistics as stats\n",
        "import seaborn as sns \n",
        "from pandas.plotting import autocorrelation_plot\n",
        "from sklearn.model_selection import train_test_split\n",
        "from sklearn.tree import export_graphviz\n",
        "from six import StringIO\n",
        "from IPython.display import Image  \n",
        "import pydotplus\n",
        "from sklearn.model_selection import  GridSearchCV\n",
        "from sklearn.ensemble import RandomForestClassifier\n",
        "from sklearn.metrics import accuracy_score,recall_score, precision_score, confusion_matrix\n",
        "from sklearn.feature_selection import SelectFromModel\n",
        "from sklearn.model_selection import cross_val_score"
      ]
    },
    {
      "cell_type": "code",
      "execution_count": 2,
      "metadata": {
        "colab": {
          "base_uri": "https://localhost:8080/",
          "height": 446
        },
        "id": "lM8e7dLWoS-U",
        "outputId": "ff103131-3cfe-43bf-ae16-9d8d79b7bcfc",
        "scrolled": true
      },
      "outputs": [
        {
          "output_type": "execute_result",
          "data": {
            "text/plain": [
              "     Número  Repetición NHC  Código Externo  FALLECE  UCI  Día del Año 19nCv  \\\n",
              "0     221.0               4          111561      NaN  NaN           90   NaN   \n",
              "1     319.0              13          102441      NaN  NaN          100   NaN   \n",
              "2     368.0              16          102441      NaN  NaN          104   NaN   \n",
              "3    1759.0               9          104851      NaN  NaN          238   NaN   \n",
              "4  265277.0               7           11258      NaN  NaN           91   NaN   \n",
              "5  325932.0              11          115555      NaN  NaN           98   NaN   \n",
              "6  366742.0               5          111520      NaN  NaN           83   NaN   \n",
              "7  374616.0               6          116651      NaN  NaN           97   NaN   \n",
              "\n",
              "   Día de POSITIVO  Días respecto a Positivo     Fecha  ... ESSYS ASLYP  \\\n",
              "0              NaN                       NaN  30/03/20  ...   NaN   NaN   \n",
              "1              NaN                       NaN   9/04/20  ...   NaN   NaN   \n",
              "2              NaN                       NaN  13/04/20  ...   NaN   NaN   \n",
              "3              NaN                       NaN  25/08/20  ...   NaN   NaN   \n",
              "4              NaN                       NaN  31/03/20  ...   NaN     0   \n",
              "5              NaN                       NaN   7/04/20  ...   NaN     0   \n",
              "6              NaN                       NaN  23/03/20  ...   NaN     0   \n",
              "7              NaN                       NaN   6/04/20  ...   NaN     0   \n",
              "\n",
              "   ASLYA RELPL  RELYP  RELYA  NEUGI NEURI ASLPL 19nCv.1  \n",
              "0    NaN   NaN    NaN    NaN    NaN   NaN   NaN     NaN  \n",
              "1    NaN   NaN    NaN    NaN    NaN   NaN   NaN     NaN  \n",
              "2    NaN   NaN    NaN    NaN    NaN   NaN   NaN     NaN  \n",
              "3    NaN   NaN    NaN    NaN    NaN   NaN   NaN     NaN  \n",
              "4      0   5,7    2,3   0,13  154,8  50,2     0     NaN  \n",
              "5      0   6,6    2,1   0,15  147,1  47,8     0     NaN  \n",
              "6      0   5,4    1,8   0,13  152,6  49,9     0     NaN  \n",
              "7      0  11,5      5   0,25    150  52,7     0     NaN  \n",
              "\n",
              "[8 rows x 137 columns]"
            ],
            "text/html": [
              "\n",
              "  <div id=\"df-91f3d90b-4e2f-4a69-a3f6-b428aa2ea8ce\">\n",
              "    <div class=\"colab-df-container\">\n",
              "      <div>\n",
              "<style scoped>\n",
              "    .dataframe tbody tr th:only-of-type {\n",
              "        vertical-align: middle;\n",
              "    }\n",
              "\n",
              "    .dataframe tbody tr th {\n",
              "        vertical-align: top;\n",
              "    }\n",
              "\n",
              "    .dataframe thead th {\n",
              "        text-align: right;\n",
              "    }\n",
              "</style>\n",
              "<table border=\"1\" class=\"dataframe\">\n",
              "  <thead>\n",
              "    <tr style=\"text-align: right;\">\n",
              "      <th></th>\n",
              "      <th>Número</th>\n",
              "      <th>Repetición NHC</th>\n",
              "      <th>Código Externo</th>\n",
              "      <th>FALLECE</th>\n",
              "      <th>UCI</th>\n",
              "      <th>Día del Año</th>\n",
              "      <th>19nCv</th>\n",
              "      <th>Día de POSITIVO</th>\n",
              "      <th>Días respecto a Positivo</th>\n",
              "      <th>Fecha</th>\n",
              "      <th>...</th>\n",
              "      <th>ESSYS</th>\n",
              "      <th>ASLYP</th>\n",
              "      <th>ASLYA</th>\n",
              "      <th>RELPL</th>\n",
              "      <th>RELYP</th>\n",
              "      <th>RELYA</th>\n",
              "      <th>NEUGI</th>\n",
              "      <th>NEURI</th>\n",
              "      <th>ASLPL</th>\n",
              "      <th>19nCv.1</th>\n",
              "    </tr>\n",
              "  </thead>\n",
              "  <tbody>\n",
              "    <tr>\n",
              "      <th>0</th>\n",
              "      <td>221.0</td>\n",
              "      <td>4</td>\n",
              "      <td>111561</td>\n",
              "      <td>NaN</td>\n",
              "      <td>NaN</td>\n",
              "      <td>90</td>\n",
              "      <td>NaN</td>\n",
              "      <td>NaN</td>\n",
              "      <td>NaN</td>\n",
              "      <td>30/03/20</td>\n",
              "      <td>...</td>\n",
              "      <td>NaN</td>\n",
              "      <td>NaN</td>\n",
              "      <td>NaN</td>\n",
              "      <td>NaN</td>\n",
              "      <td>NaN</td>\n",
              "      <td>NaN</td>\n",
              "      <td>NaN</td>\n",
              "      <td>NaN</td>\n",
              "      <td>NaN</td>\n",
              "      <td>NaN</td>\n",
              "    </tr>\n",
              "    <tr>\n",
              "      <th>1</th>\n",
              "      <td>319.0</td>\n",
              "      <td>13</td>\n",
              "      <td>102441</td>\n",
              "      <td>NaN</td>\n",
              "      <td>NaN</td>\n",
              "      <td>100</td>\n",
              "      <td>NaN</td>\n",
              "      <td>NaN</td>\n",
              "      <td>NaN</td>\n",
              "      <td>9/04/20</td>\n",
              "      <td>...</td>\n",
              "      <td>NaN</td>\n",
              "      <td>NaN</td>\n",
              "      <td>NaN</td>\n",
              "      <td>NaN</td>\n",
              "      <td>NaN</td>\n",
              "      <td>NaN</td>\n",
              "      <td>NaN</td>\n",
              "      <td>NaN</td>\n",
              "      <td>NaN</td>\n",
              "      <td>NaN</td>\n",
              "    </tr>\n",
              "    <tr>\n",
              "      <th>2</th>\n",
              "      <td>368.0</td>\n",
              "      <td>16</td>\n",
              "      <td>102441</td>\n",
              "      <td>NaN</td>\n",
              "      <td>NaN</td>\n",
              "      <td>104</td>\n",
              "      <td>NaN</td>\n",
              "      <td>NaN</td>\n",
              "      <td>NaN</td>\n",
              "      <td>13/04/20</td>\n",
              "      <td>...</td>\n",
              "      <td>NaN</td>\n",
              "      <td>NaN</td>\n",
              "      <td>NaN</td>\n",
              "      <td>NaN</td>\n",
              "      <td>NaN</td>\n",
              "      <td>NaN</td>\n",
              "      <td>NaN</td>\n",
              "      <td>NaN</td>\n",
              "      <td>NaN</td>\n",
              "      <td>NaN</td>\n",
              "    </tr>\n",
              "    <tr>\n",
              "      <th>3</th>\n",
              "      <td>1759.0</td>\n",
              "      <td>9</td>\n",
              "      <td>104851</td>\n",
              "      <td>NaN</td>\n",
              "      <td>NaN</td>\n",
              "      <td>238</td>\n",
              "      <td>NaN</td>\n",
              "      <td>NaN</td>\n",
              "      <td>NaN</td>\n",
              "      <td>25/08/20</td>\n",
              "      <td>...</td>\n",
              "      <td>NaN</td>\n",
              "      <td>NaN</td>\n",
              "      <td>NaN</td>\n",
              "      <td>NaN</td>\n",
              "      <td>NaN</td>\n",
              "      <td>NaN</td>\n",
              "      <td>NaN</td>\n",
              "      <td>NaN</td>\n",
              "      <td>NaN</td>\n",
              "      <td>NaN</td>\n",
              "    </tr>\n",
              "    <tr>\n",
              "      <th>4</th>\n",
              "      <td>265277.0</td>\n",
              "      <td>7</td>\n",
              "      <td>11258</td>\n",
              "      <td>NaN</td>\n",
              "      <td>NaN</td>\n",
              "      <td>91</td>\n",
              "      <td>NaN</td>\n",
              "      <td>NaN</td>\n",
              "      <td>NaN</td>\n",
              "      <td>31/03/20</td>\n",
              "      <td>...</td>\n",
              "      <td>NaN</td>\n",
              "      <td>0</td>\n",
              "      <td>0</td>\n",
              "      <td>5,7</td>\n",
              "      <td>2,3</td>\n",
              "      <td>0,13</td>\n",
              "      <td>154,8</td>\n",
              "      <td>50,2</td>\n",
              "      <td>0</td>\n",
              "      <td>NaN</td>\n",
              "    </tr>\n",
              "    <tr>\n",
              "      <th>5</th>\n",
              "      <td>325932.0</td>\n",
              "      <td>11</td>\n",
              "      <td>115555</td>\n",
              "      <td>NaN</td>\n",
              "      <td>NaN</td>\n",
              "      <td>98</td>\n",
              "      <td>NaN</td>\n",
              "      <td>NaN</td>\n",
              "      <td>NaN</td>\n",
              "      <td>7/04/20</td>\n",
              "      <td>...</td>\n",
              "      <td>NaN</td>\n",
              "      <td>0</td>\n",
              "      <td>0</td>\n",
              "      <td>6,6</td>\n",
              "      <td>2,1</td>\n",
              "      <td>0,15</td>\n",
              "      <td>147,1</td>\n",
              "      <td>47,8</td>\n",
              "      <td>0</td>\n",
              "      <td>NaN</td>\n",
              "    </tr>\n",
              "    <tr>\n",
              "      <th>6</th>\n",
              "      <td>366742.0</td>\n",
              "      <td>5</td>\n",
              "      <td>111520</td>\n",
              "      <td>NaN</td>\n",
              "      <td>NaN</td>\n",
              "      <td>83</td>\n",
              "      <td>NaN</td>\n",
              "      <td>NaN</td>\n",
              "      <td>NaN</td>\n",
              "      <td>23/03/20</td>\n",
              "      <td>...</td>\n",
              "      <td>NaN</td>\n",
              "      <td>0</td>\n",
              "      <td>0</td>\n",
              "      <td>5,4</td>\n",
              "      <td>1,8</td>\n",
              "      <td>0,13</td>\n",
              "      <td>152,6</td>\n",
              "      <td>49,9</td>\n",
              "      <td>0</td>\n",
              "      <td>NaN</td>\n",
              "    </tr>\n",
              "    <tr>\n",
              "      <th>7</th>\n",
              "      <td>374616.0</td>\n",
              "      <td>6</td>\n",
              "      <td>116651</td>\n",
              "      <td>NaN</td>\n",
              "      <td>NaN</td>\n",
              "      <td>97</td>\n",
              "      <td>NaN</td>\n",
              "      <td>NaN</td>\n",
              "      <td>NaN</td>\n",
              "      <td>6/04/20</td>\n",
              "      <td>...</td>\n",
              "      <td>NaN</td>\n",
              "      <td>0</td>\n",
              "      <td>0</td>\n",
              "      <td>11,5</td>\n",
              "      <td>5</td>\n",
              "      <td>0,25</td>\n",
              "      <td>150</td>\n",
              "      <td>52,7</td>\n",
              "      <td>0</td>\n",
              "      <td>NaN</td>\n",
              "    </tr>\n",
              "  </tbody>\n",
              "</table>\n",
              "<p>8 rows × 137 columns</p>\n",
              "</div>\n",
              "      <button class=\"colab-df-convert\" onclick=\"convertToInteractive('df-91f3d90b-4e2f-4a69-a3f6-b428aa2ea8ce')\"\n",
              "              title=\"Convert this dataframe to an interactive table.\"\n",
              "              style=\"display:none;\">\n",
              "        \n",
              "  <svg xmlns=\"http://www.w3.org/2000/svg\" height=\"24px\"viewBox=\"0 0 24 24\"\n",
              "       width=\"24px\">\n",
              "    <path d=\"M0 0h24v24H0V0z\" fill=\"none\"/>\n",
              "    <path d=\"M18.56 5.44l.94 2.06.94-2.06 2.06-.94-2.06-.94-.94-2.06-.94 2.06-2.06.94zm-11 1L8.5 8.5l.94-2.06 2.06-.94-2.06-.94L8.5 2.5l-.94 2.06-2.06.94zm10 10l.94 2.06.94-2.06 2.06-.94-2.06-.94-.94-2.06-.94 2.06-2.06.94z\"/><path d=\"M17.41 7.96l-1.37-1.37c-.4-.4-.92-.59-1.43-.59-.52 0-1.04.2-1.43.59L10.3 9.45l-7.72 7.72c-.78.78-.78 2.05 0 2.83L4 21.41c.39.39.9.59 1.41.59.51 0 1.02-.2 1.41-.59l7.78-7.78 2.81-2.81c.8-.78.8-2.07 0-2.86zM5.41 20L4 18.59l7.72-7.72 1.47 1.35L5.41 20z\"/>\n",
              "  </svg>\n",
              "      </button>\n",
              "      \n",
              "  <style>\n",
              "    .colab-df-container {\n",
              "      display:flex;\n",
              "      flex-wrap:wrap;\n",
              "      gap: 12px;\n",
              "    }\n",
              "\n",
              "    .colab-df-convert {\n",
              "      background-color: #E8F0FE;\n",
              "      border: none;\n",
              "      border-radius: 50%;\n",
              "      cursor: pointer;\n",
              "      display: none;\n",
              "      fill: #1967D2;\n",
              "      height: 32px;\n",
              "      padding: 0 0 0 0;\n",
              "      width: 32px;\n",
              "    }\n",
              "\n",
              "    .colab-df-convert:hover {\n",
              "      background-color: #E2EBFA;\n",
              "      box-shadow: 0px 1px 2px rgba(60, 64, 67, 0.3), 0px 1px 3px 1px rgba(60, 64, 67, 0.15);\n",
              "      fill: #174EA6;\n",
              "    }\n",
              "\n",
              "    [theme=dark] .colab-df-convert {\n",
              "      background-color: #3B4455;\n",
              "      fill: #D2E3FC;\n",
              "    }\n",
              "\n",
              "    [theme=dark] .colab-df-convert:hover {\n",
              "      background-color: #434B5C;\n",
              "      box-shadow: 0px 1px 3px 1px rgba(0, 0, 0, 0.15);\n",
              "      filter: drop-shadow(0px 1px 2px rgba(0, 0, 0, 0.3));\n",
              "      fill: #FFFFFF;\n",
              "    }\n",
              "  </style>\n",
              "\n",
              "      <script>\n",
              "        const buttonEl =\n",
              "          document.querySelector('#df-91f3d90b-4e2f-4a69-a3f6-b428aa2ea8ce button.colab-df-convert');\n",
              "        buttonEl.style.display =\n",
              "          google.colab.kernel.accessAllowed ? 'block' : 'none';\n",
              "\n",
              "        async function convertToInteractive(key) {\n",
              "          const element = document.querySelector('#df-91f3d90b-4e2f-4a69-a3f6-b428aa2ea8ce');\n",
              "          const dataTable =\n",
              "            await google.colab.kernel.invokeFunction('convertToInteractive',\n",
              "                                                     [key], {});\n",
              "          if (!dataTable) return;\n",
              "\n",
              "          const docLinkHtml = 'Like what you see? Visit the ' +\n",
              "            '<a target=\"_blank\" href=https://colab.research.google.com/notebooks/data_table.ipynb>data table notebook</a>'\n",
              "            + ' to learn more about interactive tables.';\n",
              "          element.innerHTML = '';\n",
              "          dataTable['output_type'] = 'display_data';\n",
              "          await google.colab.output.renderOutput(dataTable, element);\n",
              "          const docLink = document.createElement('div');\n",
              "          docLink.innerHTML = docLinkHtml;\n",
              "          element.appendChild(docLink);\n",
              "        }\n",
              "      </script>\n",
              "    </div>\n",
              "  </div>\n",
              "  "
            ]
          },
          "metadata": {},
          "execution_count": 2
        }
      ],
      "source": [
        "db = pd.read_csv('/content/Base datos COVID-Linfos Actualizazda.xlsx - Valores seleccionados.csv')\n",
        "#db = pd.read_excel('Base datos COVID-Linfos Actualizazda.xlsx') #no quites esta línea, coméntala cuando estés trabajando en tus datos\n",
        "\n",
        "db.head(8)"
      ]
    },
    {
      "cell_type": "markdown",
      "metadata": {
        "id": "POmheSpUuUrs"
      },
      "source": [
        "### 1.1 Eliminación de columnas y filas (consultado con Javier)"
      ]
    },
    {
      "cell_type": "markdown",
      "metadata": {
        "id": "LDdmQ54uBYuA"
      },
      "source": [
        "Tras una visualización general y una charla con los sanitarios que han transferido la base de datos, se llega a la conclusión de que hay que hacer una limpieza de la misma. Hay columnas que su significado y valores no tienen ninguna relevancia para el estudio que se va a llevar a cabo."
      ]
    },
    {
      "cell_type": "code",
      "execution_count": 3,
      "metadata": {
        "id": "CAKAP279CAQ4"
      },
      "outputs": [],
      "source": [
        "db1=db.drop([\"Repetición NHC\",\"Día del Año\",\"Día de POSITIVO\",\"Días respecto a Positivo\",\"GSRH\",\"GRHPC\",\"GRHRN\",\"GRHCE\",\"FRSP\",\"COMHE\",\"AVSBL\",\"AVSPL\",\"AVSRJ\",\"AVNRB\",\"ESSYS\"],axis=1) #axis=1 ya que lo que elimino son columnas.\n"
      ]
    },
    {
      "cell_type": "markdown",
      "metadata": {
        "id": "WrDLgRbU91fo"
      },
      "source": [
        "A continuación elimino las filas que no aportan información."
      ]
    },
    {
      "cell_type": "code",
      "execution_count": 4,
      "metadata": {
        "colab": {
          "base_uri": "https://localhost:8080/"
        },
        "id": "TsoE6SfdfioE",
        "outputId": "efb9ffc5-2e61-413d-83a5-09b863aa2d7f"
      },
      "outputs": [
        {
          "output_type": "execute_result",
          "data": {
            "text/plain": [
              "(320, 122)"
            ]
          },
          "metadata": {},
          "execution_count": 4
        }
      ],
      "source": [
        "db1= db1.dropna(thresh=9) #Mantiene solo las filas con al menos 9 valores que no sean NA. Esto me sirve ya que quiero eliminar aquellas filas\n",
        "#que tengan NaN, es decir 19nCv y todos los parámetros del hemograma.\n",
        "db1.shape"
      ]
    },
    {
      "cell_type": "markdown",
      "metadata": {
        "id": "Gxd8JfXc4kHg"
      },
      "source": [
        "Además teniendo en cuenta la informacion proporcionada por parte del hospital, elimino aquellas variables que son redundantes. Estas variables no aportan información adicional al futuro modelo de predicción."
      ]
    },
    {
      "cell_type": "code",
      "execution_count": 5,
      "metadata": {
        "id": "CcUI_IhI46Rt"
      },
      "outputs": [],
      "source": [
        "db1=db1.drop([\"NE_R\",\"NEU_a\",\"NEU_p\",\"LY_R\",\"LIN_a\",\"LIN_p\",\"MO_R\",\"EO_R\",\"BA_R\"],axis=1) #axis=1 ya que lo que elimino son columnas."
      ]
    },
    {
      "cell_type": "markdown",
      "metadata": {
        "id": "ZM6RW2TFelaj"
      },
      "source": [
        "### 1.2 Eliminación de columnas con alta correlación\n",
        "\n",
        "Tras comprobar las variables con alta correlación en el dendrograma se llega a la conclusión junto con el médico Javier, de eliminar una serie de variables por ser redundantes. Los grupos de parámetros sobre los que se discute son: (ERBLp, ERBL) (NEURI, NESFL) (NEUGI, NESSC) (PLTI, PLT) (WBC-N, LEU, TNC-N, WBC-D):"
      ]
    },
    {
      "cell_type": "code",
      "execution_count": 6,
      "metadata": {
        "id": "c56yH7StevnA"
      },
      "outputs": [],
      "source": [
        "db1=db1.drop([\"ERBLp\",\"NESFL\",\"NESSC\",\"PLT\",\"WBC-N\",\"TNC-N\",\"WBC-D\"],axis=1)"
      ]
    },
    {
      "cell_type": "markdown",
      "metadata": {
        "id": "cNwEYX4odk20"
      },
      "source": [
        "### 1.3 Agrupación de pacientes por gravedad\n",
        "\n",
        "\n",
        "- UCI=1 y FALLECE=1 --> Muy grave\n",
        "- UCI=0 y FALLLECE=1 --> Muy grave\n",
        "\n",
        "- UCI=1 y FALLECE=0 --> Grave\n",
        "- UCI=0 y FALLECE=0 --> Sano"
      ]
    },
    {
      "cell_type": "code",
      "execution_count": 7,
      "metadata": {
        "id": "LzKlwbJOv1YC"
      },
      "outputs": [],
      "source": [
        "data_all = db1[(db1['UCI'] == 1.0) & (db1['FALLECE'] == 1.0)]\n",
        "data_death = db1[(db1['UCI'] == 0.0) & (db1['FALLECE'] == 1.0)]\n",
        "data_regular = db1[(db1['UCI'] == 1.0) & (db1['FALLECE'] == 0.0)]\n",
        "data_health = db1[(db1['UCI'] == 0.0) & (db1['FALLECE'] == 0.0)]"
      ]
    },
    {
      "cell_type": "markdown",
      "metadata": {
        "id": "Vtbt65BWJKGi"
      },
      "source": [
        "### 1.4 Tipo de cada columna"
      ]
    },
    {
      "cell_type": "code",
      "execution_count": 8,
      "metadata": {
        "colab": {
          "base_uri": "https://localhost:8080/"
        },
        "id": "MVxlf2CLJUow",
        "outputId": "4ee0e7d8-1352-4fe9-f9c5-b2fd51465195",
        "scrolled": false
      },
      "outputs": [
        {
          "output_type": "stream",
          "name": "stdout",
          "text": [
            "<class 'pandas.core.frame.DataFrame'>\n",
            "Int64Index: 320 entries, 4 to 341\n",
            "Data columns (total 106 columns):\n",
            " #    Column             Non-Null Count  Dtype  \n",
            "---   ------             --------------  -----  \n",
            " 0    Número             319 non-null    float64\n",
            " 1    Código Externo     320 non-null    int64  \n",
            " 2    FALLECE            96 non-null     float64\n",
            " 3    UCI                96 non-null     float64\n",
            " 4    19nCv              105 non-null    object \n",
            " 5    Fecha              320 non-null    object \n",
            " 6    Edad del Paciente  320 non-null    object \n",
            " 7    Sexo del Paciente  320 non-null    object \n",
            " 8    LEU                284 non-null    object \n",
            " 9    NEU                284 non-null    object \n",
            " 10   NEUp               284 non-null    object \n",
            " 11   LIN                284 non-null    object \n",
            " 12   LINp               284 non-null    object \n",
            " 13   MON                284 non-null    object \n",
            " 14   MONp               284 non-null    object \n",
            " 15   EOS                284 non-null    object \n",
            " 16   EOSp               284 non-null    object \n",
            " 17   BAS                284 non-null    object \n",
            " 18   BASp               284 non-null    object \n",
            " 19   IG                 284 non-null    object \n",
            " 20   IGp                284 non-null    object \n",
            " 21   ERIT               284 non-null    object \n",
            " 22   HGB                284 non-null    object \n",
            " 23   HCT                284 non-null    object \n",
            " 24   VCM                284 non-null    object \n",
            " 25   HCM                284 non-null    object \n",
            " 26   CHCM               284 non-null    object \n",
            " 27   RDW                284 non-null    object \n",
            " 28   ERBL               284 non-null    object \n",
            " 29   RET                9 non-null      object \n",
            " 30   RETp               9 non-null      object \n",
            " 31   FRI                9 non-null      object \n",
            " 32   RETHE              9 non-null      object \n",
            " 33   PLTI               282 non-null    float64\n",
            " 34   PLTF               4 non-null      float64\n",
            " 35   PLTO               9 non-null      float64\n",
            " 36   VPM                283 non-null    object \n",
            " 37   IPF                4 non-null      object \n",
            " 38   MNEU               7 non-null      float64\n",
            " 39   MLIN               7 non-null      object \n",
            " 40   MMON               7 non-null      object \n",
            " 41   MBAS               7 non-null      float64\n",
            " 42   MEOS               7 non-null      float64\n",
            " 43   MCAS               7 non-null      object \n",
            " 44   MMET               3 non-null      float64\n",
            " 45   MMIE               2 non-null      float64\n",
            " 46   MPRO               2 non-null      float64\n",
            " 47   CPLAS              2 non-null      float64\n",
            " 48   MBLS               2 non-null      float64\n",
            " 49   MERI               3 non-null      object \n",
            " 50   rNe/L              160 non-null    object \n",
            " 51   rPL/L              160 non-null    object \n",
            " 52   HIPER              9 non-null      object \n",
            " 53   HYPO               9 non-null      object \n",
            " 54   MACR               0 non-null      float64\n",
            " 55   MICRO              0 non-null      float64\n",
            " 56   FRAGM              9 non-null      object \n",
            " 57   MacR               284 non-null    object \n",
            " 58   MicR               284 non-null    object \n",
            " 59   RBCO               0 non-null      float64\n",
            " 60   MCHCO              9 non-null      object \n",
            " 61   BA-D#              284 non-null    object \n",
            " 62   NEFSC              284 non-null    object \n",
            " 63   BA-D%              284 non-null    object \n",
            " 64   BA-N#              284 non-null    object \n",
            " 65   BA-N%              284 non-null    object \n",
            " 66   D-HE               9 non-null      object \n",
            " 67   FRCA               9 non-null      object \n",
            " 68   HFLCA              284 non-null    object \n",
            " 69   HFLCP              284 non-null    object \n",
            " 70   HIPF               4 non-null      object \n",
            " 71   IPFA               4 non-null      object \n",
            " 72   IRF-Y              9 non-null      object \n",
            " 73   LY-WX              284 non-null    float64\n",
            " 74   LY-WY              284 non-null    float64\n",
            " 75   LY-WZ              284 non-null    float64\n",
            " 76   LY-X               284 non-null    object \n",
            " 77   LY-Y               284 non-null    object \n",
            " 78   LY-Z               284 non-null    object \n",
            " 79   MO-WX              284 non-null    float64\n",
            " 80   MO-WY              284 non-null    float64\n",
            " 81   MO-WZ              284 non-null    float64\n",
            " 82   MO-X               284 non-null    object \n",
            " 83   MO-Y               284 non-null    object \n",
            " 84   MO-Z               284 non-null    object \n",
            " 85   NE-WX              284 non-null    float64\n",
            " 86   NE-WY              284 non-null    float64\n",
            " 87   NE-WZ              284 non-null    float64\n",
            " 88   RBCHE              9 non-null      object \n",
            " 89   RBC-Y              9 non-null      object \n",
            " 90   RTNC               9 non-null      float64\n",
            " 91   RUPP               9 non-null      float64\n",
            " 92   RET-Y              9 non-null      object \n",
            " 93   RPI                9 non-null      object \n",
            " 94   TNC-D              0 non-null      float64\n",
            " 95   TNC-P              0 non-null      float64\n",
            " 96   WBC-P              0 non-null      float64\n",
            " 97   ASLYP              284 non-null    object \n",
            " 98   ASLYA              284 non-null    object \n",
            " 99   RELPL              284 non-null    object \n",
            " 100  RELYP              284 non-null    object \n",
            " 101  RELYA              284 non-null    object \n",
            " 102  NEUGI              284 non-null    object \n",
            " 103  NEURI              284 non-null    object \n",
            " 104  ASLPL              284 non-null    object \n",
            " 105  19nCv.1            51 non-null     object \n",
            "dtypes: float64(31), int64(1), object(74)\n",
            "memory usage: 267.5+ KB\n"
          ]
        },
        {
          "output_type": "stream",
          "name": "stderr",
          "text": [
            "/usr/local/lib/python3.7/dist-packages/ipykernel_launcher.py:1: FutureWarning: null_counts is deprecated. Use show_counts instead\n",
            "  \"\"\"Entry point for launching an IPython kernel.\n"
          ]
        }
      ],
      "source": [
        "db1.info(verbose=True, null_counts=True) #Hay un total de 342 filas"
      ]
    },
    {
      "cell_type": "code",
      "execution_count": 9,
      "metadata": {
        "id": "Hww7kQIfw6rn"
      },
      "outputs": [],
      "source": [
        "#Cambio de comas por puntos\n",
        "db1 = db1.replace(',','.', regex=True)\n",
        "\n",
        "#Reemplazo esos caracteres por NaN\n",
        "db1=db1.replace(\"----\",np.nan)\n",
        "\n",
        "# Función que elimina la palabra años\n",
        "def only_digits (txt):\n",
        "  return \"\".join(c for c in txt if c.isdigit())\n",
        "\n",
        "db1[\"Edad del Paciente\"] = db1[\"Edad del Paciente\"].map(only_digits)\n",
        "\n",
        "## MUY IMPORTANTE. Conversión de variables excepto 19nCv, Fecha, Sexo del Paciente y 19nCv.1 \n",
        "# Una vez hecho el cambio de comas por puntos y haber introducido NaN por \"----\", este código me transforma los 'object' en 'numerics'\n",
        "for i in db1:\n",
        "  if not (i==\"19nCv\" or i==\"Fecha\" or i==\"Sexo del Paciente\" or i==\"19nCv.1\"):\n",
        "    if db1[i].dtypes == object:\n",
        "      db1[i] = pd.to_numeric(db1[i])\n",
        "\n",
        "#Paso la variable \"fecha\" de tipo object a tipo datatime, para poder tratar con ella como una fecha.\n",
        "db1[\"Fecha\"]=pd.to_datetime(db1[\"Fecha\"])"
      ]
    },
    {
      "cell_type": "markdown",
      "metadata": {
        "id": "2uEMoBCZsWF6"
      },
      "source": [
        "## 1.5 Intruducción de nuevas columnas, \"Revision\" y \"Label\"\n"
      ]
    },
    {
      "cell_type": "code",
      "execution_count": 10,
      "metadata": {
        "id": "rAhYCtAOaIxx"
      },
      "outputs": [],
      "source": [
        "Codigo_lista = db1['Código Externo'].tolist()"
      ]
    },
    {
      "cell_type": "code",
      "execution_count": 11,
      "metadata": {
        "id": "3hO9Z_WWPTpB"
      },
      "outputs": [],
      "source": [
        "from collections import Counter\n",
        "\n",
        "lista_pacientes = Counter(Codigo_lista).keys()\n",
        "\n",
        "### INICIALIZO DATAFRAME DE SANOS\n",
        "sanos_df = pd.DataFrame()\n",
        "\n",
        "### INICIALIZO DATAFRAME DE NO SANOS\n",
        "no_sanos_df = pd.DataFrame()\n",
        "\n",
        "for i in lista_pacientes:  \n",
        "      if i not in data_health.values:\n",
        "        new_1 = db1.loc[db1[\"Código Externo\"] == i]\n",
        "        new_1 = new_1.sort_values('Fecha') #ordenar de la revision mas antigua a la mas reciente.\n",
        "        new_1['Revision'] = range(1, 1+len(new_1)) #en la nueva columna \"Revision\" se van a añadiendo valores de manera incremental desde 1 teniendo \n",
        "                                          # en cuenta el número de citas de cada paciente.\n",
        "\n",
        "        new_1 = new_1.assign(label=1) #Introduzco nueva columna con etiqueta 1 (NO SANO)\n",
        "\n",
        "        no_sanos_df = no_sanos_df.append(new_1)\n",
        "\n",
        "      else:\n",
        "        new_2 = db1.loc[db1[\"Código Externo\"] == i]\n",
        "        new_2 = new_2.sort_values('Fecha')\n",
        "        new_2['Revision'] = range(1, 1+len(new_2)) #en la nueva columna \"Revision\" se van a añadiendo valores de manera incremental desde 1 teniendo \n",
        "                                          # en cuenta el número de citas de cada paciente.\n",
        "\n",
        "        new_2 = new_2.assign(label=0)#Introduzco nueva columna con etiqueta 0 (SANO)\n",
        "      \n",
        "        sanos_df = sanos_df.append(new_2)\n"
      ]
    },
    {
      "cell_type": "markdown",
      "metadata": {
        "id": "Kbj0jF4Yr8Zk"
      },
      "source": [
        "# 2. Preprocesado de datos\n",
        "\n",
        "### ¿Hasta que revisión se cuenta con un número adecuado de pacientes?\n",
        "\n",
        "Se realiza el proyecto con un total de 4 revisiones. Se llega a esta conclusión de la siguiente forma; se dividen las variables de forma individual y se va representando cada uno de los valores de cada variable en cada revisión (teniendo así una visión de los valores de la variable para todos los pacientes en cada revisión a medida que pasa el tiempo). Esto se realiza con los pacientes sanos por un lado y los pacientes no sanos por el otro. Finalmente, se observa como con 4 revisiones se puede hacer un estudio amplio y completo de las variables. \n",
        "\n",
        "Además, de 98 pacientes, 44 pacientes presentan 4 revisiones, es decir el 44,89% de los pacientes presentes en la base de datos, porcentaje considerable que ayuda a tomar la decision de usar 4 revisiones.\n"
      ]
    },
    {
      "cell_type": "code",
      "execution_count": 12,
      "metadata": {
        "colab": {
          "base_uri": "https://localhost:8080/"
        },
        "id": "bMEut-bFD54n",
        "outputId": "4a896225-522e-4a84-d4bf-7c2cacea7261"
      },
      "outputs": [
        {
          "output_type": "stream",
          "name": "stdout",
          "text": [
            "Index(['Número', 'Código Externo', 'FALLECE', 'UCI', '19nCv', 'Fecha',\n",
            "       'Edad del Paciente', 'Sexo del Paciente', 'LEU', 'NEU',\n",
            "       ...\n",
            "       'ASLYA', 'RELPL', 'RELYP', 'RELYA', 'NEUGI', 'NEURI', 'ASLPL',\n",
            "       '19nCv.1', 'Revision', 'label'],\n",
            "      dtype='object', length=108)\n"
          ]
        }
      ],
      "source": [
        "db1 = pd.concat([sanos_df, no_sanos_df])\n",
        "db1.shape\n",
        "\n",
        "print(db1.columns)"
      ]
    },
    {
      "cell_type": "markdown",
      "metadata": {
        "id": "3ydqg5-w9qNe"
      },
      "source": [
        "## 2.1 Identificacion de valores perdidos\n",
        "\n",
        "Junto con el estudio del tipo de variables, es básico conocer el número de observaciones disponibles y si todas ellas están completas. Los valores perdidos son muy importantes a la hora de crear modelos, la mayoría de algoritmos no aceptan observaciones incompletas o bien se ven muy influenciados por ellas."
      ]
    },
    {
      "cell_type": "code",
      "execution_count": 13,
      "metadata": {
        "colab": {
          "base_uri": "https://localhost:8080/"
        },
        "id": "qg3wy6g8NWaJ",
        "outputId": "0c7c33a2-207a-4d7e-86b9-d6a1e141ddc4",
        "scrolled": false
      },
      "outputs": [
        {
          "output_type": "stream",
          "name": "stdout",
          "text": [
            "Número 1\n",
            "FALLECE 224\n",
            "UCI 224\n",
            "19nCv 215\n",
            "LEU 36\n",
            "NEU 36\n",
            "NEUp 36\n",
            "LIN 36\n",
            "LINp 36\n",
            "MON 36\n",
            "MONp 36\n",
            "EOS 36\n",
            "EOSp 36\n",
            "BAS 36\n",
            "BASp 36\n",
            "IG 36\n",
            "IGp 36\n",
            "ERIT 36\n",
            "HGB 36\n",
            "HCT 36\n",
            "VCM 36\n",
            "HCM 36\n",
            "CHCM 36\n",
            "RDW 36\n",
            "ERBL 36\n",
            "RET 311\n",
            "RETp 311\n",
            "FRI 311\n",
            "RETHE 311\n",
            "PLTI 38\n",
            "PLTF 316\n",
            "PLTO 311\n",
            "VPM 43\n",
            "IPF 316\n",
            "MNEU 313\n",
            "MLIN 313\n",
            "MMON 313\n",
            "MBAS 313\n",
            "MEOS 313\n",
            "MCAS 313\n",
            "MMET 317\n",
            "MMIE 318\n",
            "MPRO 318\n",
            "CPLAS 318\n",
            "MBLS 318\n",
            "MERI 317\n",
            "rNe/L 160\n",
            "rPL/L 160\n",
            "HIPER 311\n",
            "HYPO 311\n",
            "MACR 320\n",
            "MICRO 320\n",
            "FRAGM 311\n",
            "MacR 36\n",
            "MicR 36\n",
            "RBCO 320\n",
            "MCHCO 311\n",
            "BA-D# 36\n",
            "NEFSC 36\n",
            "BA-D% 36\n",
            "BA-N# 36\n",
            "BA-N% 36\n",
            "D-HE 311\n",
            "FRCA 311\n",
            "HFLCA 36\n",
            "HFLCP 36\n",
            "HIPF 316\n",
            "IPFA 316\n",
            "IRF-Y 311\n",
            "LY-WX 36\n",
            "LY-WY 36\n",
            "LY-WZ 36\n",
            "LY-X 36\n",
            "LY-Y 36\n",
            "LY-Z 36\n",
            "MO-WX 36\n",
            "MO-WY 36\n",
            "MO-WZ 36\n",
            "MO-X 36\n",
            "MO-Y 36\n",
            "MO-Z 36\n",
            "NE-WX 36\n",
            "NE-WY 36\n",
            "NE-WZ 36\n",
            "RBCHE 311\n",
            "RBC-Y 311\n",
            "RTNC 311\n",
            "RUPP 311\n",
            "RET-Y 311\n",
            "RPI 311\n",
            "TNC-D 320\n",
            "TNC-P 320\n",
            "WBC-P 320\n",
            "ASLYP 42\n",
            "ASLYA 42\n",
            "RELPL 42\n",
            "RELYP 42\n",
            "RELYA 42\n",
            "NEUGI 36\n",
            "NEURI 36\n",
            "ASLPL 42\n",
            "19nCv.1 269\n"
          ]
        }
      ],
      "source": [
        "# Columnas con missing values\n",
        "\n",
        "for index,value in enumerate (db1.isnull().sum()):\n",
        "  if value !=0:\n",
        "    print(db1.columns[index],value)"
      ]
    },
    {
      "cell_type": "code",
      "execution_count": 14,
      "metadata": {
        "colab": {
          "base_uri": "https://localhost:8080/"
        },
        "id": "nsbN9tNVNfVa",
        "outputId": "b22df6ed-51ac-4dad-d7e0-229951baf8b1"
      },
      "outputs": [
        {
          "output_type": "stream",
          "name": "stdout",
          "text": [
            "Index(['Código Externo', 'Edad del Paciente', 'Sexo del Paciente', 'LEU',\n",
            "       'NEU', 'NEUp', 'LIN', 'LINp', 'MON', 'MONp', 'EOS', 'EOSp', 'BAS',\n",
            "       'BASp', 'IG', 'IGp', 'ERIT', 'HGB', 'HCT', 'VCM', 'HCM', 'CHCM', 'RDW',\n",
            "       'ERBL', 'PLTI', 'VPM', 'rNe/L', 'rPL/L', 'MacR', 'MicR', 'BA-D#',\n",
            "       'NEFSC', 'BA-D%', 'BA-N#', 'BA-N%', 'HFLCA', 'HFLCP', 'LY-WX', 'LY-WY',\n",
            "       'LY-WZ', 'LY-X', 'LY-Y', 'LY-Z', 'MO-WX', 'MO-WY', 'MO-WZ', 'MO-X',\n",
            "       'MO-Y', 'MO-Z', 'NE-WX', 'NE-WY', 'NE-WZ', 'ASLYP', 'ASLYA', 'RELPL',\n",
            "       'RELYP', 'RELYA', 'NEUGI', 'NEURI', 'ASLPL', 'Revision', 'label'],\n",
            "      dtype='object')\n"
          ]
        }
      ],
      "source": [
        "#Quitar todas las columnas con mas de 310 NaN\n",
        "\n",
        "#320-310 = 10. Las columnas con 311 NaN tienen 9 valores no NaN. Por lo que si me quedo con aquellas columnas que tengan como mínimo 10 valores\n",
        "# no NaN, elimino todas las columnas con 333 NaN o más.\n",
        "db1=db1.dropna(thresh=10,axis=1) \n",
        "\n",
        "db1=db1.drop([\"Número\",\"19nCv\",\"19nCv.1\", \"FALLECE\", \"UCI\", \"Fecha\"],axis=1)\n",
        "\n",
        "\n",
        "print(db1.columns)"
      ]
    },
    {
      "cell_type": "markdown",
      "metadata": {
        "id": "kxrr9TzGh3s-"
      },
      "source": [
        "A continuación se hace un tratamiento de la variable categorica, para facilitar el trabajo con ella."
      ]
    },
    {
      "cell_type": "code",
      "execution_count": 15,
      "metadata": {
        "id": "nOZhYOeGiM_x"
      },
      "outputs": [],
      "source": [
        "# Se convierte la variable Sexo del paciente a variable categórica\n",
        "\n",
        "db1['Sexo del Paciente'] = db1['Sexo del Paciente'].astype('category').cat.codes # 0 --> Femenino, 1--> Masculino"
      ]
    },
    {
      "cell_type": "code",
      "execution_count": 16,
      "metadata": {
        "colab": {
          "base_uri": "https://localhost:8080/",
          "height": 505
        },
        "id": "NYkYxTwBccvg",
        "outputId": "e2539ca7-85b0-47d2-9627-d86c9b89c338"
      },
      "outputs": [
        {
          "output_type": "execute_result",
          "data": {
            "text/plain": [
              "     Código Externo  Edad del Paciente  Sexo del Paciente    LEU    NEU  NEUp  \\\n",
              "122           11258                 65                  1   5.45   3.74  68.7   \n",
              "152           11258                 65                  1   5.01   2.68  53.5   \n",
              "4             11258                 65                  1   5.57   2.55  45.8   \n",
              "180          115555                 69                  1  10.38   8.65  83.3   \n",
              "124          115555                 69                  1   7.11   3.61  50.8   \n",
              "..              ...                ...                ...    ...    ...   ...   \n",
              "321          114819                 69                  0  13.67   8.29  60.7   \n",
              "328          116453                 66                  1  11.14   9.94  89.3   \n",
              "332          116453                 66                  1  15.00  11.28  75.1   \n",
              "336          116453                 66                  1  11.49  10.30  89.6   \n",
              "318          116453                 66                  1   8.73   7.33  84.0   \n",
              "\n",
              "      LIN  LINp   MON  MONp  ...  ASLYP  ASLYA  RELPL  RELYP  RELYA  NEUGI  \\\n",
              "122  1.07  19.6  0.48   8.8  ...    1.5   0.08   15.9    3.1   0.17  155.1   \n",
              "152  1.42  28.3  0.58  11.6  ...    0.0   0.00   16.2    4.6   0.23  149.9   \n",
              "4    2.27  40.8  0.47   8.4  ...    0.0   0.00    5.7    2.3   0.13  154.8   \n",
              "180  0.88   8.5  0.78   7.5  ...    0.4   0.04   12.5    1.1   0.11  143.9   \n",
              "124  2.85  40.1  0.62   8.7  ...    0.0   0.00    3.2    1.3   0.09  145.3   \n",
              "..    ...   ...   ...   ...  ...    ...    ...    ...    ...    ...    ...   \n",
              "321  2.08  15.2  2.54  18.6  ...    1.4   0.19   13.9    2.1   0.29  131.2   \n",
              "328  0.64   5.7  0.18   1.6  ...    0.5   0.06   17.2    1.0   0.11  153.2   \n",
              "332  1.50  10.0  0.97   6.5  ...    0.3   0.04    7.3    0.7   0.11  160.2   \n",
              "336  0.49   4.3  0.45   3.9  ...    0.0   0.00   10.2    0.4   0.05  160.0   \n",
              "318  0.64   7.3  0.60   6.9  ...    0.0   0.00    4.7    0.3   0.03  155.2   \n",
              "\n",
              "     NEURI  ASLPL  Revision  label  \n",
              "122   53.9    7.5         1      0  \n",
              "152   49.8    0.0         2      0  \n",
              "4     50.2    0.0         3      0  \n",
              "180   48.3    4.5         1      0  \n",
              "124   48.4    0.0         2      0  \n",
              "..     ...    ...       ...    ...  \n",
              "321   35.4    9.1         4      1  \n",
              "328   49.9    9.4         1      1  \n",
              "332   48.2    2.7         2      1  \n",
              "336   50.6    0.0         3      1  \n",
              "318   48.6    0.0         4      1  \n",
              "\n",
              "[320 rows x 62 columns]"
            ],
            "text/html": [
              "\n",
              "  <div id=\"df-372c6c4e-24fd-4e79-9c40-c857bc6d33bc\">\n",
              "    <div class=\"colab-df-container\">\n",
              "      <div>\n",
              "<style scoped>\n",
              "    .dataframe tbody tr th:only-of-type {\n",
              "        vertical-align: middle;\n",
              "    }\n",
              "\n",
              "    .dataframe tbody tr th {\n",
              "        vertical-align: top;\n",
              "    }\n",
              "\n",
              "    .dataframe thead th {\n",
              "        text-align: right;\n",
              "    }\n",
              "</style>\n",
              "<table border=\"1\" class=\"dataframe\">\n",
              "  <thead>\n",
              "    <tr style=\"text-align: right;\">\n",
              "      <th></th>\n",
              "      <th>Código Externo</th>\n",
              "      <th>Edad del Paciente</th>\n",
              "      <th>Sexo del Paciente</th>\n",
              "      <th>LEU</th>\n",
              "      <th>NEU</th>\n",
              "      <th>NEUp</th>\n",
              "      <th>LIN</th>\n",
              "      <th>LINp</th>\n",
              "      <th>MON</th>\n",
              "      <th>MONp</th>\n",
              "      <th>...</th>\n",
              "      <th>ASLYP</th>\n",
              "      <th>ASLYA</th>\n",
              "      <th>RELPL</th>\n",
              "      <th>RELYP</th>\n",
              "      <th>RELYA</th>\n",
              "      <th>NEUGI</th>\n",
              "      <th>NEURI</th>\n",
              "      <th>ASLPL</th>\n",
              "      <th>Revision</th>\n",
              "      <th>label</th>\n",
              "    </tr>\n",
              "  </thead>\n",
              "  <tbody>\n",
              "    <tr>\n",
              "      <th>122</th>\n",
              "      <td>11258</td>\n",
              "      <td>65</td>\n",
              "      <td>1</td>\n",
              "      <td>5.45</td>\n",
              "      <td>3.74</td>\n",
              "      <td>68.7</td>\n",
              "      <td>1.07</td>\n",
              "      <td>19.6</td>\n",
              "      <td>0.48</td>\n",
              "      <td>8.8</td>\n",
              "      <td>...</td>\n",
              "      <td>1.5</td>\n",
              "      <td>0.08</td>\n",
              "      <td>15.9</td>\n",
              "      <td>3.1</td>\n",
              "      <td>0.17</td>\n",
              "      <td>155.1</td>\n",
              "      <td>53.9</td>\n",
              "      <td>7.5</td>\n",
              "      <td>1</td>\n",
              "      <td>0</td>\n",
              "    </tr>\n",
              "    <tr>\n",
              "      <th>152</th>\n",
              "      <td>11258</td>\n",
              "      <td>65</td>\n",
              "      <td>1</td>\n",
              "      <td>5.01</td>\n",
              "      <td>2.68</td>\n",
              "      <td>53.5</td>\n",
              "      <td>1.42</td>\n",
              "      <td>28.3</td>\n",
              "      <td>0.58</td>\n",
              "      <td>11.6</td>\n",
              "      <td>...</td>\n",
              "      <td>0.0</td>\n",
              "      <td>0.00</td>\n",
              "      <td>16.2</td>\n",
              "      <td>4.6</td>\n",
              "      <td>0.23</td>\n",
              "      <td>149.9</td>\n",
              "      <td>49.8</td>\n",
              "      <td>0.0</td>\n",
              "      <td>2</td>\n",
              "      <td>0</td>\n",
              "    </tr>\n",
              "    <tr>\n",
              "      <th>4</th>\n",
              "      <td>11258</td>\n",
              "      <td>65</td>\n",
              "      <td>1</td>\n",
              "      <td>5.57</td>\n",
              "      <td>2.55</td>\n",
              "      <td>45.8</td>\n",
              "      <td>2.27</td>\n",
              "      <td>40.8</td>\n",
              "      <td>0.47</td>\n",
              "      <td>8.4</td>\n",
              "      <td>...</td>\n",
              "      <td>0.0</td>\n",
              "      <td>0.00</td>\n",
              "      <td>5.7</td>\n",
              "      <td>2.3</td>\n",
              "      <td>0.13</td>\n",
              "      <td>154.8</td>\n",
              "      <td>50.2</td>\n",
              "      <td>0.0</td>\n",
              "      <td>3</td>\n",
              "      <td>0</td>\n",
              "    </tr>\n",
              "    <tr>\n",
              "      <th>180</th>\n",
              "      <td>115555</td>\n",
              "      <td>69</td>\n",
              "      <td>1</td>\n",
              "      <td>10.38</td>\n",
              "      <td>8.65</td>\n",
              "      <td>83.3</td>\n",
              "      <td>0.88</td>\n",
              "      <td>8.5</td>\n",
              "      <td>0.78</td>\n",
              "      <td>7.5</td>\n",
              "      <td>...</td>\n",
              "      <td>0.4</td>\n",
              "      <td>0.04</td>\n",
              "      <td>12.5</td>\n",
              "      <td>1.1</td>\n",
              "      <td>0.11</td>\n",
              "      <td>143.9</td>\n",
              "      <td>48.3</td>\n",
              "      <td>4.5</td>\n",
              "      <td>1</td>\n",
              "      <td>0</td>\n",
              "    </tr>\n",
              "    <tr>\n",
              "      <th>124</th>\n",
              "      <td>115555</td>\n",
              "      <td>69</td>\n",
              "      <td>1</td>\n",
              "      <td>7.11</td>\n",
              "      <td>3.61</td>\n",
              "      <td>50.8</td>\n",
              "      <td>2.85</td>\n",
              "      <td>40.1</td>\n",
              "      <td>0.62</td>\n",
              "      <td>8.7</td>\n",
              "      <td>...</td>\n",
              "      <td>0.0</td>\n",
              "      <td>0.00</td>\n",
              "      <td>3.2</td>\n",
              "      <td>1.3</td>\n",
              "      <td>0.09</td>\n",
              "      <td>145.3</td>\n",
              "      <td>48.4</td>\n",
              "      <td>0.0</td>\n",
              "      <td>2</td>\n",
              "      <td>0</td>\n",
              "    </tr>\n",
              "    <tr>\n",
              "      <th>...</th>\n",
              "      <td>...</td>\n",
              "      <td>...</td>\n",
              "      <td>...</td>\n",
              "      <td>...</td>\n",
              "      <td>...</td>\n",
              "      <td>...</td>\n",
              "      <td>...</td>\n",
              "      <td>...</td>\n",
              "      <td>...</td>\n",
              "      <td>...</td>\n",
              "      <td>...</td>\n",
              "      <td>...</td>\n",
              "      <td>...</td>\n",
              "      <td>...</td>\n",
              "      <td>...</td>\n",
              "      <td>...</td>\n",
              "      <td>...</td>\n",
              "      <td>...</td>\n",
              "      <td>...</td>\n",
              "      <td>...</td>\n",
              "      <td>...</td>\n",
              "    </tr>\n",
              "    <tr>\n",
              "      <th>321</th>\n",
              "      <td>114819</td>\n",
              "      <td>69</td>\n",
              "      <td>0</td>\n",
              "      <td>13.67</td>\n",
              "      <td>8.29</td>\n",
              "      <td>60.7</td>\n",
              "      <td>2.08</td>\n",
              "      <td>15.2</td>\n",
              "      <td>2.54</td>\n",
              "      <td>18.6</td>\n",
              "      <td>...</td>\n",
              "      <td>1.4</td>\n",
              "      <td>0.19</td>\n",
              "      <td>13.9</td>\n",
              "      <td>2.1</td>\n",
              "      <td>0.29</td>\n",
              "      <td>131.2</td>\n",
              "      <td>35.4</td>\n",
              "      <td>9.1</td>\n",
              "      <td>4</td>\n",
              "      <td>1</td>\n",
              "    </tr>\n",
              "    <tr>\n",
              "      <th>328</th>\n",
              "      <td>116453</td>\n",
              "      <td>66</td>\n",
              "      <td>1</td>\n",
              "      <td>11.14</td>\n",
              "      <td>9.94</td>\n",
              "      <td>89.3</td>\n",
              "      <td>0.64</td>\n",
              "      <td>5.7</td>\n",
              "      <td>0.18</td>\n",
              "      <td>1.6</td>\n",
              "      <td>...</td>\n",
              "      <td>0.5</td>\n",
              "      <td>0.06</td>\n",
              "      <td>17.2</td>\n",
              "      <td>1.0</td>\n",
              "      <td>0.11</td>\n",
              "      <td>153.2</td>\n",
              "      <td>49.9</td>\n",
              "      <td>9.4</td>\n",
              "      <td>1</td>\n",
              "      <td>1</td>\n",
              "    </tr>\n",
              "    <tr>\n",
              "      <th>332</th>\n",
              "      <td>116453</td>\n",
              "      <td>66</td>\n",
              "      <td>1</td>\n",
              "      <td>15.00</td>\n",
              "      <td>11.28</td>\n",
              "      <td>75.1</td>\n",
              "      <td>1.50</td>\n",
              "      <td>10.0</td>\n",
              "      <td>0.97</td>\n",
              "      <td>6.5</td>\n",
              "      <td>...</td>\n",
              "      <td>0.3</td>\n",
              "      <td>0.04</td>\n",
              "      <td>7.3</td>\n",
              "      <td>0.7</td>\n",
              "      <td>0.11</td>\n",
              "      <td>160.2</td>\n",
              "      <td>48.2</td>\n",
              "      <td>2.7</td>\n",
              "      <td>2</td>\n",
              "      <td>1</td>\n",
              "    </tr>\n",
              "    <tr>\n",
              "      <th>336</th>\n",
              "      <td>116453</td>\n",
              "      <td>66</td>\n",
              "      <td>1</td>\n",
              "      <td>11.49</td>\n",
              "      <td>10.30</td>\n",
              "      <td>89.6</td>\n",
              "      <td>0.49</td>\n",
              "      <td>4.3</td>\n",
              "      <td>0.45</td>\n",
              "      <td>3.9</td>\n",
              "      <td>...</td>\n",
              "      <td>0.0</td>\n",
              "      <td>0.00</td>\n",
              "      <td>10.2</td>\n",
              "      <td>0.4</td>\n",
              "      <td>0.05</td>\n",
              "      <td>160.0</td>\n",
              "      <td>50.6</td>\n",
              "      <td>0.0</td>\n",
              "      <td>3</td>\n",
              "      <td>1</td>\n",
              "    </tr>\n",
              "    <tr>\n",
              "      <th>318</th>\n",
              "      <td>116453</td>\n",
              "      <td>66</td>\n",
              "      <td>1</td>\n",
              "      <td>8.73</td>\n",
              "      <td>7.33</td>\n",
              "      <td>84.0</td>\n",
              "      <td>0.64</td>\n",
              "      <td>7.3</td>\n",
              "      <td>0.60</td>\n",
              "      <td>6.9</td>\n",
              "      <td>...</td>\n",
              "      <td>0.0</td>\n",
              "      <td>0.00</td>\n",
              "      <td>4.7</td>\n",
              "      <td>0.3</td>\n",
              "      <td>0.03</td>\n",
              "      <td>155.2</td>\n",
              "      <td>48.6</td>\n",
              "      <td>0.0</td>\n",
              "      <td>4</td>\n",
              "      <td>1</td>\n",
              "    </tr>\n",
              "  </tbody>\n",
              "</table>\n",
              "<p>320 rows × 62 columns</p>\n",
              "</div>\n",
              "      <button class=\"colab-df-convert\" onclick=\"convertToInteractive('df-372c6c4e-24fd-4e79-9c40-c857bc6d33bc')\"\n",
              "              title=\"Convert this dataframe to an interactive table.\"\n",
              "              style=\"display:none;\">\n",
              "        \n",
              "  <svg xmlns=\"http://www.w3.org/2000/svg\" height=\"24px\"viewBox=\"0 0 24 24\"\n",
              "       width=\"24px\">\n",
              "    <path d=\"M0 0h24v24H0V0z\" fill=\"none\"/>\n",
              "    <path d=\"M18.56 5.44l.94 2.06.94-2.06 2.06-.94-2.06-.94-.94-2.06-.94 2.06-2.06.94zm-11 1L8.5 8.5l.94-2.06 2.06-.94-2.06-.94L8.5 2.5l-.94 2.06-2.06.94zm10 10l.94 2.06.94-2.06 2.06-.94-2.06-.94-.94-2.06-.94 2.06-2.06.94z\"/><path d=\"M17.41 7.96l-1.37-1.37c-.4-.4-.92-.59-1.43-.59-.52 0-1.04.2-1.43.59L10.3 9.45l-7.72 7.72c-.78.78-.78 2.05 0 2.83L4 21.41c.39.39.9.59 1.41.59.51 0 1.02-.2 1.41-.59l7.78-7.78 2.81-2.81c.8-.78.8-2.07 0-2.86zM5.41 20L4 18.59l7.72-7.72 1.47 1.35L5.41 20z\"/>\n",
              "  </svg>\n",
              "      </button>\n",
              "      \n",
              "  <style>\n",
              "    .colab-df-container {\n",
              "      display:flex;\n",
              "      flex-wrap:wrap;\n",
              "      gap: 12px;\n",
              "    }\n",
              "\n",
              "    .colab-df-convert {\n",
              "      background-color: #E8F0FE;\n",
              "      border: none;\n",
              "      border-radius: 50%;\n",
              "      cursor: pointer;\n",
              "      display: none;\n",
              "      fill: #1967D2;\n",
              "      height: 32px;\n",
              "      padding: 0 0 0 0;\n",
              "      width: 32px;\n",
              "    }\n",
              "\n",
              "    .colab-df-convert:hover {\n",
              "      background-color: #E2EBFA;\n",
              "      box-shadow: 0px 1px 2px rgba(60, 64, 67, 0.3), 0px 1px 3px 1px rgba(60, 64, 67, 0.15);\n",
              "      fill: #174EA6;\n",
              "    }\n",
              "\n",
              "    [theme=dark] .colab-df-convert {\n",
              "      background-color: #3B4455;\n",
              "      fill: #D2E3FC;\n",
              "    }\n",
              "\n",
              "    [theme=dark] .colab-df-convert:hover {\n",
              "      background-color: #434B5C;\n",
              "      box-shadow: 0px 1px 3px 1px rgba(0, 0, 0, 0.15);\n",
              "      filter: drop-shadow(0px 1px 2px rgba(0, 0, 0, 0.3));\n",
              "      fill: #FFFFFF;\n",
              "    }\n",
              "  </style>\n",
              "\n",
              "      <script>\n",
              "        const buttonEl =\n",
              "          document.querySelector('#df-372c6c4e-24fd-4e79-9c40-c857bc6d33bc button.colab-df-convert');\n",
              "        buttonEl.style.display =\n",
              "          google.colab.kernel.accessAllowed ? 'block' : 'none';\n",
              "\n",
              "        async function convertToInteractive(key) {\n",
              "          const element = document.querySelector('#df-372c6c4e-24fd-4e79-9c40-c857bc6d33bc');\n",
              "          const dataTable =\n",
              "            await google.colab.kernel.invokeFunction('convertToInteractive',\n",
              "                                                     [key], {});\n",
              "          if (!dataTable) return;\n",
              "\n",
              "          const docLinkHtml = 'Like what you see? Visit the ' +\n",
              "            '<a target=\"_blank\" href=https://colab.research.google.com/notebooks/data_table.ipynb>data table notebook</a>'\n",
              "            + ' to learn more about interactive tables.';\n",
              "          element.innerHTML = '';\n",
              "          dataTable['output_type'] = 'display_data';\n",
              "          await google.colab.output.renderOutput(dataTable, element);\n",
              "          const docLink = document.createElement('div');\n",
              "          docLink.innerHTML = docLinkHtml;\n",
              "          element.appendChild(docLink);\n",
              "        }\n",
              "      </script>\n",
              "    </div>\n",
              "  </div>\n",
              "  "
            ]
          },
          "metadata": {},
          "execution_count": 16
        }
      ],
      "source": [
        "db1"
      ]
    },
    {
      "cell_type": "markdown",
      "metadata": {
        "id": "DogJmmCHlRMl"
      },
      "source": [
        "### 2.2.1 Separación en train y test"
      ]
    },
    {
      "cell_type": "markdown",
      "metadata": {
        "id": "pnnroGSEe1jD"
      },
      "source": [
        "Ahora debo comenzar con la división de train y test. Hay que tener en cuenta, que a la hora de dividir no me convendría tener la revisión 1 y 3 de un paciente en train y la revisión 2 del mismo paciente en test, por lo que eso debo de tenerlo MUY EN CUENTA\n",
        "\n",
        "Por lo tanto, la división hay que hacerla por código externo.\n",
        "\n",
        "Los pasos a seguir para llevar a cabo dicha división serán:\n",
        "\n",
        "1. Extraer el código externo\n",
        "\n",
        "2. Eliminar las duplicidades consiguiendo de esa manera un vector de valores únicos de la columna \"Código Externo\"\n",
        "\n",
        "3. Shuffle del vector creado\n",
        "\n",
        "4. Teniendo en cuenta que para train me quedo con el 80% de los datos y para test con el 20% restante, de los 98 pacientes que tengo, me quedaré con 78 para train y 20 para test"
      ]
    },
    {
      "cell_type": "code",
      "execution_count": 17,
      "metadata": {
        "colab": {
          "base_uri": "https://localhost:8080/"
        },
        "id": "R8HxNPO4g7zr",
        "outputId": "b2e760f7-0562-4453-ba40-95367dc6fcfa"
      },
      "outputs": [
        {
          "output_type": "stream",
          "name": "stdout",
          "text": [
            "La lista de códigos externos únicos es: [  1164   1214  10074  10092  11197  11258  11372  12016  13299  13397\n",
            " 101480 101609 101660 102441 104431 104798 104849 104851 105140 105582\n",
            " 105639 106066 107746 107747 108527 108894 108897 109036 109115 109129\n",
            " 109339 109887 110011 110435 110607 111310 111339 111520 111561 111786\n",
            " 112135 112511 112823 112894 114183 114495 114819 115555 115784 115847\n",
            " 116005 116033 116159 116453 116651 116806 117212 117398 117462 118023\n",
            " 118401 119606 119737 119766 120418 121289 121358 122654 122958 123156\n",
            " 123456 123676 123724 124738 124850 126455 126638 127383 128124 128148\n",
            " 128864 130481 130937 131267 131394 132015 132432 133617 133978 134492\n",
            " 134855 135062 135217 136647 136922 137069 137304 138076]\n"
          ]
        }
      ],
      "source": [
        "# Codigo_lista muestra todos los códigos externos y ha sido creada a partir de convertir a lista la columna \n",
        "# \"Código Externo\"\n",
        "\n",
        "cd_unique = np.unique(Codigo_lista)\n",
        "print(\"La lista de códigos externos únicos es:\",cd_unique)"
      ]
    },
    {
      "cell_type": "code",
      "execution_count": 18,
      "metadata": {
        "id": "baFhP9sEkklb"
      },
      "outputs": [],
      "source": [
        "import random\n",
        "\n",
        "#Desordeno de manera aleatoria la lista de códigos externos\n",
        "random.shuffle(cd_unique)\n",
        "\n",
        "#Hago la división en train y test, quedándome con los 78 primeros valores de la lista para train y los 20\n",
        "#valores restantes para test\n",
        "\n",
        "cd_train = cd_unique[0:78]\n",
        "cd_test = cd_unique[78:98]"
      ]
    },
    {
      "cell_type": "markdown",
      "metadata": {
        "id": "0QQQhEIn5a5m"
      },
      "source": [
        "Debo crear un dataframe donde estén todas las revisiones de los primeros 78 códigos externos seleccionados anteriormente. A partir de este dataframe sacaré un x_train y un y_train que será \"label\"."
      ]
    },
    {
      "cell_type": "code",
      "execution_count": 19,
      "metadata": {
        "id": "opUz3u6YpMaE"
      },
      "outputs": [],
      "source": [
        "### INICIALIZO DATAFRAME DE TRAINING\n",
        "training = pd.DataFrame()\n",
        "\n",
        "for i in cd_train:  \n",
        "      pt_train = db1.loc[db1[\"Código Externo\"] == i]\n",
        "\n",
        "      training = training.append(pt_train)\n",
        "\n",
        "\n",
        "### INICIALIZO DATAFRAME DE TEST\n",
        "test = pd.DataFrame()\n",
        "\n",
        "for i in cd_test:  \n",
        "      pt_test = db1.loc[db1[\"Código Externo\"] == i]\n",
        "\n",
        "      test = test.append(pt_test)"
      ]
    },
    {
      "cell_type": "code",
      "execution_count": 20,
      "metadata": {
        "colab": {
          "base_uri": "https://localhost:8080/"
        },
        "id": "_ZvnwrG4scKe",
        "outputId": "e86b9473-48e9-48dd-c1ee-7aa4fa76456e"
      },
      "outputs": [
        {
          "output_type": "execute_result",
          "data": {
            "text/plain": [
              "(249, 62)"
            ]
          },
          "metadata": {},
          "execution_count": 20
        }
      ],
      "source": [
        "training.shape"
      ]
    },
    {
      "cell_type": "markdown",
      "metadata": {
        "id": "wSkJmQXttfk9"
      },
      "source": [
        "A partir de los dataframes que he obtenido, de \"training\" extraigo x_train (todos los parámetros menos 'label) e y_train (el parámetro 'label). Con el dataframe 'test' sigo el mismo procedimiento, de tal manera que acabo obteniedno x_test e y_test"
      ]
    },
    {
      "cell_type": "code",
      "execution_count": 21,
      "metadata": {
        "id": "2I8k6ajxteFk"
      },
      "outputs": [],
      "source": [
        "#DIVISION EN TRAIN Y TEST\n",
        "x_train = training.iloc[:,0:61]\n",
        "y_train = training.iloc[:, 61]\n",
        "\n",
        "x_test = test.iloc[:,0:61]\n",
        "y_test = test.iloc[:, 61]"
      ]
    },
    {
      "cell_type": "code",
      "source": [
        "x_train.columns"
      ],
      "metadata": {
        "id": "b9swD6gPSv57",
        "outputId": "09fd459e-4dfd-4543-9427-c7f99208600e",
        "colab": {
          "base_uri": "https://localhost:8080/"
        }
      },
      "execution_count": 22,
      "outputs": [
        {
          "output_type": "execute_result",
          "data": {
            "text/plain": [
              "Index(['Código Externo', 'Edad del Paciente', 'Sexo del Paciente', 'LEU',\n",
              "       'NEU', 'NEUp', 'LIN', 'LINp', 'MON', 'MONp', 'EOS', 'EOSp', 'BAS',\n",
              "       'BASp', 'IG', 'IGp', 'ERIT', 'HGB', 'HCT', 'VCM', 'HCM', 'CHCM', 'RDW',\n",
              "       'ERBL', 'PLTI', 'VPM', 'rNe/L', 'rPL/L', 'MacR', 'MicR', 'BA-D#',\n",
              "       'NEFSC', 'BA-D%', 'BA-N#', 'BA-N%', 'HFLCA', 'HFLCP', 'LY-WX', 'LY-WY',\n",
              "       'LY-WZ', 'LY-X', 'LY-Y', 'LY-Z', 'MO-WX', 'MO-WY', 'MO-WZ', 'MO-X',\n",
              "       'MO-Y', 'MO-Z', 'NE-WX', 'NE-WY', 'NE-WZ', 'ASLYP', 'ASLYA', 'RELPL',\n",
              "       'RELYP', 'RELYA', 'NEUGI', 'NEURI', 'ASLPL', 'Revision'],\n",
              "      dtype='object')"
            ]
          },
          "metadata": {},
          "execution_count": 22
        }
      ]
    },
    {
      "cell_type": "markdown",
      "metadata": {
        "id": "BlgdVwrWY5J_"
      },
      "source": [
        "## 2.3 Identificación de outliers e imputacion de los mismos en X_train usando el método KNN Imputer\n",
        "\n",
        "Para detectar los outliers el primer paso es realizar una inspección visual a través de los boxplots y localizar aquellos que sobresalen del rango normal de valores."
      ]
    },
    {
      "cell_type": "code",
      "execution_count": 23,
      "metadata": {
        "colab": {
          "base_uri": "https://localhost:8080/",
          "height": 1000
        },
        "id": "hXQAnTyvG4ro",
        "outputId": "dbdf978e-b4ef-46d2-dd43-8ed8f306fdc3"
      },
      "outputs": [
        {
          "output_type": "display_data",
          "data": {
            "text/plain": [
              "<Figure size 2160x5040 with 126 Axes>"
            ],
            "image/png": "[encoded data removed]"
          },
          "metadata": {
            "needs_background": "light"
          }
        }
      ],
      "source": [
        "x_train.plot(kind='box',subplots=True, layout=(21,6), sharex=False, sharey=False, figsize=(30,70));"
      ]
    },
    {
      "cell_type": "markdown",
      "metadata": {
        "id": "d9ReUIV3nj3e"
      },
      "source": [
        "A continuación calculo el z-score. Cada puntuación z nos dice a cuántas desviaciones estándar se encuentra un valor individual de la media de los valores del conjunto que estoy estudiando."
      ]
    },
    {
      "cell_type": "markdown",
      "metadata": {
        "id": "MQ0pwzNMGsV7"
      },
      "source": [
        "Se calcula el z-score sin normalizar y comprobar si cada valor se encuentra dentro de 3 veces la desviación típica. En el caso de que se encuentren fuera de ese intervalo se le considera outlier y será reemplazado a NaN."
      ]
    },
    {
      "cell_type": "code",
      "execution_count": 24,
      "metadata": {
        "id": "-QaRyvLmGspw"
      },
      "outputs": [],
      "source": [
        "def outliers (datos,dtype): #Función z-score\n",
        "    count=0\n",
        "    lista=[]\n",
        "    for i in dtype[datos]:\n",
        "        if not (dtype[datos].mean()-3*dtype[datos].std())<=i<=(dtype[datos].mean()+3*dtype[datos].std()): # 3 veces la desviacion estandar\n",
        "            if not np.isnan(i):\n",
        "                count=count+1\n",
        "                lista.append(i)\n",
        "   \n",
        "    return lista "
      ]
    },
    {
      "cell_type": "code",
      "execution_count": 25,
      "metadata": {
        "id": "eIKlm9CcY8QB"
      },
      "outputs": [],
      "source": [
        "numeric_variables_train = x_train.select_dtypes(exclude=['object'])\n",
        "\n",
        "for i in numeric_variables_train:\n",
        "   x_train[[i]]=x_train[[i]].replace(outliers(i,x_train),np.nan) "
      ]
    },
    {
      "cell_type": "code",
      "execution_count": 26,
      "metadata": {
        "colab": {
          "base_uri": "https://localhost:8080/"
        },
        "id": "SqNl6NO6QlU1",
        "outputId": "c8e7e0f9-2961-4ae5-ed48-74a88b24ec45"
      },
      "outputs": [
        {
          "output_type": "stream",
          "name": "stdout",
          "text": [
            "Código Externo 6\n",
            "LEU 34\n",
            "NEU 34\n",
            "NEUp 34\n",
            "LIN 34\n",
            "LINp 35\n",
            "MON 34\n",
            "MONp 33\n",
            "EOS 38\n",
            "EOSp 36\n",
            "BAS 34\n",
            "BASp 39\n",
            "IG 36\n",
            "IGp 37\n",
            "ERIT 34\n",
            "HGB 35\n",
            "HCT 34\n",
            "VCM 36\n",
            "HCM 36\n",
            "CHCM 33\n",
            "RDW 34\n",
            "ERBL 32\n",
            "PLTI 36\n",
            "VPM 35\n",
            "rNe/L 133\n",
            "rPL/L 134\n",
            "MacR 36\n",
            "MicR 36\n",
            "BA-D# 35\n",
            "NEFSC 35\n",
            "BA-D% 34\n",
            "BA-N# 37\n",
            "BA-N% 36\n",
            "HFLCA 36\n",
            "HFLCP 36\n",
            "LY-WX 35\n",
            "LY-WY 35\n",
            "LY-WZ 36\n",
            "LY-X 31\n",
            "LY-Y 33\n",
            "LY-Z 32\n",
            "MO-WX 37\n",
            "MO-WY 35\n",
            "MO-WZ 36\n",
            "MO-X 34\n",
            "MO-Y 33\n",
            "MO-Z 33\n",
            "NE-WX 35\n",
            "NE-WY 37\n",
            "NE-WZ 32\n",
            "ASLYP 40\n",
            "ASLYA 39\n",
            "RELPL 38\n",
            "RELYP 38\n",
            "RELYA 37\n",
            "NEUGI 32\n",
            "NEURI 37\n",
            "ASLPL 38\n"
          ]
        }
      ],
      "source": [
        "for index,value in enumerate (x_train.isnull().sum()):\n",
        "  if value !=0:\n",
        "    print(x_train.columns[index],value)"
      ]
    },
    {
      "cell_type": "markdown",
      "metadata": {
        "id": "7EvZo80qCesP"
      },
      "source": [
        "### 2.3.2 Imputacion de valores perdidos mediante KNN Imputer"
      ]
    },
    {
      "cell_type": "markdown",
      "metadata": {
        "id": "LSQhwrV0d4Xr"
      },
      "source": [
        "A continuación haré uso de KNNImputer. KNNImputer es una clase de scikit-learn que se utiliza para completar o predecir los valores faltantes en un conjunto de datos. Es un método que funciona con el enfoque básico del algoritmo KNN y que se considera que proporciona una mejor rendimiento que otros enfoques, como puedes ser la imputación de los outliers por la media o la mediana."
      ]
    },
    {
      "cell_type": "markdown",
      "metadata": {
        "id": "18axUCRmedtX"
      },
      "source": [
        "El siguiente código tiene como fin, ayudar en la elección del número K óptimo con el que realizar la imputación de los outliers convertidos en NaN. La investigación sugiere que es imperativo probar el modelo usando validación cruzada después de realizar la imputación con diferentes valores de k. Aunque la imputación de valores perdidos es un campo de estudio en constante evolución, kNN actúa como una estrategia simple y efectiva."
      ]
    },
    {
      "cell_type": "markdown",
      "metadata": {
        "id": "CMSqp5TiT8HI"
      },
      "source": [
        "Al final de la ejecución, se crea un diagrama de caja y bigotes para cada conjunto de resultados, lo que permite comparar la distribución de los valores finales."
      ]
    },
    {
      "cell_type": "code",
      "execution_count": 27,
      "metadata": {
        "colab": {
          "base_uri": "https://localhost:8080/",
          "height": 473
        },
        "id": "4m_wh3WBj06X",
        "outputId": "b65341c0-270f-4494-eea6-e20672836b74"
      },
      "outputs": [
        {
          "output_type": "stream",
          "name": "stdout",
          "text": [
            ">1 0.891 (0.034)\n",
            ">3 0.873 (0.032)\n",
            ">5 0.866 (0.039)\n",
            ">7 0.864 (0.037)\n",
            ">9 0.864 (0.032)\n",
            ">15 0.870 (0.035)\n",
            ">18 0.863 (0.034)\n",
            ">21 0.865 (0.032)\n",
            ">25 0.865 (0.030)\n",
            ">30 0.864 (0.036)\n",
            ">36 0.869 (0.040)\n",
            ">40 0.873 (0.033)\n"
          ]
        },
        {
          "output_type": "display_data",
          "data": {
            "text/plain": [
              "<Figure size 432x288 with 1 Axes>"
            ],
            "image/png": "[encoded data removed]"
          },
          "metadata": {
            "needs_background": "light"
          }
        }
      ],
      "source": [
        "from numpy import mean\n",
        "from numpy import std\n",
        "from pandas import read_csv\n",
        "from sklearn.ensemble import RandomForestClassifier\n",
        "from sklearn.impute import KNNImputer\n",
        "from sklearn.model_selection import cross_val_score\n",
        "from sklearn.model_selection import RepeatedStratifiedKFold\n",
        "from sklearn.pipeline import Pipeline\n",
        "from matplotlib import pyplot\n",
        "\n",
        "# evaluate each strategy on the dataset\n",
        "results = list()\n",
        "strategies = [str(i) for i in [1,3,5,7,9,15,18,21,25,30,36,40]]\n",
        "for s in strategies:\n",
        "    # create the modeling pipeline\n",
        "    \n",
        "    #me parece ok usar RF\n",
        "    pipeline = Pipeline(steps=[('i', KNNImputer(n_neighbors=int(s))), ('m', RandomForestClassifier())])  ###NO SE QUE ALGORITMO UTILIZAR\n",
        "    # evaluate the model\n",
        "    cv = RepeatedStratifiedKFold(n_splits=5, n_repeats=10, random_state=1)  ###NO SE QUE NUMEROS PONER EN LOS PARAMETROS\n",
        "    #Pongo X_train e y_train, ya que son los conjuntos sobre los que voy a trabajar\n",
        "    scores = cross_val_score(pipeline, x_train, y_train, scoring='accuracy', cv=cv, n_jobs=-1) ###NO SE QUE X E Y PONER\n",
        "    # store results\n",
        "    results.append(scores)\n",
        "    print('>%s %.3f (%.3f)' % (s, mean(scores), std(scores)))\n",
        "# plot model performance for comparison\n",
        "pyplot.boxplot(results, labels=strategies, showmeans=True)\n",
        "pyplot.show()"
      ]
    },
    {
      "cell_type": "markdown",
      "metadata": {
        "id": "jXUvYKAiMCtq"
      },
      "source": [
        "En este caso, podemos ver que los valores de k no siguen una uniformidad a la hora de dar un rendimiento óptimo del algoritmo en cuestión. Por lo tanto, se puede observar que para un k = --- el modelo presenta el mejor rendimiento con una precisión de alrededor de --- por ciento.\n",
        "\n",
        "\n",
        "**Óscar**\n",
        "\n",
        "Si te fijas sólo en las medias (los triangulitos, se ve que enseguida saturan y se ponen a un buen nivel, así que lo que yo haría sería quderme con un ńumero relativamente pqueño, por ejemplo 5)"
      ]
    },
    {
      "cell_type": "markdown",
      "metadata": {
        "id": "QNMhVZYYMwXU"
      },
      "source": [
        "Por esa razón, utilizaremos dicho valor de K en KNNImputer. Además, tendremos en cuenta otros 2 parámetros. \n",
        "\n",
        "\n",
        "\n",
        "*   Por un lado, se tiene en cuenta la medida de distancia, la cual se puede ponderar proporcionalmente a la distancia entre instancias (filas), aunque esto se establece en una ponderación uniforme por defecto, controlada a través del argumento \"weights\". En este caso, se opta por darle un valor unirforme, por lo que todas las muestras tienen la misma importancia a la hora de \"influenciar\" a la muestra NaN.\n",
        "\n",
        "*   Por otro lado, se encuentra el parámetro \"metric\", el cual hace referencia a la medida de distancia que se utilizará para calcular la distancia entre los miembros del conjunto de datos de entrenamiento. Esta vez se opta por la distancia euclidea, ya que es la distancia utilizada en algunos de los principales métodos para ajustar estimaciones estadísticas de los datos minimizando errores, como el método de mínimos cuadrados.\n",
        "\n"
      ]
    },
    {
      "cell_type": "code",
      "execution_count": 28,
      "metadata": {
        "colab": {
          "base_uri": "https://localhost:8080/"
        },
        "id": "k1DN2JdK7m1O",
        "outputId": "c4a0edff-dcfd-4f11-e683-5ca6a43628d5"
      },
      "outputs": [
        {
          "output_type": "stream",
          "name": "stdout",
          "text": [
            "Total missing values before imputation: 2210\n",
            "Total missing values after imputation: 0\n"
          ]
        }
      ],
      "source": [
        "from sklearn.impute import KNNImputer\n",
        "from numpy import isnan\n",
        "\n",
        "# print total missing\n",
        "print('Total missing values before imputation: %d' % x_train.isnull().sum().sum())\n",
        "\n",
        "# define imputer\n",
        "imputer = KNNImputer(n_neighbors=5, metric='nan_euclidean', weights='uniform') #Se calcula la distancia euclidea del punto NaN a los n vecinos \n",
        "                                      # mas cercanos. Además se le da un peso uniforme a todos los vecinos, es decir todos los vecinos tienen\n",
        "                                      # la misma importancia.\n",
        "\n",
        "# fit on the dataset\n",
        "imputer.fit(x_train)\n",
        "\n",
        "# transform the dataset\n",
        "x_train = imputer.transform(x_train)\n",
        "\n",
        "# print total missing\n",
        "print('Total missing values after imputation: %d' % sum(isnan(x_train).flatten()))"
      ]
    },
    {
      "cell_type": "code",
      "execution_count": 29,
      "metadata": {
        "colab": {
          "base_uri": "https://localhost:8080/"
        },
        "id": "yj0XL0ic8EYo",
        "outputId": "84e27468-f464-4a26-c02c-0883dbd9635b"
      },
      "outputs": [
        {
          "output_type": "stream",
          "name": "stdout",
          "text": [
            "False\n"
          ]
        }
      ],
      "source": [
        "x_train = pd.DataFrame(x_train) #paso X_train de numpy_array a DataFrame\n",
        "\n",
        "#Compruebo que no queda ningún NaN en la base de datos. De esa manera ya puedo trabajar con ella.\n",
        "check_for_nan = x_train.isnull().values.any()\n",
        "print (check_for_nan)"
      ]
    },
    {
      "cell_type": "markdown",
      "metadata": {
        "id": "s8P3X2maXXqq"
      },
      "source": [
        "## 2.4 Identificación de outliers e imputacion de los mismos en X_test usando el método KNN Imputer\n",
        "\n",
        "\n"
      ]
    },
    {
      "cell_type": "code",
      "execution_count": 30,
      "metadata": {
        "id": "d0Mb0QlyXHQM"
      },
      "outputs": [],
      "source": [
        "numeric_variables_test = x_test.select_dtypes(exclude=['object'])\n",
        "\n",
        "for i in numeric_variables_test:\n",
        "   x_test[[i]]=x_test[[i]].replace(outliers(i,x_test),np.nan) "
      ]
    },
    {
      "cell_type": "code",
      "execution_count": 31,
      "metadata": {
        "colab": {
          "base_uri": "https://localhost:8080/"
        },
        "id": "jcaGyYQoX0hh",
        "outputId": "dead8508-4d50-4f10-f85b-cbbd5e4b05e9"
      },
      "outputs": [
        {
          "output_type": "stream",
          "name": "stdout",
          "text": [
            "LEU 6\n",
            "NEU 6\n",
            "NEUp 5\n",
            "LIN 8\n",
            "LINp 5\n",
            "MON 5\n",
            "MONp 7\n",
            "EOS 6\n",
            "EOSp 7\n",
            "BAS 5\n",
            "BASp 6\n",
            "IG 6\n",
            "IGp 7\n",
            "ERIT 5\n",
            "HGB 5\n",
            "HCT 5\n",
            "VCM 5\n",
            "HCM 5\n",
            "CHCM 5\n",
            "RDW 6\n",
            "ERBL 6\n",
            "PLTI 7\n",
            "VPM 8\n",
            "rNe/L 30\n",
            "rPL/L 29\n",
            "MacR 5\n",
            "MicR 6\n",
            "BA-D# 5\n",
            "NEFSC 5\n",
            "BA-D% 5\n",
            "BA-N# 5\n",
            "BA-N% 6\n",
            "HFLCA 6\n",
            "HFLCP 5\n",
            "LY-WX 7\n",
            "LY-WY 6\n",
            "LY-WZ 6\n",
            "LY-X 5\n",
            "LY-Y 5\n",
            "LY-Z 7\n",
            "MO-WX 6\n",
            "MO-WY 5\n",
            "MO-WZ 5\n",
            "MO-X 5\n",
            "MO-Y 5\n",
            "MO-Z 5\n",
            "NE-WX 6\n",
            "NE-WY 6\n",
            "NE-WZ 5\n",
            "ASLYP 8\n",
            "ASLYA 8\n",
            "RELPL 9\n",
            "RELYP 8\n",
            "RELYA 9\n",
            "NEUGI 5\n",
            "NEURI 5\n",
            "ASLPL 7\n"
          ]
        }
      ],
      "source": [
        "for index,value in enumerate (x_test.isnull().sum()):\n",
        "  if value !=0:\n",
        "    print(x_test.columns[index],value)"
      ]
    },
    {
      "cell_type": "code",
      "execution_count": 32,
      "metadata": {
        "colab": {
          "base_uri": "https://localhost:8080/"
        },
        "id": "cO3ahOcgX5u_",
        "outputId": "87e275c8-e8df-4b33-b344-f887f21e3640"
      },
      "outputs": [
        {
          "output_type": "stream",
          "name": "stdout",
          "text": [
            "Total missing values before imputation: 386\n",
            "Total missing values after imputation: 0\n"
          ]
        }
      ],
      "source": [
        "# print total missing\n",
        "print('Total missing values before imputation: %d' % x_test.isnull().sum().sum())\n",
        "\n",
        "#OJO: yo diría que esto es una mala práctica, no es malísima, pero no estás siendo justo. Lo ideal es, ahora\n",
        "#que has entrenado el model en training bien (el KNNImputer), utilizar ese entrenamiento con los nuevos datos, no \n",
        "#volver a ajustar los datos. \n",
        "\n",
        "# define imputer\n",
        "#imputer = KNNImputer(n_neighbors=21, weights='uniform', metric='nan_euclidean')\n",
        "\n",
        "\n",
        "# fit on the dataset\n",
        "# imputer.fit(X_test)  \n",
        "\n",
        "# transform the dataset\n",
        "x_test = imputer.transform(x_test)\n",
        "\n",
        "# print total missing\n",
        "print('Total missing values after imputation: %d' % sum(isnan(x_test).flatten()))"
      ]
    },
    {
      "cell_type": "code",
      "execution_count": 33,
      "metadata": {
        "colab": {
          "base_uri": "https://localhost:8080/"
        },
        "id": "kYi_wfNZYIyo",
        "outputId": "0f8c2e13-90f4-483c-aea3-d51ae7dce0bb"
      },
      "outputs": [
        {
          "output_type": "stream",
          "name": "stdout",
          "text": [
            "False\n"
          ]
        }
      ],
      "source": [
        "x_test = pd.DataFrame(x_test)\n",
        "\n",
        "#Compruebo que no queda ningún NaN en la base de datos. De esa manera ya puedo trabajar con ella.\n",
        "check_for_nan = x_test.isnull().values.any()\n",
        "print (check_for_nan)"
      ]
    },
    {
      "cell_type": "code",
      "execution_count": 34,
      "metadata": {
        "id": "JJbg09mXLXPU"
      },
      "outputs": [],
      "source": [
        "x_train.columns = ['Código Externo', 'Edad del Paciente', 'Sexo del Paciente', 'LEU',\n",
        "       'NEU', 'NEUp', 'LIN', 'LINp', 'MON', 'MONp', 'EOS', 'EOSp', 'BAS',\n",
        "       'BASp', 'IG', 'IGp', 'ERIT', 'HGB', 'HCT', 'VCM', 'HCM', 'CHCM', 'RDW',\n",
        "       'ERBL', 'PLTI', 'VPM', 'rNe/L', 'rPL/L', 'MacR', 'MicR', 'BA-D#',\n",
        "       'NEFSC', 'BA-D%', 'BA-N#', 'BA-N%', 'HFLCA', 'HFLCP', 'LY-WX', 'LY-WY',\n",
        "       'LY-WZ', 'LY-X', 'LY-Y', 'LY-Z', 'MO-WX', 'MO-WY', 'MO-WZ', 'MO-X',\n",
        "       'MO-Y', 'MO-Z', 'NE-WX', 'NE-WY', 'NE-WZ', 'ASLYP', 'ASLYA', 'RELPL',\n",
        "       'RELYP', 'RELYA', 'NEUGI', 'NEURI', 'ASLPL', 'Revision']"
      ]
    },
    {
      "cell_type": "code",
      "execution_count": 35,
      "metadata": {
        "id": "wR-b3VrbOE4R"
      },
      "outputs": [],
      "source": [
        "x_test.columns = ['Código Externo', 'Edad del Paciente', 'Sexo del Paciente', 'LEU',\n",
        "       'NEU', 'NEUp', 'LIN', 'LINp', 'MON', 'MONp', 'EOS', 'EOSp', 'BAS',\n",
        "       'BASp', 'IG', 'IGp', 'ERIT', 'HGB', 'HCT', 'VCM', 'HCM', 'CHCM', 'RDW',\n",
        "       'ERBL', 'PLTI', 'VPM', 'rNe/L', 'rPL/L', 'MacR', 'MicR', 'BA-D#',\n",
        "       'NEFSC', 'BA-D%', 'BA-N#', 'BA-N%', 'HFLCA', 'HFLCP', 'LY-WX', 'LY-WY',\n",
        "       'LY-WZ', 'LY-X', 'LY-Y', 'LY-Z', 'MO-WX', 'MO-WY', 'MO-WZ', 'MO-X',\n",
        "       'MO-Y', 'MO-Z', 'NE-WX', 'NE-WY', 'NE-WZ', 'ASLYP', 'ASLYA', 'RELPL',\n",
        "       'RELYP', 'RELYA', 'NEUGI', 'NEURI', 'ASLPL', 'Revision']"
      ]
    },
    {
      "cell_type": "markdown",
      "metadata": {
        "id": "Qbol2sxOxCAZ"
      },
      "source": [
        "## 2.2 XGBoost\n",
        "\n",
        "Comienzo seleccionando únicamente los parámetros que elgió el método XGBoost (Revisar los parámetros seleccionados por los métodos cuando Javier me responda a la eliminación de features muy correlacionadas)"
      ]
    },
    {
      "cell_type": "code",
      "execution_count": 36,
      "metadata": {
        "id": "R9qZNc5hcedl"
      },
      "outputs": [],
      "source": [
        "### AHORA TENGO QUE PONER AQUI LAS VARIABLES QUE HA ELEGIDO FINALMENTE EL MODELO XGBOOST\n",
        "x_train_XGB = x_train[['Código Externo', 'IGp','NEU','MO-Y','rNe/L','VPM','IG','HCM','ERIT','BA-N#','Revision']]\n",
        "x_train_XGB = x_test[['Código Externo', 'IGp','NEU','MO-Y','rNe/L','VPM','IG','HCM','ERIT','BA-N#','Revision']]"
      ]
    },
    {
      "cell_type": "markdown",
      "metadata": {
        "id": "KCzUj95FEJn8"
      },
      "source": [
        "**Jorge** antes de comenzar a realizar la parte de regresión lineal hay que hacer exactamente lo mismo que hicimos con el dataframe original, es decir el tratamiento de outliers y la imputación. Esta parte tiene que ser exactamente igual que antes. Es decir, será necesario utilizar todas las variables, porque creo que utilizábamos KNN imputer. \n",
        "\n",
        "Cuando tengas todos los valores sin NaN, es cuando podremos comenzar a realizar la parte de incluir la tendencia temporal. \n",
        "\n",
        "\n",
        "Esto ya lo tienes hecho, por lo que no debería tomarte mucho tiempo. Creoq ue la secuencia de pasos debería ser:\n",
        "\n",
        "1. no quitar las variables seleccionadas\n",
        "2. incluir revisión y label\n",
        "3. separar en training y test (utiliando el identificador, para que un paciente esté en training o test, pero no en ambos)\n",
        "4. identificación de outliers\n",
        "5. imputación de outlires con knn (exactamente el mismo esquema que has hecho antes)\n",
        "6. Selección de las variables que se han elegido con xgboost.\n",
        "7. Incorporar coeficintes de la regresión lineal para capturar la dinámica."
      ]
    },
    {
      "cell_type": "markdown",
      "metadata": {
        "id": "1JX4J0I0B3p1"
      },
      "source": [
        "### 2.2.2 Búsqueda de coeficientes (REGRESION LINEAL)\n",
        "\n",
        "Vamos a realizar un análisis de tendencias para cada variable de forma poblacional. También usaremos este análisis de tendencias de forma individual para cada paciente, de forma que se pueda incorporar la información dinámica que genera dentro del modelo de predicción basado en machine learning.\n",
        "\n",
        "Vamos a generar la función que obtiene el modelo de regresión lineal. El modelo que planteamos es un polinomio de segundo orden:\n",
        "\n",
        "$y = a + bx + cx^2$ ;\n",
        "\n",
        "donde la x corresponde al número de revisión."
      ]
    },
    {
      "cell_type": "markdown",
      "metadata": {
        "id": "nDmsBSVSzPV0"
      },
      "source": [
        "Ahora debo de conseguir introducir 3 coeficientes por cada una de los parámetros seleccionados por el método y por cada uno de los pacientes"
      ]
    },
    {
      "cell_type": "code",
      "execution_count": 37,
      "metadata": {
        "id": "f6Jssiy81xBb"
      },
      "outputs": [],
      "source": [
        "from sklearn.linear_model import LinearRegression\n",
        "\n",
        "def lin_reg_model(revi,x_val):\n",
        "    \"\"\"\n",
        "    Función que ajusta un modelo de regresión lineal para el conjunto de datos que viene dado por rev y x_val. Vamos a usar\n",
        "    sklearn, pero podríamos utilizar cualquier otro módulo de algebra lineal\n",
        "    \"\"\"\n",
        "    \n",
        "    #generamos la matrix X, que tiene que contener en una columna rev y en otra rev**2\n",
        "    \n",
        "    \n",
        "    rev_2 = revi**2\n",
        "    \n",
        "    X = np.vstack((np.ones(revi.shape),revi,rev_2)).T #JA Como quiero un polinomio de segundo orden... meto\n",
        "                      #unos que me sirven como \"a\", rev que me sirve como \"b\" y rev_2 que me sirve como \"c\"\n",
        "    \n",
        "    #ajustamos el modelo de regresion lineal\n",
        "    \n",
        "    #le digo false, para que me devuelva todo los coeficientes en coef_\n",
        "    clf = LinearRegression(fit_intercept=False) #yo creo que lo que haría, para que fuesen todos comparables sería \n",
        "    # normalizar los datos pero no lo tengo claro, lo tendría que pensar\n",
        "    \n",
        "    clf.fit(X,x_val)\n",
        "    \n",
        "    #devolvemos los coeficientes\n",
        "    return clf.coef_"
      ]
    },
    {
      "cell_type": "code",
      "execution_count": 38,
      "metadata": {
        "id": "8IOI6knOzLUi"
      },
      "outputs": [],
      "source": [
        "#Calculo de medias según el dataframe y la variable\n",
        "\n",
        "def mean_review(dataframe,variable):\n",
        "    mean_array = []\n",
        "    for i in dataframe.columns[1:10]:    ###NO LO CLARO\n",
        "        df_mask=dataframe['Revision']==i\n",
        "        filtered_df = dataframe[df_mask]\n",
        "\n",
        "        mean_df = filtered_df[variable].mean()  \n",
        "        #si tenemos valores que son NaN nos va a dar ese error\n",
        "        mean_array.append(mean_df)\n",
        " \n",
        "    return mean_array,filtered_df #Tengo que poner return en lugar de print, pues si pongo print cuando ejecuto la funcion me sale None junto a los valores. Y si me \n",
        "              #None, no puedo meter la función en lin_reg_model."
      ]
    },
    {
      "cell_type": "code",
      "execution_count": 39,
      "metadata": {
        "colab": {
          "base_uri": "https://localhost:8080/",
          "height": 131
        },
        "id": "gx6HPLnFwVt8",
        "outputId": "82f9a85c-16fd-4026-ec34-afb59de2d955"
      },
      "outputs": [
        {
          "output_type": "error",
          "ename": "IndentationError",
          "evalue": "ignored",
          "traceback": [
            "\u001b[0;36m  File \u001b[0;32m\"<ipython-input-39-c7bec51e6cc7>\"\u001b[0;36m, line \u001b[0;32m7\u001b[0m\n\u001b[0;31m    for j in df_pat.columns.values (:,2:9):\u001b[0m\n\u001b[0m    ^\u001b[0m\n\u001b[0;31mIndentationError\u001b[0m\u001b[0;31m:\u001b[0m unexpected indent\n"
          ]
        }
      ],
      "source": [
        "revi= np.array([1,2,3,4])\n",
        "X = []\n",
        "\n",
        "for i in cd_train:  \n",
        "      df_pat = x_train.loc[x_train[\"Código Externo\"] == i]\n",
        "      \n",
        "        for j in df_pat.columns.values (:,2:9):\n",
        "             coef_pat = lin_reg_model(revi,df_pat)\n",
        "      "
      ]
    },
    {
      "cell_type": "markdown",
      "metadata": {
        "id": "bb_ZH7hBwry0"
      },
      "source": [
        "## 2.3 GBoost"
      ]
    },
    {
      "cell_type": "code",
      "execution_count": null,
      "metadata": {
        "id": "6_A_6RQTw0cj"
      },
      "outputs": [],
      "source": [
        ""
      ]
    }
  ],
  "metadata": {
    "colab": {
      "name": "Modelos de ML con tendencia temporal",
      "provenance": [],
      "toc_visible": true,
      "include_colab_link": true
    },
    "kernelspec": {
      "display_name": "Python 3 (ipykernel)",
      "language": "python",
      "name": "python3"
    },
    "language_info": {
      "codemirror_mode": {
        "name": "ipython",
        "version": 3
      },
      "file_extension": ".py",
      "mimetype": "text/x-python",
      "name": "python",
      "nbconvert_exporter": "python",
      "pygments_lexer": "ipython3",
      "version": "3.9.7"
    }
  },
  "nbformat": 4,
  "nbformat_minor": 0
}