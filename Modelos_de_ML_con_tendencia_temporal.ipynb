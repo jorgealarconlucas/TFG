{
  "nbformat": 4,
  "nbformat_minor": 0,
  "metadata": {
    "colab": {
      "name": "Modelos de ML con tendencia temporal",
      "provenance": [],
      "include_colab_link": true
    },
    "kernelspec": {
      "name": "python3",
      "display_name": "Python 3"
    },
    "language_info": {
      "name": "python"
    }
  },
  "cells": [
    {
      "cell_type": "markdown",
      "metadata": {
        "id": "view-in-github",
        "colab_type": "text"
      },
      "source": [
        "<a href=\"https://colab.research.google.com/github/jorgealarconlucas/TFG/blob/master/Modelos_de_ML_con_tendencia_temporal.ipynb\" target=\"_parent\"><img src=\"https://colab.research.google.com/assets/colab-badge.svg\" alt=\"Open In Colab\"/></a>"
      ]
    },
    {
      "cell_type": "markdown",
      "metadata": {
        "id": "LWyGEa_1fid8"
      },
      "source": [
        "# 1. Machine learning añadiendo información sobre la tendencia temporal"
      ]
    },
    {
      "cell_type": "code",
      "execution_count": null,
      "metadata": {
        "id": "ph71cMkkGbMy"
      },
      "outputs": [],
      "source": [
        "import pandas as pd\n",
        "import numpy as np\n",
        "import statistics as stats\n",
        "import seaborn as sns\n",
        "import matplotlib\n",
        "from matplotlib import pyplot as plt\n",
        "import scipy.stats as ss\n",
        "import statistics as stats\n",
        "import seaborn as sns \n",
        "from pandas.plotting import autocorrelation_plot\n",
        "from sklearn.model_selection import train_test_split\n",
        "from sklearn.tree import export_graphviz\n",
        "from six import StringIO\n",
        "from IPython.display import Image  \n",
        "import pydotplus\n",
        "from sklearn.model_selection import  GridSearchCV\n",
        "from sklearn.ensemble import RandomForestClassifier\n",
        "from sklearn.metrics import accuracy_score,recall_score, precision_score, confusion_matrix\n",
        "from sklearn.feature_selection import SelectFromModel\n",
        "from sklearn.model_selection import cross_val_score"
      ]
    },
    {
      "cell_type": "code",
      "execution_count": null,
      "metadata": {
        "colab": {
          "base_uri": "https://localhost:8080/",
          "height": 446
        },
        "id": "lM8e7dLWoS-U",
        "outputId": "248cc625-1c8a-46ae-c8d7-b9e6c7f497e2",
        "scrolled": true
      },
      "outputs": [
        {
          "output_type": "execute_result",
          "data": {
            "text/plain": [
              "     Número  Repetición NHC  Código Externo  FALLECE  UCI  Día del Año 19nCv  \\\n",
              "0     221.0               4          111561      NaN  NaN           90   NaN   \n",
              "1     319.0              13          102441      NaN  NaN          100   NaN   \n",
              "2     368.0              16          102441      NaN  NaN          104   NaN   \n",
              "3    1759.0               9          104851      NaN  NaN          238   NaN   \n",
              "4  265277.0               7           11258      NaN  NaN           91   NaN   \n",
              "5  325932.0              11          115555      NaN  NaN           98   NaN   \n",
              "6  366742.0               5          111520      NaN  NaN           83   NaN   \n",
              "7  374616.0               6          116651      NaN  NaN           97   NaN   \n",
              "\n",
              "   Día de POSITIVO  Días respecto a Positivo     Fecha  ... ESSYS ASLYP  \\\n",
              "0              NaN                       NaN  30/03/20  ...   NaN   NaN   \n",
              "1              NaN                       NaN   9/04/20  ...   NaN   NaN   \n",
              "2              NaN                       NaN  13/04/20  ...   NaN   NaN   \n",
              "3              NaN                       NaN  25/08/20  ...   NaN   NaN   \n",
              "4              NaN                       NaN  31/03/20  ...   NaN     0   \n",
              "5              NaN                       NaN   7/04/20  ...   NaN     0   \n",
              "6              NaN                       NaN  23/03/20  ...   NaN     0   \n",
              "7              NaN                       NaN   6/04/20  ...   NaN     0   \n",
              "\n",
              "   ASLYA RELPL  RELYP  RELYA  NEUGI NEURI ASLPL 19nCv.1  \n",
              "0    NaN   NaN    NaN    NaN    NaN   NaN   NaN     NaN  \n",
              "1    NaN   NaN    NaN    NaN    NaN   NaN   NaN     NaN  \n",
              "2    NaN   NaN    NaN    NaN    NaN   NaN   NaN     NaN  \n",
              "3    NaN   NaN    NaN    NaN    NaN   NaN   NaN     NaN  \n",
              "4      0   5,7    2,3   0,13  154,8  50,2     0     NaN  \n",
              "5      0   6,6    2,1   0,15  147,1  47,8     0     NaN  \n",
              "6      0   5,4    1,8   0,13  152,6  49,9     0     NaN  \n",
              "7      0  11,5      5   0,25    150  52,7     0     NaN  \n",
              "\n",
              "[8 rows x 137 columns]"
            ],
            "text/html": [
              "\n",
              "  <div id=\"df-fccb7d2e-c398-4d76-8c32-74824def43a0\">\n",
              "    <div class=\"colab-df-container\">\n",
              "      <div>\n",
              "<style scoped>\n",
              "    .dataframe tbody tr th:only-of-type {\n",
              "        vertical-align: middle;\n",
              "    }\n",
              "\n",
              "    .dataframe tbody tr th {\n",
              "        vertical-align: top;\n",
              "    }\n",
              "\n",
              "    .dataframe thead th {\n",
              "        text-align: right;\n",
              "    }\n",
              "</style>\n",
              "<table border=\"1\" class=\"dataframe\">\n",
              "  <thead>\n",
              "    <tr style=\"text-align: right;\">\n",
              "      <th></th>\n",
              "      <th>Número</th>\n",
              "      <th>Repetición NHC</th>\n",
              "      <th>Código Externo</th>\n",
              "      <th>FALLECE</th>\n",
              "      <th>UCI</th>\n",
              "      <th>Día del Año</th>\n",
              "      <th>19nCv</th>\n",
              "      <th>Día de POSITIVO</th>\n",
              "      <th>Días respecto a Positivo</th>\n",
              "      <th>Fecha</th>\n",
              "      <th>...</th>\n",
              "      <th>ESSYS</th>\n",
              "      <th>ASLYP</th>\n",
              "      <th>ASLYA</th>\n",
              "      <th>RELPL</th>\n",
              "      <th>RELYP</th>\n",
              "      <th>RELYA</th>\n",
              "      <th>NEUGI</th>\n",
              "      <th>NEURI</th>\n",
              "      <th>ASLPL</th>\n",
              "      <th>19nCv.1</th>\n",
              "    </tr>\n",
              "  </thead>\n",
              "  <tbody>\n",
              "    <tr>\n",
              "      <th>0</th>\n",
              "      <td>221.0</td>\n",
              "      <td>4</td>\n",
              "      <td>111561</td>\n",
              "      <td>NaN</td>\n",
              "      <td>NaN</td>\n",
              "      <td>90</td>\n",
              "      <td>NaN</td>\n",
              "      <td>NaN</td>\n",
              "      <td>NaN</td>\n",
              "      <td>30/03/20</td>\n",
              "      <td>...</td>\n",
              "      <td>NaN</td>\n",
              "      <td>NaN</td>\n",
              "      <td>NaN</td>\n",
              "      <td>NaN</td>\n",
              "      <td>NaN</td>\n",
              "      <td>NaN</td>\n",
              "      <td>NaN</td>\n",
              "      <td>NaN</td>\n",
              "      <td>NaN</td>\n",
              "      <td>NaN</td>\n",
              "    </tr>\n",
              "    <tr>\n",
              "      <th>1</th>\n",
              "      <td>319.0</td>\n",
              "      <td>13</td>\n",
              "      <td>102441</td>\n",
              "      <td>NaN</td>\n",
              "      <td>NaN</td>\n",
              "      <td>100</td>\n",
              "      <td>NaN</td>\n",
              "      <td>NaN</td>\n",
              "      <td>NaN</td>\n",
              "      <td>9/04/20</td>\n",
              "      <td>...</td>\n",
              "      <td>NaN</td>\n",
              "      <td>NaN</td>\n",
              "      <td>NaN</td>\n",
              "      <td>NaN</td>\n",
              "      <td>NaN</td>\n",
              "      <td>NaN</td>\n",
              "      <td>NaN</td>\n",
              "      <td>NaN</td>\n",
              "      <td>NaN</td>\n",
              "      <td>NaN</td>\n",
              "    </tr>\n",
              "    <tr>\n",
              "      <th>2</th>\n",
              "      <td>368.0</td>\n",
              "      <td>16</td>\n",
              "      <td>102441</td>\n",
              "      <td>NaN</td>\n",
              "      <td>NaN</td>\n",
              "      <td>104</td>\n",
              "      <td>NaN</td>\n",
              "      <td>NaN</td>\n",
              "      <td>NaN</td>\n",
              "      <td>13/04/20</td>\n",
              "      <td>...</td>\n",
              "      <td>NaN</td>\n",
              "      <td>NaN</td>\n",
              "      <td>NaN</td>\n",
              "      <td>NaN</td>\n",
              "      <td>NaN</td>\n",
              "      <td>NaN</td>\n",
              "      <td>NaN</td>\n",
              "      <td>NaN</td>\n",
              "      <td>NaN</td>\n",
              "      <td>NaN</td>\n",
              "    </tr>\n",
              "    <tr>\n",
              "      <th>3</th>\n",
              "      <td>1759.0</td>\n",
              "      <td>9</td>\n",
              "      <td>104851</td>\n",
              "      <td>NaN</td>\n",
              "      <td>NaN</td>\n",
              "      <td>238</td>\n",
              "      <td>NaN</td>\n",
              "      <td>NaN</td>\n",
              "      <td>NaN</td>\n",
              "      <td>25/08/20</td>\n",
              "      <td>...</td>\n",
              "      <td>NaN</td>\n",
              "      <td>NaN</td>\n",
              "      <td>NaN</td>\n",
              "      <td>NaN</td>\n",
              "      <td>NaN</td>\n",
              "      <td>NaN</td>\n",
              "      <td>NaN</td>\n",
              "      <td>NaN</td>\n",
              "      <td>NaN</td>\n",
              "      <td>NaN</td>\n",
              "    </tr>\n",
              "    <tr>\n",
              "      <th>4</th>\n",
              "      <td>265277.0</td>\n",
              "      <td>7</td>\n",
              "      <td>11258</td>\n",
              "      <td>NaN</td>\n",
              "      <td>NaN</td>\n",
              "      <td>91</td>\n",
              "      <td>NaN</td>\n",
              "      <td>NaN</td>\n",
              "      <td>NaN</td>\n",
              "      <td>31/03/20</td>\n",
              "      <td>...</td>\n",
              "      <td>NaN</td>\n",
              "      <td>0</td>\n",
              "      <td>0</td>\n",
              "      <td>5,7</td>\n",
              "      <td>2,3</td>\n",
              "      <td>0,13</td>\n",
              "      <td>154,8</td>\n",
              "      <td>50,2</td>\n",
              "      <td>0</td>\n",
              "      <td>NaN</td>\n",
              "    </tr>\n",
              "    <tr>\n",
              "      <th>5</th>\n",
              "      <td>325932.0</td>\n",
              "      <td>11</td>\n",
              "      <td>115555</td>\n",
              "      <td>NaN</td>\n",
              "      <td>NaN</td>\n",
              "      <td>98</td>\n",
              "      <td>NaN</td>\n",
              "      <td>NaN</td>\n",
              "      <td>NaN</td>\n",
              "      <td>7/04/20</td>\n",
              "      <td>...</td>\n",
              "      <td>NaN</td>\n",
              "      <td>0</td>\n",
              "      <td>0</td>\n",
              "      <td>6,6</td>\n",
              "      <td>2,1</td>\n",
              "      <td>0,15</td>\n",
              "      <td>147,1</td>\n",
              "      <td>47,8</td>\n",
              "      <td>0</td>\n",
              "      <td>NaN</td>\n",
              "    </tr>\n",
              "    <tr>\n",
              "      <th>6</th>\n",
              "      <td>366742.0</td>\n",
              "      <td>5</td>\n",
              "      <td>111520</td>\n",
              "      <td>NaN</td>\n",
              "      <td>NaN</td>\n",
              "      <td>83</td>\n",
              "      <td>NaN</td>\n",
              "      <td>NaN</td>\n",
              "      <td>NaN</td>\n",
              "      <td>23/03/20</td>\n",
              "      <td>...</td>\n",
              "      <td>NaN</td>\n",
              "      <td>0</td>\n",
              "      <td>0</td>\n",
              "      <td>5,4</td>\n",
              "      <td>1,8</td>\n",
              "      <td>0,13</td>\n",
              "      <td>152,6</td>\n",
              "      <td>49,9</td>\n",
              "      <td>0</td>\n",
              "      <td>NaN</td>\n",
              "    </tr>\n",
              "    <tr>\n",
              "      <th>7</th>\n",
              "      <td>374616.0</td>\n",
              "      <td>6</td>\n",
              "      <td>116651</td>\n",
              "      <td>NaN</td>\n",
              "      <td>NaN</td>\n",
              "      <td>97</td>\n",
              "      <td>NaN</td>\n",
              "      <td>NaN</td>\n",
              "      <td>NaN</td>\n",
              "      <td>6/04/20</td>\n",
              "      <td>...</td>\n",
              "      <td>NaN</td>\n",
              "      <td>0</td>\n",
              "      <td>0</td>\n",
              "      <td>11,5</td>\n",
              "      <td>5</td>\n",
              "      <td>0,25</td>\n",
              "      <td>150</td>\n",
              "      <td>52,7</td>\n",
              "      <td>0</td>\n",
              "      <td>NaN</td>\n",
              "    </tr>\n",
              "  </tbody>\n",
              "</table>\n",
              "<p>8 rows × 137 columns</p>\n",
              "</div>\n",
              "      <button class=\"colab-df-convert\" onclick=\"convertToInteractive('df-fccb7d2e-c398-4d76-8c32-74824def43a0')\"\n",
              "              title=\"Convert this dataframe to an interactive table.\"\n",
              "              style=\"display:none;\">\n",
              "        \n",
              "  <svg xmlns=\"http://www.w3.org/2000/svg\" height=\"24px\"viewBox=\"0 0 24 24\"\n",
              "       width=\"24px\">\n",
              "    <path d=\"M0 0h24v24H0V0z\" fill=\"none\"/>\n",
              "    <path d=\"M18.56 5.44l.94 2.06.94-2.06 2.06-.94-2.06-.94-.94-2.06-.94 2.06-2.06.94zm-11 1L8.5 8.5l.94-2.06 2.06-.94-2.06-.94L8.5 2.5l-.94 2.06-2.06.94zm10 10l.94 2.06.94-2.06 2.06-.94-2.06-.94-.94-2.06-.94 2.06-2.06.94z\"/><path d=\"M17.41 7.96l-1.37-1.37c-.4-.4-.92-.59-1.43-.59-.52 0-1.04.2-1.43.59L10.3 9.45l-7.72 7.72c-.78.78-.78 2.05 0 2.83L4 21.41c.39.39.9.59 1.41.59.51 0 1.02-.2 1.41-.59l7.78-7.78 2.81-2.81c.8-.78.8-2.07 0-2.86zM5.41 20L4 18.59l7.72-7.72 1.47 1.35L5.41 20z\"/>\n",
              "  </svg>\n",
              "      </button>\n",
              "      \n",
              "  <style>\n",
              "    .colab-df-container {\n",
              "      display:flex;\n",
              "      flex-wrap:wrap;\n",
              "      gap: 12px;\n",
              "    }\n",
              "\n",
              "    .colab-df-convert {\n",
              "      background-color: #E8F0FE;\n",
              "      border: none;\n",
              "      border-radius: 50%;\n",
              "      cursor: pointer;\n",
              "      display: none;\n",
              "      fill: #1967D2;\n",
              "      height: 32px;\n",
              "      padding: 0 0 0 0;\n",
              "      width: 32px;\n",
              "    }\n",
              "\n",
              "    .colab-df-convert:hover {\n",
              "      background-color: #E2EBFA;\n",
              "      box-shadow: 0px 1px 2px rgba(60, 64, 67, 0.3), 0px 1px 3px 1px rgba(60, 64, 67, 0.15);\n",
              "      fill: #174EA6;\n",
              "    }\n",
              "\n",
              "    [theme=dark] .colab-df-convert {\n",
              "      background-color: #3B4455;\n",
              "      fill: #D2E3FC;\n",
              "    }\n",
              "\n",
              "    [theme=dark] .colab-df-convert:hover {\n",
              "      background-color: #434B5C;\n",
              "      box-shadow: 0px 1px 3px 1px rgba(0, 0, 0, 0.15);\n",
              "      filter: drop-shadow(0px 1px 2px rgba(0, 0, 0, 0.3));\n",
              "      fill: #FFFFFF;\n",
              "    }\n",
              "  </style>\n",
              "\n",
              "      <script>\n",
              "        const buttonEl =\n",
              "          document.querySelector('#df-fccb7d2e-c398-4d76-8c32-74824def43a0 button.colab-df-convert');\n",
              "        buttonEl.style.display =\n",
              "          google.colab.kernel.accessAllowed ? 'block' : 'none';\n",
              "\n",
              "        async function convertToInteractive(key) {\n",
              "          const element = document.querySelector('#df-fccb7d2e-c398-4d76-8c32-74824def43a0');\n",
              "          const dataTable =\n",
              "            await google.colab.kernel.invokeFunction('convertToInteractive',\n",
              "                                                     [key], {});\n",
              "          if (!dataTable) return;\n",
              "\n",
              "          const docLinkHtml = 'Like what you see? Visit the ' +\n",
              "            '<a target=\"_blank\" href=https://colab.research.google.com/notebooks/data_table.ipynb>data table notebook</a>'\n",
              "            + ' to learn more about interactive tables.';\n",
              "          element.innerHTML = '';\n",
              "          dataTable['output_type'] = 'display_data';\n",
              "          await google.colab.output.renderOutput(dataTable, element);\n",
              "          const docLink = document.createElement('div');\n",
              "          docLink.innerHTML = docLinkHtml;\n",
              "          element.appendChild(docLink);\n",
              "        }\n",
              "      </script>\n",
              "    </div>\n",
              "  </div>\n",
              "  "
            ]
          },
          "metadata": {},
          "execution_count": 2
        }
      ],
      "source": [
        "db = pd.read_csv('/content/Base datos COVID-Linfos Actualizazda.xlsx - Valores seleccionados.csv')\n",
        "#db = pd.read_excel('Base datos COVID-Linfos Actualizazda.xlsx') #no quites esta línea, coméntala cuando estés trabajando en tus datos\n",
        "\n",
        "db.head(8)"
      ]
    },
    {
      "cell_type": "markdown",
      "metadata": {
        "id": "POmheSpUuUrs"
      },
      "source": [
        "### 1.1 Eliminación de columnas y filas (consultado con Javier)"
      ]
    },
    {
      "cell_type": "markdown",
      "metadata": {
        "id": "LDdmQ54uBYuA"
      },
      "source": [
        "Tras una visualización general y una charla con los sanitarios que han transferido la base de datos, se llega a la conclusión de que hay que hacer una limpieza de la misma. Hay columnas que su significado y valores no tienen ninguna relevancia para el estudio que se va a llevar a cabo."
      ]
    },
    {
      "cell_type": "code",
      "execution_count": null,
      "metadata": {
        "id": "CAKAP279CAQ4"
      },
      "outputs": [],
      "source": [
        "db1=db.drop([\"Repetición NHC\",\"Día del Año\",\"Día de POSITIVO\",\"Días respecto a Positivo\",\"GSRH\",\"GRHPC\",\"GRHRN\",\"GRHCE\",\"FRSP\",\"COMHE\",\"AVSBL\",\"AVSPL\",\"AVSRJ\",\"AVNRB\",\"ESSYS\"],axis=1) #axis=1 ya que lo que elimino son columnas.\n"
      ]
    },
    {
      "cell_type": "markdown",
      "metadata": {
        "id": "WrDLgRbU91fo"
      },
      "source": [
        "A continuación elimino las filas que no aportan información."
      ]
    },
    {
      "cell_type": "code",
      "execution_count": null,
      "metadata": {
        "colab": {
          "base_uri": "https://localhost:8080/"
        },
        "id": "TsoE6SfdfioE",
        "outputId": "388cb79a-d21e-43c5-d56a-e7a66c21790c"
      },
      "outputs": [
        {
          "output_type": "execute_result",
          "data": {
            "text/plain": [
              "(320, 122)"
            ]
          },
          "metadata": {},
          "execution_count": 4
        }
      ],
      "source": [
        "db1= db1.dropna(thresh=9) #Mantiene solo las filas con al menos 9 valores que no sean NA. Esto me sirve ya que quiero eliminar aquellas filas\n",
        "#que tengan NaN, es decir 19nCv y todos los parámetros del hemograma.\n",
        "db1.shape"
      ]
    },
    {
      "cell_type": "markdown",
      "metadata": {
        "id": "Gxd8JfXc4kHg"
      },
      "source": [
        "Además teniendo en cuenta la informacion proporcionada por parte del hospital, elimino aquellas variables que son redundantes. Estas variables no aportan información adicional al futuro modelo de predicción."
      ]
    },
    {
      "cell_type": "code",
      "execution_count": null,
      "metadata": {
        "id": "CcUI_IhI46Rt"
      },
      "outputs": [],
      "source": [
        "db1=db1.drop([\"NE_R\",\"NEU_a\",\"NEU_p\",\"LY_R\",\"LIN_a\",\"LIN_p\",\"MO_R\",\"EO_R\",\"BA_R\"],axis=1) #axis=1 ya que lo que elimino son columnas."
      ]
    },
    {
      "cell_type": "markdown",
      "source": [
        "### 1.2 Eliminación de columnas con alta correlación\n",
        "\n",
        "Tras comprobar las variables con alta correlación en el dendrograma se llega a la conclusión junto con el médico Javier, de eliminar una serie de variables por ser redundantes. Los grupos de parámetros sobre los que se discute son: (ERBLp, ERBL) (NEURI, NESFL) (NEUGI, NESSC) (PLTI, PLT) (WBC-N, LEU, TNC-N, WBC-D):"
      ],
      "metadata": {
        "id": "ZM6RW2TFelaj"
      }
    },
    {
      "cell_type": "code",
      "source": [
        "db1=db1.drop([\"ERBLp\",\"NESFL\",\"NESSC\",\"PLT\",\"WBC-N\",\"TNC-N\",\"WBC-D\"],axis=1)"
      ],
      "metadata": {
        "id": "c56yH7StevnA"
      },
      "execution_count": null,
      "outputs": []
    },
    {
      "cell_type": "markdown",
      "metadata": {
        "id": "cNwEYX4odk20"
      },
      "source": [
        "### 1.3 Agrupación de pacientes por gravedad\n",
        "\n",
        "\n",
        "- UCI=1 y FALLECE=1 --> Muy grave\n",
        "- UCI=0 y FALLLECE=1 --> Muy grave\n",
        "\n",
        "- UCI=1 y FALLECE=0 --> Grave\n",
        "- UCI=0 y FALLECE=0 --> Sano"
      ]
    },
    {
      "cell_type": "code",
      "execution_count": null,
      "metadata": {
        "id": "LzKlwbJOv1YC"
      },
      "outputs": [],
      "source": [
        "data_all = db1[(db1['UCI'] == 1.0) & (db1['FALLECE'] == 1.0)]\n",
        "data_death = db1[(db1['UCI'] == 0.0) & (db1['FALLECE'] == 1.0)]\n",
        "data_regular = db1[(db1['UCI'] == 1.0) & (db1['FALLECE'] == 0.0)]\n",
        "data_health = db1[(db1['UCI'] == 0.0) & (db1['FALLECE'] == 0.0)]"
      ]
    },
    {
      "cell_type": "markdown",
      "metadata": {
        "id": "Vtbt65BWJKGi"
      },
      "source": [
        "### 1.4 Tipo de cada columna"
      ]
    },
    {
      "cell_type": "code",
      "execution_count": null,
      "metadata": {
        "colab": {
          "base_uri": "https://localhost:8080/"
        },
        "id": "MVxlf2CLJUow",
        "outputId": "9d37590e-2b52-4e1c-e57f-2b8181eb8c42",
        "scrolled": false
      },
      "outputs": [
        {
          "output_type": "stream",
          "name": "stdout",
          "text": [
            "<class 'pandas.core.frame.DataFrame'>\n",
            "Int64Index: 320 entries, 4 to 341\n",
            "Data columns (total 113 columns):\n",
            " #    Column             Non-Null Count  Dtype  \n",
            "---   ------             --------------  -----  \n",
            " 0    Número             319 non-null    float64\n",
            " 1    Código Externo     320 non-null    int64  \n",
            " 2    FALLECE            96 non-null     float64\n",
            " 3    UCI                96 non-null     float64\n",
            " 4    19nCv              105 non-null    object \n",
            " 5    Fecha              320 non-null    object \n",
            " 6    Edad del Paciente  320 non-null    object \n",
            " 7    Sexo del Paciente  320 non-null    object \n",
            " 8    LEU                284 non-null    object \n",
            " 9    NEU                284 non-null    object \n",
            " 10   NEUp               284 non-null    object \n",
            " 11   LIN                284 non-null    object \n",
            " 12   LINp               284 non-null    object \n",
            " 13   MON                284 non-null    object \n",
            " 14   MONp               284 non-null    object \n",
            " 15   EOS                284 non-null    object \n",
            " 16   EOSp               284 non-null    object \n",
            " 17   BAS                284 non-null    object \n",
            " 18   BASp               284 non-null    object \n",
            " 19   IG                 284 non-null    object \n",
            " 20   IGp                284 non-null    object \n",
            " 21   ERIT               284 non-null    object \n",
            " 22   HGB                284 non-null    object \n",
            " 23   HCT                284 non-null    object \n",
            " 24   VCM                284 non-null    object \n",
            " 25   HCM                284 non-null    object \n",
            " 26   CHCM               284 non-null    object \n",
            " 27   RDW                284 non-null    object \n",
            " 28   ERBL               284 non-null    object \n",
            " 29   ERBLp              284 non-null    object \n",
            " 30   RET                9 non-null      object \n",
            " 31   RETp               9 non-null      object \n",
            " 32   FRI                9 non-null      object \n",
            " 33   RETHE              9 non-null      object \n",
            " 34   PLT                282 non-null    float64\n",
            " 35   PLTI               282 non-null    float64\n",
            " 36   PLTF               4 non-null      float64\n",
            " 37   PLTO               9 non-null      float64\n",
            " 38   VPM                283 non-null    object \n",
            " 39   IPF                4 non-null      object \n",
            " 40   MNEU               7 non-null      float64\n",
            " 41   MLIN               7 non-null      object \n",
            " 42   MMON               7 non-null      object \n",
            " 43   MBAS               7 non-null      float64\n",
            " 44   MEOS               7 non-null      float64\n",
            " 45   MCAS               7 non-null      object \n",
            " 46   MMET               3 non-null      float64\n",
            " 47   MMIE               2 non-null      float64\n",
            " 48   MPRO               2 non-null      float64\n",
            " 49   CPLAS              2 non-null      float64\n",
            " 50   MBLS               2 non-null      float64\n",
            " 51   MERI               3 non-null      object \n",
            " 52   rNe/L              160 non-null    object \n",
            " 53   rPL/L              160 non-null    object \n",
            " 54   HIPER              9 non-null      object \n",
            " 55   HYPO               9 non-null      object \n",
            " 56   MACR               0 non-null      float64\n",
            " 57   MICRO              0 non-null      float64\n",
            " 58   FRAGM              9 non-null      object \n",
            " 59   MacR               284 non-null    object \n",
            " 60   MicR               284 non-null    object \n",
            " 61   RBCO               0 non-null      float64\n",
            " 62   MCHCO              9 non-null      object \n",
            " 63   BA-D#              284 non-null    object \n",
            " 64   NEFSC              284 non-null    object \n",
            " 65   BA-D%              284 non-null    object \n",
            " 66   BA-N#              284 non-null    object \n",
            " 67   BA-N%              284 non-null    object \n",
            " 68   D-HE               9 non-null      object \n",
            " 69   FRCA               9 non-null      object \n",
            " 70   HFLCA              284 non-null    object \n",
            " 71   HFLCP              284 non-null    object \n",
            " 72   HIPF               4 non-null      object \n",
            " 73   IPFA               4 non-null      object \n",
            " 74   IRF-Y              9 non-null      object \n",
            " 75   LY-WX              284 non-null    float64\n",
            " 76   LY-WY              284 non-null    float64\n",
            " 77   LY-WZ              284 non-null    float64\n",
            " 78   LY-X               284 non-null    object \n",
            " 79   LY-Y               284 non-null    object \n",
            " 80   LY-Z               284 non-null    object \n",
            " 81   MO-WX              284 non-null    float64\n",
            " 82   MO-WY              284 non-null    float64\n",
            " 83   MO-WZ              284 non-null    float64\n",
            " 84   MO-X               284 non-null    object \n",
            " 85   MO-Y               284 non-null    object \n",
            " 86   MO-Z               284 non-null    object \n",
            " 87   NESFL              284 non-null    object \n",
            " 88   NESSC              284 non-null    object \n",
            " 89   NE-WX              284 non-null    float64\n",
            " 90   NE-WY              284 non-null    float64\n",
            " 91   NE-WZ              284 non-null    float64\n",
            " 92   RBCHE              9 non-null      object \n",
            " 93   RBC-Y              9 non-null      object \n",
            " 94   RTNC               9 non-null      float64\n",
            " 95   RUPP               9 non-null      float64\n",
            " 96   RET-Y              9 non-null      object \n",
            " 97   RPI                9 non-null      object \n",
            " 98   TNC-D              0 non-null      float64\n",
            " 99   TNC-N              284 non-null    object \n",
            " 100  TNC-P              0 non-null      float64\n",
            " 101  WBC-D              284 non-null    object \n",
            " 102  WBC-N              284 non-null    object \n",
            " 103  WBC-P              0 non-null      float64\n",
            " 104  ASLYP              284 non-null    object \n",
            " 105  ASLYA              284 non-null    object \n",
            " 106  RELPL              284 non-null    object \n",
            " 107  RELYP              284 non-null    object \n",
            " 108  RELYA              284 non-null    object \n",
            " 109  NEUGI              284 non-null    object \n",
            " 110  NEURI              284 non-null    object \n",
            " 111  ASLPL              284 non-null    object \n",
            " 112  19nCv.1            51 non-null     object \n",
            "dtypes: float64(32), int64(1), object(80)\n",
            "memory usage: 285.0+ KB\n"
          ]
        },
        {
          "output_type": "stream",
          "name": "stderr",
          "text": [
            "/usr/local/lib/python3.7/dist-packages/ipykernel_launcher.py:1: FutureWarning: null_counts is deprecated. Use show_counts instead\n",
            "  \"\"\"Entry point for launching an IPython kernel.\n"
          ]
        }
      ],
      "source": [
        "db1.info(verbose=True, null_counts=True) #Hay un total de 342 filas"
      ]
    },
    {
      "cell_type": "code",
      "execution_count": null,
      "metadata": {
        "id": "Hww7kQIfw6rn"
      },
      "outputs": [],
      "source": [
        "#Cambio de comas por puntos\n",
        "db1 = db1.replace(',','.', regex=True)\n",
        "\n",
        "#Reemplazo esos caracteres por NaN\n",
        "db1=db1.replace(\"----\",np.nan)\n",
        "\n",
        "# Función que elimina la palabra años\n",
        "def only_digits (txt):\n",
        "  return \"\".join(c for c in txt if c.isdigit())\n",
        "\n",
        "db1[\"Edad del Paciente\"] = db1[\"Edad del Paciente\"].map(only_digits)\n",
        "\n",
        "## MUY IMPORTANTE. Conversión de variables excepto 19nCv, Fecha, Sexo del Paciente y 19nCv.1 \n",
        "# Una vez hecho el cambio de comas por puntos y haber introducido NaN por \"----\", este código me transforma los 'object' en 'numerics'\n",
        "for i in db1:\n",
        "  if not (i==\"19nCv\" or i==\"Fecha\" or i==\"Sexo del Paciente\" or i==\"19nCv.1\"):\n",
        "    if db1[i].dtypes == object:\n",
        "      db1[i] = pd.to_numeric(db1[i])\n",
        "\n",
        "#Paso la variable \"fecha\" de tipo object a tipo datatime, para poder tratar con ella como una fecha.\n",
        "db1[\"Fecha\"]=pd.to_datetime(db1[\"Fecha\"])"
      ]
    },
    {
      "cell_type": "markdown",
      "metadata": {
        "id": "2uEMoBCZsWF6"
      },
      "source": [
        "## 1.5 Intruducción de nuevas columnas, \"Revision\" y \"Label\"\n"
      ]
    },
    {
      "cell_type": "code",
      "source": [
        "Codigo_lista = db1['Código Externo'].tolist()"
      ],
      "metadata": {
        "id": "rAhYCtAOaIxx"
      },
      "execution_count": null,
      "outputs": []
    },
    {
      "cell_type": "code",
      "execution_count": null,
      "metadata": {
        "id": "3hO9Z_WWPTpB"
      },
      "outputs": [],
      "source": [
        "from collections import Counter\n",
        "\n",
        "lista_pacientes = Counter(Codigo_lista).keys()\n",
        "\n",
        "### INICIALIZO DATAFRAME DE SANOS\n",
        "sanos_df = pd.DataFrame()\n",
        "\n",
        "### INICIALIZO DATAFRAME DE NO SANOS\n",
        "no_sanos_df = pd.DataFrame()\n",
        "\n",
        "for i in lista_pacientes:  \n",
        "      if i not in data_health.values:\n",
        "        new_1 = db1.loc[db1[\"Código Externo\"] == i]\n",
        "        new_1 = new_1.sort_values('Fecha') #ordenar de la revision mas antigua a la mas reciente.\n",
        "        new_1['Revision'] = range(1, 1+len(new_1)) #en la nueva columna \"Revision\" se van a añadiendo valores de manera incremental desde 1 teniendo \n",
        "                                          # en cuenta el número de citas de cada paciente.\n",
        "\n",
        "        new_1 = new_1.assign(label=1) #Introduzco nueva columna con etiqueta 1 (NO SANO)\n",
        "\n",
        "        no_sanos_df = no_sanos_df.append(new_1)\n",
        "\n",
        "      else:\n",
        "        new_2 = db1.loc[db1[\"Código Externo\"] == i]\n",
        "        new_2 = new_2.sort_values('Fecha')\n",
        "        new_2['Revision'] = range(1, 1+len(new_2)) #en la nueva columna \"Revision\" se van a añadiendo valores de manera incremental desde 1 teniendo \n",
        "                                          # en cuenta el número de citas de cada paciente.\n",
        "\n",
        "        new_2 = new_2.assign(label=0)#Introduzco nueva columna con etiqueta 0 (SANO)\n",
        "      \n",
        "        sanos_df = sanos_df.append(new_2)\n"
      ]
    },
    {
      "cell_type": "markdown",
      "metadata": {
        "id": "Kbj0jF4Yr8Zk"
      },
      "source": [
        "# 2. Preprocesado de datos\n",
        "\n",
        "### ¿Hasta que revisión se cuenta con un número adecuado de pacientes?\n",
        "\n",
        "Se realiza el proyecto con un total de 4 revisiones. Se llega a esta conclusión de la siguiente forma; se dividen las variables de forma individual y se va representando cada uno de los valores de cada variable en cada revisión (teniendo así una visión de los valores de la variable para todos los pacientes en cada revisión a medida que pasa el tiempo). Esto se realiza con los pacientes sanos por un lado y los pacientes no sanos por el otro. Finalmente, se observa como con 4 revisiones se puede hacer un estudio amplio y completo de las variables. \n",
        "\n",
        "Además, de 98 pacientes, 44 pacientes presentan 4 revisiones, es decir el 44,89% de los pacientes presentes en la base de datos, porcentaje considerable que ayuda a tomar la decision de usar 4 revisiones.\n"
      ]
    },
    {
      "cell_type": "code",
      "execution_count": null,
      "metadata": {
        "id": "bMEut-bFD54n"
      },
      "outputs": [],
      "source": [
        "db1 = pd.concat([sanos_df, no_sanos_df])\n",
        "db1.shape\n",
        "\n",
        "print(db1.columns)"
      ]
    },
    {
      "cell_type": "markdown",
      "metadata": {
        "id": "3ydqg5-w9qNe"
      },
      "source": [
        "## 2.1 Identificacion de valores perdidos\n",
        "\n",
        "Junto con el estudio del tipo de variables, es básico conocer el número de observaciones disponibles y si todas ellas están completas. Los valores perdidos son muy importantes a la hora de crear modelos, la mayoría de algoritmos no aceptan observaciones incompletas o bien se ven muy influenciados por ellas."
      ]
    },
    {
      "cell_type": "code",
      "execution_count": null,
      "metadata": {
        "id": "qg3wy6g8NWaJ",
        "scrolled": false
      },
      "outputs": [],
      "source": [
        "# Columnas con missing values\n",
        "\n",
        "for index,value in enumerate (db1.isnull().sum()):\n",
        "  if value !=0:\n",
        "    print(db1.columns[index],value)"
      ]
    },
    {
      "cell_type": "code",
      "execution_count": null,
      "metadata": {
        "id": "nsbN9tNVNfVa"
      },
      "outputs": [],
      "source": [
        "#Quitar todas las columnas con mas de 310 NaN\n",
        "\n",
        "#320-310 = 10. Las columnas con 311 NaN tienen 9 valores no NaN. Por lo que si me quedo con aquellas columnas que tengan como mínimo 10 valores\n",
        "# no NaN, elimino todas las columnas con 333 NaN o más.\n",
        "db1=db1.dropna(thresh=10,axis=1) \n",
        "\n",
        "db1=db1.drop([\"Número\",\"19nCv\",\"19nCv.1\", \"FALLECE\", \"UCI\", \"Fecha\"],axis=1)\n",
        "\n",
        "\n",
        "print(db1.columns)"
      ]
    },
    {
      "cell_type": "markdown",
      "metadata": {
        "id": "kxrr9TzGh3s-"
      },
      "source": [
        "A continuación se hace un tratamiento de la variable categorica, para facilitar el trabajo con ella."
      ]
    },
    {
      "cell_type": "code",
      "execution_count": null,
      "metadata": {
        "id": "nOZhYOeGiM_x"
      },
      "outputs": [],
      "source": [
        "# Se convierte la variable Sexo del paciente a variable categórica\n",
        "\n",
        "db1['Sexo del Paciente'] = db1['Sexo del Paciente'].astype('category').cat.codes # 0 --> Femenino, 1--> Masculino"
      ]
    },
    {
      "cell_type": "code",
      "source": [
        "db1"
      ],
      "metadata": {
        "id": "NYkYxTwBccvg"
      },
      "execution_count": null,
      "outputs": []
    },
    {
      "cell_type": "markdown",
      "source": [
        "## 2.2 XGBoost\n",
        "\n",
        "Comienzo seleccionando únicamente los parámetros que elgió el método XGBoost (Revisar los parámetros seleccionados por los métodos cuando Javier me responda a la eliminación de features muy correlacionadas)"
      ],
      "metadata": {
        "id": "Qbol2sxOxCAZ"
      }
    },
    {
      "cell_type": "code",
      "source": [
        "db1_FS_XGB = db1[['Código Externo', 'MicR','LINp','HGB','HCM','NEUp','HFLCA','RELPL','ERIT','IGp','Revision', \"label\"]]"
      ],
      "metadata": {
        "id": "R9qZNc5hcedl"
      },
      "execution_count": null,
      "outputs": []
    },
    {
      "cell_type": "code",
      "source": [
        "db1_FS_XGB"
      ],
      "metadata": {
        "id": "eiBe1pyveAxY"
      },
      "execution_count": null,
      "outputs": []
    },
    {
      "cell_type": "markdown",
      "source": [
        "Ahora debo comenzar con la división de train y test. Hay que tener en cuenta, que a la hora de dividir no me convendría tener la revisión 1 y 3 de un paciente en train y la revisión 2 del mismo paciente en test, por lo que eso debo de tenerlo MUY EN CUENTA\n",
        "\n",
        "Por lo tanto, la división hay que hacerla por código externo.\n",
        "\n",
        "Los pasos a seguir para llevar a cabo dicha división serán:\n",
        "\n",
        "1. Extraer el código externo\n",
        "\n",
        "2. Eliminar las duplicidades consiguiendo de esa manera un vector de valores únicos de la columna \"Código Externo\"\n",
        "\n",
        "3. Shuffle del vector creado\n",
        "\n",
        "4. Teniendo en cuenta que para train me quedo con el 80% de los datos y para test con el 20% restante, de los 98 pacientes que tengo, me quedaré con 78 para train y 20 para test"
      ],
      "metadata": {
        "id": "pnnroGSEe1jD"
      }
    },
    {
      "cell_type": "code",
      "source": [
        "# Codigo_lista muestra todos los códigos externos y ha sido creada a partir de convertir a lista la columna \n",
        "# \"Código Externo\"\n",
        "\n",
        "cd_unique = np.unique(Codigo_lista)\n",
        "print(\"La lista de códigos externos únicos es:\",cd_unique)"
      ],
      "metadata": {
        "colab": {
          "base_uri": "https://localhost:8080/"
        },
        "id": "R8HxNPO4g7zr",
        "outputId": "98f6401f-2ee0-4055-80c9-bf98c00e8316"
      },
      "execution_count": null,
      "outputs": [
        {
          "output_type": "stream",
          "name": "stdout",
          "text": [
            "La lista de códigos externos únicos es: [  1164   1214  10074  10092  11197  11258  11372  12016  13299  13397\n",
            " 101480 101609 101660 102441 104431 104798 104849 104851 105140 105582\n",
            " 105639 106066 107746 107747 108527 108894 108897 109036 109115 109129\n",
            " 109339 109887 110011 110435 110607 111310 111339 111520 111561 111786\n",
            " 112135 112511 112823 112894 114183 114495 114819 115555 115784 115847\n",
            " 116005 116033 116159 116453 116651 116806 117212 117398 117462 118023\n",
            " 118401 119606 119737 119766 120418 121289 121358 122654 122958 123156\n",
            " 123456 123676 123724 124738 124850 126455 126638 127383 128124 128148\n",
            " 128864 130481 130937 131267 131394 132015 132432 133617 133978 134492\n",
            " 134855 135062 135217 136647 136922 137069 137304 138076]\n"
          ]
        }
      ]
    },
    {
      "cell_type": "markdown",
      "source": [
        "## 2.3 Separación en train y test"
      ],
      "metadata": {
        "id": "DogJmmCHlRMl"
      }
    },
    {
      "cell_type": "code",
      "source": [
        "import random\n",
        "\n",
        "#Desordeno de manera aleatoria la lista de códigos externos\n",
        "random.shuffle(cd_unique)\n",
        "\n",
        "#Hago la división en train y test, quedándome con los 78 primeros valores de la lista para train y los 20\n",
        "#valores restantes para test\n",
        "\n",
        "cd_train = cd_unique[0:78]\n",
        "cd_test = cd_unique[78:98]"
      ],
      "metadata": {
        "id": "baFhP9sEkklb"
      },
      "execution_count": null,
      "outputs": []
    },
    {
      "cell_type": "markdown",
      "source": [
        "Debo crear un dataframe donde estén todas las revisiones de los primeros 78 códigos externos seleccionados anteriormente. A partir de este dataframe sacaré un x_train y un y_train que será \"label\"."
      ],
      "metadata": {
        "id": "0QQQhEIn5a5m"
      }
    },
    {
      "cell_type": "code",
      "source": [
        "for i in cd_train:\n",
        "  "
      ],
      "metadata": {
        "id": "a6zsGPq4rsVu"
      },
      "execution_count": null,
      "outputs": []
    }
  ]
}