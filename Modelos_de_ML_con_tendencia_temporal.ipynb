{
  "cells": [
    {
      "cell_type": "markdown",
      "metadata": {
        "id": "view-in-github",
        "colab_type": "text"
      },
      "source": [
        "<a href=\"https://colab.research.google.com/github/jorgealarconlucas/TFG/blob/master/Modelos_de_ML_con_tendencia_temporal.ipynb\" target=\"_parent\"><img src=\"https://colab.research.google.com/assets/colab-badge.svg\" alt=\"Open In Colab\"/></a>"
      ]
    },
    {
      "cell_type": "markdown",
      "metadata": {
        "id": "LWyGEa_1fid8"
      },
      "source": [
        "# 1. Machine learning añadiendo información sobre la tendencia temporal"
      ]
    },
    {
      "cell_type": "code",
      "execution_count": 1,
      "metadata": {
        "id": "ph71cMkkGbMy"
      },
      "outputs": [],
      "source": [
        "import pandas as pd\n",
        "import numpy as np\n",
        "import statistics as stats\n",
        "import seaborn as sns\n",
        "import matplotlib\n",
        "from matplotlib import pyplot as plt\n",
        "import scipy.stats as ss\n",
        "import statistics as stats\n",
        "import seaborn as sns \n",
        "from pandas.plotting import autocorrelation_plot\n",
        "from sklearn.model_selection import train_test_split\n",
        "from sklearn.tree import export_graphviz\n",
        "from six import StringIO\n",
        "from IPython.display import Image  \n",
        "import pydotplus\n",
        "from sklearn.model_selection import  GridSearchCV\n",
        "from sklearn.ensemble import RandomForestClassifier\n",
        "from sklearn.metrics import accuracy_score,recall_score, precision_score, confusion_matrix\n",
        "from sklearn.feature_selection import SelectFromModel\n",
        "from sklearn.model_selection import cross_val_score"
      ]
    },
    {
      "cell_type": "code",
      "execution_count": 2,
      "metadata": {
        "colab": {
          "base_uri": "https://localhost:8080/",
          "height": 446
        },
        "id": "lM8e7dLWoS-U",
        "outputId": "dbf885f2-fc58-403d-a2d3-624e42fa04fb",
        "scrolled": false
      },
      "outputs": [
        {
          "output_type": "execute_result",
          "data": {
            "text/plain": [
              "     Número  Repetición NHC  Código Externo  FALLECE  UCI  Día del Año 19nCv  \\\n",
              "0     221.0               4          111561      NaN  NaN           90   NaN   \n",
              "1     319.0              13          102441      NaN  NaN          100   NaN   \n",
              "2     368.0              16          102441      NaN  NaN          104   NaN   \n",
              "3    1759.0               9          104851      NaN  NaN          238   NaN   \n",
              "4  265277.0               7           11258      NaN  NaN           91   NaN   \n",
              "5  325932.0              11          115555      NaN  NaN           98   NaN   \n",
              "6  366742.0               5          111520      NaN  NaN           83   NaN   \n",
              "7  374616.0               6          116651      NaN  NaN           97   NaN   \n",
              "\n",
              "   Día de POSITIVO  Días respecto a Positivo     Fecha  ... ESSYS ASLYP  \\\n",
              "0              NaN                       NaN  30/03/20  ...   NaN   NaN   \n",
              "1              NaN                       NaN   9/04/20  ...   NaN   NaN   \n",
              "2              NaN                       NaN  13/04/20  ...   NaN   NaN   \n",
              "3              NaN                       NaN  25/08/20  ...   NaN   NaN   \n",
              "4              NaN                       NaN  31/03/20  ...   NaN     0   \n",
              "5              NaN                       NaN   7/04/20  ...   NaN     0   \n",
              "6              NaN                       NaN  23/03/20  ...   NaN     0   \n",
              "7              NaN                       NaN   6/04/20  ...   NaN     0   \n",
              "\n",
              "   ASLYA RELPL  RELYP  RELYA  NEUGI NEURI ASLPL 19nCv.1  \n",
              "0    NaN   NaN    NaN    NaN    NaN   NaN   NaN     NaN  \n",
              "1    NaN   NaN    NaN    NaN    NaN   NaN   NaN     NaN  \n",
              "2    NaN   NaN    NaN    NaN    NaN   NaN   NaN     NaN  \n",
              "3    NaN   NaN    NaN    NaN    NaN   NaN   NaN     NaN  \n",
              "4      0   5,7    2,3   0,13  154,8  50,2     0     NaN  \n",
              "5      0   6,6    2,1   0,15  147,1  47,8     0     NaN  \n",
              "6      0   5,4    1,8   0,13  152,6  49,9     0     NaN  \n",
              "7      0  11,5      5   0,25    150  52,7     0     NaN  \n",
              "\n",
              "[8 rows x 137 columns]"
            ],
            "text/html": [
              "\n",
              "  <div id=\"df-6d6577a9-96b3-4009-a18a-ca3cfd1adf77\">\n",
              "    <div class=\"colab-df-container\">\n",
              "      <div>\n",
              "<style scoped>\n",
              "    .dataframe tbody tr th:only-of-type {\n",
              "        vertical-align: middle;\n",
              "    }\n",
              "\n",
              "    .dataframe tbody tr th {\n",
              "        vertical-align: top;\n",
              "    }\n",
              "\n",
              "    .dataframe thead th {\n",
              "        text-align: right;\n",
              "    }\n",
              "</style>\n",
              "<table border=\"1\" class=\"dataframe\">\n",
              "  <thead>\n",
              "    <tr style=\"text-align: right;\">\n",
              "      <th></th>\n",
              "      <th>Número</th>\n",
              "      <th>Repetición NHC</th>\n",
              "      <th>Código Externo</th>\n",
              "      <th>FALLECE</th>\n",
              "      <th>UCI</th>\n",
              "      <th>Día del Año</th>\n",
              "      <th>19nCv</th>\n",
              "      <th>Día de POSITIVO</th>\n",
              "      <th>Días respecto a Positivo</th>\n",
              "      <th>Fecha</th>\n",
              "      <th>...</th>\n",
              "      <th>ESSYS</th>\n",
              "      <th>ASLYP</th>\n",
              "      <th>ASLYA</th>\n",
              "      <th>RELPL</th>\n",
              "      <th>RELYP</th>\n",
              "      <th>RELYA</th>\n",
              "      <th>NEUGI</th>\n",
              "      <th>NEURI</th>\n",
              "      <th>ASLPL</th>\n",
              "      <th>19nCv.1</th>\n",
              "    </tr>\n",
              "  </thead>\n",
              "  <tbody>\n",
              "    <tr>\n",
              "      <th>0</th>\n",
              "      <td>221.0</td>\n",
              "      <td>4</td>\n",
              "      <td>111561</td>\n",
              "      <td>NaN</td>\n",
              "      <td>NaN</td>\n",
              "      <td>90</td>\n",
              "      <td>NaN</td>\n",
              "      <td>NaN</td>\n",
              "      <td>NaN</td>\n",
              "      <td>30/03/20</td>\n",
              "      <td>...</td>\n",
              "      <td>NaN</td>\n",
              "      <td>NaN</td>\n",
              "      <td>NaN</td>\n",
              "      <td>NaN</td>\n",
              "      <td>NaN</td>\n",
              "      <td>NaN</td>\n",
              "      <td>NaN</td>\n",
              "      <td>NaN</td>\n",
              "      <td>NaN</td>\n",
              "      <td>NaN</td>\n",
              "    </tr>\n",
              "    <tr>\n",
              "      <th>1</th>\n",
              "      <td>319.0</td>\n",
              "      <td>13</td>\n",
              "      <td>102441</td>\n",
              "      <td>NaN</td>\n",
              "      <td>NaN</td>\n",
              "      <td>100</td>\n",
              "      <td>NaN</td>\n",
              "      <td>NaN</td>\n",
              "      <td>NaN</td>\n",
              "      <td>9/04/20</td>\n",
              "      <td>...</td>\n",
              "      <td>NaN</td>\n",
              "      <td>NaN</td>\n",
              "      <td>NaN</td>\n",
              "      <td>NaN</td>\n",
              "      <td>NaN</td>\n",
              "      <td>NaN</td>\n",
              "      <td>NaN</td>\n",
              "      <td>NaN</td>\n",
              "      <td>NaN</td>\n",
              "      <td>NaN</td>\n",
              "    </tr>\n",
              "    <tr>\n",
              "      <th>2</th>\n",
              "      <td>368.0</td>\n",
              "      <td>16</td>\n",
              "      <td>102441</td>\n",
              "      <td>NaN</td>\n",
              "      <td>NaN</td>\n",
              "      <td>104</td>\n",
              "      <td>NaN</td>\n",
              "      <td>NaN</td>\n",
              "      <td>NaN</td>\n",
              "      <td>13/04/20</td>\n",
              "      <td>...</td>\n",
              "      <td>NaN</td>\n",
              "      <td>NaN</td>\n",
              "      <td>NaN</td>\n",
              "      <td>NaN</td>\n",
              "      <td>NaN</td>\n",
              "      <td>NaN</td>\n",
              "      <td>NaN</td>\n",
              "      <td>NaN</td>\n",
              "      <td>NaN</td>\n",
              "      <td>NaN</td>\n",
              "    </tr>\n",
              "    <tr>\n",
              "      <th>3</th>\n",
              "      <td>1759.0</td>\n",
              "      <td>9</td>\n",
              "      <td>104851</td>\n",
              "      <td>NaN</td>\n",
              "      <td>NaN</td>\n",
              "      <td>238</td>\n",
              "      <td>NaN</td>\n",
              "      <td>NaN</td>\n",
              "      <td>NaN</td>\n",
              "      <td>25/08/20</td>\n",
              "      <td>...</td>\n",
              "      <td>NaN</td>\n",
              "      <td>NaN</td>\n",
              "      <td>NaN</td>\n",
              "      <td>NaN</td>\n",
              "      <td>NaN</td>\n",
              "      <td>NaN</td>\n",
              "      <td>NaN</td>\n",
              "      <td>NaN</td>\n",
              "      <td>NaN</td>\n",
              "      <td>NaN</td>\n",
              "    </tr>\n",
              "    <tr>\n",
              "      <th>4</th>\n",
              "      <td>265277.0</td>\n",
              "      <td>7</td>\n",
              "      <td>11258</td>\n",
              "      <td>NaN</td>\n",
              "      <td>NaN</td>\n",
              "      <td>91</td>\n",
              "      <td>NaN</td>\n",
              "      <td>NaN</td>\n",
              "      <td>NaN</td>\n",
              "      <td>31/03/20</td>\n",
              "      <td>...</td>\n",
              "      <td>NaN</td>\n",
              "      <td>0</td>\n",
              "      <td>0</td>\n",
              "      <td>5,7</td>\n",
              "      <td>2,3</td>\n",
              "      <td>0,13</td>\n",
              "      <td>154,8</td>\n",
              "      <td>50,2</td>\n",
              "      <td>0</td>\n",
              "      <td>NaN</td>\n",
              "    </tr>\n",
              "    <tr>\n",
              "      <th>5</th>\n",
              "      <td>325932.0</td>\n",
              "      <td>11</td>\n",
              "      <td>115555</td>\n",
              "      <td>NaN</td>\n",
              "      <td>NaN</td>\n",
              "      <td>98</td>\n",
              "      <td>NaN</td>\n",
              "      <td>NaN</td>\n",
              "      <td>NaN</td>\n",
              "      <td>7/04/20</td>\n",
              "      <td>...</td>\n",
              "      <td>NaN</td>\n",
              "      <td>0</td>\n",
              "      <td>0</td>\n",
              "      <td>6,6</td>\n",
              "      <td>2,1</td>\n",
              "      <td>0,15</td>\n",
              "      <td>147,1</td>\n",
              "      <td>47,8</td>\n",
              "      <td>0</td>\n",
              "      <td>NaN</td>\n",
              "    </tr>\n",
              "    <tr>\n",
              "      <th>6</th>\n",
              "      <td>366742.0</td>\n",
              "      <td>5</td>\n",
              "      <td>111520</td>\n",
              "      <td>NaN</td>\n",
              "      <td>NaN</td>\n",
              "      <td>83</td>\n",
              "      <td>NaN</td>\n",
              "      <td>NaN</td>\n",
              "      <td>NaN</td>\n",
              "      <td>23/03/20</td>\n",
              "      <td>...</td>\n",
              "      <td>NaN</td>\n",
              "      <td>0</td>\n",
              "      <td>0</td>\n",
              "      <td>5,4</td>\n",
              "      <td>1,8</td>\n",
              "      <td>0,13</td>\n",
              "      <td>152,6</td>\n",
              "      <td>49,9</td>\n",
              "      <td>0</td>\n",
              "      <td>NaN</td>\n",
              "    </tr>\n",
              "    <tr>\n",
              "      <th>7</th>\n",
              "      <td>374616.0</td>\n",
              "      <td>6</td>\n",
              "      <td>116651</td>\n",
              "      <td>NaN</td>\n",
              "      <td>NaN</td>\n",
              "      <td>97</td>\n",
              "      <td>NaN</td>\n",
              "      <td>NaN</td>\n",
              "      <td>NaN</td>\n",
              "      <td>6/04/20</td>\n",
              "      <td>...</td>\n",
              "      <td>NaN</td>\n",
              "      <td>0</td>\n",
              "      <td>0</td>\n",
              "      <td>11,5</td>\n",
              "      <td>5</td>\n",
              "      <td>0,25</td>\n",
              "      <td>150</td>\n",
              "      <td>52,7</td>\n",
              "      <td>0</td>\n",
              "      <td>NaN</td>\n",
              "    </tr>\n",
              "  </tbody>\n",
              "</table>\n",
              "<p>8 rows × 137 columns</p>\n",
              "</div>\n",
              "      <button class=\"colab-df-convert\" onclick=\"convertToInteractive('df-6d6577a9-96b3-4009-a18a-ca3cfd1adf77')\"\n",
              "              title=\"Convert this dataframe to an interactive table.\"\n",
              "              style=\"display:none;\">\n",
              "        \n",
              "  <svg xmlns=\"http://www.w3.org/2000/svg\" height=\"24px\"viewBox=\"0 0 24 24\"\n",
              "       width=\"24px\">\n",
              "    <path d=\"M0 0h24v24H0V0z\" fill=\"none\"/>\n",
              "    <path d=\"M18.56 5.44l.94 2.06.94-2.06 2.06-.94-2.06-.94-.94-2.06-.94 2.06-2.06.94zm-11 1L8.5 8.5l.94-2.06 2.06-.94-2.06-.94L8.5 2.5l-.94 2.06-2.06.94zm10 10l.94 2.06.94-2.06 2.06-.94-2.06-.94-.94-2.06-.94 2.06-2.06.94z\"/><path d=\"M17.41 7.96l-1.37-1.37c-.4-.4-.92-.59-1.43-.59-.52 0-1.04.2-1.43.59L10.3 9.45l-7.72 7.72c-.78.78-.78 2.05 0 2.83L4 21.41c.39.39.9.59 1.41.59.51 0 1.02-.2 1.41-.59l7.78-7.78 2.81-2.81c.8-.78.8-2.07 0-2.86zM5.41 20L4 18.59l7.72-7.72 1.47 1.35L5.41 20z\"/>\n",
              "  </svg>\n",
              "      </button>\n",
              "      \n",
              "  <style>\n",
              "    .colab-df-container {\n",
              "      display:flex;\n",
              "      flex-wrap:wrap;\n",
              "      gap: 12px;\n",
              "    }\n",
              "\n",
              "    .colab-df-convert {\n",
              "      background-color: #E8F0FE;\n",
              "      border: none;\n",
              "      border-radius: 50%;\n",
              "      cursor: pointer;\n",
              "      display: none;\n",
              "      fill: #1967D2;\n",
              "      height: 32px;\n",
              "      padding: 0 0 0 0;\n",
              "      width: 32px;\n",
              "    }\n",
              "\n",
              "    .colab-df-convert:hover {\n",
              "      background-color: #E2EBFA;\n",
              "      box-shadow: 0px 1px 2px rgba(60, 64, 67, 0.3), 0px 1px 3px 1px rgba(60, 64, 67, 0.15);\n",
              "      fill: #174EA6;\n",
              "    }\n",
              "\n",
              "    [theme=dark] .colab-df-convert {\n",
              "      background-color: #3B4455;\n",
              "      fill: #D2E3FC;\n",
              "    }\n",
              "\n",
              "    [theme=dark] .colab-df-convert:hover {\n",
              "      background-color: #434B5C;\n",
              "      box-shadow: 0px 1px 3px 1px rgba(0, 0, 0, 0.15);\n",
              "      filter: drop-shadow(0px 1px 2px rgba(0, 0, 0, 0.3));\n",
              "      fill: #FFFFFF;\n",
              "    }\n",
              "  </style>\n",
              "\n",
              "      <script>\n",
              "        const buttonEl =\n",
              "          document.querySelector('#df-6d6577a9-96b3-4009-a18a-ca3cfd1adf77 button.colab-df-convert');\n",
              "        buttonEl.style.display =\n",
              "          google.colab.kernel.accessAllowed ? 'block' : 'none';\n",
              "\n",
              "        async function convertToInteractive(key) {\n",
              "          const element = document.querySelector('#df-6d6577a9-96b3-4009-a18a-ca3cfd1adf77');\n",
              "          const dataTable =\n",
              "            await google.colab.kernel.invokeFunction('convertToInteractive',\n",
              "                                                     [key], {});\n",
              "          if (!dataTable) return;\n",
              "\n",
              "          const docLinkHtml = 'Like what you see? Visit the ' +\n",
              "            '<a target=\"_blank\" href=https://colab.research.google.com/notebooks/data_table.ipynb>data table notebook</a>'\n",
              "            + ' to learn more about interactive tables.';\n",
              "          element.innerHTML = '';\n",
              "          dataTable['output_type'] = 'display_data';\n",
              "          await google.colab.output.renderOutput(dataTable, element);\n",
              "          const docLink = document.createElement('div');\n",
              "          docLink.innerHTML = docLinkHtml;\n",
              "          element.appendChild(docLink);\n",
              "        }\n",
              "      </script>\n",
              "    </div>\n",
              "  </div>\n",
              "  "
            ]
          },
          "metadata": {},
          "execution_count": 2
        }
      ],
      "source": [
        "#db = pd.read_csv('/content/Base datos COVID-Linfos Actualizazda.xlsx - Valores seleccionados.csv')\n",
        "#db = pd.read_excel('Base datos COVID-Linfos Actualizazda.xlsx') #no quites esta línea, coméntala cuando estés trabajando en tus datos\n",
        "db = pd.read_csv('Base datos COVID-Linfos Actualizazda.xlsx - Valores seleccionados.csv')\n",
        "#db_2 = pd.read_excel('Base datos COVID-Linfos Actualizazda.xlsx')\n",
        "db.head(8)"
      ]
    },
    {
      "cell_type": "code",
      "execution_count": 3,
      "metadata": {
        "id": "7QLVVtLZsdkj"
      },
      "outputs": [],
      "source": [
        "#db_2.head(8) "
      ]
    },
    {
      "cell_type": "markdown",
      "metadata": {
        "id": "POmheSpUuUrs"
      },
      "source": [
        "### 1.1 Eliminación de columnas y filas (consultado con Javier)"
      ]
    },
    {
      "cell_type": "markdown",
      "metadata": {
        "id": "LDdmQ54uBYuA"
      },
      "source": [
        "Tras una visualización general y una charla con los sanitarios que han transferido la base de datos, se llega a la conclusión de que hay que hacer una limpieza de la misma. Hay columnas que su significado y valores no tienen ninguna relevancia para el estudio que se va a llevar a cabo."
      ]
    },
    {
      "cell_type": "code",
      "execution_count": 4,
      "metadata": {
        "id": "CAKAP279CAQ4"
      },
      "outputs": [],
      "source": [
        "db1=db.drop([\"Repetición NHC\",\"Día del Año\",\"Día de POSITIVO\",\"Días respecto a Positivo\",\"GSRH\",\"GRHPC\",\"GRHRN\",\"GRHCE\",\"FRSP\",\"COMHE\",\"AVSBL\",\"AVSPL\",\"AVSRJ\",\"AVNRB\",\"ESSYS\"],axis=1) #axis=1 ya que lo que elimino son columnas.\n"
      ]
    },
    {
      "cell_type": "markdown",
      "metadata": {
        "id": "WrDLgRbU91fo"
      },
      "source": [
        "A continuación elimino las filas que no aportan información."
      ]
    },
    {
      "cell_type": "code",
      "execution_count": 5,
      "metadata": {
        "colab": {
          "base_uri": "https://localhost:8080/"
        },
        "id": "TsoE6SfdfioE",
        "outputId": "87e8daef-b543-45cc-b67f-8267f6cc739e"
      },
      "outputs": [
        {
          "output_type": "execute_result",
          "data": {
            "text/plain": [
              "(320, 122)"
            ]
          },
          "metadata": {},
          "execution_count": 5
        }
      ],
      "source": [
        "db1= db1.dropna(thresh=9) #Mantiene solo las filas con al menos 9 valores que no sean NA. Esto me sirve ya que quiero eliminar aquellas filas\n",
        "#que tengan NaN, es decir 19nCv y todos los parámetros del hemograma.\n",
        "db1.shape"
      ]
    },
    {
      "cell_type": "markdown",
      "metadata": {
        "id": "Gxd8JfXc4kHg"
      },
      "source": [
        "Además teniendo en cuenta la informacion proporcionada por parte del hospital, elimino aquellas variables que son redundantes. Estas variables no aportan información adicional al futuro modelo de predicción."
      ]
    },
    {
      "cell_type": "code",
      "execution_count": 6,
      "metadata": {
        "id": "CcUI_IhI46Rt"
      },
      "outputs": [],
      "source": [
        "db1=db1.drop([\"NE_R\",\"NEU_a\",\"NEU_p\",\"LY_R\",\"LIN_a\",\"LIN_p\",\"MO_R\",\"EO_R\",\"BA_R\"],axis=1) #axis=1 ya que lo que elimino son columnas."
      ]
    },
    {
      "cell_type": "markdown",
      "metadata": {
        "id": "nomyRjKbUXas"
      },
      "source": [
        "### 1.2 Eliminación de columnas con alta correlación\n",
        "\n",
        "Tras comprobar las variables con alta correlación en el dendrograma se llega a la conclusión junto con el médico Javier, de eliminar una serie de variables por ser redundantes. Los grupos de parámetros sobre los que se discute son: (ERBLp, ERBL) (NEURI, NESFL) (NEUGI, NESSC) (PLTI, PLT) (WBC-N, LEU, TNC-N, WBC-D) (HCT, HGB) (ASLYP, ASLYA) (EOSP, EOS):"
      ]
    },
    {
      "cell_type": "code",
      "execution_count": 7,
      "metadata": {
        "id": "c56yH7StevnA"
      },
      "outputs": [],
      "source": [
        "db1=db1.drop([\"ERBLp\",\"NESFL\",\"NESSC\",\"PLT\",\"WBC-N\",\"TNC-N\",\"WBC-D\",\"BASp\",\"HCT\",\"ASLYA\",\"EOSp\"],axis=1)"
      ]
    },
    {
      "cell_type": "markdown",
      "metadata": {
        "id": "cNwEYX4odk20"
      },
      "source": [
        "### 1.3 Agrupación de pacientes por gravedad\n",
        "\n",
        "\n",
        "- UCI=1 y FALLECE=1 --> Muy grave\n",
        "- UCI=0 y FALLLECE=1 --> Muy grave\n",
        "\n",
        "- UCI=1 y FALLECE=0 --> Grave\n",
        "- UCI=0 y FALLECE=0 --> Sano"
      ]
    },
    {
      "cell_type": "code",
      "execution_count": 8,
      "metadata": {
        "id": "LzKlwbJOv1YC"
      },
      "outputs": [],
      "source": [
        "data_all = db1[(db1['UCI'] == 1.0) & (db1['FALLECE'] == 1.0)]\n",
        "data_death = db1[(db1['UCI'] == 0.0) & (db1['FALLECE'] == 1.0)]\n",
        "data_regular = db1[(db1['UCI'] == 1.0) & (db1['FALLECE'] == 0.0)]\n",
        "data_health = db1[(db1['UCI'] == 0.0) & (db1['FALLECE'] == 0.0)]"
      ]
    },
    {
      "cell_type": "markdown",
      "metadata": {
        "id": "Vtbt65BWJKGi"
      },
      "source": [
        "### 1.4 Tipo de cada columna"
      ]
    },
    {
      "cell_type": "code",
      "execution_count": 9,
      "metadata": {
        "colab": {
          "base_uri": "https://localhost:8080/"
        },
        "id": "MVxlf2CLJUow",
        "outputId": "5bcfa225-316b-45e1-835e-bcddad0bc755",
        "scrolled": false
      },
      "outputs": [
        {
          "output_type": "stream",
          "name": "stdout",
          "text": [
            "<class 'pandas.core.frame.DataFrame'>\n",
            "Int64Index: 320 entries, 4 to 341\n",
            "Data columns (total 102 columns):\n",
            " #    Column             Non-Null Count  Dtype  \n",
            "---   ------             --------------  -----  \n",
            " 0    Número             319 non-null    float64\n",
            " 1    Código Externo     320 non-null    int64  \n",
            " 2    FALLECE            96 non-null     float64\n",
            " 3    UCI                96 non-null     float64\n",
            " 4    19nCv              105 non-null    object \n",
            " 5    Fecha              320 non-null    object \n",
            " 6    Edad del Paciente  320 non-null    object \n",
            " 7    Sexo del Paciente  320 non-null    object \n",
            " 8    LEU                284 non-null    object \n",
            " 9    NEU                284 non-null    object \n",
            " 10   NEUp               284 non-null    object \n",
            " 11   LIN                284 non-null    object \n",
            " 12   LINp               284 non-null    object \n",
            " 13   MON                284 non-null    object \n",
            " 14   MONp               284 non-null    object \n",
            " 15   EOS                284 non-null    object \n",
            " 16   BAS                284 non-null    object \n",
            " 17   IG                 284 non-null    object \n",
            " 18   IGp                284 non-null    object \n",
            " 19   ERIT               284 non-null    object \n",
            " 20   HGB                284 non-null    object \n",
            " 21   VCM                284 non-null    object \n",
            " 22   HCM                284 non-null    object \n",
            " 23   CHCM               284 non-null    object \n",
            " 24   RDW                284 non-null    object \n",
            " 25   ERBL               284 non-null    object \n",
            " 26   RET                9 non-null      object \n",
            " 27   RETp               9 non-null      object \n",
            " 28   FRI                9 non-null      object \n",
            " 29   RETHE              9 non-null      object \n",
            " 30   PLTI               282 non-null    float64\n",
            " 31   PLTF               4 non-null      float64\n",
            " 32   PLTO               9 non-null      float64\n",
            " 33   VPM                283 non-null    object \n",
            " 34   IPF                4 non-null      object \n",
            " 35   MNEU               7 non-null      float64\n",
            " 36   MLIN               7 non-null      object \n",
            " 37   MMON               7 non-null      object \n",
            " 38   MBAS               7 non-null      float64\n",
            " 39   MEOS               7 non-null      float64\n",
            " 40   MCAS               7 non-null      object \n",
            " 41   MMET               3 non-null      float64\n",
            " 42   MMIE               2 non-null      float64\n",
            " 43   MPRO               2 non-null      float64\n",
            " 44   CPLAS              2 non-null      float64\n",
            " 45   MBLS               2 non-null      float64\n",
            " 46   MERI               3 non-null      object \n",
            " 47   rNe/L              160 non-null    object \n",
            " 48   rPL/L              160 non-null    object \n",
            " 49   HIPER              9 non-null      object \n",
            " 50   HYPO               9 non-null      object \n",
            " 51   MACR               0 non-null      float64\n",
            " 52   MICRO              0 non-null      float64\n",
            " 53   FRAGM              9 non-null      object \n",
            " 54   MacR               284 non-null    object \n",
            " 55   MicR               284 non-null    object \n",
            " 56   RBCO               0 non-null      float64\n",
            " 57   MCHCO              9 non-null      object \n",
            " 58   BA-D#              284 non-null    object \n",
            " 59   NEFSC              284 non-null    object \n",
            " 60   BA-D%              284 non-null    object \n",
            " 61   BA-N#              284 non-null    object \n",
            " 62   BA-N%              284 non-null    object \n",
            " 63   D-HE               9 non-null      object \n",
            " 64   FRCA               9 non-null      object \n",
            " 65   HFLCA              284 non-null    object \n",
            " 66   HFLCP              284 non-null    object \n",
            " 67   HIPF               4 non-null      object \n",
            " 68   IPFA               4 non-null      object \n",
            " 69   IRF-Y              9 non-null      object \n",
            " 70   LY-WX              284 non-null    float64\n",
            " 71   LY-WY              284 non-null    float64\n",
            " 72   LY-WZ              284 non-null    float64\n",
            " 73   LY-X               284 non-null    object \n",
            " 74   LY-Y               284 non-null    object \n",
            " 75   LY-Z               284 non-null    object \n",
            " 76   MO-WX              284 non-null    float64\n",
            " 77   MO-WY              284 non-null    float64\n",
            " 78   MO-WZ              284 non-null    float64\n",
            " 79   MO-X               284 non-null    object \n",
            " 80   MO-Y               284 non-null    object \n",
            " 81   MO-Z               284 non-null    object \n",
            " 82   NE-WX              284 non-null    float64\n",
            " 83   NE-WY              284 non-null    float64\n",
            " 84   NE-WZ              284 non-null    float64\n",
            " 85   RBCHE              9 non-null      object \n",
            " 86   RBC-Y              9 non-null      object \n",
            " 87   RTNC               9 non-null      float64\n",
            " 88   RUPP               9 non-null      float64\n",
            " 89   RET-Y              9 non-null      object \n",
            " 90   RPI                9 non-null      object \n",
            " 91   TNC-D              0 non-null      float64\n",
            " 92   TNC-P              0 non-null      float64\n",
            " 93   WBC-P              0 non-null      float64\n",
            " 94   ASLYP              284 non-null    object \n",
            " 95   RELPL              284 non-null    object \n",
            " 96   RELYP              284 non-null    object \n",
            " 97   RELYA              284 non-null    object \n",
            " 98   NEUGI              284 non-null    object \n",
            " 99   NEURI              284 non-null    object \n",
            " 100  ASLPL              284 non-null    object \n",
            " 101  19nCv.1            51 non-null     object \n",
            "dtypes: float64(31), int64(1), object(70)\n",
            "memory usage: 257.5+ KB\n"
          ]
        },
        {
          "output_type": "stream",
          "name": "stderr",
          "text": [
            "/usr/local/lib/python3.7/dist-packages/ipykernel_launcher.py:1: FutureWarning: null_counts is deprecated. Use show_counts instead\n",
            "  \"\"\"Entry point for launching an IPython kernel.\n"
          ]
        }
      ],
      "source": [
        "db1.info(verbose=True, null_counts=True) #Hay un total de 342 filas"
      ]
    },
    {
      "cell_type": "code",
      "execution_count": 10,
      "metadata": {
        "id": "Hww7kQIfw6rn"
      },
      "outputs": [],
      "source": [
        "#Cambio de comas por puntos\n",
        "db1 = db1.replace(',','.', regex=True)\n",
        "\n",
        "#Reemplazo esos caracteres por NaN\n",
        "db1=db1.replace(\"----\",np.nan)\n",
        "\n",
        "# Función que elimina la palabra años\n",
        "def only_digits (txt):\n",
        "  return \"\".join(c for c in txt if c.isdigit())\n",
        "\n",
        "db1[\"Edad del Paciente\"] = db1[\"Edad del Paciente\"].map(only_digits)\n",
        "\n",
        "## MUY IMPORTANTE. Conversión de variables excepto 19nCv, Fecha, Sexo del Paciente y 19nCv.1 \n",
        "# Una vez hecho el cambio de comas por puntos y haber introducido NaN por \"----\", este código me transforma los 'object' en 'numerics'\n",
        "for i in db1:\n",
        "  if not (i==\"19nCv\" or i==\"Fecha\" or i==\"Sexo del Paciente\" or i==\"19nCv.1\"):\n",
        "    if db1[i].dtypes == object:\n",
        "      db1[i] = pd.to_numeric(db1[i])\n",
        "\n",
        "#Paso la variable \"fecha\" de tipo object a tipo datatime, para poder tratar con ella como una fecha.\n",
        "db1[\"Fecha\"]=pd.to_datetime(db1[\"Fecha\"])"
      ]
    },
    {
      "cell_type": "markdown",
      "metadata": {
        "id": "2uEMoBCZsWF6"
      },
      "source": [
        "## 1.5 Intruducción de nuevas columnas, \"Revision\" y \"Label\"\n"
      ]
    },
    {
      "cell_type": "code",
      "execution_count": 11,
      "metadata": {
        "id": "rAhYCtAOaIxx"
      },
      "outputs": [],
      "source": [
        "Codigo_lista = db1['Código Externo'].tolist()"
      ]
    },
    {
      "cell_type": "code",
      "execution_count": 12,
      "metadata": {
        "id": "3hO9Z_WWPTpB"
      },
      "outputs": [],
      "source": [
        "from collections import Counter\n",
        "\n",
        "lista_pacientes = Counter(Codigo_lista).keys()\n",
        "\n",
        "### INICIALIZO DATAFRAME DE SANOS\n",
        "sanos_df = pd.DataFrame()\n",
        "\n",
        "### INICIALIZO DATAFRAME DE NO SANOS\n",
        "no_sanos_df = pd.DataFrame()\n",
        "\n",
        "for i in lista_pacientes:  \n",
        "      if i not in data_health.values:\n",
        "        new_1 = db1.loc[db1[\"Código Externo\"] == i]\n",
        "        new_1 = new_1.sort_values('Fecha') #ordenar de la revision mas antigua a la mas reciente.\n",
        "        new_1['Revision'] = range(1, 1+len(new_1)) #en la nueva columna \"Revision\" se van a añadiendo valores de manera incremental desde 1 teniendo \n",
        "                                          # en cuenta el número de citas de cada paciente.\n",
        "\n",
        "        new_1 = new_1.assign(label=1) #Introduzco nueva columna con etiqueta 1 (NO SANO)\n",
        "\n",
        "        no_sanos_df = no_sanos_df.append(new_1)\n",
        "\n",
        "      else:\n",
        "        new_2 = db1.loc[db1[\"Código Externo\"] == i]\n",
        "        new_2 = new_2.sort_values('Fecha')\n",
        "        new_2['Revision'] = range(1, 1+len(new_2)) #en la nueva columna \"Revision\" se van a añadiendo valores de manera incremental desde 1 teniendo \n",
        "                                          # en cuenta el número de citas de cada paciente.\n",
        "\n",
        "        new_2 = new_2.assign(label=0)#Introduzco nueva columna con etiqueta 0 (SANO)\n",
        "      \n",
        "        sanos_df = sanos_df.append(new_2)\n"
      ]
    },
    {
      "cell_type": "markdown",
      "metadata": {
        "id": "Kbj0jF4Yr8Zk"
      },
      "source": [
        "# 2. Preprocesado de datos\n",
        "\n",
        "### ¿Hasta que revisión se cuenta con un número adecuado de pacientes?\n",
        "\n",
        "Se realiza el proyecto con un total de 4 revisiones. Se llega a esta conclusión de la siguiente forma; se dividen las variables de forma individual y se va representando cada uno de los valores de cada variable en cada revisión (teniendo así una visión de los valores de la variable para todos los pacientes en cada revisión a medida que pasa el tiempo). Esto se realiza con los pacientes sanos por un lado y los pacientes no sanos por el otro. Finalmente, se observa como con 4 revisiones se puede hacer un estudio amplio y completo de las variables. \n",
        "\n",
        "Además, de 98 pacientes, 44 pacientes presentan 4 revisiones, es decir el 44,89% de los pacientes presentes en la base de datos, porcentaje considerable que ayuda a tomar la decision de usar 4 revisiones.\n"
      ]
    },
    {
      "cell_type": "code",
      "execution_count": 13,
      "metadata": {
        "colab": {
          "base_uri": "https://localhost:8080/"
        },
        "id": "bMEut-bFD54n",
        "outputId": "22d152be-1650-45c8-f76a-2b7387226b53"
      },
      "outputs": [
        {
          "output_type": "stream",
          "name": "stdout",
          "text": [
            "Index(['Número', 'Código Externo', 'FALLECE', 'UCI', '19nCv', 'Fecha',\n",
            "       'Edad del Paciente', 'Sexo del Paciente', 'LEU', 'NEU',\n",
            "       ...\n",
            "       'ASLYP', 'RELPL', 'RELYP', 'RELYA', 'NEUGI', 'NEURI', 'ASLPL',\n",
            "       '19nCv.1', 'Revision', 'label'],\n",
            "      dtype='object', length=104)\n"
          ]
        }
      ],
      "source": [
        "db1 = pd.concat([sanos_df, no_sanos_df])\n",
        "db1.shape\n",
        "\n",
        "print(db1.columns)"
      ]
    },
    {
      "cell_type": "markdown",
      "metadata": {
        "id": "3ydqg5-w9qNe"
      },
      "source": [
        "## 2.1 Identificacion de valores perdidos\n",
        "\n",
        "Junto con el estudio del tipo de variables, es básico conocer el número de observaciones disponibles y si todas ellas están completas. Los valores perdidos son muy importantes a la hora de crear modelos, la mayoría de algoritmos no aceptan observaciones incompletas o bien se ven muy influenciados por ellas."
      ]
    },
    {
      "cell_type": "code",
      "execution_count": 14,
      "metadata": {
        "colab": {
          "base_uri": "https://localhost:8080/"
        },
        "id": "qg3wy6g8NWaJ",
        "outputId": "918974c2-d412-43b7-de68-87f1830b1391",
        "scrolled": false
      },
      "outputs": [
        {
          "output_type": "stream",
          "name": "stdout",
          "text": [
            "Número 1\n",
            "FALLECE 224\n",
            "UCI 224\n",
            "19nCv 215\n",
            "LEU 36\n",
            "NEU 36\n",
            "NEUp 36\n",
            "LIN 36\n",
            "LINp 36\n",
            "MON 36\n",
            "MONp 36\n",
            "EOS 36\n",
            "BAS 36\n",
            "IG 36\n",
            "IGp 36\n",
            "ERIT 36\n",
            "HGB 36\n",
            "VCM 36\n",
            "HCM 36\n",
            "CHCM 36\n",
            "RDW 36\n",
            "ERBL 36\n",
            "RET 311\n",
            "RETp 311\n",
            "FRI 311\n",
            "RETHE 311\n",
            "PLTI 38\n",
            "PLTF 316\n",
            "PLTO 311\n",
            "VPM 43\n",
            "IPF 316\n",
            "MNEU 313\n",
            "MLIN 313\n",
            "MMON 313\n",
            "MBAS 313\n",
            "MEOS 313\n",
            "MCAS 313\n",
            "MMET 317\n",
            "MMIE 318\n",
            "MPRO 318\n",
            "CPLAS 318\n",
            "MBLS 318\n",
            "MERI 317\n",
            "rNe/L 160\n",
            "rPL/L 160\n",
            "HIPER 311\n",
            "HYPO 311\n",
            "MACR 320\n",
            "MICRO 320\n",
            "FRAGM 311\n",
            "MacR 36\n",
            "MicR 36\n",
            "RBCO 320\n",
            "MCHCO 311\n",
            "BA-D# 36\n",
            "NEFSC 36\n",
            "BA-D% 36\n",
            "BA-N# 36\n",
            "BA-N% 36\n",
            "D-HE 311\n",
            "FRCA 311\n",
            "HFLCA 36\n",
            "HFLCP 36\n",
            "HIPF 316\n",
            "IPFA 316\n",
            "IRF-Y 311\n",
            "LY-WX 36\n",
            "LY-WY 36\n",
            "LY-WZ 36\n",
            "LY-X 36\n",
            "LY-Y 36\n",
            "LY-Z 36\n",
            "MO-WX 36\n",
            "MO-WY 36\n",
            "MO-WZ 36\n",
            "MO-X 36\n",
            "MO-Y 36\n",
            "MO-Z 36\n",
            "NE-WX 36\n",
            "NE-WY 36\n",
            "NE-WZ 36\n",
            "RBCHE 311\n",
            "RBC-Y 311\n",
            "RTNC 311\n",
            "RUPP 311\n",
            "RET-Y 311\n",
            "RPI 311\n",
            "TNC-D 320\n",
            "TNC-P 320\n",
            "WBC-P 320\n",
            "ASLYP 42\n",
            "RELPL 42\n",
            "RELYP 42\n",
            "RELYA 42\n",
            "NEUGI 36\n",
            "NEURI 36\n",
            "ASLPL 42\n",
            "19nCv.1 269\n"
          ]
        }
      ],
      "source": [
        "# Columnas con missing values\n",
        "\n",
        "for index,value in enumerate (db1.isnull().sum()):\n",
        "  if value !=0:\n",
        "    print(db1.columns[index],value)"
      ]
    },
    {
      "cell_type": "code",
      "execution_count": 15,
      "metadata": {
        "colab": {
          "base_uri": "https://localhost:8080/"
        },
        "id": "nsbN9tNVNfVa",
        "outputId": "6bbce931-438a-48d4-84ac-f76e7afb89cc"
      },
      "outputs": [
        {
          "output_type": "stream",
          "name": "stdout",
          "text": [
            "Index(['Código Externo', 'Edad del Paciente', 'Sexo del Paciente', 'LEU',\n",
            "       'NEU', 'NEUp', 'LIN', 'LINp', 'MON', 'MONp', 'EOS', 'BAS', 'IG', 'IGp',\n",
            "       'ERIT', 'HGB', 'VCM', 'HCM', 'CHCM', 'RDW', 'ERBL', 'PLTI', 'VPM',\n",
            "       'rNe/L', 'rPL/L', 'MacR', 'MicR', 'BA-D#', 'NEFSC', 'BA-D%', 'BA-N#',\n",
            "       'BA-N%', 'HFLCA', 'HFLCP', 'LY-WX', 'LY-WY', 'LY-WZ', 'LY-X', 'LY-Y',\n",
            "       'LY-Z', 'MO-WX', 'MO-WY', 'MO-WZ', 'MO-X', 'MO-Y', 'MO-Z', 'NE-WX',\n",
            "       'NE-WY', 'NE-WZ', 'ASLYP', 'RELPL', 'RELYP', 'RELYA', 'NEUGI', 'NEURI',\n",
            "       'ASLPL', 'Revision', 'label'],\n",
            "      dtype='object')\n"
          ]
        }
      ],
      "source": [
        "#Quitar todas las columnas con mas de 310 NaN\n",
        "\n",
        "#320-310 = 10. Las columnas con 311 NaN tienen 9 valores no NaN. Por lo que si me quedo con aquellas columnas que tengan como mínimo 10 valores\n",
        "# no NaN, elimino todas las columnas con 333 NaN o más.\n",
        "db1=db1.dropna(thresh=10,axis=1) \n",
        "\n",
        "db1=db1.drop([\"Número\",\"19nCv\",\"19nCv.1\", \"FALLECE\", \"UCI\", \"Fecha\"],axis=1)\n",
        "\n",
        "\n",
        "print(db1.columns)"
      ]
    },
    {
      "cell_type": "markdown",
      "metadata": {
        "id": "kxrr9TzGh3s-"
      },
      "source": [
        "A continuación se hace un tratamiento de la variable categorica, para facilitar el trabajo con ella."
      ]
    },
    {
      "cell_type": "code",
      "execution_count": 16,
      "metadata": {
        "id": "nOZhYOeGiM_x"
      },
      "outputs": [],
      "source": [
        "# Se convierte la variable Sexo del paciente a variable categórica\n",
        "\n",
        "db1['Sexo del Paciente'] = db1['Sexo del Paciente'].astype('category').cat.codes # 0 --> Femenino, 1--> Masculino"
      ]
    },
    {
      "cell_type": "code",
      "execution_count": 17,
      "metadata": {
        "colab": {
          "base_uri": "https://localhost:8080/",
          "height": 0
        },
        "id": "NYkYxTwBccvg",
        "outputId": "97259d56-1798-4605-de69-bb9fd527d520"
      },
      "outputs": [
        {
          "output_type": "execute_result",
          "data": {
            "text/plain": [
              "     Código Externo  Edad del Paciente  Sexo del Paciente    LEU    NEU  NEUp  \\\n",
              "122           11258                 65                  1   5.45   3.74  68.7   \n",
              "152           11258                 65                  1   5.01   2.68  53.5   \n",
              "4             11258                 65                  1   5.57   2.55  45.8   \n",
              "180          115555                 69                  1  10.38   8.65  83.3   \n",
              "124          115555                 69                  1   7.11   3.61  50.8   \n",
              "..              ...                ...                ...    ...    ...   ...   \n",
              "321          114819                 69                  0  13.67   8.29  60.7   \n",
              "328          116453                 66                  1  11.14   9.94  89.3   \n",
              "332          116453                 66                  1  15.00  11.28  75.1   \n",
              "336          116453                 66                  1  11.49  10.30  89.6   \n",
              "318          116453                 66                  1   8.73   7.33  84.0   \n",
              "\n",
              "      LIN  LINp   MON  MONp  ...  NE-WZ  ASLYP  RELPL  RELYP  RELYA  NEUGI  \\\n",
              "122  1.07  19.6  0.48   8.8  ...  710.0    1.5   15.9    3.1   0.17  155.1   \n",
              "152  1.42  28.3  0.58  11.6  ...  569.0    0.0   16.2    4.6   0.23  149.9   \n",
              "4    2.27  40.8  0.47   8.4  ...  521.0    0.0    5.7    2.3   0.13  154.8   \n",
              "180  0.88   8.5  0.78   7.5  ...  694.0    0.4   12.5    1.1   0.11  143.9   \n",
              "124  2.85  40.1  0.62   8.7  ...  739.0    0.0    3.2    1.3   0.09  145.3   \n",
              "..    ...   ...   ...   ...  ...    ...    ...    ...    ...    ...    ...   \n",
              "321  2.08  15.2  2.54  18.6  ...  906.0    1.4   13.9    2.1   0.29  131.2   \n",
              "328  0.64   5.7  0.18   1.6  ...  794.0    0.5   17.2    1.0   0.11  153.2   \n",
              "332  1.50  10.0  0.97   6.5  ...  600.0    0.3    7.3    0.7   0.11  160.2   \n",
              "336  0.49   4.3  0.45   3.9  ...  712.0    0.0   10.2    0.4   0.05  160.0   \n",
              "318  0.64   7.3  0.60   6.9  ...  740.0    0.0    4.7    0.3   0.03  155.2   \n",
              "\n",
              "     NEURI  ASLPL  Revision  label  \n",
              "122   53.9    7.5         1      0  \n",
              "152   49.8    0.0         2      0  \n",
              "4     50.2    0.0         3      0  \n",
              "180   48.3    4.5         1      0  \n",
              "124   48.4    0.0         2      0  \n",
              "..     ...    ...       ...    ...  \n",
              "321   35.4    9.1         4      1  \n",
              "328   49.9    9.4         1      1  \n",
              "332   48.2    2.7         2      1  \n",
              "336   50.6    0.0         3      1  \n",
              "318   48.6    0.0         4      1  \n",
              "\n",
              "[320 rows x 58 columns]"
            ],
            "text/html": [
              "\n",
              "  <div id=\"df-fc4eb657-a900-4578-b0d3-5180871c8d63\">\n",
              "    <div class=\"colab-df-container\">\n",
              "      <div>\n",
              "<style scoped>\n",
              "    .dataframe tbody tr th:only-of-type {\n",
              "        vertical-align: middle;\n",
              "    }\n",
              "\n",
              "    .dataframe tbody tr th {\n",
              "        vertical-align: top;\n",
              "    }\n",
              "\n",
              "    .dataframe thead th {\n",
              "        text-align: right;\n",
              "    }\n",
              "</style>\n",
              "<table border=\"1\" class=\"dataframe\">\n",
              "  <thead>\n",
              "    <tr style=\"text-align: right;\">\n",
              "      <th></th>\n",
              "      <th>Código Externo</th>\n",
              "      <th>Edad del Paciente</th>\n",
              "      <th>Sexo del Paciente</th>\n",
              "      <th>LEU</th>\n",
              "      <th>NEU</th>\n",
              "      <th>NEUp</th>\n",
              "      <th>LIN</th>\n",
              "      <th>LINp</th>\n",
              "      <th>MON</th>\n",
              "      <th>MONp</th>\n",
              "      <th>...</th>\n",
              "      <th>NE-WZ</th>\n",
              "      <th>ASLYP</th>\n",
              "      <th>RELPL</th>\n",
              "      <th>RELYP</th>\n",
              "      <th>RELYA</th>\n",
              "      <th>NEUGI</th>\n",
              "      <th>NEURI</th>\n",
              "      <th>ASLPL</th>\n",
              "      <th>Revision</th>\n",
              "      <th>label</th>\n",
              "    </tr>\n",
              "  </thead>\n",
              "  <tbody>\n",
              "    <tr>\n",
              "      <th>122</th>\n",
              "      <td>11258</td>\n",
              "      <td>65</td>\n",
              "      <td>1</td>\n",
              "      <td>5.45</td>\n",
              "      <td>3.74</td>\n",
              "      <td>68.7</td>\n",
              "      <td>1.07</td>\n",
              "      <td>19.6</td>\n",
              "      <td>0.48</td>\n",
              "      <td>8.8</td>\n",
              "      <td>...</td>\n",
              "      <td>710.0</td>\n",
              "      <td>1.5</td>\n",
              "      <td>15.9</td>\n",
              "      <td>3.1</td>\n",
              "      <td>0.17</td>\n",
              "      <td>155.1</td>\n",
              "      <td>53.9</td>\n",
              "      <td>7.5</td>\n",
              "      <td>1</td>\n",
              "      <td>0</td>\n",
              "    </tr>\n",
              "    <tr>\n",
              "      <th>152</th>\n",
              "      <td>11258</td>\n",
              "      <td>65</td>\n",
              "      <td>1</td>\n",
              "      <td>5.01</td>\n",
              "      <td>2.68</td>\n",
              "      <td>53.5</td>\n",
              "      <td>1.42</td>\n",
              "      <td>28.3</td>\n",
              "      <td>0.58</td>\n",
              "      <td>11.6</td>\n",
              "      <td>...</td>\n",
              "      <td>569.0</td>\n",
              "      <td>0.0</td>\n",
              "      <td>16.2</td>\n",
              "      <td>4.6</td>\n",
              "      <td>0.23</td>\n",
              "      <td>149.9</td>\n",
              "      <td>49.8</td>\n",
              "      <td>0.0</td>\n",
              "      <td>2</td>\n",
              "      <td>0</td>\n",
              "    </tr>\n",
              "    <tr>\n",
              "      <th>4</th>\n",
              "      <td>11258</td>\n",
              "      <td>65</td>\n",
              "      <td>1</td>\n",
              "      <td>5.57</td>\n",
              "      <td>2.55</td>\n",
              "      <td>45.8</td>\n",
              "      <td>2.27</td>\n",
              "      <td>40.8</td>\n",
              "      <td>0.47</td>\n",
              "      <td>8.4</td>\n",
              "      <td>...</td>\n",
              "      <td>521.0</td>\n",
              "      <td>0.0</td>\n",
              "      <td>5.7</td>\n",
              "      <td>2.3</td>\n",
              "      <td>0.13</td>\n",
              "      <td>154.8</td>\n",
              "      <td>50.2</td>\n",
              "      <td>0.0</td>\n",
              "      <td>3</td>\n",
              "      <td>0</td>\n",
              "    </tr>\n",
              "    <tr>\n",
              "      <th>180</th>\n",
              "      <td>115555</td>\n",
              "      <td>69</td>\n",
              "      <td>1</td>\n",
              "      <td>10.38</td>\n",
              "      <td>8.65</td>\n",
              "      <td>83.3</td>\n",
              "      <td>0.88</td>\n",
              "      <td>8.5</td>\n",
              "      <td>0.78</td>\n",
              "      <td>7.5</td>\n",
              "      <td>...</td>\n",
              "      <td>694.0</td>\n",
              "      <td>0.4</td>\n",
              "      <td>12.5</td>\n",
              "      <td>1.1</td>\n",
              "      <td>0.11</td>\n",
              "      <td>143.9</td>\n",
              "      <td>48.3</td>\n",
              "      <td>4.5</td>\n",
              "      <td>1</td>\n",
              "      <td>0</td>\n",
              "    </tr>\n",
              "    <tr>\n",
              "      <th>124</th>\n",
              "      <td>115555</td>\n",
              "      <td>69</td>\n",
              "      <td>1</td>\n",
              "      <td>7.11</td>\n",
              "      <td>3.61</td>\n",
              "      <td>50.8</td>\n",
              "      <td>2.85</td>\n",
              "      <td>40.1</td>\n",
              "      <td>0.62</td>\n",
              "      <td>8.7</td>\n",
              "      <td>...</td>\n",
              "      <td>739.0</td>\n",
              "      <td>0.0</td>\n",
              "      <td>3.2</td>\n",
              "      <td>1.3</td>\n",
              "      <td>0.09</td>\n",
              "      <td>145.3</td>\n",
              "      <td>48.4</td>\n",
              "      <td>0.0</td>\n",
              "      <td>2</td>\n",
              "      <td>0</td>\n",
              "    </tr>\n",
              "    <tr>\n",
              "      <th>...</th>\n",
              "      <td>...</td>\n",
              "      <td>...</td>\n",
              "      <td>...</td>\n",
              "      <td>...</td>\n",
              "      <td>...</td>\n",
              "      <td>...</td>\n",
              "      <td>...</td>\n",
              "      <td>...</td>\n",
              "      <td>...</td>\n",
              "      <td>...</td>\n",
              "      <td>...</td>\n",
              "      <td>...</td>\n",
              "      <td>...</td>\n",
              "      <td>...</td>\n",
              "      <td>...</td>\n",
              "      <td>...</td>\n",
              "      <td>...</td>\n",
              "      <td>...</td>\n",
              "      <td>...</td>\n",
              "      <td>...</td>\n",
              "      <td>...</td>\n",
              "    </tr>\n",
              "    <tr>\n",
              "      <th>321</th>\n",
              "      <td>114819</td>\n",
              "      <td>69</td>\n",
              "      <td>0</td>\n",
              "      <td>13.67</td>\n",
              "      <td>8.29</td>\n",
              "      <td>60.7</td>\n",
              "      <td>2.08</td>\n",
              "      <td>15.2</td>\n",
              "      <td>2.54</td>\n",
              "      <td>18.6</td>\n",
              "      <td>...</td>\n",
              "      <td>906.0</td>\n",
              "      <td>1.4</td>\n",
              "      <td>13.9</td>\n",
              "      <td>2.1</td>\n",
              "      <td>0.29</td>\n",
              "      <td>131.2</td>\n",
              "      <td>35.4</td>\n",
              "      <td>9.1</td>\n",
              "      <td>4</td>\n",
              "      <td>1</td>\n",
              "    </tr>\n",
              "    <tr>\n",
              "      <th>328</th>\n",
              "      <td>116453</td>\n",
              "      <td>66</td>\n",
              "      <td>1</td>\n",
              "      <td>11.14</td>\n",
              "      <td>9.94</td>\n",
              "      <td>89.3</td>\n",
              "      <td>0.64</td>\n",
              "      <td>5.7</td>\n",
              "      <td>0.18</td>\n",
              "      <td>1.6</td>\n",
              "      <td>...</td>\n",
              "      <td>794.0</td>\n",
              "      <td>0.5</td>\n",
              "      <td>17.2</td>\n",
              "      <td>1.0</td>\n",
              "      <td>0.11</td>\n",
              "      <td>153.2</td>\n",
              "      <td>49.9</td>\n",
              "      <td>9.4</td>\n",
              "      <td>1</td>\n",
              "      <td>1</td>\n",
              "    </tr>\n",
              "    <tr>\n",
              "      <th>332</th>\n",
              "      <td>116453</td>\n",
              "      <td>66</td>\n",
              "      <td>1</td>\n",
              "      <td>15.00</td>\n",
              "      <td>11.28</td>\n",
              "      <td>75.1</td>\n",
              "      <td>1.50</td>\n",
              "      <td>10.0</td>\n",
              "      <td>0.97</td>\n",
              "      <td>6.5</td>\n",
              "      <td>...</td>\n",
              "      <td>600.0</td>\n",
              "      <td>0.3</td>\n",
              "      <td>7.3</td>\n",
              "      <td>0.7</td>\n",
              "      <td>0.11</td>\n",
              "      <td>160.2</td>\n",
              "      <td>48.2</td>\n",
              "      <td>2.7</td>\n",
              "      <td>2</td>\n",
              "      <td>1</td>\n",
              "    </tr>\n",
              "    <tr>\n",
              "      <th>336</th>\n",
              "      <td>116453</td>\n",
              "      <td>66</td>\n",
              "      <td>1</td>\n",
              "      <td>11.49</td>\n",
              "      <td>10.30</td>\n",
              "      <td>89.6</td>\n",
              "      <td>0.49</td>\n",
              "      <td>4.3</td>\n",
              "      <td>0.45</td>\n",
              "      <td>3.9</td>\n",
              "      <td>...</td>\n",
              "      <td>712.0</td>\n",
              "      <td>0.0</td>\n",
              "      <td>10.2</td>\n",
              "      <td>0.4</td>\n",
              "      <td>0.05</td>\n",
              "      <td>160.0</td>\n",
              "      <td>50.6</td>\n",
              "      <td>0.0</td>\n",
              "      <td>3</td>\n",
              "      <td>1</td>\n",
              "    </tr>\n",
              "    <tr>\n",
              "      <th>318</th>\n",
              "      <td>116453</td>\n",
              "      <td>66</td>\n",
              "      <td>1</td>\n",
              "      <td>8.73</td>\n",
              "      <td>7.33</td>\n",
              "      <td>84.0</td>\n",
              "      <td>0.64</td>\n",
              "      <td>7.3</td>\n",
              "      <td>0.60</td>\n",
              "      <td>6.9</td>\n",
              "      <td>...</td>\n",
              "      <td>740.0</td>\n",
              "      <td>0.0</td>\n",
              "      <td>4.7</td>\n",
              "      <td>0.3</td>\n",
              "      <td>0.03</td>\n",
              "      <td>155.2</td>\n",
              "      <td>48.6</td>\n",
              "      <td>0.0</td>\n",
              "      <td>4</td>\n",
              "      <td>1</td>\n",
              "    </tr>\n",
              "  </tbody>\n",
              "</table>\n",
              "<p>320 rows × 58 columns</p>\n",
              "</div>\n",
              "      <button class=\"colab-df-convert\" onclick=\"convertToInteractive('df-fc4eb657-a900-4578-b0d3-5180871c8d63')\"\n",
              "              title=\"Convert this dataframe to an interactive table.\"\n",
              "              style=\"display:none;\">\n",
              "        \n",
              "  <svg xmlns=\"http://www.w3.org/2000/svg\" height=\"24px\"viewBox=\"0 0 24 24\"\n",
              "       width=\"24px\">\n",
              "    <path d=\"M0 0h24v24H0V0z\" fill=\"none\"/>\n",
              "    <path d=\"M18.56 5.44l.94 2.06.94-2.06 2.06-.94-2.06-.94-.94-2.06-.94 2.06-2.06.94zm-11 1L8.5 8.5l.94-2.06 2.06-.94-2.06-.94L8.5 2.5l-.94 2.06-2.06.94zm10 10l.94 2.06.94-2.06 2.06-.94-2.06-.94-.94-2.06-.94 2.06-2.06.94z\"/><path d=\"M17.41 7.96l-1.37-1.37c-.4-.4-.92-.59-1.43-.59-.52 0-1.04.2-1.43.59L10.3 9.45l-7.72 7.72c-.78.78-.78 2.05 0 2.83L4 21.41c.39.39.9.59 1.41.59.51 0 1.02-.2 1.41-.59l7.78-7.78 2.81-2.81c.8-.78.8-2.07 0-2.86zM5.41 20L4 18.59l7.72-7.72 1.47 1.35L5.41 20z\"/>\n",
              "  </svg>\n",
              "      </button>\n",
              "      \n",
              "  <style>\n",
              "    .colab-df-container {\n",
              "      display:flex;\n",
              "      flex-wrap:wrap;\n",
              "      gap: 12px;\n",
              "    }\n",
              "\n",
              "    .colab-df-convert {\n",
              "      background-color: #E8F0FE;\n",
              "      border: none;\n",
              "      border-radius: 50%;\n",
              "      cursor: pointer;\n",
              "      display: none;\n",
              "      fill: #1967D2;\n",
              "      height: 32px;\n",
              "      padding: 0 0 0 0;\n",
              "      width: 32px;\n",
              "    }\n",
              "\n",
              "    .colab-df-convert:hover {\n",
              "      background-color: #E2EBFA;\n",
              "      box-shadow: 0px 1px 2px rgba(60, 64, 67, 0.3), 0px 1px 3px 1px rgba(60, 64, 67, 0.15);\n",
              "      fill: #174EA6;\n",
              "    }\n",
              "\n",
              "    [theme=dark] .colab-df-convert {\n",
              "      background-color: #3B4455;\n",
              "      fill: #D2E3FC;\n",
              "    }\n",
              "\n",
              "    [theme=dark] .colab-df-convert:hover {\n",
              "      background-color: #434B5C;\n",
              "      box-shadow: 0px 1px 3px 1px rgba(0, 0, 0, 0.15);\n",
              "      filter: drop-shadow(0px 1px 2px rgba(0, 0, 0, 0.3));\n",
              "      fill: #FFFFFF;\n",
              "    }\n",
              "  </style>\n",
              "\n",
              "      <script>\n",
              "        const buttonEl =\n",
              "          document.querySelector('#df-fc4eb657-a900-4578-b0d3-5180871c8d63 button.colab-df-convert');\n",
              "        buttonEl.style.display =\n",
              "          google.colab.kernel.accessAllowed ? 'block' : 'none';\n",
              "\n",
              "        async function convertToInteractive(key) {\n",
              "          const element = document.querySelector('#df-fc4eb657-a900-4578-b0d3-5180871c8d63');\n",
              "          const dataTable =\n",
              "            await google.colab.kernel.invokeFunction('convertToInteractive',\n",
              "                                                     [key], {});\n",
              "          if (!dataTable) return;\n",
              "\n",
              "          const docLinkHtml = 'Like what you see? Visit the ' +\n",
              "            '<a target=\"_blank\" href=https://colab.research.google.com/notebooks/data_table.ipynb>data table notebook</a>'\n",
              "            + ' to learn more about interactive tables.';\n",
              "          element.innerHTML = '';\n",
              "          dataTable['output_type'] = 'display_data';\n",
              "          await google.colab.output.renderOutput(dataTable, element);\n",
              "          const docLink = document.createElement('div');\n",
              "          docLink.innerHTML = docLinkHtml;\n",
              "          element.appendChild(docLink);\n",
              "        }\n",
              "      </script>\n",
              "    </div>\n",
              "  </div>\n",
              "  "
            ]
          },
          "metadata": {},
          "execution_count": 17
        }
      ],
      "source": [
        "db1"
      ]
    },
    {
      "cell_type": "markdown",
      "metadata": {
        "id": "DogJmmCHlRMl"
      },
      "source": [
        "## 2.2 Separación en train y test"
      ]
    },
    {
      "cell_type": "markdown",
      "metadata": {
        "id": "pnnroGSEe1jD"
      },
      "source": [
        "Ahora debo comenzar con la división de train y test. Hay que tener en cuenta, que a la hora de dividir no me convendría tener la revisión 1 y 3 de un paciente en train y la revisión 2 del mismo paciente en test, por lo que eso debo de tenerlo MUY EN CUENTA\n",
        "\n",
        "Por lo tanto, la división hay que hacerla por código externo.\n",
        "\n",
        "Los pasos a seguir para llevar a cabo dicha división serán:\n",
        "\n",
        "1. Extraer el código externo\n",
        "\n",
        "2. Eliminar las duplicidades consiguiendo de esa manera un vector de valores únicos de la columna \"Código Externo\"\n",
        "\n",
        "3. Shuffle del vector creado\n",
        "\n",
        "4. Teniendo en cuenta que para train me quedo con el 80% de los datos y para test con el 20% restante, de los 98 pacientes que tengo, me quedaré con 78 para train y 20 para test"
      ]
    },
    {
      "cell_type": "code",
      "execution_count": 18,
      "metadata": {
        "colab": {
          "base_uri": "https://localhost:8080/"
        },
        "id": "R8HxNPO4g7zr",
        "outputId": "e23ee166-edfb-4bc3-d500-a2a7f2b60977"
      },
      "outputs": [
        {
          "output_type": "stream",
          "name": "stdout",
          "text": [
            "La lista de códigos externos únicos es: [  1164   1214  10074  10092  11197  11258  11372  12016  13299  13397\n",
            " 101480 101609 101660 102441 104431 104798 104849 104851 105140 105582\n",
            " 105639 106066 107746 107747 108527 108894 108897 109036 109115 109129\n",
            " 109339 109887 110011 110435 110607 111310 111339 111520 111561 111786\n",
            " 112135 112511 112823 112894 114183 114495 114819 115555 115784 115847\n",
            " 116005 116033 116159 116453 116651 116806 117212 117398 117462 118023\n",
            " 118401 119606 119737 119766 120418 121289 121358 122654 122958 123156\n",
            " 123456 123676 123724 124738 124850 126455 126638 127383 128124 128148\n",
            " 128864 130481 130937 131267 131394 132015 132432 133617 133978 134492\n",
            " 134855 135062 135217 136647 136922 137069 137304 138076]\n"
          ]
        }
      ],
      "source": [
        "# Codigo_lista muestra todos los códigos externos y ha sido creada a partir de convertir a lista la columna \n",
        "# \"Código Externo\"\n",
        "\n",
        "cd_unique = np.unique(Codigo_lista)\n",
        "print(\"La lista de códigos externos únicos es:\",cd_unique)"
      ]
    },
    {
      "cell_type": "code",
      "execution_count": 19,
      "metadata": {
        "id": "baFhP9sEkklb"
      },
      "outputs": [],
      "source": [
        "import random\n",
        "\n",
        "#Desordeno de manera aleatoria la lista de códigos externos\n",
        "random.seed(10)\n",
        "random.shuffle(cd_unique)\n",
        "\n",
        "#Hago la división en train y test, quedándome con los 78 primeros valores de la lista para train y los 20\n",
        "#valores restantes para test\n",
        "\n",
        "cd_train = cd_unique[0:78]\n",
        "cd_test = cd_unique[78:98]"
      ]
    },
    {
      "cell_type": "markdown",
      "metadata": {
        "id": "0QQQhEIn5a5m"
      },
      "source": [
        "Debo crear un dataframe donde estén todas las revisiones de los primeros 78 códigos externos seleccionados anteriormente. A partir de este dataframe sacaré un x_train y un y_train que será \"label\"."
      ]
    },
    {
      "cell_type": "code",
      "execution_count": 20,
      "metadata": {
        "colab": {
          "base_uri": "https://localhost:8080/"
        },
        "id": "65ny4nfLKJzj",
        "outputId": "6bf56dd7-2fd6-4684-aa39-478de22cd214"
      },
      "outputs": [
        {
          "output_type": "execute_result",
          "data": {
            "text/plain": [
              "Index(['Código Externo', 'Edad del Paciente', 'Sexo del Paciente', 'LEU',\n",
              "       'NEU', 'NEUp', 'LIN', 'LINp', 'MON', 'MONp', 'EOS', 'BAS', 'IG', 'IGp',\n",
              "       'ERIT', 'HGB', 'VCM', 'HCM', 'CHCM', 'RDW', 'ERBL', 'PLTI', 'VPM',\n",
              "       'rNe/L', 'rPL/L', 'MacR', 'MicR', 'BA-D#', 'NEFSC', 'BA-D%', 'BA-N#',\n",
              "       'BA-N%', 'HFLCA', 'HFLCP', 'LY-WX', 'LY-WY', 'LY-WZ', 'LY-X', 'LY-Y',\n",
              "       'LY-Z', 'MO-WX', 'MO-WY', 'MO-WZ', 'MO-X', 'MO-Y', 'MO-Z', 'NE-WX',\n",
              "       'NE-WY', 'NE-WZ', 'ASLYP', 'RELPL', 'RELYP', 'RELYA', 'NEUGI', 'NEURI',\n",
              "       'ASLPL', 'Revision', 'label'],\n",
              "      dtype='object')"
            ]
          },
          "metadata": {},
          "execution_count": 20
        }
      ],
      "source": [
        "db1.columns"
      ]
    },
    {
      "cell_type": "code",
      "execution_count": 21,
      "metadata": {
        "id": "opUz3u6YpMaE"
      },
      "outputs": [],
      "source": [
        "### INICIALIZO DATAFRAME DE TRAINING\n",
        "training = pd.DataFrame()\n",
        "\n",
        "for i in cd_train:  \n",
        "      pt_train = db1.loc[db1[\"Código Externo\"] == i]\n",
        "\n",
        "      training = training.append(pt_train)\n",
        "\n",
        "\n",
        "### INICIALIZO DATAFRAME DE TEST\n",
        "test = pd.DataFrame()\n",
        "\n",
        "for i in cd_test:  \n",
        "      pt_test = db1.loc[db1[\"Código Externo\"] == i]\n",
        "\n",
        "      test = test.append(pt_test)"
      ]
    },
    {
      "cell_type": "code",
      "execution_count": 22,
      "metadata": {
        "colab": {
          "base_uri": "https://localhost:8080/"
        },
        "id": "_ZvnwrG4scKe",
        "outputId": "a3d95044-6d74-4075-9f2c-28aa473524f9"
      },
      "outputs": [
        {
          "output_type": "execute_result",
          "data": {
            "text/plain": [
              "(65, 58)"
            ]
          },
          "metadata": {},
          "execution_count": 22
        }
      ],
      "source": [
        "test.shape"
      ]
    },
    {
      "cell_type": "code",
      "execution_count": 23,
      "metadata": {
        "colab": {
          "base_uri": "https://localhost:8080/"
        },
        "id": "gyqHVOdBKJzl",
        "outputId": "d67546f6-0ac0-47b3-a16b-47c1314b1d12"
      },
      "outputs": [
        {
          "output_type": "execute_result",
          "data": {
            "text/plain": [
              "(255, 58)"
            ]
          },
          "metadata": {},
          "execution_count": 23
        }
      ],
      "source": [
        "training.shape"
      ]
    },
    {
      "cell_type": "markdown",
      "metadata": {
        "id": "wSkJmQXttfk9"
      },
      "source": [
        "A partir de los dataframes que he obtenido, de \"training\" extraigo x_train (todos los parámetros menos 'label) e y_train (el parámetro 'label). Con el dataframe 'test' sigo el mismo procedimiento, de tal manera que acabo obteniedno x_test e y_test"
      ]
    },
    {
      "cell_type": "code",
      "execution_count": 24,
      "metadata": {
        "id": "2I8k6ajxteFk"
      },
      "outputs": [],
      "source": [
        "#esto está mal porque ya se han eliminado variables y hay menos de 61\n",
        "\n",
        "#DIVISION EN TRAIN Y TEST\n",
        "x_train = training.iloc[:,0:57]\n",
        "y_train = training.iloc[:, [0,57]]\n",
        "\n",
        "x_test = test.iloc[:,0:57]\n",
        "y_test = test.iloc[:, [0,57]]"
      ]
    },
    {
      "cell_type": "code",
      "execution_count": 25,
      "metadata": {
        "colab": {
          "base_uri": "https://localhost:8080/"
        },
        "id": "b9swD6gPSv57",
        "outputId": "f607a3cd-18de-448a-8098-6be4f7c5db69"
      },
      "outputs": [
        {
          "output_type": "stream",
          "name": "stdout",
          "text": [
            "     Código Externo  label\n",
            "122           11258      0\n",
            "152           11258      0\n",
            "4             11258      0\n",
            "330          114819      1\n",
            "302          114819      1\n",
            "..              ...    ...\n",
            "205           11197      1\n",
            "178          124738      0\n",
            "81           124738      0\n",
            "101          124738      0\n",
            "163          124738      0\n",
            "\n",
            "[65 rows x 2 columns]\n"
          ]
        }
      ],
      "source": [
        "x_train.columns\n",
        "x_train.shape\n",
        "print(y_test)"
      ]
    },
    {
      "cell_type": "markdown",
      "metadata": {
        "id": "BlgdVwrWY5J_"
      },
      "source": [
        "## 2.3 Identificación de outliers e imputacion de los mismos en X_train usando el método KNN Imputer\n",
        "\n",
        "Para detectar los outliers el primer paso es realizar una inspección visual a través de los boxplots y localizar aquellos que sobresalen del rango normal de valores."
      ]
    },
    {
      "cell_type": "code",
      "execution_count": 26,
      "metadata": {
        "colab": {
          "base_uri": "https://localhost:8080/",
          "height": 0
        },
        "id": "hXQAnTyvG4ro",
        "outputId": "e8a2a0b9-b141-4db7-a33a-5c6a1eb384bc"
      },
      "outputs": [
        {
          "output_type": "display_data",
          "data": {
            "text/plain": [
              "<Figure size 2160x5040 with 126 Axes>"
            ],
            "image/png": "[encoded data removed]"
          },
          "metadata": {
            "needs_background": "light"
          }
        }
      ],
      "source": [
        "x_train.plot(kind='box',subplots=True, layout=(21,6), sharex=False, sharey=False, figsize=(30,70));"
      ]
    },
    {
      "cell_type": "markdown",
      "metadata": {
        "id": "d9ReUIV3nj3e"
      },
      "source": [
        "A continuación calculo el z-score. Cada puntuación z nos dice a cuántas desviaciones estándar se encuentra un valor individual de la media de los valores del conjunto que estoy estudiando."
      ]
    },
    {
      "cell_type": "markdown",
      "metadata": {
        "id": "MQ0pwzNMGsV7"
      },
      "source": [
        "Se calcula el z-score sin normalizar y comprobar si cada valor se encuentra dentro de 3 veces la desviación típica. En el caso de que se encuentren fuera de ese intervalo se le considera outlier y será reemplazado a NaN."
      ]
    },
    {
      "cell_type": "code",
      "execution_count": 27,
      "metadata": {
        "id": "-QaRyvLmGspw"
      },
      "outputs": [],
      "source": [
        "def outliers (datos,dtype): #Función z-score\n",
        "    count=0\n",
        "    lista=[]\n",
        "    for i in dtype[datos]:\n",
        "        if not (dtype[datos].mean()-3*dtype[datos].std())<=i<=(dtype[datos].mean()+3*dtype[datos].std()): # 3 veces la desviacion estandar\n",
        "            if not np.isnan(i):\n",
        "                count=count+1\n",
        "                lista.append(i)\n",
        "   \n",
        "    return lista "
      ]
    },
    {
      "cell_type": "code",
      "execution_count": 28,
      "metadata": {
        "id": "eIKlm9CcY8QB"
      },
      "outputs": [],
      "source": [
        "numeric_variables_train = x_train.select_dtypes(exclude=['object'])\n",
        "\n",
        "x_train_aux = x_train.copy()\n",
        "\n",
        "for i in numeric_variables_train:\n",
        "   x_train_aux[[i]]=x_train[[i]].replace(outliers(i,x_train),np.nan) "
      ]
    },
    {
      "cell_type": "code",
      "execution_count": 29,
      "metadata": {
        "colab": {
          "base_uri": "https://localhost:8080/"
        },
        "id": "ut1LjKJqKJzn",
        "outputId": "3fc4429a-8fe1-4b02-f92b-c1e389082325"
      },
      "outputs": [
        {
          "output_type": "execute_result",
          "data": {
            "text/plain": [
              "(255, 57)"
            ]
          },
          "metadata": {},
          "execution_count": 29
        }
      ],
      "source": [
        "x_train_aux.shape"
      ]
    },
    {
      "cell_type": "code",
      "execution_count": 30,
      "metadata": {
        "colab": {
          "base_uri": "https://localhost:8080/"
        },
        "id": "SqNl6NO6QlU1",
        "outputId": "29e4976e-b6fb-4812-f0a8-86859655ec37"
      },
      "outputs": [
        {
          "output_type": "stream",
          "name": "stdout",
          "text": [
            "LEU 28\n",
            "NEU 28\n",
            "NEUp 28\n",
            "LIN 28\n",
            "LINp 28\n",
            "MON 28\n",
            "MONp 28\n",
            "EOS 28\n",
            "BAS 28\n",
            "IG 28\n",
            "IGp 28\n",
            "ERIT 28\n",
            "HGB 28\n",
            "VCM 28\n",
            "HCM 28\n",
            "CHCM 28\n",
            "RDW 28\n",
            "ERBL 28\n",
            "PLTI 29\n",
            "VPM 31\n",
            "rNe/L 125\n",
            "rPL/L 125\n",
            "MacR 28\n",
            "MicR 28\n",
            "BA-D# 28\n",
            "NEFSC 28\n",
            "BA-D% 28\n",
            "BA-N# 28\n",
            "BA-N% 28\n",
            "HFLCA 28\n",
            "HFLCP 28\n",
            "LY-WX 28\n",
            "LY-WY 28\n",
            "LY-WZ 28\n",
            "LY-X 28\n",
            "LY-Y 28\n",
            "LY-Z 28\n",
            "MO-WX 28\n",
            "MO-WY 28\n",
            "MO-WZ 28\n",
            "MO-X 28\n",
            "MO-Y 28\n",
            "MO-Z 28\n",
            "NE-WX 28\n",
            "NE-WY 28\n",
            "NE-WZ 28\n",
            "ASLYP 31\n",
            "RELPL 31\n",
            "RELYP 31\n",
            "RELYA 31\n",
            "NEUGI 28\n",
            "NEURI 28\n",
            "ASLPL 31\n"
          ]
        }
      ],
      "source": [
        "for index,value in enumerate (x_train.isnull().sum()):\n",
        "  if value !=0:\n",
        "    print(x_train_aux.columns[index],value)"
      ]
    },
    {
      "cell_type": "code",
      "execution_count": 31,
      "metadata": {
        "colab": {
          "base_uri": "https://localhost:8080/"
        },
        "id": "8icNCu3-KJzo",
        "outputId": "6b08d2db-0ceb-45cb-c3eb-e3b394a26e3e"
      },
      "outputs": [
        {
          "output_type": "execute_result",
          "data": {
            "text/plain": [
              "Index(['Código Externo', 'Edad del Paciente', 'Sexo del Paciente', 'LEU',\n",
              "       'NEU', 'NEUp', 'LIN', 'LINp', 'MON', 'MONp', 'EOS', 'BAS', 'IG', 'IGp',\n",
              "       'ERIT', 'HGB', 'VCM', 'HCM', 'CHCM', 'RDW', 'ERBL', 'PLTI', 'VPM',\n",
              "       'rNe/L', 'rPL/L', 'MacR', 'MicR', 'BA-D#', 'NEFSC', 'BA-D%', 'BA-N#',\n",
              "       'BA-N%', 'HFLCA', 'HFLCP', 'LY-WX', 'LY-WY', 'LY-WZ', 'LY-X', 'LY-Y',\n",
              "       'LY-Z', 'MO-WX', 'MO-WY', 'MO-WZ', 'MO-X', 'MO-Y', 'MO-Z', 'NE-WX',\n",
              "       'NE-WY', 'NE-WZ', 'ASLYP', 'RELPL', 'RELYP', 'RELYA', 'NEUGI', 'NEURI',\n",
              "       'ASLPL', 'Revision'],\n",
              "      dtype='object')"
            ]
          },
          "metadata": {},
          "execution_count": 31
        }
      ],
      "source": [
        "x_train_aux.columns"
      ]
    },
    {
      "cell_type": "markdown",
      "metadata": {
        "id": "7EvZo80qCesP"
      },
      "source": [
        "***Imputacion de valores perdidos mediante KNN Imputer***"
      ]
    },
    {
      "cell_type": "markdown",
      "metadata": {
        "id": "LSQhwrV0d4Xr"
      },
      "source": [
        "A continuación haré uso de KNNImputer. KNNImputer es una clase de scikit-learn que se utiliza para completar o predecir los valores faltantes en un conjunto de datos. Es un método que funciona con el enfoque básico del algoritmo KNN y que se considera que proporciona una mejor rendimiento que otros enfoques, como puedes ser la imputación de los outliers por la media o la mediana."
      ]
    },
    {
      "cell_type": "markdown",
      "metadata": {
        "id": "18axUCRmedtX"
      },
      "source": [
        "El siguiente código tiene como fin, ayudar en la elección del número K óptimo con el que realizar la imputación de los outliers convertidos en NaN. La investigación sugiere que es imperativo probar el modelo usando validación cruzada después de realizar la imputación con diferentes valores de k. Aunque la imputación de valores perdidos es un campo de estudio en constante evolución, kNN actúa como una estrategia simple y efectiva."
      ]
    },
    {
      "cell_type": "markdown",
      "metadata": {
        "id": "CMSqp5TiT8HI"
      },
      "source": [
        "Al final de la ejecución, se crea un diagrama de caja y bigotes para cada conjunto de resultados, lo que permite comparar la distribución de los valores finales."
      ]
    },
    {
      "cell_type": "code",
      "execution_count": 32,
      "metadata": {
        "colab": {
          "base_uri": "https://localhost:8080/"
        },
        "id": "4OQ_BUwrKJzp",
        "outputId": "263a0cf6-4719-469b-f398-9b03ee90d5e6"
      },
      "outputs": [
        {
          "output_type": "execute_result",
          "data": {
            "text/plain": [
              "(255, 57)"
            ]
          },
          "metadata": {},
          "execution_count": 32
        }
      ],
      "source": [
        "x_train_aux.shape"
      ]
    },
    {
      "cell_type": "code",
      "execution_count": 32,
      "metadata": {
        "id": "GjLRNZEyKJzq"
      },
      "outputs": [],
      "source": [
        ""
      ]
    },
    {
      "cell_type": "code",
      "execution_count": 33,
      "metadata": {
        "colab": {
          "base_uri": "https://localhost:8080/",
          "height": 0
        },
        "id": "4m_wh3WBj06X",
        "outputId": "0bf80cd7-f854-4a87-ca8a-16bace63e8f1"
      },
      "outputs": [
        {
          "output_type": "stream",
          "name": "stdout",
          "text": [
            ">1 0.887 (0.035)\n",
            ">3 0.876 (0.032)\n",
            ">5 0.866 (0.035)\n",
            ">7 0.865 (0.035)\n",
            ">9 0.866 (0.033)\n",
            ">15 0.874 (0.035)\n",
            ">18 0.871 (0.030)\n",
            ">21 0.868 (0.031)\n",
            ">25 0.862 (0.037)\n",
            ">30 0.869 (0.032)\n",
            ">36 0.875 (0.039)\n",
            ">40 0.872 (0.036)\n"
          ]
        },
        {
          "output_type": "display_data",
          "data": {
            "text/plain": [
              "<Figure size 432x288 with 1 Axes>"
            ],
            "image/png": "[encoded data removed]"
          },
          "metadata": {
            "needs_background": "light"
          }
        }
      ],
      "source": [
        "from numpy import mean\n",
        "from numpy import std\n",
        "from pandas import read_csv\n",
        "from sklearn.ensemble import RandomForestClassifier\n",
        "from sklearn.impute import KNNImputer\n",
        "from sklearn.model_selection import cross_val_score\n",
        "from sklearn.model_selection import RepeatedStratifiedKFold\n",
        "from sklearn.pipeline import Pipeline\n",
        "from matplotlib import pyplot\n",
        "\n",
        "# evaluate each strategy on the dataset\n",
        "results = list()\n",
        "strategies = [str(i) for i in [1,3,5,7,9,15,18,21,25,30,36,40]]\n",
        "for s in strategies:\n",
        "    # create the modeling pipeline\n",
        "    \n",
        "    #me parece ok usar RF\n",
        "    pipeline = Pipeline(steps=[('i', KNNImputer(n_neighbors=int(s))), ('m', RandomForestClassifier())])  ###NO SE QUE ALGORITMO UTILIZAR\n",
        "    # evaluate the model\n",
        "    cv = RepeatedStratifiedKFold(n_splits=5, n_repeats=10, random_state=1)  ###NO SE QUE NUMEROS PONER EN LOS PARAMETROS\n",
        "    #Pongo X_train e y_train, ya que son los conjuntos sobre los que voy a trabajar\n",
        "    scores = cross_val_score(pipeline, x_train, y_train['label'], scoring='accuracy', cv=cv, n_jobs=-1) ###NO SE QUE X E Y PONER\n",
        "    # store results\n",
        "    results.append(scores)\n",
        "    print('>%s %.3f (%.3f)' % (s, mean(scores), std(scores)))\n",
        "# plot model performance for comparison\n",
        "pyplot.boxplot(results, labels=strategies, showmeans=True)\n",
        "pyplot.show()"
      ]
    },
    {
      "cell_type": "markdown",
      "metadata": {
        "id": "jXUvYKAiMCtq"
      },
      "source": [
        "En este caso, podemos ver que los valores de k no siguen una uniformidad a la hora de dar un rendimiento óptimo del algoritmo en cuestión. Por lo tanto, se puede observar que para un k = --- el modelo presenta el mejor rendimiento con una precisión de alrededor de --- por ciento.\n",
        "\n",
        "\n",
        "**Óscar**\n",
        "\n",
        "Si te fijas sólo en las medias (los triangulitos, se ve que enseguida saturan y se ponen a un buen nivel, así que lo que yo haría sería quderme con un ńumero relativamente pqueño, por ejemplo 5)"
      ]
    },
    {
      "cell_type": "markdown",
      "metadata": {
        "id": "QNMhVZYYMwXU"
      },
      "source": [
        "Por esa razón, utilizaremos dicho valor de K en KNNImputer. Además, tendremos en cuenta otros 2 parámetros. \n",
        "\n",
        "\n",
        "\n",
        "*   Por un lado, se tiene en cuenta la medida de distancia, la cual se puede ponderar proporcionalmente a la distancia entre instancias (filas), aunque esto se establece en una ponderación uniforme por defecto, controlada a través del argumento \"weights\". En este caso, se opta por darle un valor unirforme, por lo que todas las muestras tienen la misma importancia a la hora de \"influenciar\" a la muestra NaN.\n",
        "\n",
        "*   Por otro lado, se encuentra el parámetro \"metric\", el cual hace referencia a la medida de distancia que se utilizará para calcular la distancia entre los miembros del conjunto de datos de entrenamiento. Esta vez se opta por la distancia euclidea, ya que es la distancia utilizada en algunos de los principales métodos para ajustar estimaciones estadísticas de los datos minimizando errores, como el método de mínimos cuadrados.\n",
        "\n"
      ]
    },
    {
      "cell_type": "code",
      "execution_count": 34,
      "metadata": {
        "colab": {
          "base_uri": "https://localhost:8080/"
        },
        "id": "k1DN2JdK7m1O",
        "outputId": "033168e0-7cf9-41d0-b097-d2b69a0490e5"
      },
      "outputs": [
        {
          "output_type": "stream",
          "name": "stdout",
          "text": [
            "Total missing values before imputation: 1901\n",
            "Total missing values after imputation: 0\n"
          ]
        }
      ],
      "source": [
        "from sklearn.impute import KNNImputer\n",
        "from numpy import isnan\n",
        "\n",
        "# print total missing\n",
        "print('Total missing values before imputation: %d' % x_train_aux.isnull().sum().sum())\n",
        "\n",
        "# define imputer\n",
        "imputer = KNNImputer(n_neighbors=5, metric='nan_euclidean', weights='uniform') #Se calcula la distancia euclidea del punto NaN a los n vecinos \n",
        "                                      # mas cercanos. Además se le da un peso uniforme a todos los vecinos, es decir todos los vecinos tienen\n",
        "                                      # la misma importancia.\n",
        "\n",
        "# fit on the dataset\n",
        "imputer.fit(x_train_aux)\n",
        "\n",
        "# transform the dataset\n",
        "x_train_aux = imputer.transform(x_train_aux)\n",
        "\n",
        "# print total missing\n",
        "print('Total missing values after imputation: %d' % sum(isnan(x_train_aux).flatten()))"
      ]
    },
    {
      "cell_type": "code",
      "execution_count": 35,
      "metadata": {
        "colab": {
          "base_uri": "https://localhost:8080/"
        },
        "id": "ywO29INpKJzr",
        "outputId": "9a4b5153-131a-4a32-c56f-e5c138c928ab"
      },
      "outputs": [
        {
          "output_type": "execute_result",
          "data": {
            "text/plain": [
              "(255, 57)"
            ]
          },
          "metadata": {},
          "execution_count": 35
        }
      ],
      "source": [
        "x_train_aux.shape"
      ]
    },
    {
      "cell_type": "code",
      "execution_count": 36,
      "metadata": {
        "colab": {
          "base_uri": "https://localhost:8080/"
        },
        "id": "yj0XL0ic8EYo",
        "outputId": "44b4e6d9-0d06-4954-ce00-4ddfd6a70972"
      },
      "outputs": [
        {
          "output_type": "stream",
          "name": "stdout",
          "text": [
            "True\n"
          ]
        }
      ],
      "source": [
        "x_train_aux = pd.DataFrame(x_train_aux) #paso X_train de numpy_array a DataFrame\n",
        "\n",
        "#Compruebo que no queda ningún NaN en la base de datos. De esa manera ya puedo trabajar con ella.\n",
        "check_for_nan = x_train.isnull().values.any()\n",
        "print (check_for_nan)\n",
        "\n",
        "\n"
      ]
    },
    {
      "cell_type": "code",
      "execution_count": 37,
      "metadata": {
        "id": "YSI_co7hKJzr"
      },
      "outputs": [],
      "source": [
        "x_train_aux.columns = x_train.columns"
      ]
    },
    {
      "cell_type": "markdown",
      "metadata": {
        "id": "s8P3X2maXXqq"
      },
      "source": [
        "## 2.4 Identificación de outliers e imputacion de los mismos en X_test usando el método KNN Imputer\n",
        "\n",
        "\n"
      ]
    },
    {
      "cell_type": "code",
      "execution_count": 38,
      "metadata": {
        "id": "d0Mb0QlyXHQM"
      },
      "outputs": [],
      "source": [
        "numeric_variables_test = x_test.select_dtypes(exclude=['object'])\n",
        "\n",
        "for i in numeric_variables_test:\n",
        "   x_test[[i]]=x_test[[i]].replace(outliers(i,x_test),np.nan) "
      ]
    },
    {
      "cell_type": "code",
      "execution_count": 39,
      "metadata": {
        "colab": {
          "base_uri": "https://localhost:8080/"
        },
        "id": "jcaGyYQoX0hh",
        "outputId": "b18571d2-d0a9-4f88-c855-18c24bbd6f51"
      },
      "outputs": [
        {
          "output_type": "stream",
          "name": "stdout",
          "text": [
            "LEU 9\n",
            "NEU 9\n",
            "NEUp 8\n",
            "LIN 10\n",
            "LINp 8\n",
            "MON 10\n",
            "MONp 10\n",
            "EOS 8\n",
            "BAS 9\n",
            "IG 9\n",
            "IGp 9\n",
            "ERIT 8\n",
            "HGB 8\n",
            "VCM 8\n",
            "HCM 8\n",
            "CHCM 8\n",
            "RDW 8\n",
            "ERBL 10\n",
            "PLTI 9\n",
            "VPM 12\n",
            "rNe/L 36\n",
            "rPL/L 36\n",
            "MacR 9\n",
            "MicR 10\n",
            "BA-D# 8\n",
            "NEFSC 9\n",
            "BA-D% 8\n",
            "BA-N# 10\n",
            "BA-N% 9\n",
            "HFLCA 10\n",
            "HFLCP 9\n",
            "LY-WX 8\n",
            "LY-WY 9\n",
            "LY-WZ 9\n",
            "LY-X 8\n",
            "LY-Y 8\n",
            "LY-Z 8\n",
            "MO-WX 9\n",
            "MO-WY 8\n",
            "MO-WZ 8\n",
            "MO-X 8\n",
            "MO-Y 8\n",
            "MO-Z 8\n",
            "NE-WX 9\n",
            "NE-WY 9\n",
            "NE-WZ 8\n",
            "ASLYP 12\n",
            "RELPL 14\n",
            "RELYP 13\n",
            "RELYA 13\n",
            "NEUGI 9\n",
            "NEURI 8\n",
            "ASLPL 12\n"
          ]
        }
      ],
      "source": [
        "for index,value in enumerate (x_test.isnull().sum()):\n",
        "  if value !=0:\n",
        "    print(x_test.columns[index],value)"
      ]
    },
    {
      "cell_type": "code",
      "execution_count": 40,
      "metadata": {
        "colab": {
          "base_uri": "https://localhost:8080/"
        },
        "id": "cO3ahOcgX5u_",
        "outputId": "e53aa28a-d984-4756-b0ba-2ff2fd5c6ec2"
      },
      "outputs": [
        {
          "output_type": "stream",
          "name": "stdout",
          "text": [
            "Total missing values before imputation: 538\n",
            "Total missing values after imputation: 0\n"
          ]
        }
      ],
      "source": [
        "# print total missing\n",
        "print('Total missing values before imputation: %d' % x_test.isnull().sum().sum())\n",
        "\n",
        "#OJO: yo diría que esto es una mala práctica, no es malísima, pero no estás siendo justo. Lo ideal es, ahora\n",
        "#que has entrenado el model en training bien (el KNNImputer), utilizar ese entrenamiento con los nuevos datos, no \n",
        "#volver a ajustar los datos. \n",
        "\n",
        "# define imputer\n",
        "#imputer = KNNImputer(n_neighbors=21, weights='uniform', metric='nan_euclidean')\n",
        "\n",
        "\n",
        "# fit on the dataset\n",
        "# imputer.fit(X_test)  \n",
        "\n",
        "# transform the dataset\n",
        "x_test = imputer.transform(x_test)\n",
        "\n",
        "# print total missing\n",
        "print('Total missing values after imputation: %d' % sum(isnan(x_test).flatten()))"
      ]
    },
    {
      "cell_type": "code",
      "execution_count": 41,
      "metadata": {
        "colab": {
          "base_uri": "https://localhost:8080/"
        },
        "id": "kYi_wfNZYIyo",
        "outputId": "52f8443e-7bc6-4057-a04a-7bf4aaa320ad"
      },
      "outputs": [
        {
          "output_type": "stream",
          "name": "stdout",
          "text": [
            "False\n"
          ]
        }
      ],
      "source": [
        "x_test = pd.DataFrame(x_test)\n",
        "\n",
        "#Compruebo que no queda ningún NaN en la base de datos. De esa manera ya puedo trabajar con ella.\n",
        "check_for_nan = x_test.isnull().values.any()\n",
        "print (check_for_nan)"
      ]
    },
    {
      "cell_type": "code",
      "execution_count": 42,
      "metadata": {
        "id": "CcJhKWOgKJzt"
      },
      "outputs": [],
      "source": [
        "x_test.columns = x_train.columns"
      ]
    },
    {
      "cell_type": "code",
      "execution_count": 43,
      "metadata": {
        "colab": {
          "base_uri": "https://localhost:8080/",
          "height": 0
        },
        "id": "JJbg09mXLXPU",
        "outputId": "fa8ecd1d-2c59-4bb9-ab6a-053c17832995"
      },
      "outputs": [
        {
          "output_type": "execute_result",
          "data": {
            "text/plain": [
              "\"x_train.columns = training.columns\\n['Código Externo', 'Edad del Paciente', 'Sexo del Paciente', 'LEU',\\n       'NEU', 'NEUp', 'LIN', 'LINp', 'MON', 'MONp', 'EOS', 'EOSp', 'BAS',\\n       'BASp', 'IG', 'IGp', 'ERIT', 'HGB', 'HCT', 'VCM', 'HCM', 'CHCM', 'RDW',\\n       'ERBL', 'PLTI', 'VPM', 'rNe/L', 'rPL/L', 'MacR', 'MicR', 'BA-D#',\\n       'NEFSC', 'BA-D%', 'BA-N#', 'BA-N%', 'HFLCA', 'HFLCP', 'LY-WX', 'LY-WY',\\n       'LY-WZ', 'LY-X', 'LY-Y', 'LY-Z', 'MO-WX', 'MO-WY', 'MO-WZ', 'MO-X',\\n       'MO-Y', 'MO-Z', 'NE-WX', 'NE-WY', 'NE-WZ', 'ASLYP', 'ASLYA', 'RELPL',\\n       'RELYP', 'RELYA', 'NEUGI', 'NEURI', 'ASLPL', 'Revision']\""
            ],
            "application/vnd.google.colaboratory.intrinsic+json": {
              "type": "string"
            }
          },
          "metadata": {},
          "execution_count": 43
        }
      ],
      "source": [
        "\"\"\"x_train.columns = training.columns\n",
        "['Código Externo', 'Edad del Paciente', 'Sexo del Paciente', 'LEU',\n",
        "       'NEU', 'NEUp', 'LIN', 'LINp', 'MON', 'MONp', 'EOS', 'EOSp', 'BAS',\n",
        "       'BASp', 'IG', 'IGp', 'ERIT', 'HGB', 'HCT', 'VCM', 'HCM', 'CHCM', 'RDW',\n",
        "       'ERBL', 'PLTI', 'VPM', 'rNe/L', 'rPL/L', 'MacR', 'MicR', 'BA-D#',\n",
        "       'NEFSC', 'BA-D%', 'BA-N#', 'BA-N%', 'HFLCA', 'HFLCP', 'LY-WX', 'LY-WY',\n",
        "       'LY-WZ', 'LY-X', 'LY-Y', 'LY-Z', 'MO-WX', 'MO-WY', 'MO-WZ', 'MO-X',\n",
        "       'MO-Y', 'MO-Z', 'NE-WX', 'NE-WY', 'NE-WZ', 'ASLYP', 'ASLYA', 'RELPL',\n",
        "       'RELYP', 'RELYA', 'NEUGI', 'NEURI', 'ASLPL', 'Revision']\"\"\""
      ]
    },
    {
      "cell_type": "code",
      "execution_count": 43,
      "metadata": {
        "id": "wR-b3VrbOE4R"
      },
      "outputs": [],
      "source": [
        ""
      ]
    },
    {
      "cell_type": "markdown",
      "metadata": {
        "id": "Qbol2sxOxCAZ"
      },
      "source": [
        "# 3. XGBoost\n",
        "\n",
        "Comienzo seleccionando únicamente los parámetros que elgió el método XGBoost "
      ]
    },
    {
      "cell_type": "code",
      "execution_count": 44,
      "metadata": {
        "id": "17y5Usw6Srfq"
      },
      "outputs": [],
      "source": [
        "import numpy as np\n",
        "\n",
        "from scipy.stats import uniform, randint\n",
        "\n",
        "from sklearn.datasets import load_breast_cancer, load_diabetes, load_wine\n",
        "from sklearn.metrics import auc, accuracy_score, confusion_matrix, mean_squared_error, roc_auc_score\n",
        "from sklearn.model_selection import cross_val_score, GridSearchCV, KFold, RandomizedSearchCV, train_test_split\n",
        "import xgboost as xgb"
      ]
    },
    {
      "cell_type": "code",
      "execution_count": 45,
      "metadata": {
        "id": "R9qZNc5hcedl"
      },
      "outputs": [],
      "source": [
        "### AHORA TENGO QUE PONER AQUI LAS VARIABLES QUE HA ELEGIDO FINALMENTE EL MODELO XGBOOST\n",
        "x_train_XGB = x_train_aux[['Código Externo', 'IG','MO-Y','MicR','Revision']].copy()\n",
        "x_test_XGB = x_test[['Código Externo', 'IG','MO-Y','MicR','Revision']].copy()"
      ]
    },
    {
      "cell_type": "markdown",
      "metadata": {
        "id": "KCzUj95FEJn8"
      },
      "source": [
        "**Jorge** antes de comenzar a realizar la parte de regresión lineal hay que hacer exactamente lo mismo que hicimos con el dataframe original, es decir el tratamiento de outliers y la imputación. Esta parte tiene que ser exactamente igual que antes. Es decir, será necesario utilizar todas las variables, porque creo que utilizábamos KNN imputer. \n",
        "\n",
        "Cuando tengas todos los valores sin NaN, es cuando podremos comenzar a realizar la parte de incluir la tendencia temporal. \n",
        "\n",
        "\n",
        "Esto ya lo tienes hecho, por lo que no debería tomarte mucho tiempo. Creoq ue la secuencia de pasos debería ser:\n",
        "\n",
        "1. no quitar las variables seleccionadas\n",
        "2. incluir revisión y label\n",
        "3. separar en training y test (utiliando el identificador, para que un paciente esté en training o test, pero no en ambos)\n",
        "4. identificación de outliers\n",
        "5. imputación de outlires con knn (exactamente el mismo esquema que has hecho antes)\n",
        "6. Selección de las variables que se han elegido con xgboost.\n",
        "7. Incorporar coeficintes de la regresión lineal para capturar la dinámica."
      ]
    },
    {
      "cell_type": "markdown",
      "metadata": {
        "id": "1JX4J0I0B3p1"
      },
      "source": [
        "### 3.1 Búsqueda de coeficientes (REGRESION LINEAL)\n",
        "\n",
        "Vamos a realizar un análisis de tendencias para cada variable de forma poblacional. También usaremos este análisis de tendencias de forma individual para cada paciente, de forma que se pueda incorporar la información dinámica que genera dentro del modelo de predicción basado en machine learning.\n",
        "\n",
        "Vamos a generar la función que obtiene el modelo de regresión lineal. El modelo que planteamos es un polinomio de segundo orden:\n",
        "\n",
        "$y = a + bx + cx^2$ ;\n",
        "\n",
        "donde la x corresponde al número de revisión."
      ]
    },
    {
      "cell_type": "markdown",
      "metadata": {
        "id": "nDmsBSVSzPV0"
      },
      "source": [
        "Ahora debo de conseguir introducir 3 coeficientes por cada una de los parámetros seleccionados por el método y por cada uno de los pacientes"
      ]
    },
    {
      "cell_type": "code",
      "execution_count": 46,
      "metadata": {
        "id": "f6Jssiy81xBb"
      },
      "outputs": [],
      "source": [
        "from sklearn.linear_model import LinearRegression\n",
        "\n",
        "def lin_reg_model(revi,x_val):\n",
        "    \"\"\"\n",
        "    Función que ajusta un modelo de regresión lineal para el conjunto de datos que viene dado por rev y x_val. Vamos a usar\n",
        "    sklearn, pero podríamos utilizar cualquier otro módulo de algebra lineal\n",
        "    \"\"\"\n",
        "    \n",
        "    #generamos la matrix X, que tiene que contener en una columna rev y en otra rev**2\n",
        "    \n",
        "    \n",
        "    rev_2 = revi**2\n",
        "    \n",
        "    X = np.vstack((np.ones(revi.shape),revi,rev_2)).T #JA Como quiero un polinomio de segundo orden... meto\n",
        "                      #unos que me sirven como \"a\", rev que me sirve como \"b\" y rev_2 que me sirve como \"c\"\n",
        "    \n",
        "    #ajustamos el modelo de regresion lineal\n",
        "    \n",
        "    #le digo false, para que me devuelva todo los coeficientes en coef_\n",
        "    clf = LinearRegression(fit_intercept=False) #yo creo que lo que haría, para que fuesen todos comparables sería \n",
        "    # normalizar los datos pero no lo tengo claro, lo tendría que pensar\n",
        "    \n",
        "    clf.fit(X,x_val)\n",
        "    \n",
        "    #devolvemos los coeficientes\n",
        "    return clf.coef_"
      ]
    },
    {
      "cell_type": "code",
      "execution_count": 47,
      "metadata": {
        "id": "gx6HPLnFwVt8"
      },
      "outputs": [],
      "source": [
        "\"\"\"\n",
        "revi= np.array([1,2,3,4])\n",
        "X = []\n",
        "\n",
        "for i in cd_train:  \n",
        "      df_pat = x_train.loc[x_train[\"Código Externo\"] == i]\n",
        "      \n",
        "        for j in df_pat.columns.values (:,2:9):\n",
        "             coef_pat = lin_reg_model(revi,df_pat)\n",
        "\"\"\"\n",
        "x_train_XGB[\"Código Externo\"] = x_train_XGB[\"Código Externo\"].astype(int)"
      ]
    },
    {
      "cell_type": "code",
      "execution_count": 48,
      "metadata": {
        "colab": {
          "base_uri": "https://localhost:8080/",
          "height": 0
        },
        "id": "FUmeaumzKJzv",
        "outputId": "70bd9ae1-0852-431c-af57-d4923cf886fa"
      },
      "outputs": [
        {
          "output_type": "execute_result",
          "data": {
            "text/plain": [
              "     Código Externo  label\n",
              "15           108894      0\n",
              "18           108894      0\n",
              "54           108894      0\n",
              "242          119766      0\n",
              "249          119766      0\n",
              "..              ...    ...\n",
              "261          104851      1\n",
              "328          116453      1\n",
              "332          116453      1\n",
              "336          116453      1\n",
              "318          116453      1\n",
              "\n",
              "[255 rows x 2 columns]"
            ],
            "text/html": [
              "\n",
              "  <div id=\"df-0eb71bbe-b2fe-4cbd-9d5f-ad3a36a9497c\">\n",
              "    <div class=\"colab-df-container\">\n",
              "      <div>\n",
              "<style scoped>\n",
              "    .dataframe tbody tr th:only-of-type {\n",
              "        vertical-align: middle;\n",
              "    }\n",
              "\n",
              "    .dataframe tbody tr th {\n",
              "        vertical-align: top;\n",
              "    }\n",
              "\n",
              "    .dataframe thead th {\n",
              "        text-align: right;\n",
              "    }\n",
              "</style>\n",
              "<table border=\"1\" class=\"dataframe\">\n",
              "  <thead>\n",
              "    <tr style=\"text-align: right;\">\n",
              "      <th></th>\n",
              "      <th>Código Externo</th>\n",
              "      <th>label</th>\n",
              "    </tr>\n",
              "  </thead>\n",
              "  <tbody>\n",
              "    <tr>\n",
              "      <th>15</th>\n",
              "      <td>108894</td>\n",
              "      <td>0</td>\n",
              "    </tr>\n",
              "    <tr>\n",
              "      <th>18</th>\n",
              "      <td>108894</td>\n",
              "      <td>0</td>\n",
              "    </tr>\n",
              "    <tr>\n",
              "      <th>54</th>\n",
              "      <td>108894</td>\n",
              "      <td>0</td>\n",
              "    </tr>\n",
              "    <tr>\n",
              "      <th>242</th>\n",
              "      <td>119766</td>\n",
              "      <td>0</td>\n",
              "    </tr>\n",
              "    <tr>\n",
              "      <th>249</th>\n",
              "      <td>119766</td>\n",
              "      <td>0</td>\n",
              "    </tr>\n",
              "    <tr>\n",
              "      <th>...</th>\n",
              "      <td>...</td>\n",
              "      <td>...</td>\n",
              "    </tr>\n",
              "    <tr>\n",
              "      <th>261</th>\n",
              "      <td>104851</td>\n",
              "      <td>1</td>\n",
              "    </tr>\n",
              "    <tr>\n",
              "      <th>328</th>\n",
              "      <td>116453</td>\n",
              "      <td>1</td>\n",
              "    </tr>\n",
              "    <tr>\n",
              "      <th>332</th>\n",
              "      <td>116453</td>\n",
              "      <td>1</td>\n",
              "    </tr>\n",
              "    <tr>\n",
              "      <th>336</th>\n",
              "      <td>116453</td>\n",
              "      <td>1</td>\n",
              "    </tr>\n",
              "    <tr>\n",
              "      <th>318</th>\n",
              "      <td>116453</td>\n",
              "      <td>1</td>\n",
              "    </tr>\n",
              "  </tbody>\n",
              "</table>\n",
              "<p>255 rows × 2 columns</p>\n",
              "</div>\n",
              "      <button class=\"colab-df-convert\" onclick=\"convertToInteractive('df-0eb71bbe-b2fe-4cbd-9d5f-ad3a36a9497c')\"\n",
              "              title=\"Convert this dataframe to an interactive table.\"\n",
              "              style=\"display:none;\">\n",
              "        \n",
              "  <svg xmlns=\"http://www.w3.org/2000/svg\" height=\"24px\"viewBox=\"0 0 24 24\"\n",
              "       width=\"24px\">\n",
              "    <path d=\"M0 0h24v24H0V0z\" fill=\"none\"/>\n",
              "    <path d=\"M18.56 5.44l.94 2.06.94-2.06 2.06-.94-2.06-.94-.94-2.06-.94 2.06-2.06.94zm-11 1L8.5 8.5l.94-2.06 2.06-.94-2.06-.94L8.5 2.5l-.94 2.06-2.06.94zm10 10l.94 2.06.94-2.06 2.06-.94-2.06-.94-.94-2.06-.94 2.06-2.06.94z\"/><path d=\"M17.41 7.96l-1.37-1.37c-.4-.4-.92-.59-1.43-.59-.52 0-1.04.2-1.43.59L10.3 9.45l-7.72 7.72c-.78.78-.78 2.05 0 2.83L4 21.41c.39.39.9.59 1.41.59.51 0 1.02-.2 1.41-.59l7.78-7.78 2.81-2.81c.8-.78.8-2.07 0-2.86zM5.41 20L4 18.59l7.72-7.72 1.47 1.35L5.41 20z\"/>\n",
              "  </svg>\n",
              "      </button>\n",
              "      \n",
              "  <style>\n",
              "    .colab-df-container {\n",
              "      display:flex;\n",
              "      flex-wrap:wrap;\n",
              "      gap: 12px;\n",
              "    }\n",
              "\n",
              "    .colab-df-convert {\n",
              "      background-color: #E8F0FE;\n",
              "      border: none;\n",
              "      border-radius: 50%;\n",
              "      cursor: pointer;\n",
              "      display: none;\n",
              "      fill: #1967D2;\n",
              "      height: 32px;\n",
              "      padding: 0 0 0 0;\n",
              "      width: 32px;\n",
              "    }\n",
              "\n",
              "    .colab-df-convert:hover {\n",
              "      background-color: #E2EBFA;\n",
              "      box-shadow: 0px 1px 2px rgba(60, 64, 67, 0.3), 0px 1px 3px 1px rgba(60, 64, 67, 0.15);\n",
              "      fill: #174EA6;\n",
              "    }\n",
              "\n",
              "    [theme=dark] .colab-df-convert {\n",
              "      background-color: #3B4455;\n",
              "      fill: #D2E3FC;\n",
              "    }\n",
              "\n",
              "    [theme=dark] .colab-df-convert:hover {\n",
              "      background-color: #434B5C;\n",
              "      box-shadow: 0px 1px 3px 1px rgba(0, 0, 0, 0.15);\n",
              "      filter: drop-shadow(0px 1px 2px rgba(0, 0, 0, 0.3));\n",
              "      fill: #FFFFFF;\n",
              "    }\n",
              "  </style>\n",
              "\n",
              "      <script>\n",
              "        const buttonEl =\n",
              "          document.querySelector('#df-0eb71bbe-b2fe-4cbd-9d5f-ad3a36a9497c button.colab-df-convert');\n",
              "        buttonEl.style.display =\n",
              "          google.colab.kernel.accessAllowed ? 'block' : 'none';\n",
              "\n",
              "        async function convertToInteractive(key) {\n",
              "          const element = document.querySelector('#df-0eb71bbe-b2fe-4cbd-9d5f-ad3a36a9497c');\n",
              "          const dataTable =\n",
              "            await google.colab.kernel.invokeFunction('convertToInteractive',\n",
              "                                                     [key], {});\n",
              "          if (!dataTable) return;\n",
              "\n",
              "          const docLinkHtml = 'Like what you see? Visit the ' +\n",
              "            '<a target=\"_blank\" href=https://colab.research.google.com/notebooks/data_table.ipynb>data table notebook</a>'\n",
              "            + ' to learn more about interactive tables.';\n",
              "          element.innerHTML = '';\n",
              "          dataTable['output_type'] = 'display_data';\n",
              "          await google.colab.output.renderOutput(dataTable, element);\n",
              "          const docLink = document.createElement('div');\n",
              "          docLink.innerHTML = docLinkHtml;\n",
              "          element.appendChild(docLink);\n",
              "        }\n",
              "      </script>\n",
              "    </div>\n",
              "  </div>\n",
              "  "
            ]
          },
          "metadata": {},
          "execution_count": 48
        }
      ],
      "source": [
        "x_train_XGB[x_train_XGB[\"Código Externo\"] == 126455]\n",
        "y_train\n",
        "\n",
        "#y_train['label'][y_train['Código Externo'] == pat].values[0]"
      ]
    },
    {
      "cell_type": "code",
      "execution_count": 49,
      "metadata": {
        "id": "eVsqUEn3KJzv",
        "scrolled": false
      },
      "outputs": [],
      "source": [
        "X_training = [] #final matrix with rows = one per patient, columns = variables valuest at review 1 and temporal evolution\n",
        "y_training = []\n",
        "\n",
        "\n",
        "\n",
        "#run over each codigo externo => each patient\n",
        "for i,pat in enumerate(cd_train): #JA, añade un contador a cada uno de los elementos iterables,(1,4234)(2,8259)\n",
        "    cols_name = []\n",
        "    #print(i)\n",
        "    x_aux = [] #individual row in the X matrix for a particular pat\n",
        "    \n",
        "    #create a mini df with for reviews\n",
        "    #print(x_train_XGB[\"Código Externo\"])\n",
        "    df_pat = x_train_XGB[x_train_XGB[\"Código Externo\"] == pat].copy()\n",
        "    \n",
        "    #order mini df according to Revision\n",
        "    df_pat.sort_values(by=[\"Revision\"],inplace= True) # JA, esto ya está implementado anteriormente\n",
        "\n",
        "    #print(df_pat)\n",
        "    \n",
        "    #for each variable\n",
        "    feat_name = df_pat.columns[1:-1] # JA, cojo las columnas de la segunda a la penúltima de tal manera que me \n",
        "                                    # quito las columnas 'Código Externo' y 'label'\n",
        "    #\n",
        "    #print(feat_name)\n",
        "    \n",
        "    for var in feat_name:\n",
        "        #get the value for the first review\n",
        "        var_value_1 = df_pat[var][df_pat[\"Revision\"] == 1] # JA, cojo el valor de la primera revisión de un paciente\n",
        "                                                            # de una variable en concreto\n",
        "        #print(var_value_1.values)\n",
        "        if var_value_1.values.size == 0:\n",
        "            #there are some blank rows, we just skip them\n",
        "            #print(df_pat[[\"Código Externo\",var]])\n",
        "            continue\n",
        "            \n",
        "        #store the value in the x_aux    \n",
        "        x_aux.append(var_value_1.values[0])\n",
        "        \n",
        "        #create the cols_name for the first pat only\n",
        "        if pat == \"126455\":\n",
        "            cols_name.append(var)\n",
        "        \n",
        "        #compute the linear regression model\n",
        "        \n",
        "        #review values for this var\n",
        "        var_review_values = df_pat[var].values\n",
        "        \n",
        "        #compute the actual coefficientes for the linear regresssion\n",
        "        revi = np.arange(1,len(var_review_values)+1)\n",
        "        \n",
        "        #vamos a centrar los valores de las revisiones para evitar utilizar coeficiente de media, y sólo tener las tendencias\n",
        "        coefs = lin_reg_model(revi,var_review_values-np.mean(var_review_values))\n",
        "        \n",
        "        \"\"\"\n",
        "        plt.figure()\n",
        "        plt.plot(revi,var_review_values)\n",
        "        xx = np.linspace(1,4,20)\n",
        "\n",
        "        XX = np.vstack((np.ones(xx.shape),xx,xx**2)).T\n",
        "        plt.plot(xx,XX.dot(coefs),'k--',label = 'real values')\n",
        "        plt.xlabel(var)\n",
        "        \"\"\"\n",
        "        \n",
        "        #store coefficients\n",
        "        #x_aux.append()\n",
        "        #print(len(coefs))\n",
        "        for c in coefs[1:]:\n",
        "            x_aux.append(c)\n",
        "            \n",
        "        cols_name.append(var)\n",
        "        #cols_name.append(var+'_1')\n",
        "        cols_name.append(var+'_2')\n",
        "        cols_name.append(var+'_3')\n",
        "        \n",
        "        \n",
        "        \n",
        "        #stick x_aux in X\n",
        "        \n",
        "    #print(len(x_aux))\n",
        "    \n",
        "    if len(x_aux)==0:\n",
        "        continue\n",
        "        \n",
        "    y_aux = y_train['label'][y_train['Código Externo'] == pat].values[0]   \n",
        "    \n",
        "    y_training.append(y_aux)\n",
        "    X_training.append(x_aux)\n",
        "    "
      ]
    },
    {
      "cell_type": "code",
      "execution_count": 50,
      "metadata": {
        "id": "xRz4vomhKJzw",
        "scrolled": false
      },
      "outputs": [],
      "source": [
        "X_train_XGB = np.array(X_training)\n",
        "y_training_XGB = np.array(y_training)"
      ]
    },
    {
      "cell_type": "code",
      "execution_count": 51,
      "metadata": {
        "colab": {
          "base_uri": "https://localhost:8080/"
        },
        "id": "6_A_6RQTw0cj",
        "outputId": "e79f483a-758b-4e01-bf98-d804f2b2f2b6"
      },
      "outputs": [
        {
          "output_type": "stream",
          "name": "stdout",
          "text": [
            "(72, 9)\n",
            "(72,)\n"
          ]
        }
      ],
      "source": [
        "print(X_train_XGB.shape)\n",
        "\n",
        "print(y_training_XGB.shape)"
      ]
    },
    {
      "cell_type": "code",
      "execution_count": 52,
      "metadata": {
        "id": "Yga3suyMKJzw"
      },
      "outputs": [],
      "source": [
        "X_test = [] #final matrix with rows = one per patient, columns = variables valuest at review 1 and temporal evolution\n",
        "y_testing = []\n",
        "\n",
        "#run over each codigo externo => each patient\n",
        "for i,pat in enumerate(cd_test):\n",
        "    cols_name = []\n",
        "    #print(i)\n",
        "    x_aux = [] #individual row in the X matrix for a particular pat\n",
        "    \n",
        "    #create a mini df with for reviews\n",
        "    #print(x_train_XGB[\"Código Externo\"])\n",
        "    df_pat = x_test_XGB[x_test_XGB[\"Código Externo\"] == pat].copy()\n",
        "    \n",
        "    #order mini df according to Revision\n",
        "    df_pat.sort_values(by=[\"Revision\"],inplace= True)\n",
        "\n",
        "    #print(df_pat)\n",
        "    \n",
        "    #for each variable\n",
        "    feat_name = df_pat.columns[1:-1]\n",
        "    #print(feat_name)\n",
        "    \n",
        "    for var in feat_name:\n",
        "        #get the value for the first review\n",
        "        var_value_1 = df_pat[var][df_pat[\"Revision\"] == 1]\n",
        "        #print(var_value_1.values)\n",
        "        if var_value_1.values.size == 0:\n",
        "            #there are some blank rows, we just skip them\n",
        "            #print(df_pat[[\"Código Externo\",var]])\n",
        "            continue\n",
        "            \n",
        "        #store the value in the x_aux    \n",
        "        x_aux.append(var_value_1.values[0])\n",
        "        \n",
        "        #create the cols_name for the first pat only\n",
        "        if pat == \"126455\":\n",
        "            cols_name.append(var)\n",
        "        \n",
        "        #compute the linear regression model\n",
        "        \n",
        "        #review values for this var\n",
        "        var_review_values = df_pat[var].values\n",
        "        \n",
        "        #compute the actual coefficientes for the linear regresssion\n",
        "        revi = np.arange(1,len(var_review_values)+1)\n",
        "        coefs = lin_reg_model(revi,var_review_values-np.mean(var_review_values))\n",
        "        \n",
        "        \"\"\"\n",
        "        plt.figure()\n",
        "        plt.plot(revi,var_review_values)\n",
        "        xx = np.linspace(1,4,20)\n",
        "\n",
        "        XX = np.vstack((np.ones(xx.shape),xx,xx**2)).T\n",
        "        plt.plot(xx,XX.dot(coefs),'k--',label = 'real values')\n",
        "        plt.xlabel(var)\n",
        "        \"\"\"\n",
        "        \n",
        "        #store coefficients\n",
        "        #x_aux.append()\n",
        "        #print(len(coefs))\n",
        "        for c in coefs[1:]:\n",
        "            x_aux.append(c)\n",
        "            \n",
        "        cols_name.append(var)\n",
        "       # cols_name.append(var+'_1')\n",
        "        cols_name.append(var+'_2')\n",
        "        cols_name.append(var+'_3')\n",
        "        \n",
        "        \n",
        "        \n",
        "        #stick x_aux in X\n",
        "        \n",
        "    #print(len(x_aux))\n",
        "    \n",
        "    if len(x_aux)==0:\n",
        "        continue\n",
        "        \n",
        "    y_aux = y_test['label'][y_test['Código Externo'] == pat].values[0]   \n",
        "    \n",
        "    y_testing.append(y_aux)\n",
        "    X_test.append(x_aux)\n",
        "    "
      ]
    },
    {
      "cell_type": "code",
      "execution_count": 53,
      "metadata": {
        "colab": {
          "base_uri": "https://localhost:8080/"
        },
        "id": "1t-g5b7nKJzx",
        "outputId": "0c747ca4-592c-4ea6-88fe-8fdafd6b3ad2"
      },
      "outputs": [
        {
          "output_type": "stream",
          "name": "stdout",
          "text": [
            "(20, 9)\n",
            "(20,)\n"
          ]
        }
      ],
      "source": [
        "X_test_XGB = np.array(X_test)\n",
        "y_testing_XGB = np.array(y_testing)\n",
        "\n",
        "print(X_test_XGB.shape)\n",
        "print(y_testing_XGB.shape)"
      ]
    },
    {
      "cell_type": "code",
      "execution_count": 54,
      "metadata": {
        "id": "-kbFgEn_KJzx"
      },
      "outputs": [],
      "source": [
        "#Jorge ya tienes disponible X_train, y_training, X_test, y_testing para poder hacer el análisis completo"
      ]
    },
    {
      "cell_type": "code",
      "execution_count": 55,
      "metadata": {
        "id": "YItGdn25KJzx"
      },
      "outputs": [],
      "source": [
        "X_train_XGB = pd.DataFrame(X_train_XGB,columns = cols_name)\n",
        "X_test_XGB = pd.DataFrame(X_test_XGB,columns = cols_name)"
      ]
    },
    {
      "cell_type": "markdown",
      "metadata": {
        "id": "b0BmHhZ0Li2s"
      },
      "source": [
        "### 3.2 Optimización de los hiperparámetros usando RandomizedSearchCV"
      ]
    },
    {
      "cell_type": "code",
      "execution_count": 56,
      "metadata": {
        "id": "BHAN5Yve-9Ch"
      },
      "outputs": [],
      "source": [
        "#Indico que el clasificador que voy a utlizar es XGBosst\n",
        "\n",
        "xgb_model = xgb.XGBClassifier(use_label_encoder =False)"
      ]
    },
    {
      "cell_type": "markdown",
      "metadata": {
        "id": "lCpdvaAR-Nqa"
      },
      "source": [
        "Inicialmente creamos un diccionario de algunos parámetros a entrenar. Aquí las claves son básicamente los parámetros y los valores a entrenar. Así que el RandomizedSearchCV probará cada valor y encontrará el valor particular que da la mayor precisión."
      ]
    },
    {
      "cell_type": "code",
      "execution_count": 57,
      "metadata": {
        "id": "Klmci5LdABp_"
      },
      "outputs": [],
      "source": [
        "#Cuanto mayor sea gamma, más conservador será el algoritmo\n",
        "#min_child_weight: para controlar el sobreajuste, cuanto mayor sea min_child_weight, más conservador será el algoritmo\n",
        "\n",
        "params = {\n",
        " 'n_estimators' : [25,50,75,100,125,150,175,200,250,300,350,400],\n",
        " 'learning_rate' : [0.05,0.10,0.15,0.20,0.25,0.30],\n",
        " 'max_depth' : [3,4,5,6,8,10,12,15],\n",
        " 'gamma': [0.0,0.1,0.2,0.3,0.4],\n",
        " 'colsample_bytree' : [0.3,0.4,0.5,0.7]\n",
        "}\n",
        "\n"
      ]
    },
    {
      "cell_type": "markdown",
      "metadata": {
        "id": "Z_8hIRiEAqFu"
      },
      "source": [
        "A continuación, llamamos a RandomizedSearchCV() y le pasamos los siguientes parámetros"
      ]
    },
    {
      "cell_type": "code",
      "execution_count": 58,
      "metadata": {
        "colab": {
          "base_uri": "https://localhost:8080/"
        },
        "id": "Yn1rjjJAOVGq",
        "outputId": "0be85bfe-e9a8-4366-c976-b1795db8fa6d"
      },
      "outputs": [
        {
          "output_type": "execute_result",
          "data": {
            "text/plain": [
              "array([0, 0, 0, 1, 0, 0, 0, 0, 1, 0, 0, 0, 1, 0, 0, 0, 0, 1, 0, 1, 0, 0,\n",
              "       1, 0, 0, 0, 0, 1, 0, 0, 0, 0, 0, 0, 1, 0, 0, 1, 0, 0, 0, 0, 0, 0,\n",
              "       1, 0, 0, 1, 1, 1, 0, 0, 0, 0, 0, 0, 0, 0, 0, 0, 0, 0, 0, 0, 1, 0,\n",
              "       0, 0, 0, 0, 1, 1])"
            ]
          },
          "metadata": {},
          "execution_count": 58
        }
      ],
      "source": [
        "y_training_XGB"
      ]
    },
    {
      "cell_type": "code",
      "execution_count": 59,
      "metadata": {
        "colab": {
          "base_uri": "https://localhost:8080/"
        },
        "id": "3SHHuaOcAvQA",
        "outputId": "f49219f6-d5c3-434b-f87c-dd1fe7009ccf",
        "scrolled": false
      },
      "outputs": [
        {
          "output_type": "stream",
          "name": "stdout",
          "text": [
            "Fitting 5 folds for each of 5 candidates, totalling 25 fits\n"
          ]
        },
        {
          "output_type": "execute_result",
          "data": {
            "text/plain": [
              "RandomizedSearchCV(cv=5, estimator=XGBClassifier(use_label_encoder=False),\n",
              "                   n_iter=5, n_jobs=-1,\n",
              "                   param_distributions={'colsample_bytree': [0.3, 0.4, 0.5,\n",
              "                                                             0.7],\n",
              "                                        'gamma': [0.0, 0.1, 0.2, 0.3, 0.4],\n",
              "                                        'learning_rate': [0.05, 0.1, 0.15, 0.2,\n",
              "                                                          0.25, 0.3],\n",
              "                                        'max_depth': [3, 4, 5, 6, 8, 10, 12,\n",
              "                                                      15],\n",
              "                                        'n_estimators': [25, 50, 75, 100, 125,\n",
              "                                                         150, 175, 200, 250,\n",
              "                                                         300, 350, 400]},\n",
              "                   random_state=2, scoring='roc_auc', verbose=3)"
            ]
          },
          "metadata": {},
          "execution_count": 59
        }
      ],
      "source": [
        "#verbose = genera mensajes durante el entramiento del modelo 'Fitting 5 folds...'\n",
        "\n",
        "#roc_auc = curva AUC-ROC es la métrica de selección del modelo para el problema de clasificación \n",
        "#de dos clases múltiples.ROC nos dice qué tan bueno es el modelo para distinguir las clases dadas, \n",
        "#en términos de la probabilidad predicha.\n",
        "\n",
        "#n_jobs = número de nucleos que se utilizan (-1 quiere decir que se utilizan todos)\n",
        "\n",
        "r_s_model = RandomizedSearchCV(xgb_model , param_distributions=params, n_iter=5, \n",
        "                               scoring='roc_auc',n_jobs=-1,cv=5,verbose=3,random_state = 2)\n",
        "r_s_model.fit(X_train_XGB, y_training_XGB)"
      ]
    },
    {
      "cell_type": "markdown",
      "metadata": {
        "id": "PwHr_OxHCJBY"
      },
      "source": [
        "Bien, nuestro modelo ha sido ajustado. Veamos ahora todos los parámetros que han sido seleccionados por el RandomizedSearch() para el XGBClassifier. Podemos hacerlo con la ayuda del método best_estimators_."
      ]
    },
    {
      "cell_type": "code",
      "execution_count": 60,
      "metadata": {
        "colab": {
          "base_uri": "https://localhost:8080/"
        },
        "id": "rXz112xuCL9x",
        "outputId": "b51ce646-556d-41f2-cff7-f21f26f711a1"
      },
      "outputs": [
        {
          "output_type": "execute_result",
          "data": {
            "text/plain": [
              "XGBClassifier(colsample_bytree=0.3, gamma=0.4, learning_rate=0.15, max_depth=12,\n",
              "              n_estimators=200, use_label_encoder=False)"
            ]
          },
          "metadata": {},
          "execution_count": 60
        }
      ],
      "source": [
        "r_s_model.best_estimator_"
      ]
    },
    {
      "cell_type": "markdown",
      "metadata": {
        "id": "OSJUkKA6HaQT"
      },
      "source": [
        "Una vez conozco los valores de hiperparámetros, vuelvo a buscar la optimización de los mismos, pero esta vez afinando más."
      ]
    },
    {
      "cell_type": "code",
      "execution_count": 61,
      "metadata": {
        "id": "NyURH0MLHYip"
      },
      "outputs": [],
      "source": [
        "#Cuanto mayor sea gamma, más conservador será el algoritmo\n",
        "#min_child_weight: para controlar el sobreajuste, cuanto mayor sea min_child_weight, más conservador será el algoritmo\n",
        "\n",
        "params = {\n",
        " 'n_estimators' : [110,115,120,125,130,135,140,145],\n",
        " 'learning_rate' : [0.19,0.21,0.23,0.25,0.27,0.29,0.31],\n",
        " 'max_depth' : [1,2,3,4,5,6,7,8,9,10],\n",
        " 'gamma': [0.16,0.18,0.2,0.22,0.24,0.26],\n",
        " 'colsample_bytree' : [0.44,0.46,0.48,0.5,0.52,0.54,0.56]\n",
        "}"
      ]
    },
    {
      "cell_type": "code",
      "execution_count": 62,
      "metadata": {
        "colab": {
          "base_uri": "https://localhost:8080/"
        },
        "id": "6o2OeCTvIkWi",
        "outputId": "5ad05b50-fa46-4808-a436-25743d16a62a",
        "scrolled": false
      },
      "outputs": [
        {
          "output_type": "stream",
          "name": "stdout",
          "text": [
            "Fitting 5 folds for each of 5 candidates, totalling 25 fits\n"
          ]
        },
        {
          "output_type": "execute_result",
          "data": {
            "text/plain": [
              "RandomizedSearchCV(cv=5, estimator=XGBClassifier(use_label_encoder=False),\n",
              "                   n_iter=5, n_jobs=-1,\n",
              "                   param_distributions={'colsample_bytree': [0.44, 0.46, 0.48,\n",
              "                                                             0.5, 0.52, 0.54,\n",
              "                                                             0.56],\n",
              "                                        'gamma': [0.16, 0.18, 0.2, 0.22, 0.24,\n",
              "                                                  0.26],\n",
              "                                        'learning_rate': [0.19, 0.21, 0.23,\n",
              "                                                          0.25, 0.27, 0.29,\n",
              "                                                          0.31],\n",
              "                                        'max_depth': [1, 2, 3, 4, 5, 6, 7, 8, 9,\n",
              "                                                      10],\n",
              "                                        'n_estimators': [110, 115, 120, 125,\n",
              "                                                         130, 135, 140, 145]},\n",
              "                   random_state=2, scoring='roc_auc', verbose=3)"
            ]
          },
          "metadata": {},
          "execution_count": 62
        }
      ],
      "source": [
        "#verbose = genera mensajes durante el entramiento del modelo 'Fitting 5 folds...'\n",
        "\n",
        "#roc_auc = curva AUC-ROC es la métrica de selección del modelo para el problema de clasificación \n",
        "#de dos clases múltiples.ROC nos dice qué tan bueno es el modelo para distinguir las clases dadas, \n",
        "#en términos de la probabilidad predicha.\n",
        "\n",
        "#n_jobs = número de nucleos que se utilizan (-1 quiere decir que se utilizan todos)\n",
        "\n",
        "r_s_model = RandomizedSearchCV(xgb_model , param_distributions=params, n_iter=5, \n",
        "                               scoring='roc_auc',n_jobs=-1,cv=5,verbose=3,random_state = 2)\n",
        "r_s_model.fit(X_train_XGB, y_training_XGB)"
      ]
    },
    {
      "cell_type": "code",
      "execution_count": 63,
      "metadata": {
        "colab": {
          "base_uri": "https://localhost:8080/"
        },
        "id": "J8GzmVZNIm0X",
        "outputId": "48e04e39-6dbd-45ab-9bdc-3387c7d553a4"
      },
      "outputs": [
        {
          "output_type": "execute_result",
          "data": {
            "text/plain": [
              "XGBClassifier(colsample_bytree=0.44, gamma=0.18, learning_rate=0.31,\n",
              "              max_depth=8, n_estimators=125, use_label_encoder=False)"
            ]
          },
          "metadata": {},
          "execution_count": 63
        }
      ],
      "source": [
        "r_s_model.best_estimator_"
      ]
    },
    {
      "cell_type": "code",
      "source": [
        "xgb_model.fit(X_train_XGB, y_training_XGB)"
      ],
      "metadata": {
        "id": "4wbljUB30tBt",
        "outputId": "b8290e18-387a-4eba-eb40-7d395ef248d9",
        "colab": {
          "base_uri": "https://localhost:8080/"
        }
      },
      "execution_count": 64,
      "outputs": [
        {
          "output_type": "execute_result",
          "data": {
            "text/plain": [
              "XGBClassifier(use_label_encoder=False)"
            ]
          },
          "metadata": {},
          "execution_count": 64
        }
      ]
    },
    {
      "cell_type": "markdown",
      "metadata": {
        "id": "N2Ic4559fxkF"
      },
      "source": [
        "## 1.4 Rendimiento con FS en el conjunto de test"
      ]
    },
    {
      "cell_type": "code",
      "execution_count": 65,
      "metadata": {
        "colab": {
          "base_uri": "https://localhost:8080/"
        },
        "id": "B1OHoycnkr11",
        "outputId": "6843fe96-c889-45f9-e8da-6f180d1dc9bb"
      },
      "outputs": [
        {
          "output_type": "execute_result",
          "data": {
            "text/plain": [
              "XGBClassifier(colsample_bytree=0.44, gamma=0.18, learning_rate=0.31,\n",
              "              max_depth=8, n_estimators=125)"
            ]
          },
          "metadata": {},
          "execution_count": 65
        }
      ],
      "source": [
        "xgb_FS = xgb.XGBClassifier(colsample_bytree=0.44, gamma=0.18, learning_rate=0.31,\n",
        "              max_depth=8, n_estimators=125)\n",
        "xgb_FS.fit(X_train_XGB, y_training_XGB)"
      ]
    },
    {
      "cell_type": "code",
      "execution_count": 66,
      "metadata": {
        "colab": {
          "base_uri": "https://localhost:8080/",
          "height": 175
        },
        "id": "bIYve4K_eYNf",
        "outputId": "03453d27-5f60-47e3-b613-8da01eb7f0f7"
      },
      "outputs": [
        {
          "output_type": "execute_result",
          "data": {
            "text/plain": [
              "  Prestaciones en test  XGBoost total\n",
              "0             Accuracy       0.900000\n",
              "1          Sensitivity       0.333333\n",
              "2          Specificity       1.000000\n",
              "3              AUC ROC       0.666667"
            ],
            "text/html": [
              "\n",
              "  <div id=\"df-edcd97d7-66a4-413d-af8b-7d4e966a1285\">\n",
              "    <div class=\"colab-df-container\">\n",
              "      <div>\n",
              "<style scoped>\n",
              "    .dataframe tbody tr th:only-of-type {\n",
              "        vertical-align: middle;\n",
              "    }\n",
              "\n",
              "    .dataframe tbody tr th {\n",
              "        vertical-align: top;\n",
              "    }\n",
              "\n",
              "    .dataframe thead th {\n",
              "        text-align: right;\n",
              "    }\n",
              "</style>\n",
              "<table border=\"1\" class=\"dataframe\">\n",
              "  <thead>\n",
              "    <tr style=\"text-align: right;\">\n",
              "      <th></th>\n",
              "      <th>Prestaciones en test</th>\n",
              "      <th>XGBoost total</th>\n",
              "    </tr>\n",
              "  </thead>\n",
              "  <tbody>\n",
              "    <tr>\n",
              "      <th>0</th>\n",
              "      <td>Accuracy</td>\n",
              "      <td>0.900000</td>\n",
              "    </tr>\n",
              "    <tr>\n",
              "      <th>1</th>\n",
              "      <td>Sensitivity</td>\n",
              "      <td>0.333333</td>\n",
              "    </tr>\n",
              "    <tr>\n",
              "      <th>2</th>\n",
              "      <td>Specificity</td>\n",
              "      <td>1.000000</td>\n",
              "    </tr>\n",
              "    <tr>\n",
              "      <th>3</th>\n",
              "      <td>AUC ROC</td>\n",
              "      <td>0.666667</td>\n",
              "    </tr>\n",
              "  </tbody>\n",
              "</table>\n",
              "</div>\n",
              "      <button class=\"colab-df-convert\" onclick=\"convertToInteractive('df-edcd97d7-66a4-413d-af8b-7d4e966a1285')\"\n",
              "              title=\"Convert this dataframe to an interactive table.\"\n",
              "              style=\"display:none;\">\n",
              "        \n",
              "  <svg xmlns=\"http://www.w3.org/2000/svg\" height=\"24px\"viewBox=\"0 0 24 24\"\n",
              "       width=\"24px\">\n",
              "    <path d=\"M0 0h24v24H0V0z\" fill=\"none\"/>\n",
              "    <path d=\"M18.56 5.44l.94 2.06.94-2.06 2.06-.94-2.06-.94-.94-2.06-.94 2.06-2.06.94zm-11 1L8.5 8.5l.94-2.06 2.06-.94-2.06-.94L8.5 2.5l-.94 2.06-2.06.94zm10 10l.94 2.06.94-2.06 2.06-.94-2.06-.94-.94-2.06-.94 2.06-2.06.94z\"/><path d=\"M17.41 7.96l-1.37-1.37c-.4-.4-.92-.59-1.43-.59-.52 0-1.04.2-1.43.59L10.3 9.45l-7.72 7.72c-.78.78-.78 2.05 0 2.83L4 21.41c.39.39.9.59 1.41.59.51 0 1.02-.2 1.41-.59l7.78-7.78 2.81-2.81c.8-.78.8-2.07 0-2.86zM5.41 20L4 18.59l7.72-7.72 1.47 1.35L5.41 20z\"/>\n",
              "  </svg>\n",
              "      </button>\n",
              "      \n",
              "  <style>\n",
              "    .colab-df-container {\n",
              "      display:flex;\n",
              "      flex-wrap:wrap;\n",
              "      gap: 12px;\n",
              "    }\n",
              "\n",
              "    .colab-df-convert {\n",
              "      background-color: #E8F0FE;\n",
              "      border: none;\n",
              "      border-radius: 50%;\n",
              "      cursor: pointer;\n",
              "      display: none;\n",
              "      fill: #1967D2;\n",
              "      height: 32px;\n",
              "      padding: 0 0 0 0;\n",
              "      width: 32px;\n",
              "    }\n",
              "\n",
              "    .colab-df-convert:hover {\n",
              "      background-color: #E2EBFA;\n",
              "      box-shadow: 0px 1px 2px rgba(60, 64, 67, 0.3), 0px 1px 3px 1px rgba(60, 64, 67, 0.15);\n",
              "      fill: #174EA6;\n",
              "    }\n",
              "\n",
              "    [theme=dark] .colab-df-convert {\n",
              "      background-color: #3B4455;\n",
              "      fill: #D2E3FC;\n",
              "    }\n",
              "\n",
              "    [theme=dark] .colab-df-convert:hover {\n",
              "      background-color: #434B5C;\n",
              "      box-shadow: 0px 1px 3px 1px rgba(0, 0, 0, 0.15);\n",
              "      filter: drop-shadow(0px 1px 2px rgba(0, 0, 0, 0.3));\n",
              "      fill: #FFFFFF;\n",
              "    }\n",
              "  </style>\n",
              "\n",
              "      <script>\n",
              "        const buttonEl =\n",
              "          document.querySelector('#df-edcd97d7-66a4-413d-af8b-7d4e966a1285 button.colab-df-convert');\n",
              "        buttonEl.style.display =\n",
              "          google.colab.kernel.accessAllowed ? 'block' : 'none';\n",
              "\n",
              "        async function convertToInteractive(key) {\n",
              "          const element = document.querySelector('#df-edcd97d7-66a4-413d-af8b-7d4e966a1285');\n",
              "          const dataTable =\n",
              "            await google.colab.kernel.invokeFunction('convertToInteractive',\n",
              "                                                     [key], {});\n",
              "          if (!dataTable) return;\n",
              "\n",
              "          const docLinkHtml = 'Like what you see? Visit the ' +\n",
              "            '<a target=\"_blank\" href=https://colab.research.google.com/notebooks/data_table.ipynb>data table notebook</a>'\n",
              "            + ' to learn more about interactive tables.';\n",
              "          element.innerHTML = '';\n",
              "          dataTable['output_type'] = 'display_data';\n",
              "          await google.colab.output.renderOutput(dataTable, element);\n",
              "          const docLink = document.createElement('div');\n",
              "          docLink.innerHTML = docLinkHtml;\n",
              "          element.appendChild(docLink);\n",
              "        }\n",
              "      </script>\n",
              "    </div>\n",
              "  </div>\n",
              "  "
            ]
          },
          "metadata": {},
          "execution_count": 66
        }
      ],
      "source": [
        "from sklearn.metrics import roc_auc_score\n",
        "\n",
        "\n",
        "\n",
        "#Todas las características\n",
        "y_pred_tot = xgb_model.predict(X_test_XGB)\n",
        "acc_tot = accuracy_score(y_testing_XGB, y_pred_tot)\n",
        "sensibilidad_tot = recall_score(y_testing_XGB, y_pred_tot)\n",
        "#precision_tot=precision_score(y_test, y_pred_tot)\n",
        "specificity_tot = confusion_matrix(y_testing_XGB, y_pred_tot)[0][0]/(confusion_matrix(y_testing_XGB, y_pred_tot)[0][0]+confusion_matrix(y_testing_XGB, y_pred_tot)[0][1])\n",
        "auc_tot = roc_auc_score(y_testing_XGB, y_pred_tot)\n",
        "\n",
        "\n",
        "\n",
        "Tabla_xgb = pd.DataFrame({\"Prestaciones en test\":[\"Accuracy\",\"Sensitivity\",'Specificity',\"AUC ROC\"],\n",
        "                          \"XGBoost total\" : [acc_tot, sensibilidad_tot, specificity_tot, auc_tot]})\n",
        "Tabla_xgb"
      ]
    },
    {
      "cell_type": "code",
      "execution_count": 67,
      "metadata": {
        "id": "h4yngAoGR3pp",
        "colab": {
          "base_uri": "https://localhost:8080/",
          "height": 367
        },
        "outputId": "78f09480-7277-45d3-d277-eedab4e97c28"
      },
      "outputs": [
        {
          "output_type": "stream",
          "name": "stderr",
          "text": [
            "/usr/local/lib/python3.7/dist-packages/sklearn/utils/deprecation.py:87: FutureWarning: Function plot_confusion_matrix is deprecated; Function `plot_confusion_matrix` is deprecated in 1.0 and will be removed in 1.2. Use one of the class methods: ConfusionMatrixDisplay.from_predictions or ConfusionMatrixDisplay.from_estimator.\n",
            "  warnings.warn(msg, category=FutureWarning)\n"
          ]
        },
        {
          "output_type": "execute_result",
          "data": {
            "text/plain": [
              "Text(0.5, 1.0, 'XGBoost 3 features')"
            ]
          },
          "metadata": {},
          "execution_count": 67
        },
        {
          "output_type": "display_data",
          "data": {
            "text/plain": [
              "<Figure size 432x288 with 2 Axes>"
            ],
            "image/png": "[encoded data removed]"
          },
          "metadata": {
            "needs_background": "light"
          }
        }
      ],
      "source": [
        "from sklearn.metrics import plot_confusion_matrix\n",
        "\n",
        "#XGBoost all features\n",
        "plot_confusion_matrix(xgb_model, X_test_XGB, y_testing_XGB, display_labels=[\"Sin gravedad\",\"Con gravedad\"],\n",
        "                                 cmap=plt.cm.Blues)\n",
        "plt.title(\"XGBoost 3 features\")\n"
      ]
    },
    {
      "cell_type": "markdown",
      "metadata": {
        "id": "U7f0aU_xsdlW"
      },
      "source": [
        "tenemos muy pocos datos no sanos, así que vamos a intentar hacer un análisis de bootstrap"
      ]
    },
    {
      "cell_type": "code",
      "execution_count": 68,
      "metadata": {
        "scrolled": true,
        "id": "ZCJRbYArsdlW",
        "outputId": "e105575d-c955-4608-a509-325fac76f3fb",
        "colab": {
          "base_uri": "https://localhost:8080/",
          "height": 140
        }
      },
      "outputs": [
        {
          "output_type": "execute_result",
          "data": {
            "text/plain": [
              "'\\nimport random\\n\\nB = 2000\\nacc = []\\nsens = []\\nspe = []\\nauc = []\\ntn_t = []\\nfp_t = []\\nfn_t = []\\ntp_t = []\\nnp.random.seed(1947)\\nfor i in range(B):\\n    #sampling from X_test and y_testing\\n    print(i)\\n    \\n    idx_b = np.random.randint(len(y_testing), size=len(y_testing))\\n    #print(idx_b)\\n    X_test_B = X_test.iloc[idx_b,:]\\n    y_test_b = y_testing[idx_b]\\n    \\n    #Todas las características\\n    y_pred_b = xgb_model.predict(X_test_B)\\n    acc_tot = accuracy_score(y_test_b, y_pred_b)\\n    sensibilidad_tot = recall_score(y_test_b, y_pred_b)\\n    #precision_tot=precision_score(y_test, y_pred_tot)\\n    if len(confusion_matrix(y_test_b, y_pred_b).ravel()) == 1:\\n        if np.sum(y_test_b) == 0 and np.sum(y_pred_b) == 0:\\n            specificity_tot = 1\\n            tn = len(y_test_b)\\n            fp = 0\\n            fn = 0\\n            tp = 0\\n            continue\\n            \\n    tn, fp, fn, tp = confusion_matrix(y_test_b, y_pred_b).ravel()\\n    #print(tn,fp,fn,tp)\\n    #sensibilidad_tot = tp / (tp+fn)\\n    specificity_tot = tn / (tn+fp)\\n    #confusion_matrix(y_test_b, y_pred_b)[0][0]/(confusion_matrix(y_test_b, y_pred_b)[0][0]+confusion_matrix(y_test_b, y_pred_b)[0][1])\\n    #auc_tot = roc_auc_score(y_test_b, y_pred_b)\\n    \\n    acc.append(acc_tot)\\n    sens.append(sensibilidad_tot)\\n    spe.append(specificity_tot)\\n    tn_t.append(tn)\\n    fn_t.append(fn)\\n    tp_t.append(tp)\\n    fp_t.append(fp)\\n    #auc.append(auc_tot)\\n\\n\\n'"
            ],
            "application/vnd.google.colaboratory.intrinsic+json": {
              "type": "string"
            }
          },
          "metadata": {},
          "execution_count": 68
        }
      ],
      "source": [
        "\"\"\"\n",
        "import random\n",
        "\n",
        "B = 2000\n",
        "acc = []\n",
        "sens = []\n",
        "spe = []\n",
        "auc = []\n",
        "tn_t = []\n",
        "fp_t = []\n",
        "fn_t = []\n",
        "tp_t = []\n",
        "np.random.seed(1947)\n",
        "for i in range(B):\n",
        "    #sampling from X_test and y_testing\n",
        "    print(i)\n",
        "    \n",
        "    idx_b = np.random.randint(len(y_testing), size=len(y_testing))\n",
        "    #print(idx_b)\n",
        "    X_test_B = X_test.iloc[idx_b,:]\n",
        "    y_test_b = y_testing[idx_b]\n",
        "    \n",
        "    #Todas las características\n",
        "    y_pred_b = xgb_model.predict(X_test_B)\n",
        "    acc_tot = accuracy_score(y_test_b, y_pred_b)\n",
        "    sensibilidad_tot = recall_score(y_test_b, y_pred_b)\n",
        "    #precision_tot=precision_score(y_test, y_pred_tot)\n",
        "    if len(confusion_matrix(y_test_b, y_pred_b).ravel()) == 1:\n",
        "        if np.sum(y_test_b) == 0 and np.sum(y_pred_b) == 0:\n",
        "            specificity_tot = 1\n",
        "            tn = len(y_test_b)\n",
        "            fp = 0\n",
        "            fn = 0\n",
        "            tp = 0\n",
        "            continue\n",
        "            \n",
        "    tn, fp, fn, tp = confusion_matrix(y_test_b, y_pred_b).ravel()\n",
        "    #print(tn,fp,fn,tp)\n",
        "    #sensibilidad_tot = tp / (tp+fn)\n",
        "    specificity_tot = tn / (tn+fp)\n",
        "    #confusion_matrix(y_test_b, y_pred_b)[0][0]/(confusion_matrix(y_test_b, y_pred_b)[0][0]+confusion_matrix(y_test_b, y_pred_b)[0][1])\n",
        "    #auc_tot = roc_auc_score(y_test_b, y_pred_b)\n",
        "    \n",
        "    acc.append(acc_tot)\n",
        "    sens.append(sensibilidad_tot)\n",
        "    spe.append(specificity_tot)\n",
        "    tn_t.append(tn)\n",
        "    fn_t.append(fn)\n",
        "    tp_t.append(tp)\n",
        "    fp_t.append(fp)\n",
        "    #auc.append(auc_tot)\n",
        "\n",
        "\n",
        "\"\"\"\n"
      ]
    },
    {
      "cell_type": "markdown",
      "metadata": {
        "id": "XXjpBigeVV1p"
      },
      "source": [
        "Tabla_xgb = pd.DataFrame({\"Prestaciones en test\":[\"Accuracy\",\"Sensitivity\",'Specificity',\"AUC ROC\"],\n",
        "                          \"XGBoost total\" : [acc_tot, sensibilidad_tot, specificity_tot, auc_tot]})\n",
        "Tabla_xgb "
      ]
    },
    {
      "cell_type": "code",
      "execution_count": 69,
      "metadata": {
        "id": "Al3u_yNLsdlY",
        "outputId": "6eb4b122-6c74-4f6d-e320-ae08da446634",
        "colab": {
          "base_uri": "https://localhost:8080/",
          "height": 36
        }
      },
      "outputs": [
        {
          "output_type": "execute_result",
          "data": {
            "text/plain": [
              "'\\nprint(np.mean(sens),np.std(sens))\\n\\n'"
            ],
            "application/vnd.google.colaboratory.intrinsic+json": {
              "type": "string"
            }
          },
          "metadata": {},
          "execution_count": 69
        }
      ],
      "source": [
        "\"\"\"\n",
        "print(np.mean(sens),np.std(sens))\n",
        "\n",
        "\"\"\""
      ]
    },
    {
      "cell_type": "code",
      "execution_count": 70,
      "metadata": {
        "id": "JXfOdKB0sdlY",
        "outputId": "d97524bf-b979-4231-c343-218684d72033",
        "colab": {
          "base_uri": "https://localhost:8080/",
          "height": 88
        }
      },
      "outputs": [
        {
          "output_type": "execute_result",
          "data": {
            "text/plain": [
              "\"\\nimport seaborn as sns\\n\\ncf_matrix = [[np.mean(tn_t),np.mean(fp_t)],[np.mean(fn_t),np.mean(tp_t)]]\\nax = sns.heatmap(cf_matrix, annot=True, cmap='Blues')\\n\\nax.set_title('Seaborn Confusion Matrix with labels\\n\\n');\\nax.set_xlabel('\\nPredicted Values')\\nax.set_ylabel('Actual Values ');\\n\\n## Ticket labels - List must be in alphabetical order\\nax.xaxis.set_ticklabels(['False','True'])\\nax.yaxis.set_ticklabels(['False','True'])\\n\\n## Display the visualization of the Confusion Matrix.\\nplt.show()\\n\\n\""
            ],
            "application/vnd.google.colaboratory.intrinsic+json": {
              "type": "string"
            }
          },
          "metadata": {},
          "execution_count": 70
        }
      ],
      "source": [
        "\"\"\"\n",
        "import seaborn as sns\n",
        "\n",
        "cf_matrix = [[np.mean(tn_t),np.mean(fp_t)],[np.mean(fn_t),np.mean(tp_t)]]\n",
        "ax = sns.heatmap(cf_matrix, annot=True, cmap='Blues')\n",
        "\n",
        "ax.set_title('Seaborn Confusion Matrix with labels\\n\\n');\n",
        "ax.set_xlabel('\\nPredicted Values')\n",
        "ax.set_ylabel('Actual Values ');\n",
        "\n",
        "## Ticket labels - List must be in alphabetical order\n",
        "ax.xaxis.set_ticklabels(['False','True'])\n",
        "ax.yaxis.set_ticklabels(['False','True'])\n",
        "\n",
        "## Display the visualization of the Confusion Matrix.\n",
        "plt.show()\n",
        "\n",
        "\"\"\""
      ]
    },
    {
      "cell_type": "code",
      "execution_count": 71,
      "metadata": {
        "id": "yJe07H9TsdlZ",
        "outputId": "120f6842-e99a-4739-db50-9edf93c1efab",
        "colab": {
          "base_uri": "https://localhost:8080/",
          "height": 36
        }
      },
      "outputs": [
        {
          "output_type": "execute_result",
          "data": {
            "text/plain": [
              "'print(tn_t)'"
            ],
            "application/vnd.google.colaboratory.intrinsic+json": {
              "type": "string"
            }
          },
          "metadata": {},
          "execution_count": 71
        }
      ],
      "source": [
        "\"\"\"print(tn_t)\"\"\""
      ]
    },
    {
      "cell_type": "markdown",
      "metadata": {
        "id": "1GfHs4G1wrg-"
      },
      "source": [
        "# 3. Gradient Boosting\n",
        "\n",
        "Comienzo seleccionando únicamente los parámetros que elgió el método GBoost"
      ]
    },
    {
      "cell_type": "code",
      "source": [
        "from sklearn.datasets import make_hastie_10_2\n",
        "from sklearn.ensemble import GradientBoostingClassifier\n",
        "\n",
        "import numpy as np\n",
        "\n",
        "from scipy.stats import uniform, randint\n",
        "\n",
        "from sklearn.datasets import load_breast_cancer, load_diabetes, load_wine\n",
        "from sklearn.metrics import auc, accuracy_score, confusion_matrix, mean_squared_error, roc_auc_score\n",
        "from sklearn.model_selection import cross_val_score, GridSearchCV, KFold, RandomizedSearchCV, train_test_split"
      ],
      "metadata": {
        "id": "QUpaozKtwzso"
      },
      "execution_count": 72,
      "outputs": []
    },
    {
      "cell_type": "code",
      "execution_count": 73,
      "metadata": {
        "id": "RJcQpAn2xH6W"
      },
      "outputs": [],
      "source": [
        "### AHORA TENGO QUE PONER AQUI LAS VARIABLES QUE HA ELEGIDO FINALMENTE EL MODELO GBOOST\n",
        "x_train_GB = x_train_aux[['Código Externo','MO-Y', 'NEUGI','Revision']].copy()\n",
        "x_test_GB = x_test[['Código Externo','MO-Y', 'NEUGI','Revision']].copy()"
      ]
    },
    {
      "cell_type": "markdown",
      "metadata": {
        "id": "5inIug7Rx3H0"
      },
      "source": [
        "### 3.1 Búsqueda de coeficientes (REGRESION LINEAL)\n",
        "\n",
        "Vamos a realizar un análisis de tendencias para cada variable de forma poblacional. También usaremos este análisis de tendencias de forma individual para cada paciente, de forma que se pueda incorporar la información dinámica que genera dentro del modelo de predicción basado en machine learning.\n",
        "\n",
        "Vamos a generar la función que obtiene el modelo de regresión lineal. El modelo que planteamos es un polinomio de segundo orden:\n",
        "\n",
        "$y = a + bx + cx^2$ ;\n",
        "\n",
        "donde la x corresponde al número de revisión."
      ]
    },
    {
      "cell_type": "code",
      "source": [
        "x_train_GB[\"Código Externo\"] = x_train_GB[\"Código Externo\"].astype(int)"
      ],
      "metadata": {
        "id": "0Sny6VOtxPmY"
      },
      "execution_count": 74,
      "outputs": []
    },
    {
      "cell_type": "code",
      "execution_count": 75,
      "metadata": {
        "scrolled": false,
        "id": "x-CJJMJWyGGg"
      },
      "outputs": [],
      "source": [
        "X_training = [] #final matrix with rows = one per patient, columns = variables valuest at review 1 and temporal evolution\n",
        "y_training = []\n",
        "\n",
        "\n",
        "\n",
        "#run over each codigo externo => each patient\n",
        "for i,pat in enumerate(cd_train): #JA, añade un contador a cada uno de los elementos iterables,(1,4234)(2,8259)\n",
        "    cols_name = []\n",
        "    #print(i)\n",
        "    x_aux = [] #individual row in the X matrix for a particular pat\n",
        "    \n",
        "    #create a mini df with for reviews\n",
        "    #print(x_train_XGB[\"Código Externo\"])\n",
        "    df_pat = x_train_GB[x_train_GB[\"Código Externo\"] == pat].copy()\n",
        "    \n",
        "    #order mini df according to Revision\n",
        "    df_pat.sort_values(by=[\"Revision\"],inplace= True) # JA, esto ya está implementado anteriormente\n",
        "\n",
        "    #print(df_pat)\n",
        "    \n",
        "    #for each variable\n",
        "    feat_name = df_pat.columns[1:-1] # JA, cojo las columnas de la segunda a la penúltima de tal manera que me \n",
        "                                    # quito las columnas 'Código Externo' y 'label'\n",
        "    #\n",
        "    #print(feat_name)\n",
        "    \n",
        "    for var in feat_name:\n",
        "        #get the value for the first review\n",
        "        var_value_1 = df_pat[var][df_pat[\"Revision\"] == 1] # JA, cojo el valor de la primera revisión de un paciente\n",
        "                                                            # de una variable en concreto\n",
        "        #print(var_value_1.values)\n",
        "        if var_value_1.values.size == 0:\n",
        "            #there are some blank rows, we just skip them\n",
        "            #print(df_pat[[\"Código Externo\",var]])\n",
        "            continue\n",
        "            \n",
        "        #store the value in the x_aux    \n",
        "        x_aux.append(var_value_1.values[0])\n",
        "        \n",
        "        #create the cols_name for the first pat only\n",
        "        if pat == \"126455\":\n",
        "            cols_name.append(var)\n",
        "        \n",
        "        #compute the linear regression model\n",
        "        \n",
        "        #review values for this var\n",
        "        var_review_values = df_pat[var].values\n",
        "        \n",
        "        #compute the actual coefficientes for the linear regresssion\n",
        "        revi = np.arange(1,len(var_review_values)+1)\n",
        "        \n",
        "        #vamos a centrar los valores de las revisiones para evitar utilizar coeficiente de media, y sólo tener las tendencias\n",
        "        coefs = lin_reg_model(revi,var_review_values-np.mean(var_review_values))\n",
        "        \n",
        "        \"\"\"\n",
        "        plt.figure()\n",
        "        plt.plot(revi,var_review_values)\n",
        "        xx = np.linspace(1,4,20)\n",
        "\n",
        "        XX = np.vstack((np.ones(xx.shape),xx,xx**2)).T\n",
        "        plt.plot(xx,XX.dot(coefs),'k--',label = 'real values')\n",
        "        plt.xlabel(var)\n",
        "        \"\"\"\n",
        "        \n",
        "        #store coefficients\n",
        "        #x_aux.append()\n",
        "        #print(len(coefs))\n",
        "        for c in coefs[1:]:\n",
        "            x_aux.append(c)\n",
        "            \n",
        "        cols_name.append(var)\n",
        "        #cols_name.append(var+'_1')\n",
        "        cols_name.append(var+'_2')\n",
        "        cols_name.append(var+'_3')\n",
        "        \n",
        "        \n",
        "        \n",
        "        #stick x_aux in X\n",
        "        \n",
        "    #print(len(x_aux))\n",
        "    \n",
        "    if len(x_aux)==0:\n",
        "        continue\n",
        "        \n",
        "    y_aux = y_train['label'][y_train['Código Externo'] == pat].values[0]   \n",
        "    \n",
        "    y_training.append(y_aux)\n",
        "    X_training.append(x_aux)\n",
        "    "
      ]
    },
    {
      "cell_type": "code",
      "execution_count": 76,
      "metadata": {
        "scrolled": false,
        "id": "cah7PlusyOki"
      },
      "outputs": [],
      "source": [
        "X_train_GB = np.array(X_training)\n",
        "y_training_GB = np.array(y_training)"
      ]
    },
    {
      "cell_type": "code",
      "execution_count": 77,
      "metadata": {
        "colab": {
          "base_uri": "https://localhost:8080/"
        },
        "outputId": "fee6bc42-8409-4b38-d3b8-3a5add6a0e8f",
        "id": "8R9lJXv2yTmL"
      },
      "outputs": [
        {
          "output_type": "stream",
          "name": "stdout",
          "text": [
            "(72, 6)\n",
            "(72,)\n"
          ]
        }
      ],
      "source": [
        "print(X_train_GB.shape)\n",
        "\n",
        "print(y_training_GB.shape)"
      ]
    },
    {
      "cell_type": "code",
      "execution_count": 78,
      "metadata": {
        "id": "ZakZ9FbwyWyJ"
      },
      "outputs": [],
      "source": [
        "X_test = [] #final matrix with rows = one per patient, columns = variables valuest at review 1 and temporal evolution\n",
        "y_testing = []\n",
        "\n",
        "#run over each codigo externo => each patient\n",
        "for i,pat in enumerate(cd_test):\n",
        "    cols_name = []\n",
        "    #print(i)\n",
        "    x_aux = [] #individual row in the X matrix for a particular pat\n",
        "    \n",
        "    #create a mini df with for reviews\n",
        "    #print(x_train_XGB[\"Código Externo\"])\n",
        "    df_pat = x_test_GB[x_test_GB[\"Código Externo\"] == pat].copy()\n",
        "    \n",
        "    #order mini df according to Revision\n",
        "    df_pat.sort_values(by=[\"Revision\"],inplace= True)\n",
        "\n",
        "    #print(df_pat)\n",
        "    \n",
        "    #for each variable\n",
        "    feat_name = df_pat.columns[1:-1]\n",
        "    #print(feat_name)\n",
        "    \n",
        "    for var in feat_name:\n",
        "        #get the value for the first review\n",
        "        var_value_1 = df_pat[var][df_pat[\"Revision\"] == 1]\n",
        "        #print(var_value_1.values)\n",
        "        if var_value_1.values.size == 0:\n",
        "            #there are some blank rows, we just skip them\n",
        "            #print(df_pat[[\"Código Externo\",var]])\n",
        "            continue\n",
        "            \n",
        "        #store the value in the x_aux    \n",
        "        x_aux.append(var_value_1.values[0])\n",
        "        \n",
        "        #create the cols_name for the first pat only\n",
        "        if pat == \"126455\":\n",
        "            cols_name.append(var)\n",
        "        \n",
        "        #compute the linear regression model\n",
        "        \n",
        "        #review values for this var\n",
        "        var_review_values = df_pat[var].values\n",
        "        \n",
        "        #compute the actual coefficientes for the linear regresssion\n",
        "        revi = np.arange(1,len(var_review_values)+1)\n",
        "        coefs = lin_reg_model(revi,var_review_values-np.mean(var_review_values))\n",
        "        \n",
        "        \"\"\"\n",
        "        plt.figure()\n",
        "        plt.plot(revi,var_review_values)\n",
        "        xx = np.linspace(1,4,20)\n",
        "\n",
        "        XX = np.vstack((np.ones(xx.shape),xx,xx**2)).T\n",
        "        plt.plot(xx,XX.dot(coefs),'k--',label = 'real values')\n",
        "        plt.xlabel(var)\n",
        "        \"\"\"\n",
        "        \n",
        "        #store coefficients\n",
        "        #x_aux.append()\n",
        "        #print(len(coefs))\n",
        "        for c in coefs[1:]:\n",
        "            x_aux.append(c)\n",
        "            \n",
        "        cols_name.append(var)\n",
        "       # cols_name.append(var+'_1')\n",
        "        cols_name.append(var+'_2')\n",
        "        cols_name.append(var+'_3')\n",
        "        \n",
        "        \n",
        "        \n",
        "        #stick x_aux in X\n",
        "        \n",
        "    #print(len(x_aux))\n",
        "    \n",
        "    if len(x_aux)==0:\n",
        "        continue\n",
        "        \n",
        "    y_aux = y_test['label'][y_test['Código Externo'] == pat].values[0]   \n",
        "    \n",
        "    y_testing.append(y_aux)\n",
        "    X_test.append(x_aux)\n",
        "    "
      ]
    },
    {
      "cell_type": "code",
      "execution_count": 79,
      "metadata": {
        "colab": {
          "base_uri": "https://localhost:8080/"
        },
        "outputId": "981cffa5-9e10-4310-ef7d-6413961be261",
        "id": "sKJjDWgxyoaM"
      },
      "outputs": [
        {
          "output_type": "stream",
          "name": "stdout",
          "text": [
            "(20, 6)\n",
            "(20,)\n"
          ]
        }
      ],
      "source": [
        "X_test_GB = np.array(X_test)\n",
        "y_testing_GB = np.array(y_testing)\n",
        "\n",
        "print(X_test_GB.shape)\n",
        "print(y_testing_GB.shape)"
      ]
    },
    {
      "cell_type": "code",
      "execution_count": 80,
      "metadata": {
        "id": "IoS-_JYqzbSK"
      },
      "outputs": [],
      "source": [
        "X_train_GB = pd.DataFrame(X_train_GB,columns = cols_name)\n",
        "X_test_GB = pd.DataFrame(X_test_GB,columns = cols_name)"
      ]
    },
    {
      "cell_type": "markdown",
      "metadata": {
        "id": "3saqszqnzfa6"
      },
      "source": [
        "### 3.2 Optimización de los hiperparámetros usando RandomizedSearchCV"
      ]
    },
    {
      "cell_type": "code",
      "execution_count": 81,
      "metadata": {
        "id": "U14Mm-agzh_l"
      },
      "outputs": [],
      "source": [
        "#Indico que el clasificador que voy a utlizar es GBoosting\n",
        "\n",
        "gb_model = GradientBoostingClassifier()"
      ]
    },
    {
      "cell_type": "markdown",
      "metadata": {
        "id": "gwLF_19Czkoi"
      },
      "source": [
        "Inicialmente creamos un diccionario de algunos parámetros a entrenar. Aquí las claves son básicamente los parámetros y los valores a entrenar. Así que el RandomizedSearchCV probará cada valor y encontrará el valor particular que da la mayor precisión."
      ]
    },
    {
      "cell_type": "code",
      "execution_count": 82,
      "metadata": {
        "id": "ODN7qolzzmoF"
      },
      "outputs": [],
      "source": [
        "#Cuanto mayor sea gamma, más conservador será el algoritmo\n",
        "#min_child_weight: para controlar el sobreajuste, cuanto mayor sea min_child_weight, más conservador será el algoritmo\n",
        "\n",
        "params = {\n",
        " 'n_estimators' : [150,200,250,300,350,400,450,500],\n",
        " 'learning_rate' : [0.05,0.10,0.15,0.20,0.25,0.30],\n",
        " 'max_depth' : [20,25,30,35,40,45],\n",
        "}\n",
        "\n"
      ]
    },
    {
      "cell_type": "code",
      "execution_count": 83,
      "metadata": {
        "colab": {
          "base_uri": "https://localhost:8080/"
        },
        "outputId": "92d5d9bc-c62c-4320-9a1d-7c864471344e",
        "scrolled": false,
        "id": "KdMCtYdtz1yq"
      },
      "outputs": [
        {
          "output_type": "stream",
          "name": "stdout",
          "text": [
            "Fitting 5 folds for each of 5 candidates, totalling 25 fits\n"
          ]
        },
        {
          "output_type": "execute_result",
          "data": {
            "text/plain": [
              "RandomizedSearchCV(cv=5, estimator=GradientBoostingClassifier(), n_iter=5,\n",
              "                   n_jobs=-1,\n",
              "                   param_distributions={'learning_rate': [0.05, 0.1, 0.15, 0.2,\n",
              "                                                          0.25, 0.3],\n",
              "                                        'max_depth': [20, 25, 30, 35, 40, 45],\n",
              "                                        'n_estimators': [150, 200, 250, 300,\n",
              "                                                         350, 400, 450, 500]},\n",
              "                   random_state=2, scoring='roc_auc', verbose=3)"
            ]
          },
          "metadata": {},
          "execution_count": 83
        }
      ],
      "source": [
        "#verbose = genera mensajes durante el entramiento del modelo 'Fitting 5 folds...'\n",
        "\n",
        "#roc_auc = curva AUC-ROC es la métrica de selección del modelo para el problema de clasificación \n",
        "#de dos clases múltiples.ROC nos dice qué tan bueno es el modelo para distinguir las clases dadas, \n",
        "#en términos de la probabilidad predicha.\n",
        "\n",
        "#n_jobs = número de nucleos que se utilizan (-1 quiere decir que se utilizan todos)\n",
        "\n",
        "r_s_model_2 = RandomizedSearchCV(gb_model , param_distributions=params, n_iter=5, \n",
        "                               scoring='roc_auc',n_jobs=-1,cv=5,verbose=3,random_state = 2)\n",
        "r_s_model_2.fit(X_train_GB, y_training_GB)"
      ]
    },
    {
      "cell_type": "markdown",
      "metadata": {
        "id": "SF3sKYs1z_Op"
      },
      "source": [
        "Bien, nuestro modelo ha sido ajustado. Veamos ahora todos los parámetros que han sido seleccionados por el RandomizedSearch() para el GBClassifier. Podemos hacerlo con la ayuda del método best_estimators_."
      ]
    },
    {
      "cell_type": "code",
      "execution_count": 84,
      "metadata": {
        "colab": {
          "base_uri": "https://localhost:8080/"
        },
        "outputId": "73164985-7713-41b5-f075-03078050c33f",
        "id": "1zSFqRmo0E6L"
      },
      "outputs": [
        {
          "output_type": "execute_result",
          "data": {
            "text/plain": [
              "GradientBoostingClassifier(learning_rate=0.05, max_depth=20, n_estimators=500)"
            ]
          },
          "metadata": {},
          "execution_count": 84
        }
      ],
      "source": [
        "r_s_model_2.best_estimator_"
      ]
    },
    {
      "cell_type": "code",
      "execution_count": 85,
      "metadata": {
        "id": "6W_apy9Z0Te6"
      },
      "outputs": [],
      "source": [
        "#Cuanto mayor sea gamma, más conservador será el algoritmo\n",
        "#min_child_weight: para controlar el sobreajuste, cuanto mayor sea min_child_weight, más conservador será el algoritmo\n",
        "\n",
        "params = {\n",
        " 'n_estimators' : [470,480,490,500,510,520,530,540],\n",
        " 'learning_rate' : [0.01,0.03,0.05,0.07,0.09],\n",
        " 'max_depth' : [12,14,16,18,20,22,24,26],\n",
        "}"
      ]
    },
    {
      "cell_type": "markdown",
      "metadata": {
        "id": "h2eLusmf0PyG"
      },
      "source": [
        "Una vez conozco los valores de hiperparámetros, vuelvo a buscar la optimización de los mismos, pero esta vez afinando más."
      ]
    },
    {
      "cell_type": "code",
      "execution_count": 86,
      "metadata": {
        "colab": {
          "base_uri": "https://localhost:8080/"
        },
        "outputId": "5d3cd182-3e68-465c-fb72-4e8b1da9f1dd",
        "scrolled": false,
        "id": "klopWBbz0YIj"
      },
      "outputs": [
        {
          "output_type": "stream",
          "name": "stdout",
          "text": [
            "Fitting 5 folds for each of 5 candidates, totalling 25 fits\n"
          ]
        },
        {
          "output_type": "execute_result",
          "data": {
            "text/plain": [
              "RandomizedSearchCV(cv=5, estimator=GradientBoostingClassifier(), n_iter=5,\n",
              "                   n_jobs=-1,\n",
              "                   param_distributions={'learning_rate': [0.01, 0.03, 0.05,\n",
              "                                                          0.07, 0.09],\n",
              "                                        'max_depth': [12, 14, 16, 18, 20, 22,\n",
              "                                                      24, 26],\n",
              "                                        'n_estimators': [470, 480, 490, 500,\n",
              "                                                         510, 520, 530, 540]},\n",
              "                   random_state=2, scoring='roc_auc', verbose=3)"
            ]
          },
          "metadata": {},
          "execution_count": 86
        }
      ],
      "source": [
        "#verbose = genera mensajes durante el entramiento del modelo 'Fitting 5 folds...'\n",
        "\n",
        "#roc_auc = curva AUC-ROC es la métrica de selección del modelo para el problema de clasificación \n",
        "#de dos clases múltiples.ROC nos dice qué tan bueno es el modelo para distinguir las clases dadas, \n",
        "#en términos de la probabilidad predicha.\n",
        "\n",
        "#n_jobs = número de nucleos que se utilizan (-1 quiere decir que se utilizan todos)\n",
        "\n",
        "r_s_model_2 = RandomizedSearchCV(gb_model , param_distributions=params, n_iter=5, \n",
        "                               scoring='roc_auc',n_jobs=-1,cv=5,verbose=3,random_state = 2)\n",
        "r_s_model_2.fit(X_train_GB, y_training_GB)"
      ]
    },
    {
      "cell_type": "code",
      "execution_count": 87,
      "metadata": {
        "colab": {
          "base_uri": "https://localhost:8080/"
        },
        "outputId": "e7cfec92-e501-43ff-ebf9-3700120340d3",
        "id": "qIfBfLb20idq"
      },
      "outputs": [
        {
          "output_type": "execute_result",
          "data": {
            "text/plain": [
              "GradientBoostingClassifier(learning_rate=0.03, max_depth=12, n_estimators=480)"
            ]
          },
          "metadata": {},
          "execution_count": 87
        }
      ],
      "source": [
        "r_s_model_2.best_estimator_"
      ]
    },
    {
      "cell_type": "code",
      "source": [
        "gb_model.fit(X_train_GB, y_training_GB)"
      ],
      "metadata": {
        "colab": {
          "base_uri": "https://localhost:8080/"
        },
        "id": "q8qERJbu0AVL",
        "outputId": "ef1d6bd4-4778-4c79-d90c-5dda8d0f0b10"
      },
      "execution_count": 88,
      "outputs": [
        {
          "output_type": "execute_result",
          "data": {
            "text/plain": [
              "GradientBoostingClassifier()"
            ]
          },
          "metadata": {},
          "execution_count": 88
        }
      ]
    },
    {
      "cell_type": "markdown",
      "metadata": {
        "id": "HYRZcNh10p0U"
      },
      "source": [
        "## 1.4 Rendimiento con FS en el conjunto de test"
      ]
    },
    {
      "cell_type": "code",
      "execution_count": 89,
      "metadata": {
        "colab": {
          "base_uri": "https://localhost:8080/"
        },
        "outputId": "c4e623b7-4f0e-423b-a58c-b41139cc8c70",
        "id": "Z7KhHTYf0z-G"
      },
      "outputs": [
        {
          "output_type": "execute_result",
          "data": {
            "text/plain": [
              "GradientBoostingClassifier(learning_rate=0.03, max_depth=12, n_estimators=480)"
            ]
          },
          "metadata": {},
          "execution_count": 89
        }
      ],
      "source": [
        "gb_FS = GradientBoostingClassifier(learning_rate=0.03, max_depth=12, n_estimators=480)\n",
        "gb_FS.fit(X_train_GB, y_training_GB)"
      ]
    },
    {
      "cell_type": "code",
      "execution_count": 90,
      "metadata": {
        "colab": {
          "base_uri": "https://localhost:8080/",
          "height": 175
        },
        "outputId": "1cf8a107-3880-4ece-e494-aa6db1dcbd34",
        "id": "-CkqbTQN0_kH"
      },
      "outputs": [
        {
          "output_type": "execute_result",
          "data": {
            "text/plain": [
              "  Prestaciones en test  GBoost total\n",
              "0             Accuracy      0.800000\n",
              "1          Sensitivity      0.000000\n",
              "2          Specificity      0.941176\n",
              "3              AUC ROC      0.470588"
            ],
            "text/html": [
              "\n",
              "  <div id=\"df-27534da9-0d32-4c00-ad7b-4e8ce5bce492\">\n",
              "    <div class=\"colab-df-container\">\n",
              "      <div>\n",
              "<style scoped>\n",
              "    .dataframe tbody tr th:only-of-type {\n",
              "        vertical-align: middle;\n",
              "    }\n",
              "\n",
              "    .dataframe tbody tr th {\n",
              "        vertical-align: top;\n",
              "    }\n",
              "\n",
              "    .dataframe thead th {\n",
              "        text-align: right;\n",
              "    }\n",
              "</style>\n",
              "<table border=\"1\" class=\"dataframe\">\n",
              "  <thead>\n",
              "    <tr style=\"text-align: right;\">\n",
              "      <th></th>\n",
              "      <th>Prestaciones en test</th>\n",
              "      <th>GBoost total</th>\n",
              "    </tr>\n",
              "  </thead>\n",
              "  <tbody>\n",
              "    <tr>\n",
              "      <th>0</th>\n",
              "      <td>Accuracy</td>\n",
              "      <td>0.800000</td>\n",
              "    </tr>\n",
              "    <tr>\n",
              "      <th>1</th>\n",
              "      <td>Sensitivity</td>\n",
              "      <td>0.000000</td>\n",
              "    </tr>\n",
              "    <tr>\n",
              "      <th>2</th>\n",
              "      <td>Specificity</td>\n",
              "      <td>0.941176</td>\n",
              "    </tr>\n",
              "    <tr>\n",
              "      <th>3</th>\n",
              "      <td>AUC ROC</td>\n",
              "      <td>0.470588</td>\n",
              "    </tr>\n",
              "  </tbody>\n",
              "</table>\n",
              "</div>\n",
              "      <button class=\"colab-df-convert\" onclick=\"convertToInteractive('df-27534da9-0d32-4c00-ad7b-4e8ce5bce492')\"\n",
              "              title=\"Convert this dataframe to an interactive table.\"\n",
              "              style=\"display:none;\">\n",
              "        \n",
              "  <svg xmlns=\"http://www.w3.org/2000/svg\" height=\"24px\"viewBox=\"0 0 24 24\"\n",
              "       width=\"24px\">\n",
              "    <path d=\"M0 0h24v24H0V0z\" fill=\"none\"/>\n",
              "    <path d=\"M18.56 5.44l.94 2.06.94-2.06 2.06-.94-2.06-.94-.94-2.06-.94 2.06-2.06.94zm-11 1L8.5 8.5l.94-2.06 2.06-.94-2.06-.94L8.5 2.5l-.94 2.06-2.06.94zm10 10l.94 2.06.94-2.06 2.06-.94-2.06-.94-.94-2.06-.94 2.06-2.06.94z\"/><path d=\"M17.41 7.96l-1.37-1.37c-.4-.4-.92-.59-1.43-.59-.52 0-1.04.2-1.43.59L10.3 9.45l-7.72 7.72c-.78.78-.78 2.05 0 2.83L4 21.41c.39.39.9.59 1.41.59.51 0 1.02-.2 1.41-.59l7.78-7.78 2.81-2.81c.8-.78.8-2.07 0-2.86zM5.41 20L4 18.59l7.72-7.72 1.47 1.35L5.41 20z\"/>\n",
              "  </svg>\n",
              "      </button>\n",
              "      \n",
              "  <style>\n",
              "    .colab-df-container {\n",
              "      display:flex;\n",
              "      flex-wrap:wrap;\n",
              "      gap: 12px;\n",
              "    }\n",
              "\n",
              "    .colab-df-convert {\n",
              "      background-color: #E8F0FE;\n",
              "      border: none;\n",
              "      border-radius: 50%;\n",
              "      cursor: pointer;\n",
              "      display: none;\n",
              "      fill: #1967D2;\n",
              "      height: 32px;\n",
              "      padding: 0 0 0 0;\n",
              "      width: 32px;\n",
              "    }\n",
              "\n",
              "    .colab-df-convert:hover {\n",
              "      background-color: #E2EBFA;\n",
              "      box-shadow: 0px 1px 2px rgba(60, 64, 67, 0.3), 0px 1px 3px 1px rgba(60, 64, 67, 0.15);\n",
              "      fill: #174EA6;\n",
              "    }\n",
              "\n",
              "    [theme=dark] .colab-df-convert {\n",
              "      background-color: #3B4455;\n",
              "      fill: #D2E3FC;\n",
              "    }\n",
              "\n",
              "    [theme=dark] .colab-df-convert:hover {\n",
              "      background-color: #434B5C;\n",
              "      box-shadow: 0px 1px 3px 1px rgba(0, 0, 0, 0.15);\n",
              "      filter: drop-shadow(0px 1px 2px rgba(0, 0, 0, 0.3));\n",
              "      fill: #FFFFFF;\n",
              "    }\n",
              "  </style>\n",
              "\n",
              "      <script>\n",
              "        const buttonEl =\n",
              "          document.querySelector('#df-27534da9-0d32-4c00-ad7b-4e8ce5bce492 button.colab-df-convert');\n",
              "        buttonEl.style.display =\n",
              "          google.colab.kernel.accessAllowed ? 'block' : 'none';\n",
              "\n",
              "        async function convertToInteractive(key) {\n",
              "          const element = document.querySelector('#df-27534da9-0d32-4c00-ad7b-4e8ce5bce492');\n",
              "          const dataTable =\n",
              "            await google.colab.kernel.invokeFunction('convertToInteractive',\n",
              "                                                     [key], {});\n",
              "          if (!dataTable) return;\n",
              "\n",
              "          const docLinkHtml = 'Like what you see? Visit the ' +\n",
              "            '<a target=\"_blank\" href=https://colab.research.google.com/notebooks/data_table.ipynb>data table notebook</a>'\n",
              "            + ' to learn more about interactive tables.';\n",
              "          element.innerHTML = '';\n",
              "          dataTable['output_type'] = 'display_data';\n",
              "          await google.colab.output.renderOutput(dataTable, element);\n",
              "          const docLink = document.createElement('div');\n",
              "          docLink.innerHTML = docLinkHtml;\n",
              "          element.appendChild(docLink);\n",
              "        }\n",
              "      </script>\n",
              "    </div>\n",
              "  </div>\n",
              "  "
            ]
          },
          "metadata": {},
          "execution_count": 90
        }
      ],
      "source": [
        "from sklearn.metrics import roc_auc_score\n",
        "\n",
        "\n",
        "\n",
        "#Todas las características\n",
        "y_pred_tot = gb_model.predict(X_test_GB)\n",
        "acc_tot = accuracy_score(y_testing_GB, y_pred_tot)\n",
        "sensibilidad_tot = recall_score(y_testing_GB, y_pred_tot)\n",
        "#precision_tot=precision_score(y_test, y_pred_tot)\n",
        "specificity_tot = confusion_matrix(y_testing_GB, y_pred_tot)[0][0]/(confusion_matrix(y_testing_GB, y_pred_tot)[0][0]+confusion_matrix(y_testing_GB, y_pred_tot)[0][1])\n",
        "auc_tot = roc_auc_score(y_testing_GB, y_pred_tot)\n",
        "\n",
        "\n",
        "\n",
        "Tabla_gb = pd.DataFrame({\"Prestaciones en test\":[\"Accuracy\",\"Sensitivity\",'Specificity',\"AUC ROC\"],\n",
        "                          \"GBoost total\" : [acc_tot, sensibilidad_tot, specificity_tot, auc_tot]})\n",
        "Tabla_gb"
      ]
    },
    {
      "cell_type": "code",
      "execution_count": 91,
      "metadata": {
        "outputId": "34942b52-e59c-408e-9156-589baddd4c74",
        "colab": {
          "base_uri": "https://localhost:8080/",
          "height": 367
        },
        "id": "Nng_E7WA1J8S"
      },
      "outputs": [
        {
          "output_type": "stream",
          "name": "stderr",
          "text": [
            "/usr/local/lib/python3.7/dist-packages/sklearn/utils/deprecation.py:87: FutureWarning: Function plot_confusion_matrix is deprecated; Function `plot_confusion_matrix` is deprecated in 1.0 and will be removed in 1.2. Use one of the class methods: ConfusionMatrixDisplay.from_predictions or ConfusionMatrixDisplay.from_estimator.\n",
            "  warnings.warn(msg, category=FutureWarning)\n"
          ]
        },
        {
          "output_type": "execute_result",
          "data": {
            "text/plain": [
              "Text(0.5, 1.0, 'GBoost 2 features')"
            ]
          },
          "metadata": {},
          "execution_count": 91
        },
        {
          "output_type": "display_data",
          "data": {
            "text/plain": [
              "<Figure size 432x288 with 2 Axes>"
            ],
            "image/png": "[encoded data removed]"
          },
          "metadata": {
            "needs_background": "light"
          }
        }
      ],
      "source": [
        "from sklearn.metrics import plot_confusion_matrix\n",
        "\n",
        "#XGBoost all features\n",
        "plot_confusion_matrix(gb_model, X_test_GB, y_testing_GB, display_labels=[\"Sin gravedad\",\"Con gravedad\"],\n",
        "                                 cmap=plt.cm.Blues)\n",
        "plt.title(\"GBoost 2 features\")\n"
      ]
    },
    {
      "cell_type": "markdown",
      "source": [
        "# 4. Histogram-based Gradient Boosting Classifier"
      ],
      "metadata": {
        "id": "Vi-2hL_31SrT"
      }
    },
    {
      "cell_type": "code",
      "source": [
        "from sklearn.experimental import enable_hist_gradient_boosting\n",
        "from sklearn.ensemble import HistGradientBoostingClassifier\n",
        "from sklearn.datasets import load_iris"
      ],
      "metadata": {
        "id": "y6z5ydVc1WOV",
        "outputId": "eefa270d-a3a7-4156-9fed-b71c84e99c38",
        "colab": {
          "base_uri": "https://localhost:8080/"
        }
      },
      "execution_count": 92,
      "outputs": [
        {
          "output_type": "stream",
          "name": "stderr",
          "text": [
            "/usr/local/lib/python3.7/dist-packages/sklearn/experimental/enable_hist_gradient_boosting.py:17: UserWarning: Since version 1.0, it is not needed to import enable_hist_gradient_boosting anymore. HistGradientBoostingClassifier and HistGradientBoostingRegressor are now stable and can be normally imported from sklearn.ensemble.\n",
            "  \"Since version 1.0, \"\n"
          ]
        }
      ]
    },
    {
      "cell_type": "code",
      "source": [
        "### AHORA TENGO QUE PONER AQUI LAS VARIABLES QUE HA ELEGIDO FINALMENTE EL MODELO HGBOOST\n",
        "x_train_HB = x_train_aux[['Código Externo','MO-Z','NEU','NEUp','IG','BA-D%','MicR','RELYP','HGB','NE-WY','Revision']].copy()\n",
        "x_test_HB = x_test[['Código Externo','MO-Z','NEU','NEUp','IG','BA-D%','MicR','RELYP','HGB','NE-WY','Revision']].copy()"
      ],
      "metadata": {
        "id": "ZkmIsYPd1dm8"
      },
      "execution_count": 93,
      "outputs": []
    },
    {
      "cell_type": "markdown",
      "metadata": {
        "id": "YOo8AuBD1sIS"
      },
      "source": [
        "### 3.1 Búsqueda de coeficientes (REGRESION LINEAL)\n",
        "\n",
        "Vamos a realizar un análisis de tendencias para cada variable de forma poblacional. También usaremos este análisis de tendencias de forma individual para cada paciente, de forma que se pueda incorporar la información dinámica que genera dentro del modelo de predicción basado en machine learning.\n",
        "\n",
        "Vamos a generar la función que obtiene el modelo de regresión lineal. El modelo que planteamos es un polinomio de segundo orden:\n",
        "\n",
        "$y = a + bx + cx^2$ ;\n",
        "\n",
        "donde la x corresponde al número de revisión."
      ]
    },
    {
      "cell_type": "code",
      "execution_count": 94,
      "metadata": {
        "scrolled": false,
        "id": "h8q6j9J31xfo"
      },
      "outputs": [],
      "source": [
        "X_training = [] #final matrix with rows = one per patient, columns = variables valuest at review 1 and temporal evolution\n",
        "y_training = []\n",
        "\n",
        "\n",
        "\n",
        "#run over each codigo externo => each patient\n",
        "for i,pat in enumerate(cd_train): #JA, añade un contador a cada uno de los elementos iterables,(1,4234)(2,8259)\n",
        "    cols_name = []\n",
        "    #print(i)\n",
        "    x_aux = [] #individual row in the X matrix for a particular pat\n",
        "    \n",
        "    #create a mini df with for reviews\n",
        "    #print(x_train_XGB[\"Código Externo\"])\n",
        "    df_pat = x_train_HB[x_train_HB[\"Código Externo\"] == pat].copy()\n",
        "    \n",
        "    #order mini df according to Revision\n",
        "    df_pat.sort_values(by=[\"Revision\"],inplace= True) # JA, esto ya está implementado anteriormente\n",
        "\n",
        "    #print(df_pat)\n",
        "    \n",
        "    #for each variable\n",
        "    feat_name = df_pat.columns[1:-1] # JA, cojo las columnas de la segunda a la penúltima de tal manera que me \n",
        "                                    # quito las columnas 'Código Externo' y 'label'\n",
        "    #\n",
        "    #print(feat_name)\n",
        "    \n",
        "    for var in feat_name:\n",
        "        #get the value for the first review\n",
        "        var_value_1 = df_pat[var][df_pat[\"Revision\"] == 1] # JA, cojo el valor de la primera revisión de un paciente\n",
        "                                                            # de una variable en concreto\n",
        "        #print(var_value_1.values)\n",
        "        if var_value_1.values.size == 0:\n",
        "            #there are some blank rows, we just skip them\n",
        "            #print(df_pat[[\"Código Externo\",var]])\n",
        "            continue\n",
        "            \n",
        "        #store the value in the x_aux    \n",
        "        x_aux.append(var_value_1.values[0])\n",
        "        \n",
        "        #create the cols_name for the first pat only\n",
        "        if pat == \"126455\":\n",
        "            cols_name.append(var)\n",
        "        \n",
        "        #compute the linear regression model\n",
        "        \n",
        "        #review values for this var\n",
        "        var_review_values = df_pat[var].values\n",
        "        \n",
        "        #compute the actual coefficientes for the linear regresssion\n",
        "        revi = np.arange(1,len(var_review_values)+1)\n",
        "        \n",
        "        #vamos a centrar los valores de las revisiones para evitar utilizar coeficiente de media, y sólo tener las tendencias\n",
        "        coefs = lin_reg_model(revi,var_review_values-np.mean(var_review_values))\n",
        "        \n",
        "        \"\"\"\n",
        "        plt.figure()\n",
        "        plt.plot(revi,var_review_values)\n",
        "        xx = np.linspace(1,4,20)\n",
        "\n",
        "        XX = np.vstack((np.ones(xx.shape),xx,xx**2)).T\n",
        "        plt.plot(xx,XX.dot(coefs),'k--',label = 'real values')\n",
        "        plt.xlabel(var)\n",
        "        \"\"\"\n",
        "        \n",
        "        #store coefficients\n",
        "        #x_aux.append()\n",
        "        #print(len(coefs))\n",
        "        for c in coefs[1:]:\n",
        "            x_aux.append(c)\n",
        "            \n",
        "        cols_name.append(var)\n",
        "        #cols_name.append(var+'_1')\n",
        "        cols_name.append(var+'_2')\n",
        "        cols_name.append(var+'_3')\n",
        "        \n",
        "        \n",
        "        \n",
        "        #stick x_aux in X\n",
        "        \n",
        "    #print(len(x_aux))\n",
        "    \n",
        "    if len(x_aux)==0:\n",
        "        continue\n",
        "        \n",
        "    y_aux = y_train['label'][y_train['Código Externo'] == pat].values[0]   \n",
        "    \n",
        "    y_training.append(y_aux)\n",
        "    X_training.append(x_aux)\n",
        "    "
      ]
    },
    {
      "cell_type": "code",
      "execution_count": 95,
      "metadata": {
        "scrolled": false,
        "id": "pWFPuqkZ17pn"
      },
      "outputs": [],
      "source": [
        "X_train_HB = np.array(X_training)\n",
        "y_training_HB = np.array(y_training)"
      ]
    },
    {
      "cell_type": "code",
      "execution_count": 96,
      "metadata": {
        "colab": {
          "base_uri": "https://localhost:8080/"
        },
        "outputId": "a44d398a-eacd-4aa9-a90f-05302d6be89c",
        "id": "oSzxO3XP17po"
      },
      "outputs": [
        {
          "output_type": "stream",
          "name": "stdout",
          "text": [
            "(72, 27)\n",
            "(72,)\n"
          ]
        }
      ],
      "source": [
        "print(X_train_HB.shape)\n",
        "\n",
        "print(y_training_HB.shape)"
      ]
    },
    {
      "cell_type": "code",
      "execution_count": 97,
      "metadata": {
        "id": "h6DydrI717pp"
      },
      "outputs": [],
      "source": [
        "X_test = [] #final matrix with rows = one per patient, columns = variables valuest at review 1 and temporal evolution\n",
        "y_testing = []\n",
        "\n",
        "#run over each codigo externo => each patient\n",
        "for i,pat in enumerate(cd_test):\n",
        "    cols_name = []\n",
        "    #print(i)\n",
        "    x_aux = [] #individual row in the X matrix for a particular pat\n",
        "    \n",
        "    #create a mini df with for reviews\n",
        "    #print(x_train_XGB[\"Código Externo\"])\n",
        "    df_pat = x_test_HB[x_test_HB[\"Código Externo\"] == pat].copy()\n",
        "    \n",
        "    #order mini df according to Revision\n",
        "    df_pat.sort_values(by=[\"Revision\"],inplace= True)\n",
        "\n",
        "    #print(df_pat)\n",
        "    \n",
        "    #for each variable\n",
        "    feat_name = df_pat.columns[1:-1]\n",
        "    #print(feat_name)\n",
        "    \n",
        "    for var in feat_name:\n",
        "        #get the value for the first review\n",
        "        var_value_1 = df_pat[var][df_pat[\"Revision\"] == 1]\n",
        "        #print(var_value_1.values)\n",
        "        if var_value_1.values.size == 0:\n",
        "            #there are some blank rows, we just skip them\n",
        "            #print(df_pat[[\"Código Externo\",var]])\n",
        "            continue\n",
        "            \n",
        "        #store the value in the x_aux    \n",
        "        x_aux.append(var_value_1.values[0])\n",
        "        \n",
        "        #create the cols_name for the first pat only\n",
        "        if pat == \"126455\":\n",
        "            cols_name.append(var)\n",
        "        \n",
        "        #compute the linear regression model\n",
        "        \n",
        "        #review values for this var\n",
        "        var_review_values = df_pat[var].values\n",
        "        \n",
        "        #compute the actual coefficientes for the linear regresssion\n",
        "        revi = np.arange(1,len(var_review_values)+1)\n",
        "        coefs = lin_reg_model(revi,var_review_values-np.mean(var_review_values))\n",
        "        \n",
        "        \"\"\"\n",
        "        plt.figure()\n",
        "        plt.plot(revi,var_review_values)\n",
        "        xx = np.linspace(1,4,20)\n",
        "\n",
        "        XX = np.vstack((np.ones(xx.shape),xx,xx**2)).T\n",
        "        plt.plot(xx,XX.dot(coefs),'k--',label = 'real values')\n",
        "        plt.xlabel(var)\n",
        "        \"\"\"\n",
        "        \n",
        "        #store coefficients\n",
        "        #x_aux.append()\n",
        "        #print(len(coefs))\n",
        "        for c in coefs[1:]:\n",
        "            x_aux.append(c)\n",
        "            \n",
        "        cols_name.append(var)\n",
        "       # cols_name.append(var+'_1')\n",
        "        cols_name.append(var+'_2')\n",
        "        cols_name.append(var+'_3')\n",
        "        \n",
        "        \n",
        "        \n",
        "        #stick x_aux in X\n",
        "        \n",
        "    #print(len(x_aux))\n",
        "    \n",
        "    if len(x_aux)==0:\n",
        "        continue\n",
        "        \n",
        "    y_aux = y_test['label'][y_test['Código Externo'] == pat].values[0]   \n",
        "    \n",
        "    y_testing.append(y_aux)\n",
        "    X_test.append(x_aux)\n",
        "    "
      ]
    },
    {
      "cell_type": "code",
      "execution_count": 98,
      "metadata": {
        "colab": {
          "base_uri": "https://localhost:8080/"
        },
        "outputId": "404852b3-1745-453b-dd59-54f1d8472de6",
        "id": "eaQB9XE717pp"
      },
      "outputs": [
        {
          "output_type": "stream",
          "name": "stdout",
          "text": [
            "(20, 27)\n",
            "(20,)\n"
          ]
        }
      ],
      "source": [
        "X_test_HB = np.array(X_test)\n",
        "y_testing_HB = np.array(y_testing)\n",
        "\n",
        "print(X_test_HB.shape)\n",
        "print(y_testing_HB.shape)"
      ]
    },
    {
      "cell_type": "code",
      "execution_count": 99,
      "metadata": {
        "id": "8YfIxC8b17pp"
      },
      "outputs": [],
      "source": [
        "X_train_HB = pd.DataFrame(X_train_HB,columns = cols_name)\n",
        "X_test_HB = pd.DataFrame(X_test_HB,columns = cols_name)"
      ]
    },
    {
      "cell_type": "markdown",
      "metadata": {
        "id": "fTzQQgeO2OdH"
      },
      "source": [
        "### 3.2 Optimización de los hiperparámetros usando RandomizedSearchCV"
      ]
    },
    {
      "cell_type": "code",
      "execution_count": 100,
      "metadata": {
        "id": "Nd_MZ3SE2OdI"
      },
      "outputs": [],
      "source": [
        "#Indico que el clasificador que voy a utlizar es HBoosting\n",
        "\n",
        "hb_model = HistGradientBoostingClassifier()"
      ]
    },
    {
      "cell_type": "markdown",
      "metadata": {
        "id": "y7Fug2ce2OdI"
      },
      "source": [
        "Inicialmente creamos un diccionario de algunos parámetros a entrenar. Aquí las claves son básicamente los parámetros y los valores a entrenar. Así que el RandomizedSearchCV probará cada valor y encontrará el valor particular que da la mayor precisión."
      ]
    },
    {
      "cell_type": "code",
      "execution_count": 101,
      "metadata": {
        "id": "wcTyCHou2OdI"
      },
      "outputs": [],
      "source": [
        "#Cuanto mayor sea gamma, más conservador será el algoritmo\n",
        "#min_child_weight: para controlar el sobreajuste, cuanto mayor sea min_child_weight, más conservador será el algoritmo\n",
        "\n",
        "params = {\n",
        " 'max_leaf_nodes': [1,3,5,7,10,13,15,20,25,30,35,40],\n",
        " 'learning_rate' : [0.05,0.10,0.15,0.20,0.25,0.30],\n",
        " 'max_depth' : [3,4,5,6,8,10,12,15,20,25,30],\n",
        "}\n",
        "\n"
      ]
    },
    {
      "cell_type": "code",
      "execution_count": 102,
      "metadata": {
        "colab": {
          "base_uri": "https://localhost:8080/"
        },
        "outputId": "d9a73c49-3bfd-415c-9d65-5809c0a85eda",
        "scrolled": false,
        "id": "CxM7WdrB2OdJ"
      },
      "outputs": [
        {
          "output_type": "stream",
          "name": "stdout",
          "text": [
            "Fitting 5 folds for each of 5 candidates, totalling 25 fits\n"
          ]
        },
        {
          "output_type": "stream",
          "name": "stderr",
          "text": [
            "/usr/local/lib/python3.7/dist-packages/sklearn/model_selection/_validation.py:372: FitFailedWarning: \n",
            "5 fits failed out of a total of 25.\n",
            "The score on these train-test partitions for these parameters will be set to nan.\n",
            "If these failures are not expected, you can try to debug them by setting error_score='raise'.\n",
            "\n",
            "Below are more details about the failures:\n",
            "--------------------------------------------------------------------------------\n",
            "5 fits failed with the following error:\n",
            "Traceback (most recent call last):\n",
            "  File \"/usr/local/lib/python3.7/dist-packages/sklearn/model_selection/_validation.py\", line 680, in _fit_and_score\n",
            "    estimator.fit(X_train, y_train, **fit_params)\n",
            "  File \"/usr/local/lib/python3.7/dist-packages/sklearn/ensemble/_hist_gradient_boosting/gradient_boosting.py\", line 524, in fit\n",
            "    n_threads=n_threads,\n",
            "  File \"/usr/local/lib/python3.7/dist-packages/sklearn/ensemble/_hist_gradient_boosting/grower.py\", line 214, in __init__\n",
            "    min_hessian_to_split,\n",
            "  File \"/usr/local/lib/python3.7/dist-packages/sklearn/ensemble/_hist_gradient_boosting/grower.py\", line 332, in _validate_parameters\n",
            "    \"max_leaf_nodes={} should not be smaller than 2\".format(max_leaf_nodes)\n",
            "ValueError: max_leaf_nodes=1 should not be smaller than 2\n",
            "\n",
            "  warnings.warn(some_fits_failed_message, FitFailedWarning)\n",
            "/usr/local/lib/python3.7/dist-packages/sklearn/model_selection/_search.py:972: UserWarning: One or more of the test scores are non-finite: [       nan 0.69949495 0.69949495 0.69343434 0.69343434]\n",
            "  category=UserWarning,\n"
          ]
        },
        {
          "output_type": "execute_result",
          "data": {
            "text/plain": [
              "RandomizedSearchCV(cv=5, estimator=HistGradientBoostingClassifier(), n_iter=5,\n",
              "                   n_jobs=-1,\n",
              "                   param_distributions={'learning_rate': [0.05, 0.1, 0.15, 0.2,\n",
              "                                                          0.25, 0.3],\n",
              "                                        'max_depth': [3, 4, 5, 6, 8, 10, 12, 15,\n",
              "                                                      20, 25, 30],\n",
              "                                        'max_leaf_nodes': [1, 3, 5, 7, 10, 13,\n",
              "                                                           15, 20, 25, 30, 35,\n",
              "                                                           40]},\n",
              "                   random_state=2, scoring='roc_auc', verbose=3)"
            ]
          },
          "metadata": {},
          "execution_count": 102
        }
      ],
      "source": [
        "#verbose = genera mensajes durante el entramiento del modelo 'Fitting 5 folds...'\n",
        "\n",
        "#roc_auc = curva AUC-ROC es la métrica de selección del modelo para el problema de clasificación \n",
        "#de dos clases múltiples.ROC nos dice qué tan bueno es el modelo para distinguir las clases dadas, \n",
        "#en términos de la probabilidad predicha.\n",
        "\n",
        "#n_jobs = número de nucleos que se utilizan (-1 quiere decir que se utilizan todos)\n",
        "\n",
        "r_s_model_3 = RandomizedSearchCV(hb_model , param_distributions=params, n_iter=5, \n",
        "                               scoring='roc_auc',n_jobs=-1,cv=5,verbose=3,random_state = 2)\n",
        "r_s_model_3.fit(X_train_HB, y_training_HB)"
      ]
    },
    {
      "cell_type": "markdown",
      "metadata": {
        "id": "4r2omX7G2OdJ"
      },
      "source": [
        "Bien, nuestro modelo ha sido ajustado. Veamos ahora todos los parámetros que han sido seleccionados por el RandomizedSearch() para el GBClassifier. Podemos hacerlo con la ayuda del método best_estimators_."
      ]
    },
    {
      "cell_type": "code",
      "execution_count": 103,
      "metadata": {
        "colab": {
          "base_uri": "https://localhost:8080/"
        },
        "outputId": "34fb2766-2a03-4be1-f1d1-bf8cc0520192",
        "id": "QVrCORkP2OdJ"
      },
      "outputs": [
        {
          "output_type": "execute_result",
          "data": {
            "text/plain": [
              "HistGradientBoostingClassifier(learning_rate=0.2, max_depth=30,\n",
              "                               max_leaf_nodes=40)"
            ]
          },
          "metadata": {},
          "execution_count": 103
        }
      ],
      "source": [
        "r_s_model_3.best_estimator_"
      ]
    },
    {
      "cell_type": "code",
      "execution_count": 104,
      "metadata": {
        "id": "aAUvK94R2OdJ"
      },
      "outputs": [],
      "source": [
        "#Cuanto mayor sea gamma, más conservador será el algoritmo\n",
        "#min_child_weight: para controlar el sobreajuste, cuanto mayor sea min_child_weight, más conservador será el algoritmo\n",
        "\n",
        "params = {\n",
        "'max_leaf_nodes': [36,38,40,42,44,46],\n",
        " 'learning_rate' : [0.05,0.10,0.15,0.20,0.25,0.30],\n",
        " 'max_depth' : [26,28,30,32,34,36],\n",
        "}"
      ]
    },
    {
      "cell_type": "markdown",
      "metadata": {
        "id": "L2g76Zfo2OdK"
      },
      "source": [
        "Una vez conozco los valores de hiperparámetros, vuelvo a buscar la optimización de los mismos, pero esta vez afinando más."
      ]
    },
    {
      "cell_type": "code",
      "execution_count": 105,
      "metadata": {
        "colab": {
          "base_uri": "https://localhost:8080/"
        },
        "outputId": "47cc4197-467f-40da-ee6d-ac252bea01c8",
        "scrolled": false,
        "id": "qobPLigP2OdK"
      },
      "outputs": [
        {
          "output_type": "stream",
          "name": "stdout",
          "text": [
            "Fitting 5 folds for each of 5 candidates, totalling 25 fits\n"
          ]
        },
        {
          "output_type": "execute_result",
          "data": {
            "text/plain": [
              "RandomizedSearchCV(cv=5, estimator=HistGradientBoostingClassifier(), n_iter=5,\n",
              "                   n_jobs=-1,\n",
              "                   param_distributions={'learning_rate': [0.05, 0.1, 0.15, 0.2,\n",
              "                                                          0.25, 0.3],\n",
              "                                        'max_depth': [26, 28, 30, 32, 34, 36],\n",
              "                                        'max_leaf_nodes': [36, 38, 40, 42, 44,\n",
              "                                                           46]},\n",
              "                   random_state=2, scoring='roc_auc', verbose=3)"
            ]
          },
          "metadata": {},
          "execution_count": 105
        }
      ],
      "source": [
        "#verbose = genera mensajes durante el entramiento del modelo 'Fitting 5 folds...'\n",
        "\n",
        "#roc_auc = curva AUC-ROC es la métrica de selección del modelo para el problema de clasificación \n",
        "#de dos clases múltiples.ROC nos dice qué tan bueno es el modelo para distinguir las clases dadas, \n",
        "#en términos de la probabilidad predicha.\n",
        "\n",
        "#n_jobs = número de nucleos que se utilizan (-1 quiere decir que se utilizan todos)\n",
        "\n",
        "r_s_model_3 = RandomizedSearchCV(hb_model , param_distributions=params, n_iter=5, \n",
        "                               scoring='roc_auc',n_jobs=-1,cv=5,verbose=3,random_state = 2)\n",
        "r_s_model_3.fit(X_train_HB, y_training_HB)"
      ]
    },
    {
      "cell_type": "code",
      "execution_count": 106,
      "metadata": {
        "colab": {
          "base_uri": "https://localhost:8080/"
        },
        "outputId": "4231ed65-add3-4e3c-ddaa-d35d42b10526",
        "id": "TRgnUORm2OdK"
      },
      "outputs": [
        {
          "output_type": "execute_result",
          "data": {
            "text/plain": [
              "HistGradientBoostingClassifier(learning_rate=0.25, max_depth=32,\n",
              "                               max_leaf_nodes=44)"
            ]
          },
          "metadata": {},
          "execution_count": 106
        }
      ],
      "source": [
        "r_s_model_3.best_estimator_"
      ]
    },
    {
      "cell_type": "code",
      "source": [
        "hb_model.fit(X_train_HB, y_training_HB)"
      ],
      "metadata": {
        "id": "c0L5yQ_92OdK",
        "outputId": "7f5d8919-7cd1-4760-a047-f6ecdc5fe707",
        "colab": {
          "base_uri": "https://localhost:8080/"
        }
      },
      "execution_count": 107,
      "outputs": [
        {
          "output_type": "execute_result",
          "data": {
            "text/plain": [
              "HistGradientBoostingClassifier()"
            ]
          },
          "metadata": {},
          "execution_count": 107
        }
      ]
    },
    {
      "cell_type": "markdown",
      "metadata": {
        "id": "y1_KXOI-2l5c"
      },
      "source": [
        "## 1.4 Rendimiento con FS en el conjunto de test"
      ]
    },
    {
      "cell_type": "code",
      "execution_count": 108,
      "metadata": {
        "colab": {
          "base_uri": "https://localhost:8080/"
        },
        "outputId": "d88508d5-c969-4107-8691-8aee4dd121b9",
        "id": "W0NXqhrN2l5d"
      },
      "outputs": [
        {
          "output_type": "execute_result",
          "data": {
            "text/plain": [
              "HistGradientBoostingClassifier(learning_rate=0.25, max_depth=32,\n",
              "                               max_leaf_nodes=44)"
            ]
          },
          "metadata": {},
          "execution_count": 108
        }
      ],
      "source": [
        "hb_FS = HistGradientBoostingClassifier(learning_rate=0.25, max_depth=32, max_leaf_nodes=44)\n",
        "hb_FS.fit(X_train_HB, y_training_HB)"
      ]
    },
    {
      "cell_type": "code",
      "execution_count": 109,
      "metadata": {
        "colab": {
          "base_uri": "https://localhost:8080/",
          "height": 175
        },
        "outputId": "0f5f5a60-2302-47b9-93e5-c65c72a2e47a",
        "id": "0cCXNAt42l5d"
      },
      "outputs": [
        {
          "output_type": "execute_result",
          "data": {
            "text/plain": [
              "  Prestaciones en test  HBoost total\n",
              "0             Accuracy      0.750000\n",
              "1          Sensitivity      0.333333\n",
              "2          Specificity      0.823529\n",
              "3              AUC ROC      0.578431"
            ],
            "text/html": [
              "\n",
              "  <div id=\"df-fe259d0c-42c6-4d3b-8e41-b9f8e778f9dd\">\n",
              "    <div class=\"colab-df-container\">\n",
              "      <div>\n",
              "<style scoped>\n",
              "    .dataframe tbody tr th:only-of-type {\n",
              "        vertical-align: middle;\n",
              "    }\n",
              "\n",
              "    .dataframe tbody tr th {\n",
              "        vertical-align: top;\n",
              "    }\n",
              "\n",
              "    .dataframe thead th {\n",
              "        text-align: right;\n",
              "    }\n",
              "</style>\n",
              "<table border=\"1\" class=\"dataframe\">\n",
              "  <thead>\n",
              "    <tr style=\"text-align: right;\">\n",
              "      <th></th>\n",
              "      <th>Prestaciones en test</th>\n",
              "      <th>HBoost total</th>\n",
              "    </tr>\n",
              "  </thead>\n",
              "  <tbody>\n",
              "    <tr>\n",
              "      <th>0</th>\n",
              "      <td>Accuracy</td>\n",
              "      <td>0.750000</td>\n",
              "    </tr>\n",
              "    <tr>\n",
              "      <th>1</th>\n",
              "      <td>Sensitivity</td>\n",
              "      <td>0.333333</td>\n",
              "    </tr>\n",
              "    <tr>\n",
              "      <th>2</th>\n",
              "      <td>Specificity</td>\n",
              "      <td>0.823529</td>\n",
              "    </tr>\n",
              "    <tr>\n",
              "      <th>3</th>\n",
              "      <td>AUC ROC</td>\n",
              "      <td>0.578431</td>\n",
              "    </tr>\n",
              "  </tbody>\n",
              "</table>\n",
              "</div>\n",
              "      <button class=\"colab-df-convert\" onclick=\"convertToInteractive('df-fe259d0c-42c6-4d3b-8e41-b9f8e778f9dd')\"\n",
              "              title=\"Convert this dataframe to an interactive table.\"\n",
              "              style=\"display:none;\">\n",
              "        \n",
              "  <svg xmlns=\"http://www.w3.org/2000/svg\" height=\"24px\"viewBox=\"0 0 24 24\"\n",
              "       width=\"24px\">\n",
              "    <path d=\"M0 0h24v24H0V0z\" fill=\"none\"/>\n",
              "    <path d=\"M18.56 5.44l.94 2.06.94-2.06 2.06-.94-2.06-.94-.94-2.06-.94 2.06-2.06.94zm-11 1L8.5 8.5l.94-2.06 2.06-.94-2.06-.94L8.5 2.5l-.94 2.06-2.06.94zm10 10l.94 2.06.94-2.06 2.06-.94-2.06-.94-.94-2.06-.94 2.06-2.06.94z\"/><path d=\"M17.41 7.96l-1.37-1.37c-.4-.4-.92-.59-1.43-.59-.52 0-1.04.2-1.43.59L10.3 9.45l-7.72 7.72c-.78.78-.78 2.05 0 2.83L4 21.41c.39.39.9.59 1.41.59.51 0 1.02-.2 1.41-.59l7.78-7.78 2.81-2.81c.8-.78.8-2.07 0-2.86zM5.41 20L4 18.59l7.72-7.72 1.47 1.35L5.41 20z\"/>\n",
              "  </svg>\n",
              "      </button>\n",
              "      \n",
              "  <style>\n",
              "    .colab-df-container {\n",
              "      display:flex;\n",
              "      flex-wrap:wrap;\n",
              "      gap: 12px;\n",
              "    }\n",
              "\n",
              "    .colab-df-convert {\n",
              "      background-color: #E8F0FE;\n",
              "      border: none;\n",
              "      border-radius: 50%;\n",
              "      cursor: pointer;\n",
              "      display: none;\n",
              "      fill: #1967D2;\n",
              "      height: 32px;\n",
              "      padding: 0 0 0 0;\n",
              "      width: 32px;\n",
              "    }\n",
              "\n",
              "    .colab-df-convert:hover {\n",
              "      background-color: #E2EBFA;\n",
              "      box-shadow: 0px 1px 2px rgba(60, 64, 67, 0.3), 0px 1px 3px 1px rgba(60, 64, 67, 0.15);\n",
              "      fill: #174EA6;\n",
              "    }\n",
              "\n",
              "    [theme=dark] .colab-df-convert {\n",
              "      background-color: #3B4455;\n",
              "      fill: #D2E3FC;\n",
              "    }\n",
              "\n",
              "    [theme=dark] .colab-df-convert:hover {\n",
              "      background-color: #434B5C;\n",
              "      box-shadow: 0px 1px 3px 1px rgba(0, 0, 0, 0.15);\n",
              "      filter: drop-shadow(0px 1px 2px rgba(0, 0, 0, 0.3));\n",
              "      fill: #FFFFFF;\n",
              "    }\n",
              "  </style>\n",
              "\n",
              "      <script>\n",
              "        const buttonEl =\n",
              "          document.querySelector('#df-fe259d0c-42c6-4d3b-8e41-b9f8e778f9dd button.colab-df-convert');\n",
              "        buttonEl.style.display =\n",
              "          google.colab.kernel.accessAllowed ? 'block' : 'none';\n",
              "\n",
              "        async function convertToInteractive(key) {\n",
              "          const element = document.querySelector('#df-fe259d0c-42c6-4d3b-8e41-b9f8e778f9dd');\n",
              "          const dataTable =\n",
              "            await google.colab.kernel.invokeFunction('convertToInteractive',\n",
              "                                                     [key], {});\n",
              "          if (!dataTable) return;\n",
              "\n",
              "          const docLinkHtml = 'Like what you see? Visit the ' +\n",
              "            '<a target=\"_blank\" href=https://colab.research.google.com/notebooks/data_table.ipynb>data table notebook</a>'\n",
              "            + ' to learn more about interactive tables.';\n",
              "          element.innerHTML = '';\n",
              "          dataTable['output_type'] = 'display_data';\n",
              "          await google.colab.output.renderOutput(dataTable, element);\n",
              "          const docLink = document.createElement('div');\n",
              "          docLink.innerHTML = docLinkHtml;\n",
              "          element.appendChild(docLink);\n",
              "        }\n",
              "      </script>\n",
              "    </div>\n",
              "  </div>\n",
              "  "
            ]
          },
          "metadata": {},
          "execution_count": 109
        }
      ],
      "source": [
        "from sklearn.metrics import roc_auc_score\n",
        "\n",
        "\n",
        "\n",
        "#Todas las características\n",
        "y_pred_tot = hb_model.predict(X_test_HB)\n",
        "acc_tot = accuracy_score(y_testing_HB, y_pred_tot)\n",
        "sensibilidad_tot = recall_score(y_testing_HB, y_pred_tot)\n",
        "#precision_tot=precision_score(y_test, y_pred_tot)\n",
        "specificity_tot = confusion_matrix(y_testing_HB, y_pred_tot)[0][0]/(confusion_matrix(y_testing_HB, y_pred_tot)[0][0]+confusion_matrix(y_testing_HB, y_pred_tot)[0][1])\n",
        "auc_tot = roc_auc_score(y_testing_HB, y_pred_tot)\n",
        "\n",
        "\n",
        "\n",
        "Tabla_hb = pd.DataFrame({\"Prestaciones en test\":[\"Accuracy\",\"Sensitivity\",'Specificity',\"AUC ROC\"],\n",
        "                          \"HBoost total\" : [acc_tot, sensibilidad_tot, specificity_tot, auc_tot]})\n",
        "Tabla_hb"
      ]
    },
    {
      "cell_type": "code",
      "execution_count": 110,
      "metadata": {
        "outputId": "1230a98e-ddae-41e5-deb6-1aa341c6395f",
        "colab": {
          "base_uri": "https://localhost:8080/",
          "height": 367
        },
        "id": "mK9doz-l2l5e"
      },
      "outputs": [
        {
          "output_type": "stream",
          "name": "stderr",
          "text": [
            "/usr/local/lib/python3.7/dist-packages/sklearn/utils/deprecation.py:87: FutureWarning: Function plot_confusion_matrix is deprecated; Function `plot_confusion_matrix` is deprecated in 1.0 and will be removed in 1.2. Use one of the class methods: ConfusionMatrixDisplay.from_predictions or ConfusionMatrixDisplay.from_estimator.\n",
            "  warnings.warn(msg, category=FutureWarning)\n"
          ]
        },
        {
          "output_type": "execute_result",
          "data": {
            "text/plain": [
              "Text(0.5, 1.0, 'HBGBoost 9 features')"
            ]
          },
          "metadata": {},
          "execution_count": 110
        },
        {
          "output_type": "display_data",
          "data": {
            "text/plain": [
              "<Figure size 432x288 with 2 Axes>"
            ],
            "image/png": "[encoded data removed]"
          },
          "metadata": {
            "needs_background": "light"
          }
        }
      ],
      "source": [
        "from sklearn.metrics import plot_confusion_matrix\n",
        "\n",
        "#HBoost all features\n",
        "plot_confusion_matrix(hb_model, X_test_HB, y_testing_HB, display_labels=[\"Sin gravedad\",\"Con gravedad\"],\n",
        "                                 cmap=plt.cm.Blues)\n",
        "plt.title(\"HBGBoost 9 features\")\n"
      ]
    }
  ],
  "metadata": {
    "colab": {
      "name": "Modelos de ML con tendencia temporal",
      "provenance": [],
      "toc_visible": true,
      "include_colab_link": true
    },
    "kernelspec": {
      "display_name": "Python 3 (ipykernel)",
      "language": "python",
      "name": "python3"
    },
    "language_info": {
      "codemirror_mode": {
        "name": "ipython",
        "version": 3
      },
      "file_extension": ".py",
      "mimetype": "text/x-python",
      "name": "python",
      "nbconvert_exporter": "python",
      "pygments_lexer": "ipython3",
      "version": "3.9.7"
    }
  },
  "nbformat": 4,
  "nbformat_minor": 0
}